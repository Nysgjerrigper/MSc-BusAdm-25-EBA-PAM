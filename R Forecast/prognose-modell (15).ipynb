{
 "cells": [
  {
   "cell_type": "markdown",
   "id": "293a37ab",
   "metadata": {
    "_cell_guid": "18c0b6b0-8957-4c01-94a1-260dd68bae85",
    "_uuid": "abd2e7bb-e4b9-4c95-8c83-dc79f8398a69",
    "collapsed": false,
    "jupyter": {
     "outputs_hidden": false
    },
    "papermill": {
     "duration": 0.022389,
     "end_time": "2025-04-22T10:59:35.024786",
     "exception": false,
     "start_time": "2025-04-22T10:59:35.002397",
     "status": "completed"
    },
    "tags": []
   },
   "source": [
    "# Prognoser med LSTM for FPL"
   ]
  },
  {
   "cell_type": "markdown",
   "id": "92f591a8",
   "metadata": {
    "_cell_guid": "53c8c161-669d-4e44-82da-3d6d9ad39527",
    "_uuid": "b6999e43-014f-428a-aef0-4f9ce8045543",
    "collapsed": false,
    "jupyter": {
     "outputs_hidden": false
    },
    "papermill": {
     "duration": 0.020328,
     "end_time": "2025-04-22T10:59:35.067660",
     "exception": false,
     "start_time": "2025-04-22T10:59:35.047332",
     "status": "completed"
    },
    "tags": []
   },
   "source": [
    "## Table of Contents\n",
    "\n",
    "- [Preamble](#0:-Preamble)\n",
    "- [0.2: Bruker inndata](#0.2:-Bruker-inndata)\n",
    "- [Målvakter](#1:-Målvakter)\n",
    "- [Forsvarsspillere](#2:-Forsvarsspillere)\n",
    "- [Midtbanespillere](#3:-Midtbanespillere)\n",
    "- [Angrepsspillere](#4:-Angrepsspillere)\n",
    "- [Eksporter prognoser](#Eksporter)"
   ]
  },
  {
   "cell_type": "markdown",
   "id": "3ab206df",
   "metadata": {
    "_cell_guid": "ddfb6cfc-7e39-4e7d-a9a1-4bab6ca4552e",
    "_uuid": "40458183-6bf5-463a-a977-4b5840a7fb2a",
    "collapsed": false,
    "jupyter": {
     "outputs_hidden": false
    },
    "papermill": {
     "duration": 0.019608,
     "end_time": "2025-04-22T10:59:35.107421",
     "exception": false,
     "start_time": "2025-04-22T10:59:35.087813",
     "status": "completed"
    },
    "tags": []
   },
   "source": [
    "# Viktige endringer\n",
    "\n",
    "- Gjort om data split. Den er ikke lenger tilfeldig trukket med sample. Men velges selv. Per nå er den satt til 2 første sesonger til trening, out-of-sample = pågående sesong\n",
    "\n",
    "# Mangler: \n",
    "- [ ] Forsøker å legget til ekstra evaluerings metrics, få implementert ferdig.\n",
    "- [ ] Fikse siste blokk som forsøker å bruke lstm modellen til å faktisk lage prognoser frem i tid.\n",
    "\n",
    "# Last inn vekter\n",
    "Kaggle Export: The .hdf5 weight files saved in /kaggle/working/ will appear in the \"Output\" section of your Kaggle notebook session after it completes. You can download them from there.\n",
    "Loading Later: Remember, when you want to use these weights later (in another notebook or locally), you MUST:\n",
    "Rebuild the exact same model architecture using keras_model().\n",
    "Compile the model using the exact same optimizer, loss, and metrics.\n",
    "Load the weights using load_model_weights_hdf5().\n",
    "Load the corresponding scaling factors (mu, sigma, numF) to prepare input data and unscale predictions."
   ]
  },
  {
   "cell_type": "markdown",
   "id": "18d8c5de",
   "metadata": {
    "_cell_guid": "7873f8ad-ecb2-4052-8016-dc0d926663b3",
    "_uuid": "ece34569-5817-489e-a2f8-13328448695c",
    "collapsed": false,
    "jupyter": {
     "outputs_hidden": false
    },
    "papermill": {
     "duration": 0.019558,
     "end_time": "2025-04-22T10:59:35.146970",
     "exception": false,
     "start_time": "2025-04-22T10:59:35.127412",
     "status": "completed"
    },
    "tags": []
   },
   "source": [
    "# Pakker"
   ]
  },
  {
   "cell_type": "code",
   "execution_count": 1,
   "id": "ae089f85",
   "metadata": {
    "_cell_guid": "42aaf67b-1c35-41b9-8cb3-25a9e5a0d087",
    "_uuid": "ecbb8b79-3b9e-470c-97f9-2c46448f60a3",
    "collapsed": false,
    "execution": {
     "iopub.execute_input": "2025-04-22T10:59:35.190449Z",
     "iopub.status.busy": "2025-04-22T10:59:35.188079Z",
     "iopub.status.idle": "2025-04-22T10:59:50.355231Z",
     "shell.execute_reply": "2025-04-22T10:59:50.353422Z"
    },
    "jupyter": {
     "outputs_hidden": false
    },
    "papermill": {
     "duration": 15.190907,
     "end_time": "2025-04-22T10:59:50.357479",
     "exception": false,
     "start_time": "2025-04-22T10:59:35.166572",
     "status": "completed"
    },
    "tags": []
   },
   "outputs": [
    {
     "name": "stderr",
     "output_type": "stream",
     "text": [
      "── \u001b[1mAttaching core tidyverse packages\u001b[22m ──────────────────────── tidyverse 2.0.0 ──\n",
      "\u001b[32m✔\u001b[39m \u001b[34mdplyr    \u001b[39m 1.1.4     \u001b[32m✔\u001b[39m \u001b[34mreadr    \u001b[39m 2.1.5\n",
      "\u001b[32m✔\u001b[39m \u001b[34mforcats  \u001b[39m 1.0.0     \u001b[32m✔\u001b[39m \u001b[34mstringr  \u001b[39m 1.5.1\n",
      "\u001b[32m✔\u001b[39m \u001b[34mggplot2  \u001b[39m 3.5.1     \u001b[32m✔\u001b[39m \u001b[34mtibble   \u001b[39m 3.2.1\n",
      "\u001b[32m✔\u001b[39m \u001b[34mlubridate\u001b[39m 1.9.3     \u001b[32m✔\u001b[39m \u001b[34mtidyr    \u001b[39m 1.3.1\n",
      "\u001b[32m✔\u001b[39m \u001b[34mpurrr    \u001b[39m 1.0.2     \n"
     ]
    },
    {
     "name": "stderr",
     "output_type": "stream",
     "text": [
      "── \u001b[1mConflicts\u001b[22m ────────────────────────────────────────── tidyverse_conflicts() ──\n",
      "\u001b[31m✖\u001b[39m \u001b[34mdplyr\u001b[39m::\u001b[32mfilter()\u001b[39m masks \u001b[34mstats\u001b[39m::filter()\n",
      "\u001b[31m✖\u001b[39m \u001b[34mdplyr\u001b[39m::\u001b[32mlag()\u001b[39m    masks \u001b[34mstats\u001b[39m::lag()\n",
      "\u001b[36mℹ\u001b[39m Use the conflicted package (\u001b[3m\u001b[34m<http://conflicted.r-lib.org/>\u001b[39m\u001b[23m) to force all conflicts to become errors\n"
     ]
    },
    {
     "name": "stderr",
     "output_type": "stream",
     "text": [
      "Loading required package: Matrix\n",
      "\n"
     ]
    },
    {
     "name": "stderr",
     "output_type": "stream",
     "text": [
      "\n",
      "Attaching package: ‘Matrix’\n",
      "\n",
      "\n"
     ]
    },
    {
     "name": "stderr",
     "output_type": "stream",
     "text": [
      "The following objects are masked from ‘package:tidyr’:\n",
      "\n",
      "    expand, pack, unpack\n",
      "\n",
      "\n"
     ]
    },
    {
     "name": "stderr",
     "output_type": "stream",
     "text": [
      "Loaded glmnet 4.1-8\n",
      "\n"
     ]
    },
    {
     "name": "stderr",
     "output_type": "stream",
     "text": [
      "\n",
      "Attaching package: ‘jsonlite’\n",
      "\n",
      "\n"
     ]
    },
    {
     "name": "stderr",
     "output_type": "stream",
     "text": [
      "The following object is masked from ‘package:purrr’:\n",
      "\n",
      "    flatten\n",
      "\n",
      "\n"
     ]
    },
    {
     "data": {
      "text/plain": [
       "tf.Tensor(b'Hello, TensorFlow!', shape=(), dtype=string)"
      ]
     },
     "metadata": {},
     "output_type": "display_data"
    }
   ],
   "source": [
    "rm(list = ls(all = TRUE))\n",
    "\n",
    "## 0: Preamble ----\n",
    "library(keras)\n",
    "library(tidyverse)\n",
    "library(slider)\n",
    "library(tensorflow)\n",
    "library(glmnet)\n",
    "library(httr)\n",
    "library(jsonlite)\n",
    "\n",
    "tf$constant(\"Hello, TensorFlow!\")\n",
    "\n",
    "# Lists to store models and scaling factors per position\n",
    "model_list <- list()\n",
    "scaling_factors <- list()"
   ]
  },
  {
   "cell_type": "markdown",
   "id": "978f4c34",
   "metadata": {
    "_cell_guid": "42b75a0d-2c80-40f6-a80e-692404ea0a1e",
    "_uuid": "ddcc4978-0214-47e3-9f9f-cfe02e44c16a",
    "collapsed": false,
    "jupyter": {
     "outputs_hidden": false
    },
    "papermill": {
     "duration": 0.020375,
     "end_time": "2025-04-22T10:59:50.398828",
     "exception": false,
     "start_time": "2025-04-22T10:59:50.378453",
     "status": "completed"
    },
    "tags": []
   },
   "source": [
    "# Global bruker inndata"
   ]
  },
  {
   "cell_type": "code",
   "execution_count": 2,
   "id": "cf3ea046",
   "metadata": {
    "_cell_guid": "2a005176-b023-4bd6-a3cb-5cae22618162",
    "_uuid": "a3b69538-1b9c-4b24-bdf2-10b19906c5f7",
    "collapsed": false,
    "execution": {
     "iopub.execute_input": "2025-04-22T10:59:50.471432Z",
     "iopub.status.busy": "2025-04-22T10:59:50.441144Z",
     "iopub.status.idle": "2025-04-22T10:59:50.541842Z",
     "shell.execute_reply": "2025-04-22T10:59:50.540021Z"
    },
    "jupyter": {
     "outputs_hidden": false
    },
    "papermill": {
     "duration": 0.125353,
     "end_time": "2025-04-22T10:59:50.544128",
     "exception": false,
     "start_time": "2025-04-22T10:59:50.418775",
     "status": "completed"
    },
    "tags": []
   },
   "outputs": [],
   "source": [
    "# Treningssplitt: in-sample <= split_gw < out-of-sample\n",
    "split_gw <- 38+38\n",
    "\n",
    "# LSTM\n",
    "epoker <- 500\n",
    "vindu <- 3\n",
    "\n",
    "#Metrics for LSTM Models. Alle fungerer ikke fordi noen er for keras 3 eller heter noe annet som jeg ikke finner\n",
    "metrics_regression <- c(\n",
    "  metric_mean_absolute_error(),\n",
    "  metric_mean_squared_error(),\n",
    "  metric_root_mean_squared_error(),\n",
    "  metric_mean_absolute_percentage_error(),\n",
    "  metric_cosine_similarity()\n",
    ")\n",
    "\n",
    "# Til Prognosering, hvor mange uker frem ønsker du å spå fremover\n",
    "antall_uker <- 7\n",
    "\n",
    "# Til patience epoker i callback.\n",
    "# Altså hvor mange epoker skal den vente før den slutter å trene modellen og gå tilbake til siste beste\n",
    "num_patience <- 30"
   ]
  },
  {
   "cell_type": "markdown",
   "id": "2f36d2e6",
   "metadata": {
    "_cell_guid": "67f9a5bc-d472-4572-b997-c0db2888896c",
    "_uuid": "1bf00d8f-3ed2-49fd-a28e-1711801d2855",
    "collapsed": false,
    "jupyter": {
     "outputs_hidden": false
    },
    "papermill": {
     "duration": 0.020297,
     "end_time": "2025-04-22T10:59:50.584665",
     "exception": false,
     "start_time": "2025-04-22T10:59:50.564368",
     "status": "completed"
    },
    "tags": []
   },
   "source": [
    "# Hent data"
   ]
  },
  {
   "cell_type": "code",
   "execution_count": 3,
   "id": "4c016ac6",
   "metadata": {
    "_cell_guid": "33fcd301-2e75-40e0-8a68-98fc3c575b6c",
    "_uuid": "f2c840ea-fffa-4d11-aaa8-eccb3476cef9",
    "collapsed": false,
    "execution": {
     "iopub.execute_input": "2025-04-22T10:59:50.629645Z",
     "iopub.status.busy": "2025-04-22T10:59:50.628079Z",
     "iopub.status.idle": "2025-04-22T10:59:51.391075Z",
     "shell.execute_reply": "2025-04-22T10:59:51.389360Z"
    },
    "jupyter": {
     "outputs_hidden": false
    },
    "papermill": {
     "duration": 0.787401,
     "end_time": "2025-04-22T10:59:51.393317",
     "exception": false,
     "start_time": "2025-04-22T10:59:50.605916",
     "status": "completed"
    },
    "tags": []
   },
   "outputs": [
    {
     "name": "stderr",
     "output_type": "stream",
     "text": [
      "\u001b[1mRows: \u001b[22m\u001b[34m78025\u001b[39m \u001b[1mColumns: \u001b[22m\u001b[34m45\u001b[39m\n"
     ]
    },
    {
     "name": "stderr",
     "output_type": "stream",
     "text": [
      "\u001b[36m──\u001b[39m \u001b[1mColumn specification\u001b[22m \u001b[36m────────────────────────────────────────────────────────\u001b[39m\n",
      "\u001b[1mDelimiter:\u001b[22m \",\"\n",
      "\u001b[31mchr\u001b[39m   (4): name, position, team, opponent_team\n",
      "\u001b[32mdbl\u001b[39m  (39): xP, assists, bonus, bps, clean_sheets, creativity, expected_assis...\n",
      "\u001b[33mlgl\u001b[39m   (1): was_home\n",
      "\u001b[34mdttm\u001b[39m  (1): kickoff_time\n"
     ]
    },
    {
     "name": "stderr",
     "output_type": "stream",
     "text": [
      "\n",
      "\u001b[36mℹ\u001b[39m Use `spec()` to retrieve the full column specification for this data.\n",
      "\u001b[36mℹ\u001b[39m Specify the column types or set `show_col_types = FALSE` to quiet this message.\n"
     ]
    }
   ],
   "source": [
    "df <- read_csv(\"/kaggle/input/ekstra-kolonner-stigende-gw/Ekstra%20kolonner%2C%20stigende%20GW%2C%20alle%20tre%20sesonger(22-24)%2C%20heltall.csv\")\n",
    "alternativsammensatt <- df"
   ]
  },
  {
   "cell_type": "markdown",
   "id": "b52e5b9a",
   "metadata": {
    "_cell_guid": "93cab88e-7b04-4218-b93f-4cfa4cb81078",
    "_uuid": "a92497af-4f37-49f9-820f-efa60a2f6615",
    "collapsed": false,
    "jupyter": {
     "outputs_hidden": false
    },
    "papermill": {
     "duration": 0.020279,
     "end_time": "2025-04-22T10:59:51.465804",
     "exception": false,
     "start_time": "2025-04-22T10:59:51.445525",
     "status": "completed"
    },
    "tags": []
   },
   "source": [
    "## Posisjons Partisjoner"
   ]
  },
  {
   "cell_type": "code",
   "execution_count": 4,
   "id": "79ae7c3f",
   "metadata": {
    "_cell_guid": "4fe76424-216f-432f-b274-6756f9b347cf",
    "_uuid": "d605549c-1083-4388-aae7-46f262d707ca",
    "collapsed": false,
    "execution": {
     "iopub.execute_input": "2025-04-22T10:59:51.510278Z",
     "iopub.status.busy": "2025-04-22T10:59:51.508697Z",
     "iopub.status.idle": "2025-04-22T10:59:52.798969Z",
     "shell.execute_reply": "2025-04-22T10:59:52.797241Z"
    },
    "jupyter": {
     "outputs_hidden": false
    },
    "papermill": {
     "duration": 1.315917,
     "end_time": "2025-04-22T10:59:52.802056",
     "exception": false,
     "start_time": "2025-04-22T10:59:51.486139",
     "status": "completed"
    },
    "tags": []
   },
   "outputs": [
    {
     "data": {
      "text/html": [
       "<dl>\n",
       "\t<dt>$gk</dt>\n",
       "\t\t<dd><table class=\"dataframe\">\n",
       "<caption>A tibble: 1 × 45</caption>\n",
       "<thead>\n",
       "\t<tr><th scope=col>name</th><th scope=col>position</th><th scope=col>team</th><th scope=col>xP</th><th scope=col>assists</th><th scope=col>bonus</th><th scope=col>bps</th><th scope=col>clean_sheets</th><th scope=col>creativity</th><th scope=col>expected_assists</th><th scope=col>⋯</th><th scope=col>transfers_out</th><th scope=col>value</th><th scope=col>was_home</th><th scope=col>yellow_cards</th><th scope=col>GW</th><th scope=col>player_id</th><th scope=col>oID</th><th scope=col>tID</th><th scope=col>hID</th><th scope=col>row_id</th></tr>\n",
       "\t<tr><th scope=col>&lt;chr&gt;</th><th scope=col>&lt;chr&gt;</th><th scope=col>&lt;chr&gt;</th><th scope=col>&lt;dbl&gt;</th><th scope=col>&lt;dbl&gt;</th><th scope=col>&lt;dbl&gt;</th><th scope=col>&lt;dbl&gt;</th><th scope=col>&lt;dbl&gt;</th><th scope=col>&lt;dbl&gt;</th><th scope=col>&lt;dbl&gt;</th><th scope=col>⋯</th><th scope=col>&lt;dbl&gt;</th><th scope=col>&lt;dbl&gt;</th><th scope=col>&lt;lgl&gt;</th><th scope=col>&lt;dbl&gt;</th><th scope=col>&lt;dbl&gt;</th><th scope=col>&lt;dbl&gt;</th><th scope=col>&lt;dbl&gt;</th><th scope=col>&lt;dbl&gt;</th><th scope=col>&lt;dbl&gt;</th><th scope=col>&lt;dbl&gt;</th></tr>\n",
       "</thead>\n",
       "<tbody>\n",
       "\t<tr><td>Aaron Ramsdale</td><td>GK</td><td>Arsenal</td><td>3.6</td><td>0</td><td>0</td><td>25</td><td>1</td><td>0</td><td>0</td><td>⋯</td><td>0</td><td>50</td><td>FALSE</td><td>0</td><td>1</td><td>5</td><td>8</td><td>1</td><td>0</td><td>260</td></tr>\n",
       "</tbody>\n",
       "</table>\n",
       "</dd>\n",
       "\t<dt>$def</dt>\n",
       "\t\t<dd><table class=\"dataframe\">\n",
       "<caption>A tibble: 1 × 45</caption>\n",
       "<thead>\n",
       "\t<tr><th scope=col>name</th><th scope=col>position</th><th scope=col>team</th><th scope=col>xP</th><th scope=col>assists</th><th scope=col>bonus</th><th scope=col>bps</th><th scope=col>clean_sheets</th><th scope=col>creativity</th><th scope=col>expected_assists</th><th scope=col>⋯</th><th scope=col>transfers_out</th><th scope=col>value</th><th scope=col>was_home</th><th scope=col>yellow_cards</th><th scope=col>GW</th><th scope=col>player_id</th><th scope=col>oID</th><th scope=col>tID</th><th scope=col>hID</th><th scope=col>row_id</th></tr>\n",
       "\t<tr><th scope=col>&lt;chr&gt;</th><th scope=col>&lt;chr&gt;</th><th scope=col>&lt;chr&gt;</th><th scope=col>&lt;dbl&gt;</th><th scope=col>&lt;dbl&gt;</th><th scope=col>&lt;dbl&gt;</th><th scope=col>&lt;dbl&gt;</th><th scope=col>&lt;dbl&gt;</th><th scope=col>&lt;dbl&gt;</th><th scope=col>&lt;dbl&gt;</th><th scope=col>⋯</th><th scope=col>&lt;dbl&gt;</th><th scope=col>&lt;dbl&gt;</th><th scope=col>&lt;lgl&gt;</th><th scope=col>&lt;dbl&gt;</th><th scope=col>&lt;dbl&gt;</th><th scope=col>&lt;dbl&gt;</th><th scope=col>&lt;dbl&gt;</th><th scope=col>&lt;dbl&gt;</th><th scope=col>&lt;dbl&gt;</th><th scope=col>&lt;dbl&gt;</th></tr>\n",
       "</thead>\n",
       "<tbody>\n",
       "\t<tr><td>Aaron Anselmino</td><td>DEF</td><td>Chelsea</td><td>1.8</td><td>0</td><td>0</td><td>0</td><td>0</td><td>0</td><td>0</td><td>⋯</td><td>0</td><td>40</td><td>FALSE</td><td>0</td><td>101</td><td>1</td><td>5</td><td>7</td><td>0</td><td>1</td></tr>\n",
       "</tbody>\n",
       "</table>\n",
       "</dd>\n",
       "\t<dt>$mid</dt>\n",
       "\t\t<dd><table class=\"dataframe\">\n",
       "<caption>A tibble: 1 × 45</caption>\n",
       "<thead>\n",
       "\t<tr><th scope=col>name</th><th scope=col>position</th><th scope=col>team</th><th scope=col>xP</th><th scope=col>assists</th><th scope=col>bonus</th><th scope=col>bps</th><th scope=col>clean_sheets</th><th scope=col>creativity</th><th scope=col>expected_assists</th><th scope=col>⋯</th><th scope=col>transfers_out</th><th scope=col>value</th><th scope=col>was_home</th><th scope=col>yellow_cards</th><th scope=col>GW</th><th scope=col>player_id</th><th scope=col>oID</th><th scope=col>tID</th><th scope=col>hID</th><th scope=col>row_id</th></tr>\n",
       "\t<tr><th scope=col>&lt;chr&gt;</th><th scope=col>&lt;chr&gt;</th><th scope=col>&lt;chr&gt;</th><th scope=col>&lt;dbl&gt;</th><th scope=col>&lt;dbl&gt;</th><th scope=col>&lt;dbl&gt;</th><th scope=col>&lt;dbl&gt;</th><th scope=col>&lt;dbl&gt;</th><th scope=col>&lt;dbl&gt;</th><th scope=col>&lt;dbl&gt;</th><th scope=col>⋯</th><th scope=col>&lt;dbl&gt;</th><th scope=col>&lt;dbl&gt;</th><th scope=col>&lt;lgl&gt;</th><th scope=col>&lt;dbl&gt;</th><th scope=col>&lt;dbl&gt;</th><th scope=col>&lt;dbl&gt;</th><th scope=col>&lt;dbl&gt;</th><th scope=col>&lt;dbl&gt;</th><th scope=col>&lt;dbl&gt;</th><th scope=col>&lt;dbl&gt;</th></tr>\n",
       "</thead>\n",
       "<tbody>\n",
       "\t<tr><td>Aaron Ramsey</td><td>MID</td><td>Burnley</td><td>1.2</td><td>0</td><td>0</td><td>3</td><td>0</td><td>1</td><td>0.01</td><td>⋯</td><td>51</td><td>50</td><td>TRUE</td><td>0</td><td>41</td><td>6</td><td>2</td><td>6</td><td>1</td><td>367</td></tr>\n",
       "</tbody>\n",
       "</table>\n",
       "</dd>\n",
       "\t<dt>$fwd</dt>\n",
       "\t\t<dd><table class=\"dataframe\">\n",
       "<caption>A tibble: 1 × 45</caption>\n",
       "<thead>\n",
       "\t<tr><th scope=col>name</th><th scope=col>position</th><th scope=col>team</th><th scope=col>xP</th><th scope=col>assists</th><th scope=col>bonus</th><th scope=col>bps</th><th scope=col>clean_sheets</th><th scope=col>creativity</th><th scope=col>expected_assists</th><th scope=col>⋯</th><th scope=col>transfers_out</th><th scope=col>value</th><th scope=col>was_home</th><th scope=col>yellow_cards</th><th scope=col>GW</th><th scope=col>player_id</th><th scope=col>oID</th><th scope=col>tID</th><th scope=col>hID</th><th scope=col>row_id</th></tr>\n",
       "\t<tr><th scope=col>&lt;chr&gt;</th><th scope=col>&lt;chr&gt;</th><th scope=col>&lt;chr&gt;</th><th scope=col>&lt;dbl&gt;</th><th scope=col>&lt;dbl&gt;</th><th scope=col>&lt;dbl&gt;</th><th scope=col>&lt;dbl&gt;</th><th scope=col>&lt;dbl&gt;</th><th scope=col>&lt;dbl&gt;</th><th scope=col>&lt;dbl&gt;</th><th scope=col>⋯</th><th scope=col>&lt;dbl&gt;</th><th scope=col>&lt;dbl&gt;</th><th scope=col>&lt;lgl&gt;</th><th scope=col>&lt;dbl&gt;</th><th scope=col>&lt;dbl&gt;</th><th scope=col>&lt;dbl&gt;</th><th scope=col>&lt;dbl&gt;</th><th scope=col>&lt;dbl&gt;</th><th scope=col>&lt;dbl&gt;</th><th scope=col>&lt;dbl&gt;</th></tr>\n",
       "</thead>\n",
       "<tbody>\n",
       "\t<tr><td>Aaron Connolly</td><td>FWD</td><td>Brighton</td><td>0</td><td>0</td><td>0</td><td>0</td><td>0</td><td>0</td><td>0</td><td>⋯</td><td>0</td><td>45</td><td>TRUE</td><td>0</td><td>39</td><td>2</td><td>15</td><td>5</td><td>1</td><td>8</td></tr>\n",
       "</tbody>\n",
       "</table>\n",
       "</dd>\n",
       "</dl>\n"
      ],
      "text/latex": [
       "\\begin{description}\n",
       "\\item[\\$gk] A tibble: 1 × 45\n",
       "\\begin{tabular}{lllllllllllllllllllll}\n",
       " name & position & team & xP & assists & bonus & bps & clean\\_sheets & creativity & expected\\_assists & ⋯ & transfers\\_out & value & was\\_home & yellow\\_cards & GW & player\\_id & oID & tID & hID & row\\_id\\\\\n",
       " <chr> & <chr> & <chr> & <dbl> & <dbl> & <dbl> & <dbl> & <dbl> & <dbl> & <dbl> & ⋯ & <dbl> & <dbl> & <lgl> & <dbl> & <dbl> & <dbl> & <dbl> & <dbl> & <dbl> & <dbl>\\\\\n",
       "\\hline\n",
       "\t Aaron Ramsdale & GK & Arsenal & 3.6 & 0 & 0 & 25 & 1 & 0 & 0 & ⋯ & 0 & 50 & FALSE & 0 & 1 & 5 & 8 & 1 & 0 & 260\\\\\n",
       "\\end{tabular}\n",
       "\n",
       "\\item[\\$def] A tibble: 1 × 45\n",
       "\\begin{tabular}{lllllllllllllllllllll}\n",
       " name & position & team & xP & assists & bonus & bps & clean\\_sheets & creativity & expected\\_assists & ⋯ & transfers\\_out & value & was\\_home & yellow\\_cards & GW & player\\_id & oID & tID & hID & row\\_id\\\\\n",
       " <chr> & <chr> & <chr> & <dbl> & <dbl> & <dbl> & <dbl> & <dbl> & <dbl> & <dbl> & ⋯ & <dbl> & <dbl> & <lgl> & <dbl> & <dbl> & <dbl> & <dbl> & <dbl> & <dbl> & <dbl>\\\\\n",
       "\\hline\n",
       "\t Aaron Anselmino & DEF & Chelsea & 1.8 & 0 & 0 & 0 & 0 & 0 & 0 & ⋯ & 0 & 40 & FALSE & 0 & 101 & 1 & 5 & 7 & 0 & 1\\\\\n",
       "\\end{tabular}\n",
       "\n",
       "\\item[\\$mid] A tibble: 1 × 45\n",
       "\\begin{tabular}{lllllllllllllllllllll}\n",
       " name & position & team & xP & assists & bonus & bps & clean\\_sheets & creativity & expected\\_assists & ⋯ & transfers\\_out & value & was\\_home & yellow\\_cards & GW & player\\_id & oID & tID & hID & row\\_id\\\\\n",
       " <chr> & <chr> & <chr> & <dbl> & <dbl> & <dbl> & <dbl> & <dbl> & <dbl> & <dbl> & ⋯ & <dbl> & <dbl> & <lgl> & <dbl> & <dbl> & <dbl> & <dbl> & <dbl> & <dbl> & <dbl>\\\\\n",
       "\\hline\n",
       "\t Aaron Ramsey & MID & Burnley & 1.2 & 0 & 0 & 3 & 0 & 1 & 0.01 & ⋯ & 51 & 50 & TRUE & 0 & 41 & 6 & 2 & 6 & 1 & 367\\\\\n",
       "\\end{tabular}\n",
       "\n",
       "\\item[\\$fwd] A tibble: 1 × 45\n",
       "\\begin{tabular}{lllllllllllllllllllll}\n",
       " name & position & team & xP & assists & bonus & bps & clean\\_sheets & creativity & expected\\_assists & ⋯ & transfers\\_out & value & was\\_home & yellow\\_cards & GW & player\\_id & oID & tID & hID & row\\_id\\\\\n",
       " <chr> & <chr> & <chr> & <dbl> & <dbl> & <dbl> & <dbl> & <dbl> & <dbl> & <dbl> & ⋯ & <dbl> & <dbl> & <lgl> & <dbl> & <dbl> & <dbl> & <dbl> & <dbl> & <dbl> & <dbl>\\\\\n",
       "\\hline\n",
       "\t Aaron Connolly & FWD & Brighton & 0 & 0 & 0 & 0 & 0 & 0 & 0 & ⋯ & 0 & 45 & TRUE & 0 & 39 & 2 & 15 & 5 & 1 & 8\\\\\n",
       "\\end{tabular}\n",
       "\n",
       "\\end{description}\n"
      ],
      "text/markdown": [
       "$gk\n",
       ":   \n",
       "A tibble: 1 × 45\n",
       "\n",
       "| name &lt;chr&gt; | position &lt;chr&gt; | team &lt;chr&gt; | xP &lt;dbl&gt; | assists &lt;dbl&gt; | bonus &lt;dbl&gt; | bps &lt;dbl&gt; | clean_sheets &lt;dbl&gt; | creativity &lt;dbl&gt; | expected_assists &lt;dbl&gt; | ⋯ ⋯ | transfers_out &lt;dbl&gt; | value &lt;dbl&gt; | was_home &lt;lgl&gt; | yellow_cards &lt;dbl&gt; | GW &lt;dbl&gt; | player_id &lt;dbl&gt; | oID &lt;dbl&gt; | tID &lt;dbl&gt; | hID &lt;dbl&gt; | row_id &lt;dbl&gt; |\n",
       "|---|---|---|---|---|---|---|---|---|---|---|---|---|---|---|---|---|---|---|---|---|\n",
       "| Aaron Ramsdale | GK | Arsenal | 3.6 | 0 | 0 | 25 | 1 | 0 | 0 | ⋯ | 0 | 50 | FALSE | 0 | 1 | 5 | 8 | 1 | 0 | 260 |\n",
       "\n",
       "\n",
       "$def\n",
       ":   \n",
       "A tibble: 1 × 45\n",
       "\n",
       "| name &lt;chr&gt; | position &lt;chr&gt; | team &lt;chr&gt; | xP &lt;dbl&gt; | assists &lt;dbl&gt; | bonus &lt;dbl&gt; | bps &lt;dbl&gt; | clean_sheets &lt;dbl&gt; | creativity &lt;dbl&gt; | expected_assists &lt;dbl&gt; | ⋯ ⋯ | transfers_out &lt;dbl&gt; | value &lt;dbl&gt; | was_home &lt;lgl&gt; | yellow_cards &lt;dbl&gt; | GW &lt;dbl&gt; | player_id &lt;dbl&gt; | oID &lt;dbl&gt; | tID &lt;dbl&gt; | hID &lt;dbl&gt; | row_id &lt;dbl&gt; |\n",
       "|---|---|---|---|---|---|---|---|---|---|---|---|---|---|---|---|---|---|---|---|---|\n",
       "| Aaron Anselmino | DEF | Chelsea | 1.8 | 0 | 0 | 0 | 0 | 0 | 0 | ⋯ | 0 | 40 | FALSE | 0 | 101 | 1 | 5 | 7 | 0 | 1 |\n",
       "\n",
       "\n",
       "$mid\n",
       ":   \n",
       "A tibble: 1 × 45\n",
       "\n",
       "| name &lt;chr&gt; | position &lt;chr&gt; | team &lt;chr&gt; | xP &lt;dbl&gt; | assists &lt;dbl&gt; | bonus &lt;dbl&gt; | bps &lt;dbl&gt; | clean_sheets &lt;dbl&gt; | creativity &lt;dbl&gt; | expected_assists &lt;dbl&gt; | ⋯ ⋯ | transfers_out &lt;dbl&gt; | value &lt;dbl&gt; | was_home &lt;lgl&gt; | yellow_cards &lt;dbl&gt; | GW &lt;dbl&gt; | player_id &lt;dbl&gt; | oID &lt;dbl&gt; | tID &lt;dbl&gt; | hID &lt;dbl&gt; | row_id &lt;dbl&gt; |\n",
       "|---|---|---|---|---|---|---|---|---|---|---|---|---|---|---|---|---|---|---|---|---|\n",
       "| Aaron Ramsey | MID | Burnley | 1.2 | 0 | 0 | 3 | 0 | 1 | 0.01 | ⋯ | 51 | 50 | TRUE | 0 | 41 | 6 | 2 | 6 | 1 | 367 |\n",
       "\n",
       "\n",
       "$fwd\n",
       ":   \n",
       "A tibble: 1 × 45\n",
       "\n",
       "| name &lt;chr&gt; | position &lt;chr&gt; | team &lt;chr&gt; | xP &lt;dbl&gt; | assists &lt;dbl&gt; | bonus &lt;dbl&gt; | bps &lt;dbl&gt; | clean_sheets &lt;dbl&gt; | creativity &lt;dbl&gt; | expected_assists &lt;dbl&gt; | ⋯ ⋯ | transfers_out &lt;dbl&gt; | value &lt;dbl&gt; | was_home &lt;lgl&gt; | yellow_cards &lt;dbl&gt; | GW &lt;dbl&gt; | player_id &lt;dbl&gt; | oID &lt;dbl&gt; | tID &lt;dbl&gt; | hID &lt;dbl&gt; | row_id &lt;dbl&gt; |\n",
       "|---|---|---|---|---|---|---|---|---|---|---|---|---|---|---|---|---|---|---|---|---|\n",
       "| Aaron Connolly | FWD | Brighton | 0 | 0 | 0 | 0 | 0 | 0 | 0 | ⋯ | 0 | 45 | TRUE | 0 | 39 | 2 | 15 | 5 | 1 | 8 |\n",
       "\n",
       "\n",
       "\n",
       "\n"
      ],
      "text/plain": [
       "$gk\n",
       "\u001b[90m# A tibble: 1 × 45\u001b[39m\n",
       "  name          position team     xP assists bonus   bps clean_sheets creativity\n",
       "  \u001b[3m\u001b[90m<chr>\u001b[39m\u001b[23m         \u001b[3m\u001b[90m<chr>\u001b[39m\u001b[23m    \u001b[3m\u001b[90m<chr>\u001b[39m\u001b[23m \u001b[3m\u001b[90m<dbl>\u001b[39m\u001b[23m   \u001b[3m\u001b[90m<dbl>\u001b[39m\u001b[23m \u001b[3m\u001b[90m<dbl>\u001b[39m\u001b[23m \u001b[3m\u001b[90m<dbl>\u001b[39m\u001b[23m        \u001b[3m\u001b[90m<dbl>\u001b[39m\u001b[23m      \u001b[3m\u001b[90m<dbl>\u001b[39m\u001b[23m\n",
       "\u001b[90m1\u001b[39m Aaron Ramsda… GK       Arse…   3.6       0     0    25            1          0\n",
       "\u001b[90m# ℹ 36 more variables: expected_assists <dbl>,\u001b[39m\n",
       "\u001b[90m#   expected_goal_involvements <dbl>, expected_goals <dbl>,\u001b[39m\n",
       "\u001b[90m#   expected_goals_conceded <dbl>, fixture <dbl>, goals_conceded <dbl>,\u001b[39m\n",
       "\u001b[90m#   goals_scored <dbl>, ict_index <dbl>, influence <dbl>, kickoff_time <dttm>,\u001b[39m\n",
       "\u001b[90m#   minutes <dbl>, opponent_team <chr>, own_goals <dbl>,\u001b[39m\n",
       "\u001b[90m#   penalties_missed <dbl>, penalties_saved <dbl>, red_cards <dbl>,\u001b[39m\n",
       "\u001b[90m#   round <dbl>, saves <dbl>, selected <dbl>, starts <dbl>, …\u001b[39m\n",
       "\n",
       "$def\n",
       "\u001b[90m# A tibble: 1 × 45\u001b[39m\n",
       "  name          position team     xP assists bonus   bps clean_sheets creativity\n",
       "  \u001b[3m\u001b[90m<chr>\u001b[39m\u001b[23m         \u001b[3m\u001b[90m<chr>\u001b[39m\u001b[23m    \u001b[3m\u001b[90m<chr>\u001b[39m\u001b[23m \u001b[3m\u001b[90m<dbl>\u001b[39m\u001b[23m   \u001b[3m\u001b[90m<dbl>\u001b[39m\u001b[23m \u001b[3m\u001b[90m<dbl>\u001b[39m\u001b[23m \u001b[3m\u001b[90m<dbl>\u001b[39m\u001b[23m        \u001b[3m\u001b[90m<dbl>\u001b[39m\u001b[23m      \u001b[3m\u001b[90m<dbl>\u001b[39m\u001b[23m\n",
       "\u001b[90m1\u001b[39m Aaron Anselm… DEF      Chel…   1.8       0     0     0            0          0\n",
       "\u001b[90m# ℹ 36 more variables: expected_assists <dbl>,\u001b[39m\n",
       "\u001b[90m#   expected_goal_involvements <dbl>, expected_goals <dbl>,\u001b[39m\n",
       "\u001b[90m#   expected_goals_conceded <dbl>, fixture <dbl>, goals_conceded <dbl>,\u001b[39m\n",
       "\u001b[90m#   goals_scored <dbl>, ict_index <dbl>, influence <dbl>, kickoff_time <dttm>,\u001b[39m\n",
       "\u001b[90m#   minutes <dbl>, opponent_team <chr>, own_goals <dbl>,\u001b[39m\n",
       "\u001b[90m#   penalties_missed <dbl>, penalties_saved <dbl>, red_cards <dbl>,\u001b[39m\n",
       "\u001b[90m#   round <dbl>, saves <dbl>, selected <dbl>, starts <dbl>, …\u001b[39m\n",
       "\n",
       "$mid\n",
       "\u001b[90m# A tibble: 1 × 45\u001b[39m\n",
       "  name         position team      xP assists bonus   bps clean_sheets creativity\n",
       "  \u001b[3m\u001b[90m<chr>\u001b[39m\u001b[23m        \u001b[3m\u001b[90m<chr>\u001b[39m\u001b[23m    \u001b[3m\u001b[90m<chr>\u001b[39m\u001b[23m  \u001b[3m\u001b[90m<dbl>\u001b[39m\u001b[23m   \u001b[3m\u001b[90m<dbl>\u001b[39m\u001b[23m \u001b[3m\u001b[90m<dbl>\u001b[39m\u001b[23m \u001b[3m\u001b[90m<dbl>\u001b[39m\u001b[23m        \u001b[3m\u001b[90m<dbl>\u001b[39m\u001b[23m      \u001b[3m\u001b[90m<dbl>\u001b[39m\u001b[23m\n",
       "\u001b[90m1\u001b[39m Aaron Ramsey MID      Burnl…   1.2       0     0     3            0          1\n",
       "\u001b[90m# ℹ 36 more variables: expected_assists <dbl>,\u001b[39m\n",
       "\u001b[90m#   expected_goal_involvements <dbl>, expected_goals <dbl>,\u001b[39m\n",
       "\u001b[90m#   expected_goals_conceded <dbl>, fixture <dbl>, goals_conceded <dbl>,\u001b[39m\n",
       "\u001b[90m#   goals_scored <dbl>, ict_index <dbl>, influence <dbl>, kickoff_time <dttm>,\u001b[39m\n",
       "\u001b[90m#   minutes <dbl>, opponent_team <chr>, own_goals <dbl>,\u001b[39m\n",
       "\u001b[90m#   penalties_missed <dbl>, penalties_saved <dbl>, red_cards <dbl>,\u001b[39m\n",
       "\u001b[90m#   round <dbl>, saves <dbl>, selected <dbl>, starts <dbl>, …\u001b[39m\n",
       "\n",
       "$fwd\n",
       "\u001b[90m# A tibble: 1 × 45\u001b[39m\n",
       "  name          position team     xP assists bonus   bps clean_sheets creativity\n",
       "  \u001b[3m\u001b[90m<chr>\u001b[39m\u001b[23m         \u001b[3m\u001b[90m<chr>\u001b[39m\u001b[23m    \u001b[3m\u001b[90m<chr>\u001b[39m\u001b[23m \u001b[3m\u001b[90m<dbl>\u001b[39m\u001b[23m   \u001b[3m\u001b[90m<dbl>\u001b[39m\u001b[23m \u001b[3m\u001b[90m<dbl>\u001b[39m\u001b[23m \u001b[3m\u001b[90m<dbl>\u001b[39m\u001b[23m        \u001b[3m\u001b[90m<dbl>\u001b[39m\u001b[23m      \u001b[3m\u001b[90m<dbl>\u001b[39m\u001b[23m\n",
       "\u001b[90m1\u001b[39m Aaron Connol… FWD      Brig…     0       0     0     0            0          0\n",
       "\u001b[90m# ℹ 36 more variables: expected_assists <dbl>,\u001b[39m\n",
       "\u001b[90m#   expected_goal_involvements <dbl>, expected_goals <dbl>,\u001b[39m\n",
       "\u001b[90m#   expected_goals_conceded <dbl>, fixture <dbl>, goals_conceded <dbl>,\u001b[39m\n",
       "\u001b[90m#   goals_scored <dbl>, ict_index <dbl>, influence <dbl>, kickoff_time <dttm>,\u001b[39m\n",
       "\u001b[90m#   minutes <dbl>, opponent_team <chr>, own_goals <dbl>,\u001b[39m\n",
       "\u001b[90m#   penalties_missed <dbl>, penalties_saved <dbl>, red_cards <dbl>,\u001b[39m\n",
       "\u001b[90m#   round <dbl>, saves <dbl>, selected <dbl>, starts <dbl>, …\u001b[39m\n"
      ]
     },
     "metadata": {},
     "output_type": "display_data"
    },
    {
     "data": {
      "text/html": [
       "<dl>\n",
       "\t<dt>$gk</dt>\n",
       "\t\t<dd><table class=\"dataframe\">\n",
       "<caption>A tibble: 1 × 45</caption>\n",
       "<thead>\n",
       "\t<tr><th scope=col>name</th><th scope=col>position</th><th scope=col>team</th><th scope=col>xP</th><th scope=col>assists</th><th scope=col>bonus</th><th scope=col>bps</th><th scope=col>clean_sheets</th><th scope=col>creativity</th><th scope=col>expected_assists</th><th scope=col>⋯</th><th scope=col>transfers_out</th><th scope=col>value</th><th scope=col>was_home</th><th scope=col>yellow_cards</th><th scope=col>GW</th><th scope=col>player_id</th><th scope=col>oID</th><th scope=col>tID</th><th scope=col>hID</th><th scope=col>row_id</th></tr>\n",
       "\t<tr><th scope=col>&lt;chr&gt;</th><th scope=col>&lt;chr&gt;</th><th scope=col>&lt;chr&gt;</th><th scope=col>&lt;dbl&gt;</th><th scope=col>&lt;dbl&gt;</th><th scope=col>&lt;dbl&gt;</th><th scope=col>&lt;dbl&gt;</th><th scope=col>&lt;dbl&gt;</th><th scope=col>&lt;dbl&gt;</th><th scope=col>&lt;dbl&gt;</th><th scope=col>⋯</th><th scope=col>&lt;dbl&gt;</th><th scope=col>&lt;dbl&gt;</th><th scope=col>&lt;lgl&gt;</th><th scope=col>&lt;dbl&gt;</th><th scope=col>&lt;dbl&gt;</th><th scope=col>&lt;dbl&gt;</th><th scope=col>&lt;dbl&gt;</th><th scope=col>&lt;dbl&gt;</th><th scope=col>&lt;dbl&gt;</th><th scope=col>&lt;dbl&gt;</th></tr>\n",
       "</thead>\n",
       "<tbody>\n",
       "\t<tr><td>Zack Steffen</td><td>GK</td><td>Man City</td><td>0</td><td>0</td><td>0</td><td>0</td><td>0</td><td>0</td><td>0</td><td>⋯</td><td>154</td><td>39</td><td>TRUE</td><td>0</td><td>76</td><td>1330</td><td>23</td><td>16</td><td>1</td><td>77933</td></tr>\n",
       "</tbody>\n",
       "</table>\n",
       "</dd>\n",
       "\t<dt>$def</dt>\n",
       "\t\t<dd><table class=\"dataframe\">\n",
       "<caption>A tibble: 1 × 45</caption>\n",
       "<thead>\n",
       "\t<tr><th scope=col>name</th><th scope=col>position</th><th scope=col>team</th><th scope=col>xP</th><th scope=col>assists</th><th scope=col>bonus</th><th scope=col>bps</th><th scope=col>clean_sheets</th><th scope=col>creativity</th><th scope=col>expected_assists</th><th scope=col>⋯</th><th scope=col>transfers_out</th><th scope=col>value</th><th scope=col>was_home</th><th scope=col>yellow_cards</th><th scope=col>GW</th><th scope=col>player_id</th><th scope=col>oID</th><th scope=col>tID</th><th scope=col>hID</th><th scope=col>row_id</th></tr>\n",
       "\t<tr><th scope=col>&lt;chr&gt;</th><th scope=col>&lt;chr&gt;</th><th scope=col>&lt;chr&gt;</th><th scope=col>&lt;dbl&gt;</th><th scope=col>&lt;dbl&gt;</th><th scope=col>&lt;dbl&gt;</th><th scope=col>&lt;dbl&gt;</th><th scope=col>&lt;dbl&gt;</th><th scope=col>&lt;dbl&gt;</th><th scope=col>&lt;dbl&gt;</th><th scope=col>⋯</th><th scope=col>&lt;dbl&gt;</th><th scope=col>&lt;dbl&gt;</th><th scope=col>&lt;lgl&gt;</th><th scope=col>&lt;dbl&gt;</th><th scope=col>&lt;dbl&gt;</th><th scope=col>&lt;dbl&gt;</th><th scope=col>&lt;dbl&gt;</th><th scope=col>&lt;dbl&gt;</th><th scope=col>&lt;dbl&gt;</th><th scope=col>&lt;dbl&gt;</th></tr>\n",
       "</thead>\n",
       "<tbody>\n",
       "\t<tr><td>Zak Sturge</td><td>DEF</td><td>Chelsea</td><td>0</td><td>0</td><td>0</td><td>0</td><td>0</td><td>0</td><td>0</td><td>⋯</td><td>16</td><td>40</td><td>TRUE</td><td>0</td><td>76</td><td>1332</td><td>3</td><td>7</td><td>1</td><td>77949</td></tr>\n",
       "</tbody>\n",
       "</table>\n",
       "</dd>\n",
       "\t<dt>$mid</dt>\n",
       "\t\t<dd><table class=\"dataframe\">\n",
       "<caption>A tibble: 1 × 45</caption>\n",
       "<thead>\n",
       "\t<tr><th scope=col>name</th><th scope=col>position</th><th scope=col>team</th><th scope=col>xP</th><th scope=col>assists</th><th scope=col>bonus</th><th scope=col>bps</th><th scope=col>clean_sheets</th><th scope=col>creativity</th><th scope=col>expected_assists</th><th scope=col>⋯</th><th scope=col>transfers_out</th><th scope=col>value</th><th scope=col>was_home</th><th scope=col>yellow_cards</th><th scope=col>GW</th><th scope=col>player_id</th><th scope=col>oID</th><th scope=col>tID</th><th scope=col>hID</th><th scope=col>row_id</th></tr>\n",
       "\t<tr><th scope=col>&lt;chr&gt;</th><th scope=col>&lt;chr&gt;</th><th scope=col>&lt;chr&gt;</th><th scope=col>&lt;dbl&gt;</th><th scope=col>&lt;dbl&gt;</th><th scope=col>&lt;dbl&gt;</th><th scope=col>&lt;dbl&gt;</th><th scope=col>&lt;dbl&gt;</th><th scope=col>&lt;dbl&gt;</th><th scope=col>&lt;dbl&gt;</th><th scope=col>⋯</th><th scope=col>&lt;dbl&gt;</th><th scope=col>&lt;dbl&gt;</th><th scope=col>&lt;lgl&gt;</th><th scope=col>&lt;dbl&gt;</th><th scope=col>&lt;dbl&gt;</th><th scope=col>&lt;dbl&gt;</th><th scope=col>&lt;dbl&gt;</th><th scope=col>&lt;dbl&gt;</th><th scope=col>&lt;dbl&gt;</th><th scope=col>&lt;dbl&gt;</th></tr>\n",
       "</thead>\n",
       "<tbody>\n",
       "\t<tr><td>Zidane Iqbal</td><td>MID</td><td>Man United</td><td>0</td><td>0</td><td>0</td><td>0</td><td>0</td><td>0</td><td>0</td><td>⋯</td><td>119</td><td>42</td><td>TRUE</td><td>0</td><td>38</td><td>1334</td><td>10</td><td>17</td><td>1</td><td>78025</td></tr>\n",
       "</tbody>\n",
       "</table>\n",
       "</dd>\n",
       "\t<dt>$fwd</dt>\n",
       "\t\t<dd><table class=\"dataframe\">\n",
       "<caption>A tibble: 1 × 45</caption>\n",
       "<thead>\n",
       "\t<tr><th scope=col>name</th><th scope=col>position</th><th scope=col>team</th><th scope=col>xP</th><th scope=col>assists</th><th scope=col>bonus</th><th scope=col>bps</th><th scope=col>clean_sheets</th><th scope=col>creativity</th><th scope=col>expected_assists</th><th scope=col>⋯</th><th scope=col>transfers_out</th><th scope=col>value</th><th scope=col>was_home</th><th scope=col>yellow_cards</th><th scope=col>GW</th><th scope=col>player_id</th><th scope=col>oID</th><th scope=col>tID</th><th scope=col>hID</th><th scope=col>row_id</th></tr>\n",
       "\t<tr><th scope=col>&lt;chr&gt;</th><th scope=col>&lt;chr&gt;</th><th scope=col>&lt;chr&gt;</th><th scope=col>&lt;dbl&gt;</th><th scope=col>&lt;dbl&gt;</th><th scope=col>&lt;dbl&gt;</th><th scope=col>&lt;dbl&gt;</th><th scope=col>&lt;dbl&gt;</th><th scope=col>&lt;dbl&gt;</th><th scope=col>&lt;dbl&gt;</th><th scope=col>⋯</th><th scope=col>&lt;dbl&gt;</th><th scope=col>&lt;dbl&gt;</th><th scope=col>&lt;lgl&gt;</th><th scope=col>&lt;dbl&gt;</th><th scope=col>&lt;dbl&gt;</th><th scope=col>&lt;dbl&gt;</th><th scope=col>&lt;dbl&gt;</th><th scope=col>&lt;dbl&gt;</th><th scope=col>&lt;dbl&gt;</th><th scope=col>&lt;dbl&gt;</th></tr>\n",
       "</thead>\n",
       "<tbody>\n",
       "\t<tr><td>Zeki Amdouni</td><td>FWD</td><td>Burnley</td><td>2.3</td><td>0</td><td>0</td><td>-2</td><td>0</td><td>14.3</td><td>0.04</td><td>⋯</td><td>795</td><td>51</td><td>TRUE</td><td>0</td><td>76</td><td>1333</td><td>19</td><td>6</td><td>1</td><td>77987</td></tr>\n",
       "</tbody>\n",
       "</table>\n",
       "</dd>\n",
       "</dl>\n"
      ],
      "text/latex": [
       "\\begin{description}\n",
       "\\item[\\$gk] A tibble: 1 × 45\n",
       "\\begin{tabular}{lllllllllllllllllllll}\n",
       " name & position & team & xP & assists & bonus & bps & clean\\_sheets & creativity & expected\\_assists & ⋯ & transfers\\_out & value & was\\_home & yellow\\_cards & GW & player\\_id & oID & tID & hID & row\\_id\\\\\n",
       " <chr> & <chr> & <chr> & <dbl> & <dbl> & <dbl> & <dbl> & <dbl> & <dbl> & <dbl> & ⋯ & <dbl> & <dbl> & <lgl> & <dbl> & <dbl> & <dbl> & <dbl> & <dbl> & <dbl> & <dbl>\\\\\n",
       "\\hline\n",
       "\t Zack Steffen & GK & Man City & 0 & 0 & 0 & 0 & 0 & 0 & 0 & ⋯ & 154 & 39 & TRUE & 0 & 76 & 1330 & 23 & 16 & 1 & 77933\\\\\n",
       "\\end{tabular}\n",
       "\n",
       "\\item[\\$def] A tibble: 1 × 45\n",
       "\\begin{tabular}{lllllllllllllllllllll}\n",
       " name & position & team & xP & assists & bonus & bps & clean\\_sheets & creativity & expected\\_assists & ⋯ & transfers\\_out & value & was\\_home & yellow\\_cards & GW & player\\_id & oID & tID & hID & row\\_id\\\\\n",
       " <chr> & <chr> & <chr> & <dbl> & <dbl> & <dbl> & <dbl> & <dbl> & <dbl> & <dbl> & ⋯ & <dbl> & <dbl> & <lgl> & <dbl> & <dbl> & <dbl> & <dbl> & <dbl> & <dbl> & <dbl>\\\\\n",
       "\\hline\n",
       "\t Zak Sturge & DEF & Chelsea & 0 & 0 & 0 & 0 & 0 & 0 & 0 & ⋯ & 16 & 40 & TRUE & 0 & 76 & 1332 & 3 & 7 & 1 & 77949\\\\\n",
       "\\end{tabular}\n",
       "\n",
       "\\item[\\$mid] A tibble: 1 × 45\n",
       "\\begin{tabular}{lllllllllllllllllllll}\n",
       " name & position & team & xP & assists & bonus & bps & clean\\_sheets & creativity & expected\\_assists & ⋯ & transfers\\_out & value & was\\_home & yellow\\_cards & GW & player\\_id & oID & tID & hID & row\\_id\\\\\n",
       " <chr> & <chr> & <chr> & <dbl> & <dbl> & <dbl> & <dbl> & <dbl> & <dbl> & <dbl> & ⋯ & <dbl> & <dbl> & <lgl> & <dbl> & <dbl> & <dbl> & <dbl> & <dbl> & <dbl> & <dbl>\\\\\n",
       "\\hline\n",
       "\t Zidane Iqbal & MID & Man United & 0 & 0 & 0 & 0 & 0 & 0 & 0 & ⋯ & 119 & 42 & TRUE & 0 & 38 & 1334 & 10 & 17 & 1 & 78025\\\\\n",
       "\\end{tabular}\n",
       "\n",
       "\\item[\\$fwd] A tibble: 1 × 45\n",
       "\\begin{tabular}{lllllllllllllllllllll}\n",
       " name & position & team & xP & assists & bonus & bps & clean\\_sheets & creativity & expected\\_assists & ⋯ & transfers\\_out & value & was\\_home & yellow\\_cards & GW & player\\_id & oID & tID & hID & row\\_id\\\\\n",
       " <chr> & <chr> & <chr> & <dbl> & <dbl> & <dbl> & <dbl> & <dbl> & <dbl> & <dbl> & ⋯ & <dbl> & <dbl> & <lgl> & <dbl> & <dbl> & <dbl> & <dbl> & <dbl> & <dbl> & <dbl>\\\\\n",
       "\\hline\n",
       "\t Zeki Amdouni & FWD & Burnley & 2.3 & 0 & 0 & -2 & 0 & 14.3 & 0.04 & ⋯ & 795 & 51 & TRUE & 0 & 76 & 1333 & 19 & 6 & 1 & 77987\\\\\n",
       "\\end{tabular}\n",
       "\n",
       "\\end{description}\n"
      ],
      "text/markdown": [
       "$gk\n",
       ":   \n",
       "A tibble: 1 × 45\n",
       "\n",
       "| name &lt;chr&gt; | position &lt;chr&gt; | team &lt;chr&gt; | xP &lt;dbl&gt; | assists &lt;dbl&gt; | bonus &lt;dbl&gt; | bps &lt;dbl&gt; | clean_sheets &lt;dbl&gt; | creativity &lt;dbl&gt; | expected_assists &lt;dbl&gt; | ⋯ ⋯ | transfers_out &lt;dbl&gt; | value &lt;dbl&gt; | was_home &lt;lgl&gt; | yellow_cards &lt;dbl&gt; | GW &lt;dbl&gt; | player_id &lt;dbl&gt; | oID &lt;dbl&gt; | tID &lt;dbl&gt; | hID &lt;dbl&gt; | row_id &lt;dbl&gt; |\n",
       "|---|---|---|---|---|---|---|---|---|---|---|---|---|---|---|---|---|---|---|---|---|\n",
       "| Zack Steffen | GK | Man City | 0 | 0 | 0 | 0 | 0 | 0 | 0 | ⋯ | 154 | 39 | TRUE | 0 | 76 | 1330 | 23 | 16 | 1 | 77933 |\n",
       "\n",
       "\n",
       "$def\n",
       ":   \n",
       "A tibble: 1 × 45\n",
       "\n",
       "| name &lt;chr&gt; | position &lt;chr&gt; | team &lt;chr&gt; | xP &lt;dbl&gt; | assists &lt;dbl&gt; | bonus &lt;dbl&gt; | bps &lt;dbl&gt; | clean_sheets &lt;dbl&gt; | creativity &lt;dbl&gt; | expected_assists &lt;dbl&gt; | ⋯ ⋯ | transfers_out &lt;dbl&gt; | value &lt;dbl&gt; | was_home &lt;lgl&gt; | yellow_cards &lt;dbl&gt; | GW &lt;dbl&gt; | player_id &lt;dbl&gt; | oID &lt;dbl&gt; | tID &lt;dbl&gt; | hID &lt;dbl&gt; | row_id &lt;dbl&gt; |\n",
       "|---|---|---|---|---|---|---|---|---|---|---|---|---|---|---|---|---|---|---|---|---|\n",
       "| Zak Sturge | DEF | Chelsea | 0 | 0 | 0 | 0 | 0 | 0 | 0 | ⋯ | 16 | 40 | TRUE | 0 | 76 | 1332 | 3 | 7 | 1 | 77949 |\n",
       "\n",
       "\n",
       "$mid\n",
       ":   \n",
       "A tibble: 1 × 45\n",
       "\n",
       "| name &lt;chr&gt; | position &lt;chr&gt; | team &lt;chr&gt; | xP &lt;dbl&gt; | assists &lt;dbl&gt; | bonus &lt;dbl&gt; | bps &lt;dbl&gt; | clean_sheets &lt;dbl&gt; | creativity &lt;dbl&gt; | expected_assists &lt;dbl&gt; | ⋯ ⋯ | transfers_out &lt;dbl&gt; | value &lt;dbl&gt; | was_home &lt;lgl&gt; | yellow_cards &lt;dbl&gt; | GW &lt;dbl&gt; | player_id &lt;dbl&gt; | oID &lt;dbl&gt; | tID &lt;dbl&gt; | hID &lt;dbl&gt; | row_id &lt;dbl&gt; |\n",
       "|---|---|---|---|---|---|---|---|---|---|---|---|---|---|---|---|---|---|---|---|---|\n",
       "| Zidane Iqbal | MID | Man United | 0 | 0 | 0 | 0 | 0 | 0 | 0 | ⋯ | 119 | 42 | TRUE | 0 | 38 | 1334 | 10 | 17 | 1 | 78025 |\n",
       "\n",
       "\n",
       "$fwd\n",
       ":   \n",
       "A tibble: 1 × 45\n",
       "\n",
       "| name &lt;chr&gt; | position &lt;chr&gt; | team &lt;chr&gt; | xP &lt;dbl&gt; | assists &lt;dbl&gt; | bonus &lt;dbl&gt; | bps &lt;dbl&gt; | clean_sheets &lt;dbl&gt; | creativity &lt;dbl&gt; | expected_assists &lt;dbl&gt; | ⋯ ⋯ | transfers_out &lt;dbl&gt; | value &lt;dbl&gt; | was_home &lt;lgl&gt; | yellow_cards &lt;dbl&gt; | GW &lt;dbl&gt; | player_id &lt;dbl&gt; | oID &lt;dbl&gt; | tID &lt;dbl&gt; | hID &lt;dbl&gt; | row_id &lt;dbl&gt; |\n",
       "|---|---|---|---|---|---|---|---|---|---|---|---|---|---|---|---|---|---|---|---|---|\n",
       "| Zeki Amdouni | FWD | Burnley | 2.3 | 0 | 0 | -2 | 0 | 14.3 | 0.04 | ⋯ | 795 | 51 | TRUE | 0 | 76 | 1333 | 19 | 6 | 1 | 77987 |\n",
       "\n",
       "\n",
       "\n",
       "\n"
      ],
      "text/plain": [
       "$gk\n",
       "\u001b[90m# A tibble: 1 × 45\u001b[39m\n",
       "  name         position team      xP assists bonus   bps clean_sheets creativity\n",
       "  \u001b[3m\u001b[90m<chr>\u001b[39m\u001b[23m        \u001b[3m\u001b[90m<chr>\u001b[39m\u001b[23m    \u001b[3m\u001b[90m<chr>\u001b[39m\u001b[23m  \u001b[3m\u001b[90m<dbl>\u001b[39m\u001b[23m   \u001b[3m\u001b[90m<dbl>\u001b[39m\u001b[23m \u001b[3m\u001b[90m<dbl>\u001b[39m\u001b[23m \u001b[3m\u001b[90m<dbl>\u001b[39m\u001b[23m        \u001b[3m\u001b[90m<dbl>\u001b[39m\u001b[23m      \u001b[3m\u001b[90m<dbl>\u001b[39m\u001b[23m\n",
       "\u001b[90m1\u001b[39m Zack Steffen GK       Man C…     0       0     0     0            0          0\n",
       "\u001b[90m# ℹ 36 more variables: expected_assists <dbl>,\u001b[39m\n",
       "\u001b[90m#   expected_goal_involvements <dbl>, expected_goals <dbl>,\u001b[39m\n",
       "\u001b[90m#   expected_goals_conceded <dbl>, fixture <dbl>, goals_conceded <dbl>,\u001b[39m\n",
       "\u001b[90m#   goals_scored <dbl>, ict_index <dbl>, influence <dbl>, kickoff_time <dttm>,\u001b[39m\n",
       "\u001b[90m#   minutes <dbl>, opponent_team <chr>, own_goals <dbl>,\u001b[39m\n",
       "\u001b[90m#   penalties_missed <dbl>, penalties_saved <dbl>, red_cards <dbl>,\u001b[39m\n",
       "\u001b[90m#   round <dbl>, saves <dbl>, selected <dbl>, starts <dbl>, …\u001b[39m\n",
       "\n",
       "$def\n",
       "\u001b[90m# A tibble: 1 × 45\u001b[39m\n",
       "  name       position team       xP assists bonus   bps clean_sheets creativity\n",
       "  \u001b[3m\u001b[90m<chr>\u001b[39m\u001b[23m      \u001b[3m\u001b[90m<chr>\u001b[39m\u001b[23m    \u001b[3m\u001b[90m<chr>\u001b[39m\u001b[23m   \u001b[3m\u001b[90m<dbl>\u001b[39m\u001b[23m   \u001b[3m\u001b[90m<dbl>\u001b[39m\u001b[23m \u001b[3m\u001b[90m<dbl>\u001b[39m\u001b[23m \u001b[3m\u001b[90m<dbl>\u001b[39m\u001b[23m        \u001b[3m\u001b[90m<dbl>\u001b[39m\u001b[23m      \u001b[3m\u001b[90m<dbl>\u001b[39m\u001b[23m\n",
       "\u001b[90m1\u001b[39m Zak Sturge DEF      Chelsea     0       0     0     0            0          0\n",
       "\u001b[90m# ℹ 36 more variables: expected_assists <dbl>,\u001b[39m\n",
       "\u001b[90m#   expected_goal_involvements <dbl>, expected_goals <dbl>,\u001b[39m\n",
       "\u001b[90m#   expected_goals_conceded <dbl>, fixture <dbl>, goals_conceded <dbl>,\u001b[39m\n",
       "\u001b[90m#   goals_scored <dbl>, ict_index <dbl>, influence <dbl>, kickoff_time <dttm>,\u001b[39m\n",
       "\u001b[90m#   minutes <dbl>, opponent_team <chr>, own_goals <dbl>,\u001b[39m\n",
       "\u001b[90m#   penalties_missed <dbl>, penalties_saved <dbl>, red_cards <dbl>,\u001b[39m\n",
       "\u001b[90m#   round <dbl>, saves <dbl>, selected <dbl>, starts <dbl>, …\u001b[39m\n",
       "\n",
       "$mid\n",
       "\u001b[90m# A tibble: 1 × 45\u001b[39m\n",
       "  name         position team      xP assists bonus   bps clean_sheets creativity\n",
       "  \u001b[3m\u001b[90m<chr>\u001b[39m\u001b[23m        \u001b[3m\u001b[90m<chr>\u001b[39m\u001b[23m    \u001b[3m\u001b[90m<chr>\u001b[39m\u001b[23m  \u001b[3m\u001b[90m<dbl>\u001b[39m\u001b[23m   \u001b[3m\u001b[90m<dbl>\u001b[39m\u001b[23m \u001b[3m\u001b[90m<dbl>\u001b[39m\u001b[23m \u001b[3m\u001b[90m<dbl>\u001b[39m\u001b[23m        \u001b[3m\u001b[90m<dbl>\u001b[39m\u001b[23m      \u001b[3m\u001b[90m<dbl>\u001b[39m\u001b[23m\n",
       "\u001b[90m1\u001b[39m Zidane Iqbal MID      Man U…     0       0     0     0            0          0\n",
       "\u001b[90m# ℹ 36 more variables: expected_assists <dbl>,\u001b[39m\n",
       "\u001b[90m#   expected_goal_involvements <dbl>, expected_goals <dbl>,\u001b[39m\n",
       "\u001b[90m#   expected_goals_conceded <dbl>, fixture <dbl>, goals_conceded <dbl>,\u001b[39m\n",
       "\u001b[90m#   goals_scored <dbl>, ict_index <dbl>, influence <dbl>, kickoff_time <dttm>,\u001b[39m\n",
       "\u001b[90m#   minutes <dbl>, opponent_team <chr>, own_goals <dbl>,\u001b[39m\n",
       "\u001b[90m#   penalties_missed <dbl>, penalties_saved <dbl>, red_cards <dbl>,\u001b[39m\n",
       "\u001b[90m#   round <dbl>, saves <dbl>, selected <dbl>, starts <dbl>, …\u001b[39m\n",
       "\n",
       "$fwd\n",
       "\u001b[90m# A tibble: 1 × 45\u001b[39m\n",
       "  name         position team      xP assists bonus   bps clean_sheets creativity\n",
       "  \u001b[3m\u001b[90m<chr>\u001b[39m\u001b[23m        \u001b[3m\u001b[90m<chr>\u001b[39m\u001b[23m    \u001b[3m\u001b[90m<chr>\u001b[39m\u001b[23m  \u001b[3m\u001b[90m<dbl>\u001b[39m\u001b[23m   \u001b[3m\u001b[90m<dbl>\u001b[39m\u001b[23m \u001b[3m\u001b[90m<dbl>\u001b[39m\u001b[23m \u001b[3m\u001b[90m<dbl>\u001b[39m\u001b[23m        \u001b[3m\u001b[90m<dbl>\u001b[39m\u001b[23m      \u001b[3m\u001b[90m<dbl>\u001b[39m\u001b[23m\n",
       "\u001b[90m1\u001b[39m Zeki Amdouni FWD      Burnl…   2.3       0     0    -\u001b[31m2\u001b[39m            0       14.3\n",
       "\u001b[90m# ℹ 36 more variables: expected_assists <dbl>,\u001b[39m\n",
       "\u001b[90m#   expected_goal_involvements <dbl>, expected_goals <dbl>,\u001b[39m\n",
       "\u001b[90m#   expected_goals_conceded <dbl>, fixture <dbl>, goals_conceded <dbl>,\u001b[39m\n",
       "\u001b[90m#   goals_scored <dbl>, ict_index <dbl>, influence <dbl>, kickoff_time <dttm>,\u001b[39m\n",
       "\u001b[90m#   minutes <dbl>, opponent_team <chr>, own_goals <dbl>,\u001b[39m\n",
       "\u001b[90m#   penalties_missed <dbl>, penalties_saved <dbl>, red_cards <dbl>,\u001b[39m\n",
       "\u001b[90m#   round <dbl>, saves <dbl>, selected <dbl>, starts <dbl>, …\u001b[39m\n"
      ]
     },
     "metadata": {},
     "output_type": "display_data"
    },
    {
     "name": "stdout",
     "output_type": "stream",
     "text": [
      "spc_tbl_ [8,492 × 45] (S3: spec_tbl_df/tbl_df/tbl/data.frame)\n",
      " $ name                      : chr [1:8492] \"Aaron Ramsdale\" \"Aaron Ramsdale\" \"Aaron Ramsdale\" \"Aaron Ramsdale\" ...\n",
      " $ position                  : chr [1:8492] \"GK\" \"GK\" \"GK\" \"GK\" ...\n",
      " $ team                      : chr [1:8492] \"Arsenal\" \"Arsenal\" \"Arsenal\" \"Arsenal\" ...\n",
      " $ xP                        : num [1:8492] 3.6 4 5.3 4.8 3.9 2 3.5 3.3 2.5 5.3 ...\n",
      " $ assists                   : num [1:8492] 0 0 0 0 0 0 0 0 0 0 ...\n",
      " $ bonus                     : num [1:8492] 0 0 0 0 0 0 0 0 0 3 ...\n",
      " $ bps                       : num [1:8492] 25 10 20 12 13 14 24 12 15 32 ...\n",
      " $ clean_sheets              : num [1:8492] 1 0 1 0 0 0 1 0 0 1 ...\n",
      " $ creativity                : num [1:8492] 0 0 0 0 0 0 0 0 0 0 ...\n",
      " $ expected_assists          : num [1:8492] 0 0 0 0 0 0 0 0 0 0 ...\n",
      " $ expected_goal_involvements: num [1:8492] 0 0 0 0 0 0 0 0 0 0 ...\n",
      " $ expected_goals            : num [1:8492] 0 0 0 0 0 0 0 0 0 0 ...\n",
      " $ expected_goals_conceded   : num [1:8492] 0 0 0 0 0 0 0 0 0 0 ...\n",
      " $ fixture                   : num [1:8492] 1 11 21 31 41 56 72 81 91 104 ...\n",
      " $ goals_conceded            : num [1:8492] 0 2 0 1 1 3 0 1 2 0 ...\n",
      " $ goals_scored              : num [1:8492] 0 0 0 0 0 0 0 0 0 0 ...\n",
      " $ ict_index                 : num [1:8492] 1.9 1.2 0.8 1.9 1.7 2.5 1.8 1.9 1.3 3.5 ...\n",
      " $ influence                 : num [1:8492] 19 11.6 7.6 18.8 17.4 25.2 17.8 19.2 12.6 34.8 ...\n",
      " $ kickoff_time              : POSIXct[1:8492], format: \"2022-08-05 19:00:00\" \"2022-08-13 14:00:00\" ...\n",
      " $ minutes                   : num [1:8492] 90 90 90 90 90 90 90 90 90 90 ...\n",
      " $ opponent_team             : chr [1:8492] \"Crystal Palace\" \"Leeds\" \"Bournemouth\" \"Fulham\" ...\n",
      " $ own_goals                 : num [1:8492] 0 0 0 0 0 0 0 0 0 0 ...\n",
      " $ penalties_missed          : num [1:8492] 0 0 0 0 0 0 0 0 0 0 ...\n",
      " $ penalties_saved           : num [1:8492] 0 0 0 0 0 0 0 0 0 0 ...\n",
      " $ red_cards                 : num [1:8492] 0 0 0 0 0 0 0 0 0 0 ...\n",
      " $ round                     : num [1:8492] 1 2 3 4 5 6 8 9 10 11 ...\n",
      " $ saves                     : num [1:8492] 2 1 1 2 2 3 2 2 2 4 ...\n",
      " $ selected                  : num [1:8492] 1128297 1369348 1366505 1422476 1407588 ...\n",
      " $ starts                    : num [1:8492] 0 0 0 0 0 0 0 0 0 0 ...\n",
      " $ team_a_score              : num [1:8492] 2 2 3 1 1 1 3 1 2 1 ...\n",
      " $ team_h_score              : num [1:8492] 0 4 0 2 2 3 0 3 3 0 ...\n",
      " $ threat                    : num [1:8492] 0 0 0 0 0 0 0 0 0 0 ...\n",
      " $ total_points              : num [1:8492] 6 1 6 2 2 2 6 2 1 10 ...\n",
      " $ transfers_balance         : num [1:8492] 0 31287 -61359 -12169 -53340 ...\n",
      " $ transfers_in              : num [1:8492] 0 93632 88334 88190 48276 ...\n",
      " $ transfers_out             : num [1:8492] 0 62345 149693 100359 101616 ...\n",
      " $ value                     : num [1:8492] 50 50 50 50 50 50 49 49 49 49 ...\n",
      " $ was_home                  : logi [1:8492] FALSE TRUE FALSE TRUE TRUE FALSE ...\n",
      " $ yellow_cards              : num [1:8492] 0 0 0 0 0 0 0 0 0 0 ...\n",
      " $ GW                        : num [1:8492] 1 2 3 4 5 6 8 9 10 11 ...\n",
      " $ player_id                 : num [1:8492] 5 5 5 5 5 5 5 5 5 5 ...\n",
      " $ oID                       : num [1:8492] 8 12 3 10 2 17 4 22 14 13 ...\n",
      " $ tID                       : num [1:8492] 1 1 1 1 1 1 1 1 1 1 ...\n",
      " $ hID                       : num [1:8492] 0 1 0 1 1 0 0 1 1 0 ...\n",
      " $ row_id                    : num [1:8492] 260 261 262 263 264 265 266 267 268 269 ...\n",
      " - attr(*, \"spec\")=\n",
      "  .. cols(\n",
      "  ..   name = \u001b[31mcol_character()\u001b[39m,\n",
      "  ..   position = \u001b[31mcol_character()\u001b[39m,\n",
      "  ..   team = \u001b[31mcol_character()\u001b[39m,\n",
      "  ..   xP = \u001b[32mcol_double()\u001b[39m,\n",
      "  ..   assists = \u001b[32mcol_double()\u001b[39m,\n",
      "  ..   bonus = \u001b[32mcol_double()\u001b[39m,\n",
      "  ..   bps = \u001b[32mcol_double()\u001b[39m,\n",
      "  ..   clean_sheets = \u001b[32mcol_double()\u001b[39m,\n",
      "  ..   creativity = \u001b[32mcol_double()\u001b[39m,\n",
      "  ..   expected_assists = \u001b[32mcol_double()\u001b[39m,\n",
      "  ..   expected_goal_involvements = \u001b[32mcol_double()\u001b[39m,\n",
      "  ..   expected_goals = \u001b[32mcol_double()\u001b[39m,\n",
      "  ..   expected_goals_conceded = \u001b[32mcol_double()\u001b[39m,\n",
      "  ..   fixture = \u001b[32mcol_double()\u001b[39m,\n",
      "  ..   goals_conceded = \u001b[32mcol_double()\u001b[39m,\n",
      "  ..   goals_scored = \u001b[32mcol_double()\u001b[39m,\n",
      "  ..   ict_index = \u001b[32mcol_double()\u001b[39m,\n",
      "  ..   influence = \u001b[32mcol_double()\u001b[39m,\n",
      "  ..   kickoff_time = \u001b[34mcol_datetime(format = \"\")\u001b[39m,\n",
      "  ..   minutes = \u001b[32mcol_double()\u001b[39m,\n",
      "  ..   opponent_team = \u001b[31mcol_character()\u001b[39m,\n",
      "  ..   own_goals = \u001b[32mcol_double()\u001b[39m,\n",
      "  ..   penalties_missed = \u001b[32mcol_double()\u001b[39m,\n",
      "  ..   penalties_saved = \u001b[32mcol_double()\u001b[39m,\n",
      "  ..   red_cards = \u001b[32mcol_double()\u001b[39m,\n",
      "  ..   round = \u001b[32mcol_double()\u001b[39m,\n",
      "  ..   saves = \u001b[32mcol_double()\u001b[39m,\n",
      "  ..   selected = \u001b[32mcol_double()\u001b[39m,\n",
      "  ..   starts = \u001b[32mcol_double()\u001b[39m,\n",
      "  ..   team_a_score = \u001b[32mcol_double()\u001b[39m,\n",
      "  ..   team_h_score = \u001b[32mcol_double()\u001b[39m,\n",
      "  ..   threat = \u001b[32mcol_double()\u001b[39m,\n",
      "  ..   total_points = \u001b[32mcol_double()\u001b[39m,\n",
      "  ..   transfers_balance = \u001b[32mcol_double()\u001b[39m,\n",
      "  ..   transfers_in = \u001b[32mcol_double()\u001b[39m,\n",
      "  ..   transfers_out = \u001b[32mcol_double()\u001b[39m,\n",
      "  ..   value = \u001b[32mcol_double()\u001b[39m,\n",
      "  ..   was_home = \u001b[33mcol_logical()\u001b[39m,\n",
      "  ..   yellow_cards = \u001b[32mcol_double()\u001b[39m,\n",
      "  ..   GW = \u001b[32mcol_double()\u001b[39m,\n",
      "  ..   player_id = \u001b[32mcol_double()\u001b[39m,\n",
      "  ..   oID = \u001b[32mcol_double()\u001b[39m,\n",
      "  ..   tID = \u001b[32mcol_double()\u001b[39m,\n",
      "  ..   hID = \u001b[32mcol_double()\u001b[39m,\n",
      "  ..   row_id = \u001b[32mcol_double()\u001b[39m\n",
      "  .. )\n",
      " - attr(*, \"problems\")=<externalptr> \n"
     ]
    }
   ],
   "source": [
    "#----------------------------\n",
    "# 0.1: Oppdeling etter posisjon\n",
    "#----------------------------\n",
    "gk <- alternativsammensatt |>\n",
    "  filter(position == \"GK\")\n",
    "\n",
    "def <- alternativsammensatt |>\n",
    "  filter(position == \"DEF\")\n",
    "\n",
    "mid <- alternativsammensatt |>\n",
    "  filter(position == \"MID\")\n",
    "\n",
    "fwd <- alternativsammensatt |>\n",
    "  filter(position == \"FWD\")\n",
    "\n",
    "posliste <- list(gk = gk, def = def, mid = mid, fwd = fwd)\n",
    "lapply(posliste, head, n = 1);lapply(posliste, tail, n = 1)\n",
    "str(gk)\n",
    "\n",
    "unscaled_gk <- gk\n",
    "unscaled_def <- def\n",
    "unscaled_mid <- mid\n",
    "unscaled_fwd <- fwd"
   ]
  },
  {
   "cell_type": "markdown",
   "id": "de5f9d22",
   "metadata": {
    "_cell_guid": "6bb24d98-f4d0-4d57-914d-8a526334741d",
    "_uuid": "dc7c03aa-b7c4-4f07-95be-67bcd887d846",
    "collapsed": false,
    "jupyter": {
     "outputs_hidden": false
    },
    "papermill": {
     "duration": 0.021499,
     "end_time": "2025-04-22T10:59:52.845442",
     "exception": false,
     "start_time": "2025-04-22T10:59:52.823943",
     "status": "completed"
    },
    "tags": []
   },
   "source": [
    "## 1: Målvakter"
   ]
  },
  {
   "cell_type": "code",
   "execution_count": 5,
   "id": "846c2b84",
   "metadata": {
    "_cell_guid": "410fcaa3-22dd-4d5a-a2d2-2a89ef5f9ebb",
    "_uuid": "f5f909b1-640d-4a41-b11d-c58ae63d7c5d",
    "collapsed": false,
    "execution": {
     "iopub.execute_input": "2025-04-22T10:59:52.892182Z",
     "iopub.status.busy": "2025-04-22T10:59:52.890613Z",
     "iopub.status.idle": "2025-04-22T10:59:52.930811Z",
     "shell.execute_reply": "2025-04-22T10:59:52.929159Z"
    },
    "jupyter": {
     "outputs_hidden": false
    },
    "papermill": {
     "duration": 0.066327,
     "end_time": "2025-04-22T10:59:52.933329",
     "exception": false,
     "start_time": "2025-04-22T10:59:52.867002",
     "status": "completed"
    },
    "tags": []
   },
   "outputs": [
    {
     "name": "stdout",
     "output_type": "stream",
     "text": [
      "Numeriske features: assists creativity minutes goals_conceded saves bonus bps expected_assists expected_goal_involvements expected_goals ict_index own_goals red_cards threat transfers_in transfers_out yellow_cards expected_goals_conceded penalties_saved value selected transfers_balance starts influence clean_sheets \n"
     ]
    },
    {
     "name": "stdout",
     "output_type": "stream",
     "text": [
      "Kategoriske features: player_id tID oID hID \n"
     ]
    },
    {
     "name": "stdout",
     "output_type": "stream",
     "text": [
      "Target variabel: total_points \n"
     ]
    },
    {
     "name": "stdout",
     "output_type": "stream",
     "text": [
      "Ferdig"
     ]
    }
   ],
   "source": [
    "#----------------------------\n",
    "# Define Features, Target & Scale\n",
    "#----------------------------\n",
    "numF <- c(\"assists\", \"creativity\", \"minutes\", \"goals_conceded\", \"saves\",\n",
    "          \"bonus\", \"bps\", \"expected_assists\", \"expected_goal_involvements\",\n",
    "          \"expected_goals\", \"ict_index\", \"own_goals\", \"red_cards\",\n",
    "          \"threat\", \"transfers_in\", \"transfers_out\", \"yellow_cards\",\n",
    "          \"expected_goals_conceded\", \"penalties_saved\", \"value\",\n",
    "          \"selected\", \"transfers_balance\", \"starts\", \"influence\",\n",
    "          \"clean_sheets\")\n",
    "catF <- c(\"player_id\", \"tID\", \"oID\", \"hID\")\n",
    "tar <- \"total_points\"\n",
    "\n",
    "cat(\"Numeriske features:\", numF, \"\\n\")\n",
    "cat(\"Kategoriske features:\", catF, \"\\n\")\n",
    "cat(\"Target variabel:\", tar, \"\\n\")\n",
    "cat(\"Ferdig\")"
   ]
  },
  {
   "cell_type": "markdown",
   "id": "a15f1e39",
   "metadata": {
    "_cell_guid": "b7947277-706e-461c-9159-fa161f326361",
    "_uuid": "42f56ecb-553c-4ea8-ba40-1f3a34f7c2c6",
    "collapsed": false,
    "jupyter": {
     "outputs_hidden": false
    },
    "papermill": {
     "duration": 0.021884,
     "end_time": "2025-04-22T10:59:52.977194",
     "exception": false,
     "start_time": "2025-04-22T10:59:52.955310",
     "status": "completed"
    },
    "tags": []
   },
   "source": [
    "## 1.2"
   ]
  },
  {
   "cell_type": "code",
   "execution_count": 6,
   "id": "f3a37cbf",
   "metadata": {
    "_cell_guid": "195a9782-f2d2-4fdb-9f88-9293281dc784",
    "_uuid": "def8f5bb-f853-4c3a-afb9-90fe30b7b1e7",
    "collapsed": false,
    "execution": {
     "iopub.execute_input": "2025-04-22T10:59:53.024708Z",
     "iopub.status.busy": "2025-04-22T10:59:53.023199Z",
     "iopub.status.idle": "2025-04-22T10:59:53.073532Z",
     "shell.execute_reply": "2025-04-22T10:59:53.071416Z"
    },
    "jupyter": {
     "outputs_hidden": false
    },
    "papermill": {
     "duration": 0.077105,
     "end_time": "2025-04-22T10:59:53.076417",
     "exception": false,
     "start_time": "2025-04-22T10:59:52.999312",
     "status": "completed"
    },
    "tags": []
   },
   "outputs": [
    {
     "name": "stdout",
     "output_type": "stream",
     "text": [
      "Kjørt"
     ]
    }
   ],
   "source": [
    "# Compute and store the mean and standard deviation for the target variable\n",
    "\n",
    "mu <- mean(gk[[tar]], na.rm = TRUE)\n",
    "sigma <- sd(gk[[tar]], na.rm = TRUE)\n",
    "\n",
    "# Scale numerical features and target\n",
    "gk <- gk %>%\n",
    "  mutate(across(all_of(numF), ~ (.x - mean(.x, na.rm = TRUE)) / sd(.x, na.rm = TRUE)),\n",
    "         !!tar := (.data[[tar]] - mu) / sigma)\n",
    "cat(\"Kjørt\")"
   ]
  },
  {
   "cell_type": "markdown",
   "id": "524cf0fa",
   "metadata": {
    "_cell_guid": "9692c396-9691-4577-8a36-563be36e1896",
    "_uuid": "727b6034-9efa-4b5d-8c99-912c49424dfc",
    "collapsed": false,
    "jupyter": {
     "outputs_hidden": false
    },
    "papermill": {
     "duration": 0.021752,
     "end_time": "2025-04-22T10:59:53.121775",
     "exception": false,
     "start_time": "2025-04-22T10:59:53.100023",
     "status": "completed"
    },
    "tags": []
   },
   "source": [
    "## 1.3 GK Build Rolling Windows"
   ]
  },
  {
   "cell_type": "code",
   "execution_count": 7,
   "id": "b857bfbb",
   "metadata": {
    "_cell_guid": "c5b30c0c-34d9-42f6-bef1-bdba7ac9deb0",
    "_uuid": "d8699a62-b5fc-41c0-81d8-ce876b1c4094",
    "collapsed": false,
    "execution": {
     "iopub.execute_input": "2025-04-22T10:59:53.168567Z",
     "iopub.status.busy": "2025-04-22T10:59:53.167079Z",
     "iopub.status.idle": "2025-04-22T10:59:56.432251Z",
     "shell.execute_reply": "2025-04-22T10:59:56.430207Z"
    },
    "jupyter": {
     "outputs_hidden": false
    },
    "papermill": {
     "duration": 3.291946,
     "end_time": "2025-04-22T10:59:56.435278",
     "exception": false,
     "start_time": "2025-04-22T10:59:53.143332",
     "status": "completed"
    },
    "tags": []
   },
   "outputs": [
    {
     "name": "stdout",
     "output_type": "stream",
     "text": [
      "Kjørt"
     ]
    }
   ],
   "source": [
    "#----------------------------\n",
    "# 3. Build Rolling Windows\n",
    "#----------------------------\n",
    "# Define window size (number of past gameweeks to use)\n",
    "ws <- vindu\n",
    "\n",
    "# Build numerical rolling windows\n",
    "numW <- gk %>%\n",
    "  group_by(player_id) %>%\n",
    "  filter(n() > ws) %>%  # Only players with more than ws observations\n",
    "  group_modify(~ {\n",
    "    windows <- slide(.x[, numF],\n",
    "                     .f = ~ as.matrix(.x),\n",
    "                     .before = ws, \n",
    "                     .after = -1,\n",
    "                     .complete = TRUE)\n",
    "    valid_windows <- windows[(ws + 1):length(windows)]\n",
    "    target <- .x[[tar]][(ws + 1):nrow(.x)]\n",
    "    # Extract row_id for each valid window\n",
    "    rid <- .x$row_id[(ws + 1):nrow(.x)]\n",
    "    tibble(window = valid_windows, target = target, row_id = rid)\n",
    "  }) %>%\n",
    "  ungroup()\n",
    "numW <- numW %>%\n",
    "  left_join(gk %>% select(row_id, GW), by = \"row_id\")\n",
    "\n",
    "# Build categorical rolling windows (if needed for debugging; here we use only the current values)\n",
    "catW <- gk %>%\n",
    "  group_by(player_id) %>%\n",
    "  filter(n() > ws) %>%\n",
    "  group_modify(~ {\n",
    "    df <- ungroup(.x) %>% mutate(player_id = .y$player_id)\n",
    "    windows <- slide(df %>% select(all_of(catF)),\n",
    "                     .f = ~ as.matrix(.x),\n",
    "                     .before = ws,\n",
    "                     #.after = -1,\n",
    "                     .complete = TRUE)\n",
    "    valid_windows <- windows[(ws + 1):length(windows)]\n",
    "    target <- df[[tar]][(ws + 1):nrow(df)]\n",
    "    tibble(window = valid_windows, target = target)\n",
    "  }) %>%\n",
    "  ungroup()\n",
    "\n",
    "cat(\"Kjørt\")"
   ]
  },
  {
   "cell_type": "markdown",
   "id": "287dfa8f",
   "metadata": {
    "_cell_guid": "90d41f66-f5a4-40e8-900a-45e03ef53344",
    "_uuid": "b167d0cb-faa6-4cde-809a-1b6eb8e23cf8",
    "collapsed": false,
    "jupyter": {
     "outputs_hidden": false
    },
    "papermill": {
     "duration": 0.022464,
     "end_time": "2025-04-22T10:59:56.480804",
     "exception": false,
     "start_time": "2025-04-22T10:59:56.458340",
     "status": "completed"
    },
    "tags": []
   },
   "source": [
    "## 1.4 Lasso"
   ]
  },
  {
   "cell_type": "code",
   "execution_count": 8,
   "id": "c2e7af47",
   "metadata": {
    "_cell_guid": "bfaa8d12-64ce-4ddd-b133-e8e088c3c505",
    "_uuid": "8a279867-d7a1-45b1-9043-370381823300",
    "collapsed": false,
    "execution": {
     "iopub.execute_input": "2025-04-22T10:59:56.529511Z",
     "iopub.status.busy": "2025-04-22T10:59:56.527998Z",
     "iopub.status.idle": "2025-04-22T10:59:58.550848Z",
     "shell.execute_reply": "2025-04-22T10:59:58.549046Z"
    },
    "jupyter": {
     "outputs_hidden": false
    },
    "papermill": {
     "duration": 2.049719,
     "end_time": "2025-04-22T10:59:58.553264",
     "exception": false,
     "start_time": "2025-04-22T10:59:56.503545",
     "status": "completed"
    },
    "tags": []
   },
   "outputs": [
    {
     "name": "stdout",
     "output_type": "stream",
     "text": [
      "Windows with NA:  0 \n"
     ]
    },
    {
     "name": "stdout",
     "output_type": "stream",
     "text": [
      "Selected features:  assists minutes bonus bps expected_assists own_goals threat transfers_out expected_goals_conceded penalties_saved value selected transfers_balance clean_sheets \n"
     ]
    }
   ],
   "source": [
    "# Check for any NA in the windows before summary\n",
    "sumna <- sapply(numW$window, function(flatW) any(is.na(flatW)))\n",
    "cat(\"Windows with NA: \", sum(sumna), \"\\n\")\n",
    "\n",
    "#----------------------------\n",
    "# 4. Lasso regression\n",
    "#----------------------------\n",
    "\n",
    "# numW as data.matrix, tar as response variable\n",
    "aggmat <- lapply(numW$window, function(flatW){\n",
    "  colMeans(flatW, na.rm = TRUE)\n",
    "})\n",
    "x <- do.call(rbind, aggmat)\n",
    "y <- numW$target\n",
    "\n",
    "# K-fold CV\n",
    "cvfit <- cv.glmnet(x,y,alpha=1)\n",
    "minlambda <- cvfit$lambda.min\n",
    "\n",
    "lassofit <- glmnet(x,y,alpha = 1, lambda = minlambda)\n",
    "\n",
    "coef_lasso <- as.matrix(coef(lassofit))\n",
    "numF <- rownames(coef_lasso)[coef_lasso[,1] != 0]\n",
    "numF <- setdiff(numF, \"(Intercept)\")\n",
    "cat(\"Selected features: \", numF, \"\\n\")\n",
    "\n",
    "# repeat rolling window, now only containing selected features\n",
    "# Define window size (number of past gameweeks to use)\n",
    "ws <- vindu\n",
    "\n",
    "\n",
    "# Build numerical rolling windows\n",
    "numW <- gk %>%\n",
    "  group_by(player_id) %>%\n",
    "  filter(n() > ws) %>%  # Only players with more than ws observations\n",
    "  group_modify(~ {\n",
    "    windows <- slide(.x[, numF],\n",
    "                     .f = ~ as.matrix(.x),\n",
    "                     .before = ws, \n",
    "                     .after = -1,\n",
    "                     .complete = TRUE)\n",
    "    valid_windows <- windows[(ws + 1):length(windows)]\n",
    "    target <- .x[[tar]][(ws + 1):nrow(.x)]\n",
    "    # Extract row_id for each valid window\n",
    "    rid <- .x$row_id[(ws + 1):nrow(.x)]\n",
    "    tibble(window = valid_windows, target = target, row_id = rid)\n",
    "  }) %>%\n",
    "  ungroup()\n",
    "numW <- numW %>%\n",
    "  left_join(gk %>% select(row_id, GW), by = \"row_id\")"
   ]
  },
  {
   "cell_type": "markdown",
   "id": "1f319f99",
   "metadata": {
    "_cell_guid": "faf4a98a-493c-404a-8355-9965e6f10f9a",
    "_uuid": "02794543-dc70-4348-a083-57030c07e4ad",
    "collapsed": false,
    "jupyter": {
     "outputs_hidden": false
    },
    "papermill": {
     "duration": 0.022902,
     "end_time": "2025-04-22T10:59:58.599049",
     "exception": false,
     "start_time": "2025-04-22T10:59:58.576147",
     "status": "completed"
    },
    "tags": []
   },
   "source": [
    "## 1.5 Convert Rolling Windows"
   ]
  },
  {
   "cell_type": "code",
   "execution_count": 9,
   "id": "6a22ca47",
   "metadata": {
    "_cell_guid": "ddccec84-7920-4544-b1b6-96ffceceddfc",
    "_uuid": "1118a35d-322a-470f-9e82-779c40f8151e",
    "collapsed": false,
    "execution": {
     "iopub.execute_input": "2025-04-22T10:59:58.648192Z",
     "iopub.status.busy": "2025-04-22T10:59:58.646569Z",
     "iopub.status.idle": "2025-04-22T10:59:58.724256Z",
     "shell.execute_reply": "2025-04-22T10:59:58.722426Z"
    },
    "jupyter": {
     "outputs_hidden": false
    },
    "papermill": {
     "duration": 0.104644,
     "end_time": "2025-04-22T10:59:58.726521",
     "exception": false,
     "start_time": "2025-04-22T10:59:58.621877",
     "status": "completed"
    },
    "tags": []
   },
   "outputs": [
    {
     "name": "stdout",
     "output_type": "stream",
     "text": [
      "Kjørt"
     ]
    }
   ],
   "source": [
    "#============================\n",
    "# 5. Convert Rolling Windows to Arrays & Extract Targets\n",
    "#============================\n",
    "# Number of samples is the number of rows in numW\n",
    "nSamp <- nrow(numW)\n",
    "\n",
    "# Convert numerical windows to a 3D array of shape [nSamp, ws, length(numF)]\n",
    "num_array <- array(\n",
    "  unlist(numW$window),\n",
    "  dim = c(nSamp, ws, length(numF))\n",
    ")\n",
    "\n",
    "# Targets (scaled): a matrix with one column\n",
    "targets <- matrix(as.numeric(numW$target), ncol = 1)\n",
    "\n",
    "# For categorical inputs, extract the current categorical values from the last row of each window.\n",
    "# (If your windows were built solely from historical data, the \"current\" values need to come from the original data.)\n",
    "# Here, we use the categorical rolling windows and extract the last row:\n",
    "cat_current <- do.call(rbind, lapply(catW$window, function(mat) mat[nrow(mat), ]))\n",
    "# Split into separate matrices (each of shape [nSamp, 1])\n",
    "cat_player_id <- matrix(as.integer(cat_current[, \"player_id\"]), ncol = 1)\n",
    "cat_tID <- matrix(as.integer(cat_current[, \"tID\"]), ncol = 1)\n",
    "cat_oID <- matrix(as.integer(cat_current[, \"oID\"]), ncol = 1)\n",
    "cat_hID <- matrix(as.integer(cat_current[, \"hID\"]), ncol = 1)\n",
    "\n",
    "cat(\"Kjørt\")"
   ]
  },
  {
   "cell_type": "markdown",
   "id": "6a138ee9",
   "metadata": {
    "_cell_guid": "2e64b849-44aa-4bcd-b660-b3f4044ff39f",
    "_uuid": "6e32d905-238d-4a1f-9a2c-5da2713ee989",
    "collapsed": false,
    "jupyter": {
     "outputs_hidden": false
    },
    "papermill": {
     "duration": 0.022829,
     "end_time": "2025-04-22T10:59:58.772336",
     "exception": false,
     "start_time": "2025-04-22T10:59:58.749507",
     "status": "completed"
    },
    "tags": []
   },
   "source": [
    "## 1.6 Data Split GK"
   ]
  },
  {
   "cell_type": "code",
   "execution_count": 10,
   "id": "79997ed3",
   "metadata": {
    "_cell_guid": "0f573960-e636-48c0-bf63-8441ed8e2a37",
    "_uuid": "39c91e5a-38fc-4bfc-94f9-c0f8b0a9a4a0",
    "collapsed": false,
    "execution": {
     "iopub.execute_input": "2025-04-22T10:59:58.821657Z",
     "iopub.status.busy": "2025-04-22T10:59:58.820115Z",
     "iopub.status.idle": "2025-04-22T10:59:58.862265Z",
     "shell.execute_reply": "2025-04-22T10:59:58.860414Z"
    },
    "jupyter": {
     "outputs_hidden": false
    },
    "papermill": {
     "duration": 0.069099,
     "end_time": "2025-04-22T10:59:58.864516",
     "exception": false,
     "start_time": "2025-04-22T10:59:58.795417",
     "status": "completed"
    },
    "tags": []
   },
   "outputs": [
    {
     "name": "stdout",
     "output_type": "stream",
     "text": [
      "Kjørt"
     ]
    }
   ],
   "source": [
    "#============================\n",
    "# 6. Split Data into Training and Validation Sets\n",
    "#============================\n",
    "idx <- which(numW$GW <= split_gw)\n",
    "\n",
    "# Training data\n",
    "Xnum_train <- num_array[idx, , , drop = FALSE]\n",
    "cat_player_id_train <- cat_player_id[idx, , drop = FALSE]\n",
    "cat_tID_train <- cat_tID[idx, , drop = FALSE]\n",
    "cat_oID_train <- cat_oID[idx, , drop = FALSE]\n",
    "cat_hID_train <- cat_hID[idx, , drop = FALSE]\n",
    "y_train <- targets[idx, , drop = FALSE]\n",
    "\n",
    "# Validation data\n",
    "Xnum_val <- num_array[-idx, , , drop = FALSE]\n",
    "cat_player_id_val <- cat_player_id[-idx, , drop = FALSE]\n",
    "cat_tID_val <- cat_tID[-idx, , drop = FALSE]\n",
    "cat_oID_val <- cat_oID[-idx, , drop = FALSE]\n",
    "cat_hID_val <- cat_hID[-idx, , drop = FALSE]\n",
    "y_val <- targets[-idx, , drop = FALSE]\n",
    "\n",
    "# Also, extract the row IDs for the validation samples (for later joining)\n",
    "val_row_ids <- numW$row_id[-idx]\n",
    "\n",
    "cat(\"Kjørt\")"
   ]
  },
  {
   "cell_type": "markdown",
   "id": "f52e6b9a",
   "metadata": {
    "_cell_guid": "0a558a78-4a98-4e6a-8f5e-d852b6189b9b",
    "_uuid": "5caa4a9c-34ea-4bb8-a1b1-765dd7c80d2c",
    "collapsed": false,
    "jupyter": {
     "outputs_hidden": false
    },
    "papermill": {
     "duration": 0.022646,
     "end_time": "2025-04-22T10:59:58.909978",
     "exception": false,
     "start_time": "2025-04-22T10:59:58.887332",
     "status": "completed"
    },
    "tags": []
   },
   "source": [
    "## 1.7 Model GK"
   ]
  },
  {
   "cell_type": "code",
   "execution_count": 11,
   "id": "87926c4c",
   "metadata": {
    "_cell_guid": "0709cb6c-4d43-4ad6-9332-f5ed410c5120",
    "_uuid": "d5bd1c5c-84e7-4323-bd51-2fb80a4e4b4d",
    "collapsed": false,
    "execution": {
     "iopub.execute_input": "2025-04-22T10:59:58.958735Z",
     "iopub.status.busy": "2025-04-22T10:59:58.957092Z",
     "iopub.status.idle": "2025-04-22T10:59:59.526499Z",
     "shell.execute_reply": "2025-04-22T10:59:59.524158Z"
    },
    "jupyter": {
     "outputs_hidden": false
    },
    "papermill": {
     "duration": 0.596238,
     "end_time": "2025-04-22T10:59:59.528733",
     "exception": false,
     "start_time": "2025-04-22T10:59:58.932495",
     "status": "completed"
    },
    "tags": []
   },
   "outputs": [
    {
     "name": "stdout",
     "output_type": "stream",
     "text": [
      "Model: \"Goalkeeper_LSTM_Model\"\n",
      "________________________________________________________________________________\n",
      " Layer (type)             Output Shape      Param #  Connected to               \n",
      "================================================================================\n",
      " input_player_id (InputLa  [(None, 1)]      0        []                         \n",
      " yer)                                                                           \n",
      " input_tID (InputLayer)   [(None, 1)]       0        []                         \n",
      " input_oID (InputLayer)   [(None, 1)]       0        []                         \n",
      " input_hID (InputLayer)   [(None, 1)]       0        []                         \n",
      " embedding (Embedding)    (None, 1, 20)     26620    ['input_player_id[0][0]']  \n",
      " embedding_1 (Embedding)  (None, 1, 20)     500      ['input_tID[0][0]']        \n",
      " embedding_2 (Embedding)  (None, 1, 20)     500      ['input_oID[0][0]']        \n",
      " lambda (Lambda)          (None, 1)         0        ['input_hID[0][0]']        \n",
      " input_seq (InputLayer)   [(None, 3, 14)]   0        []                         \n",
      " flatten (Flatten)        (None, 20)        0        ['embedding[0][0]']        \n",
      " flatten_1 (Flatten)      (None, 20)        0        ['embedding_1[0][0]']      \n",
      " flatten_2 (Flatten)      (None, 20)        0        ['embedding_2[0][0]']      \n",
      " flatten_3 (Flatten)      (None, 1)         0        ['lambda[0][0]']           \n",
      " lstm (LSTM)              (None, 64)        20224    ['input_seq[0][0]']        \n",
      " concatenate (Concatenate  (None, 61)       0        ['flatten[0][0]',          \n",
      " )                                                    'flatten_1[0][0]',        \n",
      "                                                      'flatten_2[0][0]',        \n",
      "                                                      'flatten_3[0][0]']        \n",
      " dropout (Dropout)        (None, 64)        0        ['lstm[0][0]']             \n",
      " dense (Dense)            (None, 16)        992      ['concatenate[0][0]']      \n",
      " concatenate_1 (Concatena  (None, 80)       0        ['dropout[0][0]',          \n",
      " te)                                                  'dense[0][0]']            \n",
      " dense_1 (Dense)          (None, 32)        2592     ['concatenate_1[0][0]']    \n",
      " dense_2 (Dense)          (None, 1)         33       ['dense_1[0][0]']          \n",
      "================================================================================\n",
      "Total params: 51,461\n",
      "Trainable params: 51,461\n",
      "Non-trainable params: 0\n",
      "________________________________________________________________________________\n"
     ]
    }
   ],
   "source": [
    "#============================\n",
    "# 7. Build the Model\n",
    "#============================\n",
    "# Define maximum values for categorical features\n",
    "num_players   <- max(gk$player_id)\n",
    "num_teams     <- max(gk$tID)\n",
    "num_opponents <- max(gk$oID)\n",
    "# For hID, assume it???s binary\n",
    "\n",
    "emb_dim <- 20  # Embedding dimension\n",
    "\n",
    "# Create input layers for current categorical values\n",
    "input_player_id <- layer_input(shape = c(1), dtype = \"int32\", name = \"input_player_id\")\n",
    "input_tID <- layer_input(shape = c(1), dtype = \"int32\", name = \"input_tID\")\n",
    "input_oID <- layer_input(shape = c(1), dtype = \"int32\", name = \"input_oID\")\n",
    "input_hID <- layer_input(shape = c(1), dtype = \"int32\", name = \"input_hID\")\n",
    "\n",
    "embedding_player_id <- input_player_id %>% \n",
    "  layer_embedding(input_dim = num_players + 1, output_dim = emb_dim, mask_zero = TRUE) %>% \n",
    "  layer_flatten()\n",
    "embedding_tID <- input_tID %>% \n",
    "  layer_embedding(input_dim = num_teams + 1, output_dim = emb_dim, mask_zero = TRUE) %>% \n",
    "  layer_flatten()\n",
    "embedding_oID <- input_oID %>% \n",
    "  layer_embedding(input_dim = num_opponents + 1, output_dim = emb_dim, mask_zero = TRUE) %>% \n",
    "  layer_flatten()\n",
    "# For hID, convert to float32 to match types\n",
    "input_hID_flat <- input_hID %>% \n",
    "  layer_lambda(function(x) tf$cast(x, tf$float32)) %>% \n",
    "  layer_flatten()\n",
    "\n",
    "# Merge categorical branch\n",
    "cat_merged <- layer_concatenate(list(embedding_player_id, embedding_tID, embedding_oID, input_hID_flat)) %>%\n",
    "  layer_dense(units = 16, activation = \"relu\")\n",
    "\n",
    "# Numerical branch: input for rolling window data\n",
    "input_seq <- layer_input(shape = c(ws, length(numF)), name = \"input_seq\")\n",
    "lstm_branch <- input_seq %>%\n",
    "  layer_lstm(units = 64, return_sequences = FALSE) %>%\n",
    "  layer_dropout(rate = 0.2)\n",
    "\n",
    "# Merge both branches and build the output\n",
    "merged <- layer_concatenate(list(lstm_branch, cat_merged))\n",
    "dense_layer <- merged %>% layer_dense(units = 32, activation = \"relu\")\n",
    "output <- dense_layer %>% layer_dense(units = 1, activation = \"linear\")\n",
    "\n",
    "# Build and compile the model\n",
    "model <- keras_model(\n",
    "  inputs = list(input_seq, input_player_id, input_tID, input_oID, input_hID),\n",
    "  outputs = output,\n",
    "    name = \"Goalkeeper_LSTM_Model\"\n",
    ")\n",
    "model %>% compile(\n",
    "  optimizer = optimizer_adam(),\n",
    "  loss = \"mse\",\n",
    "  metrics = metrics_regression,\n",
    "  run_eagerly = FALSE\n",
    ")\n",
    "summary(model)"
   ]
  },
  {
   "cell_type": "markdown",
   "id": "9a1a465a",
   "metadata": {
    "papermill": {
     "duration": 0.02315,
     "end_time": "2025-04-22T10:59:59.574793",
     "exception": false,
     "start_time": "2025-04-22T10:59:59.551643",
     "status": "completed"
    },
    "tags": []
   },
   "source": [
    "## FØR Fit av modellen GK\n",
    "\n",
    "1. Legger til funksjonen callback_early_stopping().\n",
    "- Patience := Hvor mange epoker skal den fortsette fra \"bunn\" verdien til loss funksjonen før den stopper tidlig og laster inn sist laveste observert prediksjons error.\n",
    "\n",
    "2. Legger til Checkpoints slik at vektene til modellen kan lagres "
   ]
  },
  {
   "cell_type": "code",
   "execution_count": 12,
   "id": "53344f05",
   "metadata": {
    "execution": {
     "iopub.execute_input": "2025-04-22T10:59:59.624520Z",
     "iopub.status.busy": "2025-04-22T10:59:59.623025Z",
     "iopub.status.idle": "2025-04-22T10:59:59.656652Z",
     "shell.execute_reply": "2025-04-22T10:59:59.654595Z"
    },
    "papermill": {
     "duration": 0.061438,
     "end_time": "2025-04-22T10:59:59.658960",
     "exception": false,
     "start_time": "2025-04-22T10:59:59.597522",
     "status": "completed"
    },
    "tags": []
   },
   "outputs": [
    {
     "name": "stdout",
     "output_type": "stream",
     "text": [
      "Will save best GK weights to: /kaggle/working/best_gk_weights.hdf5 \n"
     ]
    },
    {
     "name": "stdout",
     "output_type": "stream",
     "text": [
      "GK scaling factors stored.\n"
     ]
    }
   ],
   "source": [
    "# Filepath for saving the BEST weights (unique for each position)\n",
    "weights_filepath_gk <- \"/kaggle/working/best_gk_weights.hdf5\"\n",
    "cat(\"Will save best GK weights to:\", weights_filepath_gk, \"\\n\")\n",
    "\n",
    "# 1. Tidlig stopp funksjon, laster inn siste beste loss value.\n",
    "# patience: how many epochs to wait after last improvement before stopping\n",
    "# restore_best_weights: load the weights from the epoch with the best val_loss\n",
    "early_stopping <- callback_early_stopping(\n",
    "    monitor = \"val_loss\",\n",
    "    patience = num_patience, \n",
    "    restore_best_weights = TRUE\n",
    ")\n",
    "\n",
    "# 2. Model Checkpoint Callback (to save best weights)\n",
    "model_checkpoint <- callback_model_checkpoint(\n",
    "    filepath = weights_filepath_gk, # Path defined above\n",
    "    monitor = \"val_loss\",           # Monitor the same metric as early stopping\n",
    "    save_best_only = TRUE,          # IMPORTANT: Only save when val_loss improves\n",
    "    save_weights_only = TRUE,       # IMPORTANT: Save ONLY the weights, not the whole model\n",
    "    mode = \"min\",                   # We want to minimize loss\n",
    "    verbose = 1                     # Optional: print message when weights are saved\n",
    ")\n",
    "\n",
    "# 3. Reduce Learning Rate on Plateau Callback\n",
    "reduce_lr <- callback_reduce_lr_on_plateau(\n",
    "    monitor = \"val_loss\",  # Monitor validation loss (same as early stopping)\n",
    "    factor = 0.2,          # Reduce LR to 20% of its current value (lr * factor)\n",
    "    patience = 10,           # Reduce LR if val_loss doesn't improve for 5 epochs\n",
    "    min_lr = 1e-6,         # Don't reduce the LR below this value\n",
    "    verbose = 1            # Print a message when LR is reduced\n",
    ")\n",
    "\n",
    "scaling_factors$gk <- list(mu = mu,\n",
    "                           sigma = sigma,\n",
    "                           numF = numF) # numF here is the one selected by Lasso for GK\n",
    "cat(\"GK scaling factors stored.\\n\")\n"
   ]
  },
  {
   "cell_type": "markdown",
   "id": "62654c19",
   "metadata": {
    "papermill": {
     "duration": 0.023573,
     "end_time": "2025-04-22T10:59:59.705576",
     "exception": false,
     "start_time": "2025-04-22T10:59:59.682003",
     "status": "completed"
    },
    "tags": []
   },
   "source": [
    "## 1.8 Trening av modell"
   ]
  },
  {
   "cell_type": "code",
   "execution_count": 13,
   "id": "100eedae",
   "metadata": {
    "_cell_guid": "335c7284-a2c7-4dfe-b401-c2f0b3df2cc1",
    "_uuid": "086518a4-5402-4e3d-a536-04e9bf47c1e2",
    "collapsed": false,
    "execution": {
     "iopub.execute_input": "2025-04-22T10:59:59.755123Z",
     "iopub.status.busy": "2025-04-22T10:59:59.753501Z",
     "iopub.status.idle": "2025-04-22T11:00:25.498442Z",
     "shell.execute_reply": "2025-04-22T11:00:25.496570Z"
    },
    "jupyter": {
     "outputs_hidden": false
    },
    "papermill": {
     "duration": 25.772467,
     "end_time": "2025-04-22T11:00:25.501031",
     "exception": false,
     "start_time": "2025-04-22T10:59:59.728564",
     "status": "completed"
    },
    "tags": []
   },
   "outputs": [
    {
     "name": "stdout",
     "output_type": "stream",
     "text": [
      "Starting GK model training...\n"
     ]
    },
    {
     "name": "stdout",
     "output_type": "stream",
     "text": [
      "GK model training finished.\n"
     ]
    }
   ],
   "source": [
    "#============================\n",
    "# 8. Train the Model\n",
    "#============================\n",
    "cat(\"Starting GK model training...\\n\")\n",
    "history <- model %>% fit(\n",
    "  x = list(\n",
    "    input_seq = Xnum_train,\n",
    "    input_player_id = cat_player_id_train,\n",
    "    input_tID = cat_tID_train,\n",
    "    input_oID = cat_oID_train,\n",
    "    input_hID = cat_hID_train\n",
    "  ),\n",
    "  y = y_train,\n",
    "  epochs = epoker,          \n",
    "  batch_size = 64,          # Try increasing batch size (e.g., 64 or 128) for speed\n",
    "  validation_data = list(\n",
    "    list(\n",
    "      input_seq = Xnum_val,\n",
    "      input_player_id = cat_player_id_val,\n",
    "      input_tID = cat_tID_val,\n",
    "      input_oID = cat_oID_val,\n",
    "      input_hID = cat_hID_val\n",
    "    ),\n",
    "    y_val\n",
    "  ),\n",
    "  # ADD THE CALLBACKS HERE\n",
    "  callbacks = list(early_stopping, model_checkpoint, reduce_lr)\n",
    ")\n",
    "cat(\"GK model training finished.\\n\")"
   ]
  },
  {
   "cell_type": "markdown",
   "id": "e6a17357",
   "metadata": {
    "papermill": {
     "duration": 0.023023,
     "end_time": "2025-04-22T11:00:25.547624",
     "exception": false,
     "start_time": "2025-04-22T11:00:25.524601",
     "status": "completed"
    },
    "tags": []
   },
   "source": [
    "## Lagre Modellvekter"
   ]
  },
  {
   "cell_type": "code",
   "execution_count": 14,
   "id": "03c461b9",
   "metadata": {
    "_cell_guid": "99c18a98-58c2-4d8c-9f93-60a2bbf03702",
    "_uuid": "33f53ce9-8418-4472-ad11-3ce449c3ef66",
    "collapsed": false,
    "execution": {
     "iopub.execute_input": "2025-04-22T11:00:25.597544Z",
     "iopub.status.busy": "2025-04-22T11:00:25.595990Z",
     "iopub.status.idle": "2025-04-22T11:00:26.361861Z",
     "shell.execute_reply": "2025-04-22T11:00:26.359563Z"
    },
    "jupyter": {
     "outputs_hidden": false
    },
    "papermill": {
     "duration": 0.793701,
     "end_time": "2025-04-22T11:00:26.364145",
     "exception": false,
     "start_time": "2025-04-22T11:00:25.570444",
     "status": "completed"
    },
    "tags": []
   },
   "outputs": [
    {
     "name": "stdout",
     "output_type": "stream",
     "text": [
      "Rows: 2,228\n",
      "Columns: 49\n",
      "$ row_id                        \u001b[3m\u001b[90m<dbl>\u001b[39m\u001b[23m 336, 337, 338, 339, 340, 341, 342, 343, …\n",
      "$ predicted_total_points_scaled \u001b[3m\u001b[90m<dbl>\u001b[39m\u001b[23m 0.6662503, 0.4616901, 0.5438441, 0.51677…\n",
      "$ actual_total_points_scaled    \u001b[3m\u001b[90m<dbl>\u001b[39m\u001b[23m -0.42194588, -0.42194588, 0.55840006, 1.…\n",
      "$ predicted_total_points        \u001b[3m\u001b[90m<dbl>\u001b[39m\u001b[23m 2.220025, 1.802702, 1.970304, 1.915074, …\n",
      "$ actual_total_points           \u001b[3m\u001b[90m<dbl>\u001b[39m\u001b[23m 0, 0, 2, 3, 3, 2, 2, 1, 4, 9, 0, 0, 0, 0…\n",
      "$ name                          \u001b[3m\u001b[90m<chr>\u001b[39m\u001b[23m \"Aaron Ramsdale\", \"Aaron Ramsdale\", \"Aar…\n",
      "$ position                      \u001b[3m\u001b[90m<chr>\u001b[39m\u001b[23m \"GK\", \"GK\", \"GK\", \"GK\", \"GK\", \"GK\", \"GK\"…\n",
      "$ team                          \u001b[3m\u001b[90m<chr>\u001b[39m\u001b[23m \"Arsenal\", \"Arsenal\", \"Southampton\", \"So…\n",
      "$ xP                            \u001b[3m\u001b[90m<dbl>\u001b[39m\u001b[23m 3.2, 1.0, 0.2, 0.7, 2.0, 2.2, 1.0, 1.2, …\n",
      "$ assists                       \u001b[3m\u001b[90m<dbl>\u001b[39m\u001b[23m 0, 0, 0, 0, 0, 0, 0, 0, 0, 0, 0, 0, 0, 0…\n",
      "$ bonus                         \u001b[3m\u001b[90m<dbl>\u001b[39m\u001b[23m 0, 0, 0, 0, 0, 0, 0, 0, 0, 2, 0, 0, 0, 0…\n",
      "$ bps                           \u001b[3m\u001b[90m<dbl>\u001b[39m\u001b[23m 0, 0, 5, 12, 15, 5, 5, -2, 24, 33, 5, 0,…\n",
      "$ clean_sheets                  \u001b[3m\u001b[90m<dbl>\u001b[39m\u001b[23m 0, 0, 0, 0, 0, 0, 0, 0, 0, 1, 0, 0, 0, 0…\n",
      "$ creativity                    \u001b[3m\u001b[90m<dbl>\u001b[39m\u001b[23m 0, 0, 0, 0, 0, 0, 0, 0, 0, 0, 0, 0, 0, 0…\n",
      "$ expected_assists              \u001b[3m\u001b[90m<dbl>\u001b[39m\u001b[23m 0.00, 0.00, 0.00, 0.00, 0.00, 0.00, 0.01…\n",
      "$ expected_goal_involvements    \u001b[3m\u001b[90m<dbl>\u001b[39m\u001b[23m 0.00, 0.00, 0.00, 0.00, 0.00, 0.00, 0.01…\n",
      "$ expected_goals                \u001b[3m\u001b[90m<dbl>\u001b[39m\u001b[23m 0, 0, 0, 0, 0, 0, 0, 0, 0, 0, 0, 0, 0, 0…\n",
      "$ expected_goals_conceded       \u001b[3m\u001b[90m<dbl>\u001b[39m\u001b[23m 0.00, 0.00, 2.78, 2.67, 1.69, 1.38, 2.83…\n",
      "$ fixture                       \u001b[3m\u001b[90m<dbl>\u001b[39m\u001b[23m 2, 11, 22, 38, 48, 52, 61, 78, 89, 98, 1…\n",
      "$ goals_conceded                \u001b[3m\u001b[90m<dbl>\u001b[39m\u001b[23m 0, 0, 3, 3, 1, 3, 3, 3, 1, 0, 2, 0, 0, 0…\n",
      "$ goals_scored                  \u001b[3m\u001b[90m<dbl>\u001b[39m\u001b[23m 0, 0, 0, 0, 0, 0, 0, 0, 0, 0, 0, 0, 0, 0…\n",
      "$ ict_index                     \u001b[3m\u001b[90m<dbl>\u001b[39m\u001b[23m 0.0, 0.0, 2.8, 4.5, 4.1, 2.3, 2.4, 1.3, …\n",
      "$ influence                     \u001b[3m\u001b[90m<dbl>\u001b[39m\u001b[23m 0.0, 0.0, 27.8, 45.4, 41.2, 22.8, 24.4, …\n",
      "$ kickoff_time                  \u001b[3m\u001b[90m<dttm>\u001b[39m\u001b[23m 2024-08-17 14:00:00, 2024-08-24 16:30:0…\n",
      "$ minutes                       \u001b[3m\u001b[90m<dbl>\u001b[39m\u001b[23m 0, 0, 90, 90, 90, 90, 90, 90, 90, 90, 90…\n",
      "$ opponent_team                 \u001b[3m\u001b[90m<chr>\u001b[39m\u001b[23m \"Wolves\", \"Aston Villa\", \"Brentford\", \"M…\n",
      "$ own_goals                     \u001b[3m\u001b[90m<dbl>\u001b[39m\u001b[23m 0, 0, 0, 0, 0, 0, 0, 0, 0, 0, 0, 0, 0, 0…\n",
      "$ penalties_missed              \u001b[3m\u001b[90m<dbl>\u001b[39m\u001b[23m 0, 0, 0, 0, 0, 0, 0, 0, 0, 0, 0, 0, 0, 0…\n",
      "$ penalties_saved               \u001b[3m\u001b[90m<dbl>\u001b[39m\u001b[23m 0, 0, 0, 0, 0, 0, 0, 0, 0, 0, 0, 0, 0, 0…\n",
      "$ red_cards                     \u001b[3m\u001b[90m<dbl>\u001b[39m\u001b[23m 0, 0, 0, 0, 0, 0, 0, 0, 0, 0, 0, 0, 0, 0…\n",
      "$ round                         \u001b[3m\u001b[90m<dbl>\u001b[39m\u001b[23m 1, 2, 3, 4, 5, 6, 7, 8, 9, 10, 11, 12, 1…\n",
      "$ saves                         \u001b[3m\u001b[90m<dbl>\u001b[39m\u001b[23m 0, 0, 4, 7, 5, 3, 3, 1, 6, 5, 2, 0, 0, 0…\n",
      "$ selected                      \u001b[3m\u001b[90m<dbl>\u001b[39m\u001b[23m 68531, 74765, 107644, 176635, 206185, 22…\n",
      "$ starts                        \u001b[3m\u001b[90m<dbl>\u001b[39m\u001b[23m 0, 0, 1, 1, 1, 1, 1, 1, 1, 1, 1, 0, 0, 0…\n",
      "$ team_a_score                  \u001b[3m\u001b[90m<dbl>\u001b[39m\u001b[23m 0, 2, 1, 3, 1, 1, 1, 3, 0, 0, 0, 3, 1, 5…\n",
      "$ team_h_score                  \u001b[3m\u001b[90m<dbl>\u001b[39m\u001b[23m 2, 0, 3, 0, 1, 3, 3, 2, 1, 1, 2, 2, 1, 1…\n",
      "$ threat                        \u001b[3m\u001b[90m<dbl>\u001b[39m\u001b[23m 0, 0, 0, 0, 0, 0, 0, 0, 0, 0, 0, 0, 0, 0…\n",
      "$ total_points                  \u001b[3m\u001b[90m<dbl>\u001b[39m\u001b[23m 0, 0, 2, 3, 3, 2, 2, 1, 4, 9, 0, 0, 0, 0…\n",
      "$ transfers_balance             \u001b[3m\u001b[90m<dbl>\u001b[39m\u001b[23m 0, -9669, 24647, 56313, 25228, 12742, -6…\n",
      "$ transfers_in                  \u001b[3m\u001b[90m<dbl>\u001b[39m\u001b[23m 0, 2378, 41306, 83072, 34765, 30311, 143…\n",
      "$ transfers_out                 \u001b[3m\u001b[90m<dbl>\u001b[39m\u001b[23m 0, 12047, 16659, 26759, 9537, 17569, 150…\n",
      "$ value                         \u001b[3m\u001b[90m<dbl>\u001b[39m\u001b[23m 45, 45, 44, 44, 44, 44, 44, 44, 44, 44, …\n",
      "$ was_home                      \u001b[3m\u001b[90m<lgl>\u001b[39m\u001b[23m TRUE, FALSE, FALSE, TRUE, TRUE, FALSE, F…\n",
      "$ yellow_cards                  \u001b[3m\u001b[90m<dbl>\u001b[39m\u001b[23m 0, 0, 0, 0, 0, 0, 0, 0, 0, 0, 1, 0, 0, 0…\n",
      "$ GW                            \u001b[3m\u001b[90m<dbl>\u001b[39m\u001b[23m 77, 78, 79, 80, 81, 82, 83, 84, 85, 86, …\n",
      "$ player_id                     \u001b[3m\u001b[90m<dbl>\u001b[39m\u001b[23m 5, 5, 5, 5, 5, 5, 5, 5, 5, 5, 5, 5, 5, 5…\n",
      "$ oID                           \u001b[3m\u001b[90m<dbl>\u001b[39m\u001b[23m 24, 2, 4, 17, 11, 3, 1, 13, 16, 9, 24, 1…\n",
      "$ tID                           \u001b[3m\u001b[90m<dbl>\u001b[39m\u001b[23m 1, 1, 21, 21, 21, 21, 21, 21, 21, 21, 21…\n",
      "$ hID                           \u001b[3m\u001b[90m<dbl>\u001b[39m\u001b[23m 1, 0, 0, 1, 1, 0, 0, 1, 0, 1, 0, 1, 0, 1…\n"
     ]
    }
   ],
   "source": [
    "#============================\n",
    "# 9. Generate Predictions & Invert Scaling on Validation Set\n",
    "#============================\n",
    "# Use the validation set for predictions\n",
    "pred_all <- model %>% predict(\n",
    "  list(\n",
    "    input_seq = Xnum_val,\n",
    "    input_player_id = cat_player_id_val,\n",
    "    input_tID = cat_tID_val,\n",
    "    input_oID = cat_oID_val,\n",
    "    input_hID = cat_hID_val\n",
    "  )\n",
    ")\n",
    "\n",
    "# Build a predictions table using the validation row IDs\n",
    "preds_gk <- tibble(\n",
    "  row_id = val_row_ids,  # row IDs corresponding to the validation set\n",
    "  predicted_total_points_scaled = as.vector(pred_all),\n",
    "  actual_total_points_scaled = as.vector(y_val)\n",
    ") %>% \n",
    "  mutate(\n",
    "    predicted_total_points = predicted_total_points_scaled * sigma + mu,\n",
    "    actual_total_points = actual_total_points_scaled * sigma + mu\n",
    "  )\n",
    "\n",
    "\n",
    "preds_gk <- preds_gk %>%\n",
    "  left_join(unscaled_gk, by = \"row_id\") # Use unscaled_gk\n",
    "\n",
    "# View the predictions table\n",
    "glimpse(preds_gk)"
   ]
  },
  {
   "cell_type": "markdown",
   "id": "5fcbd073",
   "metadata": {
    "_cell_guid": "27c14178-d4d2-4c5f-a35f-9179320e0f3b",
    "_uuid": "e9f75be3-9287-47b8-b1bb-de0e63a3537f",
    "collapsed": false,
    "jupyter": {
     "outputs_hidden": false
    },
    "papermill": {
     "duration": 0.023589,
     "end_time": "2025-04-22T11:00:26.411175",
     "exception": false,
     "start_time": "2025-04-22T11:00:26.387586",
     "status": "completed"
    },
    "tags": []
   },
   "source": [
    "## 1.10 Plots Evaluation Data"
   ]
  },
  {
   "cell_type": "code",
   "execution_count": 15,
   "id": "49d45ead",
   "metadata": {
    "_cell_guid": "e2872d78-7bd8-4dab-998e-4c7218e295f0",
    "_uuid": "f80068be-e7d9-4c39-8dc7-258befbd91f0",
    "collapsed": false,
    "execution": {
     "iopub.execute_input": "2025-04-22T11:00:26.461019Z",
     "iopub.status.busy": "2025-04-22T11:00:26.459495Z",
     "iopub.status.idle": "2025-04-22T11:00:27.816058Z",
     "shell.execute_reply": "2025-04-22T11:00:27.814232Z"
    },
    "jupyter": {
     "outputs_hidden": false
    },
    "papermill": {
     "duration": 1.385031,
     "end_time": "2025-04-22T11:00:27.819308",
     "exception": false,
     "start_time": "2025-04-22T11:00:26.434277",
     "status": "completed"
    },
    "tags": []
   },
   "outputs": [
    {
     "name": "stdout",
     "output_type": "stream",
     "text": [
      "Rows: 6,500\n",
      "Columns: 4\n",
      "$ epoch  \u001b[3m\u001b[90m<int>\u001b[39m\u001b[23m 1, 2, 3, 4, 5, 6, 7, 8, 9, 10, 11, 12, 13, 14, 15, 16, 17, 18, …\n",
      "$ value  \u001b[3m\u001b[90m<dbl>\u001b[39m\u001b[23m 0.9703714, 0.7201726, 0.6533843, 0.6392603, 0.6280434, 0.623896…\n",
      "$ metric \u001b[3m\u001b[90m<fct>\u001b[39m\u001b[23m loss, loss, loss, loss, loss, loss, loss, loss, loss, loss, los…\n",
      "$ data   \u001b[3m\u001b[90m<fct>\u001b[39m\u001b[23m training, training, training, training, training, training, tra…\n"
     ]
    },
    {
     "data": {
      "image/png": "[encoded data removed]"
     },
     "metadata": {
      "image/png": {
       "height": 420,
       "width": 420
      }
     },
     "output_type": "display_data"
    }
   ],
   "source": [
    "plot(history)\n",
    "\n",
    "history_df_gk <- data.frame(history)\n",
    "\n",
    "glimpse(history_df_gk)"
   ]
  },
  {
   "cell_type": "markdown",
   "id": "1be907b9",
   "metadata": {
    "_cell_guid": "8cdc0b16-3f98-4f99-99cf-81319fb69b52",
    "_uuid": "5dfea4e5-c897-4344-a568-8324ac5d941a",
    "collapsed": false,
    "jupyter": {
     "outputs_hidden": false
    },
    "papermill": {
     "duration": 0.028169,
     "end_time": "2025-04-22T11:00:27.873982",
     "exception": false,
     "start_time": "2025-04-22T11:00:27.845813",
     "status": "completed"
    },
    "tags": []
   },
   "source": [
    "## 1.11 Lagre modell og prediksjoner"
   ]
  },
  {
   "cell_type": "code",
   "execution_count": 16,
   "id": "fc8711de",
   "metadata": {
    "_cell_guid": "f33a0155-b6c9-4c5e-9247-958efdf63dd9",
    "_uuid": "37853383-7032-499d-a775-de07f643869c",
    "collapsed": false,
    "execution": {
     "iopub.execute_input": "2025-04-22T11:00:27.928820Z",
     "iopub.status.busy": "2025-04-22T11:00:27.927197Z",
     "iopub.status.idle": "2025-04-22T11:00:27.949440Z",
     "shell.execute_reply": "2025-04-22T11:00:27.947691Z"
    },
    "jupyter": {
     "outputs_hidden": false
    },
    "papermill": {
     "duration": 0.052648,
     "end_time": "2025-04-22T11:00:27.951981",
     "exception": false,
     "start_time": "2025-04-22T11:00:27.899333",
     "status": "completed"
    },
    "tags": []
   },
   "outputs": [
    {
     "name": "stdout",
     "output_type": "stream",
     "text": [
      "GK model stored in Notebook Memory.\n"
     ]
    }
   ],
   "source": [
    "# Store GK model and scaling factors\n",
    "model_list$gk <- model\n",
    "cat(\"GK model stored in Notebook Memory.\\n\")\n",
    "\n",
    "# Clean up validation predictions (select essential columns)\n",
    "preds_gk_clean <- preds_gk %>%\n",
    "  select(row_id, GW, player_id, name, position, team, # Identifiers from unscaled_gk join\n",
    "         actual_total_points, predicted_total_points, value)"
   ]
  },
  {
   "cell_type": "markdown",
   "id": "982c0e6a",
   "metadata": {
    "_cell_guid": "5b39db45-f6f8-4372-b5d7-0ef23ddbaf37",
    "_uuid": "b62bae4d-053c-4fac-9c4f-7f27ab93549b",
    "collapsed": false,
    "jupyter": {
     "outputs_hidden": false
    },
    "papermill": {
     "duration": 0.026003,
     "end_time": "2025-04-22T11:00:28.003798",
     "exception": false,
     "start_time": "2025-04-22T11:00:27.977795",
     "status": "completed"
    },
    "tags": []
   },
   "source": [
    "### 1.10.1 More Post Evaluation"
   ]
  },
  {
   "cell_type": "code",
   "execution_count": 17,
   "id": "bccc9ca6",
   "metadata": {
    "_cell_guid": "8af9ac67-2123-4db6-81cf-1767daae19f8",
    "_uuid": "4e4706f2-c0c9-4145-969a-efd1fd387013",
    "collapsed": false,
    "execution": {
     "iopub.execute_input": "2025-04-22T11:00:28.059286Z",
     "iopub.status.busy": "2025-04-22T11:00:28.057583Z",
     "iopub.status.idle": "2025-04-22T11:00:28.927209Z",
     "shell.execute_reply": "2025-04-22T11:00:28.925268Z"
    },
    "jupyter": {
     "outputs_hidden": false
    },
    "papermill": {
     "duration": 0.900215,
     "end_time": "2025-04-22T11:00:28.929616",
     "exception": false,
     "start_time": "2025-04-22T11:00:28.029401",
     "status": "completed"
    },
    "tags": []
   },
   "outputs": [
    {
     "name": "stdout",
     "output_type": "stream",
     "text": [
      "                          loss            mean_absolute_error \n",
      "                     0.8690171                      0.5915390 \n",
      "            mean_squared_error        root_mean_squared_error \n",
      "                     0.8690171                      0.9322109 \n",
      "mean_absolute_percentage_error              cosine_similarity \n",
      "                   141.9394531                      0.3294435 \n"
     ]
    }
   ],
   "source": [
    "# After training, evaluate the model on validation data with all metrics\n",
    "model_evaluation <- model %>% evaluate(\n",
    "  x = list(\n",
    "    input_seq = Xnum_val,\n",
    "    input_player_id = cat_player_id_val,\n",
    "    input_tID = cat_tID_val,\n",
    "    input_oID = cat_oID_val,\n",
    "    input_hID = cat_hID_val\n",
    "  ),\n",
    "  y = y_val,\n",
    "  verbose = 1\n",
    ")\n",
    "\n",
    "# Print the evaluation results (metrics specified during compilation)\n",
    "print(model_evaluation)\n",
    "\n",
    "# Combine results by position\n",
    "validation_metrics <- list()\n",
    "validation_metrics$gk <- model_list$gk %>% evaluate(\n",
    "  x = list(\n",
    "    input_seq = Xnum_val,\n",
    "    input_player_id = cat_player_id_val,\n",
    "    input_tID = cat_tID_val,\n",
    "    input_oID = cat_oID_val,\n",
    "    input_hID = cat_hID_val\n",
    "  ),\n",
    "  y = y_val\n",
    ")"
   ]
  },
  {
   "cell_type": "markdown",
   "id": "7ad6b612",
   "metadata": {
    "_cell_guid": "22087fe4-5caa-4127-bb7f-2e37f35a2583",
    "_uuid": "9bbf8786-9f0d-4c57-b046-6035ae0d8207",
    "collapsed": false,
    "jupyter": {
     "outputs_hidden": false
    },
    "papermill": {
     "duration": 0.025608,
     "end_time": "2025-04-22T11:00:28.981018",
     "exception": false,
     "start_time": "2025-04-22T11:00:28.955410",
     "status": "completed"
    },
    "tags": []
   },
   "source": [
    "## 2: Forsvarsspillere"
   ]
  },
  {
   "cell_type": "code",
   "execution_count": 18,
   "id": "ad6026a7",
   "metadata": {
    "_cell_guid": "51dabc2a-5a1e-4f83-9746-334cf8837e4c",
    "_uuid": "58ca99c4-5ff6-4d96-9b5e-3bbeb333991b",
    "collapsed": false,
    "execution": {
     "iopub.execute_input": "2025-04-22T11:00:29.035884Z",
     "iopub.status.busy": "2025-04-22T11:00:29.034269Z",
     "iopub.status.idle": "2025-04-22T11:00:29.066263Z",
     "shell.execute_reply": "2025-04-22T11:00:29.064457Z"
    },
    "jupyter": {
     "outputs_hidden": false
    },
    "papermill": {
     "duration": 0.061901,
     "end_time": "2025-04-22T11:00:29.068432",
     "exception": false,
     "start_time": "2025-04-22T11:00:29.006531",
     "status": "completed"
    },
    "tags": []
   },
   "outputs": [
    {
     "name": "stdout",
     "output_type": "stream",
     "text": [
      "Numeriske features: assists creativity minutes goals_conceded bonus bps expected_assists expected_goal_involvements expected_goals ict_index own_goals red_cards threat transfers_in transfers_out yellow_cards expected_goals_conceded value selected transfers_balance starts influence clean_sheets \n"
     ]
    },
    {
     "name": "stdout",
     "output_type": "stream",
     "text": [
      "Kategoriske features: player_id tID oID hID \n"
     ]
    },
    {
     "name": "stdout",
     "output_type": "stream",
     "text": [
      "Target variabel: total_points \n"
     ]
    },
    {
     "name": "stdout",
     "output_type": "stream",
     "text": [
      "Ferdig"
     ]
    }
   ],
   "source": [
    "#----------------------------\n",
    "# Define Features, Target & Scale\n",
    "#----------------------------\n",
    "numF <- c(\"assists\", \"creativity\", \"minutes\", \"goals_conceded\",\n",
    "          \"bonus\", \"bps\", \"expected_assists\", \"expected_goal_involvements\",\n",
    "          \"expected_goals\", \"ict_index\", \"own_goals\", \"red_cards\",\n",
    "          \"threat\", \"transfers_in\", \"transfers_out\", \"yellow_cards\",\n",
    "          \"expected_goals_conceded\", \"value\",\n",
    "          \"selected\", \"transfers_balance\", \"starts\", \"influence\",\n",
    "          \"clean_sheets\")\n",
    "catF <- c(\"player_id\", \"tID\", \"oID\", \"hID\")\n",
    "tar <- \"total_points\"\n",
    "\n",
    "cat(\"Numeriske features:\", numF, \"\\n\")\n",
    "cat(\"Kategoriske features:\", catF, \"\\n\")\n",
    "cat(\"Target variabel:\", tar, \"\\n\")\n",
    "cat(\"Ferdig\")"
   ]
  },
  {
   "cell_type": "code",
   "execution_count": 19,
   "id": "6fb5ba67",
   "metadata": {
    "_cell_guid": "5474f813-fddc-455d-868d-d48d24da2f64",
    "_uuid": "6ac54080-43ec-4849-bae5-a78c21e788fc",
    "collapsed": false,
    "execution": {
     "iopub.execute_input": "2025-04-22T11:00:29.124097Z",
     "iopub.status.busy": "2025-04-22T11:00:29.122571Z",
     "iopub.status.idle": "2025-04-22T11:00:29.164484Z",
     "shell.execute_reply": "2025-04-22T11:00:29.162490Z"
    },
    "jupyter": {
     "outputs_hidden": false
    },
    "papermill": {
     "duration": 0.072258,
     "end_time": "2025-04-22T11:00:29.166767",
     "exception": false,
     "start_time": "2025-04-22T11:00:29.094509",
     "status": "completed"
    },
    "tags": []
   },
   "outputs": [
    {
     "name": "stdout",
     "output_type": "stream",
     "text": [
      "Kjørt"
     ]
    }
   ],
   "source": [
    "# Compute and store the mean and standard deviation for the target variable\n",
    "\n",
    "mu <- mean(def[[tar]], na.rm = TRUE)\n",
    "sigma <- sd(def[[tar]], na.rm = TRUE)\n",
    "\n",
    "# Scale numerical features and target\n",
    "def <- def %>%\n",
    "  mutate(across(all_of(numF), ~ (.x - mean(.x, na.rm = TRUE)) / sd(.x, na.rm = TRUE)),\n",
    "         !!tar := (.data[[tar]] - mu) / sigma)\n",
    "\n",
    "cat(\"Kjørt\")"
   ]
  },
  {
   "cell_type": "code",
   "execution_count": 20,
   "id": "421a085f",
   "metadata": {
    "_cell_guid": "1213aec8-8a85-4f33-9bf8-962a04d3517e",
    "_uuid": "83f90330-51ed-4530-83f9-dac0b8c32666",
    "collapsed": false,
    "execution": {
     "iopub.execute_input": "2025-04-22T11:00:29.224758Z",
     "iopub.status.busy": "2025-04-22T11:00:29.223152Z",
     "iopub.status.idle": "2025-04-22T11:00:29.234863Z",
     "shell.execute_reply": "2025-04-22T11:00:29.233134Z"
    },
    "jupyter": {
     "outputs_hidden": false
    },
    "papermill": {
     "duration": 0.04436,
     "end_time": "2025-04-22T11:00:29.237064",
     "exception": false,
     "start_time": "2025-04-22T11:00:29.192704",
     "status": "completed"
    },
    "tags": []
   },
   "outputs": [],
   "source": [
    "### 2.3 DEF Building rolling windows"
   ]
  },
  {
   "cell_type": "code",
   "execution_count": 21,
   "id": "5baf4a35",
   "metadata": {
    "_cell_guid": "9f89234c-79a0-4a77-a89a-b9a9da55400b",
    "_uuid": "a4d428a2-a2b4-49b3-8dab-7ca7a1cd7fd1",
    "collapsed": false,
    "execution": {
     "iopub.execute_input": "2025-04-22T11:00:29.292696Z",
     "iopub.status.busy": "2025-04-22T11:00:29.291059Z",
     "iopub.status.idle": "2025-04-22T11:00:38.782520Z",
     "shell.execute_reply": "2025-04-22T11:00:38.780714Z"
    },
    "jupyter": {
     "outputs_hidden": false
    },
    "papermill": {
     "duration": 9.522006,
     "end_time": "2025-04-22T11:00:38.784867",
     "exception": false,
     "start_time": "2025-04-22T11:00:29.262861",
     "status": "completed"
    },
    "tags": []
   },
   "outputs": [
    {
     "name": "stdout",
     "output_type": "stream",
     "text": [
      "Kjørt"
     ]
    }
   ],
   "source": [
    "#----------------------------\n",
    "# 3. Build Rolling Windows\n",
    "#----------------------------\n",
    "# Define window size (number of past gameweeks to use)\n",
    "ws <- vindu\n",
    "\n",
    "# Build numerical rolling windows\n",
    "numW <- def %>%\n",
    "  group_by(player_id) %>%\n",
    "  filter(n() > ws) %>%  # Only players with more than ws observations\n",
    "  group_modify(~ {\n",
    "    windows <- slide(.x[, numF],\n",
    "                     .f = ~ as.matrix(.x),\n",
    "                     .before = ws, \n",
    "                     .after = -1, # prevents the model from seeing current gw data\n",
    "                     .complete = TRUE)\n",
    "    valid_windows <- windows[(ws + 1):length(windows)]\n",
    "    target <- .x[[tar]][(ws + 1):nrow(.x)]\n",
    "    # Extract row_id for each valid window\n",
    "    rid <- .x$row_id[(ws + 1):nrow(.x)]\n",
    "    tibble(window = valid_windows, target = target, row_id = rid)\n",
    "  }) %>%\n",
    "  ungroup()\n",
    "numW <- numW %>%\n",
    "  left_join(def %>% select(row_id, GW), by = \"row_id\")\n",
    "# Build categorical rolling windows (if needed for debugging; here we use only the current values)\n",
    "catW <- def %>%\n",
    "  group_by(player_id) %>%\n",
    "  filter(n() > ws) %>%\n",
    "  group_modify(~ {\n",
    "    df <- ungroup(.x) %>% mutate(player_id = .y$player_id)\n",
    "    windows <- slide(df %>% select(all_of(catF)),\n",
    "                     .f = ~ as.matrix(.x),\n",
    "                     .before = ws,\n",
    "                     #.after = -1,\n",
    "                     .complete = TRUE)\n",
    "    valid_windows <- windows[(ws + 1):length(windows)]\n",
    "    target <- df[[tar]][(ws + 1):nrow(df)]\n",
    "    tibble(window = valid_windows, target = target)\n",
    "  }) %>%\n",
    "  ungroup()\n",
    "\n",
    "cat(\"Kjørt\")"
   ]
  },
  {
   "cell_type": "code",
   "execution_count": 22,
   "id": "70adf49b",
   "metadata": {
    "_cell_guid": "b1eb602c-fd17-4ce4-9c65-aac002659b8a",
    "_uuid": "377cce38-f862-4c42-b11d-990fa7a3f9eb",
    "collapsed": false,
    "execution": {
     "iopub.execute_input": "2025-04-22T11:00:38.840744Z",
     "iopub.status.busy": "2025-04-22T11:00:38.839212Z",
     "iopub.status.idle": "2025-04-22T11:00:43.942966Z",
     "shell.execute_reply": "2025-04-22T11:00:43.941003Z"
    },
    "jupyter": {
     "outputs_hidden": false
    },
    "papermill": {
     "duration": 5.134426,
     "end_time": "2025-04-22T11:00:43.945469",
     "exception": false,
     "start_time": "2025-04-22T11:00:38.811043",
     "status": "completed"
    },
    "tags": []
   },
   "outputs": [
    {
     "name": "stdout",
     "output_type": "stream",
     "text": [
      "Windows with NA:  0 \n"
     ]
    },
    {
     "name": "stdout",
     "output_type": "stream",
     "text": [
      "Selected features:  creativity minutes bonus bps expected_goal_involvements red_cards threat transfers_in expected_goals_conceded value selected transfers_balance \n"
     ]
    },
    {
     "name": "stdout",
     "output_type": "stream",
     "text": [
      "Kjørt"
     ]
    }
   ],
   "source": [
    "# Check for any NA in the windows before summary\n",
    "sumna <- sapply(numW$window, function(flatW) any(is.na(flatW)))\n",
    "cat(\"Windows with NA: \", sum(sumna), \"\\n\")\n",
    "\n",
    "#----------------------------\n",
    "# 4. Lasso regression\n",
    "#----------------------------\n",
    "# numW as data.matrix, tar as response variable\n",
    "\n",
    "aggmat <- lapply(numW$window, function(flatW){\n",
    "  colMeans(flatW, na.rm = TRUE)\n",
    "})\n",
    "x <- do.call(rbind, aggmat)\n",
    "y <- numW$target\n",
    "\n",
    "# K-fold CV\n",
    "cvfit <- cv.glmnet(x,y,alpha=1)\n",
    "minlambda <- cvfit$lambda.min\n",
    "\n",
    "lassofit <- glmnet(x,y,alpha = 1, lambda = minlambda)\n",
    "\n",
    "coef_lasso <- as.matrix(coef(lassofit))\n",
    "numF <- rownames(coef_lasso)[coef_lasso[,1] != 0]\n",
    "numF <- setdiff(numF, \"(Intercept)\")\n",
    "cat(\"Selected features: \", numF, \"\\n\")\n",
    "\n",
    "# repeat rolling window, now only containing selected features\n",
    "# Define window size (number of past gameweeks to use)\n",
    "ws <- vindu\n",
    "\n",
    "# Build numerical rolling windows\n",
    "numW <- def %>%\n",
    "  group_by(player_id) %>%\n",
    "  filter(n() > ws) %>%  # Only players with more than ws observations\n",
    "  group_modify(~ {\n",
    "    windows <- slide(.x[, numF],\n",
    "                     .f = ~ as.matrix(.x),\n",
    "                     .before = ws, \n",
    "                     .after = -1,\n",
    "                     .complete = TRUE)\n",
    "    valid_windows <- windows[(ws + 1):length(windows)]\n",
    "    target <- .x[[tar]][(ws + 1):nrow(.x)]\n",
    "    # Extract row_id for each valid window\n",
    "    rid <- .x$row_id[(ws + 1):nrow(.x)]\n",
    "    tibble(window = valid_windows, target = target, row_id = rid)\n",
    "  }) %>%\n",
    "  ungroup()\n",
    "numW <- numW %>%\n",
    "  left_join(def %>% select(row_id, GW), by = \"row_id\")\n",
    "\n",
    "cat(\"Kjørt\")"
   ]
  },
  {
   "cell_type": "code",
   "execution_count": 23,
   "id": "b2cd045f",
   "metadata": {
    "_cell_guid": "ac2c7d4c-89d7-4da0-8005-fcb3a7ec9838",
    "_uuid": "7ff163e3-2af6-43d7-bf7c-bca32cdc8fab",
    "collapsed": false,
    "execution": {
     "iopub.execute_input": "2025-04-22T11:00:44.004038Z",
     "iopub.status.busy": "2025-04-22T11:00:44.002439Z",
     "iopub.status.idle": "2025-04-22T11:00:44.193218Z",
     "shell.execute_reply": "2025-04-22T11:00:44.191455Z"
    },
    "jupyter": {
     "outputs_hidden": false
    },
    "papermill": {
     "duration": 0.223181,
     "end_time": "2025-04-22T11:00:44.195577",
     "exception": false,
     "start_time": "2025-04-22T11:00:43.972396",
     "status": "completed"
    },
    "tags": []
   },
   "outputs": [],
   "source": [
    "#============================\n",
    "# 5. Convert Rolling Windows to Arrays & Extract Targets\n",
    "#============================\n",
    "# Number of samples is the number of rows in numW\n",
    "nSamp <- nrow(numW)\n",
    "\n",
    "# Convert numerical windows to a 3D array of shape [nSamp, ws, length(numF)]\n",
    "num_array <- array(\n",
    "  unlist(numW$window),\n",
    "  dim = c(nSamp, ws, length(numF))\n",
    ")\n",
    "\n",
    "# Targets (scaled): a matrix with one column\n",
    "targets <- matrix(as.numeric(numW$target), ncol = 1)\n",
    "\n",
    "# For categorical inputs, extract the current categorical values from the last row of each window.\n",
    "# (If your windows were built solely from historical data, the \"current\" values need to come from the original data.)\n",
    "# Here, we use the categorical rolling windows and extract the last row:\n",
    "cat_current <- do.call(rbind, lapply(catW$window, function(mat) mat[nrow(mat), ]))\n",
    "# Split into separate matrices (each of shape [nSamp, 1])\n",
    "cat_player_id <- matrix(as.integer(cat_current[, \"player_id\"]), ncol = 1)\n",
    "cat_tID <- matrix(as.integer(cat_current[, \"tID\"]), ncol = 1)\n",
    "cat_oID <- matrix(as.integer(cat_current[, \"oID\"]), ncol = 1)\n",
    "cat_hID <- matrix(as.integer(cat_current[, \"hID\"]), ncol = 1)"
   ]
  },
  {
   "cell_type": "markdown",
   "id": "fd68f7e5",
   "metadata": {
    "_cell_guid": "c6e58dc1-e137-422c-86fb-8f76a7dacbcc",
    "_uuid": "338c2f42-fc9a-43b2-bf7c-f7d199ec8b3e",
    "collapsed": false,
    "jupyter": {
     "outputs_hidden": false
    },
    "papermill": {
     "duration": 0.027223,
     "end_time": "2025-04-22T11:00:44.249371",
     "exception": false,
     "start_time": "2025-04-22T11:00:44.222148",
     "status": "completed"
    },
    "tags": []
   },
   "source": [
    "## 6.Data split DEF"
   ]
  },
  {
   "cell_type": "code",
   "execution_count": 24,
   "id": "57590449",
   "metadata": {
    "_cell_guid": "9a0580c4-29eb-46b2-9a8e-54809d9557e1",
    "_uuid": "c3fa5d67-2e94-4ec0-a25c-9924dd40d000",
    "collapsed": false,
    "execution": {
     "iopub.execute_input": "2025-04-22T11:00:44.307732Z",
     "iopub.status.busy": "2025-04-22T11:00:44.306087Z",
     "iopub.status.idle": "2025-04-22T11:00:44.354062Z",
     "shell.execute_reply": "2025-04-22T11:00:44.352221Z"
    },
    "jupyter": {
     "outputs_hidden": false
    },
    "papermill": {
     "duration": 0.079438,
     "end_time": "2025-04-22T11:00:44.356394",
     "exception": false,
     "start_time": "2025-04-22T11:00:44.276956",
     "status": "completed"
    },
    "tags": []
   },
   "outputs": [],
   "source": [
    "\n",
    "#============================\n",
    "# 6. Split Data into Training and Validation Sets\n",
    "#============================\n",
    "idx <- which(numW$GW <= split_gw)\n",
    "\n",
    "# Training data\n",
    "Xnum_train <- num_array[idx, , , drop = FALSE]\n",
    "cat_player_id_train <- cat_player_id[idx, , drop = FALSE]\n",
    "cat_tID_train <- cat_tID[idx, , drop = FALSE]\n",
    "cat_oID_train <- cat_oID[idx, , drop = FALSE]\n",
    "cat_hID_train <- cat_hID[idx, , drop = FALSE]\n",
    "y_train <- targets[idx, , drop = FALSE]\n",
    "\n",
    "# Validation data\n",
    "Xnum_val <- num_array[-idx, , , drop = FALSE]\n",
    "cat_player_id_val <- cat_player_id[-idx, , drop = FALSE]\n",
    "cat_tID_val <- cat_tID[-idx, , drop = FALSE]\n",
    "cat_oID_val <- cat_oID[-idx, , drop = FALSE]\n",
    "cat_hID_val <- cat_hID[-idx, , drop = FALSE]\n",
    "y_val <- targets[-idx, , drop = FALSE]\n",
    "\n",
    "# Also, extract the row IDs for the validation samples (for later joining)\n",
    "val_row_ids <- numW$row_id[-idx]"
   ]
  },
  {
   "cell_type": "markdown",
   "id": "c821f9ca",
   "metadata": {
    "_cell_guid": "d195fe81-5fe5-4db8-9837-a398866093b2",
    "_uuid": "25564216-48d1-4f61-84f4-860c8b637dc0",
    "collapsed": false,
    "jupyter": {
     "outputs_hidden": false
    },
    "papermill": {
     "duration": 0.02663,
     "end_time": "2025-04-22T11:00:44.409467",
     "exception": false,
     "start_time": "2025-04-22T11:00:44.382837",
     "status": "completed"
    },
    "tags": []
   },
   "source": [
    "## 2.7 Model"
   ]
  },
  {
   "cell_type": "code",
   "execution_count": 25,
   "id": "df25b6d5",
   "metadata": {
    "_cell_guid": "48e9adcb-1db4-4275-86ea-1f082c35c5fd",
    "_uuid": "780f68da-c88d-4c5c-b078-6b359ac2ead0",
    "collapsed": false,
    "execution": {
     "iopub.execute_input": "2025-04-22T11:00:44.466458Z",
     "iopub.status.busy": "2025-04-22T11:00:44.464893Z",
     "iopub.status.idle": "2025-04-22T11:00:45.103030Z",
     "shell.execute_reply": "2025-04-22T11:00:45.100721Z"
    },
    "jupyter": {
     "outputs_hidden": false
    },
    "papermill": {
     "duration": 0.669246,
     "end_time": "2025-04-22T11:00:45.105318",
     "exception": false,
     "start_time": "2025-04-22T11:00:44.436072",
     "status": "completed"
    },
    "tags": []
   },
   "outputs": [
    {
     "name": "stdout",
     "output_type": "stream",
     "text": [
      "Model: \"def_lstm_model\"\n",
      "________________________________________________________________________________\n",
      " Layer (type)             Output Shape      Param #  Connected to               \n",
      "================================================================================\n",
      " input_player_id (InputLa  [(None, 1)]      0        []                         \n",
      " yer)                                                                           \n",
      " input_tID (InputLayer)   [(None, 1)]       0        []                         \n",
      " input_oID (InputLayer)   [(None, 1)]       0        []                         \n",
      " input_hID (InputLayer)   [(None, 1)]       0        []                         \n",
      " embedding_3 (Embedding)  (None, 1, 20)     26700    ['input_player_id[0][0]']  \n",
      " embedding_4 (Embedding)  (None, 1, 20)     500      ['input_tID[0][0]']        \n",
      " embedding_5 (Embedding)  (None, 1, 20)     500      ['input_oID[0][0]']        \n",
      " lambda_1 (Lambda)        (None, 1)         0        ['input_hID[0][0]']        \n",
      " input_seq (InputLayer)   [(None, 3, 12)]   0        []                         \n",
      " flatten_4 (Flatten)      (None, 20)        0        ['embedding_3[0][0]']      \n",
      " flatten_5 (Flatten)      (None, 20)        0        ['embedding_4[0][0]']      \n",
      " flatten_6 (Flatten)      (None, 20)        0        ['embedding_5[0][0]']      \n",
      " flatten_7 (Flatten)      (None, 1)         0        ['lambda_1[0][0]']         \n",
      " lstm_1 (LSTM)            (None, 64)        19712    ['input_seq[0][0]']        \n",
      " concatenate_2 (Concatena  (None, 61)       0        ['flatten_4[0][0]',        \n",
      " te)                                                  'flatten_5[0][0]',        \n",
      "                                                      'flatten_6[0][0]',        \n",
      "                                                      'flatten_7[0][0]']        \n",
      " dropout_1 (Dropout)      (None, 64)        0        ['lstm_1[0][0]']           \n",
      " dense_3 (Dense)          (None, 16)        992      ['concatenate_2[0][0]']    \n",
      " concatenate_3 (Concatena  (None, 80)       0        ['dropout_1[0][0]',        \n",
      " te)                                                  'dense_3[0][0]']          \n",
      " dense_4 (Dense)          (None, 32)        2592     ['concatenate_3[0][0]']    \n",
      " dense_5 (Dense)          (None, 1)         33       ['dense_4[0][0]']          \n",
      "================================================================================\n",
      "Total params: 51,029\n",
      "Trainable params: 51,029\n",
      "Non-trainable params: 0\n",
      "________________________________________________________________________________\n"
     ]
    }
   ],
   "source": [
    "\n",
    "#============================\n",
    "# 7. Build the Model\n",
    "#============================\n",
    "# Define maximum values for categorical features\n",
    "num_players   <- max(mid$player_id)\n",
    "num_teams     <- max(mid$tID)\n",
    "num_opponents <- max(mid$oID)\n",
    "# For hID, assume it???s binary\n",
    "\n",
    "emb_dim <- 20  # Embedding dimension\n",
    "\n",
    "# Create input layers for current categorical values\n",
    "input_player_id <- layer_input(shape = c(1), dtype = \"int32\", name = \"input_player_id\")\n",
    "input_tID <- layer_input(shape = c(1), dtype = \"int32\", name = \"input_tID\")\n",
    "input_oID <- layer_input(shape = c(1), dtype = \"int32\", name = \"input_oID\")\n",
    "input_hID <- layer_input(shape = c(1), dtype = \"int32\", name = \"input_hID\")\n",
    "\n",
    "embedding_player_id <- input_player_id %>% \n",
    "  layer_embedding(input_dim = num_players + 1, output_dim = emb_dim, mask_zero = TRUE) %>% \n",
    "  layer_flatten()\n",
    "embedding_tID <- input_tID %>% \n",
    "  layer_embedding(input_dim = num_teams + 1, output_dim = emb_dim, mask_zero = TRUE) %>% \n",
    "  layer_flatten()\n",
    "embedding_oID <- input_oID %>% \n",
    "  layer_embedding(input_dim = num_opponents + 1, output_dim = emb_dim, mask_zero = TRUE) %>% \n",
    "  layer_flatten()\n",
    "# For hID, convert to float32 to match types\n",
    "input_hID_flat <- input_hID %>% \n",
    "  layer_lambda(function(x) tf$cast(x, tf$float32)) %>% \n",
    "  layer_flatten()\n",
    "\n",
    "# Merge categorical branch\n",
    "cat_merged <- layer_concatenate(list(embedding_player_id, embedding_tID, embedding_oID, input_hID_flat)) %>%\n",
    "  layer_dense(units = 16, activation = \"relu\")\n",
    "\n",
    "# Numerical branch: input for rolling window data\n",
    "input_seq <- layer_input(shape = c(ws, length(numF)), name = \"input_seq\")\n",
    "lstm_branch <- input_seq %>%\n",
    "  layer_lstm(units = 64, return_sequences = FALSE) %>%\n",
    "  layer_dropout(rate = 0.2)\n",
    "\n",
    "# Merge both branches and build the output\n",
    "merged <- layer_concatenate(list(lstm_branch, cat_merged))\n",
    "dense_layer <- merged %>% layer_dense(units = 32, activation = \"relu\")\n",
    "output <- dense_layer %>% layer_dense(units = 1, activation = \"linear\")\n",
    "\n",
    "# Build and compile the model\n",
    "model <- keras_model(\n",
    "  inputs = list(input_seq, input_player_id, input_tID, input_oID, input_hID),\n",
    "  outputs = output,\n",
    "    name = \"def_lstm_model\"\n",
    ")\n",
    "model %>% compile(\n",
    "  optimizer = optimizer_adam(),\n",
    "  loss = \"mse\",\n",
    "  metrics = metrics_regression,\n",
    "  run_eagerly = TRUE\n",
    ")\n",
    "summary(model)"
   ]
  },
  {
   "cell_type": "markdown",
   "id": "1da9eb7d",
   "metadata": {
    "papermill": {
     "duration": 0.027377,
     "end_time": "2025-04-22T11:00:45.159318",
     "exception": false,
     "start_time": "2025-04-22T11:00:45.131941",
     "status": "completed"
    },
    "tags": []
   },
   "source": [
    "## Før fit av modellen DEF"
   ]
  },
  {
   "cell_type": "code",
   "execution_count": 26,
   "id": "7469076f",
   "metadata": {
    "_cell_guid": "eaafd274-305f-4215-ad70-614c9c0f3b5f",
    "_uuid": "86e1a8ba-6d5f-447d-87a2-e9428ee6f996",
    "collapsed": false,
    "execution": {
     "iopub.execute_input": "2025-04-22T11:00:45.239260Z",
     "iopub.status.busy": "2025-04-22T11:00:45.236722Z",
     "iopub.status.idle": "2025-04-22T11:00:45.284062Z",
     "shell.execute_reply": "2025-04-22T11:00:45.281797Z"
    },
    "jupyter": {
     "outputs_hidden": false
    },
    "papermill": {
     "duration": 0.09374,
     "end_time": "2025-04-22T11:00:45.287039",
     "exception": false,
     "start_time": "2025-04-22T11:00:45.193299",
     "status": "completed"
    },
    "tags": []
   },
   "outputs": [
    {
     "name": "stdout",
     "output_type": "stream",
     "text": [
      "Will save best DEF weights to: /kaggle/working/best_def_weights.hdf5 \n"
     ]
    },
    {
     "name": "stdout",
     "output_type": "stream",
     "text": [
      "DEF scaling factors stored.\n"
     ]
    }
   ],
   "source": [
    "# Filepath for saving the BEST weights (unique for each position)\n",
    "weights_filepath_def <- \"/kaggle/working/best_def_weights.hdf5\"\n",
    "cat(\"Will save best DEF weights to:\", weights_filepath_def, \"\\n\")\n",
    "\n",
    "# 1. Early Stopping Callback\n",
    "early_stopping <- callback_early_stopping(\n",
    "    monitor = \"val_loss\",       # Monitor validation loss\n",
    "    patience = num_patience,              # Stop after 10 epochs of no improvement\n",
    "    restore_best_weights = TRUE # Optional but good: restores weights from the best epoch at the end of training\n",
    "                                # Note: Checkpoint callback is the primary saver here.\n",
    ")\n",
    "\n",
    "# 2. Model Checkpoint Callback (to save best weights)\n",
    "model_checkpoint <- callback_model_checkpoint(\n",
    "    filepath = weights_filepath_def, # Path defined above\n",
    "    monitor = \"val_loss\",           # Monitor the same metric as early stopping\n",
    "    save_best_only = TRUE,          # IMPORTANT: Only save when val_loss improves\n",
    "    save_weights_only = TRUE,       # IMPORTANT: Save ONLY the weights, not the whole model\n",
    "    mode = \"min\",                   # We want to minimize loss\n",
    "    verbose = 1                     # Optional: print message when weights are saved\n",
    ")\n",
    "\n",
    "reduce_lr <- callback_reduce_lr_on_plateau(\n",
    "    monitor = \"val_loss\",  # Monitor validation loss (same as early stopping)\n",
    "    factor = 0.2,          # Reduce LR to 20% of its current value (lr * factor)\n",
    "    patience = 5,           # Reduce LR if val_loss doesn't improve for 5 epochs\n",
    "    min_lr = 1e-6,         # Don't reduce the LR below this value\n",
    "    verbose = 1            # Print a message when LR is reduced\n",
    ")\n",
    "\n",
    "# Store scaling factors NOW (before potential errors during training)\n",
    "# Ensure mu, sigma, and numF (Lasso selected) are correctly captured from the GK scaling steps\n",
    "scaling_factors$def <- list(\n",
    "    mu = mu,         # Mean of GK target used for scaling\n",
    "    sigma = sigma,   # SD of GK target used for scaling\n",
    "    numF = numF      # Vector of Lasso-selected numerical feature names for GK\n",
    ")\n",
    "cat(\"DEF scaling factors stored.\\n\")"
   ]
  },
  {
   "cell_type": "code",
   "execution_count": 27,
   "id": "52c26c27",
   "metadata": {
    "_cell_guid": "15d9ab82-c1c2-49c4-a1cb-f1ec3d44094f",
    "_uuid": "360928bf-77d9-4dbc-b56e-2dfade935ece",
    "collapsed": false,
    "execution": {
     "iopub.execute_input": "2025-04-22T11:00:45.344948Z",
     "iopub.status.busy": "2025-04-22T11:00:45.343292Z",
     "iopub.status.idle": "2025-04-22T11:12:56.972820Z",
     "shell.execute_reply": "2025-04-22T11:12:56.971005Z"
    },
    "jupyter": {
     "outputs_hidden": false
    },
    "papermill": {
     "duration": 731.687004,
     "end_time": "2025-04-22T11:12:57.001330",
     "exception": false,
     "start_time": "2025-04-22T11:00:45.314326",
     "status": "completed"
    },
    "tags": []
   },
   "outputs": [
    {
     "name": "stdout",
     "output_type": "stream",
     "text": [
      "Starting DEF model training...\n"
     ]
    },
    {
     "name": "stdout",
     "output_type": "stream",
     "text": [
      "DEF model training finished.\n"
     ]
    }
   ],
   "source": [
    "#============================\n",
    "# 8. Train the Model\n",
    "#============================\n",
    "cat(\"Starting DEF model training...\\n\")\n",
    "history <- model %>% fit(\n",
    "  x = list(\n",
    "    input_seq = Xnum_train,\n",
    "    input_player_id = cat_player_id_train,\n",
    "    input_tID = cat_tID_train,\n",
    "    input_oID = cat_oID_train,\n",
    "    input_hID = cat_hID_train\n",
    "  ),\n",
    "  y = y_train,\n",
    "  epochs = epoker,          # Max epochs\n",
    "  batch_size = 64,          # Try increasing batch size (e.g., 64 or 128) for speed\n",
    "  validation_data = list(\n",
    "    list(\n",
    "      input_seq = Xnum_val,\n",
    "      input_player_id = cat_player_id_val,\n",
    "      input_tID = cat_tID_val,\n",
    "      input_oID = cat_oID_val,\n",
    "      input_hID = cat_hID_val\n",
    "    ),\n",
    "    y_val\n",
    "  ),\n",
    "  # ADD THE CALLBACKS HERE\n",
    "  callbacks = list(early_stopping, model_checkpoint, reduce_lr)\n",
    ")\n",
    "cat(\"DEF model training finished.\\n\")"
   ]
  },
  {
   "cell_type": "code",
   "execution_count": 28,
   "id": "d69bb78f",
   "metadata": {
    "_cell_guid": "523b4d14-9d75-4d91-8155-2dcf55df2395",
    "_uuid": "530bc06e-986c-4709-b1e3-5ac2e3e2ad58",
    "collapsed": false,
    "execution": {
     "iopub.execute_input": "2025-04-22T11:12:57.107781Z",
     "iopub.status.busy": "2025-04-22T11:12:57.106036Z",
     "iopub.status.idle": "2025-04-22T11:13:01.591581Z",
     "shell.execute_reply": "2025-04-22T11:13:01.589083Z"
    },
    "jupyter": {
     "outputs_hidden": false
    },
    "papermill": {
     "duration": 4.565395,
     "end_time": "2025-04-22T11:13:01.593931",
     "exception": false,
     "start_time": "2025-04-22T11:12:57.028536",
     "status": "completed"
    },
    "tags": []
   },
   "outputs": [
    {
     "name": "stdout",
     "output_type": "stream",
     "text": [
      "Rows: 7,026\n",
      "Columns: 49\n",
      "$ row_id                        \u001b[3m\u001b[90m<dbl>\u001b[39m\u001b[23m 4, 5, 6, 7, 122, 123, 124, 125, 126, 127…\n",
      "$ predicted_total_points_scaled \u001b[3m\u001b[90m<dbl>\u001b[39m\u001b[23m 0.2639800608, -0.2623673379, -0.01195584…\n",
      "$ actual_total_points_scaled    \u001b[3m\u001b[90m<dbl>\u001b[39m\u001b[23m -0.46568846, -0.46568846, -0.46568846, -…\n",
      "$ predicted_total_points        \u001b[3m\u001b[90m<dbl>\u001b[39m\u001b[23m 1.6034214, 0.4467912, 0.9970618, 0.97575…\n",
      "$ actual_total_points           \u001b[3m\u001b[90m<dbl>\u001b[39m\u001b[23m 0, 0, 0, 0, 0, 1, 0, 0, 1, 0, 1, 0, 0, 0…\n",
      "$ name                          \u001b[3m\u001b[90m<chr>\u001b[39m\u001b[23m \"Aaron Anselmino\", \"Aaron Anselmino\", \"A…\n",
      "$ position                      \u001b[3m\u001b[90m<chr>\u001b[39m\u001b[23m \"DEF\", \"DEF\", \"DEF\", \"DEF\", \"DEF\", \"DEF\"…\n",
      "$ team                          \u001b[3m\u001b[90m<chr>\u001b[39m\u001b[23m \"Chelsea\", \"Chelsea\", \"Chelsea\", \"Chelse…\n",
      "$ xP                            \u001b[3m\u001b[90m<dbl>\u001b[39m\u001b[23m 0.5, 0.0, 0.5, 0.5, 1.0, 0.5, -0.2, 0.1,…\n",
      "$ assists                       \u001b[3m\u001b[90m<dbl>\u001b[39m\u001b[23m 0, 0, 0, 0, 0, 0, 0, 0, 0, 0, 0, 0, 0, 0…\n",
      "$ bonus                         \u001b[3m\u001b[90m<dbl>\u001b[39m\u001b[23m 0, 0, 0, 0, 0, 0, 0, 0, 0, 0, 0, 0, 0, 0…\n",
      "$ bps                           \u001b[3m\u001b[90m<dbl>\u001b[39m\u001b[23m 0, 0, 0, 0, 0, 3, 0, 0, 3, 0, 2, 0, 1, 0…\n",
      "$ clean_sheets                  \u001b[3m\u001b[90m<dbl>\u001b[39m\u001b[23m 0, 0, 0, 0, 0, 0, 0, 0, 0, 0, 0, 0, 0, 0…\n",
      "$ creativity                    \u001b[3m\u001b[90m<dbl>\u001b[39m\u001b[23m 0.0, 0.0, 0.0, 0.0, 0.0, 0.0, 0.0, 0.0, …\n",
      "$ expected_assists              \u001b[3m\u001b[90m<dbl>\u001b[39m\u001b[23m 0.00, 0.00, 0.00, 0.00, 0.00, 0.00, 0.00…\n",
      "$ expected_goal_involvements    \u001b[3m\u001b[90m<dbl>\u001b[39m\u001b[23m 0.00, 0.00, 0.00, 0.00, 0.00, 0.00, 0.00…\n",
      "$ expected_goals                \u001b[3m\u001b[90m<dbl>\u001b[39m\u001b[23m 0.00, 0.00, 0.00, 0.00, 0.00, 0.00, 0.00…\n",
      "$ expected_goals_conceded       \u001b[3m\u001b[90m<dbl>\u001b[39m\u001b[23m 0.00, 0.00, 0.00, 0.00, 0.00, 0.03, 0.00…\n",
      "$ fixture                       \u001b[3m\u001b[90m<dbl>\u001b[39m\u001b[23m 273, 281, 296, 302, 7, 14, 30, 35, 50, 5…\n",
      "$ goals_conceded                \u001b[3m\u001b[90m<dbl>\u001b[39m\u001b[23m 0, 0, 0, 0, 0, 0, 0, 0, 0, 0, 0, 0, 0, 0…\n",
      "$ goals_scored                  \u001b[3m\u001b[90m<dbl>\u001b[39m\u001b[23m 0, 0, 0, 0, 0, 0, 0, 0, 0, 0, 0, 0, 0, 0…\n",
      "$ ict_index                     \u001b[3m\u001b[90m<dbl>\u001b[39m\u001b[23m 0.0, 0.0, 0.0, 0.0, 0.0, 0.0, 0.0, 0.0, …\n",
      "$ influence                     \u001b[3m\u001b[90m<dbl>\u001b[39m\u001b[23m 0.0, 0.0, 0.0, 0.0, 0.0, 0.0, 0.0, 0.0, …\n",
      "$ kickoff_time                  \u001b[3m\u001b[90m<dttm>\u001b[39m\u001b[23m 2025-03-09 14:00:00, 2025-03-16 13:30:0…\n",
      "$ minutes                       \u001b[3m\u001b[90m<dbl>\u001b[39m\u001b[23m 0, 0, 0, 0, 0, 1, 0, 0, 17, 0, 7, 0, 1, …\n",
      "$ opponent_team                 \u001b[3m\u001b[90m<chr>\u001b[39m\u001b[23m \"Leicester\", \"Arsenal\", \"Tottenham\", \"Br…\n",
      "$ own_goals                     \u001b[3m\u001b[90m<dbl>\u001b[39m\u001b[23m 0, 0, 0, 0, 0, 0, 0, 0, 0, 0, 0, 0, 0, 0…\n",
      "$ penalties_missed              \u001b[3m\u001b[90m<dbl>\u001b[39m\u001b[23m 0, 0, 0, 0, 0, 0, 0, 0, 0, 0, 0, 0, 0, 0…\n",
      "$ penalties_saved               \u001b[3m\u001b[90m<dbl>\u001b[39m\u001b[23m 0, 0, 0, 0, 0, 0, 0, 0, 0, 0, 0, 0, 0, 0…\n",
      "$ red_cards                     \u001b[3m\u001b[90m<dbl>\u001b[39m\u001b[23m 0, 0, 0, 0, 0, 0, 0, 0, 0, 0, 0, 0, 0, 0…\n",
      "$ round                         \u001b[3m\u001b[90m<dbl>\u001b[39m\u001b[23m 28, 29, 30, 31, 1, 2, 3, 4, 5, 6, 7, 8, …\n",
      "$ saves                         \u001b[3m\u001b[90m<dbl>\u001b[39m\u001b[23m 0, 0, 0, 0, 0, 0, 0, 0, 0, 0, 0, 0, 0, 0…\n",
      "$ selected                      \u001b[3m\u001b[90m<dbl>\u001b[39m\u001b[23m 325, 436, 442, 453, 215475, 227554, 2211…\n",
      "$ starts                        \u001b[3m\u001b[90m<dbl>\u001b[39m\u001b[23m 0, 0, 0, 0, 0, 0, 0, 0, 0, 0, 0, 0, 0, 0…\n",
      "$ team_a_score                  \u001b[3m\u001b[90m<dbl>\u001b[39m\u001b[23m 0, 0, 0, 0, 2, 2, 3, 1, 3, 1, 1, 1, 1, 0…\n",
      "$ team_h_score                  \u001b[3m\u001b[90m<dbl>\u001b[39m\u001b[23m 1, 1, 1, 0, 1, 0, 1, 1, 0, 1, 4, 4, 2, 3…\n",
      "$ threat                        \u001b[3m\u001b[90m<dbl>\u001b[39m\u001b[23m 0, 0, 0, 0, 0, 0, 0, 0, 0, 0, 1, 0, 0, 0…\n",
      "$ total_points                  \u001b[3m\u001b[90m<dbl>\u001b[39m\u001b[23m 0, 0, 0, 0, 0, 1, 0, 0, 1, 0, 1, 0, 0, 0…\n",
      "$ transfers_balance             \u001b[3m\u001b[90m<dbl>\u001b[39m\u001b[23m 21, 4, 6, 6, 0, -6613, -12465, -40996, -…\n",
      "$ transfers_in                  \u001b[3m\u001b[90m<dbl>\u001b[39m\u001b[23m 52, 31, 30, 22, 0, 10331, 21013, 1264, 6…\n",
      "$ transfers_out                 \u001b[3m\u001b[90m<dbl>\u001b[39m\u001b[23m 31, 27, 24, 16, 0, 16944, 33478, 42260, …\n",
      "$ value                         \u001b[3m\u001b[90m<dbl>\u001b[39m\u001b[23m 40, 40, 40, 40, 40, 40, 40, 40, 40, 40, …\n",
      "$ was_home                      \u001b[3m\u001b[90m<lgl>\u001b[39m\u001b[23m TRUE, FALSE, TRUE, FALSE, TRUE, FALSE, T…\n",
      "$ yellow_cards                  \u001b[3m\u001b[90m<dbl>\u001b[39m\u001b[23m 0, 0, 0, 0, 0, 0, 0, 0, 0, 0, 0, 0, 1, 0…\n",
      "$ GW                            \u001b[3m\u001b[90m<dbl>\u001b[39m\u001b[23m 104, 105, 106, 107, 77, 78, 79, 80, 81, …\n",
      "$ player_id                     \u001b[3m\u001b[90m<dbl>\u001b[39m\u001b[23m 1, 1, 1, 1, 3, 3, 3, 3, 3, 3, 3, 3, 3, 3…\n",
      "$ oID                           \u001b[3m\u001b[90m<dbl>\u001b[39m\u001b[23m 13, 1, 22, 4, 2, 8, 16, 10, 7, 4, 11, 22…\n",
      "$ tID                           \u001b[3m\u001b[90m<dbl>\u001b[39m\u001b[23m 7, 7, 7, 7, 23, 23, 23, 23, 23, 23, 23, …\n",
      "$ hID                           \u001b[3m\u001b[90m<dbl>\u001b[39m\u001b[23m 1, 0, 1, 0, 1, 0, 1, 0, 1, 0, 1, 0, 1, 0…\n"
     ]
    }
   ],
   "source": [
    "\n",
    "#============================\n",
    "# 9. Generate Predictions & Invert Scaling on Validation Set\n",
    "#============================\n",
    "# Use the validation set for predictions\n",
    "pred_all <- model %>% predict(\n",
    "  list(\n",
    "    input_seq = Xnum_val,\n",
    "    input_player_id = cat_player_id_val,\n",
    "    input_tID = cat_tID_val,\n",
    "    input_oID = cat_oID_val,\n",
    "    input_hID = cat_hID_val\n",
    "  )\n",
    ")\n",
    "\n",
    "# Build a predictions table using the validation row IDs\n",
    "preds_def <- tibble(\n",
    "  row_id = val_row_ids,  # row IDs corresponding to the validation set\n",
    "  predicted_total_points_scaled = as.vector(pred_all),\n",
    "  actual_total_points_scaled = as.vector(y_val)\n",
    ") %>% \n",
    "  mutate(\n",
    "    predicted_total_points = predicted_total_points_scaled * sigma + mu,\n",
    "    actual_total_points = actual_total_points_scaled * sigma + mu\n",
    "  )\n",
    "\n",
    "preds_def <- preds_def %>%\n",
    "  left_join(unscaled_def, by = \"row_id\") # Use unscaled_def\n",
    "\n",
    "# View the predictions table\n",
    "glimpse(preds_def)"
   ]
  },
  {
   "cell_type": "markdown",
   "id": "3249e32d",
   "metadata": {
    "_cell_guid": "63c73402-6fef-45cb-87f7-4ba4db13efdb",
    "_uuid": "434741b2-d0b2-4c1b-b489-e8dfdd429754",
    "collapsed": false,
    "jupyter": {
     "outputs_hidden": false
    },
    "papermill": {
     "duration": 0.027305,
     "end_time": "2025-04-22T11:13:01.648512",
     "exception": false,
     "start_time": "2025-04-22T11:13:01.621207",
     "status": "completed"
    },
    "tags": []
   },
   "source": [
    "## DEF Eval plots"
   ]
  },
  {
   "cell_type": "code",
   "execution_count": 29,
   "id": "de3f4e8b",
   "metadata": {
    "_cell_guid": "a8d31a69-8954-42e3-9560-168ee199fe50",
    "_uuid": "600ee04d-696d-4d07-9a37-a473988ab41b",
    "collapsed": false,
    "execution": {
     "iopub.execute_input": "2025-04-22T11:13:01.708440Z",
     "iopub.status.busy": "2025-04-22T11:13:01.706879Z",
     "iopub.status.idle": "2025-04-22T11:13:02.797922Z",
     "shell.execute_reply": "2025-04-22T11:13:02.796096Z"
    },
    "jupyter": {
     "outputs_hidden": false
    },
    "papermill": {
     "duration": 1.125161,
     "end_time": "2025-04-22T11:13:02.800980",
     "exception": false,
     "start_time": "2025-04-22T11:13:01.675819",
     "status": "completed"
    },
    "tags": []
   },
   "outputs": [
    {
     "name": "stdout",
     "output_type": "stream",
     "text": [
      "Rows: 6,500\n",
      "Columns: 4\n",
      "$ epoch  \u001b[3m\u001b[90m<int>\u001b[39m\u001b[23m 1, 2, 3, 4, 5, 6, 7, 8, 9, 10, 11, 12, 13, 14, 15, 16, 17, 18, …\n",
      "$ value  \u001b[3m\u001b[90m<dbl>\u001b[39m\u001b[23m 0.9266058, 0.8265300, 0.8138037, 0.8057609, 0.7960756, 0.787922…\n",
      "$ metric \u001b[3m\u001b[90m<fct>\u001b[39m\u001b[23m loss, loss, loss, loss, loss, loss, loss, loss, loss, loss, los…\n",
      "$ data   \u001b[3m\u001b[90m<fct>\u001b[39m\u001b[23m training, training, training, training, training, training, tra…\n"
     ]
    },
    {
     "name": "stdout",
     "output_type": "stream",
     "text": [
      "DEF model and scaling factors stored.\n"
     ]
    },
    {
     "data": {
      "image/png": "[encoded data removed]"
     },
     "metadata": {
      "image/png": {
       "height": 420,
       "width": 420
      }
     },
     "output_type": "display_data"
    }
   ],
   "source": [
    "plot(history)\n",
    "\n",
    "history_df_def <- as.data.frame(history)\n",
    "\n",
    "glimpse(history_df_def)\n",
    "\n",
    "\n",
    "# Store DEF model and scaling factors\n",
    "model_list$def <- model\n",
    "cat(\"DEF model and scaling factors stored.\\n\")\n",
    "\n",
    "# Clean up validation predictions (select essential columns)\n",
    "# Note: The join in cell d3115b67 uses 'def' (scaled) then 'unscaled_def'.\n",
    "# We need identifiers from unscaled_def.\n",
    "preds_def_clean <- preds_def %>%\n",
    "  select(row_id, GW, player_id, name, position, team, # Identifiers from unscaled_def join\n",
    "         actual_total_points, predicted_total_points, value)"
   ]
  },
  {
   "cell_type": "markdown",
   "id": "e80baafd",
   "metadata": {
    "_cell_guid": "8bedbc02-d03e-4a23-be75-00b54a3ab2f2",
    "_uuid": "8001ae3e-e9a4-4dd3-9672-9d6eb01fbfc5",
    "collapsed": false,
    "jupyter": {
     "outputs_hidden": false
    },
    "papermill": {
     "duration": 0.030182,
     "end_time": "2025-04-22T11:13:02.861756",
     "exception": false,
     "start_time": "2025-04-22T11:13:02.831574",
     "status": "completed"
    },
    "tags": []
   },
   "source": [
    "### Eval DEF"
   ]
  },
  {
   "cell_type": "code",
   "execution_count": 30,
   "id": "04db2bb3",
   "metadata": {
    "_cell_guid": "dc439f06-0a5a-488a-b8d9-42ad2bbddfbc",
    "_uuid": "05010323-efb4-4a5b-8c54-6db0688599ed",
    "collapsed": false,
    "execution": {
     "iopub.execute_input": "2025-04-22T11:13:02.923475Z",
     "iopub.status.busy": "2025-04-22T11:13:02.921947Z",
     "iopub.status.idle": "2025-04-22T11:13:16.624029Z",
     "shell.execute_reply": "2025-04-22T11:13:16.622088Z"
    },
    "jupyter": {
     "outputs_hidden": false
    },
    "papermill": {
     "duration": 13.736644,
     "end_time": "2025-04-22T11:13:16.627543",
     "exception": false,
     "start_time": "2025-04-22T11:13:02.890899",
     "status": "completed"
    },
    "tags": []
   },
   "outputs": [
    {
     "name": "stdout",
     "output_type": "stream",
     "text": [
      "                          loss            mean_absolute_error \n",
      "                    0.93867135                     0.65842080 \n",
      "            mean_squared_error        root_mean_squared_error \n",
      "                    0.93867135                     0.96885055 \n",
      "mean_absolute_percentage_error              cosine_similarity \n",
      "                  704.60119629                     0.02561913 \n"
     ]
    }
   ],
   "source": [
    "# After training, evaluate the model on validation data with all metrics\n",
    "model_evaluation <- model %>% evaluate(\n",
    "  x = list(\n",
    "    input_seq = Xnum_val,\n",
    "    input_player_id = cat_player_id_val,\n",
    "    input_tID = cat_tID_val,\n",
    "    input_oID = cat_oID_val,\n",
    "    input_hID = cat_hID_val\n",
    "  ),\n",
    "  y = y_val,\n",
    "  verbose = 1\n",
    ")\n",
    "\n",
    "# Print the evaluation results (metrics specified during compilation)\n",
    "print(model_evaluation)\n",
    "\n",
    "# Combine results by position\n",
    "validation_metrics$def <- model_list$def %>% evaluate(\n",
    "  x = list(\n",
    "    input_seq = Xnum_val,\n",
    "    input_player_id = cat_player_id_val,\n",
    "    input_tID = cat_tID_val,\n",
    "    input_oID = cat_oID_val,\n",
    "    input_hID = cat_hID_val\n",
    "  ),\n",
    "  y = y_val\n",
    ")"
   ]
  },
  {
   "cell_type": "markdown",
   "id": "ee3953ce",
   "metadata": {
    "_cell_guid": "daae8f8c-654b-4a88-8ccd-27138ba4660e",
    "_uuid": "40f76575-798f-4373-a94e-a087c14c6757",
    "collapsed": false,
    "jupyter": {
     "outputs_hidden": false
    },
    "papermill": {
     "duration": 0.029442,
     "end_time": "2025-04-22T11:13:16.686703",
     "exception": false,
     "start_time": "2025-04-22T11:13:16.657261",
     "status": "completed"
    },
    "tags": []
   },
   "source": [
    "## 3: Midtbanespillere"
   ]
  },
  {
   "cell_type": "code",
   "execution_count": 31,
   "id": "5e39766d",
   "metadata": {
    "_cell_guid": "0e4e5abd-96e5-4d68-9c80-ce2853e0313e",
    "_uuid": "86c82561-312c-4bfb-87d5-6386c80e3e72",
    "collapsed": false,
    "execution": {
     "iopub.execute_input": "2025-04-22T11:13:16.748911Z",
     "iopub.status.busy": "2025-04-22T11:13:16.747240Z",
     "iopub.status.idle": "2025-04-22T11:13:16.778051Z",
     "shell.execute_reply": "2025-04-22T11:13:16.776321Z"
    },
    "jupyter": {
     "outputs_hidden": false
    },
    "papermill": {
     "duration": 0.064199,
     "end_time": "2025-04-22T11:13:16.780155",
     "exception": false,
     "start_time": "2025-04-22T11:13:16.715956",
     "status": "completed"
    },
    "tags": []
   },
   "outputs": [
    {
     "name": "stdout",
     "output_type": "stream",
     "text": [
      "Numeriske features: assists creativity minutes goals_conceded bonus bps expected_assists expected_goal_involvements expected_goals ict_index own_goals red_cards threat transfers_in transfers_out yellow_cards expected_goals_conceded value selected transfers_balance starts influence clean_sheets \n"
     ]
    },
    {
     "name": "stdout",
     "output_type": "stream",
     "text": [
      "Kategoriske features: player_id tID oID hID \n"
     ]
    },
    {
     "name": "stdout",
     "output_type": "stream",
     "text": [
      "Target variabel: total_points \n"
     ]
    },
    {
     "name": "stdout",
     "output_type": "stream",
     "text": [
      "Ferdig"
     ]
    }
   ],
   "source": [
    "#----------------------------\n",
    "# Define Features, Target & Scale\n",
    "#----------------------------\n",
    "numF <- c(\"assists\", \"creativity\", \"minutes\", \"goals_conceded\",\n",
    "          \"bonus\", \"bps\", \"expected_assists\", \"expected_goal_involvements\",\n",
    "          \"expected_goals\", \"ict_index\", \"own_goals\", \"red_cards\",\n",
    "          \"threat\", \"transfers_in\", \"transfers_out\", \"yellow_cards\",\n",
    "          \"expected_goals_conceded\", \"value\",\n",
    "          \"selected\", \"transfers_balance\", \"starts\", \"influence\",\n",
    "          \"clean_sheets\")\n",
    "catF <- c(\"player_id\", \"tID\", \"oID\", \"hID\")\n",
    "tar <- \"total_points\"\n",
    "\n",
    "cat(\"Numeriske features:\", numF, \"\\n\")\n",
    "cat(\"Kategoriske features:\", catF, \"\\n\")\n",
    "cat(\"Target variabel:\", tar, \"\\n\")\n",
    "cat(\"Ferdig\")"
   ]
  },
  {
   "cell_type": "code",
   "execution_count": 32,
   "id": "db0d47f7",
   "metadata": {
    "_cell_guid": "ee1675d2-8c63-45b1-b5bb-8fb30cd8c4bc",
    "_uuid": "59c95a91-4119-4f9b-9280-624c1535ea6e",
    "collapsed": false,
    "execution": {
     "iopub.execute_input": "2025-04-22T11:13:16.842945Z",
     "iopub.status.busy": "2025-04-22T11:13:16.841218Z",
     "iopub.status.idle": "2025-04-22T11:13:16.894802Z",
     "shell.execute_reply": "2025-04-22T11:13:16.892832Z"
    },
    "jupyter": {
     "outputs_hidden": false
    },
    "papermill": {
     "duration": 0.08726,
     "end_time": "2025-04-22T11:13:16.897074",
     "exception": false,
     "start_time": "2025-04-22T11:13:16.809814",
     "status": "completed"
    },
    "tags": []
   },
   "outputs": [
    {
     "name": "stdout",
     "output_type": "stream",
     "text": [
      "Kjørt"
     ]
    }
   ],
   "source": [
    "# Compute and store the mean and standard deviation for the target variable\n",
    "\n",
    "mu <- mean(mid[[tar]], na.rm = TRUE)\n",
    "sigma <- sd(mid[[tar]], na.rm = TRUE)\n",
    "\n",
    "# Scale numerical features and target\n",
    "mid <- mid %>%\n",
    "  mutate(across(all_of(numF), ~ (.x - mean(.x, na.rm = TRUE)) / sd(.x, na.rm = TRUE)),\n",
    "         !!tar := (.data[[tar]] - mu) / sigma)\n",
    "cat(\"Kjørt\")"
   ]
  },
  {
   "cell_type": "markdown",
   "id": "e1468c34",
   "metadata": {
    "_cell_guid": "b4a6f960-65b7-4e5c-ac38-0b893c278bd1",
    "_uuid": "0f31c47b-b839-4af0-b24e-3395f7ed6a59",
    "collapsed": false,
    "jupyter": {
     "outputs_hidden": false
    },
    "papermill": {
     "duration": 0.029113,
     "end_time": "2025-04-22T11:13:16.955502",
     "exception": false,
     "start_time": "2025-04-22T11:13:16.926389",
     "status": "completed"
    },
    "tags": []
   },
   "source": [
    "### 3.3 MID Building Rolling Windows"
   ]
  },
  {
   "cell_type": "code",
   "execution_count": 33,
   "id": "4a84f5d3",
   "metadata": {
    "_cell_guid": "ae46ce61-a964-439f-91c1-726681565540",
    "_uuid": "0488c066-5f9c-4263-8d0c-78bb68e64c94",
    "collapsed": false,
    "execution": {
     "iopub.execute_input": "2025-04-22T11:13:17.017780Z",
     "iopub.status.busy": "2025-04-22T11:13:17.016030Z",
     "iopub.status.idle": "2025-04-22T11:13:29.738504Z",
     "shell.execute_reply": "2025-04-22T11:13:29.736654Z"
    },
    "jupyter": {
     "outputs_hidden": false
    },
    "papermill": {
     "duration": 12.756326,
     "end_time": "2025-04-22T11:13:29.740702",
     "exception": false,
     "start_time": "2025-04-22T11:13:16.984376",
     "status": "completed"
    },
    "tags": []
   },
   "outputs": [
    {
     "name": "stdout",
     "output_type": "stream",
     "text": [
      "Kjørt"
     ]
    }
   ],
   "source": [
    "#----------------------------\n",
    "# 3. Build Rolling Windows\n",
    "#----------------------------\n",
    "# Define window size (number of past gameweeks to use)\n",
    "ws <- vindu\n",
    "\n",
    "# Build numerical rolling windows\n",
    "numW <- mid %>%\n",
    "  group_by(player_id) %>%\n",
    "  filter(n() > ws) %>%  # Only players with more than ws observations\n",
    "  group_modify(~ {\n",
    "    windows <- slide(.x[, numF],\n",
    "                     .f = ~ as.matrix(.x),\n",
    "                     .before = ws, \n",
    "                     .after = -1, # prevents the model from seeing current gw data\n",
    "                     .complete = TRUE)\n",
    "    valid_windows <- windows[(ws + 1):length(windows)]\n",
    "    target <- .x[[tar]][(ws + 1):nrow(.x)]\n",
    "    # Extract row_id for each valid window\n",
    "    rid <- .x$row_id[(ws + 1):nrow(.x)]\n",
    "    tibble(window = valid_windows, target = target, row_id = rid)\n",
    "  }) %>%\n",
    "  ungroup()\n",
    "numW <- numW %>%\n",
    "  left_join(mid %>% select(row_id, GW), by = \"row_id\")\n",
    "# Build categorical rolling windows (if needed for debugging; here we use only the current values)\n",
    "catW <- mid %>%\n",
    "  group_by(player_id) %>%\n",
    "  filter(n() > ws) %>%\n",
    "  group_modify(~ {\n",
    "    df <- ungroup(.x) %>% mutate(player_id = .y$player_id)\n",
    "    windows <- slide(df %>% select(all_of(catF)),\n",
    "                     .f = ~ as.matrix(.x),\n",
    "                     .before = ws,\n",
    "                     #.after = -1,\n",
    "                     .complete = TRUE)\n",
    "    valid_windows <- windows[(ws + 1):length(windows)]\n",
    "    target <- df[[tar]][(ws + 1):nrow(df)]\n",
    "    tibble(window = valid_windows, target = target)\n",
    "  }) %>%\n",
    "  ungroup()\n",
    "\n",
    "cat(\"Kjørt\")"
   ]
  },
  {
   "cell_type": "code",
   "execution_count": 34,
   "id": "5555ddf4",
   "metadata": {
    "_cell_guid": "75a14051-1335-426b-aa3b-1018a3439a75",
    "_uuid": "6128fd4a-6a0a-4eb4-b895-b41d0eaea642",
    "collapsed": false,
    "execution": {
     "iopub.execute_input": "2025-04-22T11:13:29.803595Z",
     "iopub.status.busy": "2025-04-22T11:13:29.801966Z",
     "iopub.status.idle": "2025-04-22T11:13:38.364182Z",
     "shell.execute_reply": "2025-04-22T11:13:38.362397Z"
    },
    "jupyter": {
     "outputs_hidden": false
    },
    "papermill": {
     "duration": 8.596501,
     "end_time": "2025-04-22T11:13:38.366774",
     "exception": false,
     "start_time": "2025-04-22T11:13:29.770273",
     "status": "completed"
    },
    "tags": []
   },
   "outputs": [
    {
     "name": "stdout",
     "output_type": "stream",
     "text": [
      "Windows with NA:  0 \n"
     ]
    },
    {
     "name": "stdout",
     "output_type": "stream",
     "text": [
      "Selected features:  assists creativity minutes goals_conceded bonus bps expected_assists expected_goal_involvements expected_goals own_goals red_cards threat transfers_in transfers_out yellow_cards expected_goals_conceded value selected starts influence clean_sheets \n"
     ]
    }
   ],
   "source": [
    "# Check for any NA in the windows before summary\n",
    "sumna <- sapply(numW$window, function(flatW) any(is.na(flatW)))\n",
    "cat(\"Windows with NA: \", sum(sumna), \"\\n\")\n",
    "\n",
    "#----------------------------\n",
    "# 4. Lasso regression\n",
    "#----------------------------\n",
    "# numW as data.matrix, tar as response variable\n",
    "\n",
    "aggmat <- lapply(numW$window, function(flatW){\n",
    "  colMeans(flatW, na.rm = TRUE)\n",
    "})\n",
    "x <- do.call(rbind, aggmat)\n",
    "y <- numW$target\n",
    "\n",
    "# K-fold CV\n",
    "cvfit <- cv.glmnet(x,y,alpha=1)\n",
    "minlambda <- cvfit$lambda.min\n",
    "\n",
    "lassofit <- glmnet(x,y,alpha = 1, lambda = minlambda)\n",
    "\n",
    "coef_lasso <- as.matrix(coef(lassofit))\n",
    "numF <- rownames(coef_lasso)[coef_lasso[,1] != 0]\n",
    "numF <- setdiff(numF, \"(Intercept)\")\n",
    "cat(\"Selected features: \", numF, \"\\n\")\n",
    "\n",
    "# repeat rolling window, now only containing selected features\n",
    "# Define window size (number of past gameweeks to use)\n",
    "ws <- vindu\n",
    "\n",
    "# Build numerical rolling windows\n",
    "numW <- mid %>%\n",
    "  group_by(player_id) %>%\n",
    "  filter(n() > ws) %>%  # Only players with more than ws observations\n",
    "  group_modify(~ {\n",
    "    windows <- slide(.x[, numF],\n",
    "                     .f = ~ as.matrix(.x),\n",
    "                     .before = ws, \n",
    "                     .after = -1,\n",
    "                     .complete = TRUE)\n",
    "    valid_windows <- windows[(ws + 1):length(windows)]\n",
    "    target <- .x[[tar]][(ws + 1):nrow(.x)]\n",
    "    # Extract row_id for each valid window\n",
    "    rid <- .x$row_id[(ws + 1):nrow(.x)]\n",
    "    tibble(window = valid_windows, target = target, row_id = rid)\n",
    "  }) %>%\n",
    "  ungroup()\n",
    "numW <- numW %>%\n",
    "  left_join(mid %>% select(row_id, GW), by = \"row_id\")"
   ]
  },
  {
   "cell_type": "code",
   "execution_count": 35,
   "id": "da156d0b",
   "metadata": {
    "_cell_guid": "9d55e13f-0de4-4d1f-a73d-84af010d0668",
    "_uuid": "f25c76e8-92e9-48a0-829b-807821d06f2d",
    "collapsed": false,
    "execution": {
     "iopub.execute_input": "2025-04-22T11:13:38.429976Z",
     "iopub.status.busy": "2025-04-22T11:13:38.428302Z",
     "iopub.status.idle": "2025-04-22T11:13:38.645729Z",
     "shell.execute_reply": "2025-04-22T11:13:38.643933Z"
    },
    "jupyter": {
     "outputs_hidden": false
    },
    "papermill": {
     "duration": 0.251491,
     "end_time": "2025-04-22T11:13:38.648033",
     "exception": false,
     "start_time": "2025-04-22T11:13:38.396542",
     "status": "completed"
    },
    "tags": []
   },
   "outputs": [],
   "source": [
    "#============================\n",
    "# 5. Convert Rolling Windows to Arrays & Extract Targets\n",
    "#============================\n",
    "# Number of samples is the number of rows in numW\n",
    "nSamp <- nrow(numW)\n",
    "\n",
    "# Convert numerical windows to a 3D array of shape [nSamp, ws, length(numF)]\n",
    "num_array <- array(\n",
    "  unlist(numW$window),\n",
    "  dim = c(nSamp, ws, length(numF))\n",
    ")\n",
    "\n",
    "# Targets (scaled): a matrix with one column\n",
    "targets <- matrix(as.numeric(numW$target), ncol = 1)\n",
    "\n",
    "# For categorical inputs, extract the current categorical values from the last row of each window.\n",
    "# (If your windows were built solely from historical data, the \"current\" values need to come from the original data.)\n",
    "# Here, we use the categorical rolling windows and extract the last row:\n",
    "cat_current <- do.call(rbind, lapply(catW$window, function(mat) mat[nrow(mat), ]))\n",
    "# Split into separate matrices (each of shape [nSamp, 1])\n",
    "cat_player_id <- matrix(as.integer(cat_current[, \"player_id\"]), ncol = 1)\n",
    "cat_tID <- matrix(as.integer(cat_current[, \"tID\"]), ncol = 1)\n",
    "cat_oID <- matrix(as.integer(cat_current[, \"oID\"]), ncol = 1)\n",
    "cat_hID <- matrix(as.integer(cat_current[, \"hID\"]), ncol = 1)"
   ]
  },
  {
   "cell_type": "markdown",
   "id": "495cef25",
   "metadata": {
    "_cell_guid": "3c8a7091-95c5-46c7-ae59-45d21c86ea3a",
    "_uuid": "9eca6d7c-9e3e-4519-b7e0-7b80544a7e79",
    "collapsed": false,
    "jupyter": {
     "outputs_hidden": false
    },
    "papermill": {
     "duration": 0.029238,
     "end_time": "2025-04-22T11:13:38.707000",
     "exception": false,
     "start_time": "2025-04-22T11:13:38.677762",
     "status": "completed"
    },
    "tags": []
   },
   "source": [
    "## 6. Data split MID"
   ]
  },
  {
   "cell_type": "code",
   "execution_count": 36,
   "id": "2d8b83e1",
   "metadata": {
    "_cell_guid": "c7ac93ce-ac88-4775-80b4-95e7ee021dd7",
    "_uuid": "bda88941-5748-4e24-8373-28db520a1115",
    "collapsed": false,
    "execution": {
     "iopub.execute_input": "2025-04-22T11:13:38.770352Z",
     "iopub.status.busy": "2025-04-22T11:13:38.768797Z",
     "iopub.status.idle": "2025-04-22T11:13:38.824321Z",
     "shell.execute_reply": "2025-04-22T11:13:38.822463Z"
    },
    "jupyter": {
     "outputs_hidden": false
    },
    "papermill": {
     "duration": 0.090157,
     "end_time": "2025-04-22T11:13:38.826656",
     "exception": false,
     "start_time": "2025-04-22T11:13:38.736499",
     "status": "completed"
    },
    "tags": []
   },
   "outputs": [],
   "source": [
    "#============================\n",
    "# 6. Split Data into Training and Validation Sets\n",
    "#============================\n",
    "idx <- which(numW$GW <= split_gw)\n",
    "\n",
    "# Training data\n",
    "Xnum_train <- num_array[idx, , , drop = FALSE]\n",
    "cat_player_id_train <- cat_player_id[idx, , drop = FALSE]\n",
    "cat_tID_train <- cat_tID[idx, , drop = FALSE]\n",
    "cat_oID_train <- cat_oID[idx, , drop = FALSE]\n",
    "cat_hID_train <- cat_hID[idx, , drop = FALSE]\n",
    "y_train <- targets[idx, , drop = FALSE]\n",
    "\n",
    "# Validation data\n",
    "Xnum_val <- num_array[-idx, , , drop = FALSE]\n",
    "cat_player_id_val <- cat_player_id[-idx, , drop = FALSE]\n",
    "cat_tID_val <- cat_tID[-idx, , drop = FALSE]\n",
    "cat_oID_val <- cat_oID[-idx, , drop = FALSE]\n",
    "cat_hID_val <- cat_hID[-idx, , drop = FALSE]\n",
    "y_val <- targets[-idx, , drop = FALSE]\n",
    "\n",
    "# Also, extract the row IDs for the validation samples (for later joining)\n",
    "val_row_ids <- numW$row_id[-idx]"
   ]
  },
  {
   "cell_type": "code",
   "execution_count": 37,
   "id": "0fb18482",
   "metadata": {
    "_cell_guid": "1640d596-b70c-4bf1-a33f-ae829204d97c",
    "_uuid": "565cb7b7-82fc-4a88-b510-0171104c4f65",
    "collapsed": false,
    "execution": {
     "iopub.execute_input": "2025-04-22T11:13:38.889656Z",
     "iopub.status.busy": "2025-04-22T11:13:38.888051Z",
     "iopub.status.idle": "2025-04-22T11:13:39.323586Z",
     "shell.execute_reply": "2025-04-22T11:13:39.320994Z"
    },
    "jupyter": {
     "outputs_hidden": false
    },
    "papermill": {
     "duration": 0.469994,
     "end_time": "2025-04-22T11:13:39.326463",
     "exception": false,
     "start_time": "2025-04-22T11:13:38.856469",
     "status": "completed"
    },
    "tags": []
   },
   "outputs": [
    {
     "name": "stdout",
     "output_type": "stream",
     "text": [
      "Model: \"mid_lstm_model\"\n",
      "________________________________________________________________________________\n",
      " Layer (type)             Output Shape      Param #  Connected to               \n",
      "================================================================================\n",
      " input_player_id (InputLa  [(None, 1)]      0        []                         \n",
      " yer)                                                                           \n",
      " input_tID (InputLayer)   [(None, 1)]       0        []                         \n",
      " input_oID (InputLayer)   [(None, 1)]       0        []                         \n",
      " input_hID (InputLayer)   [(None, 1)]       0        []                         \n",
      " embedding_6 (Embedding)  (None, 1, 20)     26700    ['input_player_id[0][0]']  \n",
      " embedding_7 (Embedding)  (None, 1, 20)     500      ['input_tID[0][0]']        \n",
      " embedding_8 (Embedding)  (None, 1, 20)     500      ['input_oID[0][0]']        \n",
      " lambda_2 (Lambda)        (None, 1)         0        ['input_hID[0][0]']        \n",
      " input_seq (InputLayer)   [(None, 3, 21)]   0        []                         \n",
      " flatten_8 (Flatten)      (None, 20)        0        ['embedding_6[0][0]']      \n",
      " flatten_9 (Flatten)      (None, 20)        0        ['embedding_7[0][0]']      \n",
      " flatten_10 (Flatten)     (None, 20)        0        ['embedding_8[0][0]']      \n",
      " flatten_11 (Flatten)     (None, 1)         0        ['lambda_2[0][0]']         \n",
      " lstm_2 (LSTM)            (None, 64)        22016    ['input_seq[0][0]']        \n",
      " concatenate_4 (Concatena  (None, 61)       0        ['flatten_8[0][0]',        \n",
      " te)                                                  'flatten_9[0][0]',        \n",
      "                                                      'flatten_10[0][0]',       \n",
      "                                                      'flatten_11[0][0]']       \n",
      " dropout_2 (Dropout)      (None, 64)        0        ['lstm_2[0][0]']           \n",
      " dense_6 (Dense)          (None, 16)        992      ['concatenate_4[0][0]']    \n",
      " concatenate_5 (Concatena  (None, 80)       0        ['dropout_2[0][0]',        \n",
      " te)                                                  'dense_6[0][0]']          \n",
      " dense_7 (Dense)          (None, 32)        2592     ['concatenate_5[0][0]']    \n",
      " dense_8 (Dense)          (None, 1)         33       ['dense_7[0][0]']          \n",
      "================================================================================\n",
      "Total params: 53,333\n",
      "Trainable params: 53,333\n",
      "Non-trainable params: 0\n",
      "________________________________________________________________________________\n"
     ]
    }
   ],
   "source": [
    "#============================\n",
    "# 7. Build the Model\n",
    "#============================\n",
    "# Define maximum values for categorical features\n",
    "num_players   <- max(mid$player_id)\n",
    "num_teams     <- max(mid$tID)\n",
    "num_opponents <- max(mid$oID)\n",
    "# For hID, assume it???s binary\n",
    "\n",
    "emb_dim <- 20  # Embedding dimension\n",
    "\n",
    "# Create input layers for current categorical values\n",
    "input_player_id <- layer_input(shape = c(1), dtype = \"int32\", name = \"input_player_id\")\n",
    "input_tID <- layer_input(shape = c(1), dtype = \"int32\", name = \"input_tID\")\n",
    "input_oID <- layer_input(shape = c(1), dtype = \"int32\", name = \"input_oID\")\n",
    "input_hID <- layer_input(shape = c(1), dtype = \"int32\", name = \"input_hID\")\n",
    "\n",
    "embedding_player_id <- input_player_id %>% \n",
    "  layer_embedding(input_dim = num_players + 1, output_dim = emb_dim, mask_zero = TRUE) %>% \n",
    "  layer_flatten()\n",
    "embedding_tID <- input_tID %>% \n",
    "  layer_embedding(input_dim = num_teams + 1, output_dim = emb_dim, mask_zero = TRUE) %>% \n",
    "  layer_flatten()\n",
    "embedding_oID <- input_oID %>% \n",
    "  layer_embedding(input_dim = num_opponents + 1, output_dim = emb_dim, mask_zero = TRUE) %>% \n",
    "  layer_flatten()\n",
    "# For hID, convert to float32 to match types\n",
    "input_hID_flat <- input_hID %>% \n",
    "  layer_lambda(function(x) tf$cast(x, tf$float32)) %>% \n",
    "  layer_flatten()\n",
    "\n",
    "# Merge categorical branch\n",
    "cat_merged <- layer_concatenate(list(embedding_player_id, embedding_tID, embedding_oID, input_hID_flat)) %>%\n",
    "  layer_dense(units = 16, activation = \"relu\")\n",
    "\n",
    "# Numerical branch: input for rolling window data\n",
    "input_seq <- layer_input(shape = c(ws, length(numF)), name = \"input_seq\")\n",
    "lstm_branch <- input_seq %>%\n",
    "  layer_lstm(units = 64, return_sequences = FALSE) %>%\n",
    "  layer_dropout(rate = 0.2)\n",
    "\n",
    "# Merge both branches and build the output\n",
    "merged <- layer_concatenate(list(lstm_branch, cat_merged))\n",
    "dense_layer <- merged %>% layer_dense(units = 32, activation = \"relu\")\n",
    "output <- dense_layer %>% layer_dense(units = 1, activation = \"linear\")\n",
    "\n",
    "# Build and compile the model\n",
    "model <- keras_model(\n",
    "  inputs = list(input_seq, input_player_id, input_tID, input_oID, input_hID),\n",
    "  outputs = output,\n",
    "    name = \"mid_lstm_model\"\n",
    ")\n",
    "model %>% compile(\n",
    "  optimizer = optimizer_adam(),\n",
    "  loss = \"mse\",\n",
    "  metrics = metrics_regression,\n",
    "  run_eagerly = TRUE\n",
    ")\n",
    "summary(model)"
   ]
  },
  {
   "cell_type": "markdown",
   "id": "937f85bc",
   "metadata": {
    "papermill": {
     "duration": 0.029111,
     "end_time": "2025-04-22T11:13:39.385238",
     "exception": false,
     "start_time": "2025-04-22T11:13:39.356127",
     "status": "completed"
    },
    "tags": []
   },
   "source": [
    "## Før fit av modellen MID"
   ]
  },
  {
   "cell_type": "code",
   "execution_count": 38,
   "id": "17cae45c",
   "metadata": {
    "execution": {
     "iopub.execute_input": "2025-04-22T11:13:39.448825Z",
     "iopub.status.busy": "2025-04-22T11:13:39.447283Z",
     "iopub.status.idle": "2025-04-22T11:13:39.482865Z",
     "shell.execute_reply": "2025-04-22T11:13:39.480606Z"
    },
    "papermill": {
     "duration": 0.070657,
     "end_time": "2025-04-22T11:13:39.485756",
     "exception": false,
     "start_time": "2025-04-22T11:13:39.415099",
     "status": "completed"
    },
    "tags": []
   },
   "outputs": [
    {
     "name": "stdout",
     "output_type": "stream",
     "text": [
      "Will save best MID weights to: /kaggle/working/best_mid_weights.hdf5 \n"
     ]
    },
    {
     "name": "stdout",
     "output_type": "stream",
     "text": [
      "MID scaling factors stored.\n"
     ]
    }
   ],
   "source": [
    "# Filepath for saving the BEST weights (unique for each position)\n",
    "weights_filepath_mid <- \"/kaggle/working/best_mid_weights.hdf5\"\n",
    "cat(\"Will save best MID weights to:\", weights_filepath_mid, \"\\n\")\n",
    "\n",
    "# 1. Early Stopping Callback\n",
    "early_stopping <- callback_early_stopping(\n",
    "    monitor = \"val_loss\",       # Monitor validation loss\n",
    "    patience = num_patience,              # Stop after 10 epochs of no improvement\n",
    "    restore_best_weights = TRUE # Optional but good: restores weights from the best epoch at the end of training\n",
    "                                # Note: Checkpoint callback is the primary saver here.\n",
    ")\n",
    "\n",
    "# 2. Model Checkpoint Callback (to save best weights)\n",
    "model_checkpoint <- callback_model_checkpoint(\n",
    "    filepath = weights_filepath_mid, # Path defined above\n",
    "    monitor = \"val_loss\",           # Monitor the same metric as early stopping\n",
    "    save_best_only = TRUE,          # IMPORTANT: Only save when val_loss improves\n",
    "    save_weights_only = TRUE,       # IMPORTANT: Save ONLY the weights, not the whole model\n",
    "    mode = \"min\",                   # We want to minimize loss\n",
    "    verbose = 1                     # Optional: print message when weights are saved\n",
    ")\n",
    "\n",
    "reduce_lr <- callback_reduce_lr_on_plateau(\n",
    "    monitor = \"val_loss\",  # Monitor validation loss (same as early stopping)\n",
    "    factor = 0.2,          # Reduce LR to 20% of its current value (lr * factor)\n",
    "    patience = 5,           # Reduce LR if val_loss doesn't improve for 5 epochs\n",
    "    min_lr = 1e-6,         # Don't reduce the LR below this value\n",
    "    verbose = 1            # Print a message when LR is reduced\n",
    ")\n",
    "\n",
    "# Store scaling factors NOW (before potential errors during training)\n",
    "# Ensure mu, sigma, and numF (Lasso selected) are correctly captured from the GK scaling steps\n",
    "scaling_factors$mid <- list(\n",
    "    mu = mu,         # Mean of GK target used for scaling\n",
    "    sigma = sigma,   # SD of GK target used for scaling\n",
    "    numF = numF      # Vector of Lasso-selected numerical feature names for GK\n",
    ")\n",
    "cat(\"MID scaling factors stored.\\n\")"
   ]
  },
  {
   "cell_type": "code",
   "execution_count": 39,
   "id": "007840f8",
   "metadata": {
    "_cell_guid": "bf6f954a-2971-44c3-8a00-74b851ffc2ba",
    "_uuid": "6888bb86-80f4-44d5-b911-641d76fcf24d",
    "collapsed": false,
    "execution": {
     "iopub.execute_input": "2025-04-22T11:13:39.550083Z",
     "iopub.status.busy": "2025-04-22T11:13:39.548543Z",
     "iopub.status.idle": "2025-04-22T11:33:38.455289Z",
     "shell.execute_reply": "2025-04-22T11:33:38.452539Z"
    },
    "jupyter": {
     "outputs_hidden": false
    },
    "papermill": {
     "duration": 1199.000033,
     "end_time": "2025-04-22T11:33:38.516327",
     "exception": false,
     "start_time": "2025-04-22T11:13:39.516294",
     "status": "completed"
    },
    "tags": []
   },
   "outputs": [
    {
     "name": "stdout",
     "output_type": "stream",
     "text": [
      "Starting MID model training...\n"
     ]
    },
    {
     "name": "stdout",
     "output_type": "stream",
     "text": [
      "MID model training finished.\n"
     ]
    }
   ],
   "source": [
    "#============================\n",
    "# 8. Train the Model\n",
    "#============================\n",
    "cat(\"Starting MID model training...\\n\")\n",
    "history <- model %>% fit(\n",
    "  x = list(\n",
    "    input_seq = Xnum_train,\n",
    "    input_player_id = cat_player_id_train,\n",
    "    input_tID = cat_tID_train,\n",
    "    input_oID = cat_oID_train,\n",
    "    input_hID = cat_hID_train\n",
    "  ),\n",
    "  y = y_train,\n",
    "  epochs = epoker,          # Max epochs\n",
    "  batch_size = 64,          # Try increasing batch size (e.g., 64 or 128) for speed\n",
    "  validation_data = list(\n",
    "    list(\n",
    "      input_seq = Xnum_val,\n",
    "      input_player_id = cat_player_id_val,\n",
    "      input_tID = cat_tID_val,\n",
    "      input_oID = cat_oID_val,\n",
    "      input_hID = cat_hID_val\n",
    "    ),\n",
    "    y_val\n",
    "  ),\n",
    "  # ADD THE CALLBACKS HERE\n",
    "  callbacks = list(early_stopping, model_checkpoint, reduce_lr)\n",
    ")\n",
    "cat(\"MID model training finished.\\n\")"
   ]
  },
  {
   "cell_type": "code",
   "execution_count": 40,
   "id": "f8400198",
   "metadata": {
    "_cell_guid": "00776814-e755-49b0-8ccc-9f5ce14420e0",
    "_uuid": "4ca17830-b212-4215-a1f3-57205368a454",
    "collapsed": false,
    "execution": {
     "iopub.execute_input": "2025-04-22T11:33:38.604075Z",
     "iopub.status.busy": "2025-04-22T11:33:38.602563Z",
     "iopub.status.idle": "2025-04-22T11:33:44.535334Z",
     "shell.execute_reply": "2025-04-22T11:33:44.532622Z"
    },
    "jupyter": {
     "outputs_hidden": false
    },
    "papermill": {
     "duration": 5.971135,
     "end_time": "2025-04-22T11:33:44.539310",
     "exception": false,
     "start_time": "2025-04-22T11:33:38.568175",
     "status": "completed"
    },
    "tags": []
   },
   "outputs": [
    {
     "name": "stdout",
     "output_type": "stream",
     "text": [
      "Rows: 9,502\n",
      "Columns: 49\n",
      "$ row_id                        \u001b[3m\u001b[90m<dbl>\u001b[39m\u001b[23m 587, 588, 589, 590, 591, 592, 593, 594, …\n",
      "$ predicted_total_points_scaled \u001b[3m\u001b[90m<dbl>\u001b[39m\u001b[23m 0.06482147, 0.01102212, 0.46640980, -0.0…\n",
      "$ actual_total_points_scaled    \u001b[3m\u001b[90m<dbl>\u001b[39m\u001b[23m 0.32314972, -0.09825256, -0.09825256, -0…\n",
      "$ predicted_total_points        \u001b[3m\u001b[90m<dbl>\u001b[39m\u001b[23m 1.386979, 1.259312, 2.339960, 1.157959, …\n",
      "$ actual_total_points           \u001b[3m\u001b[90m<dbl>\u001b[39m\u001b[23m 2, 1, 1, 0, 2, 2, 3, 3, 2, 0, 3, 3, 2, 3…\n",
      "$ name                          \u001b[3m\u001b[90m<chr>\u001b[39m\u001b[23m \"Abdoulaye Doucoure\", \"Abdoulaye Doucour…\n",
      "$ position                      \u001b[3m\u001b[90m<chr>\u001b[39m\u001b[23m \"MID\", \"MID\", \"MID\", \"MID\", \"MID\", \"MID\"…\n",
      "$ team                          \u001b[3m\u001b[90m<chr>\u001b[39m\u001b[23m \"Everton\", \"Everton\", \"Everton\", \"Everto…\n",
      "$ xP                            \u001b[3m\u001b[90m<dbl>\u001b[39m\u001b[23m 2.0, 1.5, 1.3, 1.0, 1.5, 1.3, 1.3, 2.7, …\n",
      "$ assists                       \u001b[3m\u001b[90m<dbl>\u001b[39m\u001b[23m 0, 0, 0, 0, 0, 0, 0, 0, 0, 0, 0, 0, 0, 0…\n",
      "$ bonus                         \u001b[3m\u001b[90m<dbl>\u001b[39m\u001b[23m 0, 0, 0, 0, 0, 0, 0, 0, 0, 0, 0, 0, 0, 0…\n",
      "$ bps                           \u001b[3m\u001b[90m<dbl>\u001b[39m\u001b[23m 2, 3, 4, 0, 14, 7, 11, 11, 13, 0, 16, 7,…\n",
      "$ clean_sheets                  \u001b[3m\u001b[90m<dbl>\u001b[39m\u001b[23m 0, 0, 0, 0, 0, 0, 1, 1, 0, 0, 1, 1, 0, 1…\n",
      "$ creativity                    \u001b[3m\u001b[90m<dbl>\u001b[39m\u001b[23m 3.2, 1.4, 1.9, 0.0, 2.8, 13.0, 32.2, 23.…\n",
      "$ expected_assists              \u001b[3m\u001b[90m<dbl>\u001b[39m\u001b[23m 0.01, 0.00, 0.01, 0.00, 0.01, 0.02, 0.02…\n",
      "$ expected_goal_involvements    \u001b[3m\u001b[90m<dbl>\u001b[39m\u001b[23m 0.15, 0.07, 0.01, 0.00, 0.03, 0.02, 0.02…\n",
      "$ expected_goals                \u001b[3m\u001b[90m<dbl>\u001b[39m\u001b[23m 0.14, 0.07, 0.00, 0.00, 0.02, 0.00, 0.00…\n",
      "$ expected_goals_conceded       \u001b[3m\u001b[90m<dbl>\u001b[39m\u001b[23m 1.13, 1.66, 1.54, 0.00, 0.66, 0.95, 2.05…\n",
      "$ fixture                       \u001b[3m\u001b[90m<dbl>\u001b[39m\u001b[23m 3, 19, 24, 31, 45, 55, 67, 73, 87, 98, 1…\n",
      "$ goals_conceded                \u001b[3m\u001b[90m<dbl>\u001b[39m\u001b[23m 2, 2, 3, 0, 1, 1, 0, 0, 1, 0, 0, 0, 4, 0…\n",
      "$ goals_scored                  \u001b[3m\u001b[90m<dbl>\u001b[39m\u001b[23m 0, 0, 0, 0, 0, 0, 0, 0, 0, 0, 0, 0, 0, 0…\n",
      "$ ict_index                     \u001b[3m\u001b[90m<dbl>\u001b[39m\u001b[23m 1.1, 1.0, 0.5, 0.0, 1.8, 2.3, 4.4, 3.9, …\n",
      "$ influence                     \u001b[3m\u001b[90m<dbl>\u001b[39m\u001b[23m 2.4, 1.6, 1.2, 0.0, 12.6, 10.4, 11.6, 13…\n",
      "$ kickoff_time                  \u001b[3m\u001b[90m<dttm>\u001b[39m\u001b[23m 2024-08-17 14:00:00, 2024-08-24 14:00:0…\n",
      "$ minutes                       \u001b[3m\u001b[90m<dbl>\u001b[39m\u001b[23m 62, 56, 7, 0, 90, 90, 90, 90, 79, 0, 85,…\n",
      "$ opponent_team                 \u001b[3m\u001b[90m<chr>\u001b[39m\u001b[23m \"Brighton\", \"Tottenham\", \"Bournemouth\", …\n",
      "$ own_goals                     \u001b[3m\u001b[90m<dbl>\u001b[39m\u001b[23m 0, 0, 0, 0, 0, 0, 0, 0, 0, 0, 0, 0, 0, 0…\n",
      "$ penalties_missed              \u001b[3m\u001b[90m<dbl>\u001b[39m\u001b[23m 0, 0, 0, 0, 0, 0, 0, 0, 0, 0, 0, 0, 0, 0…\n",
      "$ penalties_saved               \u001b[3m\u001b[90m<dbl>\u001b[39m\u001b[23m 0, 0, 0, 0, 0, 0, 0, 0, 0, 0, 0, 0, 0, 0…\n",
      "$ red_cards                     \u001b[3m\u001b[90m<dbl>\u001b[39m\u001b[23m 0, 0, 0, 0, 0, 0, 0, 0, 0, 0, 0, 0, 0, 0…\n",
      "$ round                         \u001b[3m\u001b[90m<dbl>\u001b[39m\u001b[23m 1, 2, 3, 4, 5, 6, 7, 8, 9, 10, 11, 12, 1…\n",
      "$ saves                         \u001b[3m\u001b[90m<dbl>\u001b[39m\u001b[23m 0, 0, 0, 0, 0, 0, 0, 0, 0, 0, 0, 0, 0, 0…\n",
      "$ selected                      \u001b[3m\u001b[90m<dbl>\u001b[39m\u001b[23m 46194, 43259, 37931, 30683, 27682, 25555…\n",
      "$ starts                        \u001b[3m\u001b[90m<dbl>\u001b[39m\u001b[23m 1, 1, 0, 0, 1, 1, 1, 1, 1, 0, 1, 1, 1, 1…\n",
      "$ team_a_score                  \u001b[3m\u001b[90m<dbl>\u001b[39m\u001b[23m 3, 0, 3, 2, 1, 1, 0, 2, 1, 0, 0, 0, 0, 0…\n",
      "$ team_h_score                  \u001b[3m\u001b[90m<dbl>\u001b[39m\u001b[23m 0, 4, 2, 3, 1, 2, 0, 0, 1, 1, 0, 0, 4, 4…\n",
      "$ threat                        \u001b[3m\u001b[90m<dbl>\u001b[39m\u001b[23m 5, 7, 2, 0, 3, 0, 0, 2, 19, 0, 9, 2, 2, …\n",
      "$ total_points                  \u001b[3m\u001b[90m<dbl>\u001b[39m\u001b[23m 2, 1, 1, 0, 2, 2, 3, 3, 2, 0, 3, 3, 2, 3…\n",
      "$ transfers_balance             \u001b[3m\u001b[90m<dbl>\u001b[39m\u001b[23m 0, -6563, -6423, -7655, -3364, -2326, -1…\n",
      "$ transfers_in                  \u001b[3m\u001b[90m<dbl>\u001b[39m\u001b[23m 0, 1812, 2669, 914, 677, 806, 729, 2939,…\n",
      "$ transfers_out                 \u001b[3m\u001b[90m<dbl>\u001b[39m\u001b[23m 0, 8375, 9092, 8569, 4041, 3132, 2549, 1…\n",
      "$ value                         \u001b[3m\u001b[90m<dbl>\u001b[39m\u001b[23m 55, 55, 54, 53, 53, 52, 52, 52, 52, 52, …\n",
      "$ was_home                      \u001b[3m\u001b[90m<lgl>\u001b[39m\u001b[23m TRUE, FALSE, TRUE, FALSE, FALSE, TRUE, T…\n",
      "$ yellow_cards                  \u001b[3m\u001b[90m<dbl>\u001b[39m\u001b[23m 0, 0, 0, 0, 0, 0, 0, 0, 0, 0, 0, 0, 0, 0…\n",
      "$ GW                            \u001b[3m\u001b[90m<dbl>\u001b[39m\u001b[23m 77, 78, 79, 80, 81, 82, 83, 84, 85, 86, …\n",
      "$ player_id                     \u001b[3m\u001b[90m<dbl>\u001b[39m\u001b[23m 8, 8, 8, 8, 8, 8, 8, 8, 8, 8, 8, 8, 8, 8…\n",
      "$ oID                           \u001b[3m\u001b[90m<dbl>\u001b[39m\u001b[23m 5, 22, 3, 2, 13, 8, 18, 11, 10, 21, 23, …\n",
      "$ tID                           \u001b[3m\u001b[90m<dbl>\u001b[39m\u001b[23m 9, 9, 9, 9, 9, 9, 9, 9, 9, 9, 9, 9, 9, 9…\n",
      "$ hID                           \u001b[3m\u001b[90m<dbl>\u001b[39m\u001b[23m 1, 0, 1, 0, 0, 1, 1, 0, 1, 0, 0, 1, 0, 1…\n"
     ]
    }
   ],
   "source": [
    "\n",
    "#============================\n",
    "# 9. Generate Predictions & Invert Scaling on Validation Set\n",
    "#============================\n",
    "# Use the validation set for predictions\n",
    "pred_all <- model %>% predict(\n",
    "  list(\n",
    "    input_seq = Xnum_val,\n",
    "    input_player_id = cat_player_id_val,\n",
    "    input_tID = cat_tID_val,\n",
    "    input_oID = cat_oID_val,\n",
    "    input_hID = cat_hID_val\n",
    "  )\n",
    ")\n",
    "\n",
    "# Build a predictions table using the validation row IDs\n",
    "preds_mid <- tibble(\n",
    "  row_id = val_row_ids,  # row IDs corresponding to the validation set\n",
    "  predicted_total_points_scaled = as.vector(pred_all),\n",
    "  actual_total_points_scaled = as.vector(y_val)\n",
    ") %>% \n",
    "  mutate(\n",
    "    predicted_total_points = predicted_total_points_scaled * sigma + mu,\n",
    "    actual_total_points = actual_total_points_scaled * sigma + mu\n",
    "  )\n",
    "\n",
    "preds_mid <- preds_mid %>%\n",
    "  left_join(unscaled_mid, by = \"row_id\") # Use unscaled_mid\n",
    "\n",
    "# View the predictions table\n",
    "glimpse(preds_mid)"
   ]
  },
  {
   "cell_type": "markdown",
   "id": "c6210f46",
   "metadata": {
    "_cell_guid": "86599efa-576b-4436-bf27-4d9832e1f80d",
    "_uuid": "11ae59e0-d39e-4347-b623-fe0817fd942c",
    "collapsed": false,
    "jupyter": {
     "outputs_hidden": false
    },
    "papermill": {
     "duration": 0.03116,
     "end_time": "2025-04-22T11:33:44.610659",
     "exception": false,
     "start_time": "2025-04-22T11:33:44.579499",
     "status": "completed"
    },
    "tags": []
   },
   "source": [
    "## Eval plots mid"
   ]
  },
  {
   "cell_type": "code",
   "execution_count": 41,
   "id": "e5e3c792",
   "metadata": {
    "_cell_guid": "ed07cb12-7d78-42aa-9e6a-d44e2ac5d55f",
    "_uuid": "45766a3d-ed9c-4437-86f3-4fe1e6b702cd",
    "collapsed": false,
    "execution": {
     "iopub.execute_input": "2025-04-22T11:33:44.678061Z",
     "iopub.status.busy": "2025-04-22T11:33:44.675530Z",
     "iopub.status.idle": "2025-04-22T11:33:45.591219Z",
     "shell.execute_reply": "2025-04-22T11:33:45.588052Z"
    },
    "jupyter": {
     "outputs_hidden": false
    },
    "papermill": {
     "duration": 0.953351,
     "end_time": "2025-04-22T11:33:45.594743",
     "exception": false,
     "start_time": "2025-04-22T11:33:44.641392",
     "status": "completed"
    },
    "tags": []
   },
   "outputs": [
    {
     "name": "stdout",
     "output_type": "stream",
     "text": [
      "Rows: 6,500\n",
      "Columns: 4\n",
      "$ epoch  \u001b[3m\u001b[90m<int>\u001b[39m\u001b[23m 1, 2, 3, 4, 5, 6, 7, 8, 9, 10, 11, 12, 13, 14, 15, 16, 17, 18, …\n",
      "$ value  \u001b[3m\u001b[90m<dbl>\u001b[39m\u001b[23m 0.8591099, 0.7210456, 0.7064748, 0.6982055, 0.6894090, 0.682071…\n",
      "$ metric \u001b[3m\u001b[90m<fct>\u001b[39m\u001b[23m loss, loss, loss, loss, loss, loss, loss, loss, loss, loss, los…\n",
      "$ data   \u001b[3m\u001b[90m<fct>\u001b[39m\u001b[23m training, training, training, training, training, training, tra…\n"
     ]
    },
    {
     "data": {
      "image/png": "[encoded data removed]"
     },
     "metadata": {
      "image/png": {
       "height": 420,
       "width": 420
      }
     },
     "output_type": "display_data"
    }
   ],
   "source": [
    "plot(history)\n",
    "\n",
    "history_df_mid <- as.data.frame(history)\n",
    "\n",
    "glimpse(history_df_mid)"
   ]
  },
  {
   "cell_type": "markdown",
   "id": "fef6373b",
   "metadata": {
    "_cell_guid": "42df456e-0aff-40e7-b247-303583d22d37",
    "_uuid": "30226c5d-25bb-44cd-9f98-54375d19ef04",
    "collapsed": false,
    "jupyter": {
     "outputs_hidden": false
    },
    "papermill": {
     "duration": 0.033647,
     "end_time": "2025-04-22T11:33:45.662561",
     "exception": false,
     "start_time": "2025-04-22T11:33:45.628914",
     "status": "completed"
    },
    "tags": []
   },
   "source": [
    "## 3.11 Lagre modell og prediksjoner"
   ]
  },
  {
   "cell_type": "code",
   "execution_count": 42,
   "id": "77c8436c",
   "metadata": {
    "_cell_guid": "c9465700-aa4f-45e5-b048-a5a68fa00543",
    "_uuid": "2f4b9595-1d61-4df1-8a4d-6d059f130a20",
    "collapsed": false,
    "execution": {
     "iopub.execute_input": "2025-04-22T11:33:45.732550Z",
     "iopub.status.busy": "2025-04-22T11:33:45.730945Z",
     "iopub.status.idle": "2025-04-22T11:33:45.755840Z",
     "shell.execute_reply": "2025-04-22T11:33:45.754173Z"
    },
    "jupyter": {
     "outputs_hidden": false
    },
    "papermill": {
     "duration": 0.062757,
     "end_time": "2025-04-22T11:33:45.758168",
     "exception": false,
     "start_time": "2025-04-22T11:33:45.695411",
     "status": "completed"
    },
    "tags": []
   },
   "outputs": [
    {
     "name": "stdout",
     "output_type": "stream",
     "text": [
      "MID model and scaling factors stored.\n"
     ]
    }
   ],
   "source": [
    "# Store MID model and scaling factors\n",
    "model_list$mid <- model\n",
    "scaling_factors$mid <- list(mu = mu, sigma = sigma, numF = numF) # numF here is the one selected by Lasso for MID\n",
    "cat(\"MID model and scaling factors stored.\\n\")\n",
    "\n",
    "# Clean up validation predictions (select essential columns)\n",
    "# Note: The join in cell a38dc192 uses 'mid' (scaled) then 'unscaled_mid'.\n",
    "preds_mid_clean <- preds_mid %>%\n",
    "   select(row_id, GW, player_id, name, position, team, # Identifiers from unscaled_mid join\n",
    "         actual_total_points, predicted_total_points, value)\n",
    "\n",
    "#save_model_tf(model, filepath = \"/kaggle/working/midmodel_tf\")"
   ]
  },
  {
   "cell_type": "code",
   "execution_count": 43,
   "id": "14750e51",
   "metadata": {
    "_cell_guid": "f02a61dc-d083-4eb0-aa37-fb802f906a02",
    "_uuid": "4a82bf05-a7ac-4d24-8439-c1998aa478e0",
    "collapsed": false,
    "execution": {
     "iopub.execute_input": "2025-04-22T11:33:45.826872Z",
     "iopub.status.busy": "2025-04-22T11:33:45.825194Z",
     "iopub.status.idle": "2025-04-22T11:34:04.391474Z",
     "shell.execute_reply": "2025-04-22T11:34:04.389511Z"
    },
    "jupyter": {
     "outputs_hidden": false
    },
    "papermill": {
     "duration": 18.603452,
     "end_time": "2025-04-22T11:34:04.393883",
     "exception": false,
     "start_time": "2025-04-22T11:33:45.790431",
     "status": "completed"
    },
    "tags": []
   },
   "outputs": [
    {
     "name": "stdout",
     "output_type": "stream",
     "text": [
      "                          loss            mean_absolute_error \n",
      "                     0.9678438                      0.6177761 \n",
      "            mean_squared_error        root_mean_squared_error \n",
      "                     0.9678438                      0.9837905 \n",
      "mean_absolute_percentage_error              cosine_similarity \n",
      "                   147.8038788                      0.1582825 \n"
     ]
    }
   ],
   "source": [
    "# After training, evaluate the model on validation data with all metrics\n",
    "model_evaluation <- model %>% evaluate(\n",
    "  x = list(\n",
    "    input_seq = Xnum_val,\n",
    "    input_player_id = cat_player_id_val,\n",
    "    input_tID = cat_tID_val,\n",
    "    input_oID = cat_oID_val,\n",
    "    input_hID = cat_hID_val\n",
    "  ),\n",
    "  y = y_val,\n",
    "  verbose = 1\n",
    ")\n",
    "\n",
    "# Print the evaluation results (metrics specified during compilation)\n",
    "print(model_evaluation)\n",
    "\n",
    "# Combine results by position\n",
    "validation_metrics$mid <- model_list$mid %>% evaluate(\n",
    "  x = list(\n",
    "    input_seq = Xnum_val,\n",
    "    input_player_id = cat_player_id_val,\n",
    "    input_tID = cat_tID_val,\n",
    "    input_oID = cat_oID_val,\n",
    "    input_hID = cat_hID_val\n",
    "  ),\n",
    "  y = y_val\n",
    ")"
   ]
  },
  {
   "cell_type": "markdown",
   "id": "4f081a93",
   "metadata": {
    "_cell_guid": "901fbfae-9823-4d22-b44a-cb2e6728ecf6",
    "_uuid": "487230cc-a549-4941-9adf-ededb1d6d18f",
    "collapsed": false,
    "jupyter": {
     "outputs_hidden": false
    },
    "papermill": {
     "duration": 0.032588,
     "end_time": "2025-04-22T11:34:04.459625",
     "exception": false,
     "start_time": "2025-04-22T11:34:04.427037",
     "status": "completed"
    },
    "tags": []
   },
   "source": [
    "## 4: Angrepsspillere"
   ]
  },
  {
   "cell_type": "code",
   "execution_count": 44,
   "id": "0aabe130",
   "metadata": {
    "_cell_guid": "9461dd23-44dc-4769-aa1b-d33c50e7479a",
    "_uuid": "2e6ab04b-8a61-4784-93f8-cbfc68697dc4",
    "collapsed": false,
    "execution": {
     "iopub.execute_input": "2025-04-22T11:34:04.528933Z",
     "iopub.status.busy": "2025-04-22T11:34:04.527234Z",
     "iopub.status.idle": "2025-04-22T11:34:04.559253Z",
     "shell.execute_reply": "2025-04-22T11:34:04.557477Z"
    },
    "jupyter": {
     "outputs_hidden": false
    },
    "papermill": {
     "duration": 0.069194,
     "end_time": "2025-04-22T11:34:04.561460",
     "exception": false,
     "start_time": "2025-04-22T11:34:04.492266",
     "status": "completed"
    },
    "tags": []
   },
   "outputs": [
    {
     "name": "stdout",
     "output_type": "stream",
     "text": [
      "Numeriske features: assists creativity minutes goals_conceded bonus bps expected_assists expected_goal_involvements expected_goals ict_index own_goals red_cards threat transfers_in transfers_out yellow_cards expected_goals_conceded value selected transfers_balance starts influence clean_sheets \n"
     ]
    },
    {
     "name": "stdout",
     "output_type": "stream",
     "text": [
      "Kategoriske features: player_id tID oID hID \n"
     ]
    },
    {
     "name": "stdout",
     "output_type": "stream",
     "text": [
      "Target variabel: total_points \n"
     ]
    },
    {
     "name": "stdout",
     "output_type": "stream",
     "text": [
      "Ferdig"
     ]
    }
   ],
   "source": [
    "#----------------------------\n",
    "# Define Features, Target & Scale\n",
    "#----------------------------\n",
    "numF <- c(\"assists\", \"creativity\", \"minutes\", \"goals_conceded\",\n",
    "          \"bonus\", \"bps\", \"expected_assists\", \"expected_goal_involvements\",\n",
    "          \"expected_goals\", \"ict_index\", \"own_goals\", \"red_cards\",\n",
    "          \"threat\", \"transfers_in\", \"transfers_out\", \"yellow_cards\",\n",
    "          \"expected_goals_conceded\", \"value\",\n",
    "          \"selected\", \"transfers_balance\", \"starts\", \"influence\",\n",
    "          \"clean_sheets\")\n",
    "catF <- c(\"player_id\", \"tID\", \"oID\", \"hID\")\n",
    "tar <- \"total_points\"\n",
    "\n",
    "cat(\"Numeriske features:\", numF, \"\\n\")\n",
    "cat(\"Kategoriske features:\", catF, \"\\n\")\n",
    "cat(\"Target variabel:\", tar, \"\\n\")\n",
    "cat(\"Ferdig\")"
   ]
  },
  {
   "cell_type": "code",
   "execution_count": 45,
   "id": "eea64f81",
   "metadata": {
    "_cell_guid": "700f655e-7041-47ef-ae94-de01a5e0dc26",
    "_uuid": "5006143f-c76b-45f1-8dc5-0e6c78b24344",
    "collapsed": false,
    "execution": {
     "iopub.execute_input": "2025-04-22T11:34:04.631529Z",
     "iopub.status.busy": "2025-04-22T11:34:04.629949Z",
     "iopub.status.idle": "2025-04-22T11:34:04.664011Z",
     "shell.execute_reply": "2025-04-22T11:34:04.662117Z"
    },
    "jupyter": {
     "outputs_hidden": false
    },
    "papermill": {
     "duration": 0.071373,
     "end_time": "2025-04-22T11:34:04.666319",
     "exception": false,
     "start_time": "2025-04-22T11:34:04.594946",
     "status": "completed"
    },
    "tags": []
   },
   "outputs": [
    {
     "name": "stdout",
     "output_type": "stream",
     "text": [
      "Kjørt"
     ]
    }
   ],
   "source": [
    "# numF, catF og tar variablene brukes på nytt\n",
    "# Compute and store the mean and standard deviation for the target variable\n",
    "mu <- mean(fwd[[tar]], na.rm = TRUE)\n",
    "sigma <- sd(fwd[[tar]], na.rm = TRUE)\n",
    "\n",
    "# Scale numerical features and target\n",
    "fwd <- fwd %>%\n",
    "  mutate(across(all_of(numF), ~ (.x - mean(.x, na.rm = TRUE)) / sd(.x, na.rm = TRUE)),\n",
    "         !!tar := (.data[[tar]] - mu) / sigma)\n",
    "cat(\"Kjørt\")"
   ]
  },
  {
   "cell_type": "markdown",
   "id": "d0b2bbfc",
   "metadata": {
    "_cell_guid": "50f9b199-9c45-4777-bdcb-13dcb5450bb8",
    "_uuid": "35005115-f1d8-4a45-9fd3-cce68dbf0f03",
    "collapsed": false,
    "jupyter": {
     "outputs_hidden": false
    },
    "papermill": {
     "duration": 0.032862,
     "end_time": "2025-04-22T11:34:04.732218",
     "exception": false,
     "start_time": "2025-04-22T11:34:04.699356",
     "status": "completed"
    },
    "tags": []
   },
   "source": [
    "### FWD Building rolling windows"
   ]
  },
  {
   "cell_type": "code",
   "execution_count": 46,
   "id": "b57eb323",
   "metadata": {
    "_cell_guid": "2cbd3607-c096-4bcb-8fc7-40066af19d81",
    "_uuid": "906ab980-e7be-4624-82f2-59412f76c4e1",
    "collapsed": false,
    "execution": {
     "iopub.execute_input": "2025-04-22T11:34:04.802006Z",
     "iopub.status.busy": "2025-04-22T11:34:04.800261Z",
     "iopub.status.idle": "2025-04-22T11:34:08.675343Z",
     "shell.execute_reply": "2025-04-22T11:34:08.672306Z"
    },
    "jupyter": {
     "outputs_hidden": false
    },
    "papermill": {
     "duration": 3.913518,
     "end_time": "2025-04-22T11:34:08.678739",
     "exception": false,
     "start_time": "2025-04-22T11:34:04.765221",
     "status": "completed"
    },
    "tags": []
   },
   "outputs": [
    {
     "name": "stdout",
     "output_type": "stream",
     "text": [
      "Kjørt"
     ]
    }
   ],
   "source": [
    "#----------------------------\n",
    "# 3. Build Rolling Windows\n",
    "#----------------------------\n",
    "# Define window size (number of past gameweeks to use)\n",
    "ws <- vindu\n",
    "\n",
    "# Build numerical rolling windows\n",
    "numW <- fwd %>%\n",
    "  group_by(player_id) %>%\n",
    "  filter(n() > ws) %>%  # Only players with more than ws observations\n",
    "  group_modify(~ {\n",
    "    windows <- slide(.x[, numF],\n",
    "                     .f = ~ as.matrix(.x),\n",
    "                     .before = ws, \n",
    "                     .after = -1, # prevents the model from seeing current gw data\n",
    "                     .complete = TRUE)\n",
    "    valid_windows <- windows[(ws + 1):length(windows)]\n",
    "    target <- .x[[tar]][(ws + 1):nrow(.x)]\n",
    "    # Extract row_id for each valid window\n",
    "    rid <- .x$row_id[(ws + 1):nrow(.x)]\n",
    "    tibble(window = valid_windows, target = target, row_id = rid)\n",
    "  }) %>%\n",
    "  ungroup()\n",
    "numW <- numW %>%\n",
    "  left_join(fwd %>% select(row_id, GW), by = \"row_id\")\n",
    "# Build categorical rolling windows (if needed for debugging; here we use only the current values)\n",
    "catW <- fwd %>%\n",
    "  group_by(player_id) %>%\n",
    "  filter(n() > ws) %>%\n",
    "  group_modify(~ {\n",
    "    df <- ungroup(.x) %>% mutate(player_id = .y$player_id)\n",
    "    windows <- slide(df %>% select(all_of(catF)),\n",
    "                     .f = ~ as.matrix(.x),\n",
    "                     .before = ws,\n",
    "                     #.after = -1,\n",
    "                     .complete = TRUE)\n",
    "    valid_windows <- windows[(ws + 1):length(windows)]\n",
    "    target <- df[[tar]][(ws + 1):nrow(df)]\n",
    "    tibble(window = valid_windows, target = target)\n",
    "  }) %>%\n",
    "  ungroup()\n",
    "\n",
    "cat(\"Kjørt\")"
   ]
  },
  {
   "cell_type": "code",
   "execution_count": 47,
   "id": "5f3ea07f",
   "metadata": {
    "_cell_guid": "3b385253-2838-445a-86e8-bcd65da38658",
    "_uuid": "69678bb7-8370-4286-a450-f54bb255cd5c",
    "collapsed": false,
    "execution": {
     "iopub.execute_input": "2025-04-22T11:34:08.751027Z",
     "iopub.status.busy": "2025-04-22T11:34:08.748115Z",
     "iopub.status.idle": "2025-04-22T11:34:10.751796Z",
     "shell.execute_reply": "2025-04-22T11:34:10.749977Z"
    },
    "jupyter": {
     "outputs_hidden": false
    },
    "papermill": {
     "duration": 2.043006,
     "end_time": "2025-04-22T11:34:10.754532",
     "exception": false,
     "start_time": "2025-04-22T11:34:08.711526",
     "status": "completed"
    },
    "tags": []
   },
   "outputs": [
    {
     "name": "stdout",
     "output_type": "stream",
     "text": [
      "Windows with NA:  0 \n"
     ]
    },
    {
     "name": "stdout",
     "output_type": "stream",
     "text": [
      "Selected features:  assists creativity minutes bps own_goals red_cards transfers_in transfers_out yellow_cards value selected \n"
     ]
    }
   ],
   "source": [
    "# Check for any NA in the windows before summary\n",
    "sumna <- sapply(numW$window, function(flatW) any(is.na(flatW)))\n",
    "cat(\"Windows with NA: \", sum(sumna), \"\\n\")\n",
    "\n",
    "#----------------------------\n",
    "# 4. Lasso regression\n",
    "#----------------------------\n",
    "# numW as data.matrix, tar as response variable\n",
    "\n",
    "aggmat <- lapply(numW$window, function(flatW){\n",
    "  colMeans(flatW, na.rm = TRUE)\n",
    "})\n",
    "x <- do.call(rbind, aggmat)\n",
    "y <- numW$target\n",
    "\n",
    "# K-fold CV\n",
    "cvfit <- cv.glmnet(x,y,alpha=1)\n",
    "minlambda <- cvfit$lambda.min\n",
    "\n",
    "lassofit <- glmnet(x,y,alpha = 1, lambda = minlambda)\n",
    "\n",
    "coef_lasso <- as.matrix(coef(lassofit))\n",
    "numF <- rownames(coef_lasso)[coef_lasso[,1] != 0]\n",
    "numF <- setdiff(numF, \"(Intercept)\")\n",
    "cat(\"Selected features: \", numF, \"\\n\")\n",
    "\n",
    "# repeat rolling window, now only containing selected features\n",
    "# Define window size (number of past gameweeks to use)\n",
    "ws <- vindu\n",
    "\n",
    "# Build numerical rolling windows\n",
    "numW <- fwd %>%\n",
    "  group_by(player_id) %>%\n",
    "  filter(n() > ws) %>%  # Only players with more than ws observations\n",
    "  group_modify(~ {\n",
    "    windows <- slide(.x[, numF],\n",
    "                     .f = ~ as.matrix(.x),\n",
    "                     .before = ws, \n",
    "                     .after = -1,\n",
    "                     .complete = TRUE)\n",
    "    valid_windows <- windows[(ws + 1):length(windows)]\n",
    "    target <- .x[[tar]][(ws + 1):nrow(.x)]\n",
    "    # Extract row_id for each valid window\n",
    "    rid <- .x$row_id[(ws + 1):nrow(.x)]\n",
    "    tibble(window = valid_windows, target = target, row_id = rid)\n",
    "  }) %>%\n",
    "  ungroup()\n",
    "\n",
    "numW <- numW %>%\n",
    "  left_join(fwd %>% select(row_id, GW), by = \"row_id\")"
   ]
  },
  {
   "cell_type": "code",
   "execution_count": 48,
   "id": "7ba0a01c",
   "metadata": {
    "_cell_guid": "0200df95-c2ac-474e-b6fb-13b367342a91",
    "_uuid": "1ec4beb5-f90d-4a55-8e91-b8541c14818a",
    "collapsed": false,
    "execution": {
     "iopub.execute_input": "2025-04-22T11:34:10.824734Z",
     "iopub.status.busy": "2025-04-22T11:34:10.823189Z",
     "iopub.status.idle": "2025-04-22T11:34:10.898467Z",
     "shell.execute_reply": "2025-04-22T11:34:10.896731Z"
    },
    "jupyter": {
     "outputs_hidden": false
    },
    "papermill": {
     "duration": 0.112796,
     "end_time": "2025-04-22T11:34:10.900833",
     "exception": false,
     "start_time": "2025-04-22T11:34:10.788037",
     "status": "completed"
    },
    "tags": []
   },
   "outputs": [],
   "source": [
    "#============================\n",
    "# 5. Convert Rolling Windows to Arrays & Extract Targets\n",
    "#============================\n",
    "# Number of samples is the number of rows in numW\n",
    "nSamp <- nrow(numW)\n",
    "\n",
    "# Convert numerical windows to a 3D array of shape [nSamp, ws, length(numF)]\n",
    "num_array <- array(\n",
    "  unlist(numW$window),\n",
    "  dim = c(nSamp, ws, length(numF))\n",
    ")\n",
    "\n",
    "# Targets (scaled): a matrix with one column\n",
    "targets <- matrix(as.numeric(numW$target), ncol = 1)\n",
    "\n",
    "# For categorical inputs, extract the current categorical values from the last row of each window.\n",
    "# (If your windows were built solely from historical data, the \"current\" values need to come from the original data.)\n",
    "# Here, we use the categorical rolling windows and extract the last row:\n",
    "cat_current <- do.call(rbind, lapply(catW$window, function(mat) mat[nrow(mat), ]))\n",
    "# Split into separate matrices (each of shape [nSamp, 1])\n",
    "cat_player_id <- matrix(as.integer(cat_current[, \"player_id\"]), ncol = 1)\n",
    "cat_tID <- matrix(as.integer(cat_current[, \"tID\"]), ncol = 1)\n",
    "cat_oID <- matrix(as.integer(cat_current[, \"oID\"]), ncol = 1)\n",
    "cat_hID <- matrix(as.integer(cat_current[, \"hID\"]), ncol = 1)"
   ]
  },
  {
   "cell_type": "markdown",
   "id": "717b34e1",
   "metadata": {
    "_cell_guid": "51f1af7a-d93f-448c-929d-b2527ae7b588",
    "_uuid": "829166b9-9750-46f8-b7f4-e112406f5910",
    "collapsed": false,
    "jupyter": {
     "outputs_hidden": false
    },
    "papermill": {
     "duration": 0.033233,
     "end_time": "2025-04-22T11:34:10.967185",
     "exception": false,
     "start_time": "2025-04-22T11:34:10.933952",
     "status": "completed"
    },
    "tags": []
   },
   "source": [
    "## 6. Data split FWD"
   ]
  },
  {
   "cell_type": "code",
   "execution_count": 49,
   "id": "2c314027",
   "metadata": {
    "_cell_guid": "0bd51d34-48d3-420d-acd4-bd6882b28542",
    "_uuid": "d82868b9-84c4-4330-8bc1-24c2f96f53e2",
    "collapsed": false,
    "execution": {
     "iopub.execute_input": "2025-04-22T11:34:11.043534Z",
     "iopub.status.busy": "2025-04-22T11:34:11.041944Z",
     "iopub.status.idle": "2025-04-22T11:34:11.102565Z",
     "shell.execute_reply": "2025-04-22T11:34:11.099628Z"
    },
    "jupyter": {
     "outputs_hidden": false
    },
    "papermill": {
     "duration": 0.106043,
     "end_time": "2025-04-22T11:34:11.106193",
     "exception": false,
     "start_time": "2025-04-22T11:34:11.000150",
     "status": "completed"
    },
    "tags": []
   },
   "outputs": [],
   "source": [
    "#============================\n",
    "# 6. Split Data into Training and Validation Sets\n",
    "#============================\n",
    "idx <- which(numW$GW <= split_gw)\n",
    "\n",
    "# Training data\n",
    "Xnum_train <- num_array[idx, , , drop = FALSE]\n",
    "cat_player_id_train <- cat_player_id[idx, , drop = FALSE]\n",
    "cat_tID_train <- cat_tID[idx, , drop = FALSE]\n",
    "cat_oID_train <- cat_oID[idx, , drop = FALSE]\n",
    "cat_hID_train <- cat_hID[idx, , drop = FALSE]\n",
    "y_train <- targets[idx, , drop = FALSE]\n",
    "\n",
    "# Validation data\n",
    "Xnum_val <- num_array[-idx, , , drop = FALSE]\n",
    "cat_player_id_val <- cat_player_id[-idx, , drop = FALSE]\n",
    "cat_tID_val <- cat_tID[-idx, , drop = FALSE]\n",
    "cat_oID_val <- cat_oID[-idx, , drop = FALSE]\n",
    "cat_hID_val <- cat_hID[-idx, , drop = FALSE]\n",
    "y_val <- targets[-idx, , drop = FALSE]\n",
    "\n",
    "# Also, extract the row IDs for the validation samples (for later joining)\n",
    "val_row_ids <- numW$row_id[-idx]"
   ]
  },
  {
   "cell_type": "code",
   "execution_count": 50,
   "id": "42b8f7e9",
   "metadata": {
    "_cell_guid": "a9e4f019-7890-4544-8c24-20a41c674cdc",
    "_uuid": "f0bb0e44-e22c-459c-bae7-8c45a75ee7c3",
    "collapsed": false,
    "execution": {
     "iopub.execute_input": "2025-04-22T11:34:11.194030Z",
     "iopub.status.busy": "2025-04-22T11:34:11.190081Z",
     "iopub.status.idle": "2025-04-22T11:34:11.688233Z",
     "shell.execute_reply": "2025-04-22T11:34:11.685716Z"
    },
    "jupyter": {
     "outputs_hidden": false
    },
    "papermill": {
     "duration": 0.548815,
     "end_time": "2025-04-22T11:34:11.690592",
     "exception": false,
     "start_time": "2025-04-22T11:34:11.141777",
     "status": "completed"
    },
    "tags": []
   },
   "outputs": [
    {
     "name": "stdout",
     "output_type": "stream",
     "text": [
      "Model: \"fwd_lstm_model\"\n",
      "________________________________________________________________________________\n",
      " Layer (type)             Output Shape      Param #  Connected to               \n",
      "================================================================================\n",
      " input_player_id (InputLa  [(None, 1)]      0        []                         \n",
      " yer)                                                                           \n",
      " input_tID (InputLayer)   [(None, 1)]       0        []                         \n",
      " input_oID (InputLayer)   [(None, 1)]       0        []                         \n",
      " input_hID (InputLayer)   [(None, 1)]       0        []                         \n",
      " embedding_9 (Embedding)  (None, 1, 20)     26680    ['input_player_id[0][0]']  \n",
      " embedding_10 (Embedding)  (None, 1, 20)    500      ['input_tID[0][0]']        \n",
      " embedding_11 (Embedding)  (None, 1, 20)    500      ['input_oID[0][0]']        \n",
      " lambda_3 (Lambda)        (None, 1)         0        ['input_hID[0][0]']        \n",
      " input_seq (InputLayer)   [(None, 3, 11)]   0        []                         \n",
      " flatten_12 (Flatten)     (None, 20)        0        ['embedding_9[0][0]']      \n",
      " flatten_13 (Flatten)     (None, 20)        0        ['embedding_10[0][0]']     \n",
      " flatten_14 (Flatten)     (None, 20)        0        ['embedding_11[0][0]']     \n",
      " flatten_15 (Flatten)     (None, 1)         0        ['lambda_3[0][0]']         \n",
      " lstm_3 (LSTM)            (None, 64)        19456    ['input_seq[0][0]']        \n",
      " concatenate_6 (Concatena  (None, 61)       0        ['flatten_12[0][0]',       \n",
      " te)                                                  'flatten_13[0][0]',       \n",
      "                                                      'flatten_14[0][0]',       \n",
      "                                                      'flatten_15[0][0]']       \n",
      " dropout_3 (Dropout)      (None, 64)        0        ['lstm_3[0][0]']           \n",
      " dense_9 (Dense)          (None, 16)        992      ['concatenate_6[0][0]']    \n",
      " concatenate_7 (Concatena  (None, 80)       0        ['dropout_3[0][0]',        \n",
      " te)                                                  'dense_9[0][0]']          \n",
      " dense_10 (Dense)         (None, 32)        2592     ['concatenate_7[0][0]']    \n",
      " dense_11 (Dense)         (None, 1)         33       ['dense_10[0][0]']         \n",
      "================================================================================\n",
      "Total params: 50,753\n",
      "Trainable params: 50,753\n",
      "Non-trainable params: 0\n",
      "________________________________________________________________________________\n"
     ]
    }
   ],
   "source": [
    "#============================\n",
    "# 7. Build the Model\n",
    "#============================\n",
    "# Define maximum values for categorical features\n",
    "num_players   <- max(fwd$player_id)\n",
    "num_teams     <- max(fwd$tID)\n",
    "num_opponents <- max(fwd$oID)\n",
    "# For hID, assume it???s binary\n",
    "\n",
    "emb_dim <- 20  # Embedding dimension\n",
    "\n",
    "# Create input layers for current categorical values\n",
    "input_player_id <- layer_input(shape = c(1), dtype = \"int32\", name = \"input_player_id\")\n",
    "input_tID <- layer_input(shape = c(1), dtype = \"int32\", name = \"input_tID\")\n",
    "input_oID <- layer_input(shape = c(1), dtype = \"int32\", name = \"input_oID\")\n",
    "input_hID <- layer_input(shape = c(1), dtype = \"int32\", name = \"input_hID\")\n",
    "\n",
    "embedding_player_id <- input_player_id %>% \n",
    "  layer_embedding(input_dim = num_players + 1, output_dim = emb_dim, mask_zero = TRUE) %>% \n",
    "  layer_flatten()\n",
    "embedding_tID <- input_tID %>% \n",
    "  layer_embedding(input_dim = num_teams + 1, output_dim = emb_dim, mask_zero = TRUE) %>% \n",
    "  layer_flatten()\n",
    "embedding_oID <- input_oID %>% \n",
    "  layer_embedding(input_dim = num_opponents + 1, output_dim = emb_dim, mask_zero = TRUE) %>% \n",
    "  layer_flatten()\n",
    "# For hID, convert to float32 to match types\n",
    "input_hID_flat <- input_hID %>% \n",
    "  layer_lambda(function(x) tf$cast(x, tf$float32)) %>% \n",
    "  layer_flatten()\n",
    "\n",
    "# Merge categorical branch\n",
    "cat_merged <- layer_concatenate(list(embedding_player_id, embedding_tID, embedding_oID, input_hID_flat)) %>%\n",
    "  layer_dense(units = 16, activation = \"relu\")\n",
    "\n",
    "# Numerical branch: input for rolling window data\n",
    "input_seq <- layer_input(shape = c(ws, length(numF)), name = \"input_seq\")\n",
    "lstm_branch <- input_seq %>%\n",
    "  layer_lstm(units = 64, return_sequences = FALSE) %>%\n",
    "  layer_dropout(rate = 0.2)\n",
    "\n",
    "# Merge both branches and build the output\n",
    "merged <- layer_concatenate(list(lstm_branch, cat_merged))\n",
    "dense_layer <- merged %>% layer_dense(units = 32, activation = \"relu\")\n",
    "output <- dense_layer %>% layer_dense(units = 1, activation = \"linear\")\n",
    "\n",
    "# Build and compile the model\n",
    "model <- keras_model(\n",
    "  inputs = list(input_seq, input_player_id, input_tID, input_oID, input_hID),\n",
    "  outputs = output,\n",
    "    name = \"fwd_lstm_model\"\n",
    ")\n",
    "model %>% compile(\n",
    "  optimizer = optimizer_adam(),\n",
    "  loss = \"mse\",\n",
    "  metrics = metrics_regression,\n",
    "  run_eagerly = TRUE\n",
    ")\n",
    "summary(model)"
   ]
  },
  {
   "cell_type": "markdown",
   "id": "8b3cb4d3",
   "metadata": {
    "papermill": {
     "duration": 0.033564,
     "end_time": "2025-04-22T11:34:11.797777",
     "exception": false,
     "start_time": "2025-04-22T11:34:11.764213",
     "status": "completed"
    },
    "tags": []
   },
   "source": [
    "## Før fit av modellen FWD"
   ]
  },
  {
   "cell_type": "code",
   "execution_count": 51,
   "id": "6b81972b",
   "metadata": {
    "execution": {
     "iopub.execute_input": "2025-04-22T11:34:11.868750Z",
     "iopub.status.busy": "2025-04-22T11:34:11.867037Z",
     "iopub.status.idle": "2025-04-22T11:34:11.906020Z",
     "shell.execute_reply": "2025-04-22T11:34:11.903702Z"
    },
    "papermill": {
     "duration": 0.077821,
     "end_time": "2025-04-22T11:34:11.908890",
     "exception": false,
     "start_time": "2025-04-22T11:34:11.831069",
     "status": "completed"
    },
    "tags": []
   },
   "outputs": [
    {
     "name": "stdout",
     "output_type": "stream",
     "text": [
      "Will save best FWD weights to: /kaggle/working/best_fwd_weights.hdf5 \n"
     ]
    },
    {
     "name": "stdout",
     "output_type": "stream",
     "text": [
      "FWD scaling factors stored.\n"
     ]
    }
   ],
   "source": [
    "# Filepath for saving the BEST weights (unique for each position)\n",
    "weights_filepath_fwd <- \"/kaggle/working/best_fwd_weights.hdf5\"\n",
    "cat(\"Will save best FWD weights to:\", weights_filepath_fwd, \"\\n\")\n",
    "\n",
    "# 1. Early Stopping Callback\n",
    "early_stopping <- callback_early_stopping(\n",
    "    monitor = \"val_loss\",       # Monitor validation loss\n",
    "    patience = num_patience,              # Stop after 10 epochs of no improvement\n",
    "    restore_best_weights = TRUE # Optional but good: restores weights from the best epoch at the end of training\n",
    "                                # Note: Checkpoint callback is the primary saver here.\n",
    ")\n",
    "\n",
    "# 2. Model Checkpoint Callback (to save best weights)\n",
    "model_checkpoint <- callback_model_checkpoint(\n",
    "    filepath = weights_filepath_fwd, # Path defined above\n",
    "    monitor = \"val_loss\",           # Monitor the same metric as early stopping\n",
    "    save_best_only = TRUE,          # IMPORTANT: Only save when val_loss improves\n",
    "    save_weights_only = TRUE,       # IMPORTANT: Save ONLY the weights, not the whole model\n",
    "    mode = \"min\",                   # We want to minimize loss\n",
    "    verbose = 1                     # Optional: print message when weights are saved\n",
    ")\n",
    "\n",
    "reduce_lr <- callback_reduce_lr_on_plateau(\n",
    "    monitor = \"val_loss\",  # Monitor validation loss (same as early stopping)\n",
    "    factor = 0.2,          # Reduce LR to 20% of its current value (lr * factor)\n",
    "    patience = 5,           # Reduce LR if val_loss doesn't improve for 5 epochs\n",
    "    min_lr = 1e-6,         # Don't reduce the LR below this value\n",
    "    verbose = 1            # Print a message when LR is reduced\n",
    ")\n",
    "\n",
    "# Store scaling factors NOW (before potential errors during training)\n",
    "# Ensure mu, sigma, and numF (Lasso selected) are correctly captured from the FWD scaling steps\n",
    "scaling_factors$fwd <- list(\n",
    "    mu = mu,         # Mean of FWD target used for scaling\n",
    "    sigma = sigma,   # SD of FWD target used for scaling\n",
    "    numF = numF      # Vector of Lasso-selected numerical feature names for FWD\n",
    ")\n",
    "cat(\"FWD scaling factors stored.\\n\")"
   ]
  },
  {
   "cell_type": "code",
   "execution_count": 52,
   "id": "7a1b057e",
   "metadata": {
    "_cell_guid": "af5d362c-be8d-4de6-b03a-84e305c30787",
    "_uuid": "977bece5-b066-4801-9363-2bedf081f5ae",
    "collapsed": false,
    "execution": {
     "iopub.execute_input": "2025-04-22T11:34:11.979603Z",
     "iopub.status.busy": "2025-04-22T11:34:11.977994Z",
     "iopub.status.idle": "2025-04-22T11:39:31.537994Z",
     "shell.execute_reply": "2025-04-22T11:39:31.536124Z"
    },
    "jupyter": {
     "outputs_hidden": false
    },
    "papermill": {
     "duration": 319.631546,
     "end_time": "2025-04-22T11:39:31.573612",
     "exception": false,
     "start_time": "2025-04-22T11:34:11.942066",
     "status": "completed"
    },
    "tags": []
   },
   "outputs": [
    {
     "name": "stdout",
     "output_type": "stream",
     "text": [
      "Starting FWD model training...\n"
     ]
    },
    {
     "name": "stdout",
     "output_type": "stream",
     "text": [
      "FWD model training finished.\n"
     ]
    }
   ],
   "source": [
    "#============================\n",
    "# 8. Train the Model\n",
    "#============================\n",
    "cat(\"Starting FWD model training...\\n\")\n",
    "history <- model %>% fit(\n",
    "  x = list(\n",
    "    input_seq = Xnum_train,\n",
    "    input_player_id = cat_player_id_train,\n",
    "    input_tID = cat_tID_train,\n",
    "    input_oID = cat_oID_train,\n",
    "    input_hID = cat_hID_train\n",
    "  ),\n",
    "  y = y_train,\n",
    "  epochs = epoker,          # Max epochs\n",
    "  batch_size = 64,          # Try increasing batch size (e.g., 64 or 128) for speed\n",
    "  validation_data = list(\n",
    "    list(\n",
    "      input_seq = Xnum_val,\n",
    "      input_player_id = cat_player_id_val,\n",
    "      input_tID = cat_tID_val,\n",
    "      input_oID = cat_oID_val,\n",
    "      input_hID = cat_hID_val\n",
    "    ),\n",
    "    y_val\n",
    "  ),\n",
    "  # ADD THE CALLBACKS HERE\n",
    "  callbacks = list(early_stopping, model_checkpoint, reduce_lr)\n",
    ")\n",
    "cat(\"FWD model training finished.\\n\")"
   ]
  },
  {
   "cell_type": "code",
   "execution_count": 53,
   "id": "16e9c233",
   "metadata": {
    "_cell_guid": "af296d8f-089e-431e-95f6-4f0160296870",
    "_uuid": "2124e8e2-494c-4fe9-8bf0-03e2241d43d9",
    "collapsed": false,
    "execution": {
     "iopub.execute_input": "2025-04-22T11:39:31.646270Z",
     "iopub.status.busy": "2025-04-22T11:39:31.644567Z",
     "iopub.status.idle": "2025-04-22T11:39:33.237623Z",
     "shell.execute_reply": "2025-04-22T11:39:33.235132Z"
    },
    "jupyter": {
     "outputs_hidden": false
    },
    "papermill": {
     "duration": 1.632426,
     "end_time": "2025-04-22T11:39:33.240214",
     "exception": false,
     "start_time": "2025-04-22T11:39:31.607788",
     "status": "completed"
    },
    "tags": []
   },
   "outputs": [
    {
     "name": "stdout",
     "output_type": "stream",
     "text": [
      "Rows: 2,342\n",
      "Columns: 49\n",
      "$ row_id                        \u001b[3m\u001b[90m<dbl>\u001b[39m\u001b[23m 734, 735, 736, 737, 738, 739, 740, 741, …\n",
      "$ predicted_total_points_scaled \u001b[3m\u001b[90m<dbl>\u001b[39m\u001b[23m -0.053984080, -0.074054226, -0.144909233…\n",
      "$ actual_total_points_scaled    \u001b[3m\u001b[90m<dbl>\u001b[39m\u001b[23m 0.2527281, -0.1202728, -0.1202728, -0.49…\n",
      "$ predicted_total_points        \u001b[3m\u001b[90m<dbl>\u001b[39m\u001b[23m 1.1777173, 1.1239100, 0.9339506, 0.99380…\n",
      "$ actual_total_points           \u001b[3m\u001b[90m<dbl>\u001b[39m\u001b[23m 2, 1, 1, 0, 1, 0, 1, 0, 0, 7, 2, 7, 5, 1…\n",
      "$ name                          \u001b[3m\u001b[90m<chr>\u001b[39m\u001b[23m \"Adam Armstrong\", \"Adam Armstrong\", \"Ada…\n",
      "$ position                      \u001b[3m\u001b[90m<chr>\u001b[39m\u001b[23m \"FWD\", \"FWD\", \"FWD\", \"FWD\", \"FWD\", \"FWD\"…\n",
      "$ team                          \u001b[3m\u001b[90m<chr>\u001b[39m\u001b[23m \"Southampton\", \"Southampton\", \"Southampt…\n",
      "$ xP                            \u001b[3m\u001b[90m<dbl>\u001b[39m\u001b[23m 0.7, 1.0, 0.8, 0.5, 0.8, -0.2, -1.0, -0.…\n",
      "$ assists                       \u001b[3m\u001b[90m<dbl>\u001b[39m\u001b[23m 0, 0, 0, 0, 0, 0, 0, 0, 0, 0, 0, 1, 1, 0…\n",
      "$ bonus                         \u001b[3m\u001b[90m<dbl>\u001b[39m\u001b[23m 0, 0, 0, 0, 0, 0, 0, 0, 0, 1, 0, 1, 0, 0…\n",
      "$ bps                           \u001b[3m\u001b[90m<dbl>\u001b[39m\u001b[23m 5, 1, 0, 0, 3, 0, 2, 0, -1, 32, 1, 33, 1…\n",
      "$ clean_sheets                  \u001b[3m\u001b[90m<dbl>\u001b[39m\u001b[23m 0, 0, 0, 0, 0, 0, 0, 0, 0, 1, 0, 0, 0, 0…\n",
      "$ creativity                    \u001b[3m\u001b[90m<dbl>\u001b[39m\u001b[23m 12.9, 2.9, 0.9, 0.0, 0.0, 0.0, 0.8, 0.0,…\n",
      "$ expected_assists              \u001b[3m\u001b[90m<dbl>\u001b[39m\u001b[23m 0.08, 0.01, 0.05, 0.00, 0.00, 0.00, 0.01…\n",
      "$ expected_goal_involvements    \u001b[3m\u001b[90m<dbl>\u001b[39m\u001b[23m 0.79, 0.03, 0.10, 0.00, 0.00, 0.00, 0.01…\n",
      "$ expected_goals                \u001b[3m\u001b[90m<dbl>\u001b[39m\u001b[23m 0.71, 0.02, 0.05, 0.00, 0.00, 0.00, 0.00…\n",
      "$ expected_goals_conceded       \u001b[3m\u001b[90m<dbl>\u001b[39m\u001b[23m 0.25, 2.14, 0.97, 0.00, 0.55, 0.00, 0.70…\n",
      "$ fixture                       \u001b[3m\u001b[90m<dbl>\u001b[39m\u001b[23m 5, 18, 22, 38, 48, 52, 61, 78, 89, 98, 1…\n",
      "$ goals_conceded                \u001b[3m\u001b[90m<dbl>\u001b[39m\u001b[23m 1, 1, 1, 0, 1, 0, 1, 0, 0, 0, 2, 2, 1, 3…\n",
      "$ goals_scored                  \u001b[3m\u001b[90m<dbl>\u001b[39m\u001b[23m 0, 0, 0, 0, 0, 0, 0, 0, 0, 1, 0, 1, 0, 0…\n",
      "$ ict_index                     \u001b[3m\u001b[90m<dbl>\u001b[39m\u001b[23m 5.8, 1.4, 0.8, 0.0, 0.0, 0.0, 0.7, 0.0, …\n",
      "$ influence                     \u001b[3m\u001b[90m<dbl>\u001b[39m\u001b[23m 7.8, 2.2, 0.0, 0.0, 0.0, 0.0, 2.2, 0.0, …\n",
      "$ kickoff_time                  \u001b[3m\u001b[90m<dttm>\u001b[39m\u001b[23m 2024-08-17 14:00:00, 2024-08-24 14:00:0…\n",
      "$ minutes                       \u001b[3m\u001b[90m<dbl>\u001b[39m\u001b[23m 90, 70, 45, 0, 8, 0, 16, 0, 45, 90, 90, …\n",
      "$ opponent_team                 \u001b[3m\u001b[90m<chr>\u001b[39m\u001b[23m \"Newcastle\", \"Nottingham Forest\", \"Brent…\n",
      "$ own_goals                     \u001b[3m\u001b[90m<dbl>\u001b[39m\u001b[23m 0, 0, 0, 0, 0, 0, 0, 0, 0, 0, 0, 0, 0, 0…\n",
      "$ penalties_missed              \u001b[3m\u001b[90m<dbl>\u001b[39m\u001b[23m 0, 0, 0, 0, 0, 0, 0, 0, 0, 0, 0, 1, 0, 0…\n",
      "$ penalties_saved               \u001b[3m\u001b[90m<dbl>\u001b[39m\u001b[23m 0, 0, 0, 0, 0, 0, 0, 0, 0, 0, 0, 0, 0, 0…\n",
      "$ red_cards                     \u001b[3m\u001b[90m<dbl>\u001b[39m\u001b[23m 0, 0, 0, 0, 0, 0, 0, 0, 0, 0, 0, 0, 0, 0…\n",
      "$ round                         \u001b[3m\u001b[90m<dbl>\u001b[39m\u001b[23m 1, 2, 3, 4, 5, 6, 7, 8, 9, 10, 11, 12, 1…\n",
      "$ saves                         \u001b[3m\u001b[90m<dbl>\u001b[39m\u001b[23m 0, 0, 0, 0, 0, 0, 0, 0, 0, 0, 0, 0, 0, 0…\n",
      "$ selected                      \u001b[3m\u001b[90m<dbl>\u001b[39m\u001b[23m 147689, 180975, 159267, 119236, 105783, …\n",
      "$ starts                        \u001b[3m\u001b[90m<dbl>\u001b[39m\u001b[23m 1, 1, 1, 0, 0, 0, 0, 0, 0, 1, 1, 1, 1, 1…\n",
      "$ team_a_score                  \u001b[3m\u001b[90m<dbl>\u001b[39m\u001b[23m 0, 1, 1, 3, 1, 1, 1, 3, 0, 0, 0, 3, 1, 5…\n",
      "$ team_h_score                  \u001b[3m\u001b[90m<dbl>\u001b[39m\u001b[23m 1, 0, 3, 0, 1, 3, 3, 2, 1, 1, 2, 2, 1, 1…\n",
      "$ threat                        \u001b[3m\u001b[90m<dbl>\u001b[39m\u001b[23m 37, 9, 8, 0, 0, 0, 4, 0, 21, 29, 9, 38, …\n",
      "$ total_points                  \u001b[3m\u001b[90m<dbl>\u001b[39m\u001b[23m 2, 1, 1, 0, 1, 0, 1, 0, 0, 7, 2, 7, 5, 1…\n",
      "$ transfers_balance             \u001b[3m\u001b[90m<dbl>\u001b[39m\u001b[23m 0, 20284, -23029, -42287, -15022, -21356…\n",
      "$ transfers_in                  \u001b[3m\u001b[90m<dbl>\u001b[39m\u001b[23m 0, 37679, 17476, 10045, 6817, 3523, 4861…\n",
      "$ transfers_out                 \u001b[3m\u001b[90m<dbl>\u001b[39m\u001b[23m 0, 17395, 40505, 52332, 21839, 24879, 13…\n",
      "$ value                         \u001b[3m\u001b[90m<dbl>\u001b[39m\u001b[23m 55, 55, 55, 55, 54, 53, 53, 52, 52, 51, …\n",
      "$ was_home                      \u001b[3m\u001b[90m<lgl>\u001b[39m\u001b[23m FALSE, TRUE, FALSE, TRUE, TRUE, FALSE, F…\n",
      "$ yellow_cards                  \u001b[3m\u001b[90m<dbl>\u001b[39m\u001b[23m 0, 1, 0, 0, 0, 0, 0, 0, 1, 0, 0, 1, 0, 1…\n",
      "$ GW                            \u001b[3m\u001b[90m<dbl>\u001b[39m\u001b[23m 77, 78, 79, 80, 81, 82, 83, 84, 85, 86, …\n",
      "$ player_id                     \u001b[3m\u001b[90m<dbl>\u001b[39m\u001b[23m 12, 12, 12, 12, 12, 12, 12, 12, 12, 12, …\n",
      "$ oID                           \u001b[3m\u001b[90m<dbl>\u001b[39m\u001b[23m 18, 19, 4, 17, 11, 3, 1, 13, 16, 9, 24, …\n",
      "$ tID                           \u001b[3m\u001b[90m<dbl>\u001b[39m\u001b[23m 21, 21, 21, 21, 21, 21, 21, 21, 21, 21, …\n",
      "$ hID                           \u001b[3m\u001b[90m<dbl>\u001b[39m\u001b[23m 0, 1, 0, 1, 1, 0, 0, 1, 0, 1, 0, 1, 0, 1…\n"
     ]
    }
   ],
   "source": [
    "#============================\n",
    "# 9. Generate Predictions & Invert Scaling on Validation Set\n",
    "#============================\n",
    "# Use the validation set for predictions\n",
    "pred_all <- model %>% predict(\n",
    "  list(\n",
    "    input_seq = Xnum_val,\n",
    "    input_player_id = cat_player_id_val,\n",
    "    input_tID = cat_tID_val,\n",
    "    input_oID = cat_oID_val,\n",
    "    input_hID = cat_hID_val\n",
    "  )\n",
    ")\n",
    "\n",
    "# Build a predictions table using the validation row IDs\n",
    "preds_fwd <- tibble(\n",
    "  row_id = val_row_ids,  # row IDs corresponding to the validation set\n",
    "  predicted_total_points_scaled = as.vector(pred_all),\n",
    "  actual_total_points_scaled = as.vector(y_val)\n",
    ") %>% \n",
    "  mutate(\n",
    "    predicted_total_points = predicted_total_points_scaled * sigma + mu,\n",
    "    actual_total_points = actual_total_points_scaled * sigma + mu\n",
    "  )\n",
    "\n",
    "preds_fwd <- preds_fwd %>%\n",
    "  left_join(unscaled_fwd, by = \"row_id\") # Use unscaled_mid\n",
    "\n",
    "glimpse(preds_fwd)"
   ]
  },
  {
   "cell_type": "markdown",
   "id": "54ea7eeb",
   "metadata": {
    "_cell_guid": "a3e5b75a-5af3-4c99-99fc-124e87f9278c",
    "_uuid": "ec992fc7-e83c-4e6b-b786-3c72ff563f6b",
    "collapsed": false,
    "jupyter": {
     "outputs_hidden": false
    },
    "papermill": {
     "duration": 0.034952,
     "end_time": "2025-04-22T11:39:33.309159",
     "exception": false,
     "start_time": "2025-04-22T11:39:33.274207",
     "status": "completed"
    },
    "tags": []
   },
   "source": [
    "## Eval Plots FWD"
   ]
  },
  {
   "cell_type": "code",
   "execution_count": 54,
   "id": "37c9e534",
   "metadata": {
    "_cell_guid": "83a7ff5a-a2b5-47c1-af0d-6828d26188f2",
    "_uuid": "bb0d74e9-6e28-402e-99de-efb295753ffe",
    "collapsed": false,
    "execution": {
     "iopub.execute_input": "2025-04-22T11:39:33.387070Z",
     "iopub.status.busy": "2025-04-22T11:39:33.385335Z",
     "iopub.status.idle": "2025-04-22T11:39:34.343409Z",
     "shell.execute_reply": "2025-04-22T11:39:34.341535Z"
    },
    "jupyter": {
     "outputs_hidden": false
    },
    "papermill": {
     "duration": 0.999136,
     "end_time": "2025-04-22T11:39:34.346391",
     "exception": false,
     "start_time": "2025-04-22T11:39:33.347255",
     "status": "completed"
    },
    "tags": []
   },
   "outputs": [
    {
     "name": "stdout",
     "output_type": "stream",
     "text": [
      "Rows: 6,500\n",
      "Columns: 4\n",
      "$ epoch  \u001b[3m\u001b[90m<int>\u001b[39m\u001b[23m 1, 2, 3, 4, 5, 6, 7, 8, 9, 10, 11, 12, 13, 14, 15, 16, 17, 18, …\n",
      "$ value  \u001b[3m\u001b[90m<dbl>\u001b[39m\u001b[23m 0.9315603, 0.7521467, 0.7186605, 0.7075807, 0.6968675, 0.691645…\n",
      "$ metric \u001b[3m\u001b[90m<fct>\u001b[39m\u001b[23m loss, loss, loss, loss, loss, loss, loss, loss, loss, loss, los…\n",
      "$ data   \u001b[3m\u001b[90m<fct>\u001b[39m\u001b[23m training, training, training, training, training, training, tra…\n"
     ]
    },
    {
     "data": {
      "image/png": "[encoded data removed]"
     },
     "metadata": {
      "image/png": {
       "height": 420,
       "width": 420
      }
     },
     "output_type": "display_data"
    }
   ],
   "source": [
    "plot(history)\n",
    "\n",
    "history_df_fwd <- data.frame(history)\n",
    "\n",
    "glimpse(history_df_fwd)"
   ]
  },
  {
   "cell_type": "markdown",
   "id": "8de71175",
   "metadata": {
    "_cell_guid": "4a536071-40be-4a41-a2cb-62c8f67a88e7",
    "_uuid": "5b257ab2-135e-48f4-99e1-4498ba25673b",
    "collapsed": false,
    "jupyter": {
     "outputs_hidden": false
    },
    "papermill": {
     "duration": 0.036843,
     "end_time": "2025-04-22T11:39:34.420877",
     "exception": false,
     "start_time": "2025-04-22T11:39:34.384034",
     "status": "completed"
    },
    "tags": []
   },
   "source": [
    "## Lagre modell og prediksjoner"
   ]
  },
  {
   "cell_type": "code",
   "execution_count": 55,
   "id": "57a6215d",
   "metadata": {
    "_cell_guid": "5e5de24d-9914-4acf-a0c9-2a47a248bc88",
    "_uuid": "3e588b24-b496-4110-8b49-fa0435738427",
    "collapsed": false,
    "execution": {
     "iopub.execute_input": "2025-04-22T11:39:34.498244Z",
     "iopub.status.busy": "2025-04-22T11:39:34.496560Z",
     "iopub.status.idle": "2025-04-22T11:39:34.519496Z",
     "shell.execute_reply": "2025-04-22T11:39:34.517706Z"
    },
    "jupyter": {
     "outputs_hidden": false
    },
    "papermill": {
     "duration": 0.063826,
     "end_time": "2025-04-22T11:39:34.521934",
     "exception": false,
     "start_time": "2025-04-22T11:39:34.458108",
     "status": "completed"
    },
    "tags": []
   },
   "outputs": [
    {
     "name": "stdout",
     "output_type": "stream",
     "text": [
      "FWD model and scaling factors stored.\n"
     ]
    }
   ],
   "source": [
    "# Store FWD model and scaling factors\n",
    "model_list$fwd <- model\n",
    "cat(\"FWD model and scaling factors stored.\\n\")\n",
    "\n",
    "# Clean up validation predictions (select essential columns)\n",
    "# Note: The join in cell f2292df7 uses 'fwd' (scaled) then 'unscaled_fwd'.\n",
    "preds_fwd_clean <- preds_fwd %>%\n",
    "   select(row_id, GW , player_id , name, position, team, # Identifiers from unscaled_fwd join\n",
    "         actual_total_points, predicted_total_points, value)"
   ]
  },
  {
   "cell_type": "markdown",
   "id": "9b703afc",
   "metadata": {
    "_cell_guid": "d9d9f006-e27c-4dd8-9569-ff8646e30842",
    "_uuid": "4a03330d-b8fe-44f3-9917-bc14bce758ab",
    "collapsed": false,
    "jupyter": {
     "outputs_hidden": false
    },
    "papermill": {
     "duration": 0.036565,
     "end_time": "2025-04-22T11:39:34.595266",
     "exception": false,
     "start_time": "2025-04-22T11:39:34.558701",
     "status": "completed"
    },
    "tags": []
   },
   "source": [
    "### Evaluate Angrep"
   ]
  },
  {
   "cell_type": "code",
   "execution_count": 56,
   "id": "55bdbc56",
   "metadata": {
    "_cell_guid": "42bf2f70-a363-4fc6-a043-680a627594d7",
    "_uuid": "714e9197-f11f-4ce0-b824-daf8eb2aae7d",
    "collapsed": false,
    "execution": {
     "iopub.execute_input": "2025-04-22T11:39:34.672136Z",
     "iopub.status.busy": "2025-04-22T11:39:34.670539Z",
     "iopub.status.idle": "2025-04-22T11:39:39.559400Z",
     "shell.execute_reply": "2025-04-22T11:39:39.557395Z"
    },
    "jupyter": {
     "outputs_hidden": false
    },
    "papermill": {
     "duration": 4.931476,
     "end_time": "2025-04-22T11:39:39.563023",
     "exception": false,
     "start_time": "2025-04-22T11:39:34.631547",
     "status": "completed"
    },
    "tags": []
   },
   "outputs": [
    {
     "name": "stdout",
     "output_type": "stream",
     "text": [
      "                          loss            mean_absolute_error \n",
      "                     0.9883209                      0.6295782 \n",
      "            mean_squared_error        root_mean_squared_error \n",
      "                     0.9883209                      0.9941433 \n",
      "mean_absolute_percentage_error              cosine_similarity \n",
      "                   133.2515869                      0.2519214 \n"
     ]
    }
   ],
   "source": [
    "# After training, evaluate the model on validation data with all metrics\n",
    "model_evaluation <- model %>% evaluate(\n",
    "  x = list(\n",
    "    input_seq = Xnum_val,\n",
    "    input_player_id = cat_player_id_val,\n",
    "    input_tID = cat_tID_val,\n",
    "    input_oID = cat_oID_val,\n",
    "    input_hID = cat_hID_val\n",
    "  ),\n",
    "  y = y_val,\n",
    "  verbose = 1\n",
    ")\n",
    "\n",
    "# Print the evaluation results (metrics specified during compilation)\n",
    "print(model_evaluation)\n",
    "\n",
    "# Combine results by position\n",
    "validation_metrics$fwd <- model_list$fwd %>% evaluate(\n",
    "  x = list(\n",
    "    input_seq = Xnum_val,\n",
    "    input_player_id = cat_player_id_val,\n",
    "    input_tID = cat_tID_val,\n",
    "    input_oID = cat_oID_val,\n",
    "    input_hID = cat_hID_val\n",
    "  ),\n",
    "  y = y_val\n",
    ")"
   ]
  },
  {
   "cell_type": "markdown",
   "id": "58e18f71",
   "metadata": {
    "_cell_guid": "10ea5385-327d-42f4-8f91-b2a6bdbed040",
    "_uuid": "4ef83420-00d9-4f1f-a047-1d0693ae1473",
    "collapsed": false,
    "jupyter": {
     "outputs_hidden": false
    },
    "papermill": {
     "duration": 0.037491,
     "end_time": "2025-04-22T11:39:39.637564",
     "exception": false,
     "start_time": "2025-04-22T11:39:39.600073",
     "status": "completed"
    },
    "tags": []
   },
   "source": [
    "## Sett sammen tibbler"
   ]
  },
  {
   "cell_type": "code",
   "execution_count": 57,
   "id": "4fe959a5",
   "metadata": {
    "_cell_guid": "2594826c-416a-4fb7-9285-91eb3194ffd8",
    "_uuid": "1a7aba86-6785-4f8a-8595-0a655cb63dcc",
    "collapsed": false,
    "execution": {
     "iopub.execute_input": "2025-04-22T11:39:39.714306Z",
     "iopub.status.busy": "2025-04-22T11:39:39.712746Z",
     "iopub.status.idle": "2025-04-22T11:39:39.912107Z",
     "shell.execute_reply": "2025-04-22T11:39:39.909487Z"
    },
    "jupyter": {
     "outputs_hidden": false
    },
    "papermill": {
     "duration": 0.240849,
     "end_time": "2025-04-22T11:39:39.915168",
     "exception": false,
     "start_time": "2025-04-22T11:39:39.674319",
     "status": "completed"
    },
    "tags": []
   },
   "outputs": [
    {
     "name": "stdout",
     "output_type": "stream",
     "text": [
      "Rows: 2,228\n",
      "Columns: 49\n",
      "$ row_id                        \u001b[3m\u001b[90m<dbl>\u001b[39m\u001b[23m 336, 337, 338, 339, 340, 341, 342, 343, …\n",
      "$ predicted_total_points_scaled \u001b[3m\u001b[90m<dbl>\u001b[39m\u001b[23m 0.6662503, 0.4616901, 0.5438441, 0.51677…\n",
      "$ actual_total_points_scaled    \u001b[3m\u001b[90m<dbl>\u001b[39m\u001b[23m -0.42194588, -0.42194588, 0.55840006, 1.…\n",
      "$ predicted_total_points        \u001b[3m\u001b[90m<dbl>\u001b[39m\u001b[23m 2.220025, 1.802702, 1.970304, 1.915074, …\n",
      "$ actual_total_points           \u001b[3m\u001b[90m<dbl>\u001b[39m\u001b[23m 0, 0, 2, 3, 3, 2, 2, 1, 4, 9, 0, 0, 0, 0…\n",
      "$ name                          \u001b[3m\u001b[90m<chr>\u001b[39m\u001b[23m \"Aaron Ramsdale\", \"Aaron Ramsdale\", \"Aar…\n",
      "$ position                      \u001b[3m\u001b[90m<chr>\u001b[39m\u001b[23m \"GK\", \"GK\", \"GK\", \"GK\", \"GK\", \"GK\", \"GK\"…\n",
      "$ team                          \u001b[3m\u001b[90m<chr>\u001b[39m\u001b[23m \"Arsenal\", \"Arsenal\", \"Southampton\", \"So…\n",
      "$ xP                            \u001b[3m\u001b[90m<dbl>\u001b[39m\u001b[23m 3.2, 1.0, 0.2, 0.7, 2.0, 2.2, 1.0, 1.2, …\n",
      "$ assists                       \u001b[3m\u001b[90m<dbl>\u001b[39m\u001b[23m 0, 0, 0, 0, 0, 0, 0, 0, 0, 0, 0, 0, 0, 0…\n",
      "$ bonus                         \u001b[3m\u001b[90m<dbl>\u001b[39m\u001b[23m 0, 0, 0, 0, 0, 0, 0, 0, 0, 2, 0, 0, 0, 0…\n",
      "$ bps                           \u001b[3m\u001b[90m<dbl>\u001b[39m\u001b[23m 0, 0, 5, 12, 15, 5, 5, -2, 24, 33, 5, 0,…\n",
      "$ clean_sheets                  \u001b[3m\u001b[90m<dbl>\u001b[39m\u001b[23m 0, 0, 0, 0, 0, 0, 0, 0, 0, 1, 0, 0, 0, 0…\n",
      "$ creativity                    \u001b[3m\u001b[90m<dbl>\u001b[39m\u001b[23m 0, 0, 0, 0, 0, 0, 0, 0, 0, 0, 0, 0, 0, 0…\n",
      "$ expected_assists              \u001b[3m\u001b[90m<dbl>\u001b[39m\u001b[23m 0.00, 0.00, 0.00, 0.00, 0.00, 0.00, 0.01…\n",
      "$ expected_goal_involvements    \u001b[3m\u001b[90m<dbl>\u001b[39m\u001b[23m 0.00, 0.00, 0.00, 0.00, 0.00, 0.00, 0.01…\n",
      "$ expected_goals                \u001b[3m\u001b[90m<dbl>\u001b[39m\u001b[23m 0, 0, 0, 0, 0, 0, 0, 0, 0, 0, 0, 0, 0, 0…\n",
      "$ expected_goals_conceded       \u001b[3m\u001b[90m<dbl>\u001b[39m\u001b[23m 0.00, 0.00, 2.78, 2.67, 1.69, 1.38, 2.83…\n",
      "$ fixture                       \u001b[3m\u001b[90m<dbl>\u001b[39m\u001b[23m 2, 11, 22, 38, 48, 52, 61, 78, 89, 98, 1…\n",
      "$ goals_conceded                \u001b[3m\u001b[90m<dbl>\u001b[39m\u001b[23m 0, 0, 3, 3, 1, 3, 3, 3, 1, 0, 2, 0, 0, 0…\n",
      "$ goals_scored                  \u001b[3m\u001b[90m<dbl>\u001b[39m\u001b[23m 0, 0, 0, 0, 0, 0, 0, 0, 0, 0, 0, 0, 0, 0…\n",
      "$ ict_index                     \u001b[3m\u001b[90m<dbl>\u001b[39m\u001b[23m 0.0, 0.0, 2.8, 4.5, 4.1, 2.3, 2.4, 1.3, …\n",
      "$ influence                     \u001b[3m\u001b[90m<dbl>\u001b[39m\u001b[23m 0.0, 0.0, 27.8, 45.4, 41.2, 22.8, 24.4, …\n",
      "$ kickoff_time                  \u001b[3m\u001b[90m<dttm>\u001b[39m\u001b[23m 2024-08-17 14:00:00, 2024-08-24 16:30:0…\n",
      "$ minutes                       \u001b[3m\u001b[90m<dbl>\u001b[39m\u001b[23m 0, 0, 90, 90, 90, 90, 90, 90, 90, 90, 90…\n",
      "$ opponent_team                 \u001b[3m\u001b[90m<chr>\u001b[39m\u001b[23m \"Wolves\", \"Aston Villa\", \"Brentford\", \"M…\n",
      "$ own_goals                     \u001b[3m\u001b[90m<dbl>\u001b[39m\u001b[23m 0, 0, 0, 0, 0, 0, 0, 0, 0, 0, 0, 0, 0, 0…\n",
      "$ penalties_missed              \u001b[3m\u001b[90m<dbl>\u001b[39m\u001b[23m 0, 0, 0, 0, 0, 0, 0, 0, 0, 0, 0, 0, 0, 0…\n",
      "$ penalties_saved               \u001b[3m\u001b[90m<dbl>\u001b[39m\u001b[23m 0, 0, 0, 0, 0, 0, 0, 0, 0, 0, 0, 0, 0, 0…\n",
      "$ red_cards                     \u001b[3m\u001b[90m<dbl>\u001b[39m\u001b[23m 0, 0, 0, 0, 0, 0, 0, 0, 0, 0, 0, 0, 0, 0…\n",
      "$ round                         \u001b[3m\u001b[90m<dbl>\u001b[39m\u001b[23m 1, 2, 3, 4, 5, 6, 7, 8, 9, 10, 11, 12, 1…\n",
      "$ saves                         \u001b[3m\u001b[90m<dbl>\u001b[39m\u001b[23m 0, 0, 4, 7, 5, 3, 3, 1, 6, 5, 2, 0, 0, 0…\n",
      "$ selected                      \u001b[3m\u001b[90m<dbl>\u001b[39m\u001b[23m 68531, 74765, 107644, 176635, 206185, 22…\n",
      "$ starts                        \u001b[3m\u001b[90m<dbl>\u001b[39m\u001b[23m 0, 0, 1, 1, 1, 1, 1, 1, 1, 1, 1, 0, 0, 0…\n",
      "$ team_a_score                  \u001b[3m\u001b[90m<dbl>\u001b[39m\u001b[23m 0, 2, 1, 3, 1, 1, 1, 3, 0, 0, 0, 3, 1, 5…\n",
      "$ team_h_score                  \u001b[3m\u001b[90m<dbl>\u001b[39m\u001b[23m 2, 0, 3, 0, 1, 3, 3, 2, 1, 1, 2, 2, 1, 1…\n",
      "$ threat                        \u001b[3m\u001b[90m<dbl>\u001b[39m\u001b[23m 0, 0, 0, 0, 0, 0, 0, 0, 0, 0, 0, 0, 0, 0…\n",
      "$ total_points                  \u001b[3m\u001b[90m<dbl>\u001b[39m\u001b[23m 0, 0, 2, 3, 3, 2, 2, 1, 4, 9, 0, 0, 0, 0…\n",
      "$ transfers_balance             \u001b[3m\u001b[90m<dbl>\u001b[39m\u001b[23m 0, -9669, 24647, 56313, 25228, 12742, -6…\n",
      "$ transfers_in                  \u001b[3m\u001b[90m<dbl>\u001b[39m\u001b[23m 0, 2378, 41306, 83072, 34765, 30311, 143…\n",
      "$ transfers_out                 \u001b[3m\u001b[90m<dbl>\u001b[39m\u001b[23m 0, 12047, 16659, 26759, 9537, 17569, 150…\n",
      "$ value                         \u001b[3m\u001b[90m<dbl>\u001b[39m\u001b[23m 45, 45, 44, 44, 44, 44, 44, 44, 44, 44, …\n",
      "$ was_home                      \u001b[3m\u001b[90m<lgl>\u001b[39m\u001b[23m TRUE, FALSE, FALSE, TRUE, TRUE, FALSE, F…\n",
      "$ yellow_cards                  \u001b[3m\u001b[90m<dbl>\u001b[39m\u001b[23m 0, 0, 0, 0, 0, 0, 0, 0, 0, 0, 1, 0, 0, 0…\n",
      "$ GW                            \u001b[3m\u001b[90m<dbl>\u001b[39m\u001b[23m 77, 78, 79, 80, 81, 82, 83, 84, 85, 86, …\n",
      "$ player_id                     \u001b[3m\u001b[90m<dbl>\u001b[39m\u001b[23m 5, 5, 5, 5, 5, 5, 5, 5, 5, 5, 5, 5, 5, 5…\n",
      "$ oID                           \u001b[3m\u001b[90m<dbl>\u001b[39m\u001b[23m 24, 2, 4, 17, 11, 3, 1, 13, 16, 9, 24, 1…\n",
      "$ tID                           \u001b[3m\u001b[90m<dbl>\u001b[39m\u001b[23m 1, 1, 21, 21, 21, 21, 21, 21, 21, 21, 21…\n",
      "$ hID                           \u001b[3m\u001b[90m<dbl>\u001b[39m\u001b[23m 1, 0, 0, 1, 1, 0, 0, 1, 0, 1, 0, 1, 0, 1…\n"
     ]
    },
    {
     "name": "stdout",
     "output_type": "stream",
     "text": [
      "Rows: 7,026\n",
      "Columns: 49\n",
      "$ row_id                        \u001b[3m\u001b[90m<dbl>\u001b[39m\u001b[23m 4, 5, 6, 7, 122, 123, 124, 125, 126, 127…\n",
      "$ predicted_total_points_scaled \u001b[3m\u001b[90m<dbl>\u001b[39m\u001b[23m 0.2639800608, -0.2623673379, -0.01195584…\n",
      "$ actual_total_points_scaled    \u001b[3m\u001b[90m<dbl>\u001b[39m\u001b[23m -0.46568846, -0.46568846, -0.46568846, -…\n",
      "$ predicted_total_points        \u001b[3m\u001b[90m<dbl>\u001b[39m\u001b[23m 1.6034214, 0.4467912, 0.9970618, 0.97575…\n",
      "$ actual_total_points           \u001b[3m\u001b[90m<dbl>\u001b[39m\u001b[23m 0, 0, 0, 0, 0, 1, 0, 0, 1, 0, 1, 0, 0, 0…\n",
      "$ name                          \u001b[3m\u001b[90m<chr>\u001b[39m\u001b[23m \"Aaron Anselmino\", \"Aaron Anselmino\", \"A…\n",
      "$ position                      \u001b[3m\u001b[90m<chr>\u001b[39m\u001b[23m \"DEF\", \"DEF\", \"DEF\", \"DEF\", \"DEF\", \"DEF\"…\n",
      "$ team                          \u001b[3m\u001b[90m<chr>\u001b[39m\u001b[23m \"Chelsea\", \"Chelsea\", \"Chelsea\", \"Chelse…\n",
      "$ xP                            \u001b[3m\u001b[90m<dbl>\u001b[39m\u001b[23m 0.5, 0.0, 0.5, 0.5, 1.0, 0.5, -0.2, 0.1,…\n",
      "$ assists                       \u001b[3m\u001b[90m<dbl>\u001b[39m\u001b[23m 0, 0, 0, 0, 0, 0, 0, 0, 0, 0, 0, 0, 0, 0…\n",
      "$ bonus                         \u001b[3m\u001b[90m<dbl>\u001b[39m\u001b[23m 0, 0, 0, 0, 0, 0, 0, 0, 0, 0, 0, 0, 0, 0…\n",
      "$ bps                           \u001b[3m\u001b[90m<dbl>\u001b[39m\u001b[23m 0, 0, 0, 0, 0, 3, 0, 0, 3, 0, 2, 0, 1, 0…\n",
      "$ clean_sheets                  \u001b[3m\u001b[90m<dbl>\u001b[39m\u001b[23m 0, 0, 0, 0, 0, 0, 0, 0, 0, 0, 0, 0, 0, 0…\n",
      "$ creativity                    \u001b[3m\u001b[90m<dbl>\u001b[39m\u001b[23m 0.0, 0.0, 0.0, 0.0, 0.0, 0.0, 0.0, 0.0, …\n",
      "$ expected_assists              \u001b[3m\u001b[90m<dbl>\u001b[39m\u001b[23m 0.00, 0.00, 0.00, 0.00, 0.00, 0.00, 0.00…\n",
      "$ expected_goal_involvements    \u001b[3m\u001b[90m<dbl>\u001b[39m\u001b[23m 0.00, 0.00, 0.00, 0.00, 0.00, 0.00, 0.00…\n",
      "$ expected_goals                \u001b[3m\u001b[90m<dbl>\u001b[39m\u001b[23m 0.00, 0.00, 0.00, 0.00, 0.00, 0.00, 0.00…\n",
      "$ expected_goals_conceded       \u001b[3m\u001b[90m<dbl>\u001b[39m\u001b[23m 0.00, 0.00, 0.00, 0.00, 0.00, 0.03, 0.00…\n",
      "$ fixture                       \u001b[3m\u001b[90m<dbl>\u001b[39m\u001b[23m 273, 281, 296, 302, 7, 14, 30, 35, 50, 5…\n",
      "$ goals_conceded                \u001b[3m\u001b[90m<dbl>\u001b[39m\u001b[23m 0, 0, 0, 0, 0, 0, 0, 0, 0, 0, 0, 0, 0, 0…\n",
      "$ goals_scored                  \u001b[3m\u001b[90m<dbl>\u001b[39m\u001b[23m 0, 0, 0, 0, 0, 0, 0, 0, 0, 0, 0, 0, 0, 0…\n",
      "$ ict_index                     \u001b[3m\u001b[90m<dbl>\u001b[39m\u001b[23m 0.0, 0.0, 0.0, 0.0, 0.0, 0.0, 0.0, 0.0, …\n",
      "$ influence                     \u001b[3m\u001b[90m<dbl>\u001b[39m\u001b[23m 0.0, 0.0, 0.0, 0.0, 0.0, 0.0, 0.0, 0.0, …\n",
      "$ kickoff_time                  \u001b[3m\u001b[90m<dttm>\u001b[39m\u001b[23m 2025-03-09 14:00:00, 2025-03-16 13:30:0…\n",
      "$ minutes                       \u001b[3m\u001b[90m<dbl>\u001b[39m\u001b[23m 0, 0, 0, 0, 0, 1, 0, 0, 17, 0, 7, 0, 1, …\n",
      "$ opponent_team                 \u001b[3m\u001b[90m<chr>\u001b[39m\u001b[23m \"Leicester\", \"Arsenal\", \"Tottenham\", \"Br…\n",
      "$ own_goals                     \u001b[3m\u001b[90m<dbl>\u001b[39m\u001b[23m 0, 0, 0, 0, 0, 0, 0, 0, 0, 0, 0, 0, 0, 0…\n",
      "$ penalties_missed              \u001b[3m\u001b[90m<dbl>\u001b[39m\u001b[23m 0, 0, 0, 0, 0, 0, 0, 0, 0, 0, 0, 0, 0, 0…\n",
      "$ penalties_saved               \u001b[3m\u001b[90m<dbl>\u001b[39m\u001b[23m 0, 0, 0, 0, 0, 0, 0, 0, 0, 0, 0, 0, 0, 0…\n",
      "$ red_cards                     \u001b[3m\u001b[90m<dbl>\u001b[39m\u001b[23m 0, 0, 0, 0, 0, 0, 0, 0, 0, 0, 0, 0, 0, 0…\n",
      "$ round                         \u001b[3m\u001b[90m<dbl>\u001b[39m\u001b[23m 28, 29, 30, 31, 1, 2, 3, 4, 5, 6, 7, 8, …\n",
      "$ saves                         \u001b[3m\u001b[90m<dbl>\u001b[39m\u001b[23m 0, 0, 0, 0, 0, 0, 0, 0, 0, 0, 0, 0, 0, 0…\n",
      "$ selected                      \u001b[3m\u001b[90m<dbl>\u001b[39m\u001b[23m 325, 436, 442, 453, 215475, 227554, 2211…\n",
      "$ starts                        \u001b[3m\u001b[90m<dbl>\u001b[39m\u001b[23m 0, 0, 0, 0, 0, 0, 0, 0, 0, 0, 0, 0, 0, 0…\n",
      "$ team_a_score                  \u001b[3m\u001b[90m<dbl>\u001b[39m\u001b[23m 0, 0, 0, 0, 2, 2, 3, 1, 3, 1, 1, 1, 1, 0…\n",
      "$ team_h_score                  \u001b[3m\u001b[90m<dbl>\u001b[39m\u001b[23m 1, 1, 1, 0, 1, 0, 1, 1, 0, 1, 4, 4, 2, 3…\n",
      "$ threat                        \u001b[3m\u001b[90m<dbl>\u001b[39m\u001b[23m 0, 0, 0, 0, 0, 0, 0, 0, 0, 0, 1, 0, 0, 0…\n",
      "$ total_points                  \u001b[3m\u001b[90m<dbl>\u001b[39m\u001b[23m 0, 0, 0, 0, 0, 1, 0, 0, 1, 0, 1, 0, 0, 0…\n",
      "$ transfers_balance             \u001b[3m\u001b[90m<dbl>\u001b[39m\u001b[23m 21, 4, 6, 6, 0, -6613, -12465, -40996, -…\n",
      "$ transfers_in                  \u001b[3m\u001b[90m<dbl>\u001b[39m\u001b[23m 52, 31, 30, 22, 0, 10331, 21013, 1264, 6…\n",
      "$ transfers_out                 \u001b[3m\u001b[90m<dbl>\u001b[39m\u001b[23m 31, 27, 24, 16, 0, 16944, 33478, 42260, …\n",
      "$ value                         \u001b[3m\u001b[90m<dbl>\u001b[39m\u001b[23m 40, 40, 40, 40, 40, 40, 40, 40, 40, 40, …\n",
      "$ was_home                      \u001b[3m\u001b[90m<lgl>\u001b[39m\u001b[23m TRUE, FALSE, TRUE, FALSE, TRUE, FALSE, T…\n",
      "$ yellow_cards                  \u001b[3m\u001b[90m<dbl>\u001b[39m\u001b[23m 0, 0, 0, 0, 0, 0, 0, 0, 0, 0, 0, 0, 1, 0…\n",
      "$ GW                            \u001b[3m\u001b[90m<dbl>\u001b[39m\u001b[23m 104, 105, 106, 107, 77, 78, 79, 80, 81, …\n",
      "$ player_id                     \u001b[3m\u001b[90m<dbl>\u001b[39m\u001b[23m 1, 1, 1, 1, 3, 3, 3, 3, 3, 3, 3, 3, 3, 3…\n",
      "$ oID                           \u001b[3m\u001b[90m<dbl>\u001b[39m\u001b[23m 13, 1, 22, 4, 2, 8, 16, 10, 7, 4, 11, 22…\n",
      "$ tID                           \u001b[3m\u001b[90m<dbl>\u001b[39m\u001b[23m 7, 7, 7, 7, 23, 23, 23, 23, 23, 23, 23, …\n",
      "$ hID                           \u001b[3m\u001b[90m<dbl>\u001b[39m\u001b[23m 1, 0, 1, 0, 1, 0, 1, 0, 1, 0, 1, 0, 1, 0…\n"
     ]
    },
    {
     "name": "stdout",
     "output_type": "stream",
     "text": [
      "Rows: 9,502\n",
      "Columns: 49\n",
      "$ row_id                        \u001b[3m\u001b[90m<dbl>\u001b[39m\u001b[23m 587, 588, 589, 590, 591, 592, 593, 594, …\n",
      "$ predicted_total_points_scaled \u001b[3m\u001b[90m<dbl>\u001b[39m\u001b[23m 0.06482147, 0.01102212, 0.46640980, -0.0…\n",
      "$ actual_total_points_scaled    \u001b[3m\u001b[90m<dbl>\u001b[39m\u001b[23m 0.32314972, -0.09825256, -0.09825256, -0…\n",
      "$ predicted_total_points        \u001b[3m\u001b[90m<dbl>\u001b[39m\u001b[23m 1.386979, 1.259312, 2.339960, 1.157959, …\n",
      "$ actual_total_points           \u001b[3m\u001b[90m<dbl>\u001b[39m\u001b[23m 2, 1, 1, 0, 2, 2, 3, 3, 2, 0, 3, 3, 2, 3…\n",
      "$ name                          \u001b[3m\u001b[90m<chr>\u001b[39m\u001b[23m \"Abdoulaye Doucoure\", \"Abdoulaye Doucour…\n",
      "$ position                      \u001b[3m\u001b[90m<chr>\u001b[39m\u001b[23m \"MID\", \"MID\", \"MID\", \"MID\", \"MID\", \"MID\"…\n",
      "$ team                          \u001b[3m\u001b[90m<chr>\u001b[39m\u001b[23m \"Everton\", \"Everton\", \"Everton\", \"Everto…\n",
      "$ xP                            \u001b[3m\u001b[90m<dbl>\u001b[39m\u001b[23m 2.0, 1.5, 1.3, 1.0, 1.5, 1.3, 1.3, 2.7, …\n",
      "$ assists                       \u001b[3m\u001b[90m<dbl>\u001b[39m\u001b[23m 0, 0, 0, 0, 0, 0, 0, 0, 0, 0, 0, 0, 0, 0…\n",
      "$ bonus                         \u001b[3m\u001b[90m<dbl>\u001b[39m\u001b[23m 0, 0, 0, 0, 0, 0, 0, 0, 0, 0, 0, 0, 0, 0…\n",
      "$ bps                           \u001b[3m\u001b[90m<dbl>\u001b[39m\u001b[23m 2, 3, 4, 0, 14, 7, 11, 11, 13, 0, 16, 7,…\n",
      "$ clean_sheets                  \u001b[3m\u001b[90m<dbl>\u001b[39m\u001b[23m 0, 0, 0, 0, 0, 0, 1, 1, 0, 0, 1, 1, 0, 1…\n",
      "$ creativity                    \u001b[3m\u001b[90m<dbl>\u001b[39m\u001b[23m 3.2, 1.4, 1.9, 0.0, 2.8, 13.0, 32.2, 23.…\n",
      "$ expected_assists              \u001b[3m\u001b[90m<dbl>\u001b[39m\u001b[23m 0.01, 0.00, 0.01, 0.00, 0.01, 0.02, 0.02…\n",
      "$ expected_goal_involvements    \u001b[3m\u001b[90m<dbl>\u001b[39m\u001b[23m 0.15, 0.07, 0.01, 0.00, 0.03, 0.02, 0.02…\n",
      "$ expected_goals                \u001b[3m\u001b[90m<dbl>\u001b[39m\u001b[23m 0.14, 0.07, 0.00, 0.00, 0.02, 0.00, 0.00…\n",
      "$ expected_goals_conceded       \u001b[3m\u001b[90m<dbl>\u001b[39m\u001b[23m 1.13, 1.66, 1.54, 0.00, 0.66, 0.95, 2.05…\n",
      "$ fixture                       \u001b[3m\u001b[90m<dbl>\u001b[39m\u001b[23m 3, 19, 24, 31, 45, 55, 67, 73, 87, 98, 1…\n",
      "$ goals_conceded                \u001b[3m\u001b[90m<dbl>\u001b[39m\u001b[23m 2, 2, 3, 0, 1, 1, 0, 0, 1, 0, 0, 0, 4, 0…\n",
      "$ goals_scored                  \u001b[3m\u001b[90m<dbl>\u001b[39m\u001b[23m 0, 0, 0, 0, 0, 0, 0, 0, 0, 0, 0, 0, 0, 0…\n",
      "$ ict_index                     \u001b[3m\u001b[90m<dbl>\u001b[39m\u001b[23m 1.1, 1.0, 0.5, 0.0, 1.8, 2.3, 4.4, 3.9, …\n",
      "$ influence                     \u001b[3m\u001b[90m<dbl>\u001b[39m\u001b[23m 2.4, 1.6, 1.2, 0.0, 12.6, 10.4, 11.6, 13…\n",
      "$ kickoff_time                  \u001b[3m\u001b[90m<dttm>\u001b[39m\u001b[23m 2024-08-17 14:00:00, 2024-08-24 14:00:0…\n",
      "$ minutes                       \u001b[3m\u001b[90m<dbl>\u001b[39m\u001b[23m 62, 56, 7, 0, 90, 90, 90, 90, 79, 0, 85,…\n",
      "$ opponent_team                 \u001b[3m\u001b[90m<chr>\u001b[39m\u001b[23m \"Brighton\", \"Tottenham\", \"Bournemouth\", …\n",
      "$ own_goals                     \u001b[3m\u001b[90m<dbl>\u001b[39m\u001b[23m 0, 0, 0, 0, 0, 0, 0, 0, 0, 0, 0, 0, 0, 0…\n",
      "$ penalties_missed              \u001b[3m\u001b[90m<dbl>\u001b[39m\u001b[23m 0, 0, 0, 0, 0, 0, 0, 0, 0, 0, 0, 0, 0, 0…\n",
      "$ penalties_saved               \u001b[3m\u001b[90m<dbl>\u001b[39m\u001b[23m 0, 0, 0, 0, 0, 0, 0, 0, 0, 0, 0, 0, 0, 0…\n",
      "$ red_cards                     \u001b[3m\u001b[90m<dbl>\u001b[39m\u001b[23m 0, 0, 0, 0, 0, 0, 0, 0, 0, 0, 0, 0, 0, 0…\n",
      "$ round                         \u001b[3m\u001b[90m<dbl>\u001b[39m\u001b[23m 1, 2, 3, 4, 5, 6, 7, 8, 9, 10, 11, 12, 1…\n",
      "$ saves                         \u001b[3m\u001b[90m<dbl>\u001b[39m\u001b[23m 0, 0, 0, 0, 0, 0, 0, 0, 0, 0, 0, 0, 0, 0…\n",
      "$ selected                      \u001b[3m\u001b[90m<dbl>\u001b[39m\u001b[23m 46194, 43259, 37931, 30683, 27682, 25555…\n",
      "$ starts                        \u001b[3m\u001b[90m<dbl>\u001b[39m\u001b[23m 1, 1, 0, 0, 1, 1, 1, 1, 1, 0, 1, 1, 1, 1…\n",
      "$ team_a_score                  \u001b[3m\u001b[90m<dbl>\u001b[39m\u001b[23m 3, 0, 3, 2, 1, 1, 0, 2, 1, 0, 0, 0, 0, 0…\n",
      "$ team_h_score                  \u001b[3m\u001b[90m<dbl>\u001b[39m\u001b[23m 0, 4, 2, 3, 1, 2, 0, 0, 1, 1, 0, 0, 4, 4…\n",
      "$ threat                        \u001b[3m\u001b[90m<dbl>\u001b[39m\u001b[23m 5, 7, 2, 0, 3, 0, 0, 2, 19, 0, 9, 2, 2, …\n",
      "$ total_points                  \u001b[3m\u001b[90m<dbl>\u001b[39m\u001b[23m 2, 1, 1, 0, 2, 2, 3, 3, 2, 0, 3, 3, 2, 3…\n",
      "$ transfers_balance             \u001b[3m\u001b[90m<dbl>\u001b[39m\u001b[23m 0, -6563, -6423, -7655, -3364, -2326, -1…\n",
      "$ transfers_in                  \u001b[3m\u001b[90m<dbl>\u001b[39m\u001b[23m 0, 1812, 2669, 914, 677, 806, 729, 2939,…\n",
      "$ transfers_out                 \u001b[3m\u001b[90m<dbl>\u001b[39m\u001b[23m 0, 8375, 9092, 8569, 4041, 3132, 2549, 1…\n",
      "$ value                         \u001b[3m\u001b[90m<dbl>\u001b[39m\u001b[23m 55, 55, 54, 53, 53, 52, 52, 52, 52, 52, …\n",
      "$ was_home                      \u001b[3m\u001b[90m<lgl>\u001b[39m\u001b[23m TRUE, FALSE, TRUE, FALSE, FALSE, TRUE, T…\n",
      "$ yellow_cards                  \u001b[3m\u001b[90m<dbl>\u001b[39m\u001b[23m 0, 0, 0, 0, 0, 0, 0, 0, 0, 0, 0, 0, 0, 0…\n",
      "$ GW                            \u001b[3m\u001b[90m<dbl>\u001b[39m\u001b[23m 77, 78, 79, 80, 81, 82, 83, 84, 85, 86, …\n",
      "$ player_id                     \u001b[3m\u001b[90m<dbl>\u001b[39m\u001b[23m 8, 8, 8, 8, 8, 8, 8, 8, 8, 8, 8, 8, 8, 8…\n",
      "$ oID                           \u001b[3m\u001b[90m<dbl>\u001b[39m\u001b[23m 5, 22, 3, 2, 13, 8, 18, 11, 10, 21, 23, …\n",
      "$ tID                           \u001b[3m\u001b[90m<dbl>\u001b[39m\u001b[23m 9, 9, 9, 9, 9, 9, 9, 9, 9, 9, 9, 9, 9, 9…\n",
      "$ hID                           \u001b[3m\u001b[90m<dbl>\u001b[39m\u001b[23m 1, 0, 1, 0, 0, 1, 1, 0, 1, 0, 0, 1, 0, 1…\n"
     ]
    },
    {
     "name": "stdout",
     "output_type": "stream",
     "text": [
      "Rows: 2,342\n",
      "Columns: 49\n",
      "$ row_id                        \u001b[3m\u001b[90m<dbl>\u001b[39m\u001b[23m 734, 735, 736, 737, 738, 739, 740, 741, …\n",
      "$ predicted_total_points_scaled \u001b[3m\u001b[90m<dbl>\u001b[39m\u001b[23m -0.053984080, -0.074054226, -0.144909233…\n",
      "$ actual_total_points_scaled    \u001b[3m\u001b[90m<dbl>\u001b[39m\u001b[23m 0.2527281, -0.1202728, -0.1202728, -0.49…\n",
      "$ predicted_total_points        \u001b[3m\u001b[90m<dbl>\u001b[39m\u001b[23m 1.1777173, 1.1239100, 0.9339506, 0.99380…\n",
      "$ actual_total_points           \u001b[3m\u001b[90m<dbl>\u001b[39m\u001b[23m 2, 1, 1, 0, 1, 0, 1, 0, 0, 7, 2, 7, 5, 1…\n",
      "$ name                          \u001b[3m\u001b[90m<chr>\u001b[39m\u001b[23m \"Adam Armstrong\", \"Adam Armstrong\", \"Ada…\n",
      "$ position                      \u001b[3m\u001b[90m<chr>\u001b[39m\u001b[23m \"FWD\", \"FWD\", \"FWD\", \"FWD\", \"FWD\", \"FWD\"…\n",
      "$ team                          \u001b[3m\u001b[90m<chr>\u001b[39m\u001b[23m \"Southampton\", \"Southampton\", \"Southampt…\n",
      "$ xP                            \u001b[3m\u001b[90m<dbl>\u001b[39m\u001b[23m 0.7, 1.0, 0.8, 0.5, 0.8, -0.2, -1.0, -0.…\n",
      "$ assists                       \u001b[3m\u001b[90m<dbl>\u001b[39m\u001b[23m 0, 0, 0, 0, 0, 0, 0, 0, 0, 0, 0, 1, 1, 0…\n",
      "$ bonus                         \u001b[3m\u001b[90m<dbl>\u001b[39m\u001b[23m 0, 0, 0, 0, 0, 0, 0, 0, 0, 1, 0, 1, 0, 0…\n",
      "$ bps                           \u001b[3m\u001b[90m<dbl>\u001b[39m\u001b[23m 5, 1, 0, 0, 3, 0, 2, 0, -1, 32, 1, 33, 1…\n",
      "$ clean_sheets                  \u001b[3m\u001b[90m<dbl>\u001b[39m\u001b[23m 0, 0, 0, 0, 0, 0, 0, 0, 0, 1, 0, 0, 0, 0…\n",
      "$ creativity                    \u001b[3m\u001b[90m<dbl>\u001b[39m\u001b[23m 12.9, 2.9, 0.9, 0.0, 0.0, 0.0, 0.8, 0.0,…\n",
      "$ expected_assists              \u001b[3m\u001b[90m<dbl>\u001b[39m\u001b[23m 0.08, 0.01, 0.05, 0.00, 0.00, 0.00, 0.01…\n",
      "$ expected_goal_involvements    \u001b[3m\u001b[90m<dbl>\u001b[39m\u001b[23m 0.79, 0.03, 0.10, 0.00, 0.00, 0.00, 0.01…\n",
      "$ expected_goals                \u001b[3m\u001b[90m<dbl>\u001b[39m\u001b[23m 0.71, 0.02, 0.05, 0.00, 0.00, 0.00, 0.00…\n",
      "$ expected_goals_conceded       \u001b[3m\u001b[90m<dbl>\u001b[39m\u001b[23m 0.25, 2.14, 0.97, 0.00, 0.55, 0.00, 0.70…\n",
      "$ fixture                       \u001b[3m\u001b[90m<dbl>\u001b[39m\u001b[23m 5, 18, 22, 38, 48, 52, 61, 78, 89, 98, 1…\n",
      "$ goals_conceded                \u001b[3m\u001b[90m<dbl>\u001b[39m\u001b[23m 1, 1, 1, 0, 1, 0, 1, 0, 0, 0, 2, 2, 1, 3…\n",
      "$ goals_scored                  \u001b[3m\u001b[90m<dbl>\u001b[39m\u001b[23m 0, 0, 0, 0, 0, 0, 0, 0, 0, 1, 0, 1, 0, 0…\n",
      "$ ict_index                     \u001b[3m\u001b[90m<dbl>\u001b[39m\u001b[23m 5.8, 1.4, 0.8, 0.0, 0.0, 0.0, 0.7, 0.0, …\n",
      "$ influence                     \u001b[3m\u001b[90m<dbl>\u001b[39m\u001b[23m 7.8, 2.2, 0.0, 0.0, 0.0, 0.0, 2.2, 0.0, …\n",
      "$ kickoff_time                  \u001b[3m\u001b[90m<dttm>\u001b[39m\u001b[23m 2024-08-17 14:00:00, 2024-08-24 14:00:0…\n",
      "$ minutes                       \u001b[3m\u001b[90m<dbl>\u001b[39m\u001b[23m 90, 70, 45, 0, 8, 0, 16, 0, 45, 90, 90, …\n",
      "$ opponent_team                 \u001b[3m\u001b[90m<chr>\u001b[39m\u001b[23m \"Newcastle\", \"Nottingham Forest\", \"Brent…\n",
      "$ own_goals                     \u001b[3m\u001b[90m<dbl>\u001b[39m\u001b[23m 0, 0, 0, 0, 0, 0, 0, 0, 0, 0, 0, 0, 0, 0…\n",
      "$ penalties_missed              \u001b[3m\u001b[90m<dbl>\u001b[39m\u001b[23m 0, 0, 0, 0, 0, 0, 0, 0, 0, 0, 0, 1, 0, 0…\n",
      "$ penalties_saved               \u001b[3m\u001b[90m<dbl>\u001b[39m\u001b[23m 0, 0, 0, 0, 0, 0, 0, 0, 0, 0, 0, 0, 0, 0…\n",
      "$ red_cards                     \u001b[3m\u001b[90m<dbl>\u001b[39m\u001b[23m 0, 0, 0, 0, 0, 0, 0, 0, 0, 0, 0, 0, 0, 0…\n",
      "$ round                         \u001b[3m\u001b[90m<dbl>\u001b[39m\u001b[23m 1, 2, 3, 4, 5, 6, 7, 8, 9, 10, 11, 12, 1…\n",
      "$ saves                         \u001b[3m\u001b[90m<dbl>\u001b[39m\u001b[23m 0, 0, 0, 0, 0, 0, 0, 0, 0, 0, 0, 0, 0, 0…\n",
      "$ selected                      \u001b[3m\u001b[90m<dbl>\u001b[39m\u001b[23m 147689, 180975, 159267, 119236, 105783, …\n",
      "$ starts                        \u001b[3m\u001b[90m<dbl>\u001b[39m\u001b[23m 1, 1, 1, 0, 0, 0, 0, 0, 0, 1, 1, 1, 1, 1…\n",
      "$ team_a_score                  \u001b[3m\u001b[90m<dbl>\u001b[39m\u001b[23m 0, 1, 1, 3, 1, 1, 1, 3, 0, 0, 0, 3, 1, 5…\n",
      "$ team_h_score                  \u001b[3m\u001b[90m<dbl>\u001b[39m\u001b[23m 1, 0, 3, 0, 1, 3, 3, 2, 1, 1, 2, 2, 1, 1…\n",
      "$ threat                        \u001b[3m\u001b[90m<dbl>\u001b[39m\u001b[23m 37, 9, 8, 0, 0, 0, 4, 0, 21, 29, 9, 38, …\n",
      "$ total_points                  \u001b[3m\u001b[90m<dbl>\u001b[39m\u001b[23m 2, 1, 1, 0, 1, 0, 1, 0, 0, 7, 2, 7, 5, 1…\n",
      "$ transfers_balance             \u001b[3m\u001b[90m<dbl>\u001b[39m\u001b[23m 0, 20284, -23029, -42287, -15022, -21356…\n",
      "$ transfers_in                  \u001b[3m\u001b[90m<dbl>\u001b[39m\u001b[23m 0, 37679, 17476, 10045, 6817, 3523, 4861…\n",
      "$ transfers_out                 \u001b[3m\u001b[90m<dbl>\u001b[39m\u001b[23m 0, 17395, 40505, 52332, 21839, 24879, 13…\n",
      "$ value                         \u001b[3m\u001b[90m<dbl>\u001b[39m\u001b[23m 55, 55, 55, 55, 54, 53, 53, 52, 52, 51, …\n",
      "$ was_home                      \u001b[3m\u001b[90m<lgl>\u001b[39m\u001b[23m FALSE, TRUE, FALSE, TRUE, TRUE, FALSE, F…\n",
      "$ yellow_cards                  \u001b[3m\u001b[90m<dbl>\u001b[39m\u001b[23m 0, 1, 0, 0, 0, 0, 0, 0, 1, 0, 0, 1, 0, 1…\n",
      "$ GW                            \u001b[3m\u001b[90m<dbl>\u001b[39m\u001b[23m 77, 78, 79, 80, 81, 82, 83, 84, 85, 86, …\n",
      "$ player_id                     \u001b[3m\u001b[90m<dbl>\u001b[39m\u001b[23m 12, 12, 12, 12, 12, 12, 12, 12, 12, 12, …\n",
      "$ oID                           \u001b[3m\u001b[90m<dbl>\u001b[39m\u001b[23m 18, 19, 4, 17, 11, 3, 1, 13, 16, 9, 24, …\n",
      "$ tID                           \u001b[3m\u001b[90m<dbl>\u001b[39m\u001b[23m 21, 21, 21, 21, 21, 21, 21, 21, 21, 21, …\n",
      "$ hID                           \u001b[3m\u001b[90m<dbl>\u001b[39m\u001b[23m 0, 1, 0, 1, 1, 0, 0, 1, 0, 1, 0, 1, 0, 1…\n"
     ]
    },
    {
     "name": "stdout",
     "output_type": "stream",
     "text": [
      "Rows: 21,098\n",
      "Columns: 9\n",
      "$ row_id                 \u001b[3m\u001b[90m<dbl>\u001b[39m\u001b[23m 4, 5, 6, 7, 122, 123, 124, 125, 126, 127, 128, …\n",
      "$ GW                     \u001b[3m\u001b[90m<dbl>\u001b[39m\u001b[23m 104, 105, 106, 107, 77, 78, 79, 80, 81, 82, 83,…\n",
      "$ player_id              \u001b[3m\u001b[90m<dbl>\u001b[39m\u001b[23m 1, 1, 1, 1, 3, 3, 3, 3, 3, 3, 3, 3, 3, 3, 3, 3,…\n",
      "$ name                   \u001b[3m\u001b[90m<chr>\u001b[39m\u001b[23m \"Aaron Anselmino\", \"Aaron Anselmino\", \"Aaron An…\n",
      "$ position               \u001b[3m\u001b[90m<chr>\u001b[39m\u001b[23m \"DEF\", \"DEF\", \"DEF\", \"DEF\", \"DEF\", \"DEF\", \"DEF\"…\n",
      "$ team                   \u001b[3m\u001b[90m<chr>\u001b[39m\u001b[23m \"Chelsea\", \"Chelsea\", \"Chelsea\", \"Chelsea\", \"We…\n",
      "$ actual_total_points    \u001b[3m\u001b[90m<dbl>\u001b[39m\u001b[23m 0, 0, 0, 0, 0, 1, 0, 0, 1, 0, 1, 0, 0, 0, 0, 0,…\n",
      "$ predicted_total_points \u001b[3m\u001b[90m<dbl>\u001b[39m\u001b[23m 1.6034214, 0.4467912, 0.9970618, 0.9757550, 1.0…\n",
      "$ value                  \u001b[3m\u001b[90m<dbl>\u001b[39m\u001b[23m 40, 40, 40, 40, 40, 40, 40, 40, 40, 40, 40, 40,…\n"
     ]
    },
    {
     "name": "stdout",
     "output_type": "stream",
     "text": [
      "Clean and detailed validation results combined.\n"
     ]
    }
   ],
   "source": [
    "glimpse(preds_gk)\n",
    "glimpse(preds_def)\n",
    "glimpse(preds_mid)\n",
    "glimpse(preds_fwd)\n",
    "\n",
    "# filepath: c:\\Users\\peram\\Documents\\test\\R Forecast\\prognose-modell.ipynb\n",
    "# Combine the CLEANED validation predictions\n",
    "validation_results_df <- bind_rows(\n",
    "    preds_gk_clean,\n",
    "    preds_def_clean,\n",
    "    preds_mid_clean,\n",
    "    preds_fwd_clean\n",
    "  ) %>%\n",
    "  arrange(player_id, GW)\n",
    "\n",
    "glimpse(validation_results_df)\n",
    "\n",
    "# Keep the original detailed forecast df as well (optional)\n",
    "forecastdf_detailed <- bind_rows(preds_gk, preds_def, preds_mid, preds_fwd)\n",
    "cat(\"Clean and detailed validation results combined.\\n\")"
   ]
  },
  {
   "cell_type": "markdown",
   "id": "4763e092",
   "metadata": {
    "_cell_guid": "659db718-cdd4-49f5-85ca-d5e923cafe31",
    "_uuid": "70ad777b-0555-437f-b164-bfaea908804f",
    "collapsed": false,
    "jupyter": {
     "outputs_hidden": false
    },
    "papermill": {
     "duration": 0.038024,
     "end_time": "2025-04-22T11:39:39.992123",
     "exception": false,
     "start_time": "2025-04-22T11:39:39.954099",
     "status": "completed"
    },
    "tags": []
   },
   "source": [
    "### Evaluation Tibbler"
   ]
  },
  {
   "cell_type": "code",
   "execution_count": 58,
   "id": "9769c787",
   "metadata": {
    "_cell_guid": "9a38eaa3-ba10-4c80-bd98-fe2dd4636e5f",
    "_uuid": "9c84d2ca-341e-4b75-8b7b-29320bd2244d",
    "collapsed": false,
    "execution": {
     "iopub.execute_input": "2025-04-22T11:39:40.070352Z",
     "iopub.status.busy": "2025-04-22T11:39:40.068548Z",
     "iopub.status.idle": "2025-04-22T11:39:40.106490Z",
     "shell.execute_reply": "2025-04-22T11:39:40.104023Z"
    },
    "jupyter": {
     "outputs_hidden": false
    },
    "papermill": {
     "duration": 0.080363,
     "end_time": "2025-04-22T11:39:40.109479",
     "exception": false,
     "start_time": "2025-04-22T11:39:40.029116",
     "status": "completed"
    },
    "tags": []
   },
   "outputs": [
    {
     "data": {
      "text/html": [
       "<table class=\"dataframe\">\n",
       "<caption>A data.frame: 6 × 5</caption>\n",
       "<thead>\n",
       "\t<tr><th></th><th scope=col>metric</th><th scope=col>GK</th><th scope=col>DEF</th><th scope=col>MID</th><th scope=col>FWD</th></tr>\n",
       "\t<tr><th></th><th scope=col>&lt;chr&gt;</th><th scope=col>&lt;dbl&gt;</th><th scope=col>&lt;dbl&gt;</th><th scope=col>&lt;dbl&gt;</th><th scope=col>&lt;dbl&gt;</th></tr>\n",
       "</thead>\n",
       "<tbody>\n",
       "\t<tr><th scope=row>loss</th><td>loss                          </td><td>  0.8690171</td><td>  0.93867135</td><td>  0.9678438</td><td>  0.9883209</td></tr>\n",
       "\t<tr><th scope=row>mean_absolute_error</th><td>mean_absolute_error           </td><td>  0.5915390</td><td>  0.65842080</td><td>  0.6177761</td><td>  0.6295782</td></tr>\n",
       "\t<tr><th scope=row>mean_squared_error</th><td>mean_squared_error            </td><td>  0.8690171</td><td>  0.93867135</td><td>  0.9678438</td><td>  0.9883209</td></tr>\n",
       "\t<tr><th scope=row>root_mean_squared_error</th><td>root_mean_squared_error       </td><td>  0.9322109</td><td>  0.96885055</td><td>  0.9837905</td><td>  0.9941433</td></tr>\n",
       "\t<tr><th scope=row>mean_absolute_percentage_error</th><td>mean_absolute_percentage_error</td><td>141.9394531</td><td>704.60119629</td><td>147.8038788</td><td>133.2515869</td></tr>\n",
       "\t<tr><th scope=row>cosine_similarity</th><td>cosine_similarity             </td><td>  0.3294435</td><td>  0.02561913</td><td>  0.1582825</td><td>  0.2519214</td></tr>\n",
       "</tbody>\n",
       "</table>\n"
      ],
      "text/latex": [
       "A data.frame: 6 × 5\n",
       "\\begin{tabular}{r|lllll}\n",
       "  & metric & GK & DEF & MID & FWD\\\\\n",
       "  & <chr> & <dbl> & <dbl> & <dbl> & <dbl>\\\\\n",
       "\\hline\n",
       "\tloss & loss                           &   0.8690171 &   0.93867135 &   0.9678438 &   0.9883209\\\\\n",
       "\tmean\\_absolute\\_error & mean\\_absolute\\_error            &   0.5915390 &   0.65842080 &   0.6177761 &   0.6295782\\\\\n",
       "\tmean\\_squared\\_error & mean\\_squared\\_error             &   0.8690171 &   0.93867135 &   0.9678438 &   0.9883209\\\\\n",
       "\troot\\_mean\\_squared\\_error & root\\_mean\\_squared\\_error        &   0.9322109 &   0.96885055 &   0.9837905 &   0.9941433\\\\\n",
       "\tmean\\_absolute\\_percentage\\_error & mean\\_absolute\\_percentage\\_error & 141.9394531 & 704.60119629 & 147.8038788 & 133.2515869\\\\\n",
       "\tcosine\\_similarity & cosine\\_similarity              &   0.3294435 &   0.02561913 &   0.1582825 &   0.2519214\\\\\n",
       "\\end{tabular}\n"
      ],
      "text/markdown": [
       "\n",
       "A data.frame: 6 × 5\n",
       "\n",
       "| <!--/--> | metric &lt;chr&gt; | GK &lt;dbl&gt; | DEF &lt;dbl&gt; | MID &lt;dbl&gt; | FWD &lt;dbl&gt; |\n",
       "|---|---|---|---|---|---|\n",
       "| loss | loss                           |   0.8690171 |   0.93867135 |   0.9678438 |   0.9883209 |\n",
       "| mean_absolute_error | mean_absolute_error            |   0.5915390 |   0.65842080 |   0.6177761 |   0.6295782 |\n",
       "| mean_squared_error | mean_squared_error             |   0.8690171 |   0.93867135 |   0.9678438 |   0.9883209 |\n",
       "| root_mean_squared_error | root_mean_squared_error        |   0.9322109 |   0.96885055 |   0.9837905 |   0.9941433 |\n",
       "| mean_absolute_percentage_error | mean_absolute_percentage_error | 141.9394531 | 704.60119629 | 147.8038788 | 133.2515869 |\n",
       "| cosine_similarity | cosine_similarity              |   0.3294435 |   0.02561913 |   0.1582825 |   0.2519214 |\n",
       "\n"
      ],
      "text/plain": [
       "                               metric                         GK         \n",
       "loss                           loss                             0.8690171\n",
       "mean_absolute_error            mean_absolute_error              0.5915390\n",
       "mean_squared_error             mean_squared_error               0.8690171\n",
       "root_mean_squared_error        root_mean_squared_error          0.9322109\n",
       "mean_absolute_percentage_error mean_absolute_percentage_error 141.9394531\n",
       "cosine_similarity              cosine_similarity                0.3294435\n",
       "                               DEF          MID         FWD        \n",
       "loss                             0.93867135   0.9678438   0.9883209\n",
       "mean_absolute_error              0.65842080   0.6177761   0.6295782\n",
       "mean_squared_error               0.93867135   0.9678438   0.9883209\n",
       "root_mean_squared_error          0.96885055   0.9837905   0.9941433\n",
       "mean_absolute_percentage_error 704.60119629 147.8038788 133.2515869\n",
       "cosine_similarity                0.02561913   0.1582825   0.2519214"
      ]
     },
     "metadata": {},
     "output_type": "display_data"
    }
   ],
   "source": [
    "# Create metrics comparison dataframe\n",
    "metrics_df <- data.frame(\n",
    "  metric = names(validation_metrics$gk),\n",
    "  GK = unlist(validation_metrics$gk),\n",
    "  DEF = unlist(validation_metrics$def),\n",
    "  MID = unlist(validation_metrics$mid),\n",
    "  FWD = unlist(validation_metrics$fwd)\n",
    ")\n",
    "\n",
    "metrics_df"
   ]
  },
  {
   "cell_type": "markdown",
   "id": "a20e87ad",
   "metadata": {
    "_cell_guid": "c09a6844-5983-4ca3-8bb4-1b8b72880dee",
    "_uuid": "71d1a93d-c408-4e2d-b50c-62e0c11b531b",
    "collapsed": false,
    "jupyter": {
     "outputs_hidden": false
    },
    "papermill": {
     "duration": 0.037158,
     "end_time": "2025-04-22T11:39:40.183540",
     "exception": false,
     "start_time": "2025-04-22T11:39:40.146382",
     "status": "completed"
    },
    "tags": []
   },
   "source": [
    "## Eksportering av Out-of-Sample prediksjoner"
   ]
  },
  {
   "cell_type": "code",
   "execution_count": 59,
   "id": "acc7ae20",
   "metadata": {
    "_cell_guid": "9e3bd660-c535-4f8a-aa4d-59ad28826a2e",
    "_uuid": "3191f158-24e3-400e-b13a-5598717f1815",
    "collapsed": false,
    "execution": {
     "iopub.execute_input": "2025-04-22T11:39:40.262238Z",
     "iopub.status.busy": "2025-04-22T11:39:40.260503Z",
     "iopub.status.idle": "2025-04-22T11:39:40.387564Z",
     "shell.execute_reply": "2025-04-22T11:39:40.385203Z"
    },
    "jupyter": {
     "outputs_hidden": false
    },
    "papermill": {
     "duration": 0.169725,
     "end_time": "2025-04-22T11:39:40.390640",
     "exception": false,
     "start_time": "2025-04-22T11:39:40.220915",
     "status": "completed"
    },
    "tags": []
   },
   "outputs": [
    {
     "name": "stdout",
     "output_type": "stream",
     "text": [
      "Clean validation predictions saved to Validation_Predictions_Clean.csv\n"
     ]
    },
    {
     "name": "stdout",
     "output_type": "stream",
     "text": [
      "Detailed validation predictions saved to Validation_Predictions_Detailed.csv\n"
     ]
    }
   ],
   "source": [
    "# Export CLEAN validation results\n",
    "write_csv(validation_results_df, \"Validation_Predictions_Clean.csv\")\n",
    "cat(\"Clean validation predictions saved to Validation_Predictions_Clean.csv\\n\")\n",
    "\n",
    "# Export DETAILED validation results (original behavior, renamed file)\n",
    "write_csv(forecastdf_detailed, \"Validation_Predictions_Detailed.csv\")\n",
    "cat(\"Detailed validation predictions saved to Validation_Predictions_Detailed.csv\\n\")"
   ]
  },
  {
   "cell_type": "markdown",
   "id": "b2f1d5ff",
   "metadata": {
    "_cell_guid": "34597ba1-f109-4d8f-9766-795c7d932f1e",
    "_uuid": "b845bf9b-6b5f-4c61-a7dd-f2ac49e725bc",
    "collapsed": false,
    "jupyter": {
     "outputs_hidden": false
    },
    "papermill": {
     "duration": 0.037453,
     "end_time": "2025-04-22T11:39:40.465196",
     "exception": false,
     "start_time": "2025-04-22T11:39:40.427743",
     "status": "completed"
    },
    "tags": []
   },
   "source": [
    "# Lag prognoser for n in GW_n"
   ]
  },
  {
   "cell_type": "markdown",
   "id": "85cbc79c",
   "metadata": {
    "_cell_guid": "ada985f6-07c1-415b-803e-bf259e2529c5",
    "_uuid": "0e6cb60e-ed7b-491e-8be4-c2e775ef23e0",
    "collapsed": false,
    "jupyter": {
     "outputs_hidden": false
    },
    "papermill": {
     "duration": 0.037436,
     "end_time": "2025-04-22T11:39:40.540235",
     "exception": false,
     "start_time": "2025-04-22T11:39:40.502799",
     "status": "completed"
    },
    "tags": []
   },
   "source": [
    "1. Create/Obtain a Fixture Data File\n",
    "First, you need a CSV file containing future fixtures with:\n",
    "\n",
    "GW (gameweek number)\n",
    "team_id (team identifier matching your tID)\n",
    "opponent_id (opponent identifier matching your oID)\n",
    "is_home (1 for home, 0 for away)"
   ]
  },
  {
   "cell_type": "markdown",
   "id": "eac3e75b",
   "metadata": {
    "_cell_guid": "67ff2427-34b5-4afb-8e08-9d4dda62f46c",
    "_uuid": "c2f030e9-5d68-41ea-92bc-074b0547efef",
    "collapsed": false,
    "jupyter": {
     "outputs_hidden": false
    },
    "papermill": {
     "duration": 0.03759,
     "end_time": "2025-04-22T11:39:40.615627",
     "exception": false,
     "start_time": "2025-04-22T11:39:40.578037",
     "status": "completed"
    },
    "tags": []
   },
   "source": [
    "## Hent kampoppstilling"
   ]
  },
  {
   "cell_type": "markdown",
   "id": "54a29664",
   "metadata": {
    "_cell_guid": "bc19552e-52b8-44ce-90dd-81c4a778c647",
    "_uuid": "b2028c1e-1d71-4d0c-8a6b-3413ee5f2fd8",
    "collapsed": false,
    "jupyter": {
     "outputs_hidden": false
    },
    "papermill": {
     "duration": 0.037703,
     "end_time": "2025-04-22T11:39:40.691187",
     "exception": false,
     "start_time": "2025-04-22T11:39:40.653484",
     "status": "completed"
    },
    "tags": []
   },
   "source": [
    "### Hente funksjon"
   ]
  },
  {
   "cell_type": "code",
   "execution_count": 60,
   "id": "7678d4c9",
   "metadata": {
    "_cell_guid": "47484e73-f2b9-4e40-928d-87cb62eb665e",
    "_uuid": "f01cc5ae-476a-4e61-9f5b-b8576785c072",
    "collapsed": false,
    "execution": {
     "iopub.execute_input": "2025-04-22T11:39:40.769249Z",
     "iopub.status.busy": "2025-04-22T11:39:40.767605Z",
     "iopub.status.idle": "2025-04-22T11:39:42.148515Z",
     "shell.execute_reply": "2025-04-22T11:39:42.146894Z"
    },
    "jupyter": {
     "outputs_hidden": false
    },
    "papermill": {
     "duration": 1.422588,
     "end_time": "2025-04-22T11:39:42.150855",
     "exception": false,
     "start_time": "2025-04-22T11:39:40.728267",
     "status": "completed"
    },
    "tags": []
   },
   "outputs": [
    {
     "data": {
      "text/html": [
       "<table class=\"dataframe\">\n",
       "<caption>A tibble: 760 × 4</caption>\n",
       "<thead>\n",
       "\t<tr><th scope=col>GW</th><th scope=col>team_id</th><th scope=col>opponent_id</th><th scope=col>is_home</th></tr>\n",
       "\t<tr><th scope=col>&lt;int&gt;</th><th scope=col>&lt;int&gt;</th><th scope=col>&lt;int&gt;</th><th scope=col>&lt;dbl&gt;</th></tr>\n",
       "</thead>\n",
       "<tbody>\n",
       "\t<tr><td>1</td><td>14</td><td> 9</td><td>1</td></tr>\n",
       "\t<tr><td>1</td><td>10</td><td>12</td><td>1</td></tr>\n",
       "\t<tr><td>1</td><td> 1</td><td>20</td><td>1</td></tr>\n",
       "\t<tr><td>1</td><td> 8</td><td> 5</td><td>1</td></tr>\n",
       "\t<tr><td>1</td><td>15</td><td>17</td><td>1</td></tr>\n",
       "\t<tr><td>1</td><td>16</td><td> 3</td><td>1</td></tr>\n",
       "\t<tr><td>1</td><td>19</td><td> 2</td><td>1</td></tr>\n",
       "\t<tr><td>1</td><td> 4</td><td> 7</td><td>1</td></tr>\n",
       "\t<tr><td>1</td><td> 6</td><td>13</td><td>1</td></tr>\n",
       "\t<tr><td>1</td><td>11</td><td>18</td><td>1</td></tr>\n",
       "\t<tr><td>2</td><td> 5</td><td>14</td><td>1</td></tr>\n",
       "\t<tr><td>2</td><td> 7</td><td>19</td><td>1</td></tr>\n",
       "\t<tr><td>2</td><td> 9</td><td>11</td><td>1</td></tr>\n",
       "\t<tr><td>2</td><td>13</td><td>10</td><td>1</td></tr>\n",
       "\t<tr><td>2</td><td>17</td><td>16</td><td>1</td></tr>\n",
       "\t<tr><td>2</td><td>18</td><td> 8</td><td>1</td></tr>\n",
       "\t<tr><td>2</td><td> 2</td><td> 1</td><td>1</td></tr>\n",
       "\t<tr><td>2</td><td> 3</td><td>15</td><td>1</td></tr>\n",
       "\t<tr><td>2</td><td>20</td><td> 6</td><td>1</td></tr>\n",
       "\t<tr><td>2</td><td>12</td><td> 4</td><td>1</td></tr>\n",
       "\t<tr><td>3</td><td> 1</td><td> 5</td><td>1</td></tr>\n",
       "\t<tr><td>3</td><td> 4</td><td>17</td><td>1</td></tr>\n",
       "\t<tr><td>3</td><td> 8</td><td> 3</td><td>1</td></tr>\n",
       "\t<tr><td>3</td><td>10</td><td> 9</td><td>1</td></tr>\n",
       "\t<tr><td>3</td><td>11</td><td> 2</td><td>1</td></tr>\n",
       "\t<tr><td>3</td><td>16</td><td>20</td><td>1</td></tr>\n",
       "\t<tr><td>3</td><td>19</td><td>13</td><td>1</td></tr>\n",
       "\t<tr><td>3</td><td> 6</td><td> 7</td><td>1</td></tr>\n",
       "\t<tr><td>3</td><td>15</td><td>18</td><td>1</td></tr>\n",
       "\t<tr><td>3</td><td>14</td><td>12</td><td>1</td></tr>\n",
       "\t<tr><td>⋮</td><td>⋮</td><td>⋮</td><td>⋮</td></tr>\n",
       "\t<tr><td>36</td><td> 8</td><td> 9</td><td>0</td></tr>\n",
       "\t<tr><td>36</td><td> 4</td><td>10</td><td>0</td></tr>\n",
       "\t<tr><td>36</td><td>13</td><td>17</td><td>0</td></tr>\n",
       "\t<tr><td>36</td><td> 5</td><td>20</td><td>0</td></tr>\n",
       "\t<tr><td>36</td><td> 2</td><td> 3</td><td>0</td></tr>\n",
       "\t<tr><td>36</td><td> 6</td><td>15</td><td>0</td></tr>\n",
       "\t<tr><td>36</td><td>19</td><td>14</td><td>0</td></tr>\n",
       "\t<tr><td>36</td><td>11</td><td>16</td><td>0</td></tr>\n",
       "\t<tr><td>36</td><td> 7</td><td>18</td><td>0</td></tr>\n",
       "\t<tr><td>36</td><td> 1</td><td>12</td><td>0</td></tr>\n",
       "\t<tr><td>37</td><td>14</td><td> 6</td><td>0</td></tr>\n",
       "\t<tr><td>37</td><td>17</td><td> 8</td><td>0</td></tr>\n",
       "\t<tr><td>37</td><td>18</td><td> 2</td><td>0</td></tr>\n",
       "\t<tr><td>37</td><td>16</td><td>19</td><td>0</td></tr>\n",
       "\t<tr><td>37</td><td> 9</td><td> 4</td><td>0</td></tr>\n",
       "\t<tr><td>37</td><td>20</td><td> 7</td><td>0</td></tr>\n",
       "\t<tr><td>37</td><td>10</td><td>11</td><td>0</td></tr>\n",
       "\t<tr><td>37</td><td>15</td><td> 1</td><td>0</td></tr>\n",
       "\t<tr><td>37</td><td> 3</td><td>13</td><td>0</td></tr>\n",
       "\t<tr><td>37</td><td>12</td><td> 5</td><td>0</td></tr>\n",
       "\t<tr><td>38</td><td>11</td><td> 3</td><td>0</td></tr>\n",
       "\t<tr><td>38</td><td>13</td><td> 9</td><td>0</td></tr>\n",
       "\t<tr><td>38</td><td>19</td><td>10</td><td>0</td></tr>\n",
       "\t<tr><td>38</td><td> 7</td><td>12</td><td>0</td></tr>\n",
       "\t<tr><td>38</td><td> 2</td><td>14</td><td>0</td></tr>\n",
       "\t<tr><td>38</td><td> 8</td><td>15</td><td>0</td></tr>\n",
       "\t<tr><td>38</td><td> 6</td><td>16</td><td>0</td></tr>\n",
       "\t<tr><td>38</td><td> 1</td><td>17</td><td>0</td></tr>\n",
       "\t<tr><td>38</td><td> 5</td><td>18</td><td>0</td></tr>\n",
       "\t<tr><td>38</td><td> 4</td><td>20</td><td>0</td></tr>\n",
       "</tbody>\n",
       "</table>\n"
      ],
      "text/latex": [
       "A tibble: 760 × 4\n",
       "\\begin{tabular}{llll}\n",
       " GW & team\\_id & opponent\\_id & is\\_home\\\\\n",
       " <int> & <int> & <int> & <dbl>\\\\\n",
       "\\hline\n",
       "\t 1 & 14 &  9 & 1\\\\\n",
       "\t 1 & 10 & 12 & 1\\\\\n",
       "\t 1 &  1 & 20 & 1\\\\\n",
       "\t 1 &  8 &  5 & 1\\\\\n",
       "\t 1 & 15 & 17 & 1\\\\\n",
       "\t 1 & 16 &  3 & 1\\\\\n",
       "\t 1 & 19 &  2 & 1\\\\\n",
       "\t 1 &  4 &  7 & 1\\\\\n",
       "\t 1 &  6 & 13 & 1\\\\\n",
       "\t 1 & 11 & 18 & 1\\\\\n",
       "\t 2 &  5 & 14 & 1\\\\\n",
       "\t 2 &  7 & 19 & 1\\\\\n",
       "\t 2 &  9 & 11 & 1\\\\\n",
       "\t 2 & 13 & 10 & 1\\\\\n",
       "\t 2 & 17 & 16 & 1\\\\\n",
       "\t 2 & 18 &  8 & 1\\\\\n",
       "\t 2 &  2 &  1 & 1\\\\\n",
       "\t 2 &  3 & 15 & 1\\\\\n",
       "\t 2 & 20 &  6 & 1\\\\\n",
       "\t 2 & 12 &  4 & 1\\\\\n",
       "\t 3 &  1 &  5 & 1\\\\\n",
       "\t 3 &  4 & 17 & 1\\\\\n",
       "\t 3 &  8 &  3 & 1\\\\\n",
       "\t 3 & 10 &  9 & 1\\\\\n",
       "\t 3 & 11 &  2 & 1\\\\\n",
       "\t 3 & 16 & 20 & 1\\\\\n",
       "\t 3 & 19 & 13 & 1\\\\\n",
       "\t 3 &  6 &  7 & 1\\\\\n",
       "\t 3 & 15 & 18 & 1\\\\\n",
       "\t 3 & 14 & 12 & 1\\\\\n",
       "\t ⋮ & ⋮ & ⋮ & ⋮\\\\\n",
       "\t 36 &  8 &  9 & 0\\\\\n",
       "\t 36 &  4 & 10 & 0\\\\\n",
       "\t 36 & 13 & 17 & 0\\\\\n",
       "\t 36 &  5 & 20 & 0\\\\\n",
       "\t 36 &  2 &  3 & 0\\\\\n",
       "\t 36 &  6 & 15 & 0\\\\\n",
       "\t 36 & 19 & 14 & 0\\\\\n",
       "\t 36 & 11 & 16 & 0\\\\\n",
       "\t 36 &  7 & 18 & 0\\\\\n",
       "\t 36 &  1 & 12 & 0\\\\\n",
       "\t 37 & 14 &  6 & 0\\\\\n",
       "\t 37 & 17 &  8 & 0\\\\\n",
       "\t 37 & 18 &  2 & 0\\\\\n",
       "\t 37 & 16 & 19 & 0\\\\\n",
       "\t 37 &  9 &  4 & 0\\\\\n",
       "\t 37 & 20 &  7 & 0\\\\\n",
       "\t 37 & 10 & 11 & 0\\\\\n",
       "\t 37 & 15 &  1 & 0\\\\\n",
       "\t 37 &  3 & 13 & 0\\\\\n",
       "\t 37 & 12 &  5 & 0\\\\\n",
       "\t 38 & 11 &  3 & 0\\\\\n",
       "\t 38 & 13 &  9 & 0\\\\\n",
       "\t 38 & 19 & 10 & 0\\\\\n",
       "\t 38 &  7 & 12 & 0\\\\\n",
       "\t 38 &  2 & 14 & 0\\\\\n",
       "\t 38 &  8 & 15 & 0\\\\\n",
       "\t 38 &  6 & 16 & 0\\\\\n",
       "\t 38 &  1 & 17 & 0\\\\\n",
       "\t 38 &  5 & 18 & 0\\\\\n",
       "\t 38 &  4 & 20 & 0\\\\\n",
       "\\end{tabular}\n"
      ],
      "text/markdown": [
       "\n",
       "A tibble: 760 × 4\n",
       "\n",
       "| GW &lt;int&gt; | team_id &lt;int&gt; | opponent_id &lt;int&gt; | is_home &lt;dbl&gt; |\n",
       "|---|---|---|---|\n",
       "| 1 | 14 |  9 | 1 |\n",
       "| 1 | 10 | 12 | 1 |\n",
       "| 1 |  1 | 20 | 1 |\n",
       "| 1 |  8 |  5 | 1 |\n",
       "| 1 | 15 | 17 | 1 |\n",
       "| 1 | 16 |  3 | 1 |\n",
       "| 1 | 19 |  2 | 1 |\n",
       "| 1 |  4 |  7 | 1 |\n",
       "| 1 |  6 | 13 | 1 |\n",
       "| 1 | 11 | 18 | 1 |\n",
       "| 2 |  5 | 14 | 1 |\n",
       "| 2 |  7 | 19 | 1 |\n",
       "| 2 |  9 | 11 | 1 |\n",
       "| 2 | 13 | 10 | 1 |\n",
       "| 2 | 17 | 16 | 1 |\n",
       "| 2 | 18 |  8 | 1 |\n",
       "| 2 |  2 |  1 | 1 |\n",
       "| 2 |  3 | 15 | 1 |\n",
       "| 2 | 20 |  6 | 1 |\n",
       "| 2 | 12 |  4 | 1 |\n",
       "| 3 |  1 |  5 | 1 |\n",
       "| 3 |  4 | 17 | 1 |\n",
       "| 3 |  8 |  3 | 1 |\n",
       "| 3 | 10 |  9 | 1 |\n",
       "| 3 | 11 |  2 | 1 |\n",
       "| 3 | 16 | 20 | 1 |\n",
       "| 3 | 19 | 13 | 1 |\n",
       "| 3 |  6 |  7 | 1 |\n",
       "| 3 | 15 | 18 | 1 |\n",
       "| 3 | 14 | 12 | 1 |\n",
       "| ⋮ | ⋮ | ⋮ | ⋮ |\n",
       "| 36 |  8 |  9 | 0 |\n",
       "| 36 |  4 | 10 | 0 |\n",
       "| 36 | 13 | 17 | 0 |\n",
       "| 36 |  5 | 20 | 0 |\n",
       "| 36 |  2 |  3 | 0 |\n",
       "| 36 |  6 | 15 | 0 |\n",
       "| 36 | 19 | 14 | 0 |\n",
       "| 36 | 11 | 16 | 0 |\n",
       "| 36 |  7 | 18 | 0 |\n",
       "| 36 |  1 | 12 | 0 |\n",
       "| 37 | 14 |  6 | 0 |\n",
       "| 37 | 17 |  8 | 0 |\n",
       "| 37 | 18 |  2 | 0 |\n",
       "| 37 | 16 | 19 | 0 |\n",
       "| 37 |  9 |  4 | 0 |\n",
       "| 37 | 20 |  7 | 0 |\n",
       "| 37 | 10 | 11 | 0 |\n",
       "| 37 | 15 |  1 | 0 |\n",
       "| 37 |  3 | 13 | 0 |\n",
       "| 37 | 12 |  5 | 0 |\n",
       "| 38 | 11 |  3 | 0 |\n",
       "| 38 | 13 |  9 | 0 |\n",
       "| 38 | 19 | 10 | 0 |\n",
       "| 38 |  7 | 12 | 0 |\n",
       "| 38 |  2 | 14 | 0 |\n",
       "| 38 |  8 | 15 | 0 |\n",
       "| 38 |  6 | 16 | 0 |\n",
       "| 38 |  1 | 17 | 0 |\n",
       "| 38 |  5 | 18 | 0 |\n",
       "| 38 |  4 | 20 | 0 |\n",
       "\n"
      ],
      "text/plain": [
       "    GW team_id opponent_id is_home\n",
       "1   1  14       9          1      \n",
       "2   1  10      12          1      \n",
       "3   1   1      20          1      \n",
       "4   1   8       5          1      \n",
       "5   1  15      17          1      \n",
       "6   1  16       3          1      \n",
       "7   1  19       2          1      \n",
       "8   1   4       7          1      \n",
       "9   1   6      13          1      \n",
       "10  1  11      18          1      \n",
       "11  2   5      14          1      \n",
       "12  2   7      19          1      \n",
       "13  2   9      11          1      \n",
       "14  2  13      10          1      \n",
       "15  2  17      16          1      \n",
       "16  2  18       8          1      \n",
       "17  2   2       1          1      \n",
       "18  2   3      15          1      \n",
       "19  2  20       6          1      \n",
       "20  2  12       4          1      \n",
       "21  3   1       5          1      \n",
       "22  3   4      17          1      \n",
       "23  3   8       3          1      \n",
       "24  3  10       9          1      \n",
       "25  3  11       2          1      \n",
       "26  3  16      20          1      \n",
       "27  3  19      13          1      \n",
       "28  3   6       7          1      \n",
       "29  3  15      18          1      \n",
       "30  3  14      12          1      \n",
       "⋮   ⋮  ⋮       ⋮           ⋮      \n",
       "731 36  8       9          0      \n",
       "732 36  4      10          0      \n",
       "733 36 13      17          0      \n",
       "734 36  5      20          0      \n",
       "735 36  2       3          0      \n",
       "736 36  6      15          0      \n",
       "737 36 19      14          0      \n",
       "738 36 11      16          0      \n",
       "739 36  7      18          0      \n",
       "740 36  1      12          0      \n",
       "741 37 14       6          0      \n",
       "742 37 17       8          0      \n",
       "743 37 18       2          0      \n",
       "744 37 16      19          0      \n",
       "745 37  9       4          0      \n",
       "746 37 20       7          0      \n",
       "747 37 10      11          0      \n",
       "748 37 15       1          0      \n",
       "749 37  3      13          0      \n",
       "750 37 12       5          0      \n",
       "751 38 11       3          0      \n",
       "752 38 13       9          0      \n",
       "753 38 19      10          0      \n",
       "754 38  7      12          0      \n",
       "755 38  2      14          0      \n",
       "756 38  8      15          0      \n",
       "757 38  6      16          0      \n",
       "758 38  1      17          0      \n",
       "759 38  5      18          0      \n",
       "760 38  4      20          0      "
      ]
     },
     "metadata": {},
     "output_type": "display_data"
    }
   ],
   "source": [
    "# Funksjon som henter fra api\n",
    "# Function to get fixtures from FPL API\n",
    "get_fpl_fixtures <- function() {\n",
    "  # Make API request\n",
    "  response <- GET(\"https://fantasy.premierleague.com/api/fixtures/\")\n",
    "  \n",
    "  # Check if request was successful\n",
    "  if (http_status(response)$category != \"Success\") {\n",
    "    stop(\"Failed to fetch fixtures from FPL API. Status code: \", status_code(response))\n",
    "  }\n",
    "  \n",
    "  # Parse JSON response\n",
    "  fixtures_json <- content(response, \"text\", encoding = \"UTF-8\")\n",
    "  fixtures_data <- fromJSON(fixtures_json, flatten = TRUE)\n",
    "  \n",
    "  # Basic transformation to required format\n",
    "  formatted_fixtures <- tibble(\n",
    "    GW = fixtures_data$event,\n",
    "    home_team_id = fixtures_data$team_h,\n",
    "    away_team_id = fixtures_data$team_a,\n",
    "    kickoff_time = fixtures_data$kickoff_time\n",
    "  ) %>%\n",
    "    # Filter out fixtures with no scheduled gameweek (NULL or NA values)\n",
    "    filter(!is.na(GW)) %>%\n",
    "    # Create the same format as your previous code\n",
    "    transmute(\n",
    "      GW = GW,\n",
    "      # Create a row for home team\n",
    "      team_id = home_team_id,\n",
    "      opponent_id = away_team_id,\n",
    "      is_home = 1\n",
    "    ) %>%\n",
    "    # Also create corresponding away team rows\n",
    "    bind_rows(\n",
    "      tibble(\n",
    "        GW = fixtures_data$event,\n",
    "        home_team_id = fixtures_data$team_h,\n",
    "        away_team_id = fixtures_data$team_a\n",
    "      ) %>%\n",
    "        filter(!is.na(GW)) %>%\n",
    "        transmute(\n",
    "          GW = GW,\n",
    "          team_id = away_team_id,\n",
    "          opponent_id = home_team_id,\n",
    "          is_home = 0\n",
    "        )\n",
    "    )\n",
    "  \n",
    "  # Convert team IDs to match your internal team IDs if needed\n",
    "  # This depends on how your team IDs are structured compared to FPL's\n",
    "  # You might need to create a mapping table\n",
    "  \n",
    "  return(formatted_fixtures)\n",
    "}\n",
    "\n",
    "future_fixtures <- get_fpl_fixtures()\n",
    "future_fixtures"
   ]
  },
  {
   "cell_type": "markdown",
   "id": "1ffd1a0b",
   "metadata": {
    "_cell_guid": "4822b26a-257d-43ae-9ca6-090e684a8829",
    "_uuid": "04710280-2502-4080-bde1-a04ae55b3c46",
    "collapsed": false,
    "jupyter": {
     "outputs_hidden": false
    },
    "papermill": {
     "duration": 0.039619,
     "end_time": "2025-04-22T11:39:42.229835",
     "exception": false,
     "start_time": "2025-04-22T11:39:42.190216",
     "status": "completed"
    },
    "tags": []
   },
   "source": [
    "### Hente lag id til lag funksjon"
   ]
  },
  {
   "cell_type": "code",
   "execution_count": 61,
   "id": "dc3df5c2",
   "metadata": {
    "_cell_guid": "e7000731-3936-465c-9a9c-95d47cb7eefe",
    "_uuid": "67ee7d30-3f16-47b0-b4b5-384b0371a8d5",
    "collapsed": false,
    "execution": {
     "iopub.execute_input": "2025-04-22T11:39:42.310069Z",
     "iopub.status.busy": "2025-04-22T11:39:42.308405Z",
     "iopub.status.idle": "2025-04-22T11:39:42.619203Z",
     "shell.execute_reply": "2025-04-22T11:39:42.617330Z"
    },
    "jupyter": {
     "outputs_hidden": false
    },
    "papermill": {
     "duration": 0.354613,
     "end_time": "2025-04-22T11:39:42.622317",
     "exception": false,
     "start_time": "2025-04-22T11:39:42.267704",
     "status": "completed"
    },
    "tags": []
   },
   "outputs": [],
   "source": [
    "# Function to get team mapping from FPL API\n",
    "get_team_mapping <- function() {\n",
    "  # Make API request to bootstrap-static endpoint which contains team data\n",
    "  response <- GET(\"https://fantasy.premierleague.com/api/bootstrap-static/\")\n",
    "  \n",
    "  # Check if request was successful\n",
    "  if (http_status(response)$category != \"Success\") {\n",
    "    stop(\"Failed to fetch bootstrap data from FPL API. Status code: \", status_code(response))\n",
    "  }\n",
    "  \n",
    "  # Parse JSON response\n",
    "  bootstrap_json <- content(response, \"text\", encoding = \"UTF-8\")\n",
    "  bootstrap_data <- fromJSON(bootstrap_json, flatten = TRUE)\n",
    "  \n",
    "  # Extract team data\n",
    "  team_mapping <- tibble(\n",
    "    team_id = bootstrap_data$teams$id,\n",
    "    team_name = bootstrap_data$teams$name,\n",
    "    team_short_name = bootstrap_data$teams$short_name\n",
    "  )\n",
    "  \n",
    "  return(team_mapping)\n",
    "}\n",
    "\n",
    "team_mapping <- get_team_mapping()"
   ]
  },
  {
   "cell_type": "markdown",
   "id": "784b6b80",
   "metadata": {
    "_cell_guid": "62cd5b6c-8423-4230-8a33-d4ec122eb37c",
    "_uuid": "4fd4b020-5e7b-408a-adbf-c4dc4882d024",
    "collapsed": false,
    "jupyter": {
     "outputs_hidden": false
    },
    "papermill": {
     "duration": 0.037717,
     "end_time": "2025-04-22T11:39:42.698265",
     "exception": false,
     "start_time": "2025-04-22T11:39:42.660548",
     "status": "completed"
    },
    "tags": []
   },
   "source": [
    "## Prognosering"
   ]
  },
  {
   "cell_type": "code",
   "execution_count": 62,
   "id": "0103fb82",
   "metadata": {
    "execution": {
     "iopub.execute_input": "2025-04-22T11:39:42.776504Z",
     "iopub.status.busy": "2025-04-22T11:39:42.774987Z",
     "iopub.status.idle": "2025-04-22T11:39:42.795811Z",
     "shell.execute_reply": "2025-04-22T11:39:42.793896Z"
    },
    "papermill": {
     "duration": 0.063219,
     "end_time": "2025-04-22T11:39:42.798607",
     "exception": false,
     "start_time": "2025-04-22T11:39:42.735388",
     "status": "completed"
    },
    "tags": []
   },
   "outputs": [
    {
     "name": "stdout",
     "output_type": "stream",
     "text": [
      "[1] \"Max GW in future_fixtures: 38\"\n",
      "[1] \"Gameweeks present in future_fixtures:\"\n",
      "\n",
      " 1  2  3  4  5  6  7  8  9 10 11 12 13 14 15 16 17 18 19 20 21 22 23 24 25 26 \n",
      "20 20 20 20 20 20 20 20 20 20 20 20 20 20 18 20 20 20 20 20 20 20 20 22 22 20 \n",
      "27 28 29 30 31 32 33 34 35 36 37 38 \n",
      "20 20 16 20 20 22 24 16 20 20 20 20 \n",
      "Rows: 760\n",
      "Columns: 4\n",
      "$ GW          \u001b[3m\u001b[90m<int>\u001b[39m\u001b[23m 1, 1, 1, 1, 1, 1, 1, 1, 1, 1, 2, 2, 2, 2, 2, 2, 2, 2, 2, 2…\n",
      "$ team_id     \u001b[3m\u001b[90m<int>\u001b[39m\u001b[23m 14, 10, 1, 8, 15, 16, 19, 4, 6, 11, 5, 7, 9, 13, 17, 18, 2…\n",
      "$ opponent_id \u001b[3m\u001b[90m<int>\u001b[39m\u001b[23m 9, 12, 20, 5, 17, 3, 2, 7, 13, 18, 14, 19, 11, 10, 16, 8, …\n",
      "$ is_home     \u001b[3m\u001b[90m<dbl>\u001b[39m\u001b[23m 1, 1, 1, 1, 1, 1, 1, 1, 1, 1, 1, 1, 1, 1, 1, 1, 1, 1, 1, 1…\n"
     ]
    }
   ],
   "source": [
    "if (exists(\"future_fixtures\")) {\n",
    "  print(paste(\"Max GW in future_fixtures:\", max(future_fixtures$GW, na.rm = TRUE)))\n",
    "  print(\"Gameweeks present in future_fixtures:\")\n",
    "  print(table(future_fixtures$GW))\n",
    "  glimpse(future_fixtures)\n",
    "} else {\n",
    "  print(\"future_fixtures data frame does not exist.\")\n",
    "}"
   ]
  },
  {
   "cell_type": "code",
   "execution_count": 63,
   "id": "0bfc0eff",
   "metadata": {
    "_cell_guid": "c8d0ba54-e77b-414b-8c9f-b224db1792d8",
    "_kg_hide-input": false,
    "_uuid": "5d8e3c45-32cb-4b2f-b187-01cef28015b5",
    "collapsed": false,
    "execution": {
     "iopub.execute_input": "2025-04-22T11:39:42.880152Z",
     "iopub.status.busy": "2025-04-22T11:39:42.878502Z",
     "iopub.status.idle": "2025-04-22T11:39:49.921895Z",
     "shell.execute_reply": "2025-04-22T11:39:49.919922Z"
    },
    "jupyter": {
     "outputs_hidden": false
    },
    "papermill": {
     "duration": 7.086714,
     "end_time": "2025-04-22T11:39:49.924356",
     "exception": false,
     "start_time": "2025-04-22T11:39:42.837642",
     "status": "completed"
    },
    "tags": []
   },
   "outputs": [
    {
     "name": "stdout",
     "output_type": "stream",
     "text": [
      "Last Historical GW in data: 107 \n"
     ]
    },
    {
     "name": "stdout",
     "output_type": "stream",
     "text": [
      "Corresponding Current API GW: 31 \n"
     ]
    },
    {
     "name": "stdout",
     "output_type": "stream",
     "text": [
      "Forecasting for API GWs: 32, 33, 34, 35, 36, 37, 38 \n"
     ]
    },
    {
     "name": "stdout",
     "output_type": "stream",
     "text": [
      "Fixture data loaded for target API GWs.\n"
     ]
    },
    {
     "name": "stdout",
     "output_type": "stream",
     "text": [
      "\n",
      "--- Preparing base input for position: GK ---\n",
      "   Base input data prepared for 82 players based on data up to Historical GW 107 .\n",
      "\n",
      "--- Preparing base input for position: DEF ---\n",
      "   Base input data prepared for 261 players based on data up to Historical GW 107 .\n",
      "\n",
      "--- Preparing base input for position: MID ---\n",
      "   Base input data prepared for 340 players based on data up to Historical GW 107 .\n",
      "\n",
      "--- Preparing base input for position: FWD ---\n",
      "   Base input data prepared for 86 players based on data up to Historical GW 107 .\n"
     ]
    },
    {
     "name": "stdout",
     "output_type": "stream",
     "text": [
      "\n",
      "--- Forecasting for API GW: 32 ---\n",
      "      Forecasting position: GK \n",
      "         Found 5 DGW players and 60 SGW players.\n",
      "         Running prediction for 70 fixtures...\n",
      "         Raw fixture forecasts stored for 70 fixtures.\n",
      "      Forecasting position: DEF \n",
      "         Found 15 DGW players and 190 SGW players.\n",
      "         Running prediction for 220 fixtures...\n",
      "         Raw fixture forecasts stored for 220 fixtures.\n",
      "      Forecasting position: MID \n",
      "         Found 21 DGW players and 249 SGW players.\n",
      "         Running prediction for 291 fixtures...\n",
      "         Raw fixture forecasts stored for 291 fixtures.\n",
      "      Forecasting position: FWD \n",
      "         Found 6 DGW players and 59 SGW players.\n",
      "         Running prediction for 71 fixtures...\n",
      "         Raw fixture forecasts stored for 71 fixtures.\n",
      "\n",
      "--- Forecasting for API GW: 33 ---\n",
      "      Forecasting position: GK \n",
      "         Found 20 DGW players and 45 SGW players.\n",
      "         Running prediction for 85 fixtures...\n",
      "         Raw fixture forecasts stored for 85 fixtures.\n",
      "      Forecasting position: DEF \n",
      "         Found 53 DGW players and 152 SGW players.\n",
      "         Running prediction for 258 fixtures...\n",
      "         Raw fixture forecasts stored for 258 fixtures.\n",
      "      Forecasting position: MID \n",
      "         Found 71 DGW players and 199 SGW players.\n",
      "         Running prediction for 341 fixtures...\n",
      "         Raw fixture forecasts stored for 341 fixtures.\n",
      "      Forecasting position: FWD \n",
      "         Found 15 DGW players and 50 SGW players.\n",
      "         Running prediction for 80 fixtures...\n",
      "         Raw fixture forecasts stored for 80 fixtures.\n",
      "\n",
      "--- Forecasting for API GW: 34 ---\n",
      "      Forecasting position: GK \n",
      "         Found 0 DGW players and 45 SGW players.\n",
      "         Running prediction for 45 fixtures...\n",
      "         Raw fixture forecasts stored for 45 fixtures.\n",
      "      Forecasting position: DEF \n",
      "         Found 0 DGW players and 152 SGW players.\n",
      "         Running prediction for 152 fixtures...\n",
      "         Raw fixture forecasts stored for 152 fixtures.\n",
      "      Forecasting position: MID \n",
      "         Found 0 DGW players and 199 SGW players.\n",
      "         Running prediction for 199 fixtures...\n",
      "         Raw fixture forecasts stored for 199 fixtures.\n",
      "      Forecasting position: FWD \n",
      "         Found 0 DGW players and 50 SGW players.\n",
      "         Running prediction for 50 fixtures...\n",
      "         Raw fixture forecasts stored for 50 fixtures.\n",
      "\n",
      "--- Forecasting for API GW: 35 ---\n",
      "      Forecasting position: GK \n",
      "         Found 0 DGW players and 65 SGW players.\n",
      "         Running prediction for 65 fixtures...\n",
      "         Raw fixture forecasts stored for 65 fixtures.\n",
      "      Forecasting position: DEF \n",
      "         Found 0 DGW players and 205 SGW players.\n",
      "         Running prediction for 205 fixtures...\n",
      "         Raw fixture forecasts stored for 205 fixtures.\n",
      "      Forecasting position: MID \n",
      "         Found 0 DGW players and 270 SGW players.\n",
      "         Running prediction for 270 fixtures...\n",
      "         Raw fixture forecasts stored for 270 fixtures.\n",
      "      Forecasting position: FWD \n",
      "         Found 0 DGW players and 65 SGW players.\n",
      "         Running prediction for 65 fixtures...\n",
      "         Raw fixture forecasts stored for 65 fixtures.\n",
      "\n",
      "--- Forecasting for API GW: 36 ---\n",
      "      Forecasting position: GK \n",
      "         Found 0 DGW players and 65 SGW players.\n",
      "         Running prediction for 65 fixtures...\n",
      "         Raw fixture forecasts stored for 65 fixtures.\n",
      "      Forecasting position: DEF \n",
      "         Found 0 DGW players and 205 SGW players.\n",
      "         Running prediction for 205 fixtures...\n",
      "         Raw fixture forecasts stored for 205 fixtures.\n",
      "      Forecasting position: MID \n",
      "         Found 0 DGW players and 270 SGW players.\n",
      "         Running prediction for 270 fixtures...\n",
      "         Raw fixture forecasts stored for 270 fixtures.\n",
      "      Forecasting position: FWD \n",
      "         Found 0 DGW players and 65 SGW players.\n",
      "         Running prediction for 65 fixtures...\n",
      "         Raw fixture forecasts stored for 65 fixtures.\n",
      "\n",
      "--- Forecasting for API GW: 37 ---\n",
      "      Forecasting position: GK \n",
      "         Found 0 DGW players and 65 SGW players.\n",
      "         Running prediction for 65 fixtures...\n",
      "         Raw fixture forecasts stored for 65 fixtures.\n",
      "      Forecasting position: DEF \n",
      "         Found 0 DGW players and 205 SGW players.\n",
      "         Running prediction for 205 fixtures...\n",
      "         Raw fixture forecasts stored for 205 fixtures.\n",
      "      Forecasting position: MID \n",
      "         Found 0 DGW players and 270 SGW players.\n",
      "         Running prediction for 270 fixtures...\n",
      "         Raw fixture forecasts stored for 270 fixtures.\n",
      "      Forecasting position: FWD \n",
      "         Found 0 DGW players and 65 SGW players.\n",
      "         Running prediction for 65 fixtures...\n",
      "         Raw fixture forecasts stored for 65 fixtures.\n",
      "\n",
      "--- Forecasting for API GW: 38 ---\n",
      "      Forecasting position: GK \n",
      "         Found 0 DGW players and 65 SGW players.\n",
      "         Running prediction for 65 fixtures...\n",
      "         Raw fixture forecasts stored for 65 fixtures.\n",
      "      Forecasting position: DEF \n",
      "         Found 0 DGW players and 205 SGW players.\n",
      "         Running prediction for 205 fixtures...\n",
      "         Raw fixture forecasts stored for 205 fixtures.\n",
      "      Forecasting position: MID \n",
      "         Found 0 DGW players and 270 SGW players.\n",
      "         Running prediction for 270 fixtures...\n",
      "         Raw fixture forecasts stored for 270 fixtures.\n",
      "      Forecasting position: FWD \n",
      "         Found 0 DGW players and 65 SGW players.\n",
      "         Running prediction for 65 fixtures...\n",
      "         Raw fixture forecasts stored for 65 fixtures.\n"
     ]
    },
    {
     "name": "stdout",
     "output_type": "stream",
     "text": [
      "\n",
      "--- Aggregating, Unscaling and Finalizing Forecasts ---\n"
     ]
    },
    {
     "name": "stdout",
     "output_type": "stream",
     "text": [
      "Final forecast data frame created with team names and DGW handling.\n"
     ]
    },
    {
     "name": "stdout",
     "output_type": "stream",
     "text": [
      "Rows: 4,076\n",
      "Columns: 10\n",
      "$ GW               \u001b[3m\u001b[90m<int>\u001b[39m\u001b[23m 32, 32, 32, 32, 32, 32, 32, 32, 32, 32, 32, 32, 32, 3…\n",
      "$ player_id        \u001b[3m\u001b[90m<dbl>\u001b[39m\u001b[23m 247, 986, 1048, 943, 374, 176, 866, 147, 254, 419, 10…\n",
      "$ name             \u001b[3m\u001b[90m<chr>\u001b[39m\u001b[23m \"Cole Palmer\", \"Nicolas Jackson\", \"Phil Foden\", \"Moha…\n",
      "$ position         \u001b[3m\u001b[90m<chr>\u001b[39m\u001b[23m \"mid\", \"fwd\", \"mid\", \"mid\", \"fwd\", \"mid\", \"mid\", \"def…\n",
      "$ team             \u001b[3m\u001b[90m<chr>\u001b[39m\u001b[23m \"Man City\", \"Chelsea\", \"Man City\", \"Liverpool\", \"Man …\n",
      "$ value            \u001b[3m\u001b[90m<dbl>\u001b[39m\u001b[23m 45, 70, 80, 130, 115, 80, 65, 45, 60, 60, 75, 55, 50,…\n",
      "$ opponent_display \u001b[3m\u001b[90m<chr>\u001b[39m\u001b[23m \"Man City (DGW)\", \"Man City (DGW)\", \"Everton\", \"Newca…\n",
      "$ is_home_display  \u001b[3m\u001b[90m<chr>\u001b[39m\u001b[23m \"0 (DGW)\", \"0 (DGW)\", \"1\", \"0\", \"1\", \"1\", \"1\", \"1\", \"…\n",
      "$ num_fixtures     \u001b[3m\u001b[90m<int>\u001b[39m\u001b[23m 2, 2, 1, 1, 1, 1, 1, 1, 2, 1, 1, 1, 2, 1, 1, 1, 1, 2,…\n",
      "$ predicted_points \u001b[3m\u001b[90m<dbl>\u001b[39m\u001b[23m 11.31, 9.44, 5.65, 5.24, 5.15, 4.85, 4.73, 4.51, 4.42…\n"
     ]
    },
    {
     "name": "stdout",
     "output_type": "stream",
     "text": [
      "Final future forecasts saved to Future_Forecasts_API_GW32_to_GW38_Final_DGW_Summed.csv \n"
     ]
    }
   ],
   "source": [
    "num_previous_full_seasons <- 2 # Set this correctly\n",
    "# --- End User Input ---\n",
    "\n",
    "# 1. Determine Starting GWs (Historical and API)\n",
    "#--------------------------------------------\n",
    "if (!exists(\"alternativsammensatt\") || !(\"GW\" %in% names(alternativsammensatt))) {\n",
    "  stop(\"The 'alternativsammensatt' dataframe is missing or does not contain the 'GW' column.\")\n",
    "}\n",
    "last_historical_gw <- max(alternativsammensatt$GW, na.rm = TRUE)\n",
    "current_api_gw <- last_historical_gw - (num_previous_full_seasons * 38)\n",
    "target_api_gws <- (current_api_gw + 1):(current_api_gw + antall_uker)\n",
    "\n",
    "cat(\"Last Historical GW in data:\", last_historical_gw, \"\\n\")\n",
    "cat(\"Corresponding Current API GW:\", current_api_gw, \"\\n\")\n",
    "cat(\"Forecasting for API GWs:\", paste(target_api_gws, collapse = \", \"), \"\\n\")\n",
    "\n",
    "if (any(target_api_gws > 38)) {\n",
    "    cat(\"WARNING: Target API GWs exceed 38. Ensure 'future_fixtures' contains data for the next season if applicable.\\n\")\n",
    "}\n",
    "if (any(target_api_gws < 1)) {\n",
    "    stop(\"Calculated target API GWs are less than 1. Check 'num_previous_full_seasons' calculation.\")\n",
    "}\n",
    "\n",
    "# 2. Get Fixtures for Future API Gameweeks\n",
    "#--------------------------------------------\n",
    "if (!exists(\"future_fixtures\") || !all(c(\"GW\", \"team_id\", \"opponent_id\", \"is_home\") %in% names(future_fixtures))) {\n",
    "  stop(\"The 'future_fixtures' dataframe is missing or does not have the required columns (GW, team_id, opponent_id, is_home). It should use API GW numbering (1-38).\")\n",
    "}\n",
    "future_fixtures_filtered <- future_fixtures %>%\n",
    "  filter(GW %in% target_api_gws) %>%\n",
    "  mutate(across(c(team_id, opponent_id), as.integer))\n",
    "\n",
    "if (nrow(future_fixtures_filtered) == 0) {\n",
    "    stop(\"No API fixture data found for the target API gameweeks: \", paste(target_api_gws, collapse=\", \"))\n",
    "}\n",
    "cat(\"Fixture data loaded for target API GWs.\\n\")\n",
    "\n",
    "# 3. Prepare Base Input Data (Once per position)\n",
    "#--------------------------------------------\n",
    "base_input_list <- list()\n",
    "all_player_metadata <- list()\n",
    "\n",
    "for (pos in c(\"gk\", \"def\", \"mid\", \"fwd\")) {\n",
    "  cat(\"\\n--- Preparing base input for position:\", toupper(pos), \"---\\n\")\n",
    "  if (!pos %in% names(model_list)) { cat(\"   Skipping: Model not found for\", pos, \"\\n\"); next }\n",
    "  if (!pos %in% names(scaling_factors)) { cat(\"   Skipping: Scaling factors not found for\", pos, \"\\n\"); next }\n",
    "  current_model <- model_list[[pos]]\n",
    "  current_mu <- scaling_factors[[pos]]$mu\n",
    "  current_sigma <- scaling_factors[[pos]]$sigma\n",
    "  current_numF <- scaling_factors[[pos]]$numF\n",
    "  if (!exists(pos)) { cat(\"   Skipping: Scaled data frame '\", pos, \"' not found.\\n\"); next }\n",
    "  if (!exists(paste0(\"unscaled_\", pos))) { cat(\"   Skipping: Unscaled data frame 'unscaled_\", pos, \"' not found.\\n\"); next }\n",
    "  scaled_data <- get(pos)\n",
    "  unscaled_data_minimal <- get(paste0(\"unscaled_\", pos)) %>%\n",
    "                           distinct(player_id, name, position, team, value)\n",
    "  all_player_metadata[[pos]] <- unscaled_data_minimal\n",
    "  active_players_pos <- scaled_data %>%\n",
    "    filter(GW == last_historical_gw) %>%\n",
    "    distinct(player_id, tID) %>%\n",
    "    mutate(across(c(player_id, tID), as.integer))\n",
    "  if (nrow(active_players_pos) == 0) {\n",
    "    cat(\"   No active players found for\", toupper(pos), \"in Historical GW\", last_historical_gw, \". Skipping.\\n\")\n",
    "    next\n",
    "  }\n",
    "  base_input_data_pos <- scaled_data %>%\n",
    "    filter(player_id %in% active_players_pos$player_id) %>%\n",
    "    group_by(player_id) %>%\n",
    "    arrange(GW) %>%\n",
    "    slice_tail(n = vindu) %>%\n",
    "    filter(n() == vindu) %>%\n",
    "    ungroup()\n",
    "  players_with_history <- base_input_data_pos %>% distinct(player_id)\n",
    "  active_players_pos <- active_players_pos %>% filter(player_id %in% players_with_history$player_id)\n",
    "  n_forecast_pos <- nrow(active_players_pos)\n",
    "  if (n_forecast_pos == 0) {\n",
    "    cat(\"   No players with sufficient history (\\\", vindu, \\\"GWs) found for\\\", toupper(pos), \\\". Skipping.\\n\")\n",
    "    next\n",
    "  }\n",
    "  cat(\"   Base input data prepared for\", n_forecast_pos, \"players based on data up to Historical GW\", last_historical_gw, \".\\n\")\n",
    "  num_list <- base_input_data_pos %>%\n",
    "    select(player_id, all_of(current_numF)) %>%\n",
    "    arrange(match(player_id, active_players_pos$player_id)) %>%\n",
    "    group_by(player_id) %>%\n",
    "    group_split(.keep = FALSE) %>%\n",
    "    lapply(as.matrix)\n",
    "  base_num_array_pos <- array(\n",
    "    unlist(num_list),\n",
    "    dim = c(n_forecast_pos, vindu, length(current_numF))\n",
    "  )\n",
    "  base_cat_player_id_pos <- matrix(as.integer(active_players_pos$player_id), ncol = 1)\n",
    "  base_cat_tID_pos <- matrix(as.integer(active_players_pos$tID), ncol = 1)\n",
    "  base_input_list[[pos]] <- list(\n",
    "      active_players = active_players_pos,\n",
    "      num_array = base_num_array_pos,\n",
    "      cat_player_id = base_cat_player_id_pos,\n",
    "      cat_tID = base_cat_tID_pos,\n",
    "      mu = current_mu,\n",
    "      sigma = current_sigma\n",
    "  )\n",
    "}\n",
    "all_player_metadata_df <- bind_rows(all_player_metadata) %>% distinct(player_id, .keep_all = TRUE)\n",
    "\n",
    "# 4. Forecast Loop (Predicting for each fixture in target GWs)\n",
    "#--------------------------------------------\n",
    "all_fixture_forecasts_list <- list() # Store predictions PER FIXTURE\n",
    "\n",
    "for (gw_api_to_predict in target_api_gws) {\n",
    "    cat(\"\\n--- Forecasting for API GW:\", gw_api_to_predict, \"---\\n\")\n",
    "    future_fixtures_gw <- future_fixtures_filtered %>% filter(GW == gw_api_to_predict)\n",
    "    if (nrow(future_fixtures_gw) == 0) {\n",
    "        cat(\"   WARNING: No fixture data found for API GW\", gw_api_to_predict, \". Skipping this GW.\\n\")\n",
    "        next\n",
    "    }\n",
    "\n",
    "    forecasts_this_gw_list <- list()\n",
    "\n",
    "    for (pos in names(base_input_list)) {\n",
    "        cat(\"      Forecasting position:\", toupper(pos), \"\\n\")\n",
    "        base_inputs <- base_input_list[[pos]]\n",
    "        current_model <- model_list[[pos]]\n",
    "\n",
    "        # Prepare inputs for *each fixture* this GW for active players in this position\n",
    "        fixture_inputs_gw_pos <- base_inputs$active_players %>%\n",
    "          inner_join(future_fixtures_gw, by = c(\"tID\" = \"team_id\"), relationship = \"many-to-many\") %>% # Join players to ALL their fixtures this GW\n",
    "          select(player_id, tID, opponent_id = opponent_id, is_home = is_home) %>%\n",
    "          arrange(player_id) # Arrange by player_id to group fixtures\n",
    "\n",
    "        if (nrow(fixture_inputs_gw_pos) == 0) {\n",
    "            cat(\"         No players with fixtures found for this position in GW\", gw_api_to_predict, \"\\n\")\n",
    "            next\n",
    "        }\n",
    "\n",
    "        # Identify which players have DGWs *within this position's active players*\n",
    "        player_fixture_counts <- fixture_inputs_gw_pos %>% count(player_id)\n",
    "        dgw_players_pos <- player_fixture_counts %>% filter(n > 1) %>% pull(player_id)\n",
    "        sgw_players_pos <- player_fixture_counts %>% filter(n == 1) %>% pull(player_id)\n",
    "\n",
    "        cat(\"         Found\", length(dgw_players_pos), \"DGW players and\", length(sgw_players_pos), \"SGW players.\\n\")\n",
    "\n",
    "        # Prepare arrays - need to potentially duplicate base arrays for DGW players\n",
    "        # Find indices of players in the original base arrays\n",
    "        player_indices <- match(fixture_inputs_gw_pos$player_id, base_inputs$active_players$player_id)\n",
    "\n",
    "        # Replicate base arrays according to the fixture list\n",
    "        num_array_predict <- base_inputs$num_array[player_indices, , , drop = FALSE]\n",
    "        cat_player_id_predict <- base_inputs$cat_player_id[player_indices, , drop = FALSE]\n",
    "        cat_tID_predict <- base_inputs$cat_tID[player_indices, , drop = FALSE]\n",
    "\n",
    "        # Prepare dynamic categorical inputs (already ordered by player_id)\n",
    "        cat_oID_predict <- matrix(as.integer(fixture_inputs_gw_pos$opponent_id), ncol = 1)\n",
    "        cat_hID_predict <- matrix(as.integer(fixture_inputs_gw_pos$is_home), ncol = 1)\n",
    "\n",
    "        # Dimension check\n",
    "        stopifnot(\n",
    "            nrow(num_array_predict) == nrow(cat_player_id_predict),\n",
    "            nrow(num_array_predict) == nrow(cat_tID_predict),\n",
    "            nrow(num_array_predict) == nrow(cat_oID_predict),\n",
    "            nrow(num_array_predict) == nrow(cat_hID_predict),\n",
    "            nrow(num_array_predict) == nrow(fixture_inputs_gw_pos) # Ensure all dimensions match the number of fixtures to predict\n",
    "        )\n",
    "\n",
    "        # Predict for ALL fixtures at once\n",
    "        cat(\"         Running prediction for\", nrow(num_array_predict) ,\"fixtures...\\n\")\n",
    "        pred_future_scaled <- current_model %>% predict(\n",
    "          list(\n",
    "            input_seq = num_array_predict,\n",
    "            input_player_id = cat_player_id_predict,\n",
    "            input_tID = cat_tID_predict,\n",
    "            input_oID = cat_oID_predict,\n",
    "            input_hID = cat_hID_predict\n",
    "          )\n",
    "        )\n",
    "\n",
    "        # Store raw scaled predictions PER FIXTURE\n",
    "        future_preds_per_fixture <- tibble(\n",
    "          player_id = fixture_inputs_gw_pos$player_id,\n",
    "          GW = gw_api_to_predict, # API GW number\n",
    "          position = pos,\n",
    "          opponent_id = fixture_inputs_gw_pos$opponent_id,\n",
    "          is_home = fixture_inputs_gw_pos$is_home,\n",
    "          predicted_points_scaled_fixture = as.vector(pred_future_scaled)\n",
    "        )\n",
    "\n",
    "        forecasts_this_gw_list[[pos]] <- future_preds_per_fixture\n",
    "        cat(\"         Raw fixture forecasts stored for\", nrow(future_preds_per_fixture), \"fixtures.\\n\")\n",
    "    }\n",
    "    # Add all fixture forecasts for this GW to the main list\n",
    "    all_fixture_forecasts_list[[as.character(gw_api_to_predict)]] <- bind_rows(forecasts_this_gw_list)\n",
    "}\n",
    "\n",
    "# 5. Aggregate Predictions per GW, Unscale, and Finalize\n",
    "#--------------------------------------------\n",
    "future_forecast_df_raw_fixtures <- bind_rows(all_fixture_forecasts_list)\n",
    "\n",
    "if (nrow(future_forecast_df_raw_fixtures) == 0) {\n",
    "    stop(\"No future fixture forecasts were generated.\")\n",
    "}\n",
    "\n",
    "cat(\"\\n--- Aggregating, Unscaling and Finalizing Forecasts ---\\n\")\n",
    "\n",
    "# Aggregate scaled predictions by summing per player per GW\n",
    "future_forecast_df_aggregated_scaled <- future_forecast_df_raw_fixtures %>%\n",
    "  group_by(player_id, GW, position) %>%\n",
    "  summarise(\n",
    "    predicted_total_points_scaled = sum(predicted_points_scaled_fixture, na.rm = TRUE),\n",
    "    num_fixtures = n(), # Keep track of how many fixtures were summed\n",
    "    # Keep first opponent/home status for display purposes (or create a combined string)\n",
    "    first_opponent_id = first(opponent_id),\n",
    "    first_is_home = first(is_home),\n",
    "    .groups = 'drop'\n",
    "  )\n",
    "\n",
    "# Unscale the *aggregated* predictions\n",
    "future_forecast_df_unscaled <- future_forecast_df_aggregated_scaled %>%\n",
    "  mutate(\n",
    "    mu = map_dbl(position, ~ scaling_factors[[.x]]$mu),\n",
    "    sigma = map_dbl(position, ~ scaling_factors[[.x]]$sigma),\n",
    "    predicted_total_points = predicted_total_points_scaled * sigma + mu,\n",
    "    predicted_total_points = round(predicted_total_points, 2)\n",
    "  ) %>%\n",
    "  select(-predicted_total_points_scaled, -mu, -sigma)\n",
    "\n",
    "# 6. Translate IDs to Strings\n",
    "#--------------------------------------------\n",
    "if (!exists(\"team_mapping\") || !all(c(\"team_id\", \"team_name\") %in% names(team_mapping))) {\n",
    "  stop(\"The 'team_mapping' dataframe is missing or does not have 'team_id' and 'team_name' columns.\")\n",
    "}\n",
    "team_mapping <- team_mapping %>% mutate(team_id = as.integer(team_id))\n",
    "\n",
    "future_forecast_df_final <- future_forecast_df_unscaled %>%\n",
    "  left_join(all_player_metadata_df, by = \"player_id\", suffix = c(\"\", \".meta\")) %>%\n",
    "  # Join opponent team name based on the *first* opponent ID\n",
    "  left_join(team_mapping %>% select(first_opponent_id = team_id, opponent_team_name = team_name),\n",
    "            by = \"first_opponent_id\") %>%\n",
    "  # Handle NO_FIXTURE case (if opponent ID was 0)\n",
    "  mutate(opponent_display = ifelse(first_opponent_id == 0, \"NO_FIXTURE\",\n",
    "                             ifelse(num_fixtures > 1, paste0(opponent_team_name, \" (DGW)\"), opponent_team_name)),\n",
    "         is_home_display = ifelse(first_opponent_id == 0, NA_character_,\n",
    "                             ifelse(num_fixtures > 1, paste0(first_is_home, \" (DGW)\"), as.character(first_is_home)))\n",
    "         ) %>%\n",
    "  # Select and arrange final columns\n",
    "  select(\n",
    "    GW, # API GW\n",
    "    player_id,\n",
    "    name,\n",
    "    position = position,\n",
    "    team = team,\n",
    "    value = value,\n",
    "    opponent_display, # Shows first opponent, notes DGW\n",
    "    is_home_display,  # Shows first fixture home/away, notes DGW\n",
    "    num_fixtures,     # Number of fixtures in this GW\n",
    "    predicted_points = predicted_total_points\n",
    "  ) %>%\n",
    "  arrange(GW, desc(predicted_points))\n",
    "\n",
    "cat(\"Final forecast data frame created with team names and DGW handling.\\n\")\n",
    "glimpse(future_forecast_df_final)\n",
    "\n",
    "# 7. Export the Final Forecasts\n",
    "#--------------------------------------------\n",
    "future_filename <- paste0(\"Future_Forecasts_API_GW\", min(target_api_gws), \"_to_GW\", max(target_api_gws), \"_Final_DGW_Summed.csv\")\n",
    "write_csv(future_forecast_df_final, future_filename)\n",
    "cat(\"Final future forecasts saved to\", future_filename, \"\\n\")"
   ]
  }
 ],
 "metadata": {
  "kaggle": {
   "accelerator": "none",
   "dataSources": [
    {
     "databundleVersionId": 11952692,
     "datasetId": 7123461,
     "sourceId": 11504227,
     "sourceType": "datasetVersion"
    }
   ],
   "dockerImageVersionId": 30749,
   "isGpuEnabled": false,
   "isInternetEnabled": true,
   "language": "r",
   "sourceType": "notebook"
  },
  "kernelspec": {
   "display_name": "R",
   "language": "R",
   "name": "ir"
  },
  "language_info": {
   "codemirror_mode": "r",
   "file_extension": ".r",
   "mimetype": "text/x-r-source",
   "name": "R",
   "pygments_lexer": "r",
   "version": "4.4.0"
  },
  "papermill": {
   "default_parameters": {},
   "duration": 2418.659314,
   "end_time": "2025-04-22T11:39:50.385174",
   "environment_variables": {},
   "exception": null,
   "input_path": "__notebook__.ipynb",
   "output_path": "__notebook__.ipynb",
   "parameters": {},
   "start_time": "2025-04-22T10:59:31.725860",
   "version": "2.6.0"
  }
 },
 "nbformat": 4,
 "nbformat_minor": 5
}
