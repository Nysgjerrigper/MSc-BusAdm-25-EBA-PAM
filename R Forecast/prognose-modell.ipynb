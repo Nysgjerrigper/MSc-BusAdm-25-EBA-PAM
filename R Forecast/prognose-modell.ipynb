{
 "cells": [
  {
   "cell_type": "markdown",
   "id": "059d4d43",
   "metadata": {
    "_cell_guid": "2dcb9385-4646-42f7-8db6-6cf0b2a1701c",
    "_uuid": "6963277d-bade-480b-9e26-5e51b7b42c87",
    "collapsed": false,
    "jupyter": {
     "outputs_hidden": false
    },
    "papermill": {
     "duration": 0.016419,
     "end_time": "2025-04-17T20:05:44.940872",
     "exception": false,
     "start_time": "2025-04-17T20:05:44.924453",
     "status": "completed"
    },
    "tags": []
   },
   "source": [
    "# Prognoser med LSTM for FPL"
   ]
  },
  {
   "cell_type": "markdown",
   "id": "1316c7ca",
   "metadata": {
    "_cell_guid": "0162c7bf-26cb-4504-86be-1710a095a0e2",
    "_uuid": "5ae4486c-b0d3-4a2a-9ca4-f98a4ffb713f",
    "collapsed": false,
    "jupyter": {
     "outputs_hidden": false
    },
    "papermill": {
     "duration": 0.014827,
     "end_time": "2025-04-17T20:05:44.969199",
     "exception": false,
     "start_time": "2025-04-17T20:05:44.954372",
     "status": "completed"
    },
    "tags": []
   },
   "source": [
    "## Table of Contents\n",
    "\n",
    "- [Preamble](#0:-Preamble)\n",
    "- [0.2: Bruker inndata](#0.2:-Bruker-inndata)\n",
    "- [Målvakter](#1:-Målvakter)\n",
    "- [Forsvarsspillere](#2:-Forsvarsspillere)\n",
    "- [Midtbanespillere](#3:-Midtbanespillere)\n",
    "- [Angrepsspillere](#4:-Angrepsspillere)\n",
    "- [Eksporter prognoser](#Eksporter)"
   ]
  },
  {
   "cell_type": "markdown",
   "id": "79eab34e",
   "metadata": {
    "_cell_guid": "ea99ffcc-7841-4ffd-9965-18baed80f825",
    "_uuid": "c280f3b7-dfb1-45a9-a2a6-d2867730974f",
    "collapsed": false,
    "jupyter": {
     "outputs_hidden": false
    },
    "papermill": {
     "duration": 0.014026,
     "end_time": "2025-04-17T20:05:44.999458",
     "exception": false,
     "start_time": "2025-04-17T20:05:44.985432",
     "status": "completed"
    },
    "tags": []
   },
   "source": [
    "## 0: Preamble"
   ]
  },
  {
   "cell_type": "code",
   "execution_count": 7,
   "id": "e91094f9",
   "metadata": {
    "_cell_guid": "2411ba70-143b-4ffa-901e-417493c5c421",
    "_uuid": "50e7082e-b31d-4860-b34f-4d5b0ca65b97",
    "collapsed": false,
    "execution": {
     "iopub.execute_input": "2025-04-17T20:05:45.031042Z",
     "iopub.status.busy": "2025-04-17T20:05:45.028824Z",
     "iopub.status.idle": "2025-04-17T20:06:04.274750Z",
     "shell.execute_reply": "2025-04-17T20:06:04.272567Z"
    },
    "jupyter": {
     "outputs_hidden": false
    },
    "papermill": {
     "duration": 19.264283,
     "end_time": "2025-04-17T20:06:04.277792",
     "exception": false,
     "start_time": "2025-04-17T20:05:45.013509",
     "status": "completed"
    },
    "tags": [],
    "vscode": {
     "languageId": "r"
    }
   },
   "outputs": [
    {
     "data": {
      "text/plain": [
       "tf.Tensor(b'hello', shape=(), dtype=string)"
      ]
     },
     "metadata": {},
     "output_type": "display_data"
    }
   ],
   "source": [
    "rm(list = ls(all = TRUE))\n",
    "\n",
    "## 0: Preamble ----\n",
    "#install.packages(\"glmnet\");install.packages(\"\")\n",
    "library(keras3)\n",
    "library(tidyverse)\n",
    "library(slider)\n",
    "#install_keras()\n",
    "#library(tensorflow)\n",
    "library(glmnet)\n",
    "\n",
    "op_convert_to_tensor(\"hello\")"
   ]
  },
  {
   "cell_type": "markdown",
   "id": "8572a2ff",
   "metadata": {
    "_cell_guid": "2a8f3483-a58b-4d67-aaba-75cc7e086ed4",
    "_uuid": "6692e4ac-2d8d-43ac-b1b6-70fd2cff6791",
    "collapsed": false,
    "jupyter": {
     "outputs_hidden": false
    },
    "papermill": {
     "duration": 0.022516,
     "end_time": "2025-04-17T20:06:04.324454",
     "exception": false,
     "start_time": "2025-04-17T20:06:04.301938",
     "status": "completed"
    },
    "tags": []
   },
   "source": [
    "## 0.2: Bruker inndata"
   ]
  },
  {
   "cell_type": "code",
   "execution_count": 8,
   "id": "2672a91b",
   "metadata": {
    "_cell_guid": "facdb329-6811-4c98-8836-1b9b9ec962d4",
    "_uuid": "503b5f7d-208a-4003-a240-c1085c980da1",
    "collapsed": false,
    "execution": {
     "iopub.execute_input": "2025-04-17T20:06:04.401825Z",
     "iopub.status.busy": "2025-04-17T20:06:04.366248Z",
     "iopub.status.idle": "2025-04-17T20:06:04.420128Z",
     "shell.execute_reply": "2025-04-17T20:06:04.417918Z"
    },
    "jupyter": {
     "outputs_hidden": false
    },
    "papermill": {
     "duration": 0.074494,
     "end_time": "2025-04-17T20:06:04.423203",
     "exception": false,
     "start_time": "2025-04-17T20:06:04.348709",
     "status": "completed"
    },
    "tags": [],
    "vscode": {
     "languageId": "r"
    }
   },
   "outputs": [],
   "source": [
    "epoker <- 2\n",
    "vindu <- 4"
   ]
  },
  {
   "cell_type": "markdown",
   "id": "5983ce0e",
   "metadata": {
    "_cell_guid": "65eb8915-4b7f-4a28-bef6-f93a170d256a",
    "_uuid": "c421ccda-1951-4107-8c49-b5ad15ce8c0f",
    "collapsed": false,
    "jupyter": {
     "outputs_hidden": false
    },
    "papermill": {
     "duration": 0.014628,
     "end_time": "2025-04-17T20:06:04.455291",
     "exception": false,
     "start_time": "2025-04-17T20:06:04.440663",
     "status": "completed"
    },
    "tags": []
   },
   "source": [
    "## 0.3: Hent data"
   ]
  },
  {
   "cell_type": "code",
   "execution_count": 9,
   "id": "b184420d",
   "metadata": {
    "_cell_guid": "c234b2e3-7bca-424b-8045-d6e50311885c",
    "_uuid": "bc76cc6a-3eee-448a-ae44-b55724532df5",
    "collapsed": false,
    "execution": {
     "iopub.execute_input": "2025-04-17T20:06:04.492204Z",
     "iopub.status.busy": "2025-04-17T20:06:04.489454Z",
     "iopub.status.idle": "2025-04-17T20:06:05.420161Z",
     "shell.execute_reply": "2025-04-17T20:06:05.418381Z"
    },
    "jupyter": {
     "outputs_hidden": false
    },
    "papermill": {
     "duration": 0.951718,
     "end_time": "2025-04-17T20:06:05.422786",
     "exception": false,
     "start_time": "2025-04-17T20:06:04.471068",
     "status": "completed"
    },
    "tags": [],
    "vscode": {
     "languageId": "r"
    }
   },
   "outputs": [
    {
     "name": "stderr",
     "output_type": "stream",
     "text": [
      "\u001b[1mRows: \u001b[22m\u001b[34m76472\u001b[39m \u001b[1mColumns: \u001b[22m\u001b[34m45\u001b[39m\n",
      "\u001b[36m──\u001b[39m \u001b[1mColumn specification\u001b[22m \u001b[36m────────────────────────────────────────────────────────\u001b[39m\n",
      "\u001b[1mDelimiter:\u001b[22m \",\"\n",
      "\u001b[31mchr\u001b[39m   (4): name, position, team, opponent_team\n",
      "\u001b[32mdbl\u001b[39m  (39): xP, assists, bonus, bps, clean_sheets, creativity, expected_assis...\n",
      "\u001b[33mlgl\u001b[39m   (1): was_home\n",
      "\u001b[34mdttm\u001b[39m  (1): kickoff_time\n",
      "\n",
      "\u001b[36mℹ\u001b[39m Use `spec()` to retrieve the full column specification for this data.\n",
      "\u001b[36mℹ\u001b[39m Specify the column types or set `show_col_types = FALSE` to quiet this message.\n"
     ]
    }
   ],
   "source": [
    "df <- read_csv(\"https://raw.githubusercontent.com/Nysgjerrigper/test/refs/heads/main/Datasett/Ekstra%20kolonner%2C%20stigende%20GW%2C%20alle%20tre%20sesonger(22-24)%2C%20heltall.csv\")\n",
    "alternativsammensatt <- df"
   ]
  },
  {
   "cell_type": "code",
   "execution_count": 10,
   "id": "230c294f",
   "metadata": {
    "_cell_guid": "c000f5d6-5a41-43cc-803c-764e1b1add0b",
    "_uuid": "5adadcec-1243-4099-af17-658d6ccc0470",
    "collapsed": false,
    "execution": {
     "iopub.execute_input": "2025-04-17T20:06:05.464170Z",
     "iopub.status.busy": "2025-04-17T20:06:05.461709Z",
     "iopub.status.idle": "2025-04-17T20:06:06.875216Z",
     "shell.execute_reply": "2025-04-17T20:06:06.873380Z"
    },
    "jupyter": {
     "outputs_hidden": false
    },
    "papermill": {
     "duration": 1.434152,
     "end_time": "2025-04-17T20:06:06.878680",
     "exception": false,
     "start_time": "2025-04-17T20:06:05.444528",
     "status": "completed"
    },
    "tags": [],
    "vscode": {
     "languageId": "r"
    }
   },
   "outputs": [
    {
     "data": {
      "text/html": [
       "<dl>\n",
       "\t<dt>$gk</dt>\n",
       "\t\t<dd><table class=\"dataframe\">\n",
       "<caption>A tibble: 1 × 45</caption>\n",
       "<thead>\n",
       "\t<tr><th scope=col>name</th><th scope=col>position</th><th scope=col>team</th><th scope=col>xP</th><th scope=col>assists</th><th scope=col>bonus</th><th scope=col>bps</th><th scope=col>clean_sheets</th><th scope=col>creativity</th><th scope=col>expected_assists</th><th scope=col>⋯</th><th scope=col>transfers_out</th><th scope=col>value</th><th scope=col>was_home</th><th scope=col>yellow_cards</th><th scope=col>GW</th><th scope=col>player_id</th><th scope=col>oID</th><th scope=col>tID</th><th scope=col>hID</th><th scope=col>row_id</th></tr>\n",
       "\t<tr><th scope=col>&lt;chr&gt;</th><th scope=col>&lt;chr&gt;</th><th scope=col>&lt;chr&gt;</th><th scope=col>&lt;dbl&gt;</th><th scope=col>&lt;dbl&gt;</th><th scope=col>&lt;dbl&gt;</th><th scope=col>&lt;dbl&gt;</th><th scope=col>&lt;dbl&gt;</th><th scope=col>&lt;dbl&gt;</th><th scope=col>&lt;dbl&gt;</th><th scope=col>⋯</th><th scope=col>&lt;dbl&gt;</th><th scope=col>&lt;dbl&gt;</th><th scope=col>&lt;lgl&gt;</th><th scope=col>&lt;dbl&gt;</th><th scope=col>&lt;dbl&gt;</th><th scope=col>&lt;dbl&gt;</th><th scope=col>&lt;dbl&gt;</th><th scope=col>&lt;dbl&gt;</th><th scope=col>&lt;dbl&gt;</th><th scope=col>&lt;dbl&gt;</th></tr>\n",
       "</thead>\n",
       "<tbody>\n",
       "\t<tr><td>Aaron Ramsdale</td><td>GK</td><td>Arsenal</td><td>3.6</td><td>0</td><td>0</td><td>25</td><td>1</td><td>0</td><td>0</td><td>⋯</td><td>0</td><td>50</td><td>FALSE</td><td>0</td><td>1</td><td>5</td><td>8</td><td>1</td><td>0</td><td>254</td></tr>\n",
       "</tbody>\n",
       "</table>\n",
       "</dd>\n",
       "\t<dt>$def</dt>\n",
       "\t\t<dd><table class=\"dataframe\">\n",
       "<caption>A tibble: 1 × 45</caption>\n",
       "<thead>\n",
       "\t<tr><th scope=col>name</th><th scope=col>position</th><th scope=col>team</th><th scope=col>xP</th><th scope=col>assists</th><th scope=col>bonus</th><th scope=col>bps</th><th scope=col>clean_sheets</th><th scope=col>creativity</th><th scope=col>expected_assists</th><th scope=col>⋯</th><th scope=col>transfers_out</th><th scope=col>value</th><th scope=col>was_home</th><th scope=col>yellow_cards</th><th scope=col>GW</th><th scope=col>player_id</th><th scope=col>oID</th><th scope=col>tID</th><th scope=col>hID</th><th scope=col>row_id</th></tr>\n",
       "\t<tr><th scope=col>&lt;chr&gt;</th><th scope=col>&lt;chr&gt;</th><th scope=col>&lt;chr&gt;</th><th scope=col>&lt;dbl&gt;</th><th scope=col>&lt;dbl&gt;</th><th scope=col>&lt;dbl&gt;</th><th scope=col>&lt;dbl&gt;</th><th scope=col>&lt;dbl&gt;</th><th scope=col>&lt;dbl&gt;</th><th scope=col>&lt;dbl&gt;</th><th scope=col>⋯</th><th scope=col>&lt;dbl&gt;</th><th scope=col>&lt;dbl&gt;</th><th scope=col>&lt;lgl&gt;</th><th scope=col>&lt;dbl&gt;</th><th scope=col>&lt;dbl&gt;</th><th scope=col>&lt;dbl&gt;</th><th scope=col>&lt;dbl&gt;</th><th scope=col>&lt;dbl&gt;</th><th scope=col>&lt;dbl&gt;</th><th scope=col>&lt;dbl&gt;</th></tr>\n",
       "</thead>\n",
       "<tbody>\n",
       "\t<tr><td>Aaron Anselmino</td><td>DEF</td><td>Chelsea</td><td>1.8</td><td>0</td><td>0</td><td>0</td><td>0</td><td>0</td><td>0</td><td>⋯</td><td>0</td><td>40</td><td>FALSE</td><td>0</td><td>101</td><td>1</td><td>5</td><td>7</td><td>0</td><td>1</td></tr>\n",
       "</tbody>\n",
       "</table>\n",
       "</dd>\n",
       "\t<dt>$mid</dt>\n",
       "\t\t<dd><table class=\"dataframe\">\n",
       "<caption>A tibble: 1 × 45</caption>\n",
       "<thead>\n",
       "\t<tr><th scope=col>name</th><th scope=col>position</th><th scope=col>team</th><th scope=col>xP</th><th scope=col>assists</th><th scope=col>bonus</th><th scope=col>bps</th><th scope=col>clean_sheets</th><th scope=col>creativity</th><th scope=col>expected_assists</th><th scope=col>⋯</th><th scope=col>transfers_out</th><th scope=col>value</th><th scope=col>was_home</th><th scope=col>yellow_cards</th><th scope=col>GW</th><th scope=col>player_id</th><th scope=col>oID</th><th scope=col>tID</th><th scope=col>hID</th><th scope=col>row_id</th></tr>\n",
       "\t<tr><th scope=col>&lt;chr&gt;</th><th scope=col>&lt;chr&gt;</th><th scope=col>&lt;chr&gt;</th><th scope=col>&lt;dbl&gt;</th><th scope=col>&lt;dbl&gt;</th><th scope=col>&lt;dbl&gt;</th><th scope=col>&lt;dbl&gt;</th><th scope=col>&lt;dbl&gt;</th><th scope=col>&lt;dbl&gt;</th><th scope=col>&lt;dbl&gt;</th><th scope=col>⋯</th><th scope=col>&lt;dbl&gt;</th><th scope=col>&lt;dbl&gt;</th><th scope=col>&lt;lgl&gt;</th><th scope=col>&lt;dbl&gt;</th><th scope=col>&lt;dbl&gt;</th><th scope=col>&lt;dbl&gt;</th><th scope=col>&lt;dbl&gt;</th><th scope=col>&lt;dbl&gt;</th><th scope=col>&lt;dbl&gt;</th><th scope=col>&lt;dbl&gt;</th></tr>\n",
       "</thead>\n",
       "<tbody>\n",
       "\t<tr><td>Aaron Ramsey</td><td>MID</td><td>Burnley</td><td>1.2</td><td>0</td><td>0</td><td>3</td><td>0</td><td>1</td><td>0.01</td><td>⋯</td><td>51</td><td>50</td><td>TRUE</td><td>0</td><td>41</td><td>6</td><td>2</td><td>6</td><td>1</td><td>359</td></tr>\n",
       "</tbody>\n",
       "</table>\n",
       "</dd>\n",
       "\t<dt>$fwd</dt>\n",
       "\t\t<dd><table class=\"dataframe\">\n",
       "<caption>A tibble: 1 × 45</caption>\n",
       "<thead>\n",
       "\t<tr><th scope=col>name</th><th scope=col>position</th><th scope=col>team</th><th scope=col>xP</th><th scope=col>assists</th><th scope=col>bonus</th><th scope=col>bps</th><th scope=col>clean_sheets</th><th scope=col>creativity</th><th scope=col>expected_assists</th><th scope=col>⋯</th><th scope=col>transfers_out</th><th scope=col>value</th><th scope=col>was_home</th><th scope=col>yellow_cards</th><th scope=col>GW</th><th scope=col>player_id</th><th scope=col>oID</th><th scope=col>tID</th><th scope=col>hID</th><th scope=col>row_id</th></tr>\n",
       "\t<tr><th scope=col>&lt;chr&gt;</th><th scope=col>&lt;chr&gt;</th><th scope=col>&lt;chr&gt;</th><th scope=col>&lt;dbl&gt;</th><th scope=col>&lt;dbl&gt;</th><th scope=col>&lt;dbl&gt;</th><th scope=col>&lt;dbl&gt;</th><th scope=col>&lt;dbl&gt;</th><th scope=col>&lt;dbl&gt;</th><th scope=col>&lt;dbl&gt;</th><th scope=col>⋯</th><th scope=col>&lt;dbl&gt;</th><th scope=col>&lt;dbl&gt;</th><th scope=col>&lt;lgl&gt;</th><th scope=col>&lt;dbl&gt;</th><th scope=col>&lt;dbl&gt;</th><th scope=col>&lt;dbl&gt;</th><th scope=col>&lt;dbl&gt;</th><th scope=col>&lt;dbl&gt;</th><th scope=col>&lt;dbl&gt;</th><th scope=col>&lt;dbl&gt;</th></tr>\n",
       "</thead>\n",
       "<tbody>\n",
       "\t<tr><td>Aaron Connolly</td><td>FWD</td><td>Brighton</td><td>0</td><td>0</td><td>0</td><td>0</td><td>0</td><td>0</td><td>0</td><td>⋯</td><td>0</td><td>45</td><td>TRUE</td><td>0</td><td>39</td><td>2</td><td>15</td><td>5</td><td>1</td><td>6</td></tr>\n",
       "</tbody>\n",
       "</table>\n",
       "</dd>\n",
       "</dl>\n"
      ],
      "text/latex": [
       "\\begin{description}\n",
       "\\item[\\$gk] A tibble: 1 × 45\n",
       "\\begin{tabular}{lllllllllllllllllllll}\n",
       " name & position & team & xP & assists & bonus & bps & clean\\_sheets & creativity & expected\\_assists & ⋯ & transfers\\_out & value & was\\_home & yellow\\_cards & GW & player\\_id & oID & tID & hID & row\\_id\\\\\n",
       " <chr> & <chr> & <chr> & <dbl> & <dbl> & <dbl> & <dbl> & <dbl> & <dbl> & <dbl> & ⋯ & <dbl> & <dbl> & <lgl> & <dbl> & <dbl> & <dbl> & <dbl> & <dbl> & <dbl> & <dbl>\\\\\n",
       "\\hline\n",
       "\t Aaron Ramsdale & GK & Arsenal & 3.6 & 0 & 0 & 25 & 1 & 0 & 0 & ⋯ & 0 & 50 & FALSE & 0 & 1 & 5 & 8 & 1 & 0 & 254\\\\\n",
       "\\end{tabular}\n",
       "\n",
       "\\item[\\$def] A tibble: 1 × 45\n",
       "\\begin{tabular}{lllllllllllllllllllll}\n",
       " name & position & team & xP & assists & bonus & bps & clean\\_sheets & creativity & expected\\_assists & ⋯ & transfers\\_out & value & was\\_home & yellow\\_cards & GW & player\\_id & oID & tID & hID & row\\_id\\\\\n",
       " <chr> & <chr> & <chr> & <dbl> & <dbl> & <dbl> & <dbl> & <dbl> & <dbl> & <dbl> & ⋯ & <dbl> & <dbl> & <lgl> & <dbl> & <dbl> & <dbl> & <dbl> & <dbl> & <dbl> & <dbl>\\\\\n",
       "\\hline\n",
       "\t Aaron Anselmino & DEF & Chelsea & 1.8 & 0 & 0 & 0 & 0 & 0 & 0 & ⋯ & 0 & 40 & FALSE & 0 & 101 & 1 & 5 & 7 & 0 & 1\\\\\n",
       "\\end{tabular}\n",
       "\n",
       "\\item[\\$mid] A tibble: 1 × 45\n",
       "\\begin{tabular}{lllllllllllllllllllll}\n",
       " name & position & team & xP & assists & bonus & bps & clean\\_sheets & creativity & expected\\_assists & ⋯ & transfers\\_out & value & was\\_home & yellow\\_cards & GW & player\\_id & oID & tID & hID & row\\_id\\\\\n",
       " <chr> & <chr> & <chr> & <dbl> & <dbl> & <dbl> & <dbl> & <dbl> & <dbl> & <dbl> & ⋯ & <dbl> & <dbl> & <lgl> & <dbl> & <dbl> & <dbl> & <dbl> & <dbl> & <dbl> & <dbl>\\\\\n",
       "\\hline\n",
       "\t Aaron Ramsey & MID & Burnley & 1.2 & 0 & 0 & 3 & 0 & 1 & 0.01 & ⋯ & 51 & 50 & TRUE & 0 & 41 & 6 & 2 & 6 & 1 & 359\\\\\n",
       "\\end{tabular}\n",
       "\n",
       "\\item[\\$fwd] A tibble: 1 × 45\n",
       "\\begin{tabular}{lllllllllllllllllllll}\n",
       " name & position & team & xP & assists & bonus & bps & clean\\_sheets & creativity & expected\\_assists & ⋯ & transfers\\_out & value & was\\_home & yellow\\_cards & GW & player\\_id & oID & tID & hID & row\\_id\\\\\n",
       " <chr> & <chr> & <chr> & <dbl> & <dbl> & <dbl> & <dbl> & <dbl> & <dbl> & <dbl> & ⋯ & <dbl> & <dbl> & <lgl> & <dbl> & <dbl> & <dbl> & <dbl> & <dbl> & <dbl> & <dbl>\\\\\n",
       "\\hline\n",
       "\t Aaron Connolly & FWD & Brighton & 0 & 0 & 0 & 0 & 0 & 0 & 0 & ⋯ & 0 & 45 & TRUE & 0 & 39 & 2 & 15 & 5 & 1 & 6\\\\\n",
       "\\end{tabular}\n",
       "\n",
       "\\end{description}\n"
      ],
      "text/markdown": [
       "$gk\n",
       ":   \n",
       "A tibble: 1 × 45\n",
       "\n",
       "| name &lt;chr&gt; | position &lt;chr&gt; | team &lt;chr&gt; | xP &lt;dbl&gt; | assists &lt;dbl&gt; | bonus &lt;dbl&gt; | bps &lt;dbl&gt; | clean_sheets &lt;dbl&gt; | creativity &lt;dbl&gt; | expected_assists &lt;dbl&gt; | ⋯ ⋯ | transfers_out &lt;dbl&gt; | value &lt;dbl&gt; | was_home &lt;lgl&gt; | yellow_cards &lt;dbl&gt; | GW &lt;dbl&gt; | player_id &lt;dbl&gt; | oID &lt;dbl&gt; | tID &lt;dbl&gt; | hID &lt;dbl&gt; | row_id &lt;dbl&gt; |\n",
       "|---|---|---|---|---|---|---|---|---|---|---|---|---|---|---|---|---|---|---|---|---|\n",
       "| Aaron Ramsdale | GK | Arsenal | 3.6 | 0 | 0 | 25 | 1 | 0 | 0 | ⋯ | 0 | 50 | FALSE | 0 | 1 | 5 | 8 | 1 | 0 | 254 |\n",
       "\n",
       "\n",
       "$def\n",
       ":   \n",
       "A tibble: 1 × 45\n",
       "\n",
       "| name &lt;chr&gt; | position &lt;chr&gt; | team &lt;chr&gt; | xP &lt;dbl&gt; | assists &lt;dbl&gt; | bonus &lt;dbl&gt; | bps &lt;dbl&gt; | clean_sheets &lt;dbl&gt; | creativity &lt;dbl&gt; | expected_assists &lt;dbl&gt; | ⋯ ⋯ | transfers_out &lt;dbl&gt; | value &lt;dbl&gt; | was_home &lt;lgl&gt; | yellow_cards &lt;dbl&gt; | GW &lt;dbl&gt; | player_id &lt;dbl&gt; | oID &lt;dbl&gt; | tID &lt;dbl&gt; | hID &lt;dbl&gt; | row_id &lt;dbl&gt; |\n",
       "|---|---|---|---|---|---|---|---|---|---|---|---|---|---|---|---|---|---|---|---|---|\n",
       "| Aaron Anselmino | DEF | Chelsea | 1.8 | 0 | 0 | 0 | 0 | 0 | 0 | ⋯ | 0 | 40 | FALSE | 0 | 101 | 1 | 5 | 7 | 0 | 1 |\n",
       "\n",
       "\n",
       "$mid\n",
       ":   \n",
       "A tibble: 1 × 45\n",
       "\n",
       "| name &lt;chr&gt; | position &lt;chr&gt; | team &lt;chr&gt; | xP &lt;dbl&gt; | assists &lt;dbl&gt; | bonus &lt;dbl&gt; | bps &lt;dbl&gt; | clean_sheets &lt;dbl&gt; | creativity &lt;dbl&gt; | expected_assists &lt;dbl&gt; | ⋯ ⋯ | transfers_out &lt;dbl&gt; | value &lt;dbl&gt; | was_home &lt;lgl&gt; | yellow_cards &lt;dbl&gt; | GW &lt;dbl&gt; | player_id &lt;dbl&gt; | oID &lt;dbl&gt; | tID &lt;dbl&gt; | hID &lt;dbl&gt; | row_id &lt;dbl&gt; |\n",
       "|---|---|---|---|---|---|---|---|---|---|---|---|---|---|---|---|---|---|---|---|---|\n",
       "| Aaron Ramsey | MID | Burnley | 1.2 | 0 | 0 | 3 | 0 | 1 | 0.01 | ⋯ | 51 | 50 | TRUE | 0 | 41 | 6 | 2 | 6 | 1 | 359 |\n",
       "\n",
       "\n",
       "$fwd\n",
       ":   \n",
       "A tibble: 1 × 45\n",
       "\n",
       "| name &lt;chr&gt; | position &lt;chr&gt; | team &lt;chr&gt; | xP &lt;dbl&gt; | assists &lt;dbl&gt; | bonus &lt;dbl&gt; | bps &lt;dbl&gt; | clean_sheets &lt;dbl&gt; | creativity &lt;dbl&gt; | expected_assists &lt;dbl&gt; | ⋯ ⋯ | transfers_out &lt;dbl&gt; | value &lt;dbl&gt; | was_home &lt;lgl&gt; | yellow_cards &lt;dbl&gt; | GW &lt;dbl&gt; | player_id &lt;dbl&gt; | oID &lt;dbl&gt; | tID &lt;dbl&gt; | hID &lt;dbl&gt; | row_id &lt;dbl&gt; |\n",
       "|---|---|---|---|---|---|---|---|---|---|---|---|---|---|---|---|---|---|---|---|---|\n",
       "| Aaron Connolly | FWD | Brighton | 0 | 0 | 0 | 0 | 0 | 0 | 0 | ⋯ | 0 | 45 | TRUE | 0 | 39 | 2 | 15 | 5 | 1 | 6 |\n",
       "\n",
       "\n",
       "\n",
       "\n"
      ],
      "text/plain": [
       "$gk\n",
       "\u001b[90m# A tibble: 1 × 45\u001b[39m\n",
       "  name          position team     xP assists bonus   bps clean_sheets creativity\n",
       "  \u001b[3m\u001b[90m<chr>\u001b[39m\u001b[23m         \u001b[3m\u001b[90m<chr>\u001b[39m\u001b[23m    \u001b[3m\u001b[90m<chr>\u001b[39m\u001b[23m \u001b[3m\u001b[90m<dbl>\u001b[39m\u001b[23m   \u001b[3m\u001b[90m<dbl>\u001b[39m\u001b[23m \u001b[3m\u001b[90m<dbl>\u001b[39m\u001b[23m \u001b[3m\u001b[90m<dbl>\u001b[39m\u001b[23m        \u001b[3m\u001b[90m<dbl>\u001b[39m\u001b[23m      \u001b[3m\u001b[90m<dbl>\u001b[39m\u001b[23m\n",
       "\u001b[90m1\u001b[39m Aaron Ramsda… GK       Arse…   3.6       0     0    25            1          0\n",
       "\u001b[90m# ℹ 36 more variables: expected_assists <dbl>,\u001b[39m\n",
       "\u001b[90m#   expected_goal_involvements <dbl>, expected_goals <dbl>,\u001b[39m\n",
       "\u001b[90m#   expected_goals_conceded <dbl>, fixture <dbl>, goals_conceded <dbl>,\u001b[39m\n",
       "\u001b[90m#   goals_scored <dbl>, ict_index <dbl>, influence <dbl>, kickoff_time <dttm>,\u001b[39m\n",
       "\u001b[90m#   minutes <dbl>, opponent_team <chr>, own_goals <dbl>,\u001b[39m\n",
       "\u001b[90m#   penalties_missed <dbl>, penalties_saved <dbl>, red_cards <dbl>,\u001b[39m\n",
       "\u001b[90m#   round <dbl>, saves <dbl>, selected <dbl>, starts <dbl>, …\u001b[39m\n",
       "\n",
       "$def\n",
       "\u001b[90m# A tibble: 1 × 45\u001b[39m\n",
       "  name          position team     xP assists bonus   bps clean_sheets creativity\n",
       "  \u001b[3m\u001b[90m<chr>\u001b[39m\u001b[23m         \u001b[3m\u001b[90m<chr>\u001b[39m\u001b[23m    \u001b[3m\u001b[90m<chr>\u001b[39m\u001b[23m \u001b[3m\u001b[90m<dbl>\u001b[39m\u001b[23m   \u001b[3m\u001b[90m<dbl>\u001b[39m\u001b[23m \u001b[3m\u001b[90m<dbl>\u001b[39m\u001b[23m \u001b[3m\u001b[90m<dbl>\u001b[39m\u001b[23m        \u001b[3m\u001b[90m<dbl>\u001b[39m\u001b[23m      \u001b[3m\u001b[90m<dbl>\u001b[39m\u001b[23m\n",
       "\u001b[90m1\u001b[39m Aaron Anselm… DEF      Chel…   1.8       0     0     0            0          0\n",
       "\u001b[90m# ℹ 36 more variables: expected_assists <dbl>,\u001b[39m\n",
       "\u001b[90m#   expected_goal_involvements <dbl>, expected_goals <dbl>,\u001b[39m\n",
       "\u001b[90m#   expected_goals_conceded <dbl>, fixture <dbl>, goals_conceded <dbl>,\u001b[39m\n",
       "\u001b[90m#   goals_scored <dbl>, ict_index <dbl>, influence <dbl>, kickoff_time <dttm>,\u001b[39m\n",
       "\u001b[90m#   minutes <dbl>, opponent_team <chr>, own_goals <dbl>,\u001b[39m\n",
       "\u001b[90m#   penalties_missed <dbl>, penalties_saved <dbl>, red_cards <dbl>,\u001b[39m\n",
       "\u001b[90m#   round <dbl>, saves <dbl>, selected <dbl>, starts <dbl>, …\u001b[39m\n",
       "\n",
       "$mid\n",
       "\u001b[90m# A tibble: 1 × 45\u001b[39m\n",
       "  name         position team      xP assists bonus   bps clean_sheets creativity\n",
       "  \u001b[3m\u001b[90m<chr>\u001b[39m\u001b[23m        \u001b[3m\u001b[90m<chr>\u001b[39m\u001b[23m    \u001b[3m\u001b[90m<chr>\u001b[39m\u001b[23m  \u001b[3m\u001b[90m<dbl>\u001b[39m\u001b[23m   \u001b[3m\u001b[90m<dbl>\u001b[39m\u001b[23m \u001b[3m\u001b[90m<dbl>\u001b[39m\u001b[23m \u001b[3m\u001b[90m<dbl>\u001b[39m\u001b[23m        \u001b[3m\u001b[90m<dbl>\u001b[39m\u001b[23m      \u001b[3m\u001b[90m<dbl>\u001b[39m\u001b[23m\n",
       "\u001b[90m1\u001b[39m Aaron Ramsey MID      Burnl…   1.2       0     0     3            0          1\n",
       "\u001b[90m# ℹ 36 more variables: expected_assists <dbl>,\u001b[39m\n",
       "\u001b[90m#   expected_goal_involvements <dbl>, expected_goals <dbl>,\u001b[39m\n",
       "\u001b[90m#   expected_goals_conceded <dbl>, fixture <dbl>, goals_conceded <dbl>,\u001b[39m\n",
       "\u001b[90m#   goals_scored <dbl>, ict_index <dbl>, influence <dbl>, kickoff_time <dttm>,\u001b[39m\n",
       "\u001b[90m#   minutes <dbl>, opponent_team <chr>, own_goals <dbl>,\u001b[39m\n",
       "\u001b[90m#   penalties_missed <dbl>, penalties_saved <dbl>, red_cards <dbl>,\u001b[39m\n",
       "\u001b[90m#   round <dbl>, saves <dbl>, selected <dbl>, starts <dbl>, …\u001b[39m\n",
       "\n",
       "$fwd\n",
       "\u001b[90m# A tibble: 1 × 45\u001b[39m\n",
       "  name          position team     xP assists bonus   bps clean_sheets creativity\n",
       "  \u001b[3m\u001b[90m<chr>\u001b[39m\u001b[23m         \u001b[3m\u001b[90m<chr>\u001b[39m\u001b[23m    \u001b[3m\u001b[90m<chr>\u001b[39m\u001b[23m \u001b[3m\u001b[90m<dbl>\u001b[39m\u001b[23m   \u001b[3m\u001b[90m<dbl>\u001b[39m\u001b[23m \u001b[3m\u001b[90m<dbl>\u001b[39m\u001b[23m \u001b[3m\u001b[90m<dbl>\u001b[39m\u001b[23m        \u001b[3m\u001b[90m<dbl>\u001b[39m\u001b[23m      \u001b[3m\u001b[90m<dbl>\u001b[39m\u001b[23m\n",
       "\u001b[90m1\u001b[39m Aaron Connol… FWD      Brig…     0       0     0     0            0          0\n",
       "\u001b[90m# ℹ 36 more variables: expected_assists <dbl>,\u001b[39m\n",
       "\u001b[90m#   expected_goal_involvements <dbl>, expected_goals <dbl>,\u001b[39m\n",
       "\u001b[90m#   expected_goals_conceded <dbl>, fixture <dbl>, goals_conceded <dbl>,\u001b[39m\n",
       "\u001b[90m#   goals_scored <dbl>, ict_index <dbl>, influence <dbl>, kickoff_time <dttm>,\u001b[39m\n",
       "\u001b[90m#   minutes <dbl>, opponent_team <chr>, own_goals <dbl>,\u001b[39m\n",
       "\u001b[90m#   penalties_missed <dbl>, penalties_saved <dbl>, red_cards <dbl>,\u001b[39m\n",
       "\u001b[90m#   round <dbl>, saves <dbl>, selected <dbl>, starts <dbl>, …\u001b[39m\n"
      ]
     },
     "metadata": {},
     "output_type": "display_data"
    },
    {
     "data": {
      "text/html": [
       "<dl>\n",
       "\t<dt>$gk</dt>\n",
       "\t\t<dd><table class=\"dataframe\">\n",
       "<caption>A tibble: 1 × 45</caption>\n",
       "<thead>\n",
       "\t<tr><th scope=col>name</th><th scope=col>position</th><th scope=col>team</th><th scope=col>xP</th><th scope=col>assists</th><th scope=col>bonus</th><th scope=col>bps</th><th scope=col>clean_sheets</th><th scope=col>creativity</th><th scope=col>expected_assists</th><th scope=col>⋯</th><th scope=col>transfers_out</th><th scope=col>value</th><th scope=col>was_home</th><th scope=col>yellow_cards</th><th scope=col>GW</th><th scope=col>player_id</th><th scope=col>oID</th><th scope=col>tID</th><th scope=col>hID</th><th scope=col>row_id</th></tr>\n",
       "\t<tr><th scope=col>&lt;chr&gt;</th><th scope=col>&lt;chr&gt;</th><th scope=col>&lt;chr&gt;</th><th scope=col>&lt;dbl&gt;</th><th scope=col>&lt;dbl&gt;</th><th scope=col>&lt;dbl&gt;</th><th scope=col>&lt;dbl&gt;</th><th scope=col>&lt;dbl&gt;</th><th scope=col>&lt;dbl&gt;</th><th scope=col>&lt;dbl&gt;</th><th scope=col>⋯</th><th scope=col>&lt;dbl&gt;</th><th scope=col>&lt;dbl&gt;</th><th scope=col>&lt;lgl&gt;</th><th scope=col>&lt;dbl&gt;</th><th scope=col>&lt;dbl&gt;</th><th scope=col>&lt;dbl&gt;</th><th scope=col>&lt;dbl&gt;</th><th scope=col>&lt;dbl&gt;</th><th scope=col>&lt;dbl&gt;</th><th scope=col>&lt;dbl&gt;</th></tr>\n",
       "</thead>\n",
       "<tbody>\n",
       "\t<tr><td>Zack Steffen</td><td>GK</td><td>Man City</td><td>0</td><td>0</td><td>0</td><td>0</td><td>0</td><td>0</td><td>0</td><td>⋯</td><td>154</td><td>39</td><td>TRUE</td><td>0</td><td>76</td><td>1327</td><td>23</td><td>16</td><td>1</td><td>76382</td></tr>\n",
       "</tbody>\n",
       "</table>\n",
       "</dd>\n",
       "\t<dt>$def</dt>\n",
       "\t\t<dd><table class=\"dataframe\">\n",
       "<caption>A tibble: 1 × 45</caption>\n",
       "<thead>\n",
       "\t<tr><th scope=col>name</th><th scope=col>position</th><th scope=col>team</th><th scope=col>xP</th><th scope=col>assists</th><th scope=col>bonus</th><th scope=col>bps</th><th scope=col>clean_sheets</th><th scope=col>creativity</th><th scope=col>expected_assists</th><th scope=col>⋯</th><th scope=col>transfers_out</th><th scope=col>value</th><th scope=col>was_home</th><th scope=col>yellow_cards</th><th scope=col>GW</th><th scope=col>player_id</th><th scope=col>oID</th><th scope=col>tID</th><th scope=col>hID</th><th scope=col>row_id</th></tr>\n",
       "\t<tr><th scope=col>&lt;chr&gt;</th><th scope=col>&lt;chr&gt;</th><th scope=col>&lt;chr&gt;</th><th scope=col>&lt;dbl&gt;</th><th scope=col>&lt;dbl&gt;</th><th scope=col>&lt;dbl&gt;</th><th scope=col>&lt;dbl&gt;</th><th scope=col>&lt;dbl&gt;</th><th scope=col>&lt;dbl&gt;</th><th scope=col>&lt;dbl&gt;</th><th scope=col>⋯</th><th scope=col>&lt;dbl&gt;</th><th scope=col>&lt;dbl&gt;</th><th scope=col>&lt;lgl&gt;</th><th scope=col>&lt;dbl&gt;</th><th scope=col>&lt;dbl&gt;</th><th scope=col>&lt;dbl&gt;</th><th scope=col>&lt;dbl&gt;</th><th scope=col>&lt;dbl&gt;</th><th scope=col>&lt;dbl&gt;</th><th scope=col>&lt;dbl&gt;</th></tr>\n",
       "</thead>\n",
       "<tbody>\n",
       "\t<tr><td>Zak Sturge</td><td>DEF</td><td>Chelsea</td><td>0</td><td>0</td><td>0</td><td>0</td><td>0</td><td>0</td><td>0</td><td>⋯</td><td>16</td><td>40</td><td>TRUE</td><td>0</td><td>76</td><td>1329</td><td>3</td><td>7</td><td>1</td><td>76396</td></tr>\n",
       "</tbody>\n",
       "</table>\n",
       "</dd>\n",
       "\t<dt>$mid</dt>\n",
       "\t\t<dd><table class=\"dataframe\">\n",
       "<caption>A tibble: 1 × 45</caption>\n",
       "<thead>\n",
       "\t<tr><th scope=col>name</th><th scope=col>position</th><th scope=col>team</th><th scope=col>xP</th><th scope=col>assists</th><th scope=col>bonus</th><th scope=col>bps</th><th scope=col>clean_sheets</th><th scope=col>creativity</th><th scope=col>expected_assists</th><th scope=col>⋯</th><th scope=col>transfers_out</th><th scope=col>value</th><th scope=col>was_home</th><th scope=col>yellow_cards</th><th scope=col>GW</th><th scope=col>player_id</th><th scope=col>oID</th><th scope=col>tID</th><th scope=col>hID</th><th scope=col>row_id</th></tr>\n",
       "\t<tr><th scope=col>&lt;chr&gt;</th><th scope=col>&lt;chr&gt;</th><th scope=col>&lt;chr&gt;</th><th scope=col>&lt;dbl&gt;</th><th scope=col>&lt;dbl&gt;</th><th scope=col>&lt;dbl&gt;</th><th scope=col>&lt;dbl&gt;</th><th scope=col>&lt;dbl&gt;</th><th scope=col>&lt;dbl&gt;</th><th scope=col>&lt;dbl&gt;</th><th scope=col>⋯</th><th scope=col>&lt;dbl&gt;</th><th scope=col>&lt;dbl&gt;</th><th scope=col>&lt;lgl&gt;</th><th scope=col>&lt;dbl&gt;</th><th scope=col>&lt;dbl&gt;</th><th scope=col>&lt;dbl&gt;</th><th scope=col>&lt;dbl&gt;</th><th scope=col>&lt;dbl&gt;</th><th scope=col>&lt;dbl&gt;</th><th scope=col>&lt;dbl&gt;</th></tr>\n",
       "</thead>\n",
       "<tbody>\n",
       "\t<tr><td>Zidane Iqbal</td><td>MID</td><td>Man United</td><td>0</td><td>0</td><td>0</td><td>0</td><td>0</td><td>0</td><td>0</td><td>⋯</td><td>119</td><td>42</td><td>TRUE</td><td>0</td><td>38</td><td>1331</td><td>10</td><td>17</td><td>1</td><td>76472</td></tr>\n",
       "</tbody>\n",
       "</table>\n",
       "</dd>\n",
       "\t<dt>$fwd</dt>\n",
       "\t\t<dd><table class=\"dataframe\">\n",
       "<caption>A tibble: 1 × 45</caption>\n",
       "<thead>\n",
       "\t<tr><th scope=col>name</th><th scope=col>position</th><th scope=col>team</th><th scope=col>xP</th><th scope=col>assists</th><th scope=col>bonus</th><th scope=col>bps</th><th scope=col>clean_sheets</th><th scope=col>creativity</th><th scope=col>expected_assists</th><th scope=col>⋯</th><th scope=col>transfers_out</th><th scope=col>value</th><th scope=col>was_home</th><th scope=col>yellow_cards</th><th scope=col>GW</th><th scope=col>player_id</th><th scope=col>oID</th><th scope=col>tID</th><th scope=col>hID</th><th scope=col>row_id</th></tr>\n",
       "\t<tr><th scope=col>&lt;chr&gt;</th><th scope=col>&lt;chr&gt;</th><th scope=col>&lt;chr&gt;</th><th scope=col>&lt;dbl&gt;</th><th scope=col>&lt;dbl&gt;</th><th scope=col>&lt;dbl&gt;</th><th scope=col>&lt;dbl&gt;</th><th scope=col>&lt;dbl&gt;</th><th scope=col>&lt;dbl&gt;</th><th scope=col>&lt;dbl&gt;</th><th scope=col>⋯</th><th scope=col>&lt;dbl&gt;</th><th scope=col>&lt;dbl&gt;</th><th scope=col>&lt;lgl&gt;</th><th scope=col>&lt;dbl&gt;</th><th scope=col>&lt;dbl&gt;</th><th scope=col>&lt;dbl&gt;</th><th scope=col>&lt;dbl&gt;</th><th scope=col>&lt;dbl&gt;</th><th scope=col>&lt;dbl&gt;</th><th scope=col>&lt;dbl&gt;</th></tr>\n",
       "</thead>\n",
       "<tbody>\n",
       "\t<tr><td>Zeki Amdouni</td><td>FWD</td><td>Burnley</td><td>2.3</td><td>0</td><td>0</td><td>-2</td><td>0</td><td>14.3</td><td>0.04</td><td>⋯</td><td>795</td><td>51</td><td>TRUE</td><td>0</td><td>76</td><td>1330</td><td>19</td><td>6</td><td>1</td><td>76434</td></tr>\n",
       "</tbody>\n",
       "</table>\n",
       "</dd>\n",
       "</dl>\n"
      ],
      "text/latex": [
       "\\begin{description}\n",
       "\\item[\\$gk] A tibble: 1 × 45\n",
       "\\begin{tabular}{lllllllllllllllllllll}\n",
       " name & position & team & xP & assists & bonus & bps & clean\\_sheets & creativity & expected\\_assists & ⋯ & transfers\\_out & value & was\\_home & yellow\\_cards & GW & player\\_id & oID & tID & hID & row\\_id\\\\\n",
       " <chr> & <chr> & <chr> & <dbl> & <dbl> & <dbl> & <dbl> & <dbl> & <dbl> & <dbl> & ⋯ & <dbl> & <dbl> & <lgl> & <dbl> & <dbl> & <dbl> & <dbl> & <dbl> & <dbl> & <dbl>\\\\\n",
       "\\hline\n",
       "\t Zack Steffen & GK & Man City & 0 & 0 & 0 & 0 & 0 & 0 & 0 & ⋯ & 154 & 39 & TRUE & 0 & 76 & 1327 & 23 & 16 & 1 & 76382\\\\\n",
       "\\end{tabular}\n",
       "\n",
       "\\item[\\$def] A tibble: 1 × 45\n",
       "\\begin{tabular}{lllllllllllllllllllll}\n",
       " name & position & team & xP & assists & bonus & bps & clean\\_sheets & creativity & expected\\_assists & ⋯ & transfers\\_out & value & was\\_home & yellow\\_cards & GW & player\\_id & oID & tID & hID & row\\_id\\\\\n",
       " <chr> & <chr> & <chr> & <dbl> & <dbl> & <dbl> & <dbl> & <dbl> & <dbl> & <dbl> & ⋯ & <dbl> & <dbl> & <lgl> & <dbl> & <dbl> & <dbl> & <dbl> & <dbl> & <dbl> & <dbl>\\\\\n",
       "\\hline\n",
       "\t Zak Sturge & DEF & Chelsea & 0 & 0 & 0 & 0 & 0 & 0 & 0 & ⋯ & 16 & 40 & TRUE & 0 & 76 & 1329 & 3 & 7 & 1 & 76396\\\\\n",
       "\\end{tabular}\n",
       "\n",
       "\\item[\\$mid] A tibble: 1 × 45\n",
       "\\begin{tabular}{lllllllllllllllllllll}\n",
       " name & position & team & xP & assists & bonus & bps & clean\\_sheets & creativity & expected\\_assists & ⋯ & transfers\\_out & value & was\\_home & yellow\\_cards & GW & player\\_id & oID & tID & hID & row\\_id\\\\\n",
       " <chr> & <chr> & <chr> & <dbl> & <dbl> & <dbl> & <dbl> & <dbl> & <dbl> & <dbl> & ⋯ & <dbl> & <dbl> & <lgl> & <dbl> & <dbl> & <dbl> & <dbl> & <dbl> & <dbl> & <dbl>\\\\\n",
       "\\hline\n",
       "\t Zidane Iqbal & MID & Man United & 0 & 0 & 0 & 0 & 0 & 0 & 0 & ⋯ & 119 & 42 & TRUE & 0 & 38 & 1331 & 10 & 17 & 1 & 76472\\\\\n",
       "\\end{tabular}\n",
       "\n",
       "\\item[\\$fwd] A tibble: 1 × 45\n",
       "\\begin{tabular}{lllllllllllllllllllll}\n",
       " name & position & team & xP & assists & bonus & bps & clean\\_sheets & creativity & expected\\_assists & ⋯ & transfers\\_out & value & was\\_home & yellow\\_cards & GW & player\\_id & oID & tID & hID & row\\_id\\\\\n",
       " <chr> & <chr> & <chr> & <dbl> & <dbl> & <dbl> & <dbl> & <dbl> & <dbl> & <dbl> & ⋯ & <dbl> & <dbl> & <lgl> & <dbl> & <dbl> & <dbl> & <dbl> & <dbl> & <dbl> & <dbl>\\\\\n",
       "\\hline\n",
       "\t Zeki Amdouni & FWD & Burnley & 2.3 & 0 & 0 & -2 & 0 & 14.3 & 0.04 & ⋯ & 795 & 51 & TRUE & 0 & 76 & 1330 & 19 & 6 & 1 & 76434\\\\\n",
       "\\end{tabular}\n",
       "\n",
       "\\end{description}\n"
      ],
      "text/markdown": [
       "$gk\n",
       ":   \n",
       "A tibble: 1 × 45\n",
       "\n",
       "| name &lt;chr&gt; | position &lt;chr&gt; | team &lt;chr&gt; | xP &lt;dbl&gt; | assists &lt;dbl&gt; | bonus &lt;dbl&gt; | bps &lt;dbl&gt; | clean_sheets &lt;dbl&gt; | creativity &lt;dbl&gt; | expected_assists &lt;dbl&gt; | ⋯ ⋯ | transfers_out &lt;dbl&gt; | value &lt;dbl&gt; | was_home &lt;lgl&gt; | yellow_cards &lt;dbl&gt; | GW &lt;dbl&gt; | player_id &lt;dbl&gt; | oID &lt;dbl&gt; | tID &lt;dbl&gt; | hID &lt;dbl&gt; | row_id &lt;dbl&gt; |\n",
       "|---|---|---|---|---|---|---|---|---|---|---|---|---|---|---|---|---|---|---|---|---|\n",
       "| Zack Steffen | GK | Man City | 0 | 0 | 0 | 0 | 0 | 0 | 0 | ⋯ | 154 | 39 | TRUE | 0 | 76 | 1327 | 23 | 16 | 1 | 76382 |\n",
       "\n",
       "\n",
       "$def\n",
       ":   \n",
       "A tibble: 1 × 45\n",
       "\n",
       "| name &lt;chr&gt; | position &lt;chr&gt; | team &lt;chr&gt; | xP &lt;dbl&gt; | assists &lt;dbl&gt; | bonus &lt;dbl&gt; | bps &lt;dbl&gt; | clean_sheets &lt;dbl&gt; | creativity &lt;dbl&gt; | expected_assists &lt;dbl&gt; | ⋯ ⋯ | transfers_out &lt;dbl&gt; | value &lt;dbl&gt; | was_home &lt;lgl&gt; | yellow_cards &lt;dbl&gt; | GW &lt;dbl&gt; | player_id &lt;dbl&gt; | oID &lt;dbl&gt; | tID &lt;dbl&gt; | hID &lt;dbl&gt; | row_id &lt;dbl&gt; |\n",
       "|---|---|---|---|---|---|---|---|---|---|---|---|---|---|---|---|---|---|---|---|---|\n",
       "| Zak Sturge | DEF | Chelsea | 0 | 0 | 0 | 0 | 0 | 0 | 0 | ⋯ | 16 | 40 | TRUE | 0 | 76 | 1329 | 3 | 7 | 1 | 76396 |\n",
       "\n",
       "\n",
       "$mid\n",
       ":   \n",
       "A tibble: 1 × 45\n",
       "\n",
       "| name &lt;chr&gt; | position &lt;chr&gt; | team &lt;chr&gt; | xP &lt;dbl&gt; | assists &lt;dbl&gt; | bonus &lt;dbl&gt; | bps &lt;dbl&gt; | clean_sheets &lt;dbl&gt; | creativity &lt;dbl&gt; | expected_assists &lt;dbl&gt; | ⋯ ⋯ | transfers_out &lt;dbl&gt; | value &lt;dbl&gt; | was_home &lt;lgl&gt; | yellow_cards &lt;dbl&gt; | GW &lt;dbl&gt; | player_id &lt;dbl&gt; | oID &lt;dbl&gt; | tID &lt;dbl&gt; | hID &lt;dbl&gt; | row_id &lt;dbl&gt; |\n",
       "|---|---|---|---|---|---|---|---|---|---|---|---|---|---|---|---|---|---|---|---|---|\n",
       "| Zidane Iqbal | MID | Man United | 0 | 0 | 0 | 0 | 0 | 0 | 0 | ⋯ | 119 | 42 | TRUE | 0 | 38 | 1331 | 10 | 17 | 1 | 76472 |\n",
       "\n",
       "\n",
       "$fwd\n",
       ":   \n",
       "A tibble: 1 × 45\n",
       "\n",
       "| name &lt;chr&gt; | position &lt;chr&gt; | team &lt;chr&gt; | xP &lt;dbl&gt; | assists &lt;dbl&gt; | bonus &lt;dbl&gt; | bps &lt;dbl&gt; | clean_sheets &lt;dbl&gt; | creativity &lt;dbl&gt; | expected_assists &lt;dbl&gt; | ⋯ ⋯ | transfers_out &lt;dbl&gt; | value &lt;dbl&gt; | was_home &lt;lgl&gt; | yellow_cards &lt;dbl&gt; | GW &lt;dbl&gt; | player_id &lt;dbl&gt; | oID &lt;dbl&gt; | tID &lt;dbl&gt; | hID &lt;dbl&gt; | row_id &lt;dbl&gt; |\n",
       "|---|---|---|---|---|---|---|---|---|---|---|---|---|---|---|---|---|---|---|---|---|\n",
       "| Zeki Amdouni | FWD | Burnley | 2.3 | 0 | 0 | -2 | 0 | 14.3 | 0.04 | ⋯ | 795 | 51 | TRUE | 0 | 76 | 1330 | 19 | 6 | 1 | 76434 |\n",
       "\n",
       "\n",
       "\n",
       "\n"
      ],
      "text/plain": [
       "$gk\n",
       "\u001b[90m# A tibble: 1 × 45\u001b[39m\n",
       "  name         position team      xP assists bonus   bps clean_sheets creativity\n",
       "  \u001b[3m\u001b[90m<chr>\u001b[39m\u001b[23m        \u001b[3m\u001b[90m<chr>\u001b[39m\u001b[23m    \u001b[3m\u001b[90m<chr>\u001b[39m\u001b[23m  \u001b[3m\u001b[90m<dbl>\u001b[39m\u001b[23m   \u001b[3m\u001b[90m<dbl>\u001b[39m\u001b[23m \u001b[3m\u001b[90m<dbl>\u001b[39m\u001b[23m \u001b[3m\u001b[90m<dbl>\u001b[39m\u001b[23m        \u001b[3m\u001b[90m<dbl>\u001b[39m\u001b[23m      \u001b[3m\u001b[90m<dbl>\u001b[39m\u001b[23m\n",
       "\u001b[90m1\u001b[39m Zack Steffen GK       Man C…     0       0     0     0            0          0\n",
       "\u001b[90m# ℹ 36 more variables: expected_assists <dbl>,\u001b[39m\n",
       "\u001b[90m#   expected_goal_involvements <dbl>, expected_goals <dbl>,\u001b[39m\n",
       "\u001b[90m#   expected_goals_conceded <dbl>, fixture <dbl>, goals_conceded <dbl>,\u001b[39m\n",
       "\u001b[90m#   goals_scored <dbl>, ict_index <dbl>, influence <dbl>, kickoff_time <dttm>,\u001b[39m\n",
       "\u001b[90m#   minutes <dbl>, opponent_team <chr>, own_goals <dbl>,\u001b[39m\n",
       "\u001b[90m#   penalties_missed <dbl>, penalties_saved <dbl>, red_cards <dbl>,\u001b[39m\n",
       "\u001b[90m#   round <dbl>, saves <dbl>, selected <dbl>, starts <dbl>, …\u001b[39m\n",
       "\n",
       "$def\n",
       "\u001b[90m# A tibble: 1 × 45\u001b[39m\n",
       "  name       position team       xP assists bonus   bps clean_sheets creativity\n",
       "  \u001b[3m\u001b[90m<chr>\u001b[39m\u001b[23m      \u001b[3m\u001b[90m<chr>\u001b[39m\u001b[23m    \u001b[3m\u001b[90m<chr>\u001b[39m\u001b[23m   \u001b[3m\u001b[90m<dbl>\u001b[39m\u001b[23m   \u001b[3m\u001b[90m<dbl>\u001b[39m\u001b[23m \u001b[3m\u001b[90m<dbl>\u001b[39m\u001b[23m \u001b[3m\u001b[90m<dbl>\u001b[39m\u001b[23m        \u001b[3m\u001b[90m<dbl>\u001b[39m\u001b[23m      \u001b[3m\u001b[90m<dbl>\u001b[39m\u001b[23m\n",
       "\u001b[90m1\u001b[39m Zak Sturge DEF      Chelsea     0       0     0     0            0          0\n",
       "\u001b[90m# ℹ 36 more variables: expected_assists <dbl>,\u001b[39m\n",
       "\u001b[90m#   expected_goal_involvements <dbl>, expected_goals <dbl>,\u001b[39m\n",
       "\u001b[90m#   expected_goals_conceded <dbl>, fixture <dbl>, goals_conceded <dbl>,\u001b[39m\n",
       "\u001b[90m#   goals_scored <dbl>, ict_index <dbl>, influence <dbl>, kickoff_time <dttm>,\u001b[39m\n",
       "\u001b[90m#   minutes <dbl>, opponent_team <chr>, own_goals <dbl>,\u001b[39m\n",
       "\u001b[90m#   penalties_missed <dbl>, penalties_saved <dbl>, red_cards <dbl>,\u001b[39m\n",
       "\u001b[90m#   round <dbl>, saves <dbl>, selected <dbl>, starts <dbl>, …\u001b[39m\n",
       "\n",
       "$mid\n",
       "\u001b[90m# A tibble: 1 × 45\u001b[39m\n",
       "  name         position team      xP assists bonus   bps clean_sheets creativity\n",
       "  \u001b[3m\u001b[90m<chr>\u001b[39m\u001b[23m        \u001b[3m\u001b[90m<chr>\u001b[39m\u001b[23m    \u001b[3m\u001b[90m<chr>\u001b[39m\u001b[23m  \u001b[3m\u001b[90m<dbl>\u001b[39m\u001b[23m   \u001b[3m\u001b[90m<dbl>\u001b[39m\u001b[23m \u001b[3m\u001b[90m<dbl>\u001b[39m\u001b[23m \u001b[3m\u001b[90m<dbl>\u001b[39m\u001b[23m        \u001b[3m\u001b[90m<dbl>\u001b[39m\u001b[23m      \u001b[3m\u001b[90m<dbl>\u001b[39m\u001b[23m\n",
       "\u001b[90m1\u001b[39m Zidane Iqbal MID      Man U…     0       0     0     0            0          0\n",
       "\u001b[90m# ℹ 36 more variables: expected_assists <dbl>,\u001b[39m\n",
       "\u001b[90m#   expected_goal_involvements <dbl>, expected_goals <dbl>,\u001b[39m\n",
       "\u001b[90m#   expected_goals_conceded <dbl>, fixture <dbl>, goals_conceded <dbl>,\u001b[39m\n",
       "\u001b[90m#   goals_scored <dbl>, ict_index <dbl>, influence <dbl>, kickoff_time <dttm>,\u001b[39m\n",
       "\u001b[90m#   minutes <dbl>, opponent_team <chr>, own_goals <dbl>,\u001b[39m\n",
       "\u001b[90m#   penalties_missed <dbl>, penalties_saved <dbl>, red_cards <dbl>,\u001b[39m\n",
       "\u001b[90m#   round <dbl>, saves <dbl>, selected <dbl>, starts <dbl>, …\u001b[39m\n",
       "\n",
       "$fwd\n",
       "\u001b[90m# A tibble: 1 × 45\u001b[39m\n",
       "  name         position team      xP assists bonus   bps clean_sheets creativity\n",
       "  \u001b[3m\u001b[90m<chr>\u001b[39m\u001b[23m        \u001b[3m\u001b[90m<chr>\u001b[39m\u001b[23m    \u001b[3m\u001b[90m<chr>\u001b[39m\u001b[23m  \u001b[3m\u001b[90m<dbl>\u001b[39m\u001b[23m   \u001b[3m\u001b[90m<dbl>\u001b[39m\u001b[23m \u001b[3m\u001b[90m<dbl>\u001b[39m\u001b[23m \u001b[3m\u001b[90m<dbl>\u001b[39m\u001b[23m        \u001b[3m\u001b[90m<dbl>\u001b[39m\u001b[23m      \u001b[3m\u001b[90m<dbl>\u001b[39m\u001b[23m\n",
       "\u001b[90m1\u001b[39m Zeki Amdouni FWD      Burnl…   2.3       0     0    -\u001b[31m2\u001b[39m            0       14.3\n",
       "\u001b[90m# ℹ 36 more variables: expected_assists <dbl>,\u001b[39m\n",
       "\u001b[90m#   expected_goal_involvements <dbl>, expected_goals <dbl>,\u001b[39m\n",
       "\u001b[90m#   expected_goals_conceded <dbl>, fixture <dbl>, goals_conceded <dbl>,\u001b[39m\n",
       "\u001b[90m#   goals_scored <dbl>, ict_index <dbl>, influence <dbl>, kickoff_time <dttm>,\u001b[39m\n",
       "\u001b[90m#   minutes <dbl>, opponent_team <chr>, own_goals <dbl>,\u001b[39m\n",
       "\u001b[90m#   penalties_missed <dbl>, penalties_saved <dbl>, red_cards <dbl>,\u001b[39m\n",
       "\u001b[90m#   round <dbl>, saves <dbl>, selected <dbl>, starts <dbl>, …\u001b[39m\n"
      ]
     },
     "metadata": {},
     "output_type": "display_data"
    },
    {
     "name": "stdout",
     "output_type": "stream",
     "text": [
      "spc_tbl_ [8,328 × 45] (S3: spec_tbl_df/tbl_df/tbl/data.frame)\n",
      " $ name                      : chr [1:8328] \"Aaron Ramsdale\" \"Aaron Ramsdale\" \"Aaron Ramsdale\" \"Aaron Ramsdale\" ...\n",
      " $ position                  : chr [1:8328] \"GK\" \"GK\" \"GK\" \"GK\" ...\n",
      " $ team                      : chr [1:8328] \"Arsenal\" \"Arsenal\" \"Arsenal\" \"Arsenal\" ...\n",
      " $ xP                        : num [1:8328] 3.6 4 5.3 4.8 3.9 2 3.5 3.3 2.5 5.3 ...\n",
      " $ assists                   : num [1:8328] 0 0 0 0 0 0 0 0 0 0 ...\n",
      " $ bonus                     : num [1:8328] 0 0 0 0 0 0 0 0 0 3 ...\n",
      " $ bps                       : num [1:8328] 25 10 20 12 13 14 24 12 15 32 ...\n",
      " $ clean_sheets              : num [1:8328] 1 0 1 0 0 0 1 0 0 1 ...\n",
      " $ creativity                : num [1:8328] 0 0 0 0 0 0 0 0 0 0 ...\n",
      " $ expected_assists          : num [1:8328] 0 0 0 0 0 0 0 0 0 0 ...\n",
      " $ expected_goal_involvements: num [1:8328] 0 0 0 0 0 0 0 0 0 0 ...\n",
      " $ expected_goals            : num [1:8328] 0 0 0 0 0 0 0 0 0 0 ...\n",
      " $ expected_goals_conceded   : num [1:8328] 0 0 0 0 0 0 0 0 0 0 ...\n",
      " $ fixture                   : num [1:8328] 1 11 21 31 41 56 72 81 91 104 ...\n",
      " $ goals_conceded            : num [1:8328] 0 2 0 1 1 3 0 1 2 0 ...\n",
      " $ goals_scored              : num [1:8328] 0 0 0 0 0 0 0 0 0 0 ...\n",
      " $ ict_index                 : num [1:8328] 1.9 1.2 0.8 1.9 1.7 2.5 1.8 1.9 1.3 3.5 ...\n",
      " $ influence                 : num [1:8328] 19 11.6 7.6 18.8 17.4 25.2 17.8 19.2 12.6 34.8 ...\n",
      " $ kickoff_time              : POSIXct[1:8328], format: \"2022-08-05 19:00:00\" \"2022-08-13 14:00:00\" ...\n",
      " $ minutes                   : num [1:8328] 90 90 90 90 90 90 90 90 90 90 ...\n",
      " $ opponent_team             : chr [1:8328] \"Crystal Palace\" \"Leeds\" \"Bournemouth\" \"Fulham\" ...\n",
      " $ own_goals                 : num [1:8328] 0 0 0 0 0 0 0 0 0 0 ...\n",
      " $ penalties_missed          : num [1:8328] 0 0 0 0 0 0 0 0 0 0 ...\n",
      " $ penalties_saved           : num [1:8328] 0 0 0 0 0 0 0 0 0 0 ...\n",
      " $ red_cards                 : num [1:8328] 0 0 0 0 0 0 0 0 0 0 ...\n",
      " $ round                     : num [1:8328] 1 2 3 4 5 6 8 9 10 11 ...\n",
      " $ saves                     : num [1:8328] 2 1 1 2 2 3 2 2 2 4 ...\n",
      " $ selected                  : num [1:8328] 1128297 1369348 1366505 1422476 1407588 ...\n",
      " $ starts                    : num [1:8328] 0 0 0 0 0 0 0 0 0 0 ...\n",
      " $ team_a_score              : num [1:8328] 2 2 3 1 1 1 3 1 2 1 ...\n",
      " $ team_h_score              : num [1:8328] 0 4 0 2 2 3 0 3 3 0 ...\n",
      " $ threat                    : num [1:8328] 0 0 0 0 0 0 0 0 0 0 ...\n",
      " $ total_points              : num [1:8328] 6 1 6 2 2 2 6 2 1 10 ...\n",
      " $ transfers_balance         : num [1:8328] 0 31287 -61359 -12169 -53340 ...\n",
      " $ transfers_in              : num [1:8328] 0 93632 88334 88190 48276 ...\n",
      " $ transfers_out             : num [1:8328] 0 62345 149693 100359 101616 ...\n",
      " $ value                     : num [1:8328] 50 50 50 50 50 50 49 49 49 49 ...\n",
      " $ was_home                  : logi [1:8328] FALSE TRUE FALSE TRUE TRUE FALSE ...\n",
      " $ yellow_cards              : num [1:8328] 0 0 0 0 0 0 0 0 0 0 ...\n",
      " $ GW                        : num [1:8328] 1 2 3 4 5 6 8 9 10 11 ...\n",
      " $ player_id                 : num [1:8328] 5 5 5 5 5 5 5 5 5 5 ...\n",
      " $ oID                       : num [1:8328] 8 12 3 10 2 17 4 22 14 13 ...\n",
      " $ tID                       : num [1:8328] 1 1 1 1 1 1 1 1 1 1 ...\n",
      " $ hID                       : num [1:8328] 0 1 0 1 1 0 0 1 1 0 ...\n",
      " $ row_id                    : num [1:8328] 254 255 256 257 258 259 260 261 262 263 ...\n",
      " - attr(*, \"spec\")=\n",
      "  .. cols(\n",
      "  ..   name = \u001b[31mcol_character()\u001b[39m,\n",
      "  ..   position = \u001b[31mcol_character()\u001b[39m,\n",
      "  ..   team = \u001b[31mcol_character()\u001b[39m,\n",
      "  ..   xP = \u001b[32mcol_double()\u001b[39m,\n",
      "  ..   assists = \u001b[32mcol_double()\u001b[39m,\n",
      "  ..   bonus = \u001b[32mcol_double()\u001b[39m,\n",
      "  ..   bps = \u001b[32mcol_double()\u001b[39m,\n",
      "  ..   clean_sheets = \u001b[32mcol_double()\u001b[39m,\n",
      "  ..   creativity = \u001b[32mcol_double()\u001b[39m,\n",
      "  ..   expected_assists = \u001b[32mcol_double()\u001b[39m,\n",
      "  ..   expected_goal_involvements = \u001b[32mcol_double()\u001b[39m,\n",
      "  ..   expected_goals = \u001b[32mcol_double()\u001b[39m,\n",
      "  ..   expected_goals_conceded = \u001b[32mcol_double()\u001b[39m,\n",
      "  ..   fixture = \u001b[32mcol_double()\u001b[39m,\n",
      "  ..   goals_conceded = \u001b[32mcol_double()\u001b[39m,\n",
      "  ..   goals_scored = \u001b[32mcol_double()\u001b[39m,\n",
      "  ..   ict_index = \u001b[32mcol_double()\u001b[39m,\n",
      "  ..   influence = \u001b[32mcol_double()\u001b[39m,\n",
      "  ..   kickoff_time = \u001b[34mcol_datetime(format = \"\")\u001b[39m,\n",
      "  ..   minutes = \u001b[32mcol_double()\u001b[39m,\n",
      "  ..   opponent_team = \u001b[31mcol_character()\u001b[39m,\n",
      "  ..   own_goals = \u001b[32mcol_double()\u001b[39m,\n",
      "  ..   penalties_missed = \u001b[32mcol_double()\u001b[39m,\n",
      "  ..   penalties_saved = \u001b[32mcol_double()\u001b[39m,\n",
      "  ..   red_cards = \u001b[32mcol_double()\u001b[39m,\n",
      "  ..   round = \u001b[32mcol_double()\u001b[39m,\n",
      "  ..   saves = \u001b[32mcol_double()\u001b[39m,\n",
      "  ..   selected = \u001b[32mcol_double()\u001b[39m,\n",
      "  ..   starts = \u001b[32mcol_double()\u001b[39m,\n",
      "  ..   team_a_score = \u001b[32mcol_double()\u001b[39m,\n",
      "  ..   team_h_score = \u001b[32mcol_double()\u001b[39m,\n",
      "  ..   threat = \u001b[32mcol_double()\u001b[39m,\n",
      "  ..   total_points = \u001b[32mcol_double()\u001b[39m,\n",
      "  ..   transfers_balance = \u001b[32mcol_double()\u001b[39m,\n",
      "  ..   transfers_in = \u001b[32mcol_double()\u001b[39m,\n",
      "  ..   transfers_out = \u001b[32mcol_double()\u001b[39m,\n",
      "  ..   value = \u001b[32mcol_double()\u001b[39m,\n",
      "  ..   was_home = \u001b[33mcol_logical()\u001b[39m,\n",
      "  ..   yellow_cards = \u001b[32mcol_double()\u001b[39m,\n",
      "  ..   GW = \u001b[32mcol_double()\u001b[39m,\n",
      "  ..   player_id = \u001b[32mcol_double()\u001b[39m,\n",
      "  ..   oID = \u001b[32mcol_double()\u001b[39m,\n",
      "  ..   tID = \u001b[32mcol_double()\u001b[39m,\n",
      "  ..   hID = \u001b[32mcol_double()\u001b[39m,\n",
      "  ..   row_id = \u001b[32mcol_double()\u001b[39m\n",
      "  .. )\n",
      " - attr(*, \"problems\")=<externalptr> \n"
     ]
    }
   ],
   "source": [
    "#----------------------------\n",
    "# 0.1: Oppdeling etter posisjon\n",
    "#----------------------------\n",
    "gk <- alternativsammensatt |>\n",
    "  filter(position == \"GK\")\n",
    "\n",
    "def <- alternativsammensatt |>\n",
    "  filter(position == \"DEF\")\n",
    "\n",
    "mid <- alternativsammensatt |>\n",
    "  filter(position == \"MID\")\n",
    "\n",
    "fwd <- alternativsammensatt |>\n",
    "  filter(position == \"FWD\")\n",
    "\n",
    "posliste <- list(gk = gk, def = def, mid = mid, fwd = fwd)\n",
    "lapply(posliste, head, n = 1);lapply(posliste, tail, n = 1)\n",
    "str(gk)\n",
    "\n",
    "unscaled_gk <- gk\n",
    "unscaled_def <- def\n",
    "unscaled_mid <- mid\n",
    "unscaled_fwd <- fwd"
   ]
  },
  {
   "cell_type": "markdown",
   "id": "02954e19",
   "metadata": {
    "_cell_guid": "6b675634-2b6d-4c40-9de5-64a84f70c573",
    "_uuid": "c50bcd09-a0aa-4ca0-bfe8-c7b49252dde5",
    "collapsed": false,
    "jupyter": {
     "outputs_hidden": false
    },
    "papermill": {
     "duration": 0.015829,
     "end_time": "2025-04-17T20:06:06.909901",
     "exception": false,
     "start_time": "2025-04-17T20:06:06.894072",
     "status": "completed"
    },
    "tags": []
   },
   "source": [
    "## 1: Målvakter"
   ]
  },
  {
   "cell_type": "code",
   "execution_count": 11,
   "id": "c69365bc",
   "metadata": {
    "_cell_guid": "4520ebcc-d78e-4ed9-9853-79a3a2531ca9",
    "_uuid": "452f8b55-4cc2-420e-b07f-2785a0cffbd1",
    "collapsed": false,
    "execution": {
     "iopub.execute_input": "2025-04-17T20:06:06.944042Z",
     "iopub.status.busy": "2025-04-17T20:06:06.942403Z",
     "iopub.status.idle": "2025-04-17T20:06:06.983226Z",
     "shell.execute_reply": "2025-04-17T20:06:06.981245Z"
    },
    "jupyter": {
     "outputs_hidden": false
    },
    "papermill": {
     "duration": 0.06146,
     "end_time": "2025-04-17T20:06:06.986058",
     "exception": false,
     "start_time": "2025-04-17T20:06:06.924598",
     "status": "completed"
    },
    "tags": [],
    "vscode": {
     "languageId": "r"
    }
   },
   "outputs": [
    {
     "name": "stdout",
     "output_type": "stream",
     "text": [
      "Numeriske features: assists creativity minutes goals_conceded saves bonus bps expected_assists expected_goal_involvements expected_goals ict_index own_goals red_cards threat transfers_in transfers_out yellow_cards expected_goals_conceded penalties_saved value selected transfers_balance starts influence clean_sheets \n",
      "Kategoriske features: player_id tID oID hID \n",
      "Target variabel: total_points \n",
      "Ferdig"
     ]
    }
   ],
   "source": [
    "#----------------------------\n",
    "# Define Features, Target & Scale\n",
    "#----------------------------\n",
    "numF <- c(\"assists\", \"creativity\", \"minutes\", \"goals_conceded\", \"saves\",\n",
    "          \"bonus\", \"bps\", \"expected_assists\", \"expected_goal_involvements\",\n",
    "          \"expected_goals\", \"ict_index\", \"own_goals\", \"red_cards\",\n",
    "          \"threat\", \"transfers_in\", \"transfers_out\", \"yellow_cards\",\n",
    "          \"expected_goals_conceded\", \"penalties_saved\", \"value\",\n",
    "          \"selected\", \"transfers_balance\", \"starts\", \"influence\",\n",
    "          \"clean_sheets\")\n",
    "catF <- c(\"player_id\", \"tID\", \"oID\", \"hID\")\n",
    "tar <- \"total_points\"\n",
    "\n",
    "cat(\"Numeriske features:\", numF, \"\\n\")\n",
    "cat(\"Kategoriske features:\", catF, \"\\n\")\n",
    "cat(\"Target variabel:\", tar, \"\\n\")\n",
    "cat(\"Ferdig\")"
   ]
  },
  {
   "cell_type": "code",
   "execution_count": 12,
   "id": "e2664d47",
   "metadata": {
    "_cell_guid": "1ed94794-c52a-4a0a-a126-f8210d1bb952",
    "_uuid": "c9ffce5e-4bf7-49da-bf64-de0f5242fa5f",
    "collapsed": false,
    "execution": {
     "iopub.execute_input": "2025-04-17T20:06:07.022137Z",
     "iopub.status.busy": "2025-04-17T20:06:07.020630Z",
     "iopub.status.idle": "2025-04-17T20:06:07.069456Z",
     "shell.execute_reply": "2025-04-17T20:06:07.067650Z"
    },
    "jupyter": {
     "outputs_hidden": false
    },
    "papermill": {
     "duration": 0.068599,
     "end_time": "2025-04-17T20:06:07.071813",
     "exception": false,
     "start_time": "2025-04-17T20:06:07.003214",
     "status": "completed"
    },
    "tags": [],
    "vscode": {
     "languageId": "r"
    }
   },
   "outputs": [
    {
     "name": "stdout",
     "output_type": "stream",
     "text": [
      "Kjørt"
     ]
    }
   ],
   "source": [
    "# Compute and store the mean and standard deviation for the target variable\n",
    "\n",
    "mu <- mean(gk[[tar]], na.rm = TRUE)\n",
    "sigma <- sd(gk[[tar]], na.rm = TRUE)\n",
    "\n",
    "# Scale numerical features and target\n",
    "gk <- gk %>%\n",
    "  mutate(across(all_of(numF), ~ (.x - mean(.x, na.rm = TRUE)) / sd(.x, na.rm = TRUE)),\n",
    "         !!tar := (.data[[tar]] - mu) / sigma)\n",
    "cat(\"Kjørt\")"
   ]
  },
  {
   "cell_type": "markdown",
   "id": "298bf206",
   "metadata": {
    "_cell_guid": "5443b318-5be9-403c-9068-65ad6c7a5b4b",
    "_uuid": "413cc28e-9d11-4b19-91e2-de0f54e3dab9",
    "collapsed": false,
    "jupyter": {
     "outputs_hidden": false
    },
    "papermill": {
     "duration": 0.017012,
     "end_time": "2025-04-17T20:06:07.106081",
     "exception": false,
     "start_time": "2025-04-17T20:06:07.089069",
     "status": "completed"
    },
    "tags": []
   },
   "source": [
    "### 1.3 GK Build Rolling Windows"
   ]
  },
  {
   "cell_type": "code",
   "execution_count": 13,
   "id": "999f218e",
   "metadata": {
    "_cell_guid": "0451d71f-8b47-438f-a4e3-3766227e2ef4",
    "_uuid": "9365e8b1-9ceb-47ea-bb77-8c5d87f6ddfc",
    "collapsed": false,
    "execution": {
     "iopub.execute_input": "2025-04-17T20:06:07.140615Z",
     "iopub.status.busy": "2025-04-17T20:06:07.139085Z",
     "iopub.status.idle": "2025-04-17T20:06:10.764650Z",
     "shell.execute_reply": "2025-04-17T20:06:10.762285Z"
    },
    "jupyter": {
     "outputs_hidden": false
    },
    "papermill": {
     "duration": 3.645829,
     "end_time": "2025-04-17T20:06:10.767326",
     "exception": false,
     "start_time": "2025-04-17T20:06:07.121497",
     "status": "completed"
    },
    "tags": [],
    "vscode": {
     "languageId": "r"
    }
   },
   "outputs": [
    {
     "name": "stdout",
     "output_type": "stream",
     "text": [
      "Kjørt"
     ]
    }
   ],
   "source": [
    "#----------------------------\n",
    "# 3. Build Rolling Windows\n",
    "#----------------------------\n",
    "# Define window size (number of past gameweeks to use)\n",
    "ws <- vindu\n",
    "\n",
    "# Build numerical rolling windows\n",
    "numW <- gk %>%\n",
    "  group_by(player_id) %>%\n",
    "  filter(n() > ws) %>%  # Only players with more than ws observations\n",
    "  group_modify(~ {\n",
    "    windows <- slide(.x[, numF],\n",
    "                     .f = ~ as.matrix(.x),\n",
    "                     .before = ws, \n",
    "                     .after = -1,\n",
    "                     .complete = TRUE)\n",
    "    valid_windows <- windows[(ws + 1):length(windows)]\n",
    "    target <- .x[[tar]][(ws + 1):nrow(.x)]\n",
    "    # Extract row_id for each valid window\n",
    "    rid <- .x$row_id[(ws + 1):nrow(.x)]\n",
    "    tibble(window = valid_windows, target = target, row_id = rid)\n",
    "  }) %>%\n",
    "  ungroup()\n",
    "numW <- numW %>%\n",
    "  left_join(gk %>% select(row_id, GW), by = \"row_id\")\n",
    "\n",
    "# Build categorical rolling windows (if needed for debugging; here we use only the current values)\n",
    "catW <- gk %>%\n",
    "  group_by(player_id) %>%\n",
    "  filter(n() > ws) %>%\n",
    "  group_modify(~ {\n",
    "    df <- ungroup(.x) %>% mutate(player_id = .y$player_id)\n",
    "    windows <- slide(df %>% select(all_of(catF)),\n",
    "                     .f = ~ as.matrix(.x),\n",
    "                     .before = ws,\n",
    "                     #.after = -1,\n",
    "                     .complete = TRUE)\n",
    "    valid_windows <- windows[(ws + 1):length(windows)]\n",
    "    target <- df[[tar]][(ws + 1):nrow(df)]\n",
    "    tibble(window = valid_windows, target = target)\n",
    "  }) %>%\n",
    "  ungroup()\n",
    "\n",
    "cat(\"Kjørt\")"
   ]
  },
  {
   "cell_type": "code",
   "execution_count": 14,
   "id": "b37b15a5",
   "metadata": {
    "_cell_guid": "482dbf30-2ab8-43d8-ac06-febd3fee9a3d",
    "_uuid": "94cb3a0e-f98e-4060-bd78-a80b843184da",
    "collapsed": false,
    "execution": {
     "iopub.execute_input": "2025-04-17T20:06:10.806575Z",
     "iopub.status.busy": "2025-04-17T20:06:10.803954Z",
     "iopub.status.idle": "2025-04-17T20:06:12.908975Z",
     "shell.execute_reply": "2025-04-17T20:06:12.907126Z"
    },
    "jupyter": {
     "outputs_hidden": false
    },
    "papermill": {
     "duration": 2.127669,
     "end_time": "2025-04-17T20:06:12.911637",
     "exception": false,
     "start_time": "2025-04-17T20:06:10.783968",
     "status": "completed"
    },
    "tags": [],
    "vscode": {
     "languageId": "r"
    }
   },
   "outputs": [
    {
     "name": "stdout",
     "output_type": "stream",
     "text": [
      "Windows with NA:  0 \n",
      "Selected features:  assists minutes bps expected_assists own_goals threat transfers_out expected_goals_conceded penalties_saved value selected transfers_balance clean_sheets \n"
     ]
    }
   ],
   "source": [
    "# Check for any NA in the windows before summary\n",
    "sumna <- sapply(numW$window, function(flatW) any(is.na(flatW)))\n",
    "cat(\"Windows with NA: \", sum(sumna), \"\\n\")\n",
    "\n",
    "#----------------------------\n",
    "# 4. Lasso regression\n",
    "#----------------------------\n",
    "\n",
    "# numW as data.matrix, tar as response variable\n",
    "aggmat <- lapply(numW$window, function(flatW){\n",
    "  colMeans(flatW, na.rm = TRUE)\n",
    "})\n",
    "x <- do.call(rbind, aggmat)\n",
    "y <- numW$target\n",
    "\n",
    "# K-fold CV\n",
    "cvfit <- cv.glmnet(x,y,alpha=1)\n",
    "minlambda <- cvfit$lambda.min\n",
    "\n",
    "lassofit <- glmnet(x,y,alpha = 1, lambda = minlambda)\n",
    "\n",
    "coef_lasso <- as.matrix(coef(lassofit))\n",
    "numF <- rownames(coef_lasso)[coef_lasso[,1] != 0]\n",
    "numF <- setdiff(numF, \"(Intercept)\")\n",
    "cat(\"Selected features: \", numF, \"\\n\")\n",
    "\n",
    "# repeat rolling window, now only containing selected features\n",
    "# Define window size (number of past gameweeks to use)\n",
    "ws <- vindu\n",
    "\n",
    "\n",
    "# Build numerical rolling windows\n",
    "numW <- gk %>%\n",
    "  group_by(player_id) %>%\n",
    "  filter(n() > ws) %>%  # Only players with more than ws observations\n",
    "  group_modify(~ {\n",
    "    windows <- slide(.x[, numF],\n",
    "                     .f = ~ as.matrix(.x),\n",
    "                     .before = ws, \n",
    "                     .after = -1,\n",
    "                     .complete = TRUE)\n",
    "    valid_windows <- windows[(ws + 1):length(windows)]\n",
    "    target <- .x[[tar]][(ws + 1):nrow(.x)]\n",
    "    # Extract row_id for each valid window\n",
    "    rid <- .x$row_id[(ws + 1):nrow(.x)]\n",
    "    tibble(window = valid_windows, target = target, row_id = rid)\n",
    "  }) %>%\n",
    "  ungroup()\n",
    "numW <- numW %>%\n",
    "  left_join(gk %>% select(row_id, GW), by = \"row_id\")"
   ]
  },
  {
   "cell_type": "code",
   "execution_count": 15,
   "id": "f9fd6d9e",
   "metadata": {
    "_cell_guid": "3d9a0645-98bf-4549-80f5-c1301a60f868",
    "_uuid": "b50a9b0a-3acb-4051-b794-59ec9ee18f3a",
    "collapsed": false,
    "execution": {
     "iopub.execute_input": "2025-04-17T20:06:12.947830Z",
     "iopub.status.busy": "2025-04-17T20:06:12.946227Z",
     "iopub.status.idle": "2025-04-17T20:06:13.017959Z",
     "shell.execute_reply": "2025-04-17T20:06:13.015919Z"
    },
    "jupyter": {
     "outputs_hidden": false
    },
    "papermill": {
     "duration": 0.093414,
     "end_time": "2025-04-17T20:06:13.021332",
     "exception": false,
     "start_time": "2025-04-17T20:06:12.927918",
     "status": "completed"
    },
    "tags": [],
    "vscode": {
     "languageId": "r"
    }
   },
   "outputs": [
    {
     "name": "stdout",
     "output_type": "stream",
     "text": [
      "Kjørt"
     ]
    }
   ],
   "source": [
    "#============================\n",
    "# 5. Convert Rolling Windows to Arrays & Extract Targets\n",
    "#============================\n",
    "# Number of samples is the number of rows in numW\n",
    "nSamp <- nrow(numW)\n",
    "\n",
    "# Convert numerical windows to a 3D array of shape [nSamp, ws, length(numF)]\n",
    "num_array <- array(\n",
    "  unlist(numW$window),\n",
    "  dim = c(nSamp, ws, length(numF))\n",
    ")\n",
    "\n",
    "# Targets (scaled): a matrix with one column\n",
    "targets <- matrix(as.numeric(numW$target), ncol = 1)\n",
    "\n",
    "# For categorical inputs, extract the current categorical values from the last row of each window.\n",
    "# (If your windows were built solely from historical data, the \"current\" values need to come from the original data.)\n",
    "# Here, we use the categorical rolling windows and extract the last row:\n",
    "cat_current <- do.call(rbind, lapply(catW$window, function(mat) mat[nrow(mat), ]))\n",
    "# Split into separate matrices (each of shape [nSamp, 1])\n",
    "cat_player_id <- matrix(as.integer(cat_current[, \"player_id\"]), ncol = 1)\n",
    "cat_tID <- matrix(as.integer(cat_current[, \"tID\"]), ncol = 1)\n",
    "cat_oID <- matrix(as.integer(cat_current[, \"oID\"]), ncol = 1)\n",
    "cat_hID <- matrix(as.integer(cat_current[, \"hID\"]), ncol = 1)\n",
    "\n",
    "cat(\"Kjørt\")"
   ]
  },
  {
   "cell_type": "code",
   "execution_count": 16,
   "id": "c786b5ad",
   "metadata": {
    "_cell_guid": "d5a751ca-d356-408b-919a-8d91d9f4d351",
    "_uuid": "e73bf174-f4ce-49fc-82da-75420169991a",
    "collapsed": false,
    "execution": {
     "iopub.execute_input": "2025-04-17T20:06:13.058967Z",
     "iopub.status.busy": "2025-04-17T20:06:13.057349Z",
     "iopub.status.idle": "2025-04-17T20:06:13.107146Z",
     "shell.execute_reply": "2025-04-17T20:06:13.104884Z"
    },
    "jupyter": {
     "outputs_hidden": false
    },
    "papermill": {
     "duration": 0.071629,
     "end_time": "2025-04-17T20:06:13.109803",
     "exception": false,
     "start_time": "2025-04-17T20:06:13.038174",
     "status": "completed"
    },
    "tags": [],
    "vscode": {
     "languageId": "r"
    }
   },
   "outputs": [
    {
     "name": "stdout",
     "output_type": "stream",
     "text": [
      "Kjørt"
     ]
    }
   ],
   "source": [
    "#============================\n",
    "# 6. Split Data into Training and Validation Sets\n",
    "#============================\n",
    "set.seed(123)\n",
    "idx <- sample(1:nSamp, size = floor(0.8 * nSamp))\n",
    "\n",
    "# Training data\n",
    "Xnum_train <- num_array[idx, , , drop = FALSE]\n",
    "cat_player_id_train <- cat_player_id[idx, , drop = FALSE]\n",
    "cat_tID_train <- cat_tID[idx, , drop = FALSE]\n",
    "cat_oID_train <- cat_oID[idx, , drop = FALSE]\n",
    "cat_hID_train <- cat_hID[idx, , drop = FALSE]\n",
    "y_train <- targets[idx, , drop = FALSE]\n",
    "\n",
    "# Validation data\n",
    "Xnum_val <- num_array[-idx, , , drop = FALSE]\n",
    "cat_player_id_val <- cat_player_id[-idx, , drop = FALSE]\n",
    "cat_tID_val <- cat_tID[-idx, , drop = FALSE]\n",
    "cat_oID_val <- cat_oID[-idx, , drop = FALSE]\n",
    "cat_hID_val <- cat_hID[-idx, , drop = FALSE]\n",
    "y_val <- targets[-idx, , drop = FALSE]\n",
    "\n",
    "# Also, extract the row IDs for the validation samples (for later joining)\n",
    "val_row_ids <- numW$row_id[-idx]\n",
    "\n",
    "cat(\"Kjørt\")"
   ]
  },
  {
   "cell_type": "code",
   "execution_count": 18,
   "id": "6b904f95",
   "metadata": {
    "_cell_guid": "343df3d6-532e-45e9-ac4a-bfb2a63707dd",
    "_uuid": "b0453b74-447d-4a84-8ad3-8cef74fba6c9",
    "collapsed": false,
    "execution": {
     "iopub.execute_input": "2025-04-17T20:06:13.145725Z",
     "iopub.status.busy": "2025-04-17T20:06:13.144161Z",
     "iopub.status.idle": "2025-04-17T20:06:13.807378Z",
     "shell.execute_reply": "2025-04-17T20:06:13.805021Z"
    },
    "jupyter": {
     "outputs_hidden": false
    },
    "papermill": {
     "duration": 0.68402,
     "end_time": "2025-04-17T20:06:13.809767",
     "exception": false,
     "start_time": "2025-04-17T20:06:13.125747",
     "status": "completed"
    },
    "tags": [],
    "vscode": {
     "languageId": "r"
    }
   },
   "outputs": [
    {
     "ename": "ERROR",
     "evalue": "Exception encountered when calling Lambda.call().\n\n\u001b[1mWe could not automatically infer the shape of the Lambda's output. Please specify the `output_shape` argument for this Lambda layer.\u001b[0m\n\nArguments received by Lambda.call():\n  • args=('<KerasTensor shape=(None, 1), dtype=int32, sparse=False, ragged=False, name=input_hID>',)\n  • kwargs={'mask': 'None'}",
     "output_type": "error",
     "traceback": [
      "Exception encountered when calling Lambda.call().\n\n\u001b[1mWe could not automatically infer the shape of the Lambda's output. Please specify the `output_shape` argument for this Lambda layer.\u001b[0m\n\nArguments received by Lambda.call():\n  • args=('<KerasTensor shape=(None, 1), dtype=int32, sparse=False, ragged=False, name=input_hID>',)\n  • kwargs={'mask': 'None'}Traceback:\n",
      "1. layer_flatten(.)",
      "2. create_layer(keras$layers$Flatten, object, args)",
      "3. layer_lambda(., function(x) tf$cast(x, tf$float32))",
      "4. create_layer(keras$layers$Lambda, object, args)",
      "5. compose_layer(object, layer)",
      "6. layer(object, ...)",
      "7. compose_layer(object = object, layer = x, ...)",
      "8. layer(object, ...)",
      "9. py_call_impl(callable, call_args$unnamed, call_args$named)",
      "10. stop(structure(list(message = \"NotImplementedError: Exception encountered when calling Lambda.call().\\n\\n\\033[1mWe could not automatically infer the shape of the Lambda's output. Please specify the `output_shape` argument for this Lambda layer.\\033[0m\\n\\nArguments received by Lambda.call():\\n  • args=('<KerasTensor shape=(None, 1), dtype=int32, sparse=False, ragged=False, name=input_hID>',)\\n  • kwargs={'mask': 'None'}\\nRun `reticulate::py_last_error()` for details.\", \n  .     call = py_call_impl(callable, call_args$unnamed, call_args$named)), class = c(\"python.builtin.NotImplementedError\", \n  . \"python.builtin.RuntimeError\", \"python.builtin.Exception\", \"python.builtin.BaseException\", \n  . \"python.builtin.object\", \"error\", \"condition\"), py_object = <environment>))"
     ]
    }
   ],
   "source": [
    "#============================\n",
    "# 7. Build the Model\n",
    "#============================\n",
    "# Define maximum values for categorical features\n",
    "num_players   <- max(gk$player_id)\n",
    "num_teams     <- max(gk$tID)\n",
    "num_opponents <- max(gk$oID)\n",
    "# For hID, assume it???s binary\n",
    "\n",
    "emb_dim <- 20  # Embedding dimension\n",
    "\n",
    "# Create input layers for current categorical values\n",
    "input_player_id <- layer_input(shape = c(1), dtype = \"int32\", name = \"input_player_id\")\n",
    "input_tID <- layer_input(shape = c(1), dtype = \"int32\", name = \"input_tID\")\n",
    "input_oID <- layer_input(shape = c(1), dtype = \"int32\", name = \"input_oID\")\n",
    "input_hID <- layer_input(shape = c(1), dtype = \"int32\", name = \"input_hID\")\n",
    "\n",
    "embedding_player_id <- input_player_id %>% \n",
    "  layer_embedding(input_dim = num_players + 1, output_dim = emb_dim, mask_zero = TRUE) %>% \n",
    "  layer_flatten()\n",
    "embedding_tID <- input_tID %>% \n",
    "  layer_embedding(input_dim = num_teams + 1, output_dim = emb_dim, mask_zero = TRUE) %>% \n",
    "  layer_flatten()\n",
    "embedding_oID <- input_oID %>% \n",
    "  layer_embedding(input_dim = num_opponents + 1, output_dim = emb_dim, mask_zero = TRUE) %>% \n",
    "  layer_flatten()\n",
    "# For hID, convert to float32 to match types\n",
    "input_hID_flat <- input_hID %>% \n",
    "  layer_lambda(function(x) tf$cast(x, tf$float32)) %>% \n",
    "  layer_flatten()\n",
    "\n",
    "# Merge categorical branch\n",
    "cat_merged <- layer_concatenate(list(embedding_player_id, embedding_tID, embedding_oID, input_hID_flat)) %>%\n",
    "  layer_dense(units = 16, activation = \"relu\")\n",
    "\n",
    "# Numerical branch: input for rolling window data\n",
    "input_seq <- layer_input(shape = c(ws, length(numF)), name = \"input_seq\")\n",
    "lstm_branch <- input_seq %>%\n",
    "  layer_lstm(units = 64, return_sequences = FALSE) %>%\n",
    "  layer_dropout(rate = 0.2)\n",
    "\n",
    "# Merge both branches and build the output\n",
    "merged <- layer_concatenate(list(lstm_branch, cat_merged))\n",
    "dense_layer <- merged %>% layer_dense(units = 32, activation = \"relu\")\n",
    "output <- dense_layer %>% layer_dense(units = 1, activation = \"linear\")\n",
    "\n",
    "# Build and compile the model\n",
    "model <- keras_model(\n",
    "  inputs = list(input_seq, input_player_id, input_tID, input_oID, input_hID),\n",
    "  outputs = output,\n",
    "    name = \"Goalkeeper LSTM Model\"\n",
    ")\n",
    "model %>% compile(\n",
    "  optimizer = optimizer_adam(),\n",
    "  loss = \"mse\",\n",
    "  metrics = \"mae\",\n",
    "  run_eagerly = TRUE\n",
    ")\n",
    "summary(model)"
   ]
  },
  {
   "cell_type": "code",
   "execution_count": null,
   "id": "d50a1d00",
   "metadata": {
    "_cell_guid": "ba1c490f-832b-4c12-89a7-873de457445d",
    "_uuid": "766cdac5-4e6d-406f-9bfb-bd3032e11de2",
    "collapsed": false,
    "execution": {
     "iopub.execute_input": "2025-04-17T20:06:13.845980Z",
     "iopub.status.busy": "2025-04-17T20:06:13.844413Z",
     "iopub.status.idle": "2025-04-17T20:11:29.791496Z",
     "shell.execute_reply": "2025-04-17T20:11:29.789722Z"
    },
    "jupyter": {
     "outputs_hidden": false
    },
    "papermill": {
     "duration": 315.983768,
     "end_time": "2025-04-17T20:11:29.809292",
     "exception": false,
     "start_time": "2025-04-17T20:06:13.825524",
     "status": "completed"
    },
    "tags": [],
    "vscode": {
     "languageId": "r"
    }
   },
   "outputs": [
    {
     "name": "stdout",
     "output_type": "stream",
     "text": [
      "Kjørt"
     ]
    }
   ],
   "source": [
    " #============================\n",
    "# 8. Train the Model\n",
    "#============================\n",
    "history <- model %>% fit(\n",
    "  x = list(\n",
    "    input_seq = Xnum_train,\n",
    "    input_player_id = cat_player_id_train,\n",
    "    input_tID = cat_tID_train,\n",
    "    input_oID = cat_oID_train,\n",
    "    input_hID = cat_hID_train\n",
    "  ),\n",
    "  y = y_train,\n",
    "  epochs = epoker,\n",
    "  batch_size = 32,\n",
    "  validation_data = list(\n",
    "    list(\n",
    "      input_seq = Xnum_val,\n",
    "      input_player_id = cat_player_id_val,\n",
    "      input_tID = cat_tID_val,\n",
    "      input_oID = cat_oID_val,\n",
    "      input_hID = cat_hID_val\n",
    "    ),\n",
    "    y_val\n",
    "  )\n",
    ")\n",
    "\n",
    "cat(\"Kjørt\")"
   ]
  },
  {
   "cell_type": "code",
   "execution_count": null,
   "id": "9a0ce707",
   "metadata": {
    "_cell_guid": "bbef2b7c-cd63-4312-a272-fd942077e0f5",
    "_uuid": "c6a2133f-ec39-4c60-a7db-695fb59cbe10",
    "collapsed": false,
    "execution": {
     "iopub.execute_input": "2025-04-17T20:11:29.849124Z",
     "iopub.status.busy": "2025-04-17T20:11:29.847289Z",
     "iopub.status.idle": "2025-04-17T20:11:31.205071Z",
     "shell.execute_reply": "2025-04-17T20:11:31.202203Z"
    },
    "jupyter": {
     "outputs_hidden": false
    },
    "papermill": {
     "duration": 1.379891,
     "end_time": "2025-04-17T20:11:31.208326",
     "exception": false,
     "start_time": "2025-04-17T20:11:29.828435",
     "status": "completed"
    },
    "tags": [],
    "vscode": {
     "languageId": "r"
    }
   },
   "outputs": [
    {
     "name": "stdout",
     "output_type": "stream",
     "text": [
      "Rows: 1,547\n",
      "Columns: 49\n",
      "$ row_id                        \u001b[3m\u001b[90m<dbl>\u001b[39m\u001b[23m 267, 269, 271, 272, 276, 279, 281, 285, …\n",
      "$ predicted_total_points_scaled \u001b[3m\u001b[90m<dbl>\u001b[39m\u001b[23m 1.182358146, 0.614199698, 0.225941584, -…\n",
      "$ actual_total_points_scaled    \u001b[3m\u001b[90m<dbl>\u001b[39m\u001b[23m 2.51484357, 0.55703873, 4.96209962, 0.06…\n",
      "$ predicted_total_points        \u001b[3m\u001b[90m<dbl>\u001b[39m\u001b[23m 3.2775929, 2.1167858, 1.3235339, 0.59734…\n",
      "$ actual_total_points           \u001b[3m\u001b[90m<dbl>\u001b[39m\u001b[23m 6, 2, 11, 1, 2, 1, 3, 2, 1, 2, 1, 0, 0, …\n",
      "$ name                          \u001b[3m\u001b[90m<chr>\u001b[39m\u001b[23m \"Aaron Ramsdale\", \"Aaron Ramsdale\", \"Aar…\n",
      "$ position                      \u001b[3m\u001b[90m<chr>\u001b[39m\u001b[23m \"GK\", \"GK\", \"GK\", \"GK\", \"GK\", \"GK\", \"GK\"…\n",
      "$ team                          \u001b[3m\u001b[90m<chr>\u001b[39m\u001b[23m \"Arsenal\", \"Arsenal\", \"Arsenal\", \"Arsena…\n",
      "$ xP                            \u001b[3m\u001b[90m<dbl>\u001b[39m\u001b[23m 6.5, 3.0, 5.5, 5.1, 2.5, 4.2, 5.1, 2.8, …\n",
      "$ assists                       \u001b[3m\u001b[90m<dbl>\u001b[39m\u001b[23m 0, 0, 0, 0, 0, 0, 0, 0, 0, 0, 0, 0, 0, 0…\n",
      "$ bonus                         \u001b[3m\u001b[90m<dbl>\u001b[39m\u001b[23m 0, 0, 3, 0, 0, 0, 0, 0, 0, 0, 0, 0, 0, 0…\n",
      "$ bps                           \u001b[3m\u001b[90m<dbl>\u001b[39m\u001b[23m 24, 15, 36, 8, 14, 12, 13, 11, 18, 11, 1…\n",
      "$ clean_sheets                  \u001b[3m\u001b[90m<dbl>\u001b[39m\u001b[23m 1, 0, 1, 0, 0, 0, 0, 0, 0, 0, 0, 0, 0, 0…\n",
      "$ creativity                    \u001b[3m\u001b[90m<dbl>\u001b[39m\u001b[23m 0, 0, 0, 0, 0, 0, 0, 0, 0, 0, 0, 0, 0, 0…\n",
      "$ expected_assists              \u001b[3m\u001b[90m<dbl>\u001b[39m\u001b[23m 0.00014, 0.00053, 0.00044, 0.00121, 0.00…\n",
      "$ expected_goal_involvements    \u001b[3m\u001b[90m<dbl>\u001b[39m\u001b[23m 0.00014, 0.00053, 0.00044, 0.00121, 0.00…\n",
      "$ expected_goals                \u001b[3m\u001b[90m<dbl>\u001b[39m\u001b[23m 0, 0, 0, 0, 0, 0, 0, 0, 0, 0, 0, 0, 0, 0…\n",
      "$ expected_goals_conceded       \u001b[3m\u001b[90m<dbl>\u001b[39m\u001b[23m 0.4928, 1.1451, 1.5397, 0.3316, 0.5100, …\n",
      "$ fixture                       \u001b[3m\u001b[90m<dbl>\u001b[39m\u001b[23m 160, 172, 199, 201, 231, 251, 271, 311, …\n",
      "$ goals_conceded                \u001b[3m\u001b[90m<dbl>\u001b[39m\u001b[23m 0, 2, 0, 2, 2, 2, 1, 3, 4, 1, 2, 0, 0, 0…\n",
      "$ goals_scored                  \u001b[3m\u001b[90m<dbl>\u001b[39m\u001b[23m 0, 0, 0, 0, 0, 0, 0, 0, 0, 0, 0, 0, 0, 0…\n",
      "$ ict_index                     \u001b[3m\u001b[90m<dbl>\u001b[39m\u001b[23m 1.4, 2.3, 5.4, 1.0, 2.3, 1.8, 2.8, 1.8, …\n",
      "$ influence                     \u001b[3m\u001b[90m<dbl>\u001b[39m\u001b[23m 14.4, 23.2, 54.2, 9.8, 22.6, 18.4, 27.6,…\n",
      "$ kickoff_time                  \u001b[3m\u001b[90m<dttm>\u001b[39m\u001b[23m 2022-11-12 19:45:00, 2022-12-31 17:30:0…\n",
      "$ minutes                       \u001b[3m\u001b[90m<dbl>\u001b[39m\u001b[23m 90, 90, 90, 90, 90, 90, 90, 90, 90, 90, …\n",
      "$ opponent_team                 \u001b[3m\u001b[90m<chr>\u001b[39m\u001b[23m \"Wolves\", \"Brighton\", \"Tottenham\", \"Man …\n",
      "$ own_goals                     \u001b[3m\u001b[90m<dbl>\u001b[39m\u001b[23m 0, 0, 0, 0, 0, 0, 0, 0, 0, 0, 0, 0, 0, 0…\n",
      "$ penalties_missed              \u001b[3m\u001b[90m<dbl>\u001b[39m\u001b[23m 0, 0, 0, 0, 0, 0, 0, 0, 0, 0, 0, 0, 0, 0…\n",
      "$ penalties_saved               \u001b[3m\u001b[90m<dbl>\u001b[39m\u001b[23m 0, 0, 0, 0, 0, 0, 0, 0, 0, 0, 0, 0, 0, 0…\n",
      "$ red_cards                     \u001b[3m\u001b[90m<dbl>\u001b[39m\u001b[23m 0, 0, 0, 0, 0, 0, 0, 0, 0, 0, 0, 0, 0, 0…\n",
      "$ round                         \u001b[3m\u001b[90m<dbl>\u001b[39m\u001b[23m 16, 18, 20, 21, 24, 26, 28, 32, 33, 37, …\n",
      "$ saves                         \u001b[3m\u001b[90m<dbl>\u001b[39m\u001b[23m 2, 3, 7, 2, 3, 2, 3, 3, 5, 1, 1, 0, 0, 0…\n",
      "$ selected                      \u001b[3m\u001b[90m<dbl>\u001b[39m\u001b[23m 1184091, 1353853, 1274675, 1326171, 1349…\n",
      "$ starts                        \u001b[3m\u001b[90m<dbl>\u001b[39m\u001b[23m 1, 1, 1, 1, 1, 1, 1, 1, 1, 1, 1, 0, 0, 0…\n",
      "$ team_a_score                  \u001b[3m\u001b[90m<dbl>\u001b[39m\u001b[23m 2, 4, 2, 2, 4, 2, 1, 3, 1, 0, 2, 2, 2, 1…\n",
      "$ team_h_score                  \u001b[3m\u001b[90m<dbl>\u001b[39m\u001b[23m 0, 2, 0, 3, 2, 3, 4, 3, 4, 1, 2, 2, 2, 3…\n",
      "$ threat                        \u001b[3m\u001b[90m<dbl>\u001b[39m\u001b[23m 0, 0, 0, 0, 0, 0, 0, 0, 0, 0, 0, 0, 0, 0…\n",
      "$ total_points                  \u001b[3m\u001b[90m<dbl>\u001b[39m\u001b[23m 6, 2, 11, 1, 2, 1, 3, 2, 1, 2, 1, 0, 0, …\n",
      "$ transfers_balance             \u001b[3m\u001b[90m<dbl>\u001b[39m\u001b[23m 46799, -17148, -36929, 36936, -4614, -29…\n",
      "$ transfers_in                  \u001b[3m\u001b[90m<dbl>\u001b[39m\u001b[23m 70419, 21408, 18330, 66258, 25414, 39570…\n",
      "$ transfers_out                 \u001b[3m\u001b[90m<dbl>\u001b[39m\u001b[23m 23620, 38556, 55259, 29322, 30028, 42559…\n",
      "$ value                         \u001b[3m\u001b[90m<dbl>\u001b[39m\u001b[23m 49, 49, 49, 49, 49, 49, 49, 49, 49, 48, …\n",
      "$ was_home                      \u001b[3m\u001b[90m<lgl>\u001b[39m\u001b[23m FALSE, FALSE, FALSE, TRUE, FALSE, TRUE, …\n",
      "$ yellow_cards                  \u001b[3m\u001b[90m<dbl>\u001b[39m\u001b[23m 0, 0, 0, 0, 0, 0, 0, 0, 0, 0, 0, 0, 0, 0…\n",
      "$ GW                            \u001b[3m\u001b[90m<dbl>\u001b[39m\u001b[23m 16, 18, 20, 21, 24, 26, 28, 32, 33, 37, …\n",
      "$ player_id                     \u001b[3m\u001b[90m<dbl>\u001b[39m\u001b[23m 5, 5, 5, 5, 5, 5, 5, 5, 5, 5, 5, 5, 5, 5…\n",
      "$ oID                           \u001b[3m\u001b[90m<dbl>\u001b[39m\u001b[23m 24, 5, 22, 17, 2, 3, 8, 21, 16, 19, 10, …\n",
      "$ tID                           \u001b[3m\u001b[90m<dbl>\u001b[39m\u001b[23m 1, 1, 1, 1, 1, 1, 1, 1, 1, 1, 1, 1, 1, 1…\n",
      "$ hID                           \u001b[3m\u001b[90m<dbl>\u001b[39m\u001b[23m 0, 0, 0, 1, 0, 1, 1, 1, 0, 0, 1, 1, 0, 1…\n"
     ]
    },
    {
     "data": {
      "text/html": [
       "<table class=\"dataframe\">\n",
       "<caption>A tibble: 20 × 49</caption>\n",
       "<thead>\n",
       "\t<tr><th scope=col>row_id</th><th scope=col>predicted_total_points_scaled</th><th scope=col>actual_total_points_scaled</th><th scope=col>predicted_total_points</th><th scope=col>actual_total_points</th><th scope=col>name</th><th scope=col>position</th><th scope=col>team</th><th scope=col>xP</th><th scope=col>assists</th><th scope=col>⋯</th><th scope=col>transfers_in</th><th scope=col>transfers_out</th><th scope=col>value</th><th scope=col>was_home</th><th scope=col>yellow_cards</th><th scope=col>GW</th><th scope=col>player_id</th><th scope=col>oID</th><th scope=col>tID</th><th scope=col>hID</th></tr>\n",
       "\t<tr><th scope=col>&lt;dbl&gt;</th><th scope=col>&lt;dbl&gt;</th><th scope=col>&lt;dbl&gt;</th><th scope=col>&lt;dbl&gt;</th><th scope=col>&lt;dbl&gt;</th><th scope=col>&lt;chr&gt;</th><th scope=col>&lt;chr&gt;</th><th scope=col>&lt;chr&gt;</th><th scope=col>&lt;dbl&gt;</th><th scope=col>&lt;dbl&gt;</th><th scope=col>⋯</th><th scope=col>&lt;dbl&gt;</th><th scope=col>&lt;dbl&gt;</th><th scope=col>&lt;dbl&gt;</th><th scope=col>&lt;lgl&gt;</th><th scope=col>&lt;dbl&gt;</th><th scope=col>&lt;dbl&gt;</th><th scope=col>&lt;dbl&gt;</th><th scope=col>&lt;dbl&gt;</th><th scope=col>&lt;dbl&gt;</th><th scope=col>&lt;dbl&gt;</th></tr>\n",
       "</thead>\n",
       "<tbody>\n",
       "\t<tr><td>63058</td><td> 0.05006193</td><td> 0.55703873</td><td>0.9641934</td><td> 2</td><td>Robert Sanchez</td><td>GK</td><td>Brighton</td><td>3.0</td><td>0</td><td>⋯</td><td> 78144</td><td> 22275</td><td>46</td><td>FALSE</td><td>0</td><td>15</td><td>1085</td><td>24</td><td>5</td><td>0</td></tr>\n",
       "\t<tr><td>63060</td><td> 0.39181608</td><td> 3.98319720</td><td>1.6624328</td><td> 9</td><td>Robert Sanchez</td><td>GK</td><td>Brighton</td><td>9.0</td><td>0</td><td>⋯</td><td>144672</td><td>353532</td><td>46</td><td>FALSE</td><td>1</td><td>17</td><td>1085</td><td>21</td><td>5</td><td>0</td></tr>\n",
       "\t<tr><td>63065</td><td>-0.05515195</td><td> 3.49374599</td><td>0.7492304</td><td> 8</td><td>Robert Sanchez</td><td>GK</td><td>Brighton</td><td>5.3</td><td>0</td><td>⋯</td><td> 26972</td><td> 50311</td><td>46</td><td> TRUE</td><td>0</td><td>22</td><td>1085</td><td> 3</td><td>5</td><td>1</td></tr>\n",
       "\t<tr><td>63072</td><td> 0.32641160</td><td>-0.42186369</td><td>1.5288047</td><td> 0</td><td>Robert Sanchez</td><td>GK</td><td>Brighton</td><td>0.5</td><td>0</td><td>⋯</td><td> 24793</td><td>106846</td><td>46</td><td>FALSE</td><td>0</td><td>29</td><td>1085</td><td> 3</td><td>5</td><td>0</td></tr>\n",
       "\t<tr><td>63074</td><td> 0.38657200</td><td> 0.06758752</td><td>1.6517186</td><td> 1</td><td>Robert Sanchez</td><td>GK</td><td>Brighton</td><td>0.2</td><td>0</td><td>⋯</td><td>  3288</td><td> 39187</td><td>45</td><td>FALSE</td><td>1</td><td>31</td><td>1085</td><td> 7</td><td>5</td><td>0</td></tr>\n",
       "\t<tr><td>63076</td><td> 0.16691664</td><td>-0.42186369</td><td>1.2029398</td><td> 0</td><td>Robert Sanchez</td><td>GK</td><td>Brighton</td><td>0.4</td><td>0</td><td>⋯</td><td> 24196</td><td> 52946</td><td>45</td><td> TRUE</td><td>0</td><td>34</td><td>1085</td><td>24</td><td>5</td><td>1</td></tr>\n",
       "\t<tr><td>63080</td><td> 0.23105980</td><td>-0.42186369</td><td>1.3339910</td><td> 0</td><td>Robert Sanchez</td><td>GK</td><td>Brighton</td><td>0.0</td><td>0</td><td>⋯</td><td>  7348</td><td> 30073</td><td>45</td><td>FALSE</td><td>0</td><td>36</td><td>1085</td><td>18</td><td>5</td><td>0</td></tr>\n",
       "\t<tr><td>63084</td><td> 0.22780409</td><td> 0.55703873</td><td>1.3273392</td><td> 2</td><td>Robert Sanchez</td><td>GK</td><td>Chelsea </td><td>1.9</td><td>0</td><td>⋯</td><td>     0</td><td>     0</td><td>45</td><td> TRUE</td><td>0</td><td>39</td><td>1085</td><td>14</td><td>7</td><td>1</td></tr>\n",
       "\t<tr><td>63085</td><td> 1.09823811</td><td> 0.55703873</td><td>3.1057269</td><td> 2</td><td>Robert Sanchez</td><td>GK</td><td>Chelsea </td><td>2.0</td><td>0</td><td>⋯</td><td> 82350</td><td> 21130</td><td>45</td><td>FALSE</td><td>0</td><td>40</td><td>1085</td><td>23</td><td>7</td><td>0</td></tr>\n",
       "\t<tr><td>63087</td><td> 0.40253937</td><td> 0.55703873</td><td>1.6843417</td><td> 2</td><td>Robert Sanchez</td><td>GK</td><td>Chelsea </td><td>3.0</td><td>0</td><td>⋯</td><td> 89608</td><td> 38523</td><td>45</td><td> TRUE</td><td>0</td><td>42</td><td>1085</td><td>19</td><td>7</td><td>1</td></tr>\n",
       "\t<tr><td>63092</td><td> 0.08586167</td><td> 0.06758752</td><td>1.0373360</td><td> 1</td><td>Robert Sanchez</td><td>GK</td><td>Chelsea </td><td>2.8</td><td>0</td><td>⋯</td><td> 30145</td><td> 47940</td><td>46</td><td> TRUE</td><td>0</td><td>47</td><td>1085</td><td> 1</td><td>7</td><td>1</td></tr>\n",
       "\t<tr><td>63098</td><td> 1.03171813</td><td> 4.96209962</td><td>2.9698197</td><td>11</td><td>Robert Sanchez</td><td>GK</td><td>Chelsea </td><td>3.3</td><td>0</td><td>⋯</td><td> 26356</td><td> 22163</td><td>46</td><td>FALSE</td><td>0</td><td>53</td><td>1085</td><td>17</td><td>7</td><td>0</td></tr>\n",
       "\t<tr><td>63114</td><td> 0.63078398</td><td>-0.42186369</td><td>2.1506692</td><td> 0</td><td>Robert Sanchez</td><td>GK</td><td>Chelsea </td><td>0.0</td><td>0</td><td>⋯</td><td>   308</td><td>  4558</td><td>45</td><td> TRUE</td><td>0</td><td>71</td><td>1085</td><td> 9</td><td>7</td><td>1</td></tr>\n",
       "\t<tr><td>63118</td><td> 0.82508790</td><td>-0.42186369</td><td>2.5476525</td><td> 0</td><td>Robert Sanchez</td><td>GK</td><td>Chelsea </td><td>0.0</td><td>0</td><td>⋯</td><td>    93</td><td>  3118</td><td>45</td><td> TRUE</td><td>0</td><td>74</td><td>1085</td><td>23</td><td>7</td><td>1</td></tr>\n",
       "\t<tr><td>63120</td><td> 0.07209429</td><td>-0.42186369</td><td>1.0092078</td><td> 0</td><td>Robert Sanchez</td><td>GK</td><td>Chelsea </td><td>0.0</td><td>0</td><td>⋯</td><td>   105</td><td>  5059</td><td>45</td><td>FALSE</td><td>0</td><td>75</td><td>1085</td><td> 5</td><td>7</td><td>0</td></tr>\n",
       "\t<tr><td>63136</td><td> 0.41680044</td><td>-0.42186369</td><td>1.7134785</td><td> 0</td><td>Robert Sanchez</td><td>GK</td><td>Chelsea </td><td>2.0</td><td>0</td><td>⋯</td><td> 29671</td><td> 82805</td><td>48</td><td>FALSE</td><td>1</td><td>91</td><td>1085</td><td>22</td><td>7</td><td>0</td></tr>\n",
       "\t<tr><td>63138</td><td> 0.35202479</td><td> 3.98319720</td><td>1.5811351</td><td> 9</td><td>Robert Sanchez</td><td>GK</td><td>Chelsea </td><td>3.8</td><td>0</td><td>⋯</td><td> 94070</td><td> 37112</td><td>48</td><td>FALSE</td><td>0</td><td>93</td><td>1085</td><td> 9</td><td>7</td><td>0</td></tr>\n",
       "\t<tr><td>63140</td><td> 3.28487110</td><td>-0.42186369</td><td>7.5732468</td><td> 0</td><td>Robert Sanchez</td><td>GK</td><td>Chelsea </td><td>2.8</td><td>0</td><td>⋯</td><td> 77742</td><td> 44163</td><td>48</td><td>FALSE</td><td>0</td><td>95</td><td>1085</td><td>11</td><td>7</td><td>0</td></tr>\n",
       "\t<tr><td>63143</td><td> 0.13890590</td><td> 0.55703873</td><td>1.1457109</td><td> 2</td><td>Robert Sanchez</td><td>GK</td><td>Chelsea </td><td>0.0</td><td>0</td><td>⋯</td><td> 16271</td><td> 88263</td><td>48</td><td> TRUE</td><td>1</td><td>98</td><td>1085</td><td>24</td><td>7</td><td>1</td></tr>\n",
       "\t<tr><td>63144</td><td> 0.31464005</td><td> 0.55703873</td><td>1.5047541</td><td> 2</td><td>Robert Sanchez</td><td>GK</td><td>Chelsea </td><td>2.0</td><td>0</td><td>⋯</td><td>  7253</td><td>159692</td><td>48</td><td>FALSE</td><td>0</td><td>99</td><td>1085</td><td>16</td><td>7</td><td>0</td></tr>\n",
       "</tbody>\n",
       "</table>\n"
      ],
      "text/latex": [
       "A tibble: 20 × 49\n",
       "\\begin{tabular}{lllllllllllllllllllll}\n",
       " row\\_id & predicted\\_total\\_points\\_scaled & actual\\_total\\_points\\_scaled & predicted\\_total\\_points & actual\\_total\\_points & name & position & team & xP & assists & ⋯ & transfers\\_in & transfers\\_out & value & was\\_home & yellow\\_cards & GW & player\\_id & oID & tID & hID\\\\\n",
       " <dbl> & <dbl> & <dbl> & <dbl> & <dbl> & <chr> & <chr> & <chr> & <dbl> & <dbl> & ⋯ & <dbl> & <dbl> & <dbl> & <lgl> & <dbl> & <dbl> & <dbl> & <dbl> & <dbl> & <dbl>\\\\\n",
       "\\hline\n",
       "\t 63058 &  0.05006193 &  0.55703873 & 0.9641934 &  2 & Robert Sanchez & GK & Brighton & 3.0 & 0 & ⋯ &  78144 &  22275 & 46 & FALSE & 0 & 15 & 1085 & 24 & 5 & 0\\\\\n",
       "\t 63060 &  0.39181608 &  3.98319720 & 1.6624328 &  9 & Robert Sanchez & GK & Brighton & 9.0 & 0 & ⋯ & 144672 & 353532 & 46 & FALSE & 1 & 17 & 1085 & 21 & 5 & 0\\\\\n",
       "\t 63065 & -0.05515195 &  3.49374599 & 0.7492304 &  8 & Robert Sanchez & GK & Brighton & 5.3 & 0 & ⋯ &  26972 &  50311 & 46 &  TRUE & 0 & 22 & 1085 &  3 & 5 & 1\\\\\n",
       "\t 63072 &  0.32641160 & -0.42186369 & 1.5288047 &  0 & Robert Sanchez & GK & Brighton & 0.5 & 0 & ⋯ &  24793 & 106846 & 46 & FALSE & 0 & 29 & 1085 &  3 & 5 & 0\\\\\n",
       "\t 63074 &  0.38657200 &  0.06758752 & 1.6517186 &  1 & Robert Sanchez & GK & Brighton & 0.2 & 0 & ⋯ &   3288 &  39187 & 45 & FALSE & 1 & 31 & 1085 &  7 & 5 & 0\\\\\n",
       "\t 63076 &  0.16691664 & -0.42186369 & 1.2029398 &  0 & Robert Sanchez & GK & Brighton & 0.4 & 0 & ⋯ &  24196 &  52946 & 45 &  TRUE & 0 & 34 & 1085 & 24 & 5 & 1\\\\\n",
       "\t 63080 &  0.23105980 & -0.42186369 & 1.3339910 &  0 & Robert Sanchez & GK & Brighton & 0.0 & 0 & ⋯ &   7348 &  30073 & 45 & FALSE & 0 & 36 & 1085 & 18 & 5 & 0\\\\\n",
       "\t 63084 &  0.22780409 &  0.55703873 & 1.3273392 &  2 & Robert Sanchez & GK & Chelsea  & 1.9 & 0 & ⋯ &      0 &      0 & 45 &  TRUE & 0 & 39 & 1085 & 14 & 7 & 1\\\\\n",
       "\t 63085 &  1.09823811 &  0.55703873 & 3.1057269 &  2 & Robert Sanchez & GK & Chelsea  & 2.0 & 0 & ⋯ &  82350 &  21130 & 45 & FALSE & 0 & 40 & 1085 & 23 & 7 & 0\\\\\n",
       "\t 63087 &  0.40253937 &  0.55703873 & 1.6843417 &  2 & Robert Sanchez & GK & Chelsea  & 3.0 & 0 & ⋯ &  89608 &  38523 & 45 &  TRUE & 0 & 42 & 1085 & 19 & 7 & 1\\\\\n",
       "\t 63092 &  0.08586167 &  0.06758752 & 1.0373360 &  1 & Robert Sanchez & GK & Chelsea  & 2.8 & 0 & ⋯ &  30145 &  47940 & 46 &  TRUE & 0 & 47 & 1085 &  1 & 7 & 1\\\\\n",
       "\t 63098 &  1.03171813 &  4.96209962 & 2.9698197 & 11 & Robert Sanchez & GK & Chelsea  & 3.3 & 0 & ⋯ &  26356 &  22163 & 46 & FALSE & 0 & 53 & 1085 & 17 & 7 & 0\\\\\n",
       "\t 63114 &  0.63078398 & -0.42186369 & 2.1506692 &  0 & Robert Sanchez & GK & Chelsea  & 0.0 & 0 & ⋯ &    308 &   4558 & 45 &  TRUE & 0 & 71 & 1085 &  9 & 7 & 1\\\\\n",
       "\t 63118 &  0.82508790 & -0.42186369 & 2.5476525 &  0 & Robert Sanchez & GK & Chelsea  & 0.0 & 0 & ⋯ &     93 &   3118 & 45 &  TRUE & 0 & 74 & 1085 & 23 & 7 & 1\\\\\n",
       "\t 63120 &  0.07209429 & -0.42186369 & 1.0092078 &  0 & Robert Sanchez & GK & Chelsea  & 0.0 & 0 & ⋯ &    105 &   5059 & 45 & FALSE & 0 & 75 & 1085 &  5 & 7 & 0\\\\\n",
       "\t 63136 &  0.41680044 & -0.42186369 & 1.7134785 &  0 & Robert Sanchez & GK & Chelsea  & 2.0 & 0 & ⋯ &  29671 &  82805 & 48 & FALSE & 1 & 91 & 1085 & 22 & 7 & 0\\\\\n",
       "\t 63138 &  0.35202479 &  3.98319720 & 1.5811351 &  9 & Robert Sanchez & GK & Chelsea  & 3.8 & 0 & ⋯ &  94070 &  37112 & 48 & FALSE & 0 & 93 & 1085 &  9 & 7 & 0\\\\\n",
       "\t 63140 &  3.28487110 & -0.42186369 & 7.5732468 &  0 & Robert Sanchez & GK & Chelsea  & 2.8 & 0 & ⋯ &  77742 &  44163 & 48 & FALSE & 0 & 95 & 1085 & 11 & 7 & 0\\\\\n",
       "\t 63143 &  0.13890590 &  0.55703873 & 1.1457109 &  2 & Robert Sanchez & GK & Chelsea  & 0.0 & 0 & ⋯ &  16271 &  88263 & 48 &  TRUE & 1 & 98 & 1085 & 24 & 7 & 1\\\\\n",
       "\t 63144 &  0.31464005 &  0.55703873 & 1.5047541 &  2 & Robert Sanchez & GK & Chelsea  & 2.0 & 0 & ⋯ &   7253 & 159692 & 48 & FALSE & 0 & 99 & 1085 & 16 & 7 & 0\\\\\n",
       "\\end{tabular}\n"
      ],
      "text/markdown": [
       "\n",
       "A tibble: 20 × 49\n",
       "\n",
       "| row_id &lt;dbl&gt; | predicted_total_points_scaled &lt;dbl&gt; | actual_total_points_scaled &lt;dbl&gt; | predicted_total_points &lt;dbl&gt; | actual_total_points &lt;dbl&gt; | name &lt;chr&gt; | position &lt;chr&gt; | team &lt;chr&gt; | xP &lt;dbl&gt; | assists &lt;dbl&gt; | ⋯ ⋯ | transfers_in &lt;dbl&gt; | transfers_out &lt;dbl&gt; | value &lt;dbl&gt; | was_home &lt;lgl&gt; | yellow_cards &lt;dbl&gt; | GW &lt;dbl&gt; | player_id &lt;dbl&gt; | oID &lt;dbl&gt; | tID &lt;dbl&gt; | hID &lt;dbl&gt; |\n",
       "|---|---|---|---|---|---|---|---|---|---|---|---|---|---|---|---|---|---|---|---|---|\n",
       "| 63058 |  0.05006193 |  0.55703873 | 0.9641934 |  2 | Robert Sanchez | GK | Brighton | 3.0 | 0 | ⋯ |  78144 |  22275 | 46 | FALSE | 0 | 15 | 1085 | 24 | 5 | 0 |\n",
       "| 63060 |  0.39181608 |  3.98319720 | 1.6624328 |  9 | Robert Sanchez | GK | Brighton | 9.0 | 0 | ⋯ | 144672 | 353532 | 46 | FALSE | 1 | 17 | 1085 | 21 | 5 | 0 |\n",
       "| 63065 | -0.05515195 |  3.49374599 | 0.7492304 |  8 | Robert Sanchez | GK | Brighton | 5.3 | 0 | ⋯ |  26972 |  50311 | 46 |  TRUE | 0 | 22 | 1085 |  3 | 5 | 1 |\n",
       "| 63072 |  0.32641160 | -0.42186369 | 1.5288047 |  0 | Robert Sanchez | GK | Brighton | 0.5 | 0 | ⋯ |  24793 | 106846 | 46 | FALSE | 0 | 29 | 1085 |  3 | 5 | 0 |\n",
       "| 63074 |  0.38657200 |  0.06758752 | 1.6517186 |  1 | Robert Sanchez | GK | Brighton | 0.2 | 0 | ⋯ |   3288 |  39187 | 45 | FALSE | 1 | 31 | 1085 |  7 | 5 | 0 |\n",
       "| 63076 |  0.16691664 | -0.42186369 | 1.2029398 |  0 | Robert Sanchez | GK | Brighton | 0.4 | 0 | ⋯ |  24196 |  52946 | 45 |  TRUE | 0 | 34 | 1085 | 24 | 5 | 1 |\n",
       "| 63080 |  0.23105980 | -0.42186369 | 1.3339910 |  0 | Robert Sanchez | GK | Brighton | 0.0 | 0 | ⋯ |   7348 |  30073 | 45 | FALSE | 0 | 36 | 1085 | 18 | 5 | 0 |\n",
       "| 63084 |  0.22780409 |  0.55703873 | 1.3273392 |  2 | Robert Sanchez | GK | Chelsea  | 1.9 | 0 | ⋯ |      0 |      0 | 45 |  TRUE | 0 | 39 | 1085 | 14 | 7 | 1 |\n",
       "| 63085 |  1.09823811 |  0.55703873 | 3.1057269 |  2 | Robert Sanchez | GK | Chelsea  | 2.0 | 0 | ⋯ |  82350 |  21130 | 45 | FALSE | 0 | 40 | 1085 | 23 | 7 | 0 |\n",
       "| 63087 |  0.40253937 |  0.55703873 | 1.6843417 |  2 | Robert Sanchez | GK | Chelsea  | 3.0 | 0 | ⋯ |  89608 |  38523 | 45 |  TRUE | 0 | 42 | 1085 | 19 | 7 | 1 |\n",
       "| 63092 |  0.08586167 |  0.06758752 | 1.0373360 |  1 | Robert Sanchez | GK | Chelsea  | 2.8 | 0 | ⋯ |  30145 |  47940 | 46 |  TRUE | 0 | 47 | 1085 |  1 | 7 | 1 |\n",
       "| 63098 |  1.03171813 |  4.96209962 | 2.9698197 | 11 | Robert Sanchez | GK | Chelsea  | 3.3 | 0 | ⋯ |  26356 |  22163 | 46 | FALSE | 0 | 53 | 1085 | 17 | 7 | 0 |\n",
       "| 63114 |  0.63078398 | -0.42186369 | 2.1506692 |  0 | Robert Sanchez | GK | Chelsea  | 0.0 | 0 | ⋯ |    308 |   4558 | 45 |  TRUE | 0 | 71 | 1085 |  9 | 7 | 1 |\n",
       "| 63118 |  0.82508790 | -0.42186369 | 2.5476525 |  0 | Robert Sanchez | GK | Chelsea  | 0.0 | 0 | ⋯ |     93 |   3118 | 45 |  TRUE | 0 | 74 | 1085 | 23 | 7 | 1 |\n",
       "| 63120 |  0.07209429 | -0.42186369 | 1.0092078 |  0 | Robert Sanchez | GK | Chelsea  | 0.0 | 0 | ⋯ |    105 |   5059 | 45 | FALSE | 0 | 75 | 1085 |  5 | 7 | 0 |\n",
       "| 63136 |  0.41680044 | -0.42186369 | 1.7134785 |  0 | Robert Sanchez | GK | Chelsea  | 2.0 | 0 | ⋯ |  29671 |  82805 | 48 | FALSE | 1 | 91 | 1085 | 22 | 7 | 0 |\n",
       "| 63138 |  0.35202479 |  3.98319720 | 1.5811351 |  9 | Robert Sanchez | GK | Chelsea  | 3.8 | 0 | ⋯ |  94070 |  37112 | 48 | FALSE | 0 | 93 | 1085 |  9 | 7 | 0 |\n",
       "| 63140 |  3.28487110 | -0.42186369 | 7.5732468 |  0 | Robert Sanchez | GK | Chelsea  | 2.8 | 0 | ⋯ |  77742 |  44163 | 48 | FALSE | 0 | 95 | 1085 | 11 | 7 | 0 |\n",
       "| 63143 |  0.13890590 |  0.55703873 | 1.1457109 |  2 | Robert Sanchez | GK | Chelsea  | 0.0 | 0 | ⋯ |  16271 |  88263 | 48 |  TRUE | 1 | 98 | 1085 | 24 | 7 | 1 |\n",
       "| 63144 |  0.31464005 |  0.55703873 | 1.5047541 |  2 | Robert Sanchez | GK | Chelsea  | 2.0 | 0 | ⋯ |   7253 | 159692 | 48 | FALSE | 0 | 99 | 1085 | 16 | 7 | 0 |\n",
       "\n"
      ],
      "text/plain": [
       "   row_id predicted_total_points_scaled actual_total_points_scaled\n",
       "1  63058   0.05006193                    0.55703873               \n",
       "2  63060   0.39181608                    3.98319720               \n",
       "3  63065  -0.05515195                    3.49374599               \n",
       "4  63072   0.32641160                   -0.42186369               \n",
       "5  63074   0.38657200                    0.06758752               \n",
       "6  63076   0.16691664                   -0.42186369               \n",
       "7  63080   0.23105980                   -0.42186369               \n",
       "8  63084   0.22780409                    0.55703873               \n",
       "9  63085   1.09823811                    0.55703873               \n",
       "10 63087   0.40253937                    0.55703873               \n",
       "11 63092   0.08586167                    0.06758752               \n",
       "12 63098   1.03171813                    4.96209962               \n",
       "13 63114   0.63078398                   -0.42186369               \n",
       "14 63118   0.82508790                   -0.42186369               \n",
       "15 63120   0.07209429                   -0.42186369               \n",
       "16 63136   0.41680044                   -0.42186369               \n",
       "17 63138   0.35202479                    3.98319720               \n",
       "18 63140   3.28487110                   -0.42186369               \n",
       "19 63143   0.13890590                    0.55703873               \n",
       "20 63144   0.31464005                    0.55703873               \n",
       "   predicted_total_points actual_total_points name           position team    \n",
       "1  0.9641934               2                  Robert Sanchez GK       Brighton\n",
       "2  1.6624328               9                  Robert Sanchez GK       Brighton\n",
       "3  0.7492304               8                  Robert Sanchez GK       Brighton\n",
       "4  1.5288047               0                  Robert Sanchez GK       Brighton\n",
       "5  1.6517186               1                  Robert Sanchez GK       Brighton\n",
       "6  1.2029398               0                  Robert Sanchez GK       Brighton\n",
       "7  1.3339910               0                  Robert Sanchez GK       Brighton\n",
       "8  1.3273392               2                  Robert Sanchez GK       Chelsea \n",
       "9  3.1057269               2                  Robert Sanchez GK       Chelsea \n",
       "10 1.6843417               2                  Robert Sanchez GK       Chelsea \n",
       "11 1.0373360               1                  Robert Sanchez GK       Chelsea \n",
       "12 2.9698197              11                  Robert Sanchez GK       Chelsea \n",
       "13 2.1506692               0                  Robert Sanchez GK       Chelsea \n",
       "14 2.5476525               0                  Robert Sanchez GK       Chelsea \n",
       "15 1.0092078               0                  Robert Sanchez GK       Chelsea \n",
       "16 1.7134785               0                  Robert Sanchez GK       Chelsea \n",
       "17 1.5811351               9                  Robert Sanchez GK       Chelsea \n",
       "18 7.5732468               0                  Robert Sanchez GK       Chelsea \n",
       "19 1.1457109               2                  Robert Sanchez GK       Chelsea \n",
       "20 1.5047541               2                  Robert Sanchez GK       Chelsea \n",
       "   xP  assists ⋯ transfers_in transfers_out value was_home yellow_cards GW\n",
       "1  3.0 0       ⋯  78144        22275        46    FALSE    0            15\n",
       "2  9.0 0       ⋯ 144672       353532        46    FALSE    1            17\n",
       "3  5.3 0       ⋯  26972        50311        46     TRUE    0            22\n",
       "4  0.5 0       ⋯  24793       106846        46    FALSE    0            29\n",
       "5  0.2 0       ⋯   3288        39187        45    FALSE    1            31\n",
       "6  0.4 0       ⋯  24196        52946        45     TRUE    0            34\n",
       "7  0.0 0       ⋯   7348        30073        45    FALSE    0            36\n",
       "8  1.9 0       ⋯      0            0        45     TRUE    0            39\n",
       "9  2.0 0       ⋯  82350        21130        45    FALSE    0            40\n",
       "10 3.0 0       ⋯  89608        38523        45     TRUE    0            42\n",
       "11 2.8 0       ⋯  30145        47940        46     TRUE    0            47\n",
       "12 3.3 0       ⋯  26356        22163        46    FALSE    0            53\n",
       "13 0.0 0       ⋯    308         4558        45     TRUE    0            71\n",
       "14 0.0 0       ⋯     93         3118        45     TRUE    0            74\n",
       "15 0.0 0       ⋯    105         5059        45    FALSE    0            75\n",
       "16 2.0 0       ⋯  29671        82805        48    FALSE    1            91\n",
       "17 3.8 0       ⋯  94070        37112        48    FALSE    0            93\n",
       "18 2.8 0       ⋯  77742        44163        48    FALSE    0            95\n",
       "19 0.0 0       ⋯  16271        88263        48     TRUE    1            98\n",
       "20 2.0 0       ⋯   7253       159692        48    FALSE    0            99\n",
       "   player_id oID tID hID\n",
       "1  1085      24  5   0  \n",
       "2  1085      21  5   0  \n",
       "3  1085       3  5   1  \n",
       "4  1085       3  5   0  \n",
       "5  1085       7  5   0  \n",
       "6  1085      24  5   1  \n",
       "7  1085      18  5   0  \n",
       "8  1085      14  7   1  \n",
       "9  1085      23  7   0  \n",
       "10 1085      19  7   1  \n",
       "11 1085       1  7   1  \n",
       "12 1085      17  7   0  \n",
       "13 1085       9  7   1  \n",
       "14 1085      23  7   1  \n",
       "15 1085       5  7   0  \n",
       "16 1085      22  7   0  \n",
       "17 1085       9  7   0  \n",
       "18 1085      11  7   0  \n",
       "19 1085      24  7   1  \n",
       "20 1085      16  7   0  "
      ]
     },
     "metadata": {},
     "output_type": "display_data"
    }
   ],
   "source": [
    "#============================\n",
    "# 9. Generate Predictions & Invert Scaling on Validation Set\n",
    "#============================\n",
    "# Use the validation set for predictions\n",
    "pred_all <- model %>% predict(\n",
    "  list(\n",
    "    input_seq = Xnum_val,\n",
    "    input_player_id = cat_player_id_val,\n",
    "    input_tID = cat_tID_val,\n",
    "    input_oID = cat_oID_val,\n",
    "    input_hID = cat_hID_val\n",
    "  )\n",
    ")\n",
    "\n",
    "# Build a predictions table using the validation row IDs\n",
    "preds_gk <- tibble(\n",
    "  row_id = val_row_ids,  # row IDs corresponding to the validation set\n",
    "  predicted_total_points_scaled = as.vector(pred_all),\n",
    "  actual_total_points_scaled = as.vector(y_val)\n",
    ") %>% \n",
    "  mutate(\n",
    "    predicted_total_points = predicted_total_points_scaled * sigma + mu,\n",
    "    actual_total_points = actual_total_points_scaled * sigma + mu\n",
    "  )\n",
    "\n",
    "\n",
    "preds_gk <- preds_gk %>%\n",
    "  left_join(unscaled_gk, by = \"row_id\") # Use unscaled_gk\n",
    "\n",
    "# View the predictions table\n",
    "glimpse(preds_gk)\n",
    "\n",
    "preds_gk %>%\n",
    "  filter(name == \"Robert Sanchez\")"
   ]
  },
  {
   "cell_type": "markdown",
   "id": "d42bd2e0",
   "metadata": {
    "_cell_guid": "54a9e5d3-2757-47d3-b681-4834c0df6b1d",
    "_uuid": "265cce32-1eaf-458b-a413-738fc69b4bd4",
    "collapsed": false,
    "jupyter": {
     "outputs_hidden": false
    },
    "papermill": {
     "duration": 0.017398,
     "end_time": "2025-04-17T20:11:31.282870",
     "exception": false,
     "start_time": "2025-04-17T20:11:31.265472",
     "status": "completed"
    },
    "tags": []
   },
   "source": [
    "## 10. Plots Evaluation Data"
   ]
  },
  {
   "cell_type": "code",
   "execution_count": null,
   "id": "6802baae",
   "metadata": {
    "_cell_guid": "9f88d16c-303b-4823-8241-2b62bcb771f7",
    "_uuid": "b28b8553-5122-48fa-a797-400ab2bcde45",
    "collapsed": false,
    "execution": {
     "iopub.execute_input": "2025-04-17T20:11:31.322710Z",
     "iopub.status.busy": "2025-04-17T20:11:31.321127Z",
     "iopub.status.idle": "2025-04-17T20:11:32.490560Z",
     "shell.execute_reply": "2025-04-17T20:11:32.488075Z"
    },
    "jupyter": {
     "outputs_hidden": false
    },
    "papermill": {
     "duration": 1.192477,
     "end_time": "2025-04-17T20:11:32.493860",
     "exception": false,
     "start_time": "2025-04-17T20:11:31.301383",
     "status": "completed"
    },
    "tags": [],
    "vscode": {
     "languageId": "r"
    }
   },
   "outputs": [
    {
     "data": {
      "text/html": [
       "<table class=\"dataframe\">\n",
       "<caption>A data.frame: 6 × 4</caption>\n",
       "<thead>\n",
       "\t<tr><th></th><th scope=col>epoch</th><th scope=col>value</th><th scope=col>metric</th><th scope=col>data</th></tr>\n",
       "\t<tr><th></th><th scope=col>&lt;int&gt;</th><th scope=col>&lt;dbl&gt;</th><th scope=col>&lt;fct&gt;</th><th scope=col>&lt;fct&gt;</th></tr>\n",
       "</thead>\n",
       "<tbody>\n",
       "\t<tr><th scope=row>1</th><td>1</td><td>0.8905894</td><td>loss</td><td>training</td></tr>\n",
       "\t<tr><th scope=row>2</th><td>2</td><td>0.6858953</td><td>loss</td><td>training</td></tr>\n",
       "\t<tr><th scope=row>3</th><td>3</td><td>0.6626580</td><td>loss</td><td>training</td></tr>\n",
       "\t<tr><th scope=row>4</th><td>4</td><td>0.6567748</td><td>loss</td><td>training</td></tr>\n",
       "\t<tr><th scope=row>5</th><td>5</td><td>0.6445440</td><td>loss</td><td>training</td></tr>\n",
       "\t<tr><th scope=row>6</th><td>6</td><td>0.6353863</td><td>loss</td><td>training</td></tr>\n",
       "</tbody>\n",
       "</table>\n"
      ],
      "text/latex": [
       "A data.frame: 6 × 4\n",
       "\\begin{tabular}{r|llll}\n",
       "  & epoch & value & metric & data\\\\\n",
       "  & <int> & <dbl> & <fct> & <fct>\\\\\n",
       "\\hline\n",
       "\t1 & 1 & 0.8905894 & loss & training\\\\\n",
       "\t2 & 2 & 0.6858953 & loss & training\\\\\n",
       "\t3 & 3 & 0.6626580 & loss & training\\\\\n",
       "\t4 & 4 & 0.6567748 & loss & training\\\\\n",
       "\t5 & 5 & 0.6445440 & loss & training\\\\\n",
       "\t6 & 6 & 0.6353863 & loss & training\\\\\n",
       "\\end{tabular}\n"
      ],
      "text/markdown": [
       "\n",
       "A data.frame: 6 × 4\n",
       "\n",
       "| <!--/--> | epoch &lt;int&gt; | value &lt;dbl&gt; | metric &lt;fct&gt; | data &lt;fct&gt; |\n",
       "|---|---|---|---|---|\n",
       "| 1 | 1 | 0.8905894 | loss | training |\n",
       "| 2 | 2 | 0.6858953 | loss | training |\n",
       "| 3 | 3 | 0.6626580 | loss | training |\n",
       "| 4 | 4 | 0.6567748 | loss | training |\n",
       "| 5 | 5 | 0.6445440 | loss | training |\n",
       "| 6 | 6 | 0.6353863 | loss | training |\n",
       "\n"
      ],
      "text/plain": [
       "  epoch value     metric data    \n",
       "1 1     0.8905894 loss   training\n",
       "2 2     0.6858953 loss   training\n",
       "3 3     0.6626580 loss   training\n",
       "4 4     0.6567748 loss   training\n",
       "5 5     0.6445440 loss   training\n",
       "6 6     0.6353863 loss   training"
      ]
     },
     "metadata": {},
     "output_type": "display_data"
    },
    {
     "data": {
      "image/png": "[encoded data removed]"
     },
     "metadata": {
      "image/png": {
       "height": 420,
       "width": 420
      }
     },
     "output_type": "display_data"
    }
   ],
   "source": [
    "plot(history)\n",
    "\n",
    "history_df_gk <- as.data.frame(history)\n",
    "\n",
    "head(history_df_gk)\n",
    "\n",
    "\n",
    "# save_model_tf(model, filepath = \"/kaggle/working/gkmodel_tf\")"
   ]
  },
  {
   "cell_type": "markdown",
   "id": "027f1044",
   "metadata": {
    "_cell_guid": "f34d6a0a-e1c3-4af9-a62a-f5eb3e2f82e4",
    "_uuid": "60e3860b-4452-48cf-ba80-b9eb82bd785c",
    "collapsed": false,
    "jupyter": {
     "outputs_hidden": false
    },
    "papermill": {
     "duration": 0.021542,
     "end_time": "2025-04-17T20:11:32.537855",
     "exception": false,
     "start_time": "2025-04-17T20:11:32.516313",
     "status": "completed"
    },
    "tags": []
   },
   "source": [
    "## 2: Forsvarsspillere"
   ]
  },
  {
   "cell_type": "code",
   "execution_count": null,
   "id": "89e2ec08",
   "metadata": {
    "_cell_guid": "59e975cf-10ab-42f9-aedc-fa731919db43",
    "_uuid": "5cb6299e-c9cf-4cf9-b13c-8ce846d4cc0b",
    "collapsed": false,
    "execution": {
     "iopub.execute_input": "2025-04-17T20:11:32.584506Z",
     "iopub.status.busy": "2025-04-17T20:11:32.582639Z",
     "iopub.status.idle": "2025-04-17T20:11:32.618462Z",
     "shell.execute_reply": "2025-04-17T20:11:32.615726Z"
    },
    "jupyter": {
     "outputs_hidden": false
    },
    "papermill": {
     "duration": 0.064052,
     "end_time": "2025-04-17T20:11:32.622345",
     "exception": false,
     "start_time": "2025-04-17T20:11:32.558293",
     "status": "completed"
    },
    "tags": [],
    "vscode": {
     "languageId": "r"
    }
   },
   "outputs": [
    {
     "name": "stdout",
     "output_type": "stream",
     "text": [
      "Numeriske features: assists creativity minutes goals_conceded bonus bps expected_assists expected_goal_involvements expected_goals ict_index own_goals red_cards threat transfers_in transfers_out yellow_cards expected_goals_conceded value selected transfers_balance starts influence clean_sheets \n"
     ]
    },
    {
     "name": "stdout",
     "output_type": "stream",
     "text": [
      "Kategoriske features: player_id tID oID hID \n"
     ]
    },
    {
     "name": "stdout",
     "output_type": "stream",
     "text": [
      "Target variabel: total_points \n"
     ]
    },
    {
     "name": "stdout",
     "output_type": "stream",
     "text": [
      "Ferdig"
     ]
    }
   ],
   "source": [
    "#----------------------------\n",
    "# Define Features, Target & Scale\n",
    "#----------------------------\n",
    "numF <- c(\"assists\", \"creativity\", \"minutes\", \"goals_conceded\",\n",
    "          \"bonus\", \"bps\", \"expected_assists\", \"expected_goal_involvements\",\n",
    "          \"expected_goals\", \"ict_index\", \"own_goals\", \"red_cards\",\n",
    "          \"threat\", \"transfers_in\", \"transfers_out\", \"yellow_cards\",\n",
    "          \"expected_goals_conceded\", \"value\",\n",
    "          \"selected\", \"transfers_balance\", \"starts\", \"influence\",\n",
    "          \"clean_sheets\")\n",
    "catF <- c(\"player_id\", \"tID\", \"oID\", \"hID\")\n",
    "tar <- \"total_points\"\n",
    "\n",
    "cat(\"Numeriske features:\", numF, \"\\n\")\n",
    "cat(\"Kategoriske features:\", catF, \"\\n\")\n",
    "cat(\"Target variabel:\", tar, \"\\n\")\n",
    "cat(\"Ferdig\")"
   ]
  },
  {
   "cell_type": "code",
   "execution_count": null,
   "id": "da6fd02b",
   "metadata": {
    "_cell_guid": "da036008-0baa-4a0b-aada-6ab315230348",
    "_uuid": "f38d9f89-f9b2-4f7a-b3c4-c7f19c258319",
    "collapsed": false,
    "execution": {
     "iopub.execute_input": "2025-04-17T20:11:32.672140Z",
     "iopub.status.busy": "2025-04-17T20:11:32.670183Z",
     "iopub.status.idle": "2025-04-17T20:11:32.739891Z",
     "shell.execute_reply": "2025-04-17T20:11:32.736956Z"
    },
    "jupyter": {
     "outputs_hidden": false
    },
    "papermill": {
     "duration": 0.096913,
     "end_time": "2025-04-17T20:11:32.742508",
     "exception": false,
     "start_time": "2025-04-17T20:11:32.645595",
     "status": "completed"
    },
    "tags": [],
    "vscode": {
     "languageId": "r"
    }
   },
   "outputs": [
    {
     "name": "stdout",
     "output_type": "stream",
     "text": [
      "Kjørt"
     ]
    }
   ],
   "source": [
    "# Compute and store the mean and standard deviation for the target variable\n",
    "\n",
    "mu <- mean(def[[tar]], na.rm = TRUE)\n",
    "sigma <- sd(def[[tar]], na.rm = TRUE)\n",
    "\n",
    "# Scale numerical features and target\n",
    "def <- def %>%\n",
    "  mutate(across(all_of(numF), ~ (.x - mean(.x, na.rm = TRUE)) / sd(.x, na.rm = TRUE)),\n",
    "         !!tar := (.data[[tar]] - mu) / sigma)\n",
    "\n",
    "cat(\"Kjørt\")"
   ]
  },
  {
   "cell_type": "code",
   "execution_count": null,
   "id": "7a2b5b54",
   "metadata": {
    "_cell_guid": "7cdf354b-1393-4a1b-a485-8f8472ed77f3",
    "_uuid": "12cf2786-06a9-4dae-8207-e859d9c0219a",
    "collapsed": false,
    "execution": {
     "iopub.execute_input": "2025-04-17T20:11:32.788939Z",
     "iopub.status.busy": "2025-04-17T20:11:32.786837Z",
     "iopub.status.idle": "2025-04-17T20:11:32.805139Z",
     "shell.execute_reply": "2025-04-17T20:11:32.802917Z"
    },
    "jupyter": {
     "outputs_hidden": false
    },
    "papermill": {
     "duration": 0.046592,
     "end_time": "2025-04-17T20:11:32.808569",
     "exception": false,
     "start_time": "2025-04-17T20:11:32.761977",
     "status": "completed"
    },
    "tags": [],
    "vscode": {
     "languageId": "r"
    }
   },
   "outputs": [],
   "source": [
    "### 2.3 DEF Building rolling windows"
   ]
  },
  {
   "cell_type": "code",
   "execution_count": null,
   "id": "10bbe994",
   "metadata": {
    "_cell_guid": "af95c9ab-2d67-447f-a095-d82ba8f10141",
    "_uuid": "97de6377-32b9-4e4b-afce-011896330db5",
    "collapsed": false,
    "execution": {
     "iopub.execute_input": "2025-04-17T20:11:32.856374Z",
     "iopub.status.busy": "2025-04-17T20:11:32.853874Z",
     "iopub.status.idle": "2025-04-17T20:11:43.657535Z",
     "shell.execute_reply": "2025-04-17T20:11:43.654479Z"
    },
    "jupyter": {
     "outputs_hidden": false
    },
    "papermill": {
     "duration": 10.830417,
     "end_time": "2025-04-17T20:11:43.660472",
     "exception": false,
     "start_time": "2025-04-17T20:11:32.830055",
     "status": "completed"
    },
    "tags": [],
    "vscode": {
     "languageId": "r"
    }
   },
   "outputs": [
    {
     "name": "stdout",
     "output_type": "stream",
     "text": [
      "Kjørt"
     ]
    }
   ],
   "source": [
    "#----------------------------\n",
    "# 3. Build Rolling Windows\n",
    "#----------------------------\n",
    "# Define window size (number of past gameweeks to use)\n",
    "ws <- vindu\n",
    "\n",
    "# Build numerical rolling windows\n",
    "numW <- def %>%\n",
    "  group_by(player_id) %>%\n",
    "  filter(n() > ws) %>%  # Only players with more than ws observations\n",
    "  group_modify(~ {\n",
    "    windows <- slide(.x[, numF],\n",
    "                     .f = ~ as.matrix(.x),\n",
    "                     .before = ws, \n",
    "                     .after = -1, # prevents the model from seeing current gw data\n",
    "                     .complete = TRUE)\n",
    "    valid_windows <- windows[(ws + 1):length(windows)]\n",
    "    target <- .x[[tar]][(ws + 1):nrow(.x)]\n",
    "    # Extract row_id for each valid window\n",
    "    rid <- .x$row_id[(ws + 1):nrow(.x)]\n",
    "    tibble(window = valid_windows, target = target, row_id = rid)\n",
    "  }) %>%\n",
    "  ungroup()\n",
    "numW <- numW %>%\n",
    "  left_join(def %>% select(row_id, GW), by = \"row_id\")\n",
    "# Build categorical rolling windows (if needed for debugging; here we use only the current values)\n",
    "catW <- def %>%\n",
    "  group_by(player_id) %>%\n",
    "  filter(n() > ws) %>%\n",
    "  group_modify(~ {\n",
    "    df <- ungroup(.x) %>% mutate(player_id = .y$player_id)\n",
    "    windows <- slide(df %>% select(all_of(catF)),\n",
    "                     .f = ~ as.matrix(.x),\n",
    "                     .before = ws,\n",
    "                     #.after = -1,\n",
    "                     .complete = TRUE)\n",
    "    valid_windows <- windows[(ws + 1):length(windows)]\n",
    "    target <- df[[tar]][(ws + 1):nrow(df)]\n",
    "    tibble(window = valid_windows, target = target)\n",
    "  }) %>%\n",
    "  ungroup()\n",
    "\n",
    "cat(\"Kjørt\")"
   ]
  },
  {
   "cell_type": "code",
   "execution_count": null,
   "id": "6773791b",
   "metadata": {
    "_cell_guid": "a0c3fbac-3335-4b44-8578-c6d25795065f",
    "_uuid": "c5c91a56-587c-4675-85ee-3124df52aaf6",
    "collapsed": false,
    "execution": {
     "iopub.execute_input": "2025-04-17T20:11:43.707050Z",
     "iopub.status.busy": "2025-04-17T20:11:43.705379Z",
     "iopub.status.idle": "2025-04-17T20:11:49.362744Z",
     "shell.execute_reply": "2025-04-17T20:11:49.360818Z"
    },
    "jupyter": {
     "outputs_hidden": false
    },
    "papermill": {
     "duration": 5.684585,
     "end_time": "2025-04-17T20:11:49.365296",
     "exception": false,
     "start_time": "2025-04-17T20:11:43.680711",
     "status": "completed"
    },
    "tags": [],
    "vscode": {
     "languageId": "r"
    }
   },
   "outputs": [
    {
     "name": "stdout",
     "output_type": "stream",
     "text": [
      "Windows with NA:  0 \n"
     ]
    },
    {
     "name": "stdout",
     "output_type": "stream",
     "text": [
      "Selected features:  assists creativity minutes bps expected_goal_involvements ict_index own_goals red_cards threat expected_goals_conceded value selected transfers_balance clean_sheets \n"
     ]
    },
    {
     "name": "stdout",
     "output_type": "stream",
     "text": [
      "Kjørt"
     ]
    }
   ],
   "source": [
    "# Check for any NA in the windows before summary\n",
    "sumna <- sapply(numW$window, function(flatW) any(is.na(flatW)))\n",
    "cat(\"Windows with NA: \", sum(sumna), \"\\n\")\n",
    "\n",
    "#----------------------------\n",
    "# 4. Lasso regression\n",
    "#----------------------------\n",
    "# numW as data.matrix, tar as response variable\n",
    "\n",
    "aggmat <- lapply(numW$window, function(flatW){\n",
    "  colMeans(flatW, na.rm = TRUE)\n",
    "})\n",
    "x <- do.call(rbind, aggmat)\n",
    "y <- numW$target\n",
    "\n",
    "# K-fold CV\n",
    "cvfit <- cv.glmnet(x,y,alpha=1)\n",
    "minlambda <- cvfit$lambda.min\n",
    "\n",
    "lassofit <- glmnet(x,y,alpha = 1, lambda = minlambda)\n",
    "\n",
    "coef_lasso <- as.matrix(coef(lassofit))\n",
    "numF <- rownames(coef_lasso)[coef_lasso[,1] != 0]\n",
    "numF <- setdiff(numF, \"(Intercept)\")\n",
    "cat(\"Selected features: \", numF, \"\\n\")\n",
    "\n",
    "# repeat rolling window, now only containing selected features\n",
    "# Define window size (number of past gameweeks to use)\n",
    "ws <- vindu\n",
    "\n",
    "# Build numerical rolling windows\n",
    "numW <- def %>%\n",
    "  group_by(player_id) %>%\n",
    "  filter(n() > ws) %>%  # Only players with more than ws observations\n",
    "  group_modify(~ {\n",
    "    windows <- slide(.x[, numF],\n",
    "                     .f = ~ as.matrix(.x),\n",
    "                     .before = ws, \n",
    "                     .after = -1,\n",
    "                     .complete = TRUE)\n",
    "    valid_windows <- windows[(ws + 1):length(windows)]\n",
    "    target <- .x[[tar]][(ws + 1):nrow(.x)]\n",
    "    # Extract row_id for each valid window\n",
    "    rid <- .x$row_id[(ws + 1):nrow(.x)]\n",
    "    tibble(window = valid_windows, target = target, row_id = rid)\n",
    "  }) %>%\n",
    "  ungroup()\n",
    "numW <- numW %>%\n",
    "  left_join(def %>% select(row_id, GW), by = \"row_id\")\n",
    "\n",
    "cat(\"Kjørt\")"
   ]
  },
  {
   "cell_type": "code",
   "execution_count": null,
   "id": "a0d26029",
   "metadata": {
    "_cell_guid": "751d75ea-749d-437f-bff3-e4f1eb24df5b",
    "_uuid": "5dffbb48-90d1-4514-a1a1-212a65a0057c",
    "collapsed": false,
    "execution": {
     "iopub.execute_input": "2025-04-17T20:11:49.410929Z",
     "iopub.status.busy": "2025-04-17T20:11:49.409308Z",
     "iopub.status.idle": "2025-04-17T20:11:49.591798Z",
     "shell.execute_reply": "2025-04-17T20:11:49.589828Z"
    },
    "jupyter": {
     "outputs_hidden": false
    },
    "papermill": {
     "duration": 0.209461,
     "end_time": "2025-04-17T20:11:49.595122",
     "exception": false,
     "start_time": "2025-04-17T20:11:49.385661",
     "status": "completed"
    },
    "tags": [],
    "vscode": {
     "languageId": "r"
    }
   },
   "outputs": [],
   "source": [
    "#============================\n",
    "# 5. Convert Rolling Windows to Arrays & Extract Targets\n",
    "#============================\n",
    "# Number of samples is the number of rows in numW\n",
    "nSamp <- nrow(numW)\n",
    "\n",
    "# Convert numerical windows to a 3D array of shape [nSamp, ws, length(numF)]\n",
    "num_array <- array(\n",
    "  unlist(numW$window),\n",
    "  dim = c(nSamp, ws, length(numF))\n",
    ")\n",
    "\n",
    "# Targets (scaled): a matrix with one column\n",
    "targets <- matrix(as.numeric(numW$target), ncol = 1)\n",
    "\n",
    "# For categorical inputs, extract the current categorical values from the last row of each window.\n",
    "# (If your windows were built solely from historical data, the \"current\" values need to come from the original data.)\n",
    "# Here, we use the categorical rolling windows and extract the last row:\n",
    "cat_current <- do.call(rbind, lapply(catW$window, function(mat) mat[nrow(mat), ]))\n",
    "# Split into separate matrices (each of shape [nSamp, 1])\n",
    "cat_player_id <- matrix(as.integer(cat_current[, \"player_id\"]), ncol = 1)\n",
    "cat_tID <- matrix(as.integer(cat_current[, \"tID\"]), ncol = 1)\n",
    "cat_oID <- matrix(as.integer(cat_current[, \"oID\"]), ncol = 1)\n",
    "cat_hID <- matrix(as.integer(cat_current[, \"hID\"]), ncol = 1)"
   ]
  },
  {
   "cell_type": "code",
   "execution_count": null,
   "id": "561b1fce",
   "metadata": {
    "_cell_guid": "a4643ff5-4d35-4dc0-bd65-9b291e24b657",
    "_uuid": "790075b9-c9fd-4337-9f63-8b3e98bdf31e",
    "collapsed": false,
    "execution": {
     "iopub.execute_input": "2025-04-17T20:11:49.640560Z",
     "iopub.status.busy": "2025-04-17T20:11:49.638658Z",
     "iopub.status.idle": "2025-04-17T20:11:49.710796Z",
     "shell.execute_reply": "2025-04-17T20:11:49.708021Z"
    },
    "jupyter": {
     "outputs_hidden": false
    },
    "papermill": {
     "duration": 0.099061,
     "end_time": "2025-04-17T20:11:49.714558",
     "exception": false,
     "start_time": "2025-04-17T20:11:49.615497",
     "status": "completed"
    },
    "tags": [],
    "vscode": {
     "languageId": "r"
    }
   },
   "outputs": [],
   "source": [
    "\n",
    "#============================\n",
    "# 6. Split Data into Training and Validation Sets\n",
    "#============================\n",
    "set.seed(123)\n",
    "idx <- sample(1:nSamp, size = floor(0.8 * nSamp))\n",
    "\n",
    "# Training data\n",
    "Xnum_train <- num_array[idx, , , drop = FALSE]\n",
    "cat_player_id_train <- cat_player_id[idx, , drop = FALSE]\n",
    "cat_tID_train <- cat_tID[idx, , drop = FALSE]\n",
    "cat_oID_train <- cat_oID[idx, , drop = FALSE]\n",
    "cat_hID_train <- cat_hID[idx, , drop = FALSE]\n",
    "y_train <- targets[idx, , drop = FALSE]\n",
    "\n",
    "# Validation data\n",
    "Xnum_val <- num_array[-idx, , , drop = FALSE]\n",
    "cat_player_id_val <- cat_player_id[-idx, , drop = FALSE]\n",
    "cat_tID_val <- cat_tID[-idx, , drop = FALSE]\n",
    "cat_oID_val <- cat_oID[-idx, , drop = FALSE]\n",
    "cat_hID_val <- cat_hID[-idx, , drop = FALSE]\n",
    "y_val <- targets[-idx, , drop = FALSE]\n",
    "\n",
    "# Also, extract the row IDs for the validation samples (for later joining)\n",
    "val_row_ids <- numW$row_id[-idx]"
   ]
  },
  {
   "cell_type": "code",
   "execution_count": null,
   "id": "66d70728",
   "metadata": {
    "_cell_guid": "f3c58f49-e9aa-4e3f-9eaf-1a134337696b",
    "_uuid": "e80dd127-f8ca-40a3-a36b-6f0acd8bd9a4",
    "collapsed": false,
    "execution": {
     "iopub.execute_input": "2025-04-17T20:11:49.777364Z",
     "iopub.status.busy": "2025-04-17T20:11:49.775822Z",
     "iopub.status.idle": "2025-04-17T20:11:50.328154Z",
     "shell.execute_reply": "2025-04-17T20:11:50.325893Z"
    },
    "jupyter": {
     "outputs_hidden": false
    },
    "papermill": {
     "duration": 0.586036,
     "end_time": "2025-04-17T20:11:50.332209",
     "exception": false,
     "start_time": "2025-04-17T20:11:49.746173",
     "status": "completed"
    },
    "tags": [],
    "vscode": {
     "languageId": "r"
    }
   },
   "outputs": [
    {
     "name": "stdout",
     "output_type": "stream",
     "text": [
      "Model: \"def_lstm_model\"\n",
      "________________________________________________________________________________\n",
      " Layer (type)             Output Shape      Param #  Connected to               \n",
      "================================================================================\n",
      " input_player_id (InputLa  [(None, 1)]      0        []                         \n",
      " yer)                                                                           \n",
      " input_tID (InputLayer)   [(None, 1)]       0        []                         \n",
      " input_oID (InputLayer)   [(None, 1)]       0        []                         \n",
      " input_hID (InputLayer)   [(None, 1)]       0        []                         \n",
      " embedding_3 (Embedding)  (None, 1, 20)     26640    ['input_player_id[0][0]']  \n",
      " embedding_4 (Embedding)  (None, 1, 20)     500      ['input_tID[0][0]']        \n",
      " embedding_5 (Embedding)  (None, 1, 20)     500      ['input_oID[0][0]']        \n",
      " lambda_1 (Lambda)        (None, 1)         0        ['input_hID[0][0]']        \n",
      " input_seq (InputLayer)   [(None, 4, 14)]   0        []                         \n",
      " flatten_4 (Flatten)      (None, 20)        0        ['embedding_3[0][0]']      \n",
      " flatten_5 (Flatten)      (None, 20)        0        ['embedding_4[0][0]']      \n",
      " flatten_6 (Flatten)      (None, 20)        0        ['embedding_5[0][0]']      \n",
      " flatten_7 (Flatten)      (None, 1)         0        ['lambda_1[0][0]']         \n",
      " lstm_1 (LSTM)            (None, 64)        20224    ['input_seq[0][0]']        \n",
      " concatenate_2 (Concatena  (None, 61)       0        ['flatten_4[0][0]',        \n",
      " te)                                                  'flatten_5[0][0]',        \n",
      "                                                      'flatten_6[0][0]',        \n",
      "                                                      'flatten_7[0][0]']        \n",
      " dropout_1 (Dropout)      (None, 64)        0        ['lstm_1[0][0]']           \n",
      " dense_3 (Dense)          (None, 16)        992      ['concatenate_2[0][0]']    \n",
      " concatenate_3 (Concatena  (None, 80)       0        ['dropout_1[0][0]',        \n",
      " te)                                                  'dense_3[0][0]']          \n",
      " dense_4 (Dense)          (None, 32)        2592     ['concatenate_3[0][0]']    \n",
      " dense_5 (Dense)          (None, 1)         33       ['dense_4[0][0]']          \n",
      "================================================================================\n",
      "Total params: 51,481\n",
      "Trainable params: 51,481\n",
      "Non-trainable params: 0\n",
      "________________________________________________________________________________\n"
     ]
    }
   ],
   "source": [
    "\n",
    "#============================\n",
    "# 7. Build the Model\n",
    "#============================\n",
    "# Define maximum values for categorical features\n",
    "num_players   <- max(mid$player_id)\n",
    "num_teams     <- max(mid$tID)\n",
    "num_opponents <- max(mid$oID)\n",
    "# For hID, assume it???s binary\n",
    "\n",
    "emb_dim <- 20  # Embedding dimension\n",
    "\n",
    "# Create input layers for current categorical values\n",
    "input_player_id <- layer_input(shape = c(1), dtype = \"int32\", name = \"input_player_id\")\n",
    "input_tID <- layer_input(shape = c(1), dtype = \"int32\", name = \"input_tID\")\n",
    "input_oID <- layer_input(shape = c(1), dtype = \"int32\", name = \"input_oID\")\n",
    "input_hID <- layer_input(shape = c(1), dtype = \"int32\", name = \"input_hID\")\n",
    "\n",
    "embedding_player_id <- input_player_id %>% \n",
    "  layer_embedding(input_dim = num_players + 1, output_dim = emb_dim, mask_zero = TRUE) %>% \n",
    "  layer_flatten()\n",
    "embedding_tID <- input_tID %>% \n",
    "  layer_embedding(input_dim = num_teams + 1, output_dim = emb_dim, mask_zero = TRUE) %>% \n",
    "  layer_flatten()\n",
    "embedding_oID <- input_oID %>% \n",
    "  layer_embedding(input_dim = num_opponents + 1, output_dim = emb_dim, mask_zero = TRUE) %>% \n",
    "  layer_flatten()\n",
    "# For hID, convert to float32 to match types\n",
    "input_hID_flat <- input_hID %>% \n",
    "  layer_lambda(function(x) tf$cast(x, tf$float32)) %>% \n",
    "  layer_flatten()\n",
    "\n",
    "# Merge categorical branch\n",
    "cat_merged <- layer_concatenate(list(embedding_player_id, embedding_tID, embedding_oID, input_hID_flat)) %>%\n",
    "  layer_dense(units = 16, activation = \"relu\")\n",
    "\n",
    "# Numerical branch: input for rolling window data\n",
    "input_seq <- layer_input(shape = c(ws, length(numF)), name = \"input_seq\")\n",
    "lstm_branch <- input_seq %>%\n",
    "  layer_lstm(units = 64, return_sequences = FALSE) %>%\n",
    "  layer_dropout(rate = 0.2)\n",
    "\n",
    "# Merge both branches and build the output\n",
    "merged <- layer_concatenate(list(lstm_branch, cat_merged))\n",
    "dense_layer <- merged %>% layer_dense(units = 32, activation = \"relu\")\n",
    "output <- dense_layer %>% layer_dense(units = 1, activation = \"linear\")\n",
    "\n",
    "# Build and compile the model\n",
    "model <- keras_model(\n",
    "  inputs = list(input_seq, input_player_id, input_tID, input_oID, input_hID),\n",
    "  outputs = output,\n",
    "    name = \"def_lstm_model\"\n",
    ")\n",
    "model %>% compile(\n",
    "  optimizer = optimizer_adam(),\n",
    "  loss = \"mse\",\n",
    "  metrics = \"mae\",\n",
    "  run_eagerly = TRUE\n",
    ")\n",
    "summary(model)"
   ]
  },
  {
   "cell_type": "code",
   "execution_count": null,
   "id": "c3e66d83",
   "metadata": {
    "_cell_guid": "d1ee1bb2-00a8-49d3-9868-27eb615890b8",
    "_uuid": "85a56099-5843-430a-9560-bbeac892d1a3",
    "collapsed": false,
    "execution": {
     "iopub.execute_input": "2025-04-17T20:11:50.378521Z",
     "iopub.status.busy": "2025-04-17T20:11:50.376874Z",
     "iopub.status.idle": "2025-04-17T20:27:52.885201Z",
     "shell.execute_reply": "2025-04-17T20:27:52.883260Z"
    },
    "jupyter": {
     "outputs_hidden": false
    },
    "papermill": {
     "duration": 962.535562,
     "end_time": "2025-04-17T20:27:52.888715",
     "exception": false,
     "start_time": "2025-04-17T20:11:50.353153",
     "status": "completed"
    },
    "tags": [],
    "vscode": {
     "languageId": "r"
    }
   },
   "outputs": [],
   "source": [
    "#============================\n",
    "# 8. Train the Model\n",
    "#============================\n",
    "history <- model %>% fit(\n",
    "  x = list(\n",
    "    input_seq = Xnum_train,\n",
    "    input_player_id = cat_player_id_train,\n",
    "    input_tID = cat_tID_train,\n",
    "    input_oID = cat_oID_train,\n",
    "    input_hID = cat_hID_train\n",
    "  ),\n",
    "  y = y_train,\n",
    "  epochs = epoker,\n",
    "  batch_size = 32,\n",
    "  validation_data = list(\n",
    "    list(\n",
    "      input_seq = Xnum_val,\n",
    "      input_player_id = cat_player_id_val,\n",
    "      input_tID = cat_tID_val,\n",
    "      input_oID = cat_oID_val,\n",
    "      input_hID = cat_hID_val\n",
    "    ),\n",
    "    y_val\n",
    "  )\n",
    ")"
   ]
  },
  {
   "cell_type": "code",
   "execution_count": null,
   "id": "a6911389",
   "metadata": {
    "_cell_guid": "0831980d-1fd1-4444-a7ce-15ede86f8146",
    "_uuid": "07219c2b-0e78-4eb7-8177-cdfbb0a1f7b9",
    "collapsed": false,
    "execution": {
     "iopub.execute_input": "2025-04-17T20:27:52.984810Z",
     "iopub.status.busy": "2025-04-17T20:27:52.983234Z",
     "iopub.status.idle": "2025-04-17T20:27:56.386923Z",
     "shell.execute_reply": "2025-04-17T20:27:56.384882Z"
    },
    "jupyter": {
     "outputs_hidden": false
    },
    "papermill": {
     "duration": 3.469029,
     "end_time": "2025-04-17T20:27:56.389413",
     "exception": false,
     "start_time": "2025-04-17T20:27:52.920384",
     "status": "completed"
    },
    "tags": [],
    "vscode": {
     "languageId": "r"
    }
   },
   "outputs": [
    {
     "name": "stdout",
     "output_type": "stream",
     "text": [
      "Rows: 4,752\n",
      "Columns: 93\n",
      "$ row_id                        \u001b[3m\u001b[90m<dbl>\u001b[39m\u001b[23m 52, 54, 58, 70, 75, 80, 81, 94, 105, 111…\n",
      "$ predicted_total_points_scaled \u001b[3m\u001b[90m<dbl>\u001b[39m\u001b[23m 0.110442817, -0.175867036, -0.128717616,…\n",
      "$ actual_total_points_scaled    \u001b[3m\u001b[90m<dbl>\u001b[39m\u001b[23m 0.44263480, 0.44263480, -0.01123475, -0.…\n",
      "$ predicted_total_points        \u001b[3m\u001b[90m<dbl>\u001b[39m\u001b[23m 1.26808929, 0.63726959, 0.74115278, 2.09…\n",
      "$ actual_total_points           \u001b[3m\u001b[90m<dbl>\u001b[39m\u001b[23m 2, 2, 1, 1, 1, 0, 1, 0, 1, 0, 1, 0, 0, 1…\n",
      "$ name.x                        \u001b[3m\u001b[90m<chr>\u001b[39m\u001b[23m \"Aaron Cresswell\", \"Aaron Cresswell\", \"A…\n",
      "$ position.x                    \u001b[3m\u001b[90m<chr>\u001b[39m\u001b[23m \"DEF\", \"DEF\", \"DEF\", \"DEF\", \"DEF\", \"DEF\"…\n",
      "$ team.x                        \u001b[3m\u001b[90m<chr>\u001b[39m\u001b[23m \"West Ham\", \"West Ham\", \"West Ham\", \"Wes…\n",
      "$ xP.x                          \u001b[3m\u001b[90m<dbl>\u001b[39m\u001b[23m 3.0, 0.0, 3.0, 0.6, 3.2, 1.6, 1.5, 0.8, …\n",
      "$ assists.x                     \u001b[3m\u001b[90m<dbl>\u001b[39m\u001b[23m -0.143154, -0.143154, -0.143154, -0.1431…\n",
      "$ bonus.x                       \u001b[3m\u001b[90m<dbl>\u001b[39m\u001b[23m -0.1846342, -0.1846342, -0.1846342, -0.1…\n",
      "$ bps.x                         \u001b[3m\u001b[90m<dbl>\u001b[39m\u001b[23m 1.66038846, 1.99868297, 1.54762362, -0.2…\n",
      "$ clean_sheets.x                \u001b[3m\u001b[90m<dbl>\u001b[39m\u001b[23m -0.2923159, -0.2923159, -0.2923159, -0.2…\n",
      "$ creativity.x                  \u001b[3m\u001b[90m<dbl>\u001b[39m\u001b[23m 4.80438365, 3.36484155, 6.80038739, -0.3…\n",
      "$ expected_assists.x            \u001b[3m\u001b[90m<dbl>\u001b[39m\u001b[23m -0.27016876, -0.27016876, 3.13413565, -0…\n",
      "$ expected_goal_involvements.x  \u001b[3m\u001b[90m<dbl>\u001b[39m\u001b[23m -0.32395565, -0.32395565, 1.82883619, -0…\n",
      "$ expected_goals.x              \u001b[3m\u001b[90m<dbl>\u001b[39m\u001b[23m -0.2283393, -0.2283393, -0.2283393, -0.2…\n",
      "$ expected_goals_conceded.x     \u001b[3m\u001b[90m<dbl>\u001b[39m\u001b[23m -0.5512410, -0.5512410, 1.6385153, -0.55…\n",
      "$ fixture.x                     \u001b[3m\u001b[90m<dbl>\u001b[39m\u001b[23m 100, 118, 159, 290, 326, 369, 378, 122, …\n",
      "$ goals_conceded.x              \u001b[3m\u001b[90m<dbl>\u001b[39m\u001b[23m 0.4765049, 0.4765049, 1.4646565, -0.5116…\n",
      "$ goals_scored.x                \u001b[3m\u001b[90m<dbl>\u001b[39m\u001b[23m 0, 0, 0, 0, 0, 0, 0, 0, 0, 0, 0, 0, 0, 0…\n",
      "$ ict_index.x                   \u001b[3m\u001b[90m<dbl>\u001b[39m\u001b[23m 2.7719375, 2.2393341, 3.3045408, -0.5205…\n",
      "$ influence.x                   \u001b[3m\u001b[90m<dbl>\u001b[39m\u001b[23m 1.61735606, 1.89214418, 1.28761031, -0.5…\n",
      "$ kickoff_time.x                \u001b[3m\u001b[90m<dttm>\u001b[39m\u001b[23m 2022-10-09 13:00:00, 2022-10-19 18:30:0…\n",
      "$ minutes.x                     \u001b[3m\u001b[90m<dbl>\u001b[39m\u001b[23m 1.4756519, 1.4756519, 1.4756519, -0.6949…\n",
      "$ opponent_team.x               \u001b[3m\u001b[90m<chr>\u001b[39m\u001b[23m \"Fulham\", \"Liverpool\", \"Leeds\", \"Southam…\n",
      "$ own_goals.x                   \u001b[3m\u001b[90m<dbl>\u001b[39m\u001b[23m -0.05542168, -0.05542168, -0.05542168, -…\n",
      "$ penalties_missed.x            \u001b[3m\u001b[90m<dbl>\u001b[39m\u001b[23m 0, 0, 0, 0, 0, 0, 0, 0, 0, 0, 0, 0, 0, 0…\n",
      "$ penalties_saved.x             \u001b[3m\u001b[90m<dbl>\u001b[39m\u001b[23m 0, 0, 0, 0, 0, 0, 0, 0, 0, 0, 0, 0, 0, 0…\n",
      "$ red_cards.x                   \u001b[3m\u001b[90m<dbl>\u001b[39m\u001b[23m -0.04730116, -0.04730116, -0.04730116, -…\n",
      "$ round.x                       \u001b[3m\u001b[90m<dbl>\u001b[39m\u001b[23m 10, 12, 16, 29, 33, 37, 38, 13, 24, 30, …\n",
      "$ saves.x                       \u001b[3m\u001b[90m<dbl>\u001b[39m\u001b[23m 0, 0, 0, 0, 0, 0, 0, 0, 0, 0, 0, 0, 0, 0…\n",
      "$ selected.x                    \u001b[3m\u001b[90m<dbl>\u001b[39m\u001b[23m 0.051968088, 0.048806053, 0.114856687, -…\n",
      "$ starts.x                      \u001b[3m\u001b[90m<dbl>\u001b[39m\u001b[23m -0.6444246, -0.6444246, 1.5517111, -0.64…\n",
      "$ team_a_score.x                \u001b[3m\u001b[90m<dbl>\u001b[39m\u001b[23m 1, 0, 2, 0, 2, 1, 1, 2, 6, 3, 2, 2, 2, 3…\n",
      "$ team_h_score.x                \u001b[3m\u001b[90m<dbl>\u001b[39m\u001b[23m 3, 1, 0, 1, 1, 3, 2, 1, 0, 4, 1, 2, 1, 0…\n",
      "$ threat.x                      \u001b[3m\u001b[90m<dbl>\u001b[39m\u001b[23m -0.01761153, -0.33833732, -0.33833732, -…\n",
      "$ total_points.x                \u001b[3m\u001b[90m<dbl>\u001b[39m\u001b[23m 0.44263480, 0.44263480, -0.01123475, -0.…\n",
      "$ transfers_balance.x           \u001b[3m\u001b[90m<dbl>\u001b[39m\u001b[23m 0.608471712, -0.139835479, -0.186890357,…\n",
      "$ transfers_in.x                \u001b[3m\u001b[90m<dbl>\u001b[39m\u001b[23m 0.68559709, -0.11066295, -0.06583432, -0…\n",
      "$ transfers_out.x               \u001b[3m\u001b[90m<dbl>\u001b[39m\u001b[23m -0.05766446, 0.06332480, 0.17224764, -0.…\n",
      "$ value.x                       \u001b[3m\u001b[90m<dbl>\u001b[39m\u001b[23m 0.7268077, 0.7268077, 0.7268077, 0.53387…\n",
      "$ was_home.x                    \u001b[3m\u001b[90m<lgl>\u001b[39m\u001b[23m TRUE, FALSE, TRUE, TRUE, TRUE, TRUE, FAL…\n",
      "$ yellow_cards.x                \u001b[3m\u001b[90m<dbl>\u001b[39m\u001b[23m -0.2559645, -0.2559645, -0.2559645, -0.2…\n",
      "$ GW.x                          \u001b[3m\u001b[90m<dbl>\u001b[39m\u001b[23m 10, 12, 16, 29, 33, 37, 38, 51, 62, 68, …\n",
      "$ player_id.x                   \u001b[3m\u001b[90m<dbl>\u001b[39m\u001b[23m 3, 3, 3, 3, 3, 3, 3, 3, 3, 3, 3, 3, 3, 3…\n",
      "$ oID.x                         \u001b[3m\u001b[90m<dbl>\u001b[39m\u001b[23m 10, 14, 12, 21, 14, 13, 12, 6, 1, 18, 24…\n",
      "$ tID.x                         \u001b[3m\u001b[90m<dbl>\u001b[39m\u001b[23m 23, 23, 23, 23, 23, 23, 23, 23, 23, 23, …\n",
      "$ hID.x                         \u001b[3m\u001b[90m<dbl>\u001b[39m\u001b[23m 1, 0, 1, 1, 1, 1, 0, 0, 1, 0, 0, 1, 1, 1…\n",
      "$ name.y                        \u001b[3m\u001b[90m<chr>\u001b[39m\u001b[23m \"Aaron Cresswell\", \"Aaron Cresswell\", \"A…\n",
      "$ position.y                    \u001b[3m\u001b[90m<chr>\u001b[39m\u001b[23m \"DEF\", \"DEF\", \"DEF\", \"DEF\", \"DEF\", \"DEF\"…\n",
      "$ team.y                        \u001b[3m\u001b[90m<chr>\u001b[39m\u001b[23m \"West Ham\", \"West Ham\", \"West Ham\", \"Wes…\n",
      "$ xP.y                          \u001b[3m\u001b[90m<dbl>\u001b[39m\u001b[23m 3.0, 0.0, 3.0, 0.6, 3.2, 1.6, 1.5, 0.8, …\n",
      "$ assists.y                     \u001b[3m\u001b[90m<dbl>\u001b[39m\u001b[23m 0, 0, 0, 0, 0, 0, 0, 0, 0, 0, 0, 0, 0, 0…\n",
      "$ bonus.y                       \u001b[3m\u001b[90m<dbl>\u001b[39m\u001b[23m 0, 0, 0, 0, 0, 0, 0, 0, 0, 0, 0, 0, 0, 0…\n",
      "$ bps.y                         \u001b[3m\u001b[90m<dbl>\u001b[39m\u001b[23m 20, 23, 19, 3, 11, 0, 10, 0, 3, 0, 6, 0,…\n",
      "$ clean_sheets.y                \u001b[3m\u001b[90m<dbl>\u001b[39m\u001b[23m 0, 0, 0, 0, 0, 0, 0, 0, 0, 0, 0, 0, 0, 0…\n",
      "$ creativity.y                  \u001b[3m\u001b[90m<dbl>\u001b[39m\u001b[23m 42.8, 30.9, 59.3, 0.0, 19.3, 0.0, 0.0, 0…\n",
      "$ expected_assists.y            \u001b[3m\u001b[90m<dbl>\u001b[39m\u001b[23m 0.00000, 0.00000, 0.20854, 0.00000, 0.08…\n",
      "$ expected_goal_involvements.y  \u001b[3m\u001b[90m<dbl>\u001b[39m\u001b[23m 0.00000, 0.00000, 0.20854, 0.00000, 0.08…\n",
      "$ expected_goals.y              \u001b[3m\u001b[90m<dbl>\u001b[39m\u001b[23m 0.00, 0.00, 0.00, 0.00, 0.00, 0.00, 0.00…\n",
      "$ expected_goals_conceded.y     \u001b[3m\u001b[90m<dbl>\u001b[39m\u001b[23m 0.000, 0.000, 1.776, 0.000, 2.000, 0.000…\n",
      "$ fixture.y                     \u001b[3m\u001b[90m<dbl>\u001b[39m\u001b[23m 100, 118, 159, 290, 326, 369, 378, 122, …\n",
      "$ goals_conceded.y              \u001b[3m\u001b[90m<dbl>\u001b[39m\u001b[23m 1, 1, 2, 0, 2, 0, 2, 0, 0, 0, 0, 0, 0, 0…\n",
      "$ goals_scored.y                \u001b[3m\u001b[90m<dbl>\u001b[39m\u001b[23m 0, 0, 0, 0, 0, 0, 0, 0, 0, 0, 0, 0, 0, 0…\n",
      "$ ict_index.y                   \u001b[3m\u001b[90m<dbl>\u001b[39m\u001b[23m 6.9, 5.8, 8.0, 0.1, 2.8, 0.0, 0.0, 0.0, …\n",
      "$ influence.y                   \u001b[3m\u001b[90m<dbl>\u001b[39m\u001b[23m 24.2, 27.2, 20.6, 1.0, 8.4, 0.0, 0.0, 0.…\n",
      "$ kickoff_time.y                \u001b[3m\u001b[90m<dttm>\u001b[39m\u001b[23m 2022-10-09 13:00:00, 2022-10-19 18:30:0…\n",
      "$ minutes.y                     \u001b[3m\u001b[90m<dbl>\u001b[39m\u001b[23m 90, 90, 90, 2, 90, 0, 70, 0, 14, 0, 36, …\n",
      "$ opponent_team.y               \u001b[3m\u001b[90m<chr>\u001b[39m\u001b[23m \"Fulham\", \"Liverpool\", \"Leeds\", \"Southam…\n",
      "$ own_goals.y                   \u001b[3m\u001b[90m<dbl>\u001b[39m\u001b[23m 0, 0, 0, 0, 0, 0, 0, 0, 0, 0, 0, 0, 0, 0…\n",
      "$ penalties_missed.y            \u001b[3m\u001b[90m<dbl>\u001b[39m\u001b[23m 0, 0, 0, 0, 0, 0, 0, 0, 0, 0, 0, 0, 0, 0…\n",
      "$ penalties_saved.y             \u001b[3m\u001b[90m<dbl>\u001b[39m\u001b[23m 0, 0, 0, 0, 0, 0, 0, 0, 0, 0, 0, 0, 0, 0…\n",
      "$ red_cards.y                   \u001b[3m\u001b[90m<dbl>\u001b[39m\u001b[23m 0, 0, 0, 0, 0, 0, 0, 0, 0, 0, 0, 0, 0, 0…\n",
      "$ round.y                       \u001b[3m\u001b[90m<dbl>\u001b[39m\u001b[23m 10, 12, 16, 29, 33, 37, 38, 13, 24, 30, …\n",
      "$ saves.y                       \u001b[3m\u001b[90m<dbl>\u001b[39m\u001b[23m 0, 0, 0, 0, 0, 0, 0, 0, 0, 0, 0, 0, 0, 0…\n",
      "$ selected.y                    \u001b[3m\u001b[90m<dbl>\u001b[39m\u001b[23m 250600, 248750, 287394, 149469, 172331, …\n",
      "$ starts.y                      \u001b[3m\u001b[90m<dbl>\u001b[39m\u001b[23m 0, 0, 1, 0, 1, 0, 1, 0, 0, 0, 0, 0, 0, 0…\n",
      "$ team_a_score.y                \u001b[3m\u001b[90m<dbl>\u001b[39m\u001b[23m 1, 0, 2, 0, 2, 1, 1, 2, 6, 3, 2, 2, 2, 3…\n",
      "$ team_h_score.y                \u001b[3m\u001b[90m<dbl>\u001b[39m\u001b[23m 3, 1, 0, 1, 1, 3, 2, 1, 0, 4, 1, 2, 1, 0…\n",
      "$ threat.y                      \u001b[3m\u001b[90m<dbl>\u001b[39m\u001b[23m 2, 0, 0, 0, 0, 0, 0, 0, 0, 0, 0, 0, 0, 0…\n",
      "$ total_points.y                \u001b[3m\u001b[90m<dbl>\u001b[39m\u001b[23m 2, 2, 1, 1, 1, 0, 1, 0, 1, 0, 1, 0, 0, 1…\n",
      "$ transfers_balance.y           \u001b[3m\u001b[90m<dbl>\u001b[39m\u001b[23m 39911, -7893, -10899, 3676, 15557, -1574…\n",
      "$ transfers_in.y                \u001b[3m\u001b[90m<dbl>\u001b[39m\u001b[23m 49989, 8141, 10497, 6024, 20119, 4350, 2…\n",
      "$ transfers_out.y               \u001b[3m\u001b[90m<dbl>\u001b[39m\u001b[23m 10078, 16034, 21396, 2348, 4562, 5924, 3…\n",
      "$ value.y                       \u001b[3m\u001b[90m<dbl>\u001b[39m\u001b[23m 48, 48, 48, 47, 47, 47, 47, 42, 42, 42, …\n",
      "$ was_home.y                    \u001b[3m\u001b[90m<lgl>\u001b[39m\u001b[23m TRUE, FALSE, TRUE, TRUE, TRUE, TRUE, FAL…\n",
      "$ yellow_cards.y                \u001b[3m\u001b[90m<dbl>\u001b[39m\u001b[23m 0, 0, 0, 0, 0, 0, 0, 0, 0, 0, 0, 0, 0, 0…\n",
      "$ GW.y                          \u001b[3m\u001b[90m<dbl>\u001b[39m\u001b[23m 10, 12, 16, 29, 33, 37, 38, 51, 62, 68, …\n",
      "$ player_id.y                   \u001b[3m\u001b[90m<dbl>\u001b[39m\u001b[23m 3, 3, 3, 3, 3, 3, 3, 3, 3, 3, 3, 3, 3, 3…\n",
      "$ oID.y                         \u001b[3m\u001b[90m<dbl>\u001b[39m\u001b[23m 10, 14, 12, 21, 14, 13, 12, 6, 1, 18, 24…\n",
      "$ tID.y                         \u001b[3m\u001b[90m<dbl>\u001b[39m\u001b[23m 23, 23, 23, 23, 23, 23, 23, 23, 23, 23, …\n",
      "$ hID.y                         \u001b[3m\u001b[90m<dbl>\u001b[39m\u001b[23m 1, 0, 1, 1, 1, 1, 0, 0, 1, 0, 0, 1, 1, 1…\n"
     ]
    }
   ],
   "source": [
    "\n",
    "#============================\n",
    "# 9. Generate Predictions & Invert Scaling on Validation Set\n",
    "#============================\n",
    "# Use the validation set for predictions\n",
    "pred_all <- model %>% predict(\n",
    "  list(\n",
    "    input_seq = Xnum_val,\n",
    "    input_player_id = cat_player_id_val,\n",
    "    input_tID = cat_tID_val,\n",
    "    input_oID = cat_oID_val,\n",
    "    input_hID = cat_hID_val\n",
    "  )\n",
    ")\n",
    "\n",
    "# Build a predictions table using the validation row IDs\n",
    "preds_def <- tibble(\n",
    "  row_id = val_row_ids,  # row IDs corresponding to the validation set\n",
    "  predicted_total_points_scaled = as.vector(pred_all),\n",
    "  actual_total_points_scaled = as.vector(y_val)\n",
    ") %>% \n",
    "  mutate(\n",
    "    predicted_total_points = predicted_total_points_scaled * sigma + mu,\n",
    "    actual_total_points = actual_total_points_scaled * sigma + mu\n",
    "  )\n",
    "\n",
    "preds_def <- preds_def %>%\n",
    "  left_join(def, by = \"row_id\")\n",
    "\n",
    "preds_def <- preds_def %>%\n",
    "  left_join(unscaled_def, by = \"row_id\") # Use unscaled_def\n",
    "\n",
    "# View the predictions table\n",
    "glimpse(preds_def)"
   ]
  },
  {
   "cell_type": "markdown",
   "id": "2cdd81f9",
   "metadata": {
    "papermill": {
     "duration": 0.019511,
     "end_time": "2025-04-17T20:27:56.429539",
     "exception": false,
     "start_time": "2025-04-17T20:27:56.410028",
     "status": "completed"
    },
    "tags": []
   },
   "source": [
    "## Eval plots"
   ]
  },
  {
   "cell_type": "code",
   "execution_count": null,
   "id": "f5224a65",
   "metadata": {
    "execution": {
     "iopub.execute_input": "2025-04-17T20:27:56.477461Z",
     "iopub.status.busy": "2025-04-17T20:27:56.475729Z",
     "iopub.status.idle": "2025-04-17T20:27:57.124615Z",
     "shell.execute_reply": "2025-04-17T20:27:57.122814Z"
    },
    "papermill": {
     "duration": 0.676694,
     "end_time": "2025-04-17T20:27:57.127352",
     "exception": false,
     "start_time": "2025-04-17T20:27:56.450658",
     "status": "completed"
    },
    "tags": [],
    "vscode": {
     "languageId": "r"
    }
   },
   "outputs": [
    {
     "data": {
      "text/html": [
       "<table class=\"dataframe\">\n",
       "<caption>A data.frame: 6 × 4</caption>\n",
       "<thead>\n",
       "\t<tr><th></th><th scope=col>epoch</th><th scope=col>value</th><th scope=col>metric</th><th scope=col>data</th></tr>\n",
       "\t<tr><th></th><th scope=col>&lt;int&gt;</th><th scope=col>&lt;dbl&gt;</th><th scope=col>&lt;fct&gt;</th><th scope=col>&lt;fct&gt;</th></tr>\n",
       "</thead>\n",
       "<tbody>\n",
       "\t<tr><th scope=row>1</th><td>1</td><td>0.9232127</td><td>loss</td><td>training</td></tr>\n",
       "\t<tr><th scope=row>2</th><td>2</td><td>0.8319616</td><td>loss</td><td>training</td></tr>\n",
       "\t<tr><th scope=row>3</th><td>3</td><td>0.8163986</td><td>loss</td><td>training</td></tr>\n",
       "\t<tr><th scope=row>4</th><td>4</td><td>0.8038579</td><td>loss</td><td>training</td></tr>\n",
       "\t<tr><th scope=row>5</th><td>5</td><td>0.7919406</td><td>loss</td><td>training</td></tr>\n",
       "\t<tr><th scope=row>6</th><td>6</td><td>0.7804251</td><td>loss</td><td>training</td></tr>\n",
       "</tbody>\n",
       "</table>\n"
      ],
      "text/latex": [
       "A data.frame: 6 × 4\n",
       "\\begin{tabular}{r|llll}\n",
       "  & epoch & value & metric & data\\\\\n",
       "  & <int> & <dbl> & <fct> & <fct>\\\\\n",
       "\\hline\n",
       "\t1 & 1 & 0.9232127 & loss & training\\\\\n",
       "\t2 & 2 & 0.8319616 & loss & training\\\\\n",
       "\t3 & 3 & 0.8163986 & loss & training\\\\\n",
       "\t4 & 4 & 0.8038579 & loss & training\\\\\n",
       "\t5 & 5 & 0.7919406 & loss & training\\\\\n",
       "\t6 & 6 & 0.7804251 & loss & training\\\\\n",
       "\\end{tabular}\n"
      ],
      "text/markdown": [
       "\n",
       "A data.frame: 6 × 4\n",
       "\n",
       "| <!--/--> | epoch &lt;int&gt; | value &lt;dbl&gt; | metric &lt;fct&gt; | data &lt;fct&gt; |\n",
       "|---|---|---|---|---|\n",
       "| 1 | 1 | 0.9232127 | loss | training |\n",
       "| 2 | 2 | 0.8319616 | loss | training |\n",
       "| 3 | 3 | 0.8163986 | loss | training |\n",
       "| 4 | 4 | 0.8038579 | loss | training |\n",
       "| 5 | 5 | 0.7919406 | loss | training |\n",
       "| 6 | 6 | 0.7804251 | loss | training |\n",
       "\n"
      ],
      "text/plain": [
       "  epoch value     metric data    \n",
       "1 1     0.9232127 loss   training\n",
       "2 2     0.8319616 loss   training\n",
       "3 3     0.8163986 loss   training\n",
       "4 4     0.8038579 loss   training\n",
       "5 5     0.7919406 loss   training\n",
       "6 6     0.7804251 loss   training"
      ]
     },
     "metadata": {},
     "output_type": "display_data"
    },
    {
     "data": {
      "image/png": "[encoded data removed]"
     },
     "metadata": {
      "image/png": {
       "height": 420,
       "width": 420
      }
     },
     "output_type": "display_data"
    }
   ],
   "source": [
    "plot(history)\n",
    "\n",
    "history_df_def <- as.data.frame(history)\n",
    "\n",
    "head(history_df_def)\n",
    "\n",
    "\n",
    "# save_model_tf(model, filepath = \"/kaggle/working/gkmodel_tf\")"
   ]
  },
  {
   "cell_type": "markdown",
   "id": "787853d5",
   "metadata": {
    "_cell_guid": "1418cf07-e585-463e-addd-c17ab02703ef",
    "_uuid": "fcfabeac-ce12-4e79-b895-42939879ec4f",
    "collapsed": false,
    "jupyter": {
     "outputs_hidden": false
    },
    "papermill": {
     "duration": 0.021816,
     "end_time": "2025-04-17T20:27:57.170989",
     "exception": false,
     "start_time": "2025-04-17T20:27:57.149173",
     "status": "completed"
    },
    "tags": []
   },
   "source": [
    "## 3: Midtbanespillere"
   ]
  },
  {
   "cell_type": "code",
   "execution_count": null,
   "id": "dbd80b86",
   "metadata": {
    "_cell_guid": "f1a1200e-01f8-4db2-bdd0-9b4cd2f6ac7c",
    "_uuid": "618ba54b-0f53-419f-979d-ddafba09b6bf",
    "collapsed": false,
    "execution": {
     "iopub.execute_input": "2025-04-17T20:27:57.220103Z",
     "iopub.status.busy": "2025-04-17T20:27:57.218426Z",
     "iopub.status.idle": "2025-04-17T20:27:57.251078Z",
     "shell.execute_reply": "2025-04-17T20:27:57.248986Z"
    },
    "jupyter": {
     "outputs_hidden": false
    },
    "papermill": {
     "duration": 0.059091,
     "end_time": "2025-04-17T20:27:57.253531",
     "exception": false,
     "start_time": "2025-04-17T20:27:57.194440",
     "status": "completed"
    },
    "tags": [],
    "vscode": {
     "languageId": "r"
    }
   },
   "outputs": [
    {
     "name": "stdout",
     "output_type": "stream",
     "text": [
      "Numeriske features: assists creativity minutes goals_conceded bonus bps expected_assists expected_goal_involvements expected_goals ict_index own_goals red_cards threat transfers_in transfers_out yellow_cards expected_goals_conceded value selected transfers_balance starts influence clean_sheets \n"
     ]
    },
    {
     "name": "stdout",
     "output_type": "stream",
     "text": [
      "Kategoriske features: player_id tID oID hID \n"
     ]
    },
    {
     "name": "stdout",
     "output_type": "stream",
     "text": [
      "Target variabel: total_points \n"
     ]
    },
    {
     "name": "stdout",
     "output_type": "stream",
     "text": [
      "Ferdig"
     ]
    }
   ],
   "source": [
    "#----------------------------\n",
    "# Define Features, Target & Scale\n",
    "#----------------------------\n",
    "numF <- c(\"assists\", \"creativity\", \"minutes\", \"goals_conceded\",\n",
    "          \"bonus\", \"bps\", \"expected_assists\", \"expected_goal_involvements\",\n",
    "          \"expected_goals\", \"ict_index\", \"own_goals\", \"red_cards\",\n",
    "          \"threat\", \"transfers_in\", \"transfers_out\", \"yellow_cards\",\n",
    "          \"expected_goals_conceded\", \"value\",\n",
    "          \"selected\", \"transfers_balance\", \"starts\", \"influence\",\n",
    "          \"clean_sheets\")\n",
    "catF <- c(\"player_id\", \"tID\", \"oID\", \"hID\")\n",
    "tar <- \"total_points\"\n",
    "\n",
    "cat(\"Numeriske features:\", numF, \"\\n\")\n",
    "cat(\"Kategoriske features:\", catF, \"\\n\")\n",
    "cat(\"Target variabel:\", tar, \"\\n\")\n",
    "cat(\"Ferdig\")"
   ]
  },
  {
   "cell_type": "code",
   "execution_count": null,
   "id": "2c3a5fe1",
   "metadata": {
    "_cell_guid": "e4aaaabc-ecc9-48bb-8e3f-0fab5ad8218f",
    "_uuid": "b2380461-b4b9-470b-ac10-fff9a882df06",
    "collapsed": false,
    "execution": {
     "iopub.execute_input": "2025-04-17T20:27:57.301661Z",
     "iopub.status.busy": "2025-04-17T20:27:57.300022Z",
     "iopub.status.idle": "2025-04-17T20:27:57.366462Z",
     "shell.execute_reply": "2025-04-17T20:27:57.364069Z"
    },
    "jupyter": {
     "outputs_hidden": false
    },
    "papermill": {
     "duration": 0.09375,
     "end_time": "2025-04-17T20:27:57.369683",
     "exception": false,
     "start_time": "2025-04-17T20:27:57.275933",
     "status": "completed"
    },
    "tags": [],
    "vscode": {
     "languageId": "r"
    }
   },
   "outputs": [
    {
     "name": "stdout",
     "output_type": "stream",
     "text": [
      "Kjørt"
     ]
    }
   ],
   "source": [
    "# Compute and store the mean and standard deviation for the target variable\n",
    "\n",
    "mu <- mean(mid[[tar]], na.rm = TRUE)\n",
    "sigma <- sd(mid[[tar]], na.rm = TRUE)\n",
    "\n",
    "# Scale numerical features and target\n",
    "mid <- mid %>%\n",
    "  mutate(across(all_of(numF), ~ (.x - mean(.x, na.rm = TRUE)) / sd(.x, na.rm = TRUE)),\n",
    "         !!tar := (.data[[tar]] - mu) / sigma)\n",
    "cat(\"Kjørt\")"
   ]
  },
  {
   "cell_type": "markdown",
   "id": "f87bbd01",
   "metadata": {
    "_cell_guid": "c78b86f6-dc80-4f58-a91e-8790071d25c0",
    "_uuid": "1f08e43b-6ce9-4a24-8689-cccc31a9a187",
    "collapsed": false,
    "jupyter": {
     "outputs_hidden": false
    },
    "papermill": {
     "duration": 0.024215,
     "end_time": "2025-04-17T20:27:57.417979",
     "exception": false,
     "start_time": "2025-04-17T20:27:57.393764",
     "status": "completed"
    },
    "tags": []
   },
   "source": [
    "### 3.3 MID Building Rolling Windows"
   ]
  },
  {
   "cell_type": "code",
   "execution_count": null,
   "id": "d8f13455",
   "metadata": {
    "_cell_guid": "921a8dd9-b4a3-44e8-bb86-76635fe456db",
    "_uuid": "7638edcb-50ff-461f-9c00-9048bac12e18",
    "collapsed": false,
    "execution": {
     "iopub.execute_input": "2025-04-17T20:27:57.469929Z",
     "iopub.status.busy": "2025-04-17T20:27:57.467726Z",
     "iopub.status.idle": "2025-04-17T20:28:10.988764Z",
     "shell.execute_reply": "2025-04-17T20:28:10.986935Z"
    },
    "jupyter": {
     "outputs_hidden": false
    },
    "papermill": {
     "duration": 13.550079,
     "end_time": "2025-04-17T20:28:10.991417",
     "exception": false,
     "start_time": "2025-04-17T20:27:57.441338",
     "status": "completed"
    },
    "tags": [],
    "vscode": {
     "languageId": "r"
    }
   },
   "outputs": [
    {
     "name": "stdout",
     "output_type": "stream",
     "text": [
      "Kjørt"
     ]
    }
   ],
   "source": [
    "#----------------------------\n",
    "# 3. Build Rolling Windows\n",
    "#----------------------------\n",
    "# Define window size (number of past gameweeks to use)\n",
    "ws <- vindu\n",
    "\n",
    "# Build numerical rolling windows\n",
    "numW <- mid %>%\n",
    "  group_by(player_id) %>%\n",
    "  filter(n() > ws) %>%  # Only players with more than ws observations\n",
    "  group_modify(~ {\n",
    "    windows <- slide(.x[, numF],\n",
    "                     .f = ~ as.matrix(.x),\n",
    "                     .before = ws, \n",
    "                     .after = -1, # prevents the model from seeing current gw data\n",
    "                     .complete = TRUE)\n",
    "    valid_windows <- windows[(ws + 1):length(windows)]\n",
    "    target <- .x[[tar]][(ws + 1):nrow(.x)]\n",
    "    # Extract row_id for each valid window\n",
    "    rid <- .x$row_id[(ws + 1):nrow(.x)]\n",
    "    tibble(window = valid_windows, target = target, row_id = rid)\n",
    "  }) %>%\n",
    "  ungroup()\n",
    "numW <- numW %>%\n",
    "  left_join(mid %>% select(row_id, GW), by = \"row_id\")\n",
    "# Build categorical rolling windows (if needed for debugging; here we use only the current values)\n",
    "catW <- mid %>%\n",
    "  group_by(player_id) %>%\n",
    "  filter(n() > ws) %>%\n",
    "  group_modify(~ {\n",
    "    df <- ungroup(.x) %>% mutate(player_id = .y$player_id)\n",
    "    windows <- slide(df %>% select(all_of(catF)),\n",
    "                     .f = ~ as.matrix(.x),\n",
    "                     .before = ws,\n",
    "                     #.after = -1,\n",
    "                     .complete = TRUE)\n",
    "    valid_windows <- windows[(ws + 1):length(windows)]\n",
    "    target <- df[[tar]][(ws + 1):nrow(df)]\n",
    "    tibble(window = valid_windows, target = target)\n",
    "  }) %>%\n",
    "  ungroup()\n",
    "\n",
    "cat(\"Kjørt\")"
   ]
  },
  {
   "cell_type": "code",
   "execution_count": null,
   "id": "e0d3f89a",
   "metadata": {
    "_cell_guid": "a2d963cc-3d3e-4c09-a281-87f1ef18b7a2",
    "_uuid": "eb6780e7-0237-4c69-8dc7-e1848df3444f",
    "collapsed": false,
    "execution": {
     "iopub.execute_input": "2025-04-17T20:28:11.039495Z",
     "iopub.status.busy": "2025-04-17T20:28:11.037618Z",
     "iopub.status.idle": "2025-04-17T20:28:19.000717Z",
     "shell.execute_reply": "2025-04-17T20:28:18.998969Z"
    },
    "jupyter": {
     "outputs_hidden": false
    },
    "papermill": {
     "duration": 7.990318,
     "end_time": "2025-04-17T20:28:19.003679",
     "exception": false,
     "start_time": "2025-04-17T20:28:11.013361",
     "status": "completed"
    },
    "tags": [],
    "vscode": {
     "languageId": "r"
    }
   },
   "outputs": [
    {
     "name": "stdout",
     "output_type": "stream",
     "text": [
      "Windows with NA:  0 \n"
     ]
    },
    {
     "name": "stdout",
     "output_type": "stream",
     "text": [
      "Selected features:  assists creativity minutes goals_conceded bonus bps expected_assists expected_goal_involvements expected_goals own_goals red_cards threat transfers_in transfers_out yellow_cards expected_goals_conceded value selected starts influence clean_sheets \n"
     ]
    }
   ],
   "source": [
    "# Check for any NA in the windows before summary\n",
    "sumna <- sapply(numW$window, function(flatW) any(is.na(flatW)))\n",
    "cat(\"Windows with NA: \", sum(sumna), \"\\n\")\n",
    "\n",
    "#----------------------------\n",
    "# 4. Lasso regression\n",
    "#----------------------------\n",
    "# numW as data.matrix, tar as response variable\n",
    "\n",
    "aggmat <- lapply(numW$window, function(flatW){\n",
    "  colMeans(flatW, na.rm = TRUE)\n",
    "})\n",
    "x <- do.call(rbind, aggmat)\n",
    "y <- numW$target\n",
    "\n",
    "# K-fold CV\n",
    "cvfit <- cv.glmnet(x,y,alpha=1)\n",
    "minlambda <- cvfit$lambda.min\n",
    "\n",
    "lassofit <- glmnet(x,y,alpha = 1, lambda = minlambda)\n",
    "\n",
    "coef_lasso <- as.matrix(coef(lassofit))\n",
    "numF <- rownames(coef_lasso)[coef_lasso[,1] != 0]\n",
    "numF <- setdiff(numF, \"(Intercept)\")\n",
    "cat(\"Selected features: \", numF, \"\\n\")\n",
    "\n",
    "# repeat rolling window, now only containing selected features\n",
    "# Define window size (number of past gameweeks to use)\n",
    "ws <- vindu\n",
    "\n",
    "# Build numerical rolling windows\n",
    "numW <- mid %>%\n",
    "  group_by(player_id) %>%\n",
    "  filter(n() > ws) %>%  # Only players with more than ws observations\n",
    "  group_modify(~ {\n",
    "    windows <- slide(.x[, numF],\n",
    "                     .f = ~ as.matrix(.x),\n",
    "                     .before = ws, \n",
    "                     .after = -1,\n",
    "                     .complete = TRUE)\n",
    "    valid_windows <- windows[(ws + 1):length(windows)]\n",
    "    target <- .x[[tar]][(ws + 1):nrow(.x)]\n",
    "    # Extract row_id for each valid window\n",
    "    rid <- .x$row_id[(ws + 1):nrow(.x)]\n",
    "    tibble(window = valid_windows, target = target, row_id = rid)\n",
    "  }) %>%\n",
    "  ungroup()\n",
    "numW <- numW %>%\n",
    "  left_join(mid %>% select(row_id, GW), by = \"row_id\")"
   ]
  },
  {
   "cell_type": "code",
   "execution_count": null,
   "id": "b0b6e893",
   "metadata": {
    "_cell_guid": "1baa6b67-44ed-4493-810b-2021c470037b",
    "_uuid": "a0f00ea6-136c-4dc5-811a-45a73e26e3a1",
    "collapsed": false,
    "execution": {
     "iopub.execute_input": "2025-04-17T20:28:19.053418Z",
     "iopub.status.busy": "2025-04-17T20:28:19.051845Z",
     "iopub.status.idle": "2025-04-17T20:28:19.717996Z",
     "shell.execute_reply": "2025-04-17T20:28:19.716029Z"
    },
    "jupyter": {
     "outputs_hidden": false
    },
    "papermill": {
     "duration": 0.695858,
     "end_time": "2025-04-17T20:28:19.721505",
     "exception": false,
     "start_time": "2025-04-17T20:28:19.025647",
     "status": "completed"
    },
    "tags": [],
    "vscode": {
     "languageId": "r"
    }
   },
   "outputs": [],
   "source": [
    "#============================\n",
    "# 5. Convert Rolling Windows to Arrays & Extract Targets\n",
    "#============================\n",
    "# Number of samples is the number of rows in numW\n",
    "nSamp <- nrow(numW)\n",
    "\n",
    "# Convert numerical windows to a 3D array of shape [nSamp, ws, length(numF)]\n",
    "num_array <- array(\n",
    "  unlist(numW$window),\n",
    "  dim = c(nSamp, ws, length(numF))\n",
    ")\n",
    "\n",
    "# Targets (scaled): a matrix with one column\n",
    "targets <- matrix(as.numeric(numW$target), ncol = 1)\n",
    "\n",
    "# For categorical inputs, extract the current categorical values from the last row of each window.\n",
    "# (If your windows were built solely from historical data, the \"current\" values need to come from the original data.)\n",
    "# Here, we use the categorical rolling windows and extract the last row:\n",
    "cat_current <- do.call(rbind, lapply(catW$window, function(mat) mat[nrow(mat), ]))\n",
    "# Split into separate matrices (each of shape [nSamp, 1])\n",
    "cat_player_id <- matrix(as.integer(cat_current[, \"player_id\"]), ncol = 1)\n",
    "cat_tID <- matrix(as.integer(cat_current[, \"tID\"]), ncol = 1)\n",
    "cat_oID <- matrix(as.integer(cat_current[, \"oID\"]), ncol = 1)\n",
    "cat_hID <- matrix(as.integer(cat_current[, \"hID\"]), ncol = 1)"
   ]
  },
  {
   "cell_type": "code",
   "execution_count": null,
   "id": "3b311652",
   "metadata": {
    "_cell_guid": "89d56db0-4579-47b6-b1ef-aad16369a404",
    "_uuid": "e6a67917-57cf-49bd-8eb2-d9f608a9be4b",
    "collapsed": false,
    "execution": {
     "iopub.execute_input": "2025-04-17T20:28:19.778901Z",
     "iopub.status.busy": "2025-04-17T20:28:19.777343Z",
     "iopub.status.idle": "2025-04-17T20:28:19.856323Z",
     "shell.execute_reply": "2025-04-17T20:28:19.854560Z"
    },
    "jupyter": {
     "outputs_hidden": false
    },
    "papermill": {
     "duration": 0.108512,
     "end_time": "2025-04-17T20:28:19.858832",
     "exception": false,
     "start_time": "2025-04-17T20:28:19.750320",
     "status": "completed"
    },
    "tags": [],
    "vscode": {
     "languageId": "r"
    }
   },
   "outputs": [],
   "source": [
    "#============================\n",
    "# 6. Split Data into Training and Validation Sets\n",
    "#============================\n",
    "set.seed(123)\n",
    "idx <- sample(1:nSamp, size = floor(0.8 * nSamp))\n",
    "\n",
    "# Training data\n",
    "Xnum_train <- num_array[idx, , , drop = FALSE]\n",
    "cat_player_id_train <- cat_player_id[idx, , drop = FALSE]\n",
    "cat_tID_train <- cat_tID[idx, , drop = FALSE]\n",
    "cat_oID_train <- cat_oID[idx, , drop = FALSE]\n",
    "cat_hID_train <- cat_hID[idx, , drop = FALSE]\n",
    "y_train <- targets[idx, , drop = FALSE]\n",
    "\n",
    "# Validation data\n",
    "Xnum_val <- num_array[-idx, , , drop = FALSE]\n",
    "cat_player_id_val <- cat_player_id[-idx, , drop = FALSE]\n",
    "cat_tID_val <- cat_tID[-idx, , drop = FALSE]\n",
    "cat_oID_val <- cat_oID[-idx, , drop = FALSE]\n",
    "cat_hID_val <- cat_hID[-idx, , drop = FALSE]\n",
    "y_val <- targets[-idx, , drop = FALSE]\n",
    "\n",
    "# Also, extract the row IDs for the validation samples (for later joining)\n",
    "val_row_ids <- numW$row_id[-idx]"
   ]
  },
  {
   "cell_type": "code",
   "execution_count": null,
   "id": "b219a18a",
   "metadata": {
    "_cell_guid": "3d5eb5ee-27d7-4ab2-9c07-562d70f4b530",
    "_uuid": "41991037-8c52-4b00-89d0-f1ebfd39487a",
    "collapsed": false,
    "execution": {
     "iopub.execute_input": "2025-04-17T20:28:19.906707Z",
     "iopub.status.busy": "2025-04-17T20:28:19.905125Z",
     "iopub.status.idle": "2025-04-17T20:28:20.418393Z",
     "shell.execute_reply": "2025-04-17T20:28:20.415997Z"
    },
    "jupyter": {
     "outputs_hidden": false
    },
    "papermill": {
     "duration": 0.540763,
     "end_time": "2025-04-17T20:28:20.421752",
     "exception": false,
     "start_time": "2025-04-17T20:28:19.880989",
     "status": "completed"
    },
    "tags": [],
    "vscode": {
     "languageId": "r"
    }
   },
   "outputs": [
    {
     "name": "stdout",
     "output_type": "stream",
     "text": [
      "Model: \"mid_lstm_model\"\n",
      "________________________________________________________________________________\n",
      " Layer (type)             Output Shape      Param #  Connected to               \n",
      "================================================================================\n",
      " input_player_id (InputLa  [(None, 1)]      0        []                         \n",
      " yer)                                                                           \n",
      " input_tID (InputLayer)   [(None, 1)]       0        []                         \n",
      " input_oID (InputLayer)   [(None, 1)]       0        []                         \n",
      " input_hID (InputLayer)   [(None, 1)]       0        []                         \n",
      " embedding_6 (Embedding)  (None, 1, 20)     26640    ['input_player_id[0][0]']  \n",
      " embedding_7 (Embedding)  (None, 1, 20)     500      ['input_tID[0][0]']        \n",
      " embedding_8 (Embedding)  (None, 1, 20)     500      ['input_oID[0][0]']        \n",
      " lambda_2 (Lambda)        (None, 1)         0        ['input_hID[0][0]']        \n",
      " input_seq (InputLayer)   [(None, 4, 21)]   0        []                         \n",
      " flatten_8 (Flatten)      (None, 20)        0        ['embedding_6[0][0]']      \n",
      " flatten_9 (Flatten)      (None, 20)        0        ['embedding_7[0][0]']      \n",
      " flatten_10 (Flatten)     (None, 20)        0        ['embedding_8[0][0]']      \n",
      " flatten_11 (Flatten)     (None, 1)         0        ['lambda_2[0][0]']         \n",
      " lstm_2 (LSTM)            (None, 64)        22016    ['input_seq[0][0]']        \n",
      " concatenate_4 (Concatena  (None, 61)       0        ['flatten_8[0][0]',        \n",
      " te)                                                  'flatten_9[0][0]',        \n",
      "                                                      'flatten_10[0][0]',       \n",
      "                                                      'flatten_11[0][0]']       \n",
      " dropout_2 (Dropout)      (None, 64)        0        ['lstm_2[0][0]']           \n",
      " dense_6 (Dense)          (None, 16)        992      ['concatenate_4[0][0]']    \n",
      " concatenate_5 (Concatena  (None, 80)       0        ['dropout_2[0][0]',        \n",
      " te)                                                  'dense_6[0][0]']          \n",
      " dense_7 (Dense)          (None, 32)        2592     ['concatenate_5[0][0]']    \n",
      " dense_8 (Dense)          (None, 1)         33       ['dense_7[0][0]']          \n",
      "================================================================================\n",
      "Total params: 53,273\n",
      "Trainable params: 53,273\n",
      "Non-trainable params: 0\n",
      "________________________________________________________________________________\n"
     ]
    }
   ],
   "source": [
    "#============================\n",
    "# 7. Build the Model\n",
    "#============================\n",
    "# Define maximum values for categorical features\n",
    "num_players   <- max(mid$player_id)\n",
    "num_teams     <- max(mid$tID)\n",
    "num_opponents <- max(mid$oID)\n",
    "# For hID, assume it???s binary\n",
    "\n",
    "emb_dim <- 20  # Embedding dimension\n",
    "\n",
    "# Create input layers for current categorical values\n",
    "input_player_id <- layer_input(shape = c(1), dtype = \"int32\", name = \"input_player_id\")\n",
    "input_tID <- layer_input(shape = c(1), dtype = \"int32\", name = \"input_tID\")\n",
    "input_oID <- layer_input(shape = c(1), dtype = \"int32\", name = \"input_oID\")\n",
    "input_hID <- layer_input(shape = c(1), dtype = \"int32\", name = \"input_hID\")\n",
    "\n",
    "embedding_player_id <- input_player_id %>% \n",
    "  layer_embedding(input_dim = num_players + 1, output_dim = emb_dim, mask_zero = TRUE) %>% \n",
    "  layer_flatten()\n",
    "embedding_tID <- input_tID %>% \n",
    "  layer_embedding(input_dim = num_teams + 1, output_dim = emb_dim, mask_zero = TRUE) %>% \n",
    "  layer_flatten()\n",
    "embedding_oID <- input_oID %>% \n",
    "  layer_embedding(input_dim = num_opponents + 1, output_dim = emb_dim, mask_zero = TRUE) %>% \n",
    "  layer_flatten()\n",
    "# For hID, convert to float32 to match types\n",
    "input_hID_flat <- input_hID %>% \n",
    "  layer_lambda(function(x) tf$cast(x, tf$float32)) %>% \n",
    "  layer_flatten()\n",
    "\n",
    "# Merge categorical branch\n",
    "cat_merged <- layer_concatenate(list(embedding_player_id, embedding_tID, embedding_oID, input_hID_flat)) %>%\n",
    "  layer_dense(units = 16, activation = \"relu\")\n",
    "\n",
    "# Numerical branch: input for rolling window data\n",
    "input_seq <- layer_input(shape = c(ws, length(numF)), name = \"input_seq\")\n",
    "lstm_branch <- input_seq %>%\n",
    "  layer_lstm(units = 64, return_sequences = FALSE) %>%\n",
    "  layer_dropout(rate = 0.2)\n",
    "\n",
    "# Merge both branches and build the output\n",
    "merged <- layer_concatenate(list(lstm_branch, cat_merged))\n",
    "dense_layer <- merged %>% layer_dense(units = 32, activation = \"relu\")\n",
    "output <- dense_layer %>% layer_dense(units = 1, activation = \"linear\")\n",
    "\n",
    "# Build and compile the model\n",
    "model <- keras_model(\n",
    "  inputs = list(input_seq, input_player_id, input_tID, input_oID, input_hID),\n",
    "  outputs = output,\n",
    "    name = \"mid_lstm_model\"\n",
    ")\n",
    "model %>% compile(\n",
    "  optimizer = optimizer_adam(),\n",
    "  loss = \"mse\",\n",
    "  metrics = \"mae\",\n",
    "  run_eagerly = TRUE\n",
    ")\n",
    "summary(model)"
   ]
  },
  {
   "cell_type": "code",
   "execution_count": null,
   "id": "df392e98",
   "metadata": {
    "_cell_guid": "d148b4d9-284c-473f-b29b-6f3f56996128",
    "_uuid": "157bdd67-e7f3-46ef-96a3-8904f0cb04ca",
    "collapsed": false,
    "execution": {
     "iopub.execute_input": "2025-04-17T20:28:20.472353Z",
     "iopub.status.busy": "2025-04-17T20:28:20.470832Z",
     "iopub.status.idle": "2025-04-17T20:49:22.424123Z",
     "shell.execute_reply": "2025-04-17T20:49:22.422293Z"
    },
    "jupyter": {
     "outputs_hidden": false
    },
    "papermill": {
     "duration": 1262.00339,
     "end_time": "2025-04-17T20:49:22.450123",
     "exception": false,
     "start_time": "2025-04-17T20:28:20.446733",
     "status": "completed"
    },
    "tags": [],
    "vscode": {
     "languageId": "r"
    }
   },
   "outputs": [
    {
     "name": "stdout",
     "output_type": "stream",
     "text": [
      "Kjørt"
     ]
    }
   ],
   "source": [
    "#============================\n",
    "# 8. Train the Model\n",
    "#============================\n",
    "history <- model %>% fit(\n",
    "  x = list(\n",
    "    input_seq = Xnum_train,\n",
    "    input_player_id = cat_player_id_train,\n",
    "    input_tID = cat_tID_train,\n",
    "    input_oID = cat_oID_train,\n",
    "    input_hID = cat_hID_train\n",
    "  ),\n",
    "  y = y_train,\n",
    "  epochs = epoker,\n",
    "  batch_size = 32,\n",
    "  validation_data = list(\n",
    "    list(\n",
    "      input_seq = Xnum_val,\n",
    "      input_player_id = cat_player_id_val,\n",
    "      input_tID = cat_tID_val,\n",
    "      input_oID = cat_oID_val,\n",
    "      input_hID = cat_hID_val\n",
    "    ),\n",
    "    y_val\n",
    "  )\n",
    ")\n",
    "\n",
    "cat(\"Kjørt\")"
   ]
  },
  {
   "cell_type": "code",
   "execution_count": null,
   "id": "2e920e66",
   "metadata": {
    "_cell_guid": "a1c5580b-14c5-47e5-8597-115059b1c0fa",
    "_uuid": "a550ddb7-291c-4b57-80cb-1f3177ada99a",
    "collapsed": false,
    "execution": {
     "iopub.execute_input": "2025-04-17T20:49:22.618009Z",
     "iopub.status.busy": "2025-04-17T20:49:22.615378Z",
     "iopub.status.idle": "2025-04-17T20:49:27.098482Z",
     "shell.execute_reply": "2025-04-17T20:49:27.096121Z"
    },
    "jupyter": {
     "outputs_hidden": false
    },
    "papermill": {
     "duration": 4.627952,
     "end_time": "2025-04-17T20:49:27.100971",
     "exception": false,
     "start_time": "2025-04-17T20:49:22.473019",
     "status": "completed"
    },
    "tags": [],
    "vscode": {
     "languageId": "r"
    }
   },
   "outputs": [
    {
     "name": "stdout",
     "output_type": "stream",
     "text": [
      "Rows: 6,215\n",
      "Columns: 93\n",
      "$ row_id                        \u001b[3m\u001b[90m<dbl>\u001b[39m\u001b[23m 368, 374, 387, 391, 505, 506, 511, 524, …\n",
      "$ predicted_total_points_scaled \u001b[3m\u001b[90m<dbl>\u001b[39m\u001b[23m -0.43300977, -0.29669473, -0.33627793, -…\n",
      "$ actual_total_points_scaled    \u001b[3m\u001b[90m<dbl>\u001b[39m\u001b[23m -0.51947022, -0.51947022, -0.51947022, -…\n",
      "$ predicted_total_points        \u001b[3m\u001b[90m<dbl>\u001b[39m\u001b[23m 0.20539690, 0.52922926, 0.43519472, 0.32…\n",
      "$ actual_total_points           \u001b[3m\u001b[90m<dbl>\u001b[39m\u001b[23m 0, 0, 0, 0, 0, 0, 0, 1, 0, 2, 2, 1, 9, 1…\n",
      "$ name.x                        \u001b[3m\u001b[90m<chr>\u001b[39m\u001b[23m \"Aaron Ramsey\", \"Aaron Ramsey\", \"Aaron R…\n",
      "$ position.x                    \u001b[3m\u001b[90m<chr>\u001b[39m\u001b[23m \"MID\", \"MID\", \"MID\", \"MID\", \"MID\", \"MID\"…\n",
      "$ team.x                        \u001b[3m\u001b[90m<chr>\u001b[39m\u001b[23m \"Burnley\", \"Burnley\", \"Burnley\", \"Burnle…\n",
      "$ xP.x                          \u001b[3m\u001b[90m<dbl>\u001b[39m\u001b[23m -0.1, 0.0, 0.0, 0.0, 0.0, 0.0, 0.0, 3.1,…\n",
      "$ assists.x                     \u001b[3m\u001b[90m<dbl>\u001b[39m\u001b[23m -0.2126918, -0.2126918, -0.2126918, -0.2…\n",
      "$ bonus.x                       \u001b[3m\u001b[90m<dbl>\u001b[39m\u001b[23m -0.1926378, -0.1926378, -0.1926378, -0.1…\n",
      "$ bps.x                         \u001b[3m\u001b[90m<dbl>\u001b[39m\u001b[23m -0.5514290, -0.5514290, -0.5514290, -0.5…\n",
      "$ clean_sheets.x                \u001b[3m\u001b[90m<dbl>\u001b[39m\u001b[23m -0.2911182, -0.2911182, -0.2911182, -0.2…\n",
      "$ creativity.x                  \u001b[3m\u001b[90m<dbl>\u001b[39m\u001b[23m -0.4859287, -0.4859287, -0.4859287, -0.4…\n",
      "$ expected_assists.x            \u001b[3m\u001b[90m<dbl>\u001b[39m\u001b[23m -0.34692916, -0.34692916, -0.34692916, -…\n",
      "$ expected_goal_involvements.x  \u001b[3m\u001b[90m<dbl>\u001b[39m\u001b[23m -0.3875712, -0.3875712, -0.3875712, -0.3…\n",
      "$ expected_goals.x              \u001b[3m\u001b[90m<dbl>\u001b[39m\u001b[23m -0.30603824, -0.30603824, -0.30603824, -…\n",
      "$ expected_goals_conceded.x     \u001b[3m\u001b[90m<dbl>\u001b[39m\u001b[23m -0.5428386, -0.5428386, -0.5428386, -0.5…\n",
      "$ fixture.x                     \u001b[3m\u001b[90m<dbl>\u001b[39m\u001b[23m 102, 164, 294, 338, 45, 55, 120, 243, 31…\n",
      "$ goals_conceded.x              \u001b[3m\u001b[90m<dbl>\u001b[39m\u001b[23m -0.4920877, -0.4920877, -0.4920877, -0.4…\n",
      "$ goals_scored.x                \u001b[3m\u001b[90m<dbl>\u001b[39m\u001b[23m 0, 0, 0, 0, 0, 0, 0, 0, 0, 0, 0, 0, 1, 1…\n",
      "$ ict_index.x                   \u001b[3m\u001b[90m<dbl>\u001b[39m\u001b[23m -0.54221760, -0.54221760, -0.54221760, -…\n",
      "$ influence.x                   \u001b[3m\u001b[90m<dbl>\u001b[39m\u001b[23m -0.482357423, -0.482357423, -0.482357423…\n",
      "$ kickoff_time.x                \u001b[3m\u001b[90m<dttm>\u001b[39m\u001b[23m 2023-11-04 15:00:00, 2023-12-16 17:30:0…\n",
      "$ minutes.x                     \u001b[3m\u001b[90m<dbl>\u001b[39m\u001b[23m -0.7315771, -0.7315771, -0.7315771, -0.7…\n",
      "$ opponent_team.x               \u001b[3m\u001b[90m<chr>\u001b[39m\u001b[23m \"Crystal Palace\", \"Everton\", \"Chelsea\", …\n",
      "$ own_goals.x                   \u001b[3m\u001b[90m<dbl>\u001b[39m\u001b[23m -0.02625814, -0.02625814, -0.02625814, -…\n",
      "$ penalties_missed.x            \u001b[3m\u001b[90m<dbl>\u001b[39m\u001b[23m 0, 0, 0, 0, 0, 0, 0, 0, 0, 0, 0, 0, 0, 0…\n",
      "$ penalties_saved.x             \u001b[3m\u001b[90m<dbl>\u001b[39m\u001b[23m 0, 0, 0, 0, 0, 0, 0, 0, 0, 0, 0, 0, 0, 0…\n",
      "$ red_cards.x                   \u001b[3m\u001b[90m<dbl>\u001b[39m\u001b[23m -0.04171978, -0.04171978, -0.04171978, -…\n",
      "$ round.x                       \u001b[3m\u001b[90m<dbl>\u001b[39m\u001b[23m 11, 17, 30, 34, 5, 6, 12, 25, 32, 36, 3,…\n",
      "$ saves.x                       \u001b[3m\u001b[90m<dbl>\u001b[39m\u001b[23m 0, 0, 0, 0, 0, 0, 0, 0, 0, 0, 0, 0, 0, 0…\n",
      "$ selected.x                    \u001b[3m\u001b[90m<dbl>\u001b[39m\u001b[23m -0.2709012, -0.2717466, -0.2720986, -0.2…\n",
      "$ starts.x                      \u001b[3m\u001b[90m<dbl>\u001b[39m\u001b[23m -0.595980, -0.595980, -0.595980, -0.5959…\n",
      "$ team_a_score.x                \u001b[3m\u001b[90m<dbl>\u001b[39m\u001b[23m 2, 2, 2, 4, 1, 0, 0, 2, 0, 3, 1, 3, 0, 0…\n",
      "$ team_h_score.x                \u001b[3m\u001b[90m<dbl>\u001b[39m\u001b[23m 0, 0, 2, 1, 1, 0, 1, 0, 0, 0, 0, 0, 3, 2…\n",
      "$ threat.x                      \u001b[3m\u001b[90m<dbl>\u001b[39m\u001b[23m -0.4296034, -0.4296034, -0.4296034, -0.4…\n",
      "$ total_points.x                \u001b[3m\u001b[90m<dbl>\u001b[39m\u001b[23m -0.51947022, -0.51947022, -0.51947022, -…\n",
      "$ transfers_balance.x           \u001b[3m\u001b[90m<dbl>\u001b[39m\u001b[23m -0.020408873, -0.019694194, -0.016158411…\n",
      "$ transfers_in.x                \u001b[3m\u001b[90m<dbl>\u001b[39m\u001b[23m -0.1965513, -0.2015564, -0.2023310, -0.2…\n",
      "$ transfers_out.x               \u001b[3m\u001b[90m<dbl>\u001b[39m\u001b[23m -0.19427141, -0.20087197, -0.20648160, -…\n",
      "$ value.x                       \u001b[3m\u001b[90m<dbl>\u001b[39m\u001b[23m -0.15827453, -0.15827453, -0.15827453, -…\n",
      "$ was_home.x                    \u001b[3m\u001b[90m<lgl>\u001b[39m\u001b[23m TRUE, TRUE, FALSE, FALSE, FALSE, TRUE, F…\n",
      "$ yellow_cards.x                \u001b[3m\u001b[90m<dbl>\u001b[39m\u001b[23m -0.2552617, -0.2552617, -0.2552617, -0.2…\n",
      "$ GW.x                          \u001b[3m\u001b[90m<dbl>\u001b[39m\u001b[23m 49, 55, 68, 72, 5, 6, 12, 25, 32, 36, 41…\n",
      "$ player_id.x                   \u001b[3m\u001b[90m<dbl>\u001b[39m\u001b[23m 6, 6, 6, 6, 8, 8, 8, 8, 8, 8, 8, 8, 8, 8…\n",
      "$ oID.x                         \u001b[3m\u001b[90m<dbl>\u001b[39m\u001b[23m 8, 9, 7, 20, 13, 14, 18, 2, 8, 16, 24, 1…\n",
      "$ tID.x                         \u001b[3m\u001b[90m<dbl>\u001b[39m\u001b[23m 6, 6, 6, 6, 9, 9, 9, 9, 9, 9, 9, 9, 9, 9…\n",
      "$ hID.x                         \u001b[3m\u001b[90m<dbl>\u001b[39m\u001b[23m 1, 1, 0, 0, 0, 1, 0, 1, 0, 1, 1, 1, 1, 1…\n",
      "$ name.y                        \u001b[3m\u001b[90m<chr>\u001b[39m\u001b[23m \"Aaron Ramsey\", \"Aaron Ramsey\", \"Aaron R…\n",
      "$ position.y                    \u001b[3m\u001b[90m<chr>\u001b[39m\u001b[23m \"MID\", \"MID\", \"MID\", \"MID\", \"MID\", \"MID\"…\n",
      "$ team.y                        \u001b[3m\u001b[90m<chr>\u001b[39m\u001b[23m \"Burnley\", \"Burnley\", \"Burnley\", \"Burnle…\n",
      "$ xP.y                          \u001b[3m\u001b[90m<dbl>\u001b[39m\u001b[23m -0.1, 0.0, 0.0, 0.0, 0.0, 0.0, 0.0, 3.1,…\n",
      "$ assists.y                     \u001b[3m\u001b[90m<dbl>\u001b[39m\u001b[23m 0, 0, 0, 0, 0, 0, 0, 0, 0, 0, 0, 0, 0, 0…\n",
      "$ bonus.y                       \u001b[3m\u001b[90m<dbl>\u001b[39m\u001b[23m 0, 0, 0, 0, 0, 0, 0, 0, 0, 0, 0, 0, 1, 2…\n",
      "$ bps.y                         \u001b[3m\u001b[90m<dbl>\u001b[39m\u001b[23m 0, 0, 0, 0, 0, 0, 0, 9, 0, 8, 10, 0, 29,…\n",
      "$ clean_sheets.y                \u001b[3m\u001b[90m<dbl>\u001b[39m\u001b[23m 0, 0, 0, 0, 0, 0, 0, 0, 0, 0, 0, 0, 1, 1…\n",
      "$ creativity.y                  \u001b[3m\u001b[90m<dbl>\u001b[39m\u001b[23m 0.0, 0.0, 0.0, 0.0, 0.0, 0.0, 0.0, 17.6,…\n",
      "$ expected_assists.y            \u001b[3m\u001b[90m<dbl>\u001b[39m\u001b[23m 0.00, 0.00, 0.00, 0.00, 0.00, 0.00, 0.00…\n",
      "$ expected_goal_involvements.y  \u001b[3m\u001b[90m<dbl>\u001b[39m\u001b[23m 0.00, 0.00, 0.00, 0.00, 0.00, 0.00, 0.00…\n",
      "$ expected_goals.y              \u001b[3m\u001b[90m<dbl>\u001b[39m\u001b[23m 0.00, 0.00, 0.00, 0.00, 0.00, 0.00, 0.00…\n",
      "$ expected_goals_conceded.y     \u001b[3m\u001b[90m<dbl>\u001b[39m\u001b[23m 0.00, 0.00, 0.00, 0.00, 0.00, 0.00, 0.00…\n",
      "$ fixture.y                     \u001b[3m\u001b[90m<dbl>\u001b[39m\u001b[23m 102, 164, 294, 338, 45, 55, 120, 243, 31…\n",
      "$ goals_conceded.y              \u001b[3m\u001b[90m<dbl>\u001b[39m\u001b[23m 0, 0, 0, 0, 0, 0, 0, 2, 0, 3, 1, 3, 0, 0…\n",
      "$ goals_scored.y                \u001b[3m\u001b[90m<dbl>\u001b[39m\u001b[23m 0, 0, 0, 0, 0, 0, 0, 0, 0, 0, 0, 0, 1, 1…\n",
      "$ ict_index.y                   \u001b[3m\u001b[90m<dbl>\u001b[39m\u001b[23m 0.0, 0.0, 0.0, 0.0, 0.0, 0.0, 0.0, 4.8, …\n",
      "$ influence.y                   \u001b[3m\u001b[90m<dbl>\u001b[39m\u001b[23m 0.0, 0.0, 0.0, 0.0, 0.0, 0.0, 0.0, 10.6,…\n",
      "$ kickoff_time.y                \u001b[3m\u001b[90m<dttm>\u001b[39m\u001b[23m 2023-11-04 15:00:00, 2023-12-16 17:30:0…\n",
      "$ minutes.y                     \u001b[3m\u001b[90m<dbl>\u001b[39m\u001b[23m 0, 0, 0, 0, 0, 0, 0, 90, 0, 90, 90, 89, …\n",
      "$ opponent_team.y               \u001b[3m\u001b[90m<chr>\u001b[39m\u001b[23m \"Crystal Palace\", \"Everton\", \"Chelsea\", …\n",
      "$ own_goals.y                   \u001b[3m\u001b[90m<dbl>\u001b[39m\u001b[23m 0, 0, 0, 0, 0, 0, 0, 0, 0, 0, 0, 0, 0, 0…\n",
      "$ penalties_missed.y            \u001b[3m\u001b[90m<dbl>\u001b[39m\u001b[23m 0, 0, 0, 0, 0, 0, 0, 0, 0, 0, 0, 0, 0, 0…\n",
      "$ penalties_saved.y             \u001b[3m\u001b[90m<dbl>\u001b[39m\u001b[23m 0, 0, 0, 0, 0, 0, 0, 0, 0, 0, 0, 0, 0, 0…\n",
      "$ red_cards.y                   \u001b[3m\u001b[90m<dbl>\u001b[39m\u001b[23m 0, 0, 0, 0, 0, 0, 0, 0, 0, 0, 0, 0, 0, 0…\n",
      "$ round.y                       \u001b[3m\u001b[90m<dbl>\u001b[39m\u001b[23m 11, 17, 30, 34, 5, 6, 12, 25, 32, 36, 3,…\n",
      "$ saves.y                       \u001b[3m\u001b[90m<dbl>\u001b[39m\u001b[23m 0, 0, 0, 0, 0, 0, 0, 0, 0, 0, 0, 0, 0, 0…\n",
      "$ selected.y                    \u001b[3m\u001b[90m<dbl>\u001b[39m\u001b[23m 4614, 4100, 3886, 3694, 8484, 7352, 6980…\n",
      "$ starts.y                      \u001b[3m\u001b[90m<dbl>\u001b[39m\u001b[23m 0, 0, 0, 0, 0, 0, 0, 1, 0, 1, 1, 1, 1, 1…\n",
      "$ team_a_score.y                \u001b[3m\u001b[90m<dbl>\u001b[39m\u001b[23m 2, 2, 2, 4, 1, 0, 0, 2, 0, 3, 1, 3, 0, 0…\n",
      "$ team_h_score.y                \u001b[3m\u001b[90m<dbl>\u001b[39m\u001b[23m 0, 0, 2, 1, 1, 0, 1, 0, 0, 0, 0, 0, 3, 2…\n",
      "$ threat.y                      \u001b[3m\u001b[90m<dbl>\u001b[39m\u001b[23m 0, 0, 0, 0, 0, 0, 0, 20, 0, 6, 45, 15, 3…\n",
      "$ total_points.y                \u001b[3m\u001b[90m<dbl>\u001b[39m\u001b[23m 0, 0, 0, 0, 0, 0, 0, 1, 0, 2, 2, 1, 9, 1…\n",
      "$ transfers_balance.y           \u001b[3m\u001b[90m<dbl>\u001b[39m\u001b[23m -380, -323, -41, -30, -1722, -1174, -75,…\n",
      "$ transfers_in.y                \u001b[3m\u001b[90m<dbl>\u001b[39m\u001b[23m 432, 96, 44, 35, 28, 52, 121, 2063, 42, …\n",
      "$ transfers_out.y               \u001b[3m\u001b[90m<dbl>\u001b[39m\u001b[23m 812, 419, 85, 65, 1750, 1226, 196, 382, …\n",
      "$ value.y                       \u001b[3m\u001b[90m<dbl>\u001b[39m\u001b[23m 50, 50, 50, 50, 53, 53, 53, 53, 53, 53, …\n",
      "$ was_home.y                    \u001b[3m\u001b[90m<lgl>\u001b[39m\u001b[23m TRUE, TRUE, FALSE, FALSE, FALSE, TRUE, F…\n",
      "$ yellow_cards.y                \u001b[3m\u001b[90m<dbl>\u001b[39m\u001b[23m 0, 0, 0, 0, 0, 0, 0, 1, 0, 0, 0, 1, 0, 0…\n",
      "$ GW.y                          \u001b[3m\u001b[90m<dbl>\u001b[39m\u001b[23m 49, 55, 68, 72, 5, 6, 12, 25, 32, 36, 41…\n",
      "$ player_id.y                   \u001b[3m\u001b[90m<dbl>\u001b[39m\u001b[23m 6, 6, 6, 6, 8, 8, 8, 8, 8, 8, 8, 8, 8, 8…\n",
      "$ oID.y                         \u001b[3m\u001b[90m<dbl>\u001b[39m\u001b[23m 8, 9, 7, 20, 13, 14, 18, 2, 8, 16, 24, 1…\n",
      "$ tID.y                         \u001b[3m\u001b[90m<dbl>\u001b[39m\u001b[23m 6, 6, 6, 6, 9, 9, 9, 9, 9, 9, 9, 9, 9, 9…\n",
      "$ hID.y                         \u001b[3m\u001b[90m<dbl>\u001b[39m\u001b[23m 1, 1, 0, 0, 0, 1, 0, 1, 0, 1, 1, 1, 1, 1…\n"
     ]
    }
   ],
   "source": [
    "\n",
    "#============================\n",
    "# 9. Generate Predictions & Invert Scaling on Validation Set\n",
    "#============================\n",
    "# Use the validation set for predictions\n",
    "pred_all <- model %>% predict(\n",
    "  list(\n",
    "    input_seq = Xnum_val,\n",
    "    input_player_id = cat_player_id_val,\n",
    "    input_tID = cat_tID_val,\n",
    "    input_oID = cat_oID_val,\n",
    "    input_hID = cat_hID_val\n",
    "  )\n",
    ")\n",
    "\n",
    "# Build a predictions table using the validation row IDs\n",
    "preds_mid <- tibble(\n",
    "  row_id = val_row_ids,  # row IDs corresponding to the validation set\n",
    "  predicted_total_points_scaled = as.vector(pred_all),\n",
    "  actual_total_points_scaled = as.vector(y_val)\n",
    ") %>% \n",
    "  mutate(\n",
    "    predicted_total_points = predicted_total_points_scaled * sigma + mu,\n",
    "    actual_total_points = actual_total_points_scaled * sigma + mu\n",
    "  )\n",
    "\n",
    "preds_mid <- preds_mid %>%\n",
    "  left_join(mid, by = \"row_id\")\n",
    "\n",
    "preds_mid <- preds_mid %>%\n",
    "  left_join(unscaled_mid, by = \"row_id\") # Use unscaled_mid\n",
    "\n",
    "# View the predictions table\n",
    "glimpse(preds_mid)"
   ]
  },
  {
   "cell_type": "markdown",
   "id": "7a8602c6",
   "metadata": {
    "papermill": {
     "duration": 0.023598,
     "end_time": "2025-04-17T20:49:27.149045",
     "exception": false,
     "start_time": "2025-04-17T20:49:27.125447",
     "status": "completed"
    },
    "tags": []
   },
   "source": [
    "## Eval plots mid"
   ]
  },
  {
   "cell_type": "code",
   "execution_count": null,
   "id": "63074ef6",
   "metadata": {
    "execution": {
     "iopub.execute_input": "2025-04-17T20:49:27.203276Z",
     "iopub.status.busy": "2025-04-17T20:49:27.201296Z",
     "iopub.status.idle": "2025-04-17T20:49:27.717247Z",
     "shell.execute_reply": "2025-04-17T20:49:27.714979Z"
    },
    "papermill": {
     "duration": 0.547093,
     "end_time": "2025-04-17T20:49:27.719676",
     "exception": false,
     "start_time": "2025-04-17T20:49:27.172583",
     "status": "completed"
    },
    "tags": [],
    "vscode": {
     "languageId": "r"
    }
   },
   "outputs": [
    {
     "data": {
      "text/html": [
       "<table class=\"dataframe\">\n",
       "<caption>A data.frame: 6 × 4</caption>\n",
       "<thead>\n",
       "\t<tr><th></th><th scope=col>epoch</th><th scope=col>value</th><th scope=col>metric</th><th scope=col>data</th></tr>\n",
       "\t<tr><th></th><th scope=col>&lt;int&gt;</th><th scope=col>&lt;dbl&gt;</th><th scope=col>&lt;fct&gt;</th><th scope=col>&lt;fct&gt;</th></tr>\n",
       "</thead>\n",
       "<tbody>\n",
       "\t<tr><th scope=row>1</th><td>1</td><td>0.8391034</td><td>loss</td><td>training</td></tr>\n",
       "\t<tr><th scope=row>2</th><td>2</td><td>0.7498694</td><td>loss</td><td>training</td></tr>\n",
       "\t<tr><th scope=row>3</th><td>3</td><td>0.7358479</td><td>loss</td><td>training</td></tr>\n",
       "\t<tr><th scope=row>4</th><td>4</td><td>0.7253312</td><td>loss</td><td>training</td></tr>\n",
       "\t<tr><th scope=row>5</th><td>5</td><td>0.7121992</td><td>loss</td><td>training</td></tr>\n",
       "\t<tr><th scope=row>6</th><td>6</td><td>0.6975315</td><td>loss</td><td>training</td></tr>\n",
       "</tbody>\n",
       "</table>\n"
      ],
      "text/latex": [
       "A data.frame: 6 × 4\n",
       "\\begin{tabular}{r|llll}\n",
       "  & epoch & value & metric & data\\\\\n",
       "  & <int> & <dbl> & <fct> & <fct>\\\\\n",
       "\\hline\n",
       "\t1 & 1 & 0.8391034 & loss & training\\\\\n",
       "\t2 & 2 & 0.7498694 & loss & training\\\\\n",
       "\t3 & 3 & 0.7358479 & loss & training\\\\\n",
       "\t4 & 4 & 0.7253312 & loss & training\\\\\n",
       "\t5 & 5 & 0.7121992 & loss & training\\\\\n",
       "\t6 & 6 & 0.6975315 & loss & training\\\\\n",
       "\\end{tabular}\n"
      ],
      "text/markdown": [
       "\n",
       "A data.frame: 6 × 4\n",
       "\n",
       "| <!--/--> | epoch &lt;int&gt; | value &lt;dbl&gt; | metric &lt;fct&gt; | data &lt;fct&gt; |\n",
       "|---|---|---|---|---|\n",
       "| 1 | 1 | 0.8391034 | loss | training |\n",
       "| 2 | 2 | 0.7498694 | loss | training |\n",
       "| 3 | 3 | 0.7358479 | loss | training |\n",
       "| 4 | 4 | 0.7253312 | loss | training |\n",
       "| 5 | 5 | 0.7121992 | loss | training |\n",
       "| 6 | 6 | 0.6975315 | loss | training |\n",
       "\n"
      ],
      "text/plain": [
       "  epoch value     metric data    \n",
       "1 1     0.8391034 loss   training\n",
       "2 2     0.7498694 loss   training\n",
       "3 3     0.7358479 loss   training\n",
       "4 4     0.7253312 loss   training\n",
       "5 5     0.7121992 loss   training\n",
       "6 6     0.6975315 loss   training"
      ]
     },
     "metadata": {},
     "output_type": "display_data"
    },
    {
     "data": {
      "image/png": "[encoded data removed]"
     },
     "metadata": {
      "image/png": {
       "height": 420,
       "width": 420
      }
     },
     "output_type": "display_data"
    }
   ],
   "source": [
    "plot(history)\n",
    "\n",
    "history_df_mid <- as.data.frame(history)\n",
    "\n",
    "head(history_df_mid)\n",
    "\n",
    "\n",
    "# save_model_tf(model, filepath = \"/kaggle/working/gkmodel_tf\")"
   ]
  },
  {
   "cell_type": "markdown",
   "id": "55e8d992",
   "metadata": {
    "_cell_guid": "2f1a1b55-3a79-43f5-87d6-5353226c9c4d",
    "_uuid": "0a003857-cdcc-4739-a87b-b371ef9688f0",
    "collapsed": false,
    "jupyter": {
     "outputs_hidden": false
    },
    "papermill": {
     "duration": 0.025374,
     "end_time": "2025-04-17T20:49:27.770075",
     "exception": false,
     "start_time": "2025-04-17T20:49:27.744701",
     "status": "completed"
    },
    "tags": []
   },
   "source": [
    "## 4: Angrepsspillere"
   ]
  },
  {
   "cell_type": "code",
   "execution_count": null,
   "id": "009dcbd1",
   "metadata": {
    "_cell_guid": "f9e1febe-679e-4471-9587-6997eded754d",
    "_uuid": "2cafc073-be28-4ab3-ba27-d20b22ef79e6",
    "collapsed": false,
    "execution": {
     "iopub.execute_input": "2025-04-17T20:49:27.824761Z",
     "iopub.status.busy": "2025-04-17T20:49:27.822826Z",
     "iopub.status.idle": "2025-04-17T20:49:27.855916Z",
     "shell.execute_reply": "2025-04-17T20:49:27.853940Z"
    },
    "jupyter": {
     "outputs_hidden": false
    },
    "papermill": {
     "duration": 0.06345,
     "end_time": "2025-04-17T20:49:27.859200",
     "exception": false,
     "start_time": "2025-04-17T20:49:27.795750",
     "status": "completed"
    },
    "tags": [],
    "vscode": {
     "languageId": "r"
    }
   },
   "outputs": [
    {
     "name": "stdout",
     "output_type": "stream",
     "text": [
      "Numeriske features: assists creativity minutes goals_conceded bonus bps expected_assists expected_goal_involvements expected_goals ict_index own_goals red_cards threat transfers_in transfers_out yellow_cards expected_goals_conceded value selected transfers_balance starts influence clean_sheets \n"
     ]
    },
    {
     "name": "stdout",
     "output_type": "stream",
     "text": [
      "Kategoriske features: player_id tID oID hID \n"
     ]
    },
    {
     "name": "stdout",
     "output_type": "stream",
     "text": [
      "Target variabel: total_points \n"
     ]
    },
    {
     "name": "stdout",
     "output_type": "stream",
     "text": [
      "Ferdig"
     ]
    }
   ],
   "source": [
    "#----------------------------\n",
    "# Define Features, Target & Scale\n",
    "#----------------------------\n",
    "numF <- c(\"assists\", \"creativity\", \"minutes\", \"goals_conceded\",\n",
    "          \"bonus\", \"bps\", \"expected_assists\", \"expected_goal_involvements\",\n",
    "          \"expected_goals\", \"ict_index\", \"own_goals\", \"red_cards\",\n",
    "          \"threat\", \"transfers_in\", \"transfers_out\", \"yellow_cards\",\n",
    "          \"expected_goals_conceded\", \"value\",\n",
    "          \"selected\", \"transfers_balance\", \"starts\", \"influence\",\n",
    "          \"clean_sheets\")\n",
    "catF <- c(\"player_id\", \"tID\", \"oID\", \"hID\")\n",
    "tar <- \"total_points\"\n",
    "\n",
    "cat(\"Numeriske features:\", numF, \"\\n\")\n",
    "cat(\"Kategoriske features:\", catF, \"\\n\")\n",
    "cat(\"Target variabel:\", tar, \"\\n\")\n",
    "cat(\"Ferdig\")"
   ]
  },
  {
   "cell_type": "code",
   "execution_count": null,
   "id": "d3bc38b8",
   "metadata": {
    "_cell_guid": "e41bf507-4ea3-4049-8e93-1031e19a98a6",
    "_uuid": "e1ba829a-d189-4c16-90e7-9f71bf41c731",
    "collapsed": false,
    "execution": {
     "iopub.execute_input": "2025-04-17T20:49:27.915234Z",
     "iopub.status.busy": "2025-04-17T20:49:27.913516Z",
     "iopub.status.idle": "2025-04-17T20:49:27.951365Z",
     "shell.execute_reply": "2025-04-17T20:49:27.949301Z"
    },
    "jupyter": {
     "outputs_hidden": false
    },
    "papermill": {
     "duration": 0.069201,
     "end_time": "2025-04-17T20:49:27.953862",
     "exception": false,
     "start_time": "2025-04-17T20:49:27.884661",
     "status": "completed"
    },
    "tags": [],
    "vscode": {
     "languageId": "r"
    }
   },
   "outputs": [
    {
     "name": "stdout",
     "output_type": "stream",
     "text": [
      "Kjørt"
     ]
    }
   ],
   "source": [
    "# numF, catF og tar variablene brukes på nytt\n",
    "# Compute and store the mean and standard deviation for the target variable\n",
    "mu <- mean(fwd[[tar]], na.rm = TRUE)\n",
    "sigma <- sd(fwd[[tar]], na.rm = TRUE)\n",
    "\n",
    "# Scale numerical features and target\n",
    "fwd <- fwd %>%\n",
    "  mutate(across(all_of(numF), ~ (.x - mean(.x, na.rm = TRUE)) / sd(.x, na.rm = TRUE)),\n",
    "         !!tar := (.data[[tar]] - mu) / sigma)\n",
    "cat(\"Kjørt\")"
   ]
  },
  {
   "cell_type": "markdown",
   "id": "fb308569",
   "metadata": {
    "_cell_guid": "ce24348c-833c-4d36-a6f1-4df5d5bc3c88",
    "_uuid": "f0535105-1b73-4988-8f3a-19e36e6c7f1a",
    "collapsed": false,
    "jupyter": {
     "outputs_hidden": false
    },
    "papermill": {
     "duration": 0.025452,
     "end_time": "2025-04-17T20:49:28.004908",
     "exception": false,
     "start_time": "2025-04-17T20:49:27.979456",
     "status": "completed"
    },
    "tags": []
   },
   "source": [
    "### FWD Building rolling windows"
   ]
  },
  {
   "cell_type": "code",
   "execution_count": null,
   "id": "37441c83",
   "metadata": {
    "_cell_guid": "540da2ae-3195-4dd6-9e09-83399d5b0d71",
    "_uuid": "b33ccfd2-b662-410f-9bd8-2b6f91e7799f",
    "collapsed": false,
    "execution": {
     "iopub.execute_input": "2025-04-17T20:49:28.063122Z",
     "iopub.status.busy": "2025-04-17T20:49:28.060902Z",
     "iopub.status.idle": "2025-04-17T20:49:32.070104Z",
     "shell.execute_reply": "2025-04-17T20:49:32.068075Z"
    },
    "jupyter": {
     "outputs_hidden": false
    },
    "papermill": {
     "duration": 4.040243,
     "end_time": "2025-04-17T20:49:32.072612",
     "exception": false,
     "start_time": "2025-04-17T20:49:28.032369",
     "status": "completed"
    },
    "tags": [],
    "vscode": {
     "languageId": "r"
    }
   },
   "outputs": [
    {
     "name": "stdout",
     "output_type": "stream",
     "text": [
      "Kjørt"
     ]
    }
   ],
   "source": [
    "#----------------------------\n",
    "# 3. Build Rolling Windows\n",
    "#----------------------------\n",
    "# Define window size (number of past gameweeks to use)\n",
    "ws <- vindu\n",
    "\n",
    "# Build numerical rolling windows\n",
    "numW <- fwd %>%\n",
    "  group_by(player_id) %>%\n",
    "  filter(n() > ws) %>%  # Only players with more than ws observations\n",
    "  group_modify(~ {\n",
    "    windows <- slide(.x[, numF],\n",
    "                     .f = ~ as.matrix(.x),\n",
    "                     .before = ws, \n",
    "                     .after = -1, # prevents the model from seeing current gw data\n",
    "                     .complete = TRUE)\n",
    "    valid_windows <- windows[(ws + 1):length(windows)]\n",
    "    target <- .x[[tar]][(ws + 1):nrow(.x)]\n",
    "    # Extract row_id for each valid window\n",
    "    rid <- .x$row_id[(ws + 1):nrow(.x)]\n",
    "    tibble(window = valid_windows, target = target, row_id = rid)\n",
    "  }) %>%\n",
    "  ungroup()\n",
    "numW <- numW %>%\n",
    "  left_join(fwd %>% select(row_id, GW), by = \"row_id\")\n",
    "# Build categorical rolling windows (if needed for debugging; here we use only the current values)\n",
    "catW <- fwd %>%\n",
    "  group_by(player_id) %>%\n",
    "  filter(n() > ws) %>%\n",
    "  group_modify(~ {\n",
    "    df <- ungroup(.x) %>% mutate(player_id = .y$player_id)\n",
    "    windows <- slide(df %>% select(all_of(catF)),\n",
    "                     .f = ~ as.matrix(.x),\n",
    "                     .before = ws,\n",
    "                     #.after = -1,\n",
    "                     .complete = TRUE)\n",
    "    valid_windows <- windows[(ws + 1):length(windows)]\n",
    "    target <- df[[tar]][(ws + 1):nrow(df)]\n",
    "    tibble(window = valid_windows, target = target)\n",
    "  }) %>%\n",
    "  ungroup()\n",
    "\n",
    "cat(\"Kjørt\")"
   ]
  },
  {
   "cell_type": "code",
   "execution_count": null,
   "id": "3ca6e1c4",
   "metadata": {
    "_cell_guid": "77774697-b2e2-4b3f-b927-de843c0aca45",
    "_uuid": "593539d6-fd44-4f14-bcd6-46d1514e1c5d",
    "collapsed": false,
    "execution": {
     "iopub.execute_input": "2025-04-17T20:49:32.128080Z",
     "iopub.status.busy": "2025-04-17T20:49:32.126469Z",
     "iopub.status.idle": "2025-04-17T20:49:34.201899Z",
     "shell.execute_reply": "2025-04-17T20:49:34.199446Z"
    },
    "jupyter": {
     "outputs_hidden": false
    },
    "papermill": {
     "duration": 2.108966,
     "end_time": "2025-04-17T20:49:34.206531",
     "exception": false,
     "start_time": "2025-04-17T20:49:32.097565",
     "status": "completed"
    },
    "tags": [],
    "vscode": {
     "languageId": "r"
    }
   },
   "outputs": [
    {
     "name": "stdout",
     "output_type": "stream",
     "text": [
      "Windows with NA:  0 \n"
     ]
    },
    {
     "name": "stdout",
     "output_type": "stream",
     "text": [
      "Selected features:  creativity minutes bps own_goals transfers_out yellow_cards expected_goals_conceded value selected \n"
     ]
    }
   ],
   "source": [
    "# Check for any NA in the windows before summary\n",
    "sumna <- sapply(numW$window, function(flatW) any(is.na(flatW)))\n",
    "cat(\"Windows with NA: \", sum(sumna), \"\\n\")\n",
    "\n",
    "#----------------------------\n",
    "# 4. Lasso regression\n",
    "#----------------------------\n",
    "# numW as data.matrix, tar as response variable\n",
    "\n",
    "aggmat <- lapply(numW$window, function(flatW){\n",
    "  colMeans(flatW, na.rm = TRUE)\n",
    "})\n",
    "x <- do.call(rbind, aggmat)\n",
    "y <- numW$target\n",
    "\n",
    "# K-fold CV\n",
    "cvfit <- cv.glmnet(x,y,alpha=1)\n",
    "minlambda <- cvfit$lambda.min\n",
    "\n",
    "lassofit <- glmnet(x,y,alpha = 1, lambda = minlambda)\n",
    "\n",
    "coef_lasso <- as.matrix(coef(lassofit))\n",
    "numF <- rownames(coef_lasso)[coef_lasso[,1] != 0]\n",
    "numF <- setdiff(numF, \"(Intercept)\")\n",
    "cat(\"Selected features: \", numF, \"\\n\")\n",
    "\n",
    "# repeat rolling window, now only containing selected features\n",
    "# Define window size (number of past gameweeks to use)\n",
    "ws <- vindu\n",
    "\n",
    "# Build numerical rolling windows\n",
    "numW <- fwd %>%\n",
    "  group_by(player_id) %>%\n",
    "  filter(n() > ws) %>%  # Only players with more than ws observations\n",
    "  group_modify(~ {\n",
    "    windows <- slide(.x[, numF],\n",
    "                     .f = ~ as.matrix(.x),\n",
    "                     .before = ws, \n",
    "                     .after = -1,\n",
    "                     .complete = TRUE)\n",
    "    valid_windows <- windows[(ws + 1):length(windows)]\n",
    "    target <- .x[[tar]][(ws + 1):nrow(.x)]\n",
    "    # Extract row_id for each valid window\n",
    "    rid <- .x$row_id[(ws + 1):nrow(.x)]\n",
    "    tibble(window = valid_windows, target = target, row_id = rid)\n",
    "  }) %>%\n",
    "  ungroup()\n",
    "\n",
    "numW <- numW %>%\n",
    "  left_join(fwd %>% select(row_id, GW), by = \"row_id\")"
   ]
  },
  {
   "cell_type": "code",
   "execution_count": null,
   "id": "8e5a8cbc",
   "metadata": {
    "_cell_guid": "3a808ec1-921d-4cb7-9638-41c336cd2c0c",
    "_uuid": "1ff06217-6614-48f2-9127-2faee223f403",
    "collapsed": false,
    "execution": {
     "iopub.execute_input": "2025-04-17T20:49:34.263743Z",
     "iopub.status.busy": "2025-04-17T20:49:34.261971Z",
     "iopub.status.idle": "2025-04-17T20:49:34.403810Z",
     "shell.execute_reply": "2025-04-17T20:49:34.400439Z"
    },
    "jupyter": {
     "outputs_hidden": false
    },
    "papermill": {
     "duration": 0.174654,
     "end_time": "2025-04-17T20:49:34.407678",
     "exception": false,
     "start_time": "2025-04-17T20:49:34.233024",
     "status": "completed"
    },
    "tags": [],
    "vscode": {
     "languageId": "r"
    }
   },
   "outputs": [],
   "source": [
    "#============================\n",
    "# 5. Convert Rolling Windows to Arrays & Extract Targets\n",
    "#============================\n",
    "# Number of samples is the number of rows in numW\n",
    "nSamp <- nrow(numW)\n",
    "\n",
    "# Convert numerical windows to a 3D array of shape [nSamp, ws, length(numF)]\n",
    "num_array <- array(\n",
    "  unlist(numW$window),\n",
    "  dim = c(nSamp, ws, length(numF))\n",
    ")\n",
    "\n",
    "# Targets (scaled): a matrix with one column\n",
    "targets <- matrix(as.numeric(numW$target), ncol = 1)\n",
    "\n",
    "# For categorical inputs, extract the current categorical values from the last row of each window.\n",
    "# (If your windows were built solely from historical data, the \"current\" values need to come from the original data.)\n",
    "# Here, we use the categorical rolling windows and extract the last row:\n",
    "cat_current <- do.call(rbind, lapply(catW$window, function(mat) mat[nrow(mat), ]))\n",
    "# Split into separate matrices (each of shape [nSamp, 1])\n",
    "cat_player_id <- matrix(as.integer(cat_current[, \"player_id\"]), ncol = 1)\n",
    "cat_tID <- matrix(as.integer(cat_current[, \"tID\"]), ncol = 1)\n",
    "cat_oID <- matrix(as.integer(cat_current[, \"oID\"]), ncol = 1)\n",
    "cat_hID <- matrix(as.integer(cat_current[, \"hID\"]), ncol = 1)"
   ]
  },
  {
   "cell_type": "code",
   "execution_count": null,
   "id": "b7c6e4d7",
   "metadata": {
    "_cell_guid": "5a9fddd1-4397-4af8-9b23-087870ad9a4f",
    "_uuid": "6d1f0379-625d-466d-9562-dfff526a5f80",
    "collapsed": false,
    "execution": {
     "iopub.execute_input": "2025-04-17T20:49:34.465246Z",
     "iopub.status.busy": "2025-04-17T20:49:34.463053Z",
     "iopub.status.idle": "2025-04-17T20:49:34.512104Z",
     "shell.execute_reply": "2025-04-17T20:49:34.510116Z"
    },
    "jupyter": {
     "outputs_hidden": false
    },
    "papermill": {
     "duration": 0.080709,
     "end_time": "2025-04-17T20:49:34.515276",
     "exception": false,
     "start_time": "2025-04-17T20:49:34.434567",
     "status": "completed"
    },
    "tags": [],
    "vscode": {
     "languageId": "r"
    }
   },
   "outputs": [],
   "source": [
    "#============================\n",
    "# 6. Split Data into Training and Validation Sets\n",
    "#============================\n",
    "set.seed(123)\n",
    "idx <- sample(1:nSamp, size = floor(0.8 * nSamp))\n",
    "\n",
    "# Training data\n",
    "Xnum_train <- num_array[idx, , , drop = FALSE]\n",
    "cat_player_id_train <- cat_player_id[idx, , drop = FALSE]\n",
    "cat_tID_train <- cat_tID[idx, , drop = FALSE]\n",
    "cat_oID_train <- cat_oID[idx, , drop = FALSE]\n",
    "cat_hID_train <- cat_hID[idx, , drop = FALSE]\n",
    "y_train <- targets[idx, , drop = FALSE]\n",
    "\n",
    "# Validation data\n",
    "Xnum_val <- num_array[-idx, , , drop = FALSE]\n",
    "cat_player_id_val <- cat_player_id[-idx, , drop = FALSE]\n",
    "cat_tID_val <- cat_tID[-idx, , drop = FALSE]\n",
    "cat_oID_val <- cat_oID[-idx, , drop = FALSE]\n",
    "cat_hID_val <- cat_hID[-idx, , drop = FALSE]\n",
    "y_val <- targets[-idx, , drop = FALSE]\n",
    "\n",
    "# Also, extract the row IDs for the validation samples (for later joining)\n",
    "val_row_ids <- numW$row_id[-idx]"
   ]
  },
  {
   "cell_type": "code",
   "execution_count": null,
   "id": "4cc8bf88",
   "metadata": {
    "_cell_guid": "ee72cdf4-2651-4755-a246-cd10877087d5",
    "_uuid": "da0b7455-85ec-4423-b526-942e695fbcc5",
    "collapsed": false,
    "execution": {
     "iopub.execute_input": "2025-04-17T20:49:34.572265Z",
     "iopub.status.busy": "2025-04-17T20:49:34.570480Z",
     "iopub.status.idle": "2025-04-17T20:49:35.099820Z",
     "shell.execute_reply": "2025-04-17T20:49:35.097459Z"
    },
    "jupyter": {
     "outputs_hidden": false
    },
    "papermill": {
     "duration": 0.560966,
     "end_time": "2025-04-17T20:49:35.102431",
     "exception": false,
     "start_time": "2025-04-17T20:49:34.541465",
     "status": "completed"
    },
    "tags": [],
    "vscode": {
     "languageId": "r"
    }
   },
   "outputs": [
    {
     "name": "stdout",
     "output_type": "stream",
     "text": [
      "Model: \"fwd_lstm_model\"\n",
      "________________________________________________________________________________\n",
      " Layer (type)             Output Shape      Param #  Connected to               \n",
      "================================================================================\n",
      " input_player_id (InputLa  [(None, 1)]      0        []                         \n",
      " yer)                                                                           \n",
      " input_tID (InputLayer)   [(None, 1)]       0        []                         \n",
      " input_oID (InputLayer)   [(None, 1)]       0        []                         \n",
      " input_hID (InputLayer)   [(None, 1)]       0        []                         \n",
      " embedding_9 (Embedding)  (None, 1, 20)     26620    ['input_player_id[0][0]']  \n",
      " embedding_10 (Embedding)  (None, 1, 20)    500      ['input_tID[0][0]']        \n",
      " embedding_11 (Embedding)  (None, 1, 20)    500      ['input_oID[0][0]']        \n",
      " lambda_3 (Lambda)        (None, 1)         0        ['input_hID[0][0]']        \n",
      " input_seq (InputLayer)   [(None, 4, 9)]    0        []                         \n",
      " flatten_12 (Flatten)     (None, 20)        0        ['embedding_9[0][0]']      \n",
      " flatten_13 (Flatten)     (None, 20)        0        ['embedding_10[0][0]']     \n",
      " flatten_14 (Flatten)     (None, 20)        0        ['embedding_11[0][0]']     \n",
      " flatten_15 (Flatten)     (None, 1)         0        ['lambda_3[0][0]']         \n",
      " lstm_3 (LSTM)            (None, 64)        18944    ['input_seq[0][0]']        \n",
      " concatenate_6 (Concatena  (None, 61)       0        ['flatten_12[0][0]',       \n",
      " te)                                                  'flatten_13[0][0]',       \n",
      "                                                      'flatten_14[0][0]',       \n",
      "                                                      'flatten_15[0][0]']       \n",
      " dropout_3 (Dropout)      (None, 64)        0        ['lstm_3[0][0]']           \n",
      " dense_9 (Dense)          (None, 16)        992      ['concatenate_6[0][0]']    \n",
      " concatenate_7 (Concatena  (None, 80)       0        ['dropout_3[0][0]',        \n",
      " te)                                                  'dense_9[0][0]']          \n",
      " dense_10 (Dense)         (None, 32)        2592     ['concatenate_7[0][0]']    \n",
      " dense_11 (Dense)         (None, 1)         33       ['dense_10[0][0]']         \n",
      "================================================================================\n",
      "Total params: 50,181\n",
      "Trainable params: 50,181\n",
      "Non-trainable params: 0\n",
      "________________________________________________________________________________\n"
     ]
    }
   ],
   "source": [
    "#============================\n",
    "# 7. Build the Model\n",
    "#============================\n",
    "# Define maximum values for categorical features\n",
    "num_players   <- max(fwd$player_id)\n",
    "num_teams     <- max(fwd$tID)\n",
    "num_opponents <- max(fwd$oID)\n",
    "# For hID, assume it???s binary\n",
    "\n",
    "emb_dim <- 20  # Embedding dimension\n",
    "\n",
    "# Create input layers for current categorical values\n",
    "input_player_id <- layer_input(shape = c(1), dtype = \"int32\", name = \"input_player_id\")\n",
    "input_tID <- layer_input(shape = c(1), dtype = \"int32\", name = \"input_tID\")\n",
    "input_oID <- layer_input(shape = c(1), dtype = \"int32\", name = \"input_oID\")\n",
    "input_hID <- layer_input(shape = c(1), dtype = \"int32\", name = \"input_hID\")\n",
    "\n",
    "embedding_player_id <- input_player_id %>% \n",
    "  layer_embedding(input_dim = num_players + 1, output_dim = emb_dim, mask_zero = TRUE) %>% \n",
    "  layer_flatten()\n",
    "embedding_tID <- input_tID %>% \n",
    "  layer_embedding(input_dim = num_teams + 1, output_dim = emb_dim, mask_zero = TRUE) %>% \n",
    "  layer_flatten()\n",
    "embedding_oID <- input_oID %>% \n",
    "  layer_embedding(input_dim = num_opponents + 1, output_dim = emb_dim, mask_zero = TRUE) %>% \n",
    "  layer_flatten()\n",
    "# For hID, convert to float32 to match types\n",
    "input_hID_flat <- input_hID %>% \n",
    "  layer_lambda(function(x) tf$cast(x, tf$float32)) %>% \n",
    "  layer_flatten()\n",
    "\n",
    "# Merge categorical branch\n",
    "cat_merged <- layer_concatenate(list(embedding_player_id, embedding_tID, embedding_oID, input_hID_flat)) %>%\n",
    "  layer_dense(units = 16, activation = \"relu\")\n",
    "\n",
    "# Numerical branch: input for rolling window data\n",
    "input_seq <- layer_input(shape = c(ws, length(numF)), name = \"input_seq\")\n",
    "lstm_branch <- input_seq %>%\n",
    "  layer_lstm(units = 64, return_sequences = FALSE) %>%\n",
    "  layer_dropout(rate = 0.2)\n",
    "\n",
    "# Merge both branches and build the output\n",
    "merged <- layer_concatenate(list(lstm_branch, cat_merged))\n",
    "dense_layer <- merged %>% layer_dense(units = 32, activation = \"relu\")\n",
    "output <- dense_layer %>% layer_dense(units = 1, activation = \"linear\")\n",
    "\n",
    "# Build and compile the model\n",
    "model <- keras_model(\n",
    "  inputs = list(input_seq, input_player_id, input_tID, input_oID, input_hID),\n",
    "  outputs = output,\n",
    "    name = \"fwd_lstm_model\"\n",
    ")\n",
    "model %>% compile(\n",
    "  optimizer = optimizer_adam(),\n",
    "  loss = \"mse\",\n",
    "  metrics = \"mae\",\n",
    "  run_eagerly = TRUE\n",
    ")\n",
    "summary(model)"
   ]
  },
  {
   "cell_type": "code",
   "execution_count": null,
   "id": "a51b1bec",
   "metadata": {
    "_cell_guid": "e9029bcc-2fc5-4ebe-8ab9-271a1dbe7d41",
    "_uuid": "470161fb-2c32-423b-b7b3-8542e521d974",
    "collapsed": false,
    "execution": {
     "iopub.execute_input": "2025-04-17T20:49:35.158026Z",
     "iopub.status.busy": "2025-04-17T20:49:35.156384Z",
     "iopub.status.idle": "2025-04-17T20:55:17.777470Z",
     "shell.execute_reply": "2025-04-17T20:55:17.775567Z"
    },
    "jupyter": {
     "outputs_hidden": false
    },
    "papermill": {
     "duration": 342.652291,
     "end_time": "2025-04-17T20:55:17.780411",
     "exception": false,
     "start_time": "2025-04-17T20:49:35.128120",
     "status": "completed"
    },
    "tags": [],
    "vscode": {
     "languageId": "r"
    }
   },
   "outputs": [],
   "source": [
    "#============================\n",
    "# 8. Train the Model\n",
    "#============================\n",
    "history <- model %>% fit(\n",
    "  x = list(\n",
    "    input_seq = Xnum_train,\n",
    "    input_player_id = cat_player_id_train,\n",
    "    input_tID = cat_tID_train,\n",
    "    input_oID = cat_oID_train,\n",
    "    input_hID = cat_hID_train\n",
    "  ),\n",
    "  y = y_train,\n",
    "  epochs = epoker,\n",
    "  batch_size = 32,\n",
    "  validation_data = list(\n",
    "    list(\n",
    "      input_seq = Xnum_val,\n",
    "      input_player_id = cat_player_id_val,\n",
    "      input_tID = cat_tID_val,\n",
    "      input_oID = cat_oID_val,\n",
    "      input_hID = cat_hID_val\n",
    "    ),\n",
    "    y_val\n",
    "  )\n",
    ")"
   ]
  },
  {
   "cell_type": "code",
   "execution_count": null,
   "id": "baf19f10",
   "metadata": {
    "_cell_guid": "a41bcf83-d8cc-414a-a6c6-924c2d515add",
    "_uuid": "59f9c6af-39c3-4de2-ac7b-ade0b8478513",
    "collapsed": false,
    "execution": {
     "iopub.execute_input": "2025-04-17T20:55:17.847233Z",
     "iopub.status.busy": "2025-04-17T20:55:17.844444Z",
     "iopub.status.idle": "2025-04-17T20:55:19.186967Z",
     "shell.execute_reply": "2025-04-17T20:55:19.185122Z"
    },
    "jupyter": {
     "outputs_hidden": false
    },
    "papermill": {
     "duration": 1.375399,
     "end_time": "2025-04-17T20:55:19.189748",
     "exception": false,
     "start_time": "2025-04-17T20:55:17.814349",
     "status": "completed"
    },
    "tags": [],
    "vscode": {
     "languageId": "r"
    }
   },
   "outputs": [
    {
     "name": "stdout",
     "output_type": "stream",
     "text": [
      "Rows: 1,703\n",
      "Columns: 93\n",
      "$ row_id                        \u001b[3m\u001b[90m<dbl>\u001b[39m\u001b[23m 19, 21, 23, 33, 38, 42, 43, 686, 689, 69…\n",
      "$ predicted_total_points_scaled \u001b[3m\u001b[90m<dbl>\u001b[39m\u001b[23m -0.51078224, -0.63822061, -0.65611356, -…\n",
      "$ actual_total_points_scaled    \u001b[3m\u001b[90m<dbl>\u001b[39m\u001b[23m -0.4940901, -0.4940901, -0.4940901, -0.4…\n",
      "$ predicted_total_points        \u001b[3m\u001b[90m<dbl>\u001b[39m\u001b[23m -0.04484031, -0.38717964, -0.43524573, -…\n",
      "$ actual_total_points           \u001b[3m\u001b[90m<dbl>\u001b[39m\u001b[23m 0, 0, 0, 0, 0, 0, 0, 2, 2, 0, 1, 1, 1, 2…\n",
      "$ name.x                        \u001b[3m\u001b[90m<chr>\u001b[39m\u001b[23m \"Aaron Connolly\", \"Aaron Connolly\", \"Aar…\n",
      "$ position.x                    \u001b[3m\u001b[90m<chr>\u001b[39m\u001b[23m \"FWD\", \"FWD\", \"FWD\", \"FWD\", \"FWD\", \"FWD\"…\n",
      "$ team.x                        \u001b[3m\u001b[90m<chr>\u001b[39m\u001b[23m \"Brighton\", \"Brighton\", \"Brighton\", \"Bri…\n",
      "$ xP.x                          \u001b[3m\u001b[90m<dbl>\u001b[39m\u001b[23m 0.0, 0.0, 0.0, 0.0, 0.0, 0.0, 0.0, 3.8, …\n",
      "$ assists.x                     \u001b[3m\u001b[90m<dbl>\u001b[39m\u001b[23m -0.2007001, -0.2007001, -0.2007001, -0.2…\n",
      "$ bonus.x                       \u001b[3m\u001b[90m<dbl>\u001b[39m\u001b[23m -0.2577078, -0.2577078, -0.2577078, -0.2…\n",
      "$ bps.x                         \u001b[3m\u001b[90m<dbl>\u001b[39m\u001b[23m -0.40211964, -0.40211964, -0.40211964, -…\n",
      "$ clean_sheets.x                \u001b[3m\u001b[90m<dbl>\u001b[39m\u001b[23m -0.2723176, -0.2723176, -0.2723176, -0.2…\n",
      "$ creativity.x                  \u001b[3m\u001b[90m<dbl>\u001b[39m\u001b[23m -0.44629666, -0.44629666, -0.44629666, -…\n",
      "$ expected_assists.x            \u001b[3m\u001b[90m<dbl>\u001b[39m\u001b[23m -0.2754234, -0.2754234, -0.2754234, -0.2…\n",
      "$ expected_goal_involvements.x  \u001b[3m\u001b[90m<dbl>\u001b[39m\u001b[23m -0.40143647, -0.40143647, -0.40143647, -…\n",
      "$ expected_goals.x              \u001b[3m\u001b[90m<dbl>\u001b[39m\u001b[23m -0.37550551, -0.37550551, -0.37550551, -…\n",
      "$ expected_goals_conceded.x     \u001b[3m\u001b[90m<dbl>\u001b[39m\u001b[23m -0.5054079, -0.5054079, -0.5054079, -0.5…\n",
      "$ fixture.x                     \u001b[3m\u001b[90m<dbl>\u001b[39m\u001b[23m 135, 152, 172, 274, 282, 332, 373, 71, 1…\n",
      "$ goals_conceded.x              \u001b[3m\u001b[90m<dbl>\u001b[39m\u001b[23m -0.4570813, -0.4570813, -0.4570813, -0.4…\n",
      "$ goals_scored.x                \u001b[3m\u001b[90m<dbl>\u001b[39m\u001b[23m 0, 0, 0, 0, 0, 0, 0, 0, 0, 0, 0, 0, 0, 0…\n",
      "$ ict_index.x                   \u001b[3m\u001b[90m<dbl>\u001b[39m\u001b[23m -0.5059228, -0.5059228, -0.5059228, -0.5…\n",
      "$ influence.x                   \u001b[3m\u001b[90m<dbl>\u001b[39m\u001b[23m -0.39535540, -0.39535540, -0.39535540, -…\n",
      "$ kickoff_time.x                \u001b[3m\u001b[90m<dttm>\u001b[39m\u001b[23m 2023-12-03 14:00:00, 2023-12-09 15:00:0…\n",
      "$ minutes.x                     \u001b[3m\u001b[90m<dbl>\u001b[39m\u001b[23m -0.66707859, -0.66707859, -0.66707859, -…\n",
      "$ opponent_team.x               \u001b[3m\u001b[90m<chr>\u001b[39m\u001b[23m \"Chelsea\", \"Burnley\", \"Crystal Palace\", …\n",
      "$ own_goals.x                   \u001b[3m\u001b[90m<dbl>\u001b[39m\u001b[23m -0.0147474, -0.0147474, -0.0147474, -0.0…\n",
      "$ penalties_missed.x            \u001b[3m\u001b[90m<dbl>\u001b[39m\u001b[23m 0, 0, 0, 0, 0, 0, 0, 0, 0, 0, 0, 0, 0, 0…\n",
      "$ penalties_saved.x             \u001b[3m\u001b[90m<dbl>\u001b[39m\u001b[23m 0, 0, 0, 0, 0, 0, 0, 0, 0, 0, 0, 0, 0, 0…\n",
      "$ red_cards.x                   \u001b[3m\u001b[90m<dbl>\u001b[39m\u001b[23m -0.03129588, -0.03129588, -0.03129588, -…\n",
      "$ round.x                       \u001b[3m\u001b[90m<dbl>\u001b[39m\u001b[23m 14, 16, 18, 28, 34, 37, 38, 8, 11, 14, 1…\n",
      "$ saves.x                       \u001b[3m\u001b[90m<dbl>\u001b[39m\u001b[23m 0, 0, 0, 0, 0, 0, 0, 0, 0, 0, 0, 0, 0, 0…\n",
      "$ selected.x                    \u001b[3m\u001b[90m<dbl>\u001b[39m\u001b[23m -0.3412778, -0.3413095, -0.3413682, -0.3…\n",
      "$ starts.x                      \u001b[3m\u001b[90m<dbl>\u001b[39m\u001b[23m -0.5303259, -0.5303259, -0.5303259, -0.5…\n",
      "$ team_a_score.x                \u001b[3m\u001b[90m<dbl>\u001b[39m\u001b[23m 2, 1, 1, 0, 4, 2, 2, 0, 1, 0, 3, 1, 1, 1…\n",
      "$ team_h_score.x                \u001b[3m\u001b[90m<dbl>\u001b[39m\u001b[23m 3, 1, 1, 1, 0, 1, 0, 1, 1, 1, 1, 2, 0, 0…\n",
      "$ threat.x                      \u001b[3m\u001b[90m<dbl>\u001b[39m\u001b[23m -0.48594854, -0.48594854, -0.48594854, -…\n",
      "$ total_points.x                \u001b[3m\u001b[90m<dbl>\u001b[39m\u001b[23m -0.4940901, -0.4940901, -0.4940901, -0.4…\n",
      "$ transfers_balance.x           \u001b[3m\u001b[90m<dbl>\u001b[39m\u001b[23m -0.0240940229, -0.0240594504, -0.0241372…\n",
      "$ transfers_in.x                \u001b[3m\u001b[90m<dbl>\u001b[39m\u001b[23m -0.29134105, -0.29134105, -0.29134105, -…\n",
      "$ transfers_out.x               \u001b[3m\u001b[90m<dbl>\u001b[39m\u001b[23m -0.30991196, -0.30995946, -0.30985259, -…\n",
      "$ value.x                       \u001b[3m\u001b[90m<dbl>\u001b[39m\u001b[23m -0.7588275, -0.7588275, -0.7588275, -0.7…\n",
      "$ was_home.x                    \u001b[3m\u001b[90m<lgl>\u001b[39m\u001b[23m FALSE, TRUE, FALSE, TRUE, TRUE, TRUE, TR…\n",
      "$ yellow_cards.x                \u001b[3m\u001b[90m<dbl>\u001b[39m\u001b[23m -0.2112675, -0.2112675, -0.2112675, -0.2…\n",
      "$ GW.x                          \u001b[3m\u001b[90m<dbl>\u001b[39m\u001b[23m 52, 54, 56, 66, 72, 75, 76, 8, 11, 14, 1…\n",
      "$ player_id.x                   \u001b[3m\u001b[90m<dbl>\u001b[39m\u001b[23m 2, 2, 2, 2, 2, 2, 2, 12, 12, 12, 12, 12,…\n",
      "$ oID.x                         \u001b[3m\u001b[90m<dbl>\u001b[39m\u001b[23m 7, 6, 8, 19, 16, 7, 17, 2, 23, 8, 5, 10,…\n",
      "$ tID.x                         \u001b[3m\u001b[90m<dbl>\u001b[39m\u001b[23m 5, 5, 5, 5, 5, 5, 5, 21, 21, 21, 21, 21,…\n",
      "$ hID.x                         \u001b[3m\u001b[90m<dbl>\u001b[39m\u001b[23m 0, 1, 0, 1, 1, 1, 1, 0, 1, 0, 1, 0, 1, 1…\n",
      "$ name.y                        \u001b[3m\u001b[90m<chr>\u001b[39m\u001b[23m \"Aaron Connolly\", \"Aaron Connolly\", \"Aar…\n",
      "$ position.y                    \u001b[3m\u001b[90m<chr>\u001b[39m\u001b[23m \"FWD\", \"FWD\", \"FWD\", \"FWD\", \"FWD\", \"FWD\"…\n",
      "$ team.y                        \u001b[3m\u001b[90m<chr>\u001b[39m\u001b[23m \"Brighton\", \"Brighton\", \"Brighton\", \"Bri…\n",
      "$ xP.y                          \u001b[3m\u001b[90m<dbl>\u001b[39m\u001b[23m 0.0, 0.0, 0.0, 0.0, 0.0, 0.0, 0.0, 3.8, …\n",
      "$ assists.y                     \u001b[3m\u001b[90m<dbl>\u001b[39m\u001b[23m 0, 0, 0, 0, 0, 0, 0, 0, 0, 0, 0, 0, 0, 0…\n",
      "$ bonus.y                       \u001b[3m\u001b[90m<dbl>\u001b[39m\u001b[23m 0, 0, 0, 0, 0, 0, 0, 0, 0, 0, 0, 0, 0, 0…\n",
      "$ bps.y                         \u001b[3m\u001b[90m<dbl>\u001b[39m\u001b[23m 0, 0, 0, 0, 0, 0, 0, 4, 5, 0, 2, 2, 3, 3…\n",
      "$ clean_sheets.y                \u001b[3m\u001b[90m<dbl>\u001b[39m\u001b[23m 0, 0, 0, 0, 0, 0, 0, 0, 0, 0, 0, 0, 0, 0…\n",
      "$ creativity.y                  \u001b[3m\u001b[90m<dbl>\u001b[39m\u001b[23m 0.0, 0.0, 0.0, 0.0, 0.0, 0.0, 0.0, 0.6, …\n",
      "$ expected_assists.y            \u001b[3m\u001b[90m<dbl>\u001b[39m\u001b[23m 0.00000, 0.00000, 0.00000, 0.00000, 0.00…\n",
      "$ expected_goal_involvements.y  \u001b[3m\u001b[90m<dbl>\u001b[39m\u001b[23m 0.00000, 0.00000, 0.00000, 0.00000, 0.00…\n",
      "$ expected_goals.y              \u001b[3m\u001b[90m<dbl>\u001b[39m\u001b[23m 0.0000, 0.0000, 0.0000, 0.0000, 0.0000, …\n",
      "$ expected_goals_conceded.y     \u001b[3m\u001b[90m<dbl>\u001b[39m\u001b[23m 0.0000, 0.0000, 0.0000, 0.0000, 0.0000, …\n",
      "$ fixture.y                     \u001b[3m\u001b[90m<dbl>\u001b[39m\u001b[23m 135, 152, 172, 274, 282, 332, 373, 71, 1…\n",
      "$ goals_conceded.y              \u001b[3m\u001b[90m<dbl>\u001b[39m\u001b[23m 0, 0, 0, 0, 0, 0, 0, 1, 1, 0, 0, 0, 0, 1…\n",
      "$ goals_scored.y                \u001b[3m\u001b[90m<dbl>\u001b[39m\u001b[23m 0, 0, 0, 0, 0, 0, 0, 0, 0, 0, 0, 0, 0, 0…\n",
      "$ ict_index.y                   \u001b[3m\u001b[90m<dbl>\u001b[39m\u001b[23m 0.0, 0.0, 0.0, 0.0, 0.0, 0.0, 0.0, 1.2, …\n",
      "$ influence.y                   \u001b[3m\u001b[90m<dbl>\u001b[39m\u001b[23m 0.0, 0.0, 0.0, 0.0, 0.0, 0.0, 0.0, 9.6, …\n",
      "$ kickoff_time.y                \u001b[3m\u001b[90m<dttm>\u001b[39m\u001b[23m 2023-12-03 14:00:00, 2023-12-09 15:00:0…\n",
      "$ minutes.y                     \u001b[3m\u001b[90m<dbl>\u001b[39m\u001b[23m 0, 0, 0, 0, 0, 0, 0, 70, 73, 0, 6, 1, 26…\n",
      "$ opponent_team.y               \u001b[3m\u001b[90m<chr>\u001b[39m\u001b[23m \"Chelsea\", \"Burnley\", \"Crystal Palace\", …\n",
      "$ own_goals.y                   \u001b[3m\u001b[90m<dbl>\u001b[39m\u001b[23m 0, 0, 0, 0, 0, 0, 0, 0, 0, 0, 0, 0, 0, 0…\n",
      "$ penalties_missed.y            \u001b[3m\u001b[90m<dbl>\u001b[39m\u001b[23m 0, 0, 0, 0, 0, 0, 0, 0, 0, 0, 0, 0, 0, 0…\n",
      "$ penalties_saved.y             \u001b[3m\u001b[90m<dbl>\u001b[39m\u001b[23m 0, 0, 0, 0, 0, 0, 0, 0, 0, 0, 0, 0, 0, 0…\n",
      "$ red_cards.y                   \u001b[3m\u001b[90m<dbl>\u001b[39m\u001b[23m 0, 0, 0, 0, 0, 0, 0, 0, 0, 0, 0, 0, 0, 0…\n",
      "$ round.y                       \u001b[3m\u001b[90m<dbl>\u001b[39m\u001b[23m 14, 16, 18, 28, 34, 37, 38, 8, 11, 14, 1…\n",
      "$ saves.y                       \u001b[3m\u001b[90m<dbl>\u001b[39m\u001b[23m 0, 0, 0, 0, 0, 0, 0, 0, 0, 0, 0, 0, 0, 0…\n",
      "$ selected.y                    \u001b[3m\u001b[90m<dbl>\u001b[39m\u001b[23m 1976, 1942, 1879, 1725, 1698, 1684, 1676…\n",
      "$ starts.y                      \u001b[3m\u001b[90m<dbl>\u001b[39m\u001b[23m 0, 0, 0, 0, 0, 0, 0, 0, 0, 0, 0, 0, 0, 1…\n",
      "$ team_a_score.y                \u001b[3m\u001b[90m<dbl>\u001b[39m\u001b[23m 2, 1, 1, 0, 4, 2, 2, 0, 1, 0, 3, 1, 1, 1…\n",
      "$ team_h_score.y                \u001b[3m\u001b[90m<dbl>\u001b[39m\u001b[23m 3, 1, 1, 1, 0, 1, 0, 1, 1, 1, 1, 2, 0, 0…\n",
      "$ threat.y                      \u001b[3m\u001b[90m<dbl>\u001b[39m\u001b[23m 0, 0, 0, 0, 0, 0, 0, 2, 0, 0, 0, 0, 0, 1…\n",
      "$ total_points.y                \u001b[3m\u001b[90m<dbl>\u001b[39m\u001b[23m 0, 0, 0, 0, 0, 0, 0, 2, 2, 0, 1, 1, 1, 2…\n",
      "$ transfers_balance.y           \u001b[3m\u001b[90m<dbl>\u001b[39m\u001b[23m -20, -16, -25, -10, -9, -4, -8, 2707, -8…\n",
      "$ transfers_in.y                \u001b[3m\u001b[90m<dbl>\u001b[39m\u001b[23m 0, 0, 0, 0, 0, 0, 0, 15971, 5642, 4988, …\n",
      "$ transfers_out.y               \u001b[3m\u001b[90m<dbl>\u001b[39m\u001b[23m 20, 16, 25, 10, 9, 4, 8, 13264, 13855, 1…\n",
      "$ value.y                       \u001b[3m\u001b[90m<dbl>\u001b[39m\u001b[23m 45, 45, 45, 45, 45, 45, 45, 55, 55, 55, …\n",
      "$ was_home.y                    \u001b[3m\u001b[90m<lgl>\u001b[39m\u001b[23m FALSE, TRUE, FALSE, TRUE, TRUE, TRUE, TR…\n",
      "$ yellow_cards.y                \u001b[3m\u001b[90m<dbl>\u001b[39m\u001b[23m 0, 0, 0, 0, 0, 0, 0, 0, 0, 0, 0, 0, 0, 0…\n",
      "$ GW.y                          \u001b[3m\u001b[90m<dbl>\u001b[39m\u001b[23m 52, 54, 56, 66, 72, 75, 76, 8, 11, 14, 1…\n",
      "$ player_id.y                   \u001b[3m\u001b[90m<dbl>\u001b[39m\u001b[23m 2, 2, 2, 2, 2, 2, 2, 12, 12, 12, 12, 12,…\n",
      "$ oID.y                         \u001b[3m\u001b[90m<dbl>\u001b[39m\u001b[23m 7, 6, 8, 19, 16, 7, 17, 2, 23, 8, 5, 10,…\n",
      "$ tID.y                         \u001b[3m\u001b[90m<dbl>\u001b[39m\u001b[23m 5, 5, 5, 5, 5, 5, 5, 21, 21, 21, 21, 21,…\n",
      "$ hID.y                         \u001b[3m\u001b[90m<dbl>\u001b[39m\u001b[23m 0, 1, 0, 1, 1, 1, 1, 0, 1, 0, 1, 0, 1, 1…\n"
     ]
    }
   ],
   "source": [
    "#============================\n",
    "# 9. Generate Predictions & Invert Scaling on Validation Set\n",
    "#============================\n",
    "# Use the validation set for predictions\n",
    "pred_all <- model %>% predict(\n",
    "  list(\n",
    "    input_seq = Xnum_val,\n",
    "    input_player_id = cat_player_id_val,\n",
    "    input_tID = cat_tID_val,\n",
    "    input_oID = cat_oID_val,\n",
    "    input_hID = cat_hID_val\n",
    "  )\n",
    ")\n",
    "\n",
    "# Build a predictions table using the validation row IDs\n",
    "preds_fwd <- tibble(\n",
    "  row_id = val_row_ids,  # row IDs corresponding to the validation set\n",
    "  predicted_total_points_scaled = as.vector(pred_all),\n",
    "  actual_total_points_scaled = as.vector(y_val)\n",
    ") %>% \n",
    "  mutate(\n",
    "    predicted_total_points = predicted_total_points_scaled * sigma + mu,\n",
    "    actual_total_points = actual_total_points_scaled * sigma + mu\n",
    "  )\n",
    "\n",
    "# Optionally, join additional information from gk (ensure gk has a \"row_id\" column)\n",
    "preds_fwd <- preds_fwd %>%\n",
    "  left_join(fwd, by = \"row_id\")\n",
    "\n",
    "preds_fwd <- preds_fwd %>%\n",
    "  left_join(unscaled_fwd, by = \"row_id\") # Use unscaled_mid\n",
    "\n",
    "glimpse(preds_fwd)"
   ]
  },
  {
   "cell_type": "markdown",
   "id": "a29d31de",
   "metadata": {
    "papermill": {
     "duration": 0.025354,
     "end_time": "2025-04-17T20:55:19.241695",
     "exception": false,
     "start_time": "2025-04-17T20:55:19.216341",
     "status": "completed"
    },
    "tags": []
   },
   "source": [
    "## Eval Plots FWD"
   ]
  },
  {
   "cell_type": "code",
   "execution_count": null,
   "id": "0b893379",
   "metadata": {
    "execution": {
     "iopub.execute_input": "2025-04-17T20:55:19.300683Z",
     "iopub.status.busy": "2025-04-17T20:55:19.299071Z",
     "iopub.status.idle": "2025-04-17T20:55:19.792014Z",
     "shell.execute_reply": "2025-04-17T20:55:19.789846Z"
    },
    "papermill": {
     "duration": 0.525112,
     "end_time": "2025-04-17T20:55:19.794720",
     "exception": false,
     "start_time": "2025-04-17T20:55:19.269608",
     "status": "completed"
    },
    "tags": [],
    "vscode": {
     "languageId": "r"
    }
   },
   "outputs": [
    {
     "data": {
      "text/html": [
       "<table class=\"dataframe\">\n",
       "<caption>A data.frame: 6 × 4</caption>\n",
       "<thead>\n",
       "\t<tr><th></th><th scope=col>epoch</th><th scope=col>value</th><th scope=col>metric</th><th scope=col>data</th></tr>\n",
       "\t<tr><th></th><th scope=col>&lt;int&gt;</th><th scope=col>&lt;dbl&gt;</th><th scope=col>&lt;fct&gt;</th><th scope=col>&lt;fct&gt;</th></tr>\n",
       "</thead>\n",
       "<tbody>\n",
       "\t<tr><th scope=row>1</th><td>1</td><td>0.9436846</td><td>loss</td><td>training</td></tr>\n",
       "\t<tr><th scope=row>2</th><td>2</td><td>0.7728032</td><td>loss</td><td>training</td></tr>\n",
       "\t<tr><th scope=row>3</th><td>3</td><td>0.7525263</td><td>loss</td><td>training</td></tr>\n",
       "\t<tr><th scope=row>4</th><td>4</td><td>0.7393479</td><td>loss</td><td>training</td></tr>\n",
       "\t<tr><th scope=row>5</th><td>5</td><td>0.7336037</td><td>loss</td><td>training</td></tr>\n",
       "\t<tr><th scope=row>6</th><td>6</td><td>0.7288052</td><td>loss</td><td>training</td></tr>\n",
       "</tbody>\n",
       "</table>\n"
      ],
      "text/latex": [
       "A data.frame: 6 × 4\n",
       "\\begin{tabular}{r|llll}\n",
       "  & epoch & value & metric & data\\\\\n",
       "  & <int> & <dbl> & <fct> & <fct>\\\\\n",
       "\\hline\n",
       "\t1 & 1 & 0.9436846 & loss & training\\\\\n",
       "\t2 & 2 & 0.7728032 & loss & training\\\\\n",
       "\t3 & 3 & 0.7525263 & loss & training\\\\\n",
       "\t4 & 4 & 0.7393479 & loss & training\\\\\n",
       "\t5 & 5 & 0.7336037 & loss & training\\\\\n",
       "\t6 & 6 & 0.7288052 & loss & training\\\\\n",
       "\\end{tabular}\n"
      ],
      "text/markdown": [
       "\n",
       "A data.frame: 6 × 4\n",
       "\n",
       "| <!--/--> | epoch &lt;int&gt; | value &lt;dbl&gt; | metric &lt;fct&gt; | data &lt;fct&gt; |\n",
       "|---|---|---|---|---|\n",
       "| 1 | 1 | 0.9436846 | loss | training |\n",
       "| 2 | 2 | 0.7728032 | loss | training |\n",
       "| 3 | 3 | 0.7525263 | loss | training |\n",
       "| 4 | 4 | 0.7393479 | loss | training |\n",
       "| 5 | 5 | 0.7336037 | loss | training |\n",
       "| 6 | 6 | 0.7288052 | loss | training |\n",
       "\n"
      ],
      "text/plain": [
       "  epoch value     metric data    \n",
       "1 1     0.9436846 loss   training\n",
       "2 2     0.7728032 loss   training\n",
       "3 3     0.7525263 loss   training\n",
       "4 4     0.7393479 loss   training\n",
       "5 5     0.7336037 loss   training\n",
       "6 6     0.7288052 loss   training"
      ]
     },
     "metadata": {},
     "output_type": "display_data"
    },
    {
     "data": {
      "image/png": "[encoded data removed]"
     },
     "metadata": {
      "image/png": {
       "height": 420,
       "width": 420
      }
     },
     "output_type": "display_data"
    }
   ],
   "source": [
    "plot(history)\n",
    "\n",
    "history_df_fwd <- as.data.frame(history)\n",
    "\n",
    "head(history_df_fwd)\n",
    "\n",
    "\n",
    "# save_model_tf(model, filepath = \"/kaggle/working/gkmodel_tf\")"
   ]
  },
  {
   "cell_type": "markdown",
   "id": "587cb3ca",
   "metadata": {
    "_cell_guid": "6bd5e64e-a89a-45eb-8905-72b4a797a531",
    "_uuid": "0e0452ab-f122-4ae8-b43a-4344b6122ad7",
    "collapsed": false,
    "jupyter": {
     "outputs_hidden": false
    },
    "papermill": {
     "duration": 0.027669,
     "end_time": "2025-04-17T20:55:19.851747",
     "exception": false,
     "start_time": "2025-04-17T20:55:19.824078",
     "status": "completed"
    },
    "tags": []
   },
   "source": [
    "## Sett sammen tibbler"
   ]
  },
  {
   "cell_type": "code",
   "execution_count": null,
   "id": "f49caad8",
   "metadata": {
    "_cell_guid": "6a4adb21-4466-44fe-8408-04bd1d89a849",
    "_uuid": "8de62445-8103-45c4-b5f4-b43ad42ac948",
    "execution": {
     "iopub.execute_input": "2025-04-17T20:55:19.909867Z",
     "iopub.status.busy": "2025-04-17T20:55:19.908173Z",
     "iopub.status.idle": "2025-04-17T20:55:20.233567Z",
     "shell.execute_reply": "2025-04-17T20:55:20.231540Z"
    },
    "papermill": {
     "duration": 0.357141,
     "end_time": "2025-04-17T20:55:20.236111",
     "exception": false,
     "start_time": "2025-04-17T20:55:19.878970",
     "status": "completed"
    },
    "tags": [],
    "vscode": {
     "languageId": "r"
    }
   },
   "outputs": [
    {
     "name": "stdout",
     "output_type": "stream",
     "text": [
      "\u001b[90m# A tibble: 1,547 × 49\u001b[39m\n",
      "   row_id predicted_total_points…¹ actual_total_points_…² predicted_total_points\n",
      "    \u001b[3m\u001b[90m<dbl>\u001b[39m\u001b[23m                    \u001b[3m\u001b[90m<dbl>\u001b[39m\u001b[23m                  \u001b[3m\u001b[90m<dbl>\u001b[39m\u001b[23m                  \u001b[3m\u001b[90m<dbl>\u001b[39m\u001b[23m\n",
      "\u001b[90m 1\u001b[39m    267                   1.18                   2.51                    3.28 \n",
      "\u001b[90m 2\u001b[39m    269                   0.614                  0.557                   2.12 \n",
      "\u001b[90m 3\u001b[39m    271                   0.226                  4.96                    1.32 \n",
      "\u001b[90m 4\u001b[39m    272                  -\u001b[31m0\u001b[39m\u001b[31m.\u001b[39m\u001b[31m129\u001b[39m                  0.067\u001b[4m6\u001b[24m                  0.597\n",
      "\u001b[90m 5\u001b[39m    276                   0.170                  0.557                   1.21 \n",
      "\u001b[90m 6\u001b[39m    279                  -\u001b[31m0\u001b[39m\u001b[31m.\u001b[39m\u001b[31m230\u001b[39m                  0.067\u001b[4m6\u001b[24m                  0.391\n",
      "\u001b[90m 7\u001b[39m    281                   0.371                  1.05                    1.62 \n",
      "\u001b[90m 8\u001b[39m    285                   1.42                   0.557                   3.76 \n",
      "\u001b[90m 9\u001b[39m    286                   0.013\u001b[4m1\u001b[24m                 0.067\u001b[4m6\u001b[24m                  0.889\n",
      "\u001b[90m10\u001b[39m    290                   0.526                  0.557                   1.94 \n",
      "\u001b[90m# ℹ 1,537 more rows\u001b[39m\n",
      "\u001b[90m# ℹ abbreviated names: ¹​predicted_total_points_scaled,\u001b[39m\n",
      "\u001b[90m#   ²​actual_total_points_scaled\u001b[39m\n",
      "\u001b[90m# ℹ 45 more variables: actual_total_points <dbl>, name <chr>, position <chr>,\u001b[39m\n",
      "\u001b[90m#   team <chr>, xP <dbl>, assists <dbl>, bonus <dbl>, bps <dbl>,\u001b[39m\n",
      "\u001b[90m#   clean_sheets <dbl>, creativity <dbl>, expected_assists <dbl>,\u001b[39m\n",
      "\u001b[90m#   expected_goal_involvements <dbl>, expected_goals <dbl>, …\u001b[39m\n"
     ]
    },
    {
     "name": "stdout",
     "output_type": "stream",
     "text": [
      "\u001b[90m# A tibble: 4,752 × 93\u001b[39m\n",
      "   row_id predicted_total_points…¹ actual_total_points_…² predicted_total_points\n",
      "    \u001b[3m\u001b[90m<dbl>\u001b[39m\u001b[23m                    \u001b[3m\u001b[90m<dbl>\u001b[39m\u001b[23m                  \u001b[3m\u001b[90m<dbl>\u001b[39m\u001b[23m                  \u001b[3m\u001b[90m<dbl>\u001b[39m\u001b[23m\n",
      "\u001b[90m 1\u001b[39m     52                   0.110                  0.443                   1.27 \n",
      "\u001b[90m 2\u001b[39m     54                  -\u001b[31m0\u001b[39m\u001b[31m.\u001b[39m\u001b[31m176\u001b[39m                  0.443                   0.637\n",
      "\u001b[90m 3\u001b[39m     58                  -\u001b[31m0\u001b[39m\u001b[31m.\u001b[39m\u001b[31m129\u001b[39m                 -\u001b[31m0\u001b[39m\u001b[31m.\u001b[39m\u001b[31m0\u001b[39m\u001b[31m11\u001b[4m2\u001b[24m\u001b[39m                  0.741\n",
      "\u001b[90m 4\u001b[39m     70                   0.488                 -\u001b[31m0\u001b[39m\u001b[31m.\u001b[39m\u001b[31m0\u001b[39m\u001b[31m11\u001b[4m2\u001b[24m\u001b[39m                  2.10 \n",
      "\u001b[90m 5\u001b[39m     75                  -\u001b[31m0\u001b[39m\u001b[31m.\u001b[39m\u001b[31m358\u001b[39m                 -\u001b[31m0\u001b[39m\u001b[31m.\u001b[39m\u001b[31m0\u001b[39m\u001b[31m11\u001b[4m2\u001b[24m\u001b[39m                  0.235\n",
      "\u001b[90m 6\u001b[39m     80                   0.564                 -\u001b[31m0\u001b[39m\u001b[31m.\u001b[39m\u001b[31m465\u001b[39m                   2.27 \n",
      "\u001b[90m 7\u001b[39m     81                   0.340                 -\u001b[31m0\u001b[39m\u001b[31m.\u001b[39m\u001b[31m0\u001b[39m\u001b[31m11\u001b[4m2\u001b[24m\u001b[39m                  1.77 \n",
      "\u001b[90m 8\u001b[39m     94                   0.108                 -\u001b[31m0\u001b[39m\u001b[31m.\u001b[39m\u001b[31m465\u001b[39m                   1.26 \n",
      "\u001b[90m 9\u001b[39m    105                  -\u001b[31m0\u001b[39m\u001b[31m.\u001b[39m\u001b[31m135\u001b[39m                 -\u001b[31m0\u001b[39m\u001b[31m.\u001b[39m\u001b[31m0\u001b[39m\u001b[31m11\u001b[4m2\u001b[24m\u001b[39m                  0.726\n",
      "\u001b[90m10\u001b[39m    111                   0.034\u001b[4m5\u001b[24m                -\u001b[31m0\u001b[39m\u001b[31m.\u001b[39m\u001b[31m465\u001b[39m                   1.10 \n",
      "\u001b[90m# ℹ 4,742 more rows\u001b[39m\n",
      "\u001b[90m# ℹ abbreviated names: ¹​predicted_total_points_scaled,\u001b[39m\n",
      "\u001b[90m#   ²​actual_total_points_scaled\u001b[39m\n",
      "\u001b[90m# ℹ 89 more variables: actual_total_points <dbl>, name.x <chr>,\u001b[39m\n",
      "\u001b[90m#   position.x <chr>, team.x <chr>, xP.x <dbl>, assists.x <dbl>, bonus.x <dbl>,\u001b[39m\n",
      "\u001b[90m#   bps.x <dbl>, clean_sheets.x <dbl>, creativity.x <dbl>,\u001b[39m\n",
      "\u001b[90m#   expected_assists.x <dbl>, expected_goal_involvements.x <dbl>, …\u001b[39m\n"
     ]
    },
    {
     "name": "stdout",
     "output_type": "stream",
     "text": [
      "\u001b[90m# A tibble: 6,215 × 93\u001b[39m\n",
      "   row_id predicted_total_points…¹ actual_total_points_…² predicted_total_points\n",
      "    \u001b[3m\u001b[90m<dbl>\u001b[39m\u001b[23m                    \u001b[3m\u001b[90m<dbl>\u001b[39m\u001b[23m                  \u001b[3m\u001b[90m<dbl>\u001b[39m\u001b[23m                  \u001b[3m\u001b[90m<dbl>\u001b[39m\u001b[23m\n",
      "\u001b[90m 1\u001b[39m    368                  -\u001b[31m0\u001b[39m\u001b[31m.\u001b[39m\u001b[31m433\u001b[39m                 -\u001b[31m0\u001b[39m\u001b[31m.\u001b[39m\u001b[31m519\u001b[39m                   0.205\n",
      "\u001b[90m 2\u001b[39m    374                  -\u001b[31m0\u001b[39m\u001b[31m.\u001b[39m\u001b[31m297\u001b[39m                 -\u001b[31m0\u001b[39m\u001b[31m.\u001b[39m\u001b[31m519\u001b[39m                   0.529\n",
      "\u001b[90m 3\u001b[39m    387                  -\u001b[31m0\u001b[39m\u001b[31m.\u001b[39m\u001b[31m336\u001b[39m                 -\u001b[31m0\u001b[39m\u001b[31m.\u001b[39m\u001b[31m519\u001b[39m                   0.435\n",
      "\u001b[90m 4\u001b[39m    391                  -\u001b[31m0\u001b[39m\u001b[31m.\u001b[39m\u001b[31m383\u001b[39m                 -\u001b[31m0\u001b[39m\u001b[31m.\u001b[39m\u001b[31m519\u001b[39m                   0.324\n",
      "\u001b[90m 5\u001b[39m    505                   0.702                 -\u001b[31m0\u001b[39m\u001b[31m.\u001b[39m\u001b[31m519\u001b[39m                   2.90 \n",
      "\u001b[90m 6\u001b[39m    506                   1.26                  -\u001b[31m0\u001b[39m\u001b[31m.\u001b[39m\u001b[31m519\u001b[39m                   4.23 \n",
      "\u001b[90m 7\u001b[39m    511                  -\u001b[31m0\u001b[39m\u001b[31m.\u001b[39m\u001b[31m228\u001b[39m                 -\u001b[31m0\u001b[39m\u001b[31m.\u001b[39m\u001b[31m519\u001b[39m                   0.693\n",
      "\u001b[90m 8\u001b[39m    524                   0.456                 -\u001b[31m0\u001b[39m\u001b[31m.\u001b[39m\u001b[31m0\u001b[39m\u001b[31m98\u001b[4m5\u001b[24m\u001b[39m                  2.32 \n",
      "\u001b[90m 9\u001b[39m    532                   0.082\u001b[4m9\u001b[24m                -\u001b[31m0\u001b[39m\u001b[31m.\u001b[39m\u001b[31m519\u001b[39m                   1.43 \n",
      "\u001b[90m10\u001b[39m    536                   1.69                   0.322                   5.25 \n",
      "\u001b[90m# ℹ 6,205 more rows\u001b[39m\n",
      "\u001b[90m# ℹ abbreviated names: ¹​predicted_total_points_scaled,\u001b[39m\n",
      "\u001b[90m#   ²​actual_total_points_scaled\u001b[39m\n",
      "\u001b[90m# ℹ 89 more variables: actual_total_points <dbl>, name.x <chr>,\u001b[39m\n",
      "\u001b[90m#   position.x <chr>, team.x <chr>, xP.x <dbl>, assists.x <dbl>, bonus.x <dbl>,\u001b[39m\n",
      "\u001b[90m#   bps.x <dbl>, clean_sheets.x <dbl>, creativity.x <dbl>,\u001b[39m\n",
      "\u001b[90m#   expected_assists.x <dbl>, expected_goal_involvements.x <dbl>, …\u001b[39m\n"
     ]
    },
    {
     "name": "stdout",
     "output_type": "stream",
     "text": [
      "\u001b[90m# A tibble: 1,703 × 93\u001b[39m\n",
      "   row_id predicted_total_points…¹ actual_total_points_…² predicted_total_points\n",
      "    \u001b[3m\u001b[90m<dbl>\u001b[39m\u001b[23m                    \u001b[3m\u001b[90m<dbl>\u001b[39m\u001b[23m                  \u001b[3m\u001b[90m<dbl>\u001b[39m\u001b[23m                  \u001b[3m\u001b[90m<dbl>\u001b[39m\u001b[23m\n",
      "\u001b[90m 1\u001b[39m     19                  -\u001b[31m0\u001b[39m\u001b[31m.\u001b[39m\u001b[31m511\u001b[39m                  -\u001b[31m0\u001b[39m\u001b[31m.\u001b[39m\u001b[31m494\u001b[39m                -\u001b[31m0\u001b[39m\u001b[31m.\u001b[39m\u001b[31m0\u001b[39m\u001b[31m44\u001b[4m8\u001b[24m\u001b[39m\n",
      "\u001b[90m 2\u001b[39m     21                  -\u001b[31m0\u001b[39m\u001b[31m.\u001b[39m\u001b[31m638\u001b[39m                  -\u001b[31m0\u001b[39m\u001b[31m.\u001b[39m\u001b[31m494\u001b[39m                -\u001b[31m0\u001b[39m\u001b[31m.\u001b[39m\u001b[31m387\u001b[39m \n",
      "\u001b[90m 3\u001b[39m     23                  -\u001b[31m0\u001b[39m\u001b[31m.\u001b[39m\u001b[31m656\u001b[39m                  -\u001b[31m0\u001b[39m\u001b[31m.\u001b[39m\u001b[31m494\u001b[39m                -\u001b[31m0\u001b[39m\u001b[31m.\u001b[39m\u001b[31m435\u001b[39m \n",
      "\u001b[90m 4\u001b[39m     33                  -\u001b[31m0\u001b[39m\u001b[31m.\u001b[39m\u001b[31m655\u001b[39m                  -\u001b[31m0\u001b[39m\u001b[31m.\u001b[39m\u001b[31m494\u001b[39m                -\u001b[31m0\u001b[39m\u001b[31m.\u001b[39m\u001b[31m433\u001b[39m \n",
      "\u001b[90m 5\u001b[39m     38                  -\u001b[31m0\u001b[39m\u001b[31m.\u001b[39m\u001b[31m702\u001b[39m                  -\u001b[31m0\u001b[39m\u001b[31m.\u001b[39m\u001b[31m494\u001b[39m                -\u001b[31m0\u001b[39m\u001b[31m.\u001b[39m\u001b[31m560\u001b[39m \n",
      "\u001b[90m 6\u001b[39m     42                  -\u001b[31m0\u001b[39m\u001b[31m.\u001b[39m\u001b[31m595\u001b[39m                  -\u001b[31m0\u001b[39m\u001b[31m.\u001b[39m\u001b[31m494\u001b[39m                -\u001b[31m0\u001b[39m\u001b[31m.\u001b[39m\u001b[31m271\u001b[39m \n",
      "\u001b[90m 7\u001b[39m     43                  -\u001b[31m0\u001b[39m\u001b[31m.\u001b[39m\u001b[31m429\u001b[39m                  -\u001b[31m0\u001b[39m\u001b[31m.\u001b[39m\u001b[31m494\u001b[39m                 0.174 \n",
      "\u001b[90m 8\u001b[39m    686                   0.082\u001b[4m1\u001b[24m                  0.250                 1.55  \n",
      "\u001b[90m 9\u001b[39m    689                  -\u001b[31m0\u001b[39m\u001b[31m.\u001b[39m\u001b[31m335\u001b[39m                   0.250                 0.428 \n",
      "\u001b[90m10\u001b[39m    692                  -\u001b[31m0\u001b[39m\u001b[31m.\u001b[39m\u001b[31m167\u001b[39m                  -\u001b[31m0\u001b[39m\u001b[31m.\u001b[39m\u001b[31m494\u001b[39m                 0.878 \n",
      "\u001b[90m# ℹ 1,693 more rows\u001b[39m\n",
      "\u001b[90m# ℹ abbreviated names: ¹​predicted_total_points_scaled,\u001b[39m\n",
      "\u001b[90m#   ²​actual_total_points_scaled\u001b[39m\n",
      "\u001b[90m# ℹ 89 more variables: actual_total_points <dbl>, name.x <chr>,\u001b[39m\n",
      "\u001b[90m#   position.x <chr>, team.x <chr>, xP.x <dbl>, assists.x <dbl>, bonus.x <dbl>,\u001b[39m\n",
      "\u001b[90m#   bps.x <dbl>, clean_sheets.x <dbl>, creativity.x <dbl>,\u001b[39m\n",
      "\u001b[90m#   expected_assists.x <dbl>, expected_goal_involvements.x <dbl>, …\u001b[39m\n"
     ]
    },
    {
     "name": "stdout",
     "output_type": "stream",
     "text": [
      "Kjørt"
     ]
    }
   ],
   "source": [
    "print(preds_gk)\n",
    "print(preds_def)\n",
    "print(preds_mid)\n",
    "print(preds_fwd)\n",
    "#\n",
    "forecastdf <- bind_rows(preds_gk,preds_def,preds_mid,preds_fwd) # FUNGERER IKKE, IKKE LIKT ANTALL RADER\n",
    "cat(\"Kjørt\")"
   ]
  },
  {
   "cell_type": "markdown",
   "id": "f51bb24d",
   "metadata": {
    "_cell_guid": "e47ba802-f407-478d-839f-c7703579b61d",
    "_uuid": "05ae4f1a-44a9-469a-8734-bdb20c281903",
    "collapsed": false,
    "jupyter": {
     "outputs_hidden": false
    },
    "papermill": {
     "duration": 0.029863,
     "end_time": "2025-04-17T20:55:20.294227",
     "exception": false,
     "start_time": "2025-04-17T20:55:20.264364",
     "status": "completed"
    },
    "tags": []
   },
   "source": [
    "## Eksporter"
   ]
  },
  {
   "cell_type": "code",
   "execution_count": null,
   "id": "d3890eec",
   "metadata": {
    "_cell_guid": "fed0f7ab-0a24-458b-b14d-e962d6dd9030",
    "_uuid": "671c8d43-360f-43bf-8ae5-426a509a2a01",
    "execution": {
     "iopub.execute_input": "2025-04-17T20:55:20.362780Z",
     "iopub.status.busy": "2025-04-17T20:55:20.360919Z",
     "iopub.status.idle": "2025-04-17T20:55:20.489207Z",
     "shell.execute_reply": "2025-04-17T20:55:20.487294Z"
    },
    "papermill": {
     "duration": 0.164804,
     "end_time": "2025-04-17T20:55:20.491794",
     "exception": false,
     "start_time": "2025-04-17T20:55:20.326990",
     "status": "completed"
    },
    "tags": [],
    "vscode": {
     "languageId": "r"
    }
   },
   "outputs": [
    {
     "name": "stdout",
     "output_type": "stream",
     "text": [
      "Filen er lagret"
     ]
    }
   ],
   "source": [
    "#Eksporter fra Kaggle\n",
    "write_csv(forecastdf, \"Predicted.csv\")\n",
    "cat(\"Filen er lagret\")"
   ]
  }
 ],
 "metadata": {
  "kaggle": {
   "accelerator": "none",
   "dataSources": [
    {
     "datasetId": 7005996,
     "sourceId": 11218693,
     "sourceType": "datasetVersion"
    },
    {
     "datasetId": 7076883,
     "sourceId": 11314270,
     "sourceType": "datasetVersion"
    },
    {
     "datasetId": 7123461,
     "sourceId": 11377702,
     "sourceType": "datasetVersion"
    }
   ],
   "dockerImageVersionId": 30749,
   "isGpuEnabled": false,
   "isInternetEnabled": true,
   "language": "r",
   "sourceType": "notebook"
  },
  "kernelspec": {
   "display_name": "R",
   "language": "R",
   "name": "ir"
  },
  "language_info": {
   "codemirror_mode": "r",
   "file_extension": ".r",
   "mimetype": "text/x-r-source",
   "name": "R",
   "pygments_lexer": "r",
   "version": "4.4.2"
  },
  "papermill": {
   "default_parameters": {},
   "duration": 2979.629321,
   "end_time": "2025-04-17T20:55:20.945001",
   "environment_variables": {},
   "exception": null,
   "input_path": "__notebook__.ipynb",
   "output_path": "__notebook__.ipynb",
   "parameters": {},
   "start_time": "2025-04-17T20:05:41.315680",
   "version": "2.6.0"
  }
 },
 "nbformat": 4,
 "nbformat_minor": 5
}
