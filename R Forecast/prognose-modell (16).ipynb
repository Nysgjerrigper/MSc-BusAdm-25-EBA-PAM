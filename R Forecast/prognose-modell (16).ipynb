{
 "cells": [
  {
   "cell_type": "raw",
   "metadata": {
    "_cell_guid": "9484520a-fb88-407c-96af-f1ee298d7035",
    "_uuid": "f401f0b8-2018-40d6-8d43-0df8d3d8612a",
    "collapsed": false,
    "jupyter": {
     "outputs_hidden": false
    }
   },
   "source": [
    "# Prognoser med LSTM for FPL"
   ]
  },
  {
   "cell_type": "markdown",
   "metadata": {
    "_cell_guid": "55329dab-b329-4335-9701-59f17bccedeb",
    "_uuid": "d6c1446f-d774-418e-aa0c-8234607728a5",
    "collapsed": false,
    "jupyter": {
     "outputs_hidden": false
    },
    "trusted": true
   },
   "source": [
    "## Table of Contents\n",
    "\n",
    "- [Preamble](#0:-Preamble)\n",
    "- [0.2: Bruker inndata](#0.2:-Bruker-inndata)\n",
    "- [Målvakter](#1:-Målvakter)\n",
    "- [Forsvarsspillere](#2:-Forsvarsspillere)\n",
    "- [Midtbanespillere](#3:-Midtbanespillere)\n",
    "- [Angrepsspillere](#4:-Angrepsspillere)\n",
    "- [Eksporter prognoser](#Eksporter)"
   ]
  },
  {
   "cell_type": "markdown",
   "metadata": {
    "_cell_guid": "5655cd8a-92c7-47cf-b27c-ade8b44ee13b",
    "_uuid": "ad2c1134-bc05-4196-b048-a22c7575e926",
    "collapsed": false,
    "jupyter": {
     "outputs_hidden": false
    },
    "trusted": true
   },
   "source": [
    "# Viktige endringer\n",
    "\n",
    "- Gjort om data split. Den er ikke lenger tilfeldig trukket med sample. Men velges selv. Per nå er den satt til 2 første sesonger til trening, out-of-sample = pågående sesong\n",
    "\n",
    "# Mangler: \n",
    "- [ ] Forsøker å legget til ekstra evaluerings metrics, få implementert ferdig.\n",
    "- [ ] Fikse siste blokk som forsøker å bruke lstm modellen til å faktisk lage prognoser frem i tid.\n",
    "\n",
    "# Last inn vekter\n",
    "Kaggle Export: The .hdf5 weight files saved in /kaggle/working/ will appear in the \"Output\" section of your Kaggle notebook session after it completes. You can download them from there.\n",
    "Loading Later: Remember, when you want to use these weights later (in another notebook or locally), you MUST:\n",
    "Rebuild the exact same model architecture using keras_model().\n",
    "Compile the model using the exact same optimizer, loss, and metrics.\n",
    "Load the weights using load_model_weights_hdf5().\n",
    "Load the corresponding scaling factors (mu, sigma, numF) to prepare input data and unscale predictions."
   ]
  },
  {
   "cell_type": "markdown",
   "metadata": {
    "_cell_guid": "d29b1afc-e133-4d30-9915-ff7323ccc60e",
    "_uuid": "38651426-9d65-47db-b7cb-dea003141c52",
    "collapsed": false,
    "jupyter": {
     "outputs_hidden": false
    },
    "trusted": true
   },
   "source": [
    "# Pakker"
   ]
  },
  {
   "cell_type": "code",
   "execution_count": 1,
   "metadata": {
    "vscode": {
     "languageId": "r"
    }
   },
   "outputs": [],
   "source": [
    "Sys.setenv(WORKON_HOME = \"C:/Users/peram/Documents/test/R Forecast/.virtualenvs\")\n",
    "#install.packages(\"keras\")\n",
    "#library(reticulate)\n",
    "#virtualenv_create(\"r-reticulate\", python = install_python())\n",
    "#library(keras)\n",
    "#install_keras(envname = \"r-reticulate\")"
   ]
  },
  {
   "cell_type": "code",
   "execution_count": 2,
   "metadata": {
    "_cell_guid": "cd45acfd-f04c-41d8-8657-6d4b22e863fe",
    "_uuid": "eeb95111-ce2f-4f48-b144-81a3a0dafc2b",
    "collapsed": false,
    "execution": {
     "iopub.execute_input": "2025-04-24T11:45:15.402598Z",
     "iopub.status.busy": "2025-04-24T11:45:15.400499Z",
     "iopub.status.idle": "2025-04-24T11:45:17.206995Z",
     "shell.execute_reply": "2025-04-24T11:45:17.204895Z"
    },
    "jupyter": {
     "outputs_hidden": false
    },
    "trusted": true,
    "vscode": {
     "languageId": "r"
    }
   },
   "outputs": [
    {
     "name": "stderr",
     "output_type": "stream",
     "text": [
      "Warning message:\n",
      "\"package 'keras' was built under R version 4.4.3\"\n",
      "── \u001b[1mAttaching core tidyverse packages\u001b[22m ──────────────────────── tidyverse 2.0.0 ──\n",
      "\u001b[32m✔\u001b[39m \u001b[34mdplyr    \u001b[39m 1.1.4     \u001b[32m✔\u001b[39m \u001b[34mreadr    \u001b[39m 2.1.5\n",
      "\u001b[32m✔\u001b[39m \u001b[34mforcats  \u001b[39m 1.0.0     \u001b[32m✔\u001b[39m \u001b[34mstringr  \u001b[39m 1.5.1\n",
      "\u001b[32m✔\u001b[39m \u001b[34mggplot2  \u001b[39m 3.5.1     \u001b[32m✔\u001b[39m \u001b[34mtibble   \u001b[39m 3.2.1\n",
      "\u001b[32m✔\u001b[39m \u001b[34mlubridate\u001b[39m 1.9.4     \u001b[32m✔\u001b[39m \u001b[34mtidyr    \u001b[39m 1.3.1\n",
      "\u001b[32m✔\u001b[39m \u001b[34mpurrr    \u001b[39m 1.0.2     \n",
      "── \u001b[1mConflicts\u001b[22m ────────────────────────────────────────── tidyverse_conflicts() ──\n",
      "\u001b[31m✖\u001b[39m \u001b[34mdplyr\u001b[39m::\u001b[32mfilter()\u001b[39m masks \u001b[34mstats\u001b[39m::filter()\n",
      "\u001b[31m✖\u001b[39m \u001b[34mdplyr\u001b[39m::\u001b[32mlag()\u001b[39m    masks \u001b[34mstats\u001b[39m::lag()\n",
      "\u001b[36mℹ\u001b[39m Use the conflicted package (\u001b[3m\u001b[34m<http://conflicted.r-lib.org/>\u001b[39m\u001b[23m) to force all conflicts to become errors\n",
      "Warning message:\n",
      "\"package 'slider' was built under R version 4.4.3\"\n",
      "Warning message:\n",
      "\"package 'glmnet' was built under R version 4.4.3\"\n",
      "Loading required package: Matrix\n",
      "\n",
      "\n",
      "Attaching package: 'Matrix'\n",
      "\n",
      "\n",
      "The following objects are masked from 'package:tidyr':\n",
      "\n",
      "    expand, pack, unpack\n",
      "\n",
      "\n",
      "Loaded glmnet 4.1-8\n",
      "\n",
      "\n",
      "Attaching package: 'jsonlite'\n",
      "\n",
      "\n",
      "The following object is masked from 'package:purrr':\n",
      "\n",
      "    flatten\n",
      "\n",
      "\n"
     ]
    },
    {
     "data": {
      "text/plain": [
       "tf.Tensor(b'Hello, TensorFlow!', shape=(), dtype=string)"
      ]
     },
     "metadata": {},
     "output_type": "display_data"
    }
   ],
   "source": [
    "rm(list = ls(all = TRUE))\n",
    "\n",
    "## 0: Preamble ----\n",
    "library(keras)\n",
    "library(tensorflow)\n",
    "library(tidyverse)\n",
    "library(slider)\n",
    "library(glmnet)\n",
    "library(httr)\n",
    "library(jsonlite)\n",
    "library(ggplot2)\n",
    "\n",
    "tf$constant(\"Hello, TensorFlow!\")\n",
    "\n",
    "# Lists to store models and scaling factors per position\n",
    "model_list <- list()\n",
    "scaling_factors <- list()"
   ]
  },
  {
   "cell_type": "markdown",
   "metadata": {
    "_cell_guid": "1b240622-8bf2-4c82-b257-73c5cc1cd7e7",
    "_uuid": "60a05b61-91ed-4628-9893-aa0fa40df5e8",
    "collapsed": false,
    "jupyter": {
     "outputs_hidden": false
    },
    "trusted": true
   },
   "source": [
    "# Global bruker inndata"
   ]
  },
  {
   "cell_type": "code",
   "execution_count": 3,
   "metadata": {
    "_cell_guid": "b10d1a13-6841-4ff0-8046-3ef865c7b8b7",
    "_uuid": "59aa7878-7916-402c-8b46-1901cf60d6ee",
    "collapsed": false,
    "execution": {
     "iopub.execute_input": "2025-04-24T11:45:17.212755Z",
     "iopub.status.busy": "2025-04-24T11:45:17.211289Z",
     "iopub.status.idle": "2025-04-24T11:45:17.278979Z",
     "shell.execute_reply": "2025-04-24T11:45:17.276991Z"
    },
    "jupyter": {
     "outputs_hidden": false
    },
    "trusted": true,
    "vscode": {
     "languageId": "r"
    }
   },
   "outputs": [],
   "source": [
    "# Treningssplitt: in-sample <= split_gw < out-of-sample\n",
    "split_gw <- 38+38\n",
    "\n",
    "# LSTM\n",
    "epoker <- 15\n",
    "vindu <- 3\n",
    "\n",
    "#Metrics for LSTM Models. Alle fungerer ikke fordi noen er for keras 3 eller heter noe annet som jeg ikke finner\n",
    "metrics_regression <- c(\n",
    "  metric_mean_absolute_error(),\n",
    "  metric_mean_squared_error(),\n",
    "  metric_root_mean_squared_error(),\n",
    "  metric_mean_absolute_percentage_error(),\n",
    "  metric_cosine_similarity()\n",
    ")\n",
    "\n",
    "# Til Prognosering, hvor mange uker frem ønsker du å spå fremover\n",
    "antall_uker <- 7\n",
    "\n",
    "# Til patience epoker i callback.\n",
    "# Altså hvor mange epoker skal den vente før den slutter å trene modellen og gå tilbake til siste beste\n",
    "num_patience <- 5"
   ]
  },
  {
   "cell_type": "markdown",
   "metadata": {
    "_cell_guid": "0dca62c8-03bb-4166-8220-bb70cf0c57f1",
    "_uuid": "25453a08-a13c-4552-8b06-855d9fa11cf6",
    "collapsed": false,
    "jupyter": {
     "outputs_hidden": false
    },
    "trusted": true
   },
   "source": [
    "# Hent data"
   ]
  },
  {
   "cell_type": "code",
   "execution_count": 4,
   "metadata": {
    "_cell_guid": "8148e0ae-e835-4fe9-bbb8-887c4ede4f8c",
    "_uuid": "80487e23-18e8-4561-bf3c-cbb16fb62e99",
    "collapsed": false,
    "execution": {
     "iopub.execute_input": "2025-04-24T11:45:17.285047Z",
     "iopub.status.busy": "2025-04-24T11:45:17.283597Z",
     "iopub.status.idle": "2025-04-24T11:45:17.770671Z",
     "shell.execute_reply": "2025-04-24T11:45:17.768846Z"
    },
    "jupyter": {
     "outputs_hidden": false
    },
    "trusted": true,
    "vscode": {
     "languageId": "r"
    }
   },
   "outputs": [
    {
     "name": "stderr",
     "output_type": "stream",
     "text": [
      "\u001b[1mRows: \u001b[22m\u001b[34m78025\u001b[39m \u001b[1mColumns: \u001b[22m\u001b[34m45\u001b[39m\n",
      "\u001b[36m──\u001b[39m \u001b[1mColumn specification\u001b[22m \u001b[36m────────────────────────────────────────────────────────\u001b[39m\n",
      "\u001b[1mDelimiter:\u001b[22m \",\"\n",
      "\u001b[31mchr\u001b[39m   (4): name, position, team, opponent_team\n",
      "\u001b[32mdbl\u001b[39m  (39): xP, assists, bonus, bps, clean_sheets, creativity, expected_assis...\n",
      "\u001b[33mlgl\u001b[39m   (1): was_home\n",
      "\u001b[34mdttm\u001b[39m  (1): kickoff_time\n",
      "\n",
      "\u001b[36mℹ\u001b[39m Use `spec()` to retrieve the full column specification for this data.\n",
      "\u001b[36mℹ\u001b[39m Specify the column types or set `show_col_types = FALSE` to quiet this message.\n"
     ]
    }
   ],
   "source": [
    "df <- read_csv(\"C:/Users/peram/Documents/test/Datasett/Ekstra kolonner, stigende GW, alle tre sesonger(22-24), heltall.csv\")\n",
    "alternativsammensatt <- df"
   ]
  },
  {
   "cell_type": "markdown",
   "metadata": {
    "_cell_guid": "af0b1eef-0c0f-412d-9193-7c8c6d7ca723",
    "_uuid": "eba8ee9e-993e-4e66-90f9-e340303fd7db",
    "collapsed": false,
    "jupyter": {
     "outputs_hidden": false
    },
    "trusted": true
   },
   "source": [
    "## Posisjons Partisjoner"
   ]
  },
  {
   "cell_type": "code",
   "execution_count": 5,
   "metadata": {
    "_cell_guid": "0f9a5a10-0534-4ee0-b077-d7d7a9254bc9",
    "_uuid": "2d4743d2-857a-458e-89f2-c45f3ba30434",
    "collapsed": false,
    "execution": {
     "iopub.execute_input": "2025-04-24T11:45:17.775846Z",
     "iopub.status.busy": "2025-04-24T11:45:17.774259Z",
     "iopub.status.idle": "2025-04-24T11:45:18.909128Z",
     "shell.execute_reply": "2025-04-24T11:45:18.907467Z"
    },
    "jupyter": {
     "outputs_hidden": false
    },
    "trusted": true,
    "vscode": {
     "languageId": "r"
    }
   },
   "outputs": [
    {
     "data": {
      "text/html": [
       "<dl>\n",
       "\t<dt>$gk</dt>\n",
       "\t\t<dd><table class=\"dataframe\">\n",
       "<caption>A tibble: 1 × 45</caption>\n",
       "<thead>\n",
       "\t<tr><th scope=col>name</th><th scope=col>position</th><th scope=col>team</th><th scope=col>xP</th><th scope=col>assists</th><th scope=col>bonus</th><th scope=col>bps</th><th scope=col>clean_sheets</th><th scope=col>creativity</th><th scope=col>expected_assists</th><th scope=col>⋯</th><th scope=col>transfers_out</th><th scope=col>value</th><th scope=col>was_home</th><th scope=col>yellow_cards</th><th scope=col>GW</th><th scope=col>player_id</th><th scope=col>oID</th><th scope=col>tID</th><th scope=col>hID</th><th scope=col>row_id</th></tr>\n",
       "\t<tr><th scope=col>&lt;chr&gt;</th><th scope=col>&lt;chr&gt;</th><th scope=col>&lt;chr&gt;</th><th scope=col>&lt;dbl&gt;</th><th scope=col>&lt;dbl&gt;</th><th scope=col>&lt;dbl&gt;</th><th scope=col>&lt;dbl&gt;</th><th scope=col>&lt;dbl&gt;</th><th scope=col>&lt;dbl&gt;</th><th scope=col>&lt;dbl&gt;</th><th scope=col>⋯</th><th scope=col>&lt;dbl&gt;</th><th scope=col>&lt;dbl&gt;</th><th scope=col>&lt;lgl&gt;</th><th scope=col>&lt;dbl&gt;</th><th scope=col>&lt;dbl&gt;</th><th scope=col>&lt;dbl&gt;</th><th scope=col>&lt;dbl&gt;</th><th scope=col>&lt;dbl&gt;</th><th scope=col>&lt;dbl&gt;</th><th scope=col>&lt;dbl&gt;</th></tr>\n",
       "</thead>\n",
       "<tbody>\n",
       "\t<tr><td>Aaron Ramsdale</td><td>GK</td><td>Arsenal</td><td>3.6</td><td>0</td><td>0</td><td>25</td><td>1</td><td>0</td><td>0</td><td>⋯</td><td>0</td><td>50</td><td>FALSE</td><td>0</td><td>1</td><td>5</td><td>8</td><td>1</td><td>0</td><td>260</td></tr>\n",
       "</tbody>\n",
       "</table>\n",
       "</dd>\n",
       "\t<dt>$def</dt>\n",
       "\t\t<dd><table class=\"dataframe\">\n",
       "<caption>A tibble: 1 × 45</caption>\n",
       "<thead>\n",
       "\t<tr><th scope=col>name</th><th scope=col>position</th><th scope=col>team</th><th scope=col>xP</th><th scope=col>assists</th><th scope=col>bonus</th><th scope=col>bps</th><th scope=col>clean_sheets</th><th scope=col>creativity</th><th scope=col>expected_assists</th><th scope=col>⋯</th><th scope=col>transfers_out</th><th scope=col>value</th><th scope=col>was_home</th><th scope=col>yellow_cards</th><th scope=col>GW</th><th scope=col>player_id</th><th scope=col>oID</th><th scope=col>tID</th><th scope=col>hID</th><th scope=col>row_id</th></tr>\n",
       "\t<tr><th scope=col>&lt;chr&gt;</th><th scope=col>&lt;chr&gt;</th><th scope=col>&lt;chr&gt;</th><th scope=col>&lt;dbl&gt;</th><th scope=col>&lt;dbl&gt;</th><th scope=col>&lt;dbl&gt;</th><th scope=col>&lt;dbl&gt;</th><th scope=col>&lt;dbl&gt;</th><th scope=col>&lt;dbl&gt;</th><th scope=col>&lt;dbl&gt;</th><th scope=col>⋯</th><th scope=col>&lt;dbl&gt;</th><th scope=col>&lt;dbl&gt;</th><th scope=col>&lt;lgl&gt;</th><th scope=col>&lt;dbl&gt;</th><th scope=col>&lt;dbl&gt;</th><th scope=col>&lt;dbl&gt;</th><th scope=col>&lt;dbl&gt;</th><th scope=col>&lt;dbl&gt;</th><th scope=col>&lt;dbl&gt;</th><th scope=col>&lt;dbl&gt;</th></tr>\n",
       "</thead>\n",
       "<tbody>\n",
       "\t<tr><td>Aaron Anselmino</td><td>DEF</td><td>Chelsea</td><td>1.8</td><td>0</td><td>0</td><td>0</td><td>0</td><td>0</td><td>0</td><td>⋯</td><td>0</td><td>40</td><td>FALSE</td><td>0</td><td>101</td><td>1</td><td>5</td><td>7</td><td>0</td><td>1</td></tr>\n",
       "</tbody>\n",
       "</table>\n",
       "</dd>\n",
       "\t<dt>$mid</dt>\n",
       "\t\t<dd><table class=\"dataframe\">\n",
       "<caption>A tibble: 1 × 45</caption>\n",
       "<thead>\n",
       "\t<tr><th scope=col>name</th><th scope=col>position</th><th scope=col>team</th><th scope=col>xP</th><th scope=col>assists</th><th scope=col>bonus</th><th scope=col>bps</th><th scope=col>clean_sheets</th><th scope=col>creativity</th><th scope=col>expected_assists</th><th scope=col>⋯</th><th scope=col>transfers_out</th><th scope=col>value</th><th scope=col>was_home</th><th scope=col>yellow_cards</th><th scope=col>GW</th><th scope=col>player_id</th><th scope=col>oID</th><th scope=col>tID</th><th scope=col>hID</th><th scope=col>row_id</th></tr>\n",
       "\t<tr><th scope=col>&lt;chr&gt;</th><th scope=col>&lt;chr&gt;</th><th scope=col>&lt;chr&gt;</th><th scope=col>&lt;dbl&gt;</th><th scope=col>&lt;dbl&gt;</th><th scope=col>&lt;dbl&gt;</th><th scope=col>&lt;dbl&gt;</th><th scope=col>&lt;dbl&gt;</th><th scope=col>&lt;dbl&gt;</th><th scope=col>&lt;dbl&gt;</th><th scope=col>⋯</th><th scope=col>&lt;dbl&gt;</th><th scope=col>&lt;dbl&gt;</th><th scope=col>&lt;lgl&gt;</th><th scope=col>&lt;dbl&gt;</th><th scope=col>&lt;dbl&gt;</th><th scope=col>&lt;dbl&gt;</th><th scope=col>&lt;dbl&gt;</th><th scope=col>&lt;dbl&gt;</th><th scope=col>&lt;dbl&gt;</th><th scope=col>&lt;dbl&gt;</th></tr>\n",
       "</thead>\n",
       "<tbody>\n",
       "\t<tr><td>Aaron Ramsey</td><td>MID</td><td>Burnley</td><td>1.2</td><td>0</td><td>0</td><td>3</td><td>0</td><td>1</td><td>0.01</td><td>⋯</td><td>51</td><td>50</td><td>TRUE</td><td>0</td><td>41</td><td>6</td><td>2</td><td>6</td><td>1</td><td>367</td></tr>\n",
       "</tbody>\n",
       "</table>\n",
       "</dd>\n",
       "\t<dt>$fwd</dt>\n",
       "\t\t<dd><table class=\"dataframe\">\n",
       "<caption>A tibble: 1 × 45</caption>\n",
       "<thead>\n",
       "\t<tr><th scope=col>name</th><th scope=col>position</th><th scope=col>team</th><th scope=col>xP</th><th scope=col>assists</th><th scope=col>bonus</th><th scope=col>bps</th><th scope=col>clean_sheets</th><th scope=col>creativity</th><th scope=col>expected_assists</th><th scope=col>⋯</th><th scope=col>transfers_out</th><th scope=col>value</th><th scope=col>was_home</th><th scope=col>yellow_cards</th><th scope=col>GW</th><th scope=col>player_id</th><th scope=col>oID</th><th scope=col>tID</th><th scope=col>hID</th><th scope=col>row_id</th></tr>\n",
       "\t<tr><th scope=col>&lt;chr&gt;</th><th scope=col>&lt;chr&gt;</th><th scope=col>&lt;chr&gt;</th><th scope=col>&lt;dbl&gt;</th><th scope=col>&lt;dbl&gt;</th><th scope=col>&lt;dbl&gt;</th><th scope=col>&lt;dbl&gt;</th><th scope=col>&lt;dbl&gt;</th><th scope=col>&lt;dbl&gt;</th><th scope=col>&lt;dbl&gt;</th><th scope=col>⋯</th><th scope=col>&lt;dbl&gt;</th><th scope=col>&lt;dbl&gt;</th><th scope=col>&lt;lgl&gt;</th><th scope=col>&lt;dbl&gt;</th><th scope=col>&lt;dbl&gt;</th><th scope=col>&lt;dbl&gt;</th><th scope=col>&lt;dbl&gt;</th><th scope=col>&lt;dbl&gt;</th><th scope=col>&lt;dbl&gt;</th><th scope=col>&lt;dbl&gt;</th></tr>\n",
       "</thead>\n",
       "<tbody>\n",
       "\t<tr><td>Aaron Connolly</td><td>FWD</td><td>Brighton</td><td>0</td><td>0</td><td>0</td><td>0</td><td>0</td><td>0</td><td>0</td><td>⋯</td><td>0</td><td>45</td><td>TRUE</td><td>0</td><td>39</td><td>2</td><td>15</td><td>5</td><td>1</td><td>8</td></tr>\n",
       "</tbody>\n",
       "</table>\n",
       "</dd>\n",
       "</dl>\n"
      ],
      "text/latex": [
       "\\begin{description}\n",
       "\\item[\\$gk] A tibble: 1 × 45\n",
       "\\begin{tabular}{lllllllllllllllllllll}\n",
       " name & position & team & xP & assists & bonus & bps & clean\\_sheets & creativity & expected\\_assists & ⋯ & transfers\\_out & value & was\\_home & yellow\\_cards & GW & player\\_id & oID & tID & hID & row\\_id\\\\\n",
       " <chr> & <chr> & <chr> & <dbl> & <dbl> & <dbl> & <dbl> & <dbl> & <dbl> & <dbl> & ⋯ & <dbl> & <dbl> & <lgl> & <dbl> & <dbl> & <dbl> & <dbl> & <dbl> & <dbl> & <dbl>\\\\\n",
       "\\hline\n",
       "\t Aaron Ramsdale & GK & Arsenal & 3.6 & 0 & 0 & 25 & 1 & 0 & 0 & ⋯ & 0 & 50 & FALSE & 0 & 1 & 5 & 8 & 1 & 0 & 260\\\\\n",
       "\\end{tabular}\n",
       "\n",
       "\\item[\\$def] A tibble: 1 × 45\n",
       "\\begin{tabular}{lllllllllllllllllllll}\n",
       " name & position & team & xP & assists & bonus & bps & clean\\_sheets & creativity & expected\\_assists & ⋯ & transfers\\_out & value & was\\_home & yellow\\_cards & GW & player\\_id & oID & tID & hID & row\\_id\\\\\n",
       " <chr> & <chr> & <chr> & <dbl> & <dbl> & <dbl> & <dbl> & <dbl> & <dbl> & <dbl> & ⋯ & <dbl> & <dbl> & <lgl> & <dbl> & <dbl> & <dbl> & <dbl> & <dbl> & <dbl> & <dbl>\\\\\n",
       "\\hline\n",
       "\t Aaron Anselmino & DEF & Chelsea & 1.8 & 0 & 0 & 0 & 0 & 0 & 0 & ⋯ & 0 & 40 & FALSE & 0 & 101 & 1 & 5 & 7 & 0 & 1\\\\\n",
       "\\end{tabular}\n",
       "\n",
       "\\item[\\$mid] A tibble: 1 × 45\n",
       "\\begin{tabular}{lllllllllllllllllllll}\n",
       " name & position & team & xP & assists & bonus & bps & clean\\_sheets & creativity & expected\\_assists & ⋯ & transfers\\_out & value & was\\_home & yellow\\_cards & GW & player\\_id & oID & tID & hID & row\\_id\\\\\n",
       " <chr> & <chr> & <chr> & <dbl> & <dbl> & <dbl> & <dbl> & <dbl> & <dbl> & <dbl> & ⋯ & <dbl> & <dbl> & <lgl> & <dbl> & <dbl> & <dbl> & <dbl> & <dbl> & <dbl> & <dbl>\\\\\n",
       "\\hline\n",
       "\t Aaron Ramsey & MID & Burnley & 1.2 & 0 & 0 & 3 & 0 & 1 & 0.01 & ⋯ & 51 & 50 & TRUE & 0 & 41 & 6 & 2 & 6 & 1 & 367\\\\\n",
       "\\end{tabular}\n",
       "\n",
       "\\item[\\$fwd] A tibble: 1 × 45\n",
       "\\begin{tabular}{lllllllllllllllllllll}\n",
       " name & position & team & xP & assists & bonus & bps & clean\\_sheets & creativity & expected\\_assists & ⋯ & transfers\\_out & value & was\\_home & yellow\\_cards & GW & player\\_id & oID & tID & hID & row\\_id\\\\\n",
       " <chr> & <chr> & <chr> & <dbl> & <dbl> & <dbl> & <dbl> & <dbl> & <dbl> & <dbl> & ⋯ & <dbl> & <dbl> & <lgl> & <dbl> & <dbl> & <dbl> & <dbl> & <dbl> & <dbl> & <dbl>\\\\\n",
       "\\hline\n",
       "\t Aaron Connolly & FWD & Brighton & 0 & 0 & 0 & 0 & 0 & 0 & 0 & ⋯ & 0 & 45 & TRUE & 0 & 39 & 2 & 15 & 5 & 1 & 8\\\\\n",
       "\\end{tabular}\n",
       "\n",
       "\\end{description}\n"
      ],
      "text/markdown": [
       "$gk\n",
       ":   \n",
       "A tibble: 1 × 45\n",
       "\n",
       "| name &lt;chr&gt; | position &lt;chr&gt; | team &lt;chr&gt; | xP &lt;dbl&gt; | assists &lt;dbl&gt; | bonus &lt;dbl&gt; | bps &lt;dbl&gt; | clean_sheets &lt;dbl&gt; | creativity &lt;dbl&gt; | expected_assists &lt;dbl&gt; | ⋯ ⋯ | transfers_out &lt;dbl&gt; | value &lt;dbl&gt; | was_home &lt;lgl&gt; | yellow_cards &lt;dbl&gt; | GW &lt;dbl&gt; | player_id &lt;dbl&gt; | oID &lt;dbl&gt; | tID &lt;dbl&gt; | hID &lt;dbl&gt; | row_id &lt;dbl&gt; |\n",
       "|---|---|---|---|---|---|---|---|---|---|---|---|---|---|---|---|---|---|---|---|---|\n",
       "| Aaron Ramsdale | GK | Arsenal | 3.6 | 0 | 0 | 25 | 1 | 0 | 0 | ⋯ | 0 | 50 | FALSE | 0 | 1 | 5 | 8 | 1 | 0 | 260 |\n",
       "\n",
       "\n",
       "$def\n",
       ":   \n",
       "A tibble: 1 × 45\n",
       "\n",
       "| name &lt;chr&gt; | position &lt;chr&gt; | team &lt;chr&gt; | xP &lt;dbl&gt; | assists &lt;dbl&gt; | bonus &lt;dbl&gt; | bps &lt;dbl&gt; | clean_sheets &lt;dbl&gt; | creativity &lt;dbl&gt; | expected_assists &lt;dbl&gt; | ⋯ ⋯ | transfers_out &lt;dbl&gt; | value &lt;dbl&gt; | was_home &lt;lgl&gt; | yellow_cards &lt;dbl&gt; | GW &lt;dbl&gt; | player_id &lt;dbl&gt; | oID &lt;dbl&gt; | tID &lt;dbl&gt; | hID &lt;dbl&gt; | row_id &lt;dbl&gt; |\n",
       "|---|---|---|---|---|---|---|---|---|---|---|---|---|---|---|---|---|---|---|---|---|\n",
       "| Aaron Anselmino | DEF | Chelsea | 1.8 | 0 | 0 | 0 | 0 | 0 | 0 | ⋯ | 0 | 40 | FALSE | 0 | 101 | 1 | 5 | 7 | 0 | 1 |\n",
       "\n",
       "\n",
       "$mid\n",
       ":   \n",
       "A tibble: 1 × 45\n",
       "\n",
       "| name &lt;chr&gt; | position &lt;chr&gt; | team &lt;chr&gt; | xP &lt;dbl&gt; | assists &lt;dbl&gt; | bonus &lt;dbl&gt; | bps &lt;dbl&gt; | clean_sheets &lt;dbl&gt; | creativity &lt;dbl&gt; | expected_assists &lt;dbl&gt; | ⋯ ⋯ | transfers_out &lt;dbl&gt; | value &lt;dbl&gt; | was_home &lt;lgl&gt; | yellow_cards &lt;dbl&gt; | GW &lt;dbl&gt; | player_id &lt;dbl&gt; | oID &lt;dbl&gt; | tID &lt;dbl&gt; | hID &lt;dbl&gt; | row_id &lt;dbl&gt; |\n",
       "|---|---|---|---|---|---|---|---|---|---|---|---|---|---|---|---|---|---|---|---|---|\n",
       "| Aaron Ramsey | MID | Burnley | 1.2 | 0 | 0 | 3 | 0 | 1 | 0.01 | ⋯ | 51 | 50 | TRUE | 0 | 41 | 6 | 2 | 6 | 1 | 367 |\n",
       "\n",
       "\n",
       "$fwd\n",
       ":   \n",
       "A tibble: 1 × 45\n",
       "\n",
       "| name &lt;chr&gt; | position &lt;chr&gt; | team &lt;chr&gt; | xP &lt;dbl&gt; | assists &lt;dbl&gt; | bonus &lt;dbl&gt; | bps &lt;dbl&gt; | clean_sheets &lt;dbl&gt; | creativity &lt;dbl&gt; | expected_assists &lt;dbl&gt; | ⋯ ⋯ | transfers_out &lt;dbl&gt; | value &lt;dbl&gt; | was_home &lt;lgl&gt; | yellow_cards &lt;dbl&gt; | GW &lt;dbl&gt; | player_id &lt;dbl&gt; | oID &lt;dbl&gt; | tID &lt;dbl&gt; | hID &lt;dbl&gt; | row_id &lt;dbl&gt; |\n",
       "|---|---|---|---|---|---|---|---|---|---|---|---|---|---|---|---|---|---|---|---|---|\n",
       "| Aaron Connolly | FWD | Brighton | 0 | 0 | 0 | 0 | 0 | 0 | 0 | ⋯ | 0 | 45 | TRUE | 0 | 39 | 2 | 15 | 5 | 1 | 8 |\n",
       "\n",
       "\n",
       "\n",
       "\n"
      ],
      "text/plain": [
       "$gk\n",
       "\u001b[90m# A tibble: 1 × 45\u001b[39m\n",
       "  name          position team     xP assists bonus   bps clean_sheets creativity\n",
       "  \u001b[3m\u001b[90m<chr>\u001b[39m\u001b[23m         \u001b[3m\u001b[90m<chr>\u001b[39m\u001b[23m    \u001b[3m\u001b[90m<chr>\u001b[39m\u001b[23m \u001b[3m\u001b[90m<dbl>\u001b[39m\u001b[23m   \u001b[3m\u001b[90m<dbl>\u001b[39m\u001b[23m \u001b[3m\u001b[90m<dbl>\u001b[39m\u001b[23m \u001b[3m\u001b[90m<dbl>\u001b[39m\u001b[23m        \u001b[3m\u001b[90m<dbl>\u001b[39m\u001b[23m      \u001b[3m\u001b[90m<dbl>\u001b[39m\u001b[23m\n",
       "\u001b[90m1\u001b[39m Aaron Ramsda… GK       Arse…   3.6       0     0    25            1          0\n",
       "\u001b[90m# ℹ 36 more variables: expected_assists <dbl>,\u001b[39m\n",
       "\u001b[90m#   expected_goal_involvements <dbl>, expected_goals <dbl>,\u001b[39m\n",
       "\u001b[90m#   expected_goals_conceded <dbl>, fixture <dbl>, goals_conceded <dbl>,\u001b[39m\n",
       "\u001b[90m#   goals_scored <dbl>, ict_index <dbl>, influence <dbl>, kickoff_time <dttm>,\u001b[39m\n",
       "\u001b[90m#   minutes <dbl>, opponent_team <chr>, own_goals <dbl>,\u001b[39m\n",
       "\u001b[90m#   penalties_missed <dbl>, penalties_saved <dbl>, red_cards <dbl>,\u001b[39m\n",
       "\u001b[90m#   round <dbl>, saves <dbl>, selected <dbl>, starts <dbl>, …\u001b[39m\n",
       "\n",
       "$def\n",
       "\u001b[90m# A tibble: 1 × 45\u001b[39m\n",
       "  name          position team     xP assists bonus   bps clean_sheets creativity\n",
       "  \u001b[3m\u001b[90m<chr>\u001b[39m\u001b[23m         \u001b[3m\u001b[90m<chr>\u001b[39m\u001b[23m    \u001b[3m\u001b[90m<chr>\u001b[39m\u001b[23m \u001b[3m\u001b[90m<dbl>\u001b[39m\u001b[23m   \u001b[3m\u001b[90m<dbl>\u001b[39m\u001b[23m \u001b[3m\u001b[90m<dbl>\u001b[39m\u001b[23m \u001b[3m\u001b[90m<dbl>\u001b[39m\u001b[23m        \u001b[3m\u001b[90m<dbl>\u001b[39m\u001b[23m      \u001b[3m\u001b[90m<dbl>\u001b[39m\u001b[23m\n",
       "\u001b[90m1\u001b[39m Aaron Anselm… DEF      Chel…   1.8       0     0     0            0          0\n",
       "\u001b[90m# ℹ 36 more variables: expected_assists <dbl>,\u001b[39m\n",
       "\u001b[90m#   expected_goal_involvements <dbl>, expected_goals <dbl>,\u001b[39m\n",
       "\u001b[90m#   expected_goals_conceded <dbl>, fixture <dbl>, goals_conceded <dbl>,\u001b[39m\n",
       "\u001b[90m#   goals_scored <dbl>, ict_index <dbl>, influence <dbl>, kickoff_time <dttm>,\u001b[39m\n",
       "\u001b[90m#   minutes <dbl>, opponent_team <chr>, own_goals <dbl>,\u001b[39m\n",
       "\u001b[90m#   penalties_missed <dbl>, penalties_saved <dbl>, red_cards <dbl>,\u001b[39m\n",
       "\u001b[90m#   round <dbl>, saves <dbl>, selected <dbl>, starts <dbl>, …\u001b[39m\n",
       "\n",
       "$mid\n",
       "\u001b[90m# A tibble: 1 × 45\u001b[39m\n",
       "  name         position team      xP assists bonus   bps clean_sheets creativity\n",
       "  \u001b[3m\u001b[90m<chr>\u001b[39m\u001b[23m        \u001b[3m\u001b[90m<chr>\u001b[39m\u001b[23m    \u001b[3m\u001b[90m<chr>\u001b[39m\u001b[23m  \u001b[3m\u001b[90m<dbl>\u001b[39m\u001b[23m   \u001b[3m\u001b[90m<dbl>\u001b[39m\u001b[23m \u001b[3m\u001b[90m<dbl>\u001b[39m\u001b[23m \u001b[3m\u001b[90m<dbl>\u001b[39m\u001b[23m        \u001b[3m\u001b[90m<dbl>\u001b[39m\u001b[23m      \u001b[3m\u001b[90m<dbl>\u001b[39m\u001b[23m\n",
       "\u001b[90m1\u001b[39m Aaron Ramsey MID      Burnl…   1.2       0     0     3            0          1\n",
       "\u001b[90m# ℹ 36 more variables: expected_assists <dbl>,\u001b[39m\n",
       "\u001b[90m#   expected_goal_involvements <dbl>, expected_goals <dbl>,\u001b[39m\n",
       "\u001b[90m#   expected_goals_conceded <dbl>, fixture <dbl>, goals_conceded <dbl>,\u001b[39m\n",
       "\u001b[90m#   goals_scored <dbl>, ict_index <dbl>, influence <dbl>, kickoff_time <dttm>,\u001b[39m\n",
       "\u001b[90m#   minutes <dbl>, opponent_team <chr>, own_goals <dbl>,\u001b[39m\n",
       "\u001b[90m#   penalties_missed <dbl>, penalties_saved <dbl>, red_cards <dbl>,\u001b[39m\n",
       "\u001b[90m#   round <dbl>, saves <dbl>, selected <dbl>, starts <dbl>, …\u001b[39m\n",
       "\n",
       "$fwd\n",
       "\u001b[90m# A tibble: 1 × 45\u001b[39m\n",
       "  name          position team     xP assists bonus   bps clean_sheets creativity\n",
       "  \u001b[3m\u001b[90m<chr>\u001b[39m\u001b[23m         \u001b[3m\u001b[90m<chr>\u001b[39m\u001b[23m    \u001b[3m\u001b[90m<chr>\u001b[39m\u001b[23m \u001b[3m\u001b[90m<dbl>\u001b[39m\u001b[23m   \u001b[3m\u001b[90m<dbl>\u001b[39m\u001b[23m \u001b[3m\u001b[90m<dbl>\u001b[39m\u001b[23m \u001b[3m\u001b[90m<dbl>\u001b[39m\u001b[23m        \u001b[3m\u001b[90m<dbl>\u001b[39m\u001b[23m      \u001b[3m\u001b[90m<dbl>\u001b[39m\u001b[23m\n",
       "\u001b[90m1\u001b[39m Aaron Connol… FWD      Brig…     0       0     0     0            0          0\n",
       "\u001b[90m# ℹ 36 more variables: expected_assists <dbl>,\u001b[39m\n",
       "\u001b[90m#   expected_goal_involvements <dbl>, expected_goals <dbl>,\u001b[39m\n",
       "\u001b[90m#   expected_goals_conceded <dbl>, fixture <dbl>, goals_conceded <dbl>,\u001b[39m\n",
       "\u001b[90m#   goals_scored <dbl>, ict_index <dbl>, influence <dbl>, kickoff_time <dttm>,\u001b[39m\n",
       "\u001b[90m#   minutes <dbl>, opponent_team <chr>, own_goals <dbl>,\u001b[39m\n",
       "\u001b[90m#   penalties_missed <dbl>, penalties_saved <dbl>, red_cards <dbl>,\u001b[39m\n",
       "\u001b[90m#   round <dbl>, saves <dbl>, selected <dbl>, starts <dbl>, …\u001b[39m\n"
      ]
     },
     "metadata": {},
     "output_type": "display_data"
    },
    {
     "data": {
      "text/html": [
       "<dl>\n",
       "\t<dt>$gk</dt>\n",
       "\t\t<dd><table class=\"dataframe\">\n",
       "<caption>A tibble: 1 × 45</caption>\n",
       "<thead>\n",
       "\t<tr><th scope=col>name</th><th scope=col>position</th><th scope=col>team</th><th scope=col>xP</th><th scope=col>assists</th><th scope=col>bonus</th><th scope=col>bps</th><th scope=col>clean_sheets</th><th scope=col>creativity</th><th scope=col>expected_assists</th><th scope=col>⋯</th><th scope=col>transfers_out</th><th scope=col>value</th><th scope=col>was_home</th><th scope=col>yellow_cards</th><th scope=col>GW</th><th scope=col>player_id</th><th scope=col>oID</th><th scope=col>tID</th><th scope=col>hID</th><th scope=col>row_id</th></tr>\n",
       "\t<tr><th scope=col>&lt;chr&gt;</th><th scope=col>&lt;chr&gt;</th><th scope=col>&lt;chr&gt;</th><th scope=col>&lt;dbl&gt;</th><th scope=col>&lt;dbl&gt;</th><th scope=col>&lt;dbl&gt;</th><th scope=col>&lt;dbl&gt;</th><th scope=col>&lt;dbl&gt;</th><th scope=col>&lt;dbl&gt;</th><th scope=col>&lt;dbl&gt;</th><th scope=col>⋯</th><th scope=col>&lt;dbl&gt;</th><th scope=col>&lt;dbl&gt;</th><th scope=col>&lt;lgl&gt;</th><th scope=col>&lt;dbl&gt;</th><th scope=col>&lt;dbl&gt;</th><th scope=col>&lt;dbl&gt;</th><th scope=col>&lt;dbl&gt;</th><th scope=col>&lt;dbl&gt;</th><th scope=col>&lt;dbl&gt;</th><th scope=col>&lt;dbl&gt;</th></tr>\n",
       "</thead>\n",
       "<tbody>\n",
       "\t<tr><td>Zack Steffen</td><td>GK</td><td>Man City</td><td>0</td><td>0</td><td>0</td><td>0</td><td>0</td><td>0</td><td>0</td><td>⋯</td><td>154</td><td>39</td><td>TRUE</td><td>0</td><td>76</td><td>1330</td><td>23</td><td>16</td><td>1</td><td>77933</td></tr>\n",
       "</tbody>\n",
       "</table>\n",
       "</dd>\n",
       "\t<dt>$def</dt>\n",
       "\t\t<dd><table class=\"dataframe\">\n",
       "<caption>A tibble: 1 × 45</caption>\n",
       "<thead>\n",
       "\t<tr><th scope=col>name</th><th scope=col>position</th><th scope=col>team</th><th scope=col>xP</th><th scope=col>assists</th><th scope=col>bonus</th><th scope=col>bps</th><th scope=col>clean_sheets</th><th scope=col>creativity</th><th scope=col>expected_assists</th><th scope=col>⋯</th><th scope=col>transfers_out</th><th scope=col>value</th><th scope=col>was_home</th><th scope=col>yellow_cards</th><th scope=col>GW</th><th scope=col>player_id</th><th scope=col>oID</th><th scope=col>tID</th><th scope=col>hID</th><th scope=col>row_id</th></tr>\n",
       "\t<tr><th scope=col>&lt;chr&gt;</th><th scope=col>&lt;chr&gt;</th><th scope=col>&lt;chr&gt;</th><th scope=col>&lt;dbl&gt;</th><th scope=col>&lt;dbl&gt;</th><th scope=col>&lt;dbl&gt;</th><th scope=col>&lt;dbl&gt;</th><th scope=col>&lt;dbl&gt;</th><th scope=col>&lt;dbl&gt;</th><th scope=col>&lt;dbl&gt;</th><th scope=col>⋯</th><th scope=col>&lt;dbl&gt;</th><th scope=col>&lt;dbl&gt;</th><th scope=col>&lt;lgl&gt;</th><th scope=col>&lt;dbl&gt;</th><th scope=col>&lt;dbl&gt;</th><th scope=col>&lt;dbl&gt;</th><th scope=col>&lt;dbl&gt;</th><th scope=col>&lt;dbl&gt;</th><th scope=col>&lt;dbl&gt;</th><th scope=col>&lt;dbl&gt;</th></tr>\n",
       "</thead>\n",
       "<tbody>\n",
       "\t<tr><td>Zak Sturge</td><td>DEF</td><td>Chelsea</td><td>0</td><td>0</td><td>0</td><td>0</td><td>0</td><td>0</td><td>0</td><td>⋯</td><td>16</td><td>40</td><td>TRUE</td><td>0</td><td>76</td><td>1332</td><td>3</td><td>7</td><td>1</td><td>77949</td></tr>\n",
       "</tbody>\n",
       "</table>\n",
       "</dd>\n",
       "\t<dt>$mid</dt>\n",
       "\t\t<dd><table class=\"dataframe\">\n",
       "<caption>A tibble: 1 × 45</caption>\n",
       "<thead>\n",
       "\t<tr><th scope=col>name</th><th scope=col>position</th><th scope=col>team</th><th scope=col>xP</th><th scope=col>assists</th><th scope=col>bonus</th><th scope=col>bps</th><th scope=col>clean_sheets</th><th scope=col>creativity</th><th scope=col>expected_assists</th><th scope=col>⋯</th><th scope=col>transfers_out</th><th scope=col>value</th><th scope=col>was_home</th><th scope=col>yellow_cards</th><th scope=col>GW</th><th scope=col>player_id</th><th scope=col>oID</th><th scope=col>tID</th><th scope=col>hID</th><th scope=col>row_id</th></tr>\n",
       "\t<tr><th scope=col>&lt;chr&gt;</th><th scope=col>&lt;chr&gt;</th><th scope=col>&lt;chr&gt;</th><th scope=col>&lt;dbl&gt;</th><th scope=col>&lt;dbl&gt;</th><th scope=col>&lt;dbl&gt;</th><th scope=col>&lt;dbl&gt;</th><th scope=col>&lt;dbl&gt;</th><th scope=col>&lt;dbl&gt;</th><th scope=col>&lt;dbl&gt;</th><th scope=col>⋯</th><th scope=col>&lt;dbl&gt;</th><th scope=col>&lt;dbl&gt;</th><th scope=col>&lt;lgl&gt;</th><th scope=col>&lt;dbl&gt;</th><th scope=col>&lt;dbl&gt;</th><th scope=col>&lt;dbl&gt;</th><th scope=col>&lt;dbl&gt;</th><th scope=col>&lt;dbl&gt;</th><th scope=col>&lt;dbl&gt;</th><th scope=col>&lt;dbl&gt;</th></tr>\n",
       "</thead>\n",
       "<tbody>\n",
       "\t<tr><td>Zidane Iqbal</td><td>MID</td><td>Man United</td><td>0</td><td>0</td><td>0</td><td>0</td><td>0</td><td>0</td><td>0</td><td>⋯</td><td>119</td><td>42</td><td>TRUE</td><td>0</td><td>38</td><td>1334</td><td>10</td><td>17</td><td>1</td><td>78025</td></tr>\n",
       "</tbody>\n",
       "</table>\n",
       "</dd>\n",
       "\t<dt>$fwd</dt>\n",
       "\t\t<dd><table class=\"dataframe\">\n",
       "<caption>A tibble: 1 × 45</caption>\n",
       "<thead>\n",
       "\t<tr><th scope=col>name</th><th scope=col>position</th><th scope=col>team</th><th scope=col>xP</th><th scope=col>assists</th><th scope=col>bonus</th><th scope=col>bps</th><th scope=col>clean_sheets</th><th scope=col>creativity</th><th scope=col>expected_assists</th><th scope=col>⋯</th><th scope=col>transfers_out</th><th scope=col>value</th><th scope=col>was_home</th><th scope=col>yellow_cards</th><th scope=col>GW</th><th scope=col>player_id</th><th scope=col>oID</th><th scope=col>tID</th><th scope=col>hID</th><th scope=col>row_id</th></tr>\n",
       "\t<tr><th scope=col>&lt;chr&gt;</th><th scope=col>&lt;chr&gt;</th><th scope=col>&lt;chr&gt;</th><th scope=col>&lt;dbl&gt;</th><th scope=col>&lt;dbl&gt;</th><th scope=col>&lt;dbl&gt;</th><th scope=col>&lt;dbl&gt;</th><th scope=col>&lt;dbl&gt;</th><th scope=col>&lt;dbl&gt;</th><th scope=col>&lt;dbl&gt;</th><th scope=col>⋯</th><th scope=col>&lt;dbl&gt;</th><th scope=col>&lt;dbl&gt;</th><th scope=col>&lt;lgl&gt;</th><th scope=col>&lt;dbl&gt;</th><th scope=col>&lt;dbl&gt;</th><th scope=col>&lt;dbl&gt;</th><th scope=col>&lt;dbl&gt;</th><th scope=col>&lt;dbl&gt;</th><th scope=col>&lt;dbl&gt;</th><th scope=col>&lt;dbl&gt;</th></tr>\n",
       "</thead>\n",
       "<tbody>\n",
       "\t<tr><td>Zeki Amdouni</td><td>FWD</td><td>Burnley</td><td>2.3</td><td>0</td><td>0</td><td>-2</td><td>0</td><td>14.3</td><td>0.04</td><td>⋯</td><td>795</td><td>51</td><td>TRUE</td><td>0</td><td>76</td><td>1333</td><td>19</td><td>6</td><td>1</td><td>77987</td></tr>\n",
       "</tbody>\n",
       "</table>\n",
       "</dd>\n",
       "</dl>\n"
      ],
      "text/latex": [
       "\\begin{description}\n",
       "\\item[\\$gk] A tibble: 1 × 45\n",
       "\\begin{tabular}{lllllllllllllllllllll}\n",
       " name & position & team & xP & assists & bonus & bps & clean\\_sheets & creativity & expected\\_assists & ⋯ & transfers\\_out & value & was\\_home & yellow\\_cards & GW & player\\_id & oID & tID & hID & row\\_id\\\\\n",
       " <chr> & <chr> & <chr> & <dbl> & <dbl> & <dbl> & <dbl> & <dbl> & <dbl> & <dbl> & ⋯ & <dbl> & <dbl> & <lgl> & <dbl> & <dbl> & <dbl> & <dbl> & <dbl> & <dbl> & <dbl>\\\\\n",
       "\\hline\n",
       "\t Zack Steffen & GK & Man City & 0 & 0 & 0 & 0 & 0 & 0 & 0 & ⋯ & 154 & 39 & TRUE & 0 & 76 & 1330 & 23 & 16 & 1 & 77933\\\\\n",
       "\\end{tabular}\n",
       "\n",
       "\\item[\\$def] A tibble: 1 × 45\n",
       "\\begin{tabular}{lllllllllllllllllllll}\n",
       " name & position & team & xP & assists & bonus & bps & clean\\_sheets & creativity & expected\\_assists & ⋯ & transfers\\_out & value & was\\_home & yellow\\_cards & GW & player\\_id & oID & tID & hID & row\\_id\\\\\n",
       " <chr> & <chr> & <chr> & <dbl> & <dbl> & <dbl> & <dbl> & <dbl> & <dbl> & <dbl> & ⋯ & <dbl> & <dbl> & <lgl> & <dbl> & <dbl> & <dbl> & <dbl> & <dbl> & <dbl> & <dbl>\\\\\n",
       "\\hline\n",
       "\t Zak Sturge & DEF & Chelsea & 0 & 0 & 0 & 0 & 0 & 0 & 0 & ⋯ & 16 & 40 & TRUE & 0 & 76 & 1332 & 3 & 7 & 1 & 77949\\\\\n",
       "\\end{tabular}\n",
       "\n",
       "\\item[\\$mid] A tibble: 1 × 45\n",
       "\\begin{tabular}{lllllllllllllllllllll}\n",
       " name & position & team & xP & assists & bonus & bps & clean\\_sheets & creativity & expected\\_assists & ⋯ & transfers\\_out & value & was\\_home & yellow\\_cards & GW & player\\_id & oID & tID & hID & row\\_id\\\\\n",
       " <chr> & <chr> & <chr> & <dbl> & <dbl> & <dbl> & <dbl> & <dbl> & <dbl> & <dbl> & ⋯ & <dbl> & <dbl> & <lgl> & <dbl> & <dbl> & <dbl> & <dbl> & <dbl> & <dbl> & <dbl>\\\\\n",
       "\\hline\n",
       "\t Zidane Iqbal & MID & Man United & 0 & 0 & 0 & 0 & 0 & 0 & 0 & ⋯ & 119 & 42 & TRUE & 0 & 38 & 1334 & 10 & 17 & 1 & 78025\\\\\n",
       "\\end{tabular}\n",
       "\n",
       "\\item[\\$fwd] A tibble: 1 × 45\n",
       "\\begin{tabular}{lllllllllllllllllllll}\n",
       " name & position & team & xP & assists & bonus & bps & clean\\_sheets & creativity & expected\\_assists & ⋯ & transfers\\_out & value & was\\_home & yellow\\_cards & GW & player\\_id & oID & tID & hID & row\\_id\\\\\n",
       " <chr> & <chr> & <chr> & <dbl> & <dbl> & <dbl> & <dbl> & <dbl> & <dbl> & <dbl> & ⋯ & <dbl> & <dbl> & <lgl> & <dbl> & <dbl> & <dbl> & <dbl> & <dbl> & <dbl> & <dbl>\\\\\n",
       "\\hline\n",
       "\t Zeki Amdouni & FWD & Burnley & 2.3 & 0 & 0 & -2 & 0 & 14.3 & 0.04 & ⋯ & 795 & 51 & TRUE & 0 & 76 & 1333 & 19 & 6 & 1 & 77987\\\\\n",
       "\\end{tabular}\n",
       "\n",
       "\\end{description}\n"
      ],
      "text/markdown": [
       "$gk\n",
       ":   \n",
       "A tibble: 1 × 45\n",
       "\n",
       "| name &lt;chr&gt; | position &lt;chr&gt; | team &lt;chr&gt; | xP &lt;dbl&gt; | assists &lt;dbl&gt; | bonus &lt;dbl&gt; | bps &lt;dbl&gt; | clean_sheets &lt;dbl&gt; | creativity &lt;dbl&gt; | expected_assists &lt;dbl&gt; | ⋯ ⋯ | transfers_out &lt;dbl&gt; | value &lt;dbl&gt; | was_home &lt;lgl&gt; | yellow_cards &lt;dbl&gt; | GW &lt;dbl&gt; | player_id &lt;dbl&gt; | oID &lt;dbl&gt; | tID &lt;dbl&gt; | hID &lt;dbl&gt; | row_id &lt;dbl&gt; |\n",
       "|---|---|---|---|---|---|---|---|---|---|---|---|---|---|---|---|---|---|---|---|---|\n",
       "| Zack Steffen | GK | Man City | 0 | 0 | 0 | 0 | 0 | 0 | 0 | ⋯ | 154 | 39 | TRUE | 0 | 76 | 1330 | 23 | 16 | 1 | 77933 |\n",
       "\n",
       "\n",
       "$def\n",
       ":   \n",
       "A tibble: 1 × 45\n",
       "\n",
       "| name &lt;chr&gt; | position &lt;chr&gt; | team &lt;chr&gt; | xP &lt;dbl&gt; | assists &lt;dbl&gt; | bonus &lt;dbl&gt; | bps &lt;dbl&gt; | clean_sheets &lt;dbl&gt; | creativity &lt;dbl&gt; | expected_assists &lt;dbl&gt; | ⋯ ⋯ | transfers_out &lt;dbl&gt; | value &lt;dbl&gt; | was_home &lt;lgl&gt; | yellow_cards &lt;dbl&gt; | GW &lt;dbl&gt; | player_id &lt;dbl&gt; | oID &lt;dbl&gt; | tID &lt;dbl&gt; | hID &lt;dbl&gt; | row_id &lt;dbl&gt; |\n",
       "|---|---|---|---|---|---|---|---|---|---|---|---|---|---|---|---|---|---|---|---|---|\n",
       "| Zak Sturge | DEF | Chelsea | 0 | 0 | 0 | 0 | 0 | 0 | 0 | ⋯ | 16 | 40 | TRUE | 0 | 76 | 1332 | 3 | 7 | 1 | 77949 |\n",
       "\n",
       "\n",
       "$mid\n",
       ":   \n",
       "A tibble: 1 × 45\n",
       "\n",
       "| name &lt;chr&gt; | position &lt;chr&gt; | team &lt;chr&gt; | xP &lt;dbl&gt; | assists &lt;dbl&gt; | bonus &lt;dbl&gt; | bps &lt;dbl&gt; | clean_sheets &lt;dbl&gt; | creativity &lt;dbl&gt; | expected_assists &lt;dbl&gt; | ⋯ ⋯ | transfers_out &lt;dbl&gt; | value &lt;dbl&gt; | was_home &lt;lgl&gt; | yellow_cards &lt;dbl&gt; | GW &lt;dbl&gt; | player_id &lt;dbl&gt; | oID &lt;dbl&gt; | tID &lt;dbl&gt; | hID &lt;dbl&gt; | row_id &lt;dbl&gt; |\n",
       "|---|---|---|---|---|---|---|---|---|---|---|---|---|---|---|---|---|---|---|---|---|\n",
       "| Zidane Iqbal | MID | Man United | 0 | 0 | 0 | 0 | 0 | 0 | 0 | ⋯ | 119 | 42 | TRUE | 0 | 38 | 1334 | 10 | 17 | 1 | 78025 |\n",
       "\n",
       "\n",
       "$fwd\n",
       ":   \n",
       "A tibble: 1 × 45\n",
       "\n",
       "| name &lt;chr&gt; | position &lt;chr&gt; | team &lt;chr&gt; | xP &lt;dbl&gt; | assists &lt;dbl&gt; | bonus &lt;dbl&gt; | bps &lt;dbl&gt; | clean_sheets &lt;dbl&gt; | creativity &lt;dbl&gt; | expected_assists &lt;dbl&gt; | ⋯ ⋯ | transfers_out &lt;dbl&gt; | value &lt;dbl&gt; | was_home &lt;lgl&gt; | yellow_cards &lt;dbl&gt; | GW &lt;dbl&gt; | player_id &lt;dbl&gt; | oID &lt;dbl&gt; | tID &lt;dbl&gt; | hID &lt;dbl&gt; | row_id &lt;dbl&gt; |\n",
       "|---|---|---|---|---|---|---|---|---|---|---|---|---|---|---|---|---|---|---|---|---|\n",
       "| Zeki Amdouni | FWD | Burnley | 2.3 | 0 | 0 | -2 | 0 | 14.3 | 0.04 | ⋯ | 795 | 51 | TRUE | 0 | 76 | 1333 | 19 | 6 | 1 | 77987 |\n",
       "\n",
       "\n",
       "\n",
       "\n"
      ],
      "text/plain": [
       "$gk\n",
       "\u001b[90m# A tibble: 1 × 45\u001b[39m\n",
       "  name         position team      xP assists bonus   bps clean_sheets creativity\n",
       "  \u001b[3m\u001b[90m<chr>\u001b[39m\u001b[23m        \u001b[3m\u001b[90m<chr>\u001b[39m\u001b[23m    \u001b[3m\u001b[90m<chr>\u001b[39m\u001b[23m  \u001b[3m\u001b[90m<dbl>\u001b[39m\u001b[23m   \u001b[3m\u001b[90m<dbl>\u001b[39m\u001b[23m \u001b[3m\u001b[90m<dbl>\u001b[39m\u001b[23m \u001b[3m\u001b[90m<dbl>\u001b[39m\u001b[23m        \u001b[3m\u001b[90m<dbl>\u001b[39m\u001b[23m      \u001b[3m\u001b[90m<dbl>\u001b[39m\u001b[23m\n",
       "\u001b[90m1\u001b[39m Zack Steffen GK       Man C…     0       0     0     0            0          0\n",
       "\u001b[90m# ℹ 36 more variables: expected_assists <dbl>,\u001b[39m\n",
       "\u001b[90m#   expected_goal_involvements <dbl>, expected_goals <dbl>,\u001b[39m\n",
       "\u001b[90m#   expected_goals_conceded <dbl>, fixture <dbl>, goals_conceded <dbl>,\u001b[39m\n",
       "\u001b[90m#   goals_scored <dbl>, ict_index <dbl>, influence <dbl>, kickoff_time <dttm>,\u001b[39m\n",
       "\u001b[90m#   minutes <dbl>, opponent_team <chr>, own_goals <dbl>,\u001b[39m\n",
       "\u001b[90m#   penalties_missed <dbl>, penalties_saved <dbl>, red_cards <dbl>,\u001b[39m\n",
       "\u001b[90m#   round <dbl>, saves <dbl>, selected <dbl>, starts <dbl>, …\u001b[39m\n",
       "\n",
       "$def\n",
       "\u001b[90m# A tibble: 1 × 45\u001b[39m\n",
       "  name       position team       xP assists bonus   bps clean_sheets creativity\n",
       "  \u001b[3m\u001b[90m<chr>\u001b[39m\u001b[23m      \u001b[3m\u001b[90m<chr>\u001b[39m\u001b[23m    \u001b[3m\u001b[90m<chr>\u001b[39m\u001b[23m   \u001b[3m\u001b[90m<dbl>\u001b[39m\u001b[23m   \u001b[3m\u001b[90m<dbl>\u001b[39m\u001b[23m \u001b[3m\u001b[90m<dbl>\u001b[39m\u001b[23m \u001b[3m\u001b[90m<dbl>\u001b[39m\u001b[23m        \u001b[3m\u001b[90m<dbl>\u001b[39m\u001b[23m      \u001b[3m\u001b[90m<dbl>\u001b[39m\u001b[23m\n",
       "\u001b[90m1\u001b[39m Zak Sturge DEF      Chelsea     0       0     0     0            0          0\n",
       "\u001b[90m# ℹ 36 more variables: expected_assists <dbl>,\u001b[39m\n",
       "\u001b[90m#   expected_goal_involvements <dbl>, expected_goals <dbl>,\u001b[39m\n",
       "\u001b[90m#   expected_goals_conceded <dbl>, fixture <dbl>, goals_conceded <dbl>,\u001b[39m\n",
       "\u001b[90m#   goals_scored <dbl>, ict_index <dbl>, influence <dbl>, kickoff_time <dttm>,\u001b[39m\n",
       "\u001b[90m#   minutes <dbl>, opponent_team <chr>, own_goals <dbl>,\u001b[39m\n",
       "\u001b[90m#   penalties_missed <dbl>, penalties_saved <dbl>, red_cards <dbl>,\u001b[39m\n",
       "\u001b[90m#   round <dbl>, saves <dbl>, selected <dbl>, starts <dbl>, …\u001b[39m\n",
       "\n",
       "$mid\n",
       "\u001b[90m# A tibble: 1 × 45\u001b[39m\n",
       "  name         position team      xP assists bonus   bps clean_sheets creativity\n",
       "  \u001b[3m\u001b[90m<chr>\u001b[39m\u001b[23m        \u001b[3m\u001b[90m<chr>\u001b[39m\u001b[23m    \u001b[3m\u001b[90m<chr>\u001b[39m\u001b[23m  \u001b[3m\u001b[90m<dbl>\u001b[39m\u001b[23m   \u001b[3m\u001b[90m<dbl>\u001b[39m\u001b[23m \u001b[3m\u001b[90m<dbl>\u001b[39m\u001b[23m \u001b[3m\u001b[90m<dbl>\u001b[39m\u001b[23m        \u001b[3m\u001b[90m<dbl>\u001b[39m\u001b[23m      \u001b[3m\u001b[90m<dbl>\u001b[39m\u001b[23m\n",
       "\u001b[90m1\u001b[39m Zidane Iqbal MID      Man U…     0       0     0     0            0          0\n",
       "\u001b[90m# ℹ 36 more variables: expected_assists <dbl>,\u001b[39m\n",
       "\u001b[90m#   expected_goal_involvements <dbl>, expected_goals <dbl>,\u001b[39m\n",
       "\u001b[90m#   expected_goals_conceded <dbl>, fixture <dbl>, goals_conceded <dbl>,\u001b[39m\n",
       "\u001b[90m#   goals_scored <dbl>, ict_index <dbl>, influence <dbl>, kickoff_time <dttm>,\u001b[39m\n",
       "\u001b[90m#   minutes <dbl>, opponent_team <chr>, own_goals <dbl>,\u001b[39m\n",
       "\u001b[90m#   penalties_missed <dbl>, penalties_saved <dbl>, red_cards <dbl>,\u001b[39m\n",
       "\u001b[90m#   round <dbl>, saves <dbl>, selected <dbl>, starts <dbl>, …\u001b[39m\n",
       "\n",
       "$fwd\n",
       "\u001b[90m# A tibble: 1 × 45\u001b[39m\n",
       "  name         position team      xP assists bonus   bps clean_sheets creativity\n",
       "  \u001b[3m\u001b[90m<chr>\u001b[39m\u001b[23m        \u001b[3m\u001b[90m<chr>\u001b[39m\u001b[23m    \u001b[3m\u001b[90m<chr>\u001b[39m\u001b[23m  \u001b[3m\u001b[90m<dbl>\u001b[39m\u001b[23m   \u001b[3m\u001b[90m<dbl>\u001b[39m\u001b[23m \u001b[3m\u001b[90m<dbl>\u001b[39m\u001b[23m \u001b[3m\u001b[90m<dbl>\u001b[39m\u001b[23m        \u001b[3m\u001b[90m<dbl>\u001b[39m\u001b[23m      \u001b[3m\u001b[90m<dbl>\u001b[39m\u001b[23m\n",
       "\u001b[90m1\u001b[39m Zeki Amdouni FWD      Burnl…   2.3       0     0    -\u001b[31m2\u001b[39m            0       14.3\n",
       "\u001b[90m# ℹ 36 more variables: expected_assists <dbl>,\u001b[39m\n",
       "\u001b[90m#   expected_goal_involvements <dbl>, expected_goals <dbl>,\u001b[39m\n",
       "\u001b[90m#   expected_goals_conceded <dbl>, fixture <dbl>, goals_conceded <dbl>,\u001b[39m\n",
       "\u001b[90m#   goals_scored <dbl>, ict_index <dbl>, influence <dbl>, kickoff_time <dttm>,\u001b[39m\n",
       "\u001b[90m#   minutes <dbl>, opponent_team <chr>, own_goals <dbl>,\u001b[39m\n",
       "\u001b[90m#   penalties_missed <dbl>, penalties_saved <dbl>, red_cards <dbl>,\u001b[39m\n",
       "\u001b[90m#   round <dbl>, saves <dbl>, selected <dbl>, starts <dbl>, …\u001b[39m\n"
      ]
     },
     "metadata": {},
     "output_type": "display_data"
    },
    {
     "name": "stdout",
     "output_type": "stream",
     "text": [
      "spc_tbl_ [8,492 × 45] (S3: spec_tbl_df/tbl_df/tbl/data.frame)\n",
      " $ name                      : chr [1:8492] \"Aaron Ramsdale\" \"Aaron Ramsdale\" \"Aaron Ramsdale\" \"Aaron Ramsdale\" ...\n",
      " $ position                  : chr [1:8492] \"GK\" \"GK\" \"GK\" \"GK\" ...\n",
      " $ team                      : chr [1:8492] \"Arsenal\" \"Arsenal\" \"Arsenal\" \"Arsenal\" ...\n",
      " $ xP                        : num [1:8492] 3.6 4 5.3 4.8 3.9 2 3.5 3.3 2.5 5.3 ...\n",
      " $ assists                   : num [1:8492] 0 0 0 0 0 0 0 0 0 0 ...\n",
      " $ bonus                     : num [1:8492] 0 0 0 0 0 0 0 0 0 3 ...\n",
      " $ bps                       : num [1:8492] 25 10 20 12 13 14 24 12 15 32 ...\n",
      " $ clean_sheets              : num [1:8492] 1 0 1 0 0 0 1 0 0 1 ...\n",
      " $ creativity                : num [1:8492] 0 0 0 0 0 0 0 0 0 0 ...\n",
      " $ expected_assists          : num [1:8492] 0 0 0 0 0 0 0 0 0 0 ...\n",
      " $ expected_goal_involvements: num [1:8492] 0 0 0 0 0 0 0 0 0 0 ...\n",
      " $ expected_goals            : num [1:8492] 0 0 0 0 0 0 0 0 0 0 ...\n",
      " $ expected_goals_conceded   : num [1:8492] 0 0 0 0 0 0 0 0 0 0 ...\n",
      " $ fixture                   : num [1:8492] 1 11 21 31 41 56 72 81 91 104 ...\n",
      " $ goals_conceded            : num [1:8492] 0 2 0 1 1 3 0 1 2 0 ...\n",
      " $ goals_scored              : num [1:8492] 0 0 0 0 0 0 0 0 0 0 ...\n",
      " $ ict_index                 : num [1:8492] 1.9 1.2 0.8 1.9 1.7 2.5 1.8 1.9 1.3 3.5 ...\n",
      " $ influence                 : num [1:8492] 19 11.6 7.6 18.8 17.4 25.2 17.8 19.2 12.6 34.8 ...\n",
      " $ kickoff_time              : POSIXct[1:8492], format: \"2022-08-05 19:00:00\" \"2022-08-13 14:00:00\" ...\n",
      " $ minutes                   : num [1:8492] 90 90 90 90 90 90 90 90 90 90 ...\n",
      " $ opponent_team             : chr [1:8492] \"Crystal Palace\" \"Leeds\" \"Bournemouth\" \"Fulham\" ...\n",
      " $ own_goals                 : num [1:8492] 0 0 0 0 0 0 0 0 0 0 ...\n",
      " $ penalties_missed          : num [1:8492] 0 0 0 0 0 0 0 0 0 0 ...\n",
      " $ penalties_saved           : num [1:8492] 0 0 0 0 0 0 0 0 0 0 ...\n",
      " $ red_cards                 : num [1:8492] 0 0 0 0 0 0 0 0 0 0 ...\n",
      " $ round                     : num [1:8492] 1 2 3 4 5 6 8 9 10 11 ...\n",
      " $ saves                     : num [1:8492] 2 1 1 2 2 3 2 2 2 4 ...\n",
      " $ selected                  : num [1:8492] 1128297 1369348 1366505 1422476 1407588 ...\n",
      " $ starts                    : num [1:8492] 0 0 0 0 0 0 0 0 0 0 ...\n",
      " $ team_a_score              : num [1:8492] 2 2 3 1 1 1 3 1 2 1 ...\n",
      " $ team_h_score              : num [1:8492] 0 4 0 2 2 3 0 3 3 0 ...\n",
      " $ threat                    : num [1:8492] 0 0 0 0 0 0 0 0 0 0 ...\n",
      " $ total_points              : num [1:8492] 6 1 6 2 2 2 6 2 1 10 ...\n",
      " $ transfers_balance         : num [1:8492] 0 31287 -61359 -12169 -53340 ...\n",
      " $ transfers_in              : num [1:8492] 0 93632 88334 88190 48276 ...\n",
      " $ transfers_out             : num [1:8492] 0 62345 149693 100359 101616 ...\n",
      " $ value                     : num [1:8492] 50 50 50 50 50 50 49 49 49 49 ...\n",
      " $ was_home                  : logi [1:8492] FALSE TRUE FALSE TRUE TRUE FALSE ...\n",
      " $ yellow_cards              : num [1:8492] 0 0 0 0 0 0 0 0 0 0 ...\n",
      " $ GW                        : num [1:8492] 1 2 3 4 5 6 8 9 10 11 ...\n",
      " $ player_id                 : num [1:8492] 5 5 5 5 5 5 5 5 5 5 ...\n",
      " $ oID                       : num [1:8492] 8 12 3 10 2 17 4 22 14 13 ...\n",
      " $ tID                       : num [1:8492] 1 1 1 1 1 1 1 1 1 1 ...\n",
      " $ hID                       : num [1:8492] 0 1 0 1 1 0 0 1 1 0 ...\n",
      " $ row_id                    : num [1:8492] 260 261 262 263 264 265 266 267 268 269 ...\n",
      " - attr(*, \"spec\")=\n",
      "  .. cols(\n",
      "  ..   name = \u001b[31mcol_character()\u001b[39m,\n",
      "  ..   position = \u001b[31mcol_character()\u001b[39m,\n",
      "  ..   team = \u001b[31mcol_character()\u001b[39m,\n",
      "  ..   xP = \u001b[32mcol_double()\u001b[39m,\n",
      "  ..   assists = \u001b[32mcol_double()\u001b[39m,\n",
      "  ..   bonus = \u001b[32mcol_double()\u001b[39m,\n",
      "  ..   bps = \u001b[32mcol_double()\u001b[39m,\n",
      "  ..   clean_sheets = \u001b[32mcol_double()\u001b[39m,\n",
      "  ..   creativity = \u001b[32mcol_double()\u001b[39m,\n",
      "  ..   expected_assists = \u001b[32mcol_double()\u001b[39m,\n",
      "  ..   expected_goal_involvements = \u001b[32mcol_double()\u001b[39m,\n",
      "  ..   expected_goals = \u001b[32mcol_double()\u001b[39m,\n",
      "  ..   expected_goals_conceded = \u001b[32mcol_double()\u001b[39m,\n",
      "  ..   fixture = \u001b[32mcol_double()\u001b[39m,\n",
      "  ..   goals_conceded = \u001b[32mcol_double()\u001b[39m,\n",
      "  ..   goals_scored = \u001b[32mcol_double()\u001b[39m,\n",
      "  ..   ict_index = \u001b[32mcol_double()\u001b[39m,\n",
      "  ..   influence = \u001b[32mcol_double()\u001b[39m,\n",
      "  ..   kickoff_time = \u001b[34mcol_datetime(format = \"\")\u001b[39m,\n",
      "  ..   minutes = \u001b[32mcol_double()\u001b[39m,\n",
      "  ..   opponent_team = \u001b[31mcol_character()\u001b[39m,\n",
      "  ..   own_goals = \u001b[32mcol_double()\u001b[39m,\n",
      "  ..   penalties_missed = \u001b[32mcol_double()\u001b[39m,\n",
      "  ..   penalties_saved = \u001b[32mcol_double()\u001b[39m,\n",
      "  ..   red_cards = \u001b[32mcol_double()\u001b[39m,\n",
      "  ..   round = \u001b[32mcol_double()\u001b[39m,\n",
      "  ..   saves = \u001b[32mcol_double()\u001b[39m,\n",
      "  ..   selected = \u001b[32mcol_double()\u001b[39m,\n",
      "  ..   starts = \u001b[32mcol_double()\u001b[39m,\n",
      "  ..   team_a_score = \u001b[32mcol_double()\u001b[39m,\n",
      "  ..   team_h_score = \u001b[32mcol_double()\u001b[39m,\n",
      "  ..   threat = \u001b[32mcol_double()\u001b[39m,\n",
      "  ..   total_points = \u001b[32mcol_double()\u001b[39m,\n",
      "  ..   transfers_balance = \u001b[32mcol_double()\u001b[39m,\n",
      "  ..   transfers_in = \u001b[32mcol_double()\u001b[39m,\n",
      "  ..   transfers_out = \u001b[32mcol_double()\u001b[39m,\n",
      "  ..   value = \u001b[32mcol_double()\u001b[39m,\n",
      "  ..   was_home = \u001b[33mcol_logical()\u001b[39m,\n",
      "  ..   yellow_cards = \u001b[32mcol_double()\u001b[39m,\n",
      "  ..   GW = \u001b[32mcol_double()\u001b[39m,\n",
      "  ..   player_id = \u001b[32mcol_double()\u001b[39m,\n",
      "  ..   oID = \u001b[32mcol_double()\u001b[39m,\n",
      "  ..   tID = \u001b[32mcol_double()\u001b[39m,\n",
      "  ..   hID = \u001b[32mcol_double()\u001b[39m,\n",
      "  ..   row_id = \u001b[32mcol_double()\u001b[39m\n",
      "  .. )\n",
      " - attr(*, \"problems\")=<externalptr> \n"
     ]
    }
   ],
   "source": [
    "#----------------------------\n",
    "# 0.1: Oppdeling etter posisjon\n",
    "#----------------------------\n",
    "gk <- alternativsammensatt |>\n",
    "  filter(position == \"GK\")\n",
    "\n",
    "def <- alternativsammensatt |>\n",
    "  filter(position == \"DEF\")\n",
    "\n",
    "mid <- alternativsammensatt |>\n",
    "  filter(position == \"MID\")\n",
    "\n",
    "fwd <- alternativsammensatt |>\n",
    "  filter(position == \"FWD\")\n",
    "\n",
    "posliste <- list(gk = gk, def = def, mid = mid, fwd = fwd)\n",
    "lapply(posliste, head, n = 1);lapply(posliste, tail, n = 1)\n",
    "str(gk)\n",
    "\n",
    "unscaled_gk <- gk\n",
    "unscaled_def <- def\n",
    "unscaled_mid <- mid\n",
    "unscaled_fwd <- fwd"
   ]
  },
  {
   "cell_type": "markdown",
   "metadata": {
    "_cell_guid": "61ea3df6-ae02-4420-a20c-efb4dcc21e1f",
    "_uuid": "ee347fdb-11f4-4275-9eea-8d7dde8b07d8",
    "collapsed": false,
    "jupyter": {
     "outputs_hidden": false
    },
    "trusted": true
   },
   "source": [
    "# 1: Målvakter "
   ]
  },
  {
   "cell_type": "markdown",
   "metadata": {},
   "source": [
    "## 1.1 Definer variabler, målvariabel og skalering GK"
   ]
  },
  {
   "cell_type": "code",
   "execution_count": 1,
   "metadata": {
    "_cell_guid": "132a249e-0180-4546-b624-d6109dbdc88d",
    "_uuid": "db129882-5cb5-44f8-848c-087b2eeee32a",
    "collapsed": false,
    "execution": {
     "iopub.execute_input": "2025-04-24T11:45:18.913598Z",
     "iopub.status.busy": "2025-04-24T11:45:18.912052Z",
     "iopub.status.idle": "2025-04-24T11:45:18.964859Z",
     "shell.execute_reply": "2025-04-24T11:45:18.963206Z"
    },
    "jupyter": {
     "outputs_hidden": false
    },
    "trusted": true,
    "vscode": {
     "languageId": "r"
    }
   },
   "outputs": [
    {
     "name": "stdout",
     "output_type": "stream",
     "text": [
      "Numeriske features: assists creativity minutes goals_conceded saves bonus bps expected_assists expected_goal_involvements expected_goals ict_index own_goals red_cards threat transfers_in transfers_out yellow_cards expected_goals_conceded penalties_saved value selected transfers_balance starts influence clean_sheets \n",
      "Kategoriske features: player_id tID oID hID \n",
      "Target variabel: total_points \n",
      "Ferdig"
     ]
    },
    {
     "ename": "ERROR",
     "evalue": "Error: object 'gk' not found\n",
     "output_type": "error",
     "traceback": [
      "Error: object 'gk' not found\nTraceback:\n",
      "1. .handleSimpleError(function (cnd) \n . {\n .     watcher$capture_plot_and_output()\n .     cnd <- sanitize_call(cnd)\n .     watcher$push(cnd)\n .     switch(on_error, continue = invokeRestart(\"eval_continue\"), \n .         stop = invokeRestart(\"eval_stop\"), error = NULL)\n . }, \"object 'gk' not found\", base::quote(eval(expr, envir)))"
     ]
    }
   ],
   "source": [
    "#----------------------------\n",
    "# Define Features, Target & Scale\n",
    "#----------------------------\n",
    "numF <- c(\"assists\", \"creativity\", \"minutes\", \"goals_conceded\", \"saves\",\n",
    "          \"bonus\", \"bps\", \"expected_assists\", \"expected_goal_involvements\",\n",
    "          \"expected_goals\", \"ict_index\", \"own_goals\", \"red_cards\",\n",
    "          \"threat\", \"transfers_in\", \"transfers_out\", \"yellow_cards\",\n",
    "          \"expected_goals_conceded\", \"penalties_saved\", \"value\",\n",
    "          \"selected\", \"transfers_balance\", \"starts\", \"influence\",\n",
    "          \"clean_sheets\")\n",
    "catF <- c(\"player_id\", \"tID\", \"oID\", \"hID\")\n",
    "tar <- \"total_points\"\n",
    "\n",
    "cat(\"Numeriske features:\", numF, \"\\n\")\n",
    "cat(\"Kategoriske features:\", catF, \"\\n\")\n",
    "cat(\"Target variabel:\", tar, \"\\n\")\n",
    "cat(\"Ferdig\")\n",
    "\n",
    "# Compute and store the mean and standard deviation for the target variable\n",
    "\n",
    "mu <- mean(gk[[tar]], na.rm = TRUE)\n",
    "sigma <- sd(gk[[tar]], na.rm = TRUE)\n",
    "\n",
    "# Scale numerical features and target\n",
    "gk <- gk %>%\n",
    "  mutate(across(all_of(numF), ~ (.x - mean(.x, na.rm = TRUE)) / sd(.x, na.rm = TRUE)),\n",
    "         !!tar := (.data[[tar]] - mu) / sigma)\n",
    "cat(\"Chunk ferdig\")"
   ]
  },
  {
   "cell_type": "markdown",
   "metadata": {
    "_cell_guid": "86f4e1ff-b36a-455c-922b-4930c393c6cf",
    "_uuid": "bc1b4d44-0312-4617-adcb-9ac0f49ad130",
    "collapsed": false,
    "jupyter": {
     "outputs_hidden": false
    },
    "trusted": true
   },
   "source": [
    "## 1.2 Bygging av rullerende vinduer GK"
   ]
  },
  {
   "cell_type": "code",
   "execution_count": null,
   "metadata": {
    "_cell_guid": "36f312b7-2fbf-4905-9f62-19b7d70711e6",
    "_uuid": "3024daa3-50d1-4776-a289-79d681c457fe",
    "collapsed": false,
    "execution": {
     "iopub.execute_input": "2025-04-24T11:45:18.968902Z",
     "iopub.status.busy": "2025-04-24T11:45:18.967541Z",
     "iopub.status.idle": "2025-04-24T11:45:22.290755Z",
     "shell.execute_reply": "2025-04-24T11:45:22.288673Z"
    },
    "jupyter": {
     "outputs_hidden": false
    },
    "trusted": true,
    "vscode": {
     "languageId": "r"
    }
   },
   "outputs": [
    {
     "name": "stdout",
     "output_type": "stream",
     "text": [
      "Kjørt"
     ]
    }
   ],
   "source": [
    "#----------------------------\n",
    "# 3. Build Rolling Windows\n",
    "#----------------------------\n",
    "# Define window size (number of past gameweeks to use)\n",
    "ws <- vindu\n",
    "\n",
    "# Build numerical rolling windows\n",
    "numW <- gk %>%\n",
    "  group_by(player_id) %>%\n",
    "  filter(n() > ws) %>%  # Only players with more than ws observations\n",
    "  group_modify(~ {\n",
    "    windows <- slide(.x[, numF],\n",
    "                     .f = ~ as.matrix(.x),\n",
    "                     .before = ws, \n",
    "                     .after = -1,\n",
    "                     .complete = TRUE)\n",
    "    valid_windows <- windows[(ws + 1):length(windows)]\n",
    "    target <- .x[[tar]][(ws + 1):nrow(.x)]\n",
    "    # Extract row_id for each valid window\n",
    "    rid <- .x$row_id[(ws + 1):nrow(.x)]\n",
    "    tibble(window = valid_windows, target = target, row_id = rid)\n",
    "  }) %>%\n",
    "  ungroup()\n",
    "numW <- numW %>%\n",
    "  left_join(gk %>% select(row_id, GW), by = \"row_id\")\n",
    "\n",
    "# Build categorical rolling windows (if needed for debugging; here we use only the current values)\n",
    "catW <- gk %>%\n",
    "  group_by(player_id) %>%\n",
    "  filter(n() > ws) %>%\n",
    "  group_modify(~ {\n",
    "    df <- ungroup(.x) %>% mutate(player_id = .y$player_id)\n",
    "    windows <- slide(df %>% select(all_of(catF)),\n",
    "                     .f = ~ as.matrix(.x),\n",
    "                     .before = ws,\n",
    "                     #.after = -1,\n",
    "                     .complete = TRUE)\n",
    "    valid_windows <- windows[(ws + 1):length(windows)]\n",
    "    target <- df[[tar]][(ws + 1):nrow(df)]\n",
    "    tibble(window = valid_windows, target = target)\n",
    "  }) %>%\n",
    "  ungroup()\n",
    "\n",
    "cat(\"Kjørt\")"
   ]
  },
  {
   "cell_type": "markdown",
   "metadata": {
    "_cell_guid": "280d59df-a79b-4f19-8fda-9c93f188d789",
    "_uuid": "6fc838df-0f1b-4cea-a563-9b4596dab29e",
    "collapsed": false,
    "jupyter": {
     "outputs_hidden": false
    },
    "trusted": true
   },
   "source": [
    "## 1.4 Lasso regresjon til variabelbearbeiding GK"
   ]
  },
  {
   "cell_type": "code",
   "execution_count": null,
   "metadata": {
    "_cell_guid": "3a42e45f-673f-4720-bc49-56fd14f373f4",
    "_uuid": "d2f6661b-560e-4bd6-859d-5e48ee74c0a2",
    "collapsed": false,
    "execution": {
     "iopub.execute_input": "2025-04-24T11:45:22.294850Z",
     "iopub.status.busy": "2025-04-24T11:45:22.293534Z",
     "iopub.status.idle": "2025-04-24T11:45:24.267107Z",
     "shell.execute_reply": "2025-04-24T11:45:24.265282Z"
    },
    "jupyter": {
     "outputs_hidden": false
    },
    "trusted": true,
    "vscode": {
     "languageId": "r"
    }
   },
   "outputs": [
    {
     "name": "stdout",
     "output_type": "stream",
     "text": [
      "Windows with NA:  0 \n",
      "Selected features:  assists minutes bonus bps expected_assists own_goals threat transfers_out expected_goals_conceded penalties_saved value selected transfers_balance clean_sheets \n"
     ]
    }
   ],
   "source": [
    "# Check for any NA in the windows before summary\n",
    "sumna <- sapply(numW$window, function(flatW) any(is.na(flatW)))\n",
    "cat(\"Windows with NA: \", sum(sumna), \"\\n\")\n",
    "\n",
    "#----------------------------\n",
    "# 4. Lasso regression\n",
    "#----------------------------\n",
    "\n",
    "# numW as data.matrix, tar as response variable\n",
    "aggmat <- lapply(numW$window, function(flatW){\n",
    "  colMeans(flatW, na.rm = TRUE)\n",
    "})\n",
    "x <- do.call(rbind, aggmat)\n",
    "y <- numW$target\n",
    "\n",
    "# K-fold CV\n",
    "cvfit <- cv.glmnet(x,y,alpha=1)\n",
    "minlambda <- cvfit$lambda.min\n",
    "\n",
    "lassofit <- glmnet(x,y,alpha = 1, lambda = minlambda)\n",
    "\n",
    "coef_lasso <- as.matrix(coef(lassofit))\n",
    "numF <- rownames(coef_lasso)[coef_lasso[,1] != 0]\n",
    "numF <- setdiff(numF, \"(Intercept)\")\n",
    "cat(\"Selected features: \", numF, \"\\n\")\n",
    "\n",
    "# repeat rolling window, now only containing selected features\n",
    "# Define window size (number of past gameweeks to use)\n",
    "ws <- vindu\n",
    "\n",
    "\n",
    "# Build numerical rolling windows\n",
    "numW <- gk %>%\n",
    "  group_by(player_id) %>%\n",
    "  filter(n() > ws) %>%  # Only players with more than ws observations\n",
    "  group_modify(~ {\n",
    "    windows <- slide(.x[, numF],\n",
    "                     .f = ~ as.matrix(.x),\n",
    "                     .before = ws, \n",
    "                     .after = -1,\n",
    "                     .complete = TRUE)\n",
    "    valid_windows <- windows[(ws + 1):length(windows)]\n",
    "    target <- .x[[tar]][(ws + 1):nrow(.x)]\n",
    "    # Extract row_id for each valid window\n",
    "    rid <- .x$row_id[(ws + 1):nrow(.x)]\n",
    "    tibble(window = valid_windows, target = target, row_id = rid)\n",
    "  }) %>%\n",
    "  ungroup()\n",
    "numW <- numW %>%\n",
    "  left_join(gk %>% select(row_id, GW), by = \"row_id\")"
   ]
  },
  {
   "cell_type": "markdown",
   "metadata": {
    "_cell_guid": "44391af2-2c20-4bc4-97a6-aba66d165781",
    "_uuid": "df14d33a-dc42-42c8-8f1c-b79bcb8cf07a",
    "collapsed": false,
    "jupyter": {
     "outputs_hidden": false
    },
    "trusted": true
   },
   "source": [
    "## 1.5 Convert Rolling Windows GK"
   ]
  },
  {
   "cell_type": "code",
   "execution_count": null,
   "metadata": {
    "_cell_guid": "9ce62fcf-b44a-4d62-aa75-5c9f28f65122",
    "_uuid": "5fec5b0f-d48c-4d8e-94c4-3eac325ed65e",
    "collapsed": false,
    "execution": {
     "iopub.execute_input": "2025-04-24T11:45:24.271396Z",
     "iopub.status.busy": "2025-04-24T11:45:24.269905Z",
     "iopub.status.idle": "2025-04-24T11:45:24.339963Z",
     "shell.execute_reply": "2025-04-24T11:45:24.338282Z"
    },
    "jupyter": {
     "outputs_hidden": false
    },
    "trusted": true,
    "vscode": {
     "languageId": "r"
    }
   },
   "outputs": [
    {
     "name": "stdout",
     "output_type": "stream",
     "text": [
      "Chunk ferdig"
     ]
    }
   ],
   "source": [
    "#============================\n",
    "# 5. Convert Rolling Windows to Arrays & Extract Targets\n",
    "#============================\n",
    "# Number of samples is the number of rows in numW\n",
    "nSamp <- nrow(numW)\n",
    "\n",
    "# Convert numerical windows to a 3D array of shape [nSamp, ws, length(numF)]\n",
    "num_array <- array(\n",
    "  unlist(numW$window),\n",
    "  dim = c(nSamp, ws, length(numF))\n",
    ")\n",
    "\n",
    "# Targets (scaled): a matrix with one column\n",
    "targets <- matrix(as.numeric(numW$target), ncol = 1)\n",
    "\n",
    "# For categorical inputs, extract the current categorical values from the last row of each window.\n",
    "# (If your windows were built solely from historical data, the \"current\" values need to come from the original data.)\n",
    "# Here, we use the categorical rolling windows and extract the last row:\n",
    "cat_current <- do.call(rbind, lapply(catW$window, function(mat) mat[nrow(mat), ]))\n",
    "# Split into separate matrices (each of shape [nSamp, 1])\n",
    "cat_player_id <- matrix(as.integer(cat_current[, \"player_id\"]), ncol = 1)\n",
    "cat_tID <- matrix(as.integer(cat_current[, \"tID\"]), ncol = 1)\n",
    "cat_oID <- matrix(as.integer(cat_current[, \"oID\"]), ncol = 1)\n",
    "cat_hID <- matrix(as.integer(cat_current[, \"hID\"]), ncol = 1)\n",
    "\n",
    "cat(\"Chunk ferdig\")"
   ]
  },
  {
   "cell_type": "markdown",
   "metadata": {
    "_cell_guid": "93e9b843-91c5-48d5-8be2-78d8cdd5bbf1",
    "_uuid": "c8e9a653-72fb-42f7-86d2-511883250d70",
    "collapsed": false,
    "jupyter": {
     "outputs_hidden": false
    },
    "trusted": true
   },
   "source": [
    "## 1.6 Data Splitt GK"
   ]
  },
  {
   "cell_type": "code",
   "execution_count": null,
   "metadata": {
    "_cell_guid": "39700b10-3362-44b6-ae5e-dd194dec24b4",
    "_uuid": "d0757646-34f7-4ba0-841f-4cd2ddd41ab1",
    "collapsed": false,
    "execution": {
     "iopub.execute_input": "2025-04-24T11:45:24.343940Z",
     "iopub.status.busy": "2025-04-24T11:45:24.342582Z",
     "iopub.status.idle": "2025-04-24T11:45:24.392394Z",
     "shell.execute_reply": "2025-04-24T11:45:24.390671Z"
    },
    "jupyter": {
     "outputs_hidden": false
    },
    "trusted": true,
    "vscode": {
     "languageId": "r"
    }
   },
   "outputs": [
    {
     "name": "stdout",
     "output_type": "stream",
     "text": [
      "Chunk ferdig"
     ]
    }
   ],
   "source": [
    "#============================\n",
    "# 6. Split Data into Training and Validation Sets\n",
    "#============================\n",
    "idx <- which(numW$GW <= split_gw)\n",
    "\n",
    "# Training data\n",
    "Xnum_train <- num_array[idx, , , drop = FALSE]\n",
    "cat_player_id_train <- cat_player_id[idx, , drop = FALSE]\n",
    "cat_tID_train <- cat_tID[idx, , drop = FALSE]\n",
    "cat_oID_train <- cat_oID[idx, , drop = FALSE]\n",
    "cat_hID_train <- cat_hID[idx, , drop = FALSE]\n",
    "y_train <- targets[idx, , drop = FALSE]\n",
    "\n",
    "# Validation data\n",
    "Xnum_val <- num_array[-idx, , , drop = FALSE]\n",
    "cat_player_id_val <- cat_player_id[-idx, , drop = FALSE]\n",
    "cat_tID_val <- cat_tID[-idx, , drop = FALSE]\n",
    "cat_oID_val <- cat_oID[-idx, , drop = FALSE]\n",
    "cat_hID_val <- cat_hID[-idx, , drop = FALSE]\n",
    "y_val <- targets[-idx, , drop = FALSE]\n",
    "\n",
    "# Also, extract the row IDs for the validation samples (for later joining)\n",
    "val_row_ids <- numW$row_id[-idx]\n",
    "\n",
    "cat(\"Chunk ferdig\")"
   ]
  },
  {
   "cell_type": "markdown",
   "metadata": {
    "_cell_guid": "e808f4ec-02f9-461f-93dc-1437015a1a69",
    "_uuid": "51ef4288-ae63-4f68-99a5-512ac5483fb3",
    "collapsed": false,
    "jupyter": {
     "outputs_hidden": false
    },
    "trusted": true
   },
   "source": [
    "## 1.7 Model GK"
   ]
  },
  {
   "cell_type": "code",
   "execution_count": null,
   "metadata": {
    "_cell_guid": "3a2fd2e4-214a-4624-a448-550e1db31964",
    "_uuid": "98e9fa7d-9983-4d22-a4a4-bfdc231c726c",
    "collapsed": false,
    "execution": {
     "iopub.execute_input": "2025-04-24T11:45:24.396352Z",
     "iopub.status.busy": "2025-04-24T11:45:24.395004Z",
     "iopub.status.idle": "2025-04-24T11:45:25.002224Z",
     "shell.execute_reply": "2025-04-24T11:45:25.000490Z"
    },
    "jupyter": {
     "outputs_hidden": false
    },
    "trusted": true,
    "vscode": {
     "languageId": "r"
    }
   },
   "outputs": [
    {
     "name": "stdout",
     "output_type": "stream",
     "text": [
      "Model: \"Goalkeeper_LSTM_Model\"\n",
      "________________________________________________________________________________\n",
      " Layer (type)           Output Shape            Param   Connected to            \n",
      "                                                 #                              \n",
      "================================================================================\n",
      " input_player_id (Inpu  [(None, 1)]             0       []                      \n",
      " tLayer)                                                                        \n",
      " input_tID (InputLayer  [(None, 1)]             0       []                      \n",
      " )                                                                              \n",
      " input_oID (InputLayer  [(None, 1)]             0       []                      \n",
      " )                                                                              \n",
      " input_hID (InputLayer  [(None, 1)]             0       []                      \n",
      " )                                                                              \n",
      " embedding_12 (Embeddi  (None, 1, 20)           26620   ['input_player_id[0][0]'\n",
      " ng)                                                    ]                       \n",
      " embedding_13 (Embeddi  (None, 1, 20)           500     ['input_tID[0][0]']     \n",
      " ng)                                                                            \n",
      " embedding_14 (Embeddi  (None, 1, 20)           500     ['input_oID[0][0]']     \n",
      " ng)                                                                            \n",
      " lambda_4 (Lambda)      (None, 1)               0       ['input_hID[0][0]']     \n",
      " input_seq (InputLayer  [(None, 3, 11)]         0       []                      \n",
      " )                                                                              \n",
      " flatten_16 (Flatten)   (None, 20)              0       ['embedding_12[0][0]']  \n",
      " flatten_17 (Flatten)   (None, 20)              0       ['embedding_13[0][0]']  \n",
      " flatten_18 (Flatten)   (None, 20)              0       ['embedding_14[0][0]']  \n",
      " flatten_19 (Flatten)   (None, 1)               0       ['lambda_4[0][0]']      \n",
      " lstm_4 (LSTM)          (None, 48)              11520   ['input_seq[0][0]']     \n",
      " concatenate_8 (Concat  (None, 61)              0       ['flatten_16[0][0]',    \n",
      " enate)                                                  'flatten_17[0][0]',    \n",
      "                                                         'flatten_18[0][0]',    \n",
      "                                                         'flatten_19[0][0]']    \n",
      " dropout_4 (Dropout)    (None, 48)              0       ['lstm_4[0][0]']        \n",
      " dense_12 (Dense)       (None, 16)              992     ['concatenate_8[0][0]'] \n",
      " concatenate_9 (Concat  (None, 64)              0       ['dropout_4[0][0]',     \n",
      " enate)                                                  'dense_12[0][0]']      \n",
      " dense_13 (Dense)       (None, 32)              2080    ['concatenate_9[0][0]'] \n",
      " dense_14 (Dense)       (None, 1)               33      ['dense_13[0][0]']      \n",
      "================================================================================\n",
      "Total params: 42245 (165.02 KB)\n",
      "Trainable params: 42245 (165.02 KB)\n",
      "Non-trainable params: 0 (0.00 Byte)\n",
      "________________________________________________________________________________\n"
     ]
    },
    {
     "data": {
      "image/png": "[encoded data removed]",
      "text/plain": [
       "plot without title"
      ]
     },
     "metadata": {
      "image/png": {
       "height": 420,
       "width": 420
      }
     },
     "output_type": "display_data"
    }
   ],
   "source": [
    "#============================\n",
    "# 7. Build the Model\n",
    "#============================\n",
    "# Define maximum values for categorical features\n",
    "num_players   <- max(gk$player_id)\n",
    "num_teams     <- max(gk$tID)\n",
    "num_opponents <- max(gk$oID)\n",
    " \n",
    "emb_dim <- 20  # Embedding dimension\n",
    "\n",
    "# Create input layers for current categorical values\n",
    "input_player_id <- layer_input(shape = c(1), dtype = \"int32\", name = \"input_player_id\")\n",
    "input_tID <- layer_input(shape = c(1), dtype = \"int32\", name = \"input_tID\")\n",
    "input_oID <- layer_input(shape = c(1), dtype = \"int32\", name = \"input_oID\")\n",
    "input_hID <- layer_input(shape = c(1), dtype = \"int32\", name = \"input_hID\")\n",
    "\n",
    "embedding_player_id <- input_player_id %>% \n",
    "  layer_embedding(input_dim = num_players + 1, output_dim = emb_dim, mask_zero = TRUE) %>% \n",
    "  layer_flatten()\n",
    "embedding_tID <- input_tID %>% \n",
    "  layer_embedding(input_dim = num_teams + 1, output_dim = emb_dim, mask_zero = TRUE) %>% \n",
    "  layer_flatten()\n",
    "embedding_oID <- input_oID %>% \n",
    "  layer_embedding(input_dim = num_opponents + 1, output_dim = emb_dim, mask_zero = TRUE) %>% \n",
    "  layer_flatten()\n",
    "# For hID, convert to float32 to match types\n",
    "input_hID_flat <- input_hID %>% \n",
    "  layer_lambda(function(x) tf$cast(x, tf$float32)) %>% \n",
    "  layer_flatten()\n",
    "\n",
    "# Merge categorical branch\n",
    "cat_merged <- layer_concatenate(list(embedding_player_id, embedding_tID, embedding_oID, input_hID_flat)) %>%\n",
    "  layer_dense(units = 16, activation = \"relu\")\n",
    "\n",
    "# Numerical branch: input for rolling window data\n",
    "input_seq <- layer_input(shape = c(ws, length(numF)), name = \"input_seq\")\n",
    "lstm_branch <- input_seq %>%\n",
    "  layer_lstm(units = 64, return_sequences = FALSE) %>%\n",
    "  layer_dropout(rate = 0.2)\n",
    "\n",
    "# Merge both branches and build the output\n",
    "merged <- layer_concatenate(list(lstm_branch, cat_merged))\n",
    "dense_layer <- merged %>% layer_dense(units = 32, activation = \"relu\")\n",
    "output <- dense_layer %>% layer_dense(units = 1, activation = \"linear\")\n",
    "\n",
    "# Build and compile the model\n",
    "model <- keras_model(\n",
    "  inputs = list(input_seq, input_player_id, input_tID, input_oID, input_hID),\n",
    "  outputs = output,\n",
    "    name = \"Goalkeeper_LSTM_Model\"\n",
    ")\n",
    "model %>% compile(\n",
    "  optimizer = optimizer_adam(),\n",
    "  loss = \"mse\",\n",
    "  metrics = metrics_regression,\n",
    "  run_eagerly = FALSE\n",
    ")\n",
    "\n",
    "summary(model)\n",
    "plot(model)\n",
    "\n",
    "# Access the Python keras module directly\n",
    "keras_python <- import(\"keras\")\n",
    "\n",
    "# Generate the plot with your desired parameters\n",
    "keras_python$utils$plot_model(\n",
    "  model,\n",
    "  to_file = \"model.png\",\n",
    "  show_shapes = FALSE,  # Set to TRUE to see tensor shapes\n",
    "  show_dtype = FALSE,\n",
    "  show_layer_names = TRUE,\n",
    "  rankdir = \"TB\",      # \"TB\" (top to bottom) or \"LR\" (left to right)\n",
    "  expand_nested = FALSE,\n",
    "  dpi = 200,\n",
    "  show_layer_activations = FALSE\n",
    ")\n",
    "\n",
    "# Display the image in R\n",
    "library(png) # or library(png) depending on your output format\n",
    "img <- readPNG(\"model.png\") # or readJPEG for jpeg format\n",
    "grid::grid.raster(img)"
   ]
  },
  {
   "cell_type": "markdown",
   "metadata": {
    "_cell_guid": "e78ad3be-b65f-43e9-952c-58aa2d66127a",
    "_uuid": "4dde9e0b-a4ab-4ed5-9481-a70ad373ef10",
    "collapsed": false,
    "jupyter": {
     "outputs_hidden": false
    },
    "trusted": true
   },
   "source": [
    "## FØR Fit av modellen GK\n",
    "\n",
    "1. Legger til funksjonen callback_early_stopping().\n",
    "- Patience := Hvor mange epoker skal den fortsette fra siste \"bunn\" verdien til loss funksjonen før den stopper tidlig og laster inn sist laveste observert prediksjons error.\n",
    "\n",
    "2. Legger til Checkpoints slik at vektene til modellen kan lagres\n",
    "\n",
    "3. callback_reduce_lr_on_plateau(): Denne funksjonen brukes for å automatisere leæringssteg. Factor bestemmer hvor mye vi skal korte ned på hvert læringssteg(i prosent) når vi ikke forbedrer val_loss etter patience p.\n",
    "![Grafisk fremstilling av hvordan funksjonen fungerer](https://www.jeremyjordan.me/content/images/2018/02/Screen-Shot-2018-02-24-at-11.47.09-AM.png)"
   ]
  },
  {
   "cell_type": "code",
   "execution_count": null,
   "metadata": {
    "_cell_guid": "9ebc28ba-61ac-496e-9d85-3aaf405a4c6c",
    "_uuid": "1ea21c9a-3d65-421c-8d37-24d74a2a4f68",
    "collapsed": false,
    "execution": {
     "iopub.execute_input": "2025-04-24T11:45:25.006289Z",
     "iopub.status.busy": "2025-04-24T11:45:25.004941Z",
     "iopub.status.idle": "2025-04-24T11:45:25.037161Z",
     "shell.execute_reply": "2025-04-24T11:45:25.035515Z"
    },
    "jupyter": {
     "outputs_hidden": false
    },
    "trusted": true,
    "vscode": {
     "languageId": "r"
    }
   },
   "outputs": [
    {
     "name": "stdout",
     "output_type": "stream",
     "text": [
      "Will save best GK weights to: R Forecast/best_gk.hdf5 \n",
      "GK scaling factors stored.\n"
     ]
    }
   ],
   "source": [
    "# Filepath for saving the BEST weights (unique for each position)\n",
    "weights_filepath_gk <- \"R Forecast/best_gk.hdf5\"\n",
    "cat(\"Will save best GK weights to:\", weights_filepath_gk, \"\\n\")\n",
    "\n",
    "# 1. Tidlig stopp funksjon, laster inn siste beste loss value.\n",
    "# patience: how many epochs to wait after last improvement before stopping\n",
    "# restore_best_weights: load the weights from the epoch with the best val_loss\n",
    "early_stopping <- callback_early_stopping(\n",
    "    monitor = \"val_loss\",\n",
    "    patience = num_patience, \n",
    "    restore_best_weights = TRUE\n",
    ")\n",
    "\n",
    "# 2. Model Checkpoint Callback (to save best weights)\n",
    "model_checkpoint <- callback_model_checkpoint(\n",
    "    filepath = weights_filepath_gk, # Path defined above\n",
    "    monitor = \"val_loss\",           # Monitor the same metric as early stopping\n",
    "    save_best_only = TRUE,          # IMPORTANT: Only save when val_loss improves\n",
    "    save_weights_only = TRUE,       # IMPORTANT: Save ONLY the weights, not the whole model\n",
    "    mode = \"min\",                   # We want to minimize loss\n",
    "    verbose = 1                     # Optional: print message when weights are saved\n",
    ")\n",
    "\n",
    "# 3. Reduce Learning Rate on Plateau Callback\n",
    "reduce_lr <- callback_reduce_lr_on_plateau(\n",
    "    monitor = \"val_loss\",  # Monitor validation loss (same as early stopping)\n",
    "    factor = 0.2,          # Reduce LR to 20% of its current value (lr * factor)\n",
    "    patience = num_patience,           # Reduce LR if val_loss doesn't improve for 5 epochs\n",
    "    min_lr = 1e-6,         # Don't reduce the LR below this value\n",
    "    verbose = 1            # Print a message when LR is reduced\n",
    ")\n",
    "\n",
    "scaling_factors$gk <- list(mu = mu,\n",
    "                           sigma = sigma,\n",
    "                           numF = numF) # numF here is the one selected by Lasso for GK\n",
    "cat(\"GK scaling factors stored.\\n\")"
   ]
  },
  {
   "cell_type": "markdown",
   "metadata": {
    "_cell_guid": "f1ca0f2c-cdf3-4071-926d-f31ea33b2ba3",
    "_uuid": "b7f1017e-2cae-43c9-9fd2-54cc03058596",
    "collapsed": false,
    "jupyter": {
     "outputs_hidden": false
    },
    "trusted": true
   },
   "source": [
    "## 1.8 Trening av modell"
   ]
  },
  {
   "cell_type": "code",
   "execution_count": null,
   "metadata": {
    "_cell_guid": "a1201a26-2b5f-4b14-8d5f-266ee1244c7d",
    "_uuid": "5cb9225e-6ae0-4004-a38d-0e2692a90457",
    "collapsed": false,
    "execution": {
     "iopub.execute_input": "2025-04-24T11:45:25.041170Z",
     "iopub.status.busy": "2025-04-24T11:45:25.039809Z",
     "iopub.status.idle": "2025-04-24T11:45:31.382833Z",
     "shell.execute_reply": "2025-04-24T11:45:31.381092Z"
    },
    "jupyter": {
     "outputs_hidden": false
    },
    "trusted": true,
    "vscode": {
     "languageId": "r"
    }
   },
   "outputs": [
    {
     "name": "stdout",
     "output_type": "stream",
     "text": [
      "Starting GK model training...\n",
      "GK model training finished.\n"
     ]
    }
   ],
   "source": [
    "#============================\n",
    "# 8. Train the Model\n",
    "#============================\n",
    "cat(\"Starting GK model training...\\n\")\n",
    "history <- model %>% fit(\n",
    "  x = list(\n",
    "    input_seq = Xnum_train,\n",
    "    input_player_id = cat_player_id_train,\n",
    "    input_tID = cat_tID_train,\n",
    "    input_oID = cat_oID_train,\n",
    "    input_hID = cat_hID_train\n",
    "  ),\n",
    "  y = y_train,\n",
    "  epochs = epoker,          \n",
    "  batch_size = 64,          # Try increasing batch size (e.g., 64 or 128) for speed\n",
    "  validation_data = list(\n",
    "    list(\n",
    "      input_seq = Xnum_val,\n",
    "      input_player_id = cat_player_id_val,\n",
    "      input_tID = cat_tID_val,\n",
    "      input_oID = cat_oID_val,\n",
    "      input_hID = cat_hID_val\n",
    "    ),\n",
    "    y_val\n",
    "  ),\n",
    "  # ADD THE CALLBACKS HERE\n",
    "  callbacks = list(early_stopping, model_checkpoint, reduce_lr)\n",
    ")\n",
    "cat(\"GK model training finished.\\n\")"
   ]
  },
  {
   "cell_type": "markdown",
   "metadata": {
    "_cell_guid": "831ce6d8-3ff5-4022-a679-fc82cd198363",
    "_uuid": "8d744a23-4a6b-45b3-88f5-1b9fdd6dc7f1",
    "collapsed": false,
    "jupyter": {
     "outputs_hidden": false
    },
    "trusted": true
   },
   "source": [
    "## 1.9 Lagre Modellvekter"
   ]
  },
  {
   "cell_type": "code",
   "execution_count": null,
   "metadata": {
    "_cell_guid": "826de212-4711-4432-8492-ad5962654abc",
    "_uuid": "f94d445e-43d0-43d6-a52c-958a0a65a497",
    "collapsed": false,
    "execution": {
     "iopub.execute_input": "2025-04-24T11:45:31.395457Z",
     "iopub.status.busy": "2025-04-24T11:45:31.394140Z",
     "iopub.status.idle": "2025-04-24T11:45:32.095366Z",
     "shell.execute_reply": "2025-04-24T11:45:32.093601Z"
    },
    "jupyter": {
     "outputs_hidden": false
    },
    "trusted": true,
    "vscode": {
     "languageId": "r"
    }
   },
   "outputs": [
    {
     "name": "stdout",
     "output_type": "stream",
     "text": [
      "Rows: 2,228\n",
      "Columns: 49\n",
      "$ row_id                        \u001b[3m\u001b[90m<dbl>\u001b[39m\u001b[23m 336, 337, 338, 339, 340, 341, 342, 343, …\n",
      "$ predicted_total_points_scaled \u001b[3m\u001b[90m<dbl>\u001b[39m\u001b[23m 0.6220449, 0.5485339, 0.4786783, 0.56290…\n",
      "$ actual_total_points_scaled    \u001b[3m\u001b[90m<dbl>\u001b[39m\u001b[23m -0.42194588, -0.42194588, 0.55840006, 1.…\n",
      "$ predicted_total_points        \u001b[3m\u001b[90m<dbl>\u001b[39m\u001b[23m 2.129842, 1.979872, 1.837360, 2.009196, …\n",
      "$ actual_total_points           \u001b[3m\u001b[90m<dbl>\u001b[39m\u001b[23m 0, 0, 2, 3, 3, 2, 2, 1, 4, 9, 0, 0, 0, 0…\n",
      "$ name                          \u001b[3m\u001b[90m<chr>\u001b[39m\u001b[23m \"Aaron Ramsdale\", \"Aaron Ramsdale\", \"Aar…\n",
      "$ position                      \u001b[3m\u001b[90m<chr>\u001b[39m\u001b[23m \"GK\", \"GK\", \"GK\", \"GK\", \"GK\", \"GK\", \"GK\"…\n",
      "$ team                          \u001b[3m\u001b[90m<chr>\u001b[39m\u001b[23m \"Arsenal\", \"Arsenal\", \"Southampton\", \"So…\n",
      "$ xP                            \u001b[3m\u001b[90m<dbl>\u001b[39m\u001b[23m 3.2, 1.0, 0.2, 0.7, 2.0, 2.2, 1.0, 1.2, …\n",
      "$ assists                       \u001b[3m\u001b[90m<dbl>\u001b[39m\u001b[23m 0, 0, 0, 0, 0, 0, 0, 0, 0, 0, 0, 0, 0, 0…\n",
      "$ bonus                         \u001b[3m\u001b[90m<dbl>\u001b[39m\u001b[23m 0, 0, 0, 0, 0, 0, 0, 0, 0, 2, 0, 0, 0, 0…\n",
      "$ bps                           \u001b[3m\u001b[90m<dbl>\u001b[39m\u001b[23m 0, 0, 5, 12, 15, 5, 5, -2, 24, 33, 5, 0,…\n",
      "$ clean_sheets                  \u001b[3m\u001b[90m<dbl>\u001b[39m\u001b[23m 0, 0, 0, 0, 0, 0, 0, 0, 0, 1, 0, 0, 0, 0…\n",
      "$ creativity                    \u001b[3m\u001b[90m<dbl>\u001b[39m\u001b[23m 0, 0, 0, 0, 0, 0, 0, 0, 0, 0, 0, 0, 0, 0…\n",
      "$ expected_assists              \u001b[3m\u001b[90m<dbl>\u001b[39m\u001b[23m 0.00, 0.00, 0.00, 0.00, 0.00, 0.00, 0.01…\n",
      "$ expected_goal_involvements    \u001b[3m\u001b[90m<dbl>\u001b[39m\u001b[23m 0.00, 0.00, 0.00, 0.00, 0.00, 0.00, 0.01…\n",
      "$ expected_goals                \u001b[3m\u001b[90m<dbl>\u001b[39m\u001b[23m 0, 0, 0, 0, 0, 0, 0, 0, 0, 0, 0, 0, 0, 0…\n",
      "$ expected_goals_conceded       \u001b[3m\u001b[90m<dbl>\u001b[39m\u001b[23m 0.00, 0.00, 2.78, 2.67, 1.69, 1.38, 2.83…\n",
      "$ fixture                       \u001b[3m\u001b[90m<dbl>\u001b[39m\u001b[23m 2, 11, 22, 38, 48, 52, 61, 78, 89, 98, 1…\n",
      "$ goals_conceded                \u001b[3m\u001b[90m<dbl>\u001b[39m\u001b[23m 0, 0, 3, 3, 1, 3, 3, 3, 1, 0, 2, 0, 0, 0…\n",
      "$ goals_scored                  \u001b[3m\u001b[90m<dbl>\u001b[39m\u001b[23m 0, 0, 0, 0, 0, 0, 0, 0, 0, 0, 0, 0, 0, 0…\n",
      "$ ict_index                     \u001b[3m\u001b[90m<dbl>\u001b[39m\u001b[23m 0.0, 0.0, 2.8, 4.5, 4.1, 2.3, 2.4, 1.3, …\n",
      "$ influence                     \u001b[3m\u001b[90m<dbl>\u001b[39m\u001b[23m 0.0, 0.0, 27.8, 45.4, 41.2, 22.8, 24.4, …\n",
      "$ kickoff_time                  \u001b[3m\u001b[90m<dttm>\u001b[39m\u001b[23m 2024-08-17 14:00:00, 2024-08-24 16:30:0…\n",
      "$ minutes                       \u001b[3m\u001b[90m<dbl>\u001b[39m\u001b[23m 0, 0, 90, 90, 90, 90, 90, 90, 90, 90, 90…\n",
      "$ opponent_team                 \u001b[3m\u001b[90m<chr>\u001b[39m\u001b[23m \"Wolves\", \"Aston Villa\", \"Brentford\", \"M…\n",
      "$ own_goals                     \u001b[3m\u001b[90m<dbl>\u001b[39m\u001b[23m 0, 0, 0, 0, 0, 0, 0, 0, 0, 0, 0, 0, 0, 0…\n",
      "$ penalties_missed              \u001b[3m\u001b[90m<dbl>\u001b[39m\u001b[23m 0, 0, 0, 0, 0, 0, 0, 0, 0, 0, 0, 0, 0, 0…\n",
      "$ penalties_saved               \u001b[3m\u001b[90m<dbl>\u001b[39m\u001b[23m 0, 0, 0, 0, 0, 0, 0, 0, 0, 0, 0, 0, 0, 0…\n",
      "$ red_cards                     \u001b[3m\u001b[90m<dbl>\u001b[39m\u001b[23m 0, 0, 0, 0, 0, 0, 0, 0, 0, 0, 0, 0, 0, 0…\n",
      "$ round                         \u001b[3m\u001b[90m<dbl>\u001b[39m\u001b[23m 1, 2, 3, 4, 5, 6, 7, 8, 9, 10, 11, 12, 1…\n",
      "$ saves                         \u001b[3m\u001b[90m<dbl>\u001b[39m\u001b[23m 0, 0, 4, 7, 5, 3, 3, 1, 6, 5, 2, 0, 0, 0…\n",
      "$ selected                      \u001b[3m\u001b[90m<dbl>\u001b[39m\u001b[23m 68531, 74765, 107644, 176635, 206185, 22…\n",
      "$ starts                        \u001b[3m\u001b[90m<dbl>\u001b[39m\u001b[23m 0, 0, 1, 1, 1, 1, 1, 1, 1, 1, 1, 0, 0, 0…\n",
      "$ team_a_score                  \u001b[3m\u001b[90m<dbl>\u001b[39m\u001b[23m 0, 2, 1, 3, 1, 1, 1, 3, 0, 0, 0, 3, 1, 5…\n",
      "$ team_h_score                  \u001b[3m\u001b[90m<dbl>\u001b[39m\u001b[23m 2, 0, 3, 0, 1, 3, 3, 2, 1, 1, 2, 2, 1, 1…\n",
      "$ threat                        \u001b[3m\u001b[90m<dbl>\u001b[39m\u001b[23m 0, 0, 0, 0, 0, 0, 0, 0, 0, 0, 0, 0, 0, 0…\n",
      "$ total_points                  \u001b[3m\u001b[90m<dbl>\u001b[39m\u001b[23m 0, 0, 2, 3, 3, 2, 2, 1, 4, 9, 0, 0, 0, 0…\n",
      "$ transfers_balance             \u001b[3m\u001b[90m<dbl>\u001b[39m\u001b[23m 0, -9669, 24647, 56313, 25228, 12742, -6…\n",
      "$ transfers_in                  \u001b[3m\u001b[90m<dbl>\u001b[39m\u001b[23m 0, 2378, 41306, 83072, 34765, 30311, 143…\n",
      "$ transfers_out                 \u001b[3m\u001b[90m<dbl>\u001b[39m\u001b[23m 0, 12047, 16659, 26759, 9537, 17569, 150…\n",
      "$ value                         \u001b[3m\u001b[90m<dbl>\u001b[39m\u001b[23m 45, 45, 44, 44, 44, 44, 44, 44, 44, 44, …\n",
      "$ was_home                      \u001b[3m\u001b[90m<lgl>\u001b[39m\u001b[23m TRUE, FALSE, FALSE, TRUE, TRUE, FALSE, F…\n",
      "$ yellow_cards                  \u001b[3m\u001b[90m<dbl>\u001b[39m\u001b[23m 0, 0, 0, 0, 0, 0, 0, 0, 0, 0, 1, 0, 0, 0…\n",
      "$ GW                            \u001b[3m\u001b[90m<dbl>\u001b[39m\u001b[23m 77, 78, 79, 80, 81, 82, 83, 84, 85, 86, …\n",
      "$ player_id                     \u001b[3m\u001b[90m<dbl>\u001b[39m\u001b[23m 5, 5, 5, 5, 5, 5, 5, 5, 5, 5, 5, 5, 5, 5…\n",
      "$ oID                           \u001b[3m\u001b[90m<dbl>\u001b[39m\u001b[23m 24, 2, 4, 17, 11, 3, 1, 13, 16, 9, 24, 1…\n",
      "$ tID                           \u001b[3m\u001b[90m<dbl>\u001b[39m\u001b[23m 1, 1, 21, 21, 21, 21, 21, 21, 21, 21, 21…\n",
      "$ hID                           \u001b[3m\u001b[90m<dbl>\u001b[39m\u001b[23m 1, 0, 0, 1, 1, 0, 0, 1, 0, 1, 0, 1, 0, 1…\n"
     ]
    }
   ],
   "source": [
    "#============================\n",
    "# 9. Generate Predictions & Invert Scaling on Validation Set\n",
    "#============================\n",
    "# Use the validation set for predictions\n",
    "pred_all <- model %>% predict(\n",
    "  list(\n",
    "    input_seq = Xnum_val,\n",
    "    input_player_id = cat_player_id_val,\n",
    "    input_tID = cat_tID_val,\n",
    "    input_oID = cat_oID_val,\n",
    "    input_hID = cat_hID_val\n",
    "  )\n",
    ")\n",
    "\n",
    "# Build a predictions table using the validation row IDs\n",
    "preds_gk <- tibble(\n",
    "  row_id = val_row_ids,  # row IDs corresponding to the validation set\n",
    "  predicted_total_points_scaled = as.vector(pred_all),\n",
    "  actual_total_points_scaled = as.vector(y_val)\n",
    ") %>% \n",
    "  mutate(\n",
    "    predicted_total_points = predicted_total_points_scaled * sigma + mu,\n",
    "    actual_total_points = actual_total_points_scaled * sigma + mu\n",
    "  )\n",
    "\n",
    "\n",
    "preds_gk <- preds_gk %>%\n",
    "  left_join(unscaled_gk, by = \"row_id\") # Use unscaled_gk\n",
    "\n",
    "# View the predictions table\n",
    "glimpse(preds_gk)"
   ]
  },
  {
   "cell_type": "markdown",
   "metadata": {
    "_cell_guid": "5126836c-8128-4a88-9c2c-9f1516663ce9",
    "_uuid": "2b1b59ef-d8e8-442e-9183-40f989d07907",
    "collapsed": false,
    "jupyter": {
     "outputs_hidden": false
    },
    "trusted": true
   },
   "source": [
    "## 1.10 Lagre modell og prediksjoner"
   ]
  },
  {
   "cell_type": "code",
   "execution_count": null,
   "metadata": {
    "_cell_guid": "9bd8e7d7-58af-4a61-8a7f-6f50df391ced",
    "_uuid": "a2ab6687-a96f-4fdc-a831-5ec2aa567828",
    "collapsed": false,
    "execution": {
     "iopub.execute_input": "2025-04-24T11:45:32.099353Z",
     "iopub.status.busy": "2025-04-24T11:45:32.098035Z",
     "iopub.status.idle": "2025-04-24T11:45:32.118651Z",
     "shell.execute_reply": "2025-04-24T11:45:32.117077Z"
    },
    "jupyter": {
     "outputs_hidden": false
    },
    "trusted": true,
    "vscode": {
     "languageId": "r"
    }
   },
   "outputs": [
    {
     "name": "stdout",
     "output_type": "stream",
     "text": [
      "GK model stored in Notebook Memory.\n"
     ]
    }
   ],
   "source": [
    "# Store GK model and scaling factors\n",
    "model_list$gk <- model\n",
    "cat(\"GK model stored in Notebook Memory.\\n\")\n",
    "\n",
    "# Clean up validation predictions (select essential columns)\n",
    "preds_gk_clean <- preds_gk %>%\n",
    "  select(row_id, GW, player_id, name, position, team, actual_total_points, predicted_total_points, value)"
   ]
  },
  {
   "cell_type": "code",
   "execution_count": null,
   "metadata": {
    "vscode": {
     "languageId": "r"
    }
   },
   "outputs": [
    {
     "name": "stdout",
     "output_type": "stream",
     "text": [
      "GK model stored in Notebook Memory.\n"
     ]
    }
   ],
   "source": [
    "# Store GK model and scaling factors\n",
    "model_list$gk <- model\n",
    "cat(\"GK model stored in Notebook Memory.\\n\")\n",
    "\n",
    "# Clean up validation predictions (select essential columns)\n",
    "preds_gk_clean <- preds_gk %>%\n",
    "  select(row_id, GW, player_id, name, position, team, actual_total_points, predicted_total_points, value)"
   ]
  },
  {
   "cell_type": "markdown",
   "metadata": {
    "_cell_guid": "48ff57d8-3978-49f1-b656-e734a438e667",
    "_uuid": "41f4c311-6f17-4b09-ad9c-81ccb05b07fa",
    "collapsed": false,
    "jupyter": {
     "outputs_hidden": false
    },
    "trusted": true
   },
   "source": [
    "## 1.11 Plots Evaluation Data"
   ]
  },
  {
   "cell_type": "markdown",
   "metadata": {},
   "source": [
    "### 1.11.1 Training History Plot GK"
   ]
  },
  {
   "cell_type": "code",
   "execution_count": null,
   "metadata": {
    "_cell_guid": "99a79f1b-afe5-4024-b14d-aa3b78d10aa9",
    "_uuid": "6ef004d8-ecd9-41ed-8be4-5d73faab394d",
    "collapsed": false,
    "execution": {
     "iopub.execute_input": "2025-04-24T11:45:32.122580Z",
     "iopub.status.busy": "2025-04-24T11:45:32.121337Z",
     "iopub.status.idle": "2025-04-24T11:45:32.861673Z",
     "shell.execute_reply": "2025-04-24T11:45:32.859902Z"
    },
    "jupyter": {
     "outputs_hidden": false
    },
    "trusted": true,
    "vscode": {
     "languageId": "r"
    }
   },
   "outputs": [
    {
     "data": {
      "image/png": "[encoded data removed]",
      "text/plain": [
       "plot without title"
      ]
     },
     "metadata": {
      "image/png": {
       "height": 420,
       "width": 420
      }
     },
     "output_type": "display_data"
    }
   ],
   "source": [
    "history_gk <- history #class() \"keras_training_history\"\n",
    "history_df_gk <- data.frame(history_gk)\n",
    "\n",
    "plot(history_gk)"
   ]
  },
  {
   "cell_type": "markdown",
   "metadata": {
    "_cell_guid": "377f71e8-90e2-4daf-b7cc-03d8ad8ad702",
    "_uuid": "30fcdf49-b460-4790-a9fd-f06ef7a98476",
    "collapsed": false,
    "jupyter": {
     "outputs_hidden": false
    },
    "trusted": true
   },
   "source": [
    "### 1.11.2 In-Sample: Faktisk mot spådd plott GK"
   ]
  },
  {
   "cell_type": "code",
   "execution_count": null,
   "metadata": {
    "execution": {
     "iopub.execute_input": "2025-04-24T11:45:32.866352Z",
     "iopub.status.busy": "2025-04-24T11:45:32.864668Z",
     "iopub.status.idle": "2025-04-24T11:45:33.239977Z",
     "shell.execute_reply": "2025-04-24T11:45:33.237407Z"
    },
    "trusted": true,
    "vscode": {
     "languageId": "r"
    }
   },
   "outputs": [
    {
     "data": {
      "image/png": "[encoded data removed]",
      "text/plain": [
       "plot without title"
      ]
     },
     "metadata": {
      "image/png": {
       "height": 420,
       "width": 420
      }
     },
     "output_type": "display_data"
    }
   ],
   "source": [
    "### 1.11.2 ----\n",
    "ggplot(preds_gk, aes(x = actual_total_points, y = predicted_total_points)) +\n",
    "  geom_point(alpha = 0.5) + # Use alpha for transparency if many points overlap\n",
    "  geom_abline(intercept = 0, slope = 1, linetype = \"dashed\", color = \"red\") + # y=x line\n",
    "  labs(title = \"Actual vs. Predicted Total Points (Validation Set)\",\n",
    "       x = \"Actual Total Points\",\n",
    "       y = \"Predicted Total Points\") +\n",
    "  facet_wrap(~ position) + # Optional: Separate plots by position\n",
    "  theme_minimal() +\n",
    "  coord_cartesian(xlim = range(preds_gk$actual_total_points, na.rm = TRUE), # Adjust limits if needed\n",
    "                  ylim = range(preds_gk$predicted_total_points, na.rm = TRUE))"
   ]
  },
  {
   "cell_type": "markdown",
   "metadata": {},
   "source": [
    "### 1.11.3 In-Sample: Residualer mot spådd plott GK"
   ]
  },
  {
   "cell_type": "code",
   "execution_count": null,
   "metadata": {
    "execution": {
     "iopub.execute_input": "2025-04-24T11:45:33.246468Z",
     "iopub.status.busy": "2025-04-24T11:45:33.244051Z",
     "iopub.status.idle": "2025-04-24T11:45:33.644029Z",
     "shell.execute_reply": "2025-04-24T11:45:33.642269Z"
    },
    "trusted": true,
    "vscode": {
     "languageId": "r"
    }
   },
   "outputs": [
    {
     "data": {
      "image/png": "[encoded data removed]",
      "text/plain": [
       "plot without title"
      ]
     },
     "metadata": {
      "image/png": {
       "height": 420,
       "width": 420
      }
     },
     "output_type": "display_data"
    }
   ],
   "source": [
    "### 1.11.3 Res v. Pred ----\n",
    "\n",
    "preds_gk_copy <- preds_gk\n",
    "preds_gk_copy <- preds_gk_copy %>%\n",
    "  mutate(residual = actual_total_points - predicted_total_points)\n",
    "\n",
    "ggplot(preds_gk_copy, aes(x = predicted_total_points, y = residual)) +\n",
    "  geom_point(alpha = 0.5) +\n",
    "  geom_hline(yintercept = 0, linetype = \"dashed\", color = \"red\") + # Zero error line\n",
    "  labs(title = \"Residuals vs. Predicted Total Points (Validation Set)\",\n",
    "       x = \"Predicted Total Points\",\n",
    "       y = \"Residual (Actual - Predicted)\") +\n",
    "  facet_wrap(~ position) + # Optional\n",
    "  theme_minimal()"
   ]
  },
  {
   "cell_type": "markdown",
   "metadata": {},
   "source": [
    "### 1.11.4 In-Sample: Residual plott GK"
   ]
  },
  {
   "cell_type": "code",
   "execution_count": null,
   "metadata": {
    "execution": {
     "iopub.execute_input": "2025-04-24T11:45:33.647892Z",
     "iopub.status.busy": "2025-04-24T11:45:33.646598Z",
     "iopub.status.idle": "2025-04-24T11:45:34.013148Z",
     "shell.execute_reply": "2025-04-24T11:45:34.011229Z"
    },
    "trusted": true,
    "vscode": {
     "languageId": "r"
    }
   },
   "outputs": [
    {
     "data": {
      "image/png": "[encoded data removed]",
      "text/plain": [
       "plot without title"
      ]
     },
     "metadata": {
      "image/png": {
       "height": 420,
       "width": 420
      }
     },
     "output_type": "display_data"
    }
   ],
   "source": [
    "### 1.11.4 Res dist ----\n",
    "ggplot(preds_gk_copy, aes(x = residual)) +\n",
    "  geom_histogram(aes(y = after_stat(density)), bins = 30, fill = \"blue\", alpha = 0.7) +\n",
    "  geom_density(color = \"red\") +\n",
    "  geom_vline(xintercept = 0, linetype = \"dashed\", color = \"black\") +\n",
    "  labs(title = \"Distribution of Residuals (Validation Set)\",\n",
    "       x = \"Residual (Actual - Predicted)\",\n",
    "       y = \"Density\") +\n",
    "  facet_wrap(~ position) + # Optional\n",
    "  theme_minimal()"
   ]
  },
  {
   "cell_type": "code",
   "execution_count": null,
   "metadata": {
    "_cell_guid": "403efa61-dc39-4607-b716-f0329e9f7a6e",
    "_uuid": "f6e7113c-2d30-49d8-a594-259b1762ec1c",
    "collapsed": false,
    "execution": {
     "iopub.execute_input": "2025-04-24T11:45:34.056033Z",
     "iopub.status.busy": "2025-04-24T11:45:34.054625Z",
     "iopub.status.idle": "2025-04-24T11:45:34.600088Z",
     "shell.execute_reply": "2025-04-24T11:45:34.598184Z"
    },
    "jupyter": {
     "outputs_hidden": false
    },
    "trusted": true,
    "vscode": {
     "languageId": "r"
    }
   },
   "outputs": [
    {
     "name": "stdout",
     "output_type": "stream",
     "text": [
      "                          loss            mean_absolute_error \n",
      "                     0.8591550                      0.5962886 \n",
      "            mean_squared_error        root_mean_squared_error \n",
      "                     0.8591550                      0.9269062 \n",
      "mean_absolute_percentage_error              cosine_similarity \n",
      "                   141.0629883                      0.3096948 \n"
     ]
    }
   ],
   "source": [
    "# After training, evaluate the model on validation data with all metrics\n",
    "model_evaluation <- model %>% evaluate(\n",
    "  x = list(\n",
    "    input_seq = Xnum_val,\n",
    "    input_player_id = cat_player_id_val,\n",
    "    input_tID = cat_tID_val,\n",
    "    input_oID = cat_oID_val,\n",
    "    input_hID = cat_hID_val\n",
    "  ),\n",
    "  y = y_val,\n",
    "  verbose = 1\n",
    ")\n",
    "\n",
    "# Print the evaluation results (metrics specified during compilation)\n",
    "print(model_evaluation)\n",
    "\n",
    "# Combine results by position\n",
    "validation_metrics <- list()\n",
    "validation_metrics$gk <- model_list$gk %>% evaluate(\n",
    "  x = list(\n",
    "    input_seq = Xnum_val,\n",
    "    input_player_id = cat_player_id_val,\n",
    "    input_tID = cat_tID_val,\n",
    "    input_oID = cat_oID_val,\n",
    "    input_hID = cat_hID_val\n",
    "  ),\n",
    "  y = y_val\n",
    ")"
   ]
  },
  {
   "cell_type": "markdown",
   "metadata": {
    "_cell_guid": "4779c856-01a7-4e4c-987c-c8f44bc2b8bc",
    "_uuid": "14e94263-c530-4823-b29d-e909d0befa02",
    "collapsed": false,
    "jupyter": {
     "outputs_hidden": false
    },
    "trusted": true
   },
   "source": [
    "## 2: Forsvarsspillere"
   ]
  },
  {
   "cell_type": "code",
   "execution_count": null,
   "metadata": {
    "_cell_guid": "0ab6c6cf-e31a-4dff-b35b-31c65dc4121a",
    "_uuid": "4b050aef-3820-47bb-b5c0-7b723631b586",
    "collapsed": false,
    "execution": {
     "iopub.execute_input": "2025-04-24T11:45:34.605719Z",
     "iopub.status.busy": "2025-04-24T11:45:34.604368Z",
     "iopub.status.idle": "2025-04-24T11:45:34.638813Z",
     "shell.execute_reply": "2025-04-24T11:45:34.637130Z"
    },
    "jupyter": {
     "outputs_hidden": false
    },
    "trusted": true,
    "vscode": {
     "languageId": "r"
    }
   },
   "outputs": [
    {
     "name": "stdout",
     "output_type": "stream",
     "text": [
      "Numeriske features: assists creativity minutes goals_conceded bonus bps expected_assists expected_goal_involvements expected_goals ict_index own_goals red_cards threat transfers_in transfers_out yellow_cards expected_goals_conceded value selected transfers_balance starts influence clean_sheets \n",
      "Kategoriske features: player_id tID oID hID \n",
      "Target variabel: total_points \n",
      "Ferdig"
     ]
    }
   ],
   "source": [
    "#----------------------------\n",
    "# Define Features, Target & Scale\n",
    "#----------------------------\n",
    "numF <- c(\"assists\", \"creativity\", \"minutes\", \"goals_conceded\",\n",
    "          \"bonus\", \"bps\", \"expected_assists\", \"expected_goal_involvements\",\n",
    "          \"expected_goals\", \"ict_index\", \"own_goals\", \"red_cards\",\n",
    "          \"threat\", \"transfers_in\", \"transfers_out\", \"yellow_cards\",\n",
    "          \"expected_goals_conceded\", \"value\",\n",
    "          \"selected\", \"transfers_balance\", \"starts\", \"influence\",\n",
    "          \"clean_sheets\")\n",
    "catF <- c(\"player_id\", \"tID\", \"oID\", \"hID\")\n",
    "tar <- \"total_points\"\n",
    "\n",
    "cat(\"Numeriske features:\", numF, \"\\n\")\n",
    "cat(\"Kategoriske features:\", catF, \"\\n\")\n",
    "cat(\"Target variabel:\", tar, \"\\n\")\n",
    "cat(\"Ferdig\")"
   ]
  },
  {
   "cell_type": "code",
   "execution_count": null,
   "metadata": {
    "_cell_guid": "18ac2cab-c980-435e-b19c-7a5b628f714a",
    "_uuid": "dfac815b-6cfd-479a-9957-181a8388aae4",
    "collapsed": false,
    "execution": {
     "iopub.execute_input": "2025-04-24T11:45:34.644089Z",
     "iopub.status.busy": "2025-04-24T11:45:34.642735Z",
     "iopub.status.idle": "2025-04-24T11:45:34.699733Z",
     "shell.execute_reply": "2025-04-24T11:45:34.697465Z"
    },
    "jupyter": {
     "outputs_hidden": false
    },
    "trusted": true,
    "vscode": {
     "languageId": "r"
    }
   },
   "outputs": [
    {
     "name": "stdout",
     "output_type": "stream",
     "text": [
      "Kjørt"
     ]
    }
   ],
   "source": [
    "# Compute and store the mean and standard deviation for the target variable\n",
    "\n",
    "mu <- mean(def[[tar]], na.rm = TRUE)\n",
    "sigma <- sd(def[[tar]], na.rm = TRUE)\n",
    "\n",
    "# Scale numerical features and target\n",
    "def <- def %>%\n",
    "  mutate(across(all_of(numF), ~ (.x - mean(.x, na.rm = TRUE)) / sd(.x, na.rm = TRUE)),\n",
    "         !!tar := (.data[[tar]] - mu) / sigma)\n",
    "\n",
    "cat(\"Kjørt\")"
   ]
  },
  {
   "cell_type": "code",
   "execution_count": null,
   "metadata": {
    "_cell_guid": "329784f2-7378-4820-9c87-6e734f5b30a4",
    "_uuid": "cd8b7331-a439-4132-a316-3f3d5d78f935",
    "collapsed": false,
    "execution": {
     "iopub.execute_input": "2025-04-24T11:45:34.704971Z",
     "iopub.status.busy": "2025-04-24T11:45:34.703699Z",
     "iopub.status.idle": "2025-04-24T11:45:34.716367Z",
     "shell.execute_reply": "2025-04-24T11:45:34.714824Z"
    },
    "jupyter": {
     "outputs_hidden": false
    },
    "trusted": true,
    "vscode": {
     "languageId": "r"
    }
   },
   "outputs": [],
   "source": [
    "### 2.3 DEF Building rolling windows"
   ]
  },
  {
   "cell_type": "code",
   "execution_count": null,
   "metadata": {
    "_cell_guid": "32cdb16b-f210-4a81-be6c-47d02558aa86",
    "_uuid": "eaa74e0a-678d-496f-b431-d27f83891ec2",
    "collapsed": false,
    "execution": {
     "iopub.execute_input": "2025-04-24T11:45:34.721374Z",
     "iopub.status.busy": "2025-04-24T11:45:34.720079Z",
     "iopub.status.idle": "2025-04-24T11:45:44.596706Z",
     "shell.execute_reply": "2025-04-24T11:45:44.594371Z"
    },
    "jupyter": {
     "outputs_hidden": false
    },
    "trusted": true,
    "vscode": {
     "languageId": "r"
    }
   },
   "outputs": [
    {
     "name": "stdout",
     "output_type": "stream",
     "text": [
      "Kjørt"
     ]
    }
   ],
   "source": [
    "#----------------------------\n",
    "# 3. Build Rolling Windows\n",
    "#----------------------------\n",
    "# Define window size (number of past gameweeks to use)\n",
    "ws <- vindu\n",
    "\n",
    "# Build numerical rolling windows\n",
    "numW <- def %>%\n",
    "  group_by(player_id) %>%\n",
    "  filter(n() > ws) %>%  # Only players with more than ws observations\n",
    "  group_modify(~ {\n",
    "    windows <- slide(.x[, numF],\n",
    "                     .f = ~ as.matrix(.x),\n",
    "                     .before = ws, \n",
    "                     .after = -1, # prevents the model from seeing current gw data\n",
    "                     .complete = TRUE)\n",
    "    valid_windows <- windows[(ws + 1):length(windows)]\n",
    "    target <- .x[[tar]][(ws + 1):nrow(.x)]\n",
    "    # Extract row_id for each valid window\n",
    "    rid <- .x$row_id[(ws + 1):nrow(.x)]\n",
    "    tibble(window = valid_windows, target = target, row_id = rid)\n",
    "  }) %>%\n",
    "  ungroup()\n",
    "numW <- numW %>%\n",
    "  left_join(def %>% select(row_id, GW), by = \"row_id\")\n",
    "# Build categorical rolling windows (if needed for debugging; here we use only the current values)\n",
    "catW <- def %>%\n",
    "  group_by(player_id) %>%\n",
    "  filter(n() > ws) %>%\n",
    "  group_modify(~ {\n",
    "    df <- ungroup(.x) %>% mutate(player_id = .y$player_id)\n",
    "    windows <- slide(df %>% select(all_of(catF)),\n",
    "                     .f = ~ as.matrix(.x),\n",
    "                     .before = ws,\n",
    "                     #.after = -1,\n",
    "                     .complete = TRUE)\n",
    "    valid_windows <- windows[(ws + 1):length(windows)]\n",
    "    target <- df[[tar]][(ws + 1):nrow(df)]\n",
    "    tibble(window = valid_windows, target = target)\n",
    "  }) %>%\n",
    "  ungroup()\n",
    "\n",
    "cat(\"Kjørt\")"
   ]
  },
  {
   "cell_type": "code",
   "execution_count": null,
   "metadata": {
    "_cell_guid": "ee586aa8-d44e-40e7-a7f7-1ca105a5dcaa",
    "_uuid": "e457bd48-946b-40c4-a1a8-75cf8781158d",
    "collapsed": false,
    "execution": {
     "iopub.execute_input": "2025-04-24T11:45:44.602184Z",
     "iopub.status.busy": "2025-04-24T11:45:44.600838Z",
     "iopub.status.idle": "2025-04-24T11:45:49.467001Z",
     "shell.execute_reply": "2025-04-24T11:45:49.464717Z"
    },
    "jupyter": {
     "outputs_hidden": false
    },
    "trusted": true,
    "vscode": {
     "languageId": "r"
    }
   },
   "outputs": [
    {
     "name": "stdout",
     "output_type": "stream",
     "text": [
      "Windows with NA:  0 \n",
      "Selected features:  creativity minutes bonus bps expected_goal_involvements red_cards threat transfers_in expected_goals_conceded value selected transfers_balance \n",
      "Kjørt"
     ]
    }
   ],
   "source": [
    "# Check for any NA in the windows before summary\n",
    "sumna <- sapply(numW$window, function(flatW) any(is.na(flatW)))\n",
    "cat(\"Windows with NA: \", sum(sumna), \"\\n\")\n",
    "\n",
    "#----------------------------\n",
    "# 4. Lasso regression\n",
    "#----------------------------\n",
    "# numW as data.matrix, tar as response variable\n",
    "\n",
    "aggmat <- lapply(numW$window, function(flatW){\n",
    "  colMeans(flatW, na.rm = TRUE)\n",
    "})\n",
    "x <- do.call(rbind, aggmat)\n",
    "y <- numW$target\n",
    "\n",
    "# K-fold CV\n",
    "cvfit <- cv.glmnet(x,y,alpha=1)\n",
    "minlambda <- cvfit$lambda.min\n",
    "\n",
    "lassofit <- glmnet(x,y,alpha = 1, lambda = minlambda)\n",
    "\n",
    "coef_lasso <- as.matrix(coef(lassofit))\n",
    "numF <- rownames(coef_lasso)[coef_lasso[,1] != 0]\n",
    "numF <- setdiff(numF, \"(Intercept)\")\n",
    "cat(\"Selected features: \", numF, \"\\n\")\n",
    "\n",
    "# repeat rolling window, now only containing selected features\n",
    "# Define window size (number of past gameweeks to use)\n",
    "ws <- vindu\n",
    "\n",
    "# Build numerical rolling windows\n",
    "numW <- def %>%\n",
    "  group_by(player_id) %>%\n",
    "  filter(n() > ws) %>%  # Only players with more than ws observations\n",
    "  group_modify(~ {\n",
    "    windows <- slide(.x[, numF],\n",
    "                     .f = ~ as.matrix(.x),\n",
    "                     .before = ws, \n",
    "                     .after = -1,\n",
    "                     .complete = TRUE)\n",
    "    valid_windows <- windows[(ws + 1):length(windows)]\n",
    "    target <- .x[[tar]][(ws + 1):nrow(.x)]\n",
    "    # Extract row_id for each valid window\n",
    "    rid <- .x$row_id[(ws + 1):nrow(.x)]\n",
    "    tibble(window = valid_windows, target = target, row_id = rid)\n",
    "  }) %>%\n",
    "  ungroup()\n",
    "numW <- numW %>%\n",
    "  left_join(def %>% select(row_id, GW), by = \"row_id\")\n",
    "\n",
    "cat(\"Kjørt\")"
   ]
  },
  {
   "cell_type": "code",
   "execution_count": null,
   "metadata": {
    "_cell_guid": "aaf2554d-6569-4d02-a9a8-81cb525c0639",
    "_uuid": "bcd41952-cb9f-4e93-a999-611c096a6abc",
    "collapsed": false,
    "execution": {
     "iopub.execute_input": "2025-04-24T11:45:49.472465Z",
     "iopub.status.busy": "2025-04-24T11:45:49.471120Z",
     "iopub.status.idle": "2025-04-24T11:45:49.617442Z",
     "shell.execute_reply": "2025-04-24T11:45:49.615624Z"
    },
    "jupyter": {
     "outputs_hidden": false
    },
    "trusted": true,
    "vscode": {
     "languageId": "r"
    }
   },
   "outputs": [],
   "source": [
    "#============================\n",
    "# 5. Convert Rolling Windows to Arrays & Extract Targets\n",
    "#============================\n",
    "# Number of samples is the number of rows in numW\n",
    "nSamp <- nrow(numW)\n",
    "\n",
    "# Convert numerical windows to a 3D array of shape [nSamp, ws, length(numF)]\n",
    "num_array <- array(\n",
    "  unlist(numW$window),\n",
    "  dim = c(nSamp, ws, length(numF))\n",
    ")\n",
    "\n",
    "# Targets (scaled): a matrix with one column\n",
    "targets <- matrix(as.numeric(numW$target), ncol = 1)\n",
    "\n",
    "# For categorical inputs, extract the current categorical values from the last row of each window.\n",
    "# (If your windows were built solely from historical data, the \"current\" values need to come from the original data.)\n",
    "# Here, we use the categorical rolling windows and extract the last row:\n",
    "cat_current <- do.call(rbind, lapply(catW$window, function(mat) mat[nrow(mat), ]))\n",
    "# Split into separate matrices (each of shape [nSamp, 1])\n",
    "cat_player_id <- matrix(as.integer(cat_current[, \"player_id\"]), ncol = 1)\n",
    "cat_tID <- matrix(as.integer(cat_current[, \"tID\"]), ncol = 1)\n",
    "cat_oID <- matrix(as.integer(cat_current[, \"oID\"]), ncol = 1)\n",
    "cat_hID <- matrix(as.integer(cat_current[, \"hID\"]), ncol = 1)"
   ]
  },
  {
   "cell_type": "markdown",
   "metadata": {
    "_cell_guid": "06b38157-9756-4715-87d6-e8130fc01396",
    "_uuid": "cc87bb91-dd6a-4e2f-893f-eec3e0418e2d",
    "collapsed": false,
    "jupyter": {
     "outputs_hidden": false
    },
    "trusted": true
   },
   "source": [
    "## 6.Data split DEF"
   ]
  },
  {
   "cell_type": "code",
   "execution_count": null,
   "metadata": {
    "_cell_guid": "6b0b0947-85b3-4bd6-820f-5301f4b55793",
    "_uuid": "6d5038c2-ce51-4e96-8c86-44e6d3452485",
    "collapsed": false,
    "execution": {
     "iopub.execute_input": "2025-04-24T11:45:49.622370Z",
     "iopub.status.busy": "2025-04-24T11:45:49.620910Z",
     "iopub.status.idle": "2025-04-24T11:45:49.665412Z",
     "shell.execute_reply": "2025-04-24T11:45:49.663641Z"
    },
    "jupyter": {
     "outputs_hidden": false
    },
    "trusted": true,
    "vscode": {
     "languageId": "r"
    }
   },
   "outputs": [],
   "source": [
    "\n",
    "#============================\n",
    "# 6. Split Data into Training and Validation Sets\n",
    "#============================\n",
    "idx <- which(numW$GW <= split_gw)\n",
    "\n",
    "# Training data\n",
    "Xnum_train <- num_array[idx, , , drop = FALSE]\n",
    "cat_player_id_train <- cat_player_id[idx, , drop = FALSE]\n",
    "cat_tID_train <- cat_tID[idx, , drop = FALSE]\n",
    "cat_oID_train <- cat_oID[idx, , drop = FALSE]\n",
    "cat_hID_train <- cat_hID[idx, , drop = FALSE]\n",
    "y_train <- targets[idx, , drop = FALSE]\n",
    "\n",
    "# Validation data\n",
    "Xnum_val <- num_array[-idx, , , drop = FALSE]\n",
    "cat_player_id_val <- cat_player_id[-idx, , drop = FALSE]\n",
    "cat_tID_val <- cat_tID[-idx, , drop = FALSE]\n",
    "cat_oID_val <- cat_oID[-idx, , drop = FALSE]\n",
    "cat_hID_val <- cat_hID[-idx, , drop = FALSE]\n",
    "y_val <- targets[-idx, , drop = FALSE]\n",
    "\n",
    "# Also, extract the row IDs for the validation samples (for later joining)\n",
    "val_row_ids <- numW$row_id[-idx]"
   ]
  },
  {
   "cell_type": "markdown",
   "metadata": {
    "_cell_guid": "6114f279-8197-49ee-a67d-a42163584f36",
    "_uuid": "25065f79-19d3-46f1-94e5-b6614246d050",
    "collapsed": false,
    "jupyter": {
     "outputs_hidden": false
    },
    "trusted": true
   },
   "source": [
    "## 2.7 Model"
   ]
  },
  {
   "cell_type": "code",
   "execution_count": null,
   "metadata": {
    "_cell_guid": "1434456c-248a-49c6-a44d-be8bc8baad9b",
    "_uuid": "1b9b4d1b-01c1-4f73-adc3-44e37e772b97",
    "collapsed": false,
    "execution": {
     "iopub.execute_input": "2025-04-24T11:45:49.678536Z",
     "iopub.status.busy": "2025-04-24T11:45:49.668100Z",
     "iopub.status.idle": "2025-04-24T11:45:50.117014Z",
     "shell.execute_reply": "2025-04-24T11:45:50.114731Z"
    },
    "jupyter": {
     "outputs_hidden": false
    },
    "trusted": true,
    "vscode": {
     "languageId": "r"
    }
   },
   "outputs": [
    {
     "name": "stdout",
     "output_type": "stream",
     "text": [
      "Model: \"def_lstm_model\"\n",
      "________________________________________________________________________________\n",
      " Layer (type)           Output Shape            Param   Connected to            \n",
      "                                                 #                              \n",
      "================================================================================\n",
      " input_player_id (Inpu  [(None, 1)]             0       []                      \n",
      " tLayer)                                                                        \n",
      " input_tID (InputLayer  [(None, 1)]             0       []                      \n",
      " )                                                                              \n",
      " input_oID (InputLayer  [(None, 1)]             0       []                      \n",
      " )                                                                              \n",
      " input_hID (InputLayer  [(None, 1)]             0       []                      \n",
      " )                                                                              \n",
      " embedding_3 (Embeddin  (None, 1, 20)           26700   ['input_player_id[0][0]'\n",
      " g)                                                     ]                       \n",
      " embedding_4 (Embeddin  (None, 1, 20)           500     ['input_tID[0][0]']     \n",
      " g)                                                                             \n",
      " embedding_5 (Embeddin  (None, 1, 20)           500     ['input_oID[0][0]']     \n",
      " g)                                                                             \n",
      " lambda_1 (Lambda)      (None, 1)               0       ['input_hID[0][0]']     \n",
      " input_seq (InputLayer  [(None, 3, 12)]         0       []                      \n",
      " )                                                                              \n",
      " flatten_4 (Flatten)    (None, 20)              0       ['embedding_3[0][0]']   \n",
      " flatten_5 (Flatten)    (None, 20)              0       ['embedding_4[0][0]']   \n",
      " flatten_6 (Flatten)    (None, 20)              0       ['embedding_5[0][0]']   \n",
      " flatten_7 (Flatten)    (None, 1)               0       ['lambda_1[0][0]']      \n",
      " lstm_1 (LSTM)          (None, 64)              19712   ['input_seq[0][0]']     \n",
      " concatenate_2 (Concat  (None, 61)              0       ['flatten_4[0][0]',     \n",
      " enate)                                                  'flatten_5[0][0]',     \n",
      "                                                         'flatten_6[0][0]',     \n",
      "                                                         'flatten_7[0][0]']     \n",
      " dropout_1 (Dropout)    (None, 64)              0       ['lstm_1[0][0]']        \n",
      " dense_3 (Dense)        (None, 16)              992     ['concatenate_2[0][0]'] \n",
      " concatenate_3 (Concat  (None, 80)              0       ['dropout_1[0][0]',     \n",
      " enate)                                                  'dense_3[0][0]']       \n",
      " dense_4 (Dense)        (None, 32)              2592    ['concatenate_3[0][0]'] \n",
      " dense_5 (Dense)        (None, 1)               33      ['dense_4[0][0]']       \n",
      "================================================================================\n",
      "Total params: 51029 (199.33 KB)\n",
      "Trainable params: 51029 (199.33 KB)\n",
      "Non-trainable params: 0 (0.00 Byte)\n",
      "________________________________________________________________________________\n"
     ]
    }
   ],
   "source": [
    "\n",
    "#============================\n",
    "# 7. Build the Model\n",
    "#============================\n",
    "# Define maximum values for categorical features\n",
    "num_players   <- max(mid$player_id)\n",
    "num_teams     <- max(mid$tID)\n",
    "num_opponents <- max(mid$oID)\n",
    "# For hID, assume it???s binary\n",
    "\n",
    "emb_dim <- 20  # Embedding dimension\n",
    "\n",
    "# Create input layers for current categorical values\n",
    "input_player_id <- layer_input(shape = c(1), dtype = \"int32\", name = \"input_player_id\")\n",
    "input_tID <- layer_input(shape = c(1), dtype = \"int32\", name = \"input_tID\")\n",
    "input_oID <- layer_input(shape = c(1), dtype = \"int32\", name = \"input_oID\")\n",
    "input_hID <- layer_input(shape = c(1), dtype = \"int32\", name = \"input_hID\")\n",
    "\n",
    "embedding_player_id <- input_player_id %>% \n",
    "  layer_embedding(input_dim = num_players + 1, output_dim = emb_dim, mask_zero = TRUE) %>% \n",
    "  layer_flatten()\n",
    "embedding_tID <- input_tID %>% \n",
    "  layer_embedding(input_dim = num_teams + 1, output_dim = emb_dim, mask_zero = TRUE) %>% \n",
    "  layer_flatten()\n",
    "embedding_oID <- input_oID %>% \n",
    "  layer_embedding(input_dim = num_opponents + 1, output_dim = emb_dim, mask_zero = TRUE) %>% \n",
    "  layer_flatten()\n",
    "# For hID, convert to float32 to match types\n",
    "input_hID_flat <- input_hID %>% \n",
    "  layer_lambda(function(x) tf$cast(x, tf$float32)) %>% \n",
    "  layer_flatten()\n",
    "\n",
    "# Merge categorical branch\n",
    "cat_merged <- layer_concatenate(list(embedding_player_id, embedding_tID, embedding_oID, input_hID_flat)) %>%\n",
    "  layer_dense(units = 16, activation = \"relu\")\n",
    "\n",
    "# Numerical branch: input for rolling window data\n",
    "input_seq <- layer_input(shape = c(ws, length(numF)), name = \"input_seq\")\n",
    "lstm_branch <- input_seq %>%\n",
    "  layer_lstm(units = 64, return_sequences = FALSE) %>%\n",
    "  layer_dropout(rate = 0.2)\n",
    "\n",
    "# Merge both branches and build the output\n",
    "merged <- layer_concatenate(list(lstm_branch, cat_merged))\n",
    "dense_layer <- merged %>% layer_dense(units = 32, activation = \"relu\")\n",
    "output <- dense_layer %>% layer_dense(units = 1, activation = \"linear\")\n",
    "\n",
    "# Build and compile the model\n",
    "model <- keras_model(\n",
    "  inputs = list(input_seq, input_player_id, input_tID, input_oID, input_hID),\n",
    "  outputs = output,\n",
    "    name = \"def_lstm_model\"\n",
    ")\n",
    "model %>% compile(\n",
    "  optimizer = optimizer_adam(),\n",
    "  loss = \"mse\",\n",
    "  metrics = metrics_regression,\n",
    "  run_eagerly = TRUE\n",
    ")\n",
    "summary(model)"
   ]
  },
  {
   "cell_type": "markdown",
   "metadata": {
    "_cell_guid": "3e250c35-07cf-42ce-a714-5db10fdcc186",
    "_uuid": "a2c5e700-b49e-4682-9d9b-d4dfc54628a6",
    "collapsed": false,
    "jupyter": {
     "outputs_hidden": false
    },
    "trusted": true
   },
   "source": [
    "## Før fit av modellen DEF"
   ]
  },
  {
   "cell_type": "code",
   "execution_count": null,
   "metadata": {
    "_cell_guid": "b38465f2-fcb5-4e8e-9bd3-a18e79c4e03e",
    "_uuid": "6ab131cb-ba3c-4cb5-96a4-20d0747504ca",
    "collapsed": false,
    "execution": {
     "iopub.execute_input": "2025-04-24T11:45:50.122298Z",
     "iopub.status.busy": "2025-04-24T11:45:50.120951Z",
     "iopub.status.idle": "2025-04-24T11:45:50.155135Z",
     "shell.execute_reply": "2025-04-24T11:45:50.153450Z"
    },
    "jupyter": {
     "outputs_hidden": false
    },
    "trusted": true,
    "vscode": {
     "languageId": "r"
    }
   },
   "outputs": [
    {
     "name": "stdout",
     "output_type": "stream",
     "text": [
      "Will save best DEF weights to: R Forecast/best_def.hdf5 \n",
      "DEF scaling factors stored.\n"
     ]
    }
   ],
   "source": [
    "# Filepath for saving the BEST weights (unique for each position)\n",
    "weights_filepath_def <- \"R Forecast/best_def.hdf5\"\n",
    "cat(\"Will save best DEF weights to:\", weights_filepath_def, \"\\n\")\n",
    "\n",
    "# 1. Early Stopping Callback\n",
    "early_stopping <- callback_early_stopping(\n",
    "    monitor = \"val_loss\",       # Monitor validation loss\n",
    "    patience = num_patience,              # Stop after 10 epochs of no improvement\n",
    "    restore_best_weights = TRUE # Optional but good: restores weights from the best epoch at the end of training\n",
    "                                # Note: Checkpoint callback is the primary saver here.\n",
    ")\n",
    "\n",
    "# 2. Model Checkpoint Callback (to save best weights)\n",
    "model_checkpoint <- callback_model_checkpoint(\n",
    "    filepath = weights_filepath_def, # Path defined above\n",
    "    monitor = \"val_loss\",           # Monitor the same metric as early stopping\n",
    "    save_best_only = TRUE,          # IMPORTANT: Only save when val_loss improves\n",
    "    save_weights_only = TRUE,       # IMPORTANT: Save ONLY the weights, not the whole model\n",
    "    mode = \"min\",                   # We want to minimize loss\n",
    "    verbose = 1                     # Optional: print message when weights are saved\n",
    ")\n",
    "\n",
    "reduce_lr <- callback_reduce_lr_on_plateau(\n",
    "    monitor = \"val_loss\",  # Monitor validation loss (same as early stopping)\n",
    "    factor = 0.2,          # Reduce LR to 20% of its current value (lr * factor)\n",
    "    patience = 5,           # Reduce LR if val_loss doesn't improve for 5 epochs\n",
    "    min_lr = 1e-6,         # Don't reduce the LR below this value\n",
    "    verbose = 1            # Print a message when LR is reduced\n",
    ")\n",
    "\n",
    "# Store scaling factors NOW (before potential errors during training)\n",
    "# Ensure mu, sigma, and numF (Lasso selected) are correctly captured from the GK scaling steps\n",
    "scaling_factors$def <- list(\n",
    "    mu = mu,         # Mean of GK target used for scaling\n",
    "    sigma = sigma,   # SD of GK target used for scaling\n",
    "    numF = numF      # Vector of Lasso-selected numerical feature names for GK\n",
    ")\n",
    "cat(\"DEF scaling factors stored.\\n\")"
   ]
  },
  {
   "cell_type": "code",
   "execution_count": null,
   "metadata": {
    "_cell_guid": "40c22804-4da6-41af-93cb-89c354273f9d",
    "_uuid": "61f6a591-d79a-4809-930a-44d7be64e935",
    "collapsed": false,
    "execution": {
     "iopub.execute_input": "2025-04-24T11:45:50.159042Z",
     "iopub.status.busy": "2025-04-24T11:45:50.157694Z",
     "iopub.status.idle": "2025-04-24T11:47:49.040061Z",
     "shell.execute_reply": "2025-04-24T11:47:49.037590Z"
    },
    "jupyter": {
     "outputs_hidden": false
    },
    "trusted": true,
    "vscode": {
     "languageId": "r"
    }
   },
   "outputs": [
    {
     "name": "stdout",
     "output_type": "stream",
     "text": [
      "Starting DEF model training...\n",
      "DEF model training finished.\n"
     ]
    }
   ],
   "source": [
    "#============================\n",
    "# 8. Train the Model\n",
    "#============================\n",
    "cat(\"Starting DEF model training...\\n\")\n",
    "history <- model %>% fit(\n",
    "  x = list(\n",
    "    input_seq = Xnum_train,\n",
    "    input_player_id = cat_player_id_train,\n",
    "    input_tID = cat_tID_train,\n",
    "    input_oID = cat_oID_train,\n",
    "    input_hID = cat_hID_train\n",
    "  ),\n",
    "  y = y_train,\n",
    "  epochs = epoker,          # Max epochs\n",
    "  batch_size = 64,          # Try increasing batch size (e.g., 64 or 128) for speed\n",
    "  validation_data = list(\n",
    "    list(\n",
    "      input_seq = Xnum_val,\n",
    "      input_player_id = cat_player_id_val,\n",
    "      input_tID = cat_tID_val,\n",
    "      input_oID = cat_oID_val,\n",
    "      input_hID = cat_hID_val\n",
    "    ),\n",
    "    y_val\n",
    "  ),\n",
    "  # ADD THE CALLBACKS HERE\n",
    "  callbacks = list(early_stopping, model_checkpoint, reduce_lr)\n",
    ")\n",
    "cat(\"DEF model training finished.\\n\")"
   ]
  },
  {
   "cell_type": "code",
   "execution_count": null,
   "metadata": {
    "_cell_guid": "8258fe51-2891-41f4-97d3-d9333411e38b",
    "_uuid": "3fee57ce-6598-46e4-a818-eb399fcaf310",
    "collapsed": false,
    "execution": {
     "iopub.execute_input": "2025-04-24T11:47:49.045463Z",
     "iopub.status.busy": "2025-04-24T11:47:49.044002Z",
     "iopub.status.idle": "2025-04-24T11:47:53.328998Z",
     "shell.execute_reply": "2025-04-24T11:47:53.326654Z"
    },
    "jupyter": {
     "outputs_hidden": false
    },
    "trusted": true,
    "vscode": {
     "languageId": "r"
    }
   },
   "outputs": [
    {
     "name": "stdout",
     "output_type": "stream",
     "text": [
      "Rows: 7,026\n",
      "Columns: 49\n",
      "$ row_id                        \u001b[3m\u001b[90m<dbl>\u001b[39m\u001b[23m 4, 5, 6, 7, 122, 123, 124, 125, 126, 127…\n",
      "$ predicted_total_points_scaled \u001b[3m\u001b[90m<dbl>\u001b[39m\u001b[23m 0.518172979, -0.244826332, 0.185973555, …\n",
      "$ actual_total_points_scaled    \u001b[3m\u001b[90m<dbl>\u001b[39m\u001b[23m -0.46568846, -0.46568846, -0.46568846, -…\n",
      "$ predicted_total_points        \u001b[3m\u001b[90m<dbl>\u001b[39m\u001b[23m 2.1620016, 0.4853369, 1.4320048, 1.57122…\n",
      "$ actual_total_points           \u001b[3m\u001b[90m<dbl>\u001b[39m\u001b[23m 0, 0, 0, 0, 0, 1, 0, 0, 1, 0, 1, 0, 0, 0…\n",
      "$ name                          \u001b[3m\u001b[90m<chr>\u001b[39m\u001b[23m \"Aaron Anselmino\", \"Aaron Anselmino\", \"A…\n",
      "$ position                      \u001b[3m\u001b[90m<chr>\u001b[39m\u001b[23m \"DEF\", \"DEF\", \"DEF\", \"DEF\", \"DEF\", \"DEF\"…\n",
      "$ team                          \u001b[3m\u001b[90m<chr>\u001b[39m\u001b[23m \"Chelsea\", \"Chelsea\", \"Chelsea\", \"Chelse…\n",
      "$ xP                            \u001b[3m\u001b[90m<dbl>\u001b[39m\u001b[23m 0.5, 0.0, 0.5, 0.5, 1.0, 0.5, -0.2, 0.1,…\n",
      "$ assists                       \u001b[3m\u001b[90m<dbl>\u001b[39m\u001b[23m 0, 0, 0, 0, 0, 0, 0, 0, 0, 0, 0, 0, 0, 0…\n",
      "$ bonus                         \u001b[3m\u001b[90m<dbl>\u001b[39m\u001b[23m 0, 0, 0, 0, 0, 0, 0, 0, 0, 0, 0, 0, 0, 0…\n",
      "$ bps                           \u001b[3m\u001b[90m<dbl>\u001b[39m\u001b[23m 0, 0, 0, 0, 0, 3, 0, 0, 3, 0, 2, 0, 1, 0…\n",
      "$ clean_sheets                  \u001b[3m\u001b[90m<dbl>\u001b[39m\u001b[23m 0, 0, 0, 0, 0, 0, 0, 0, 0, 0, 0, 0, 0, 0…\n",
      "$ creativity                    \u001b[3m\u001b[90m<dbl>\u001b[39m\u001b[23m 0.0, 0.0, 0.0, 0.0, 0.0, 0.0, 0.0, 0.0, …\n",
      "$ expected_assists              \u001b[3m\u001b[90m<dbl>\u001b[39m\u001b[23m 0.00, 0.00, 0.00, 0.00, 0.00, 0.00, 0.00…\n",
      "$ expected_goal_involvements    \u001b[3m\u001b[90m<dbl>\u001b[39m\u001b[23m 0.00, 0.00, 0.00, 0.00, 0.00, 0.00, 0.00…\n",
      "$ expected_goals                \u001b[3m\u001b[90m<dbl>\u001b[39m\u001b[23m 0.00, 0.00, 0.00, 0.00, 0.00, 0.00, 0.00…\n",
      "$ expected_goals_conceded       \u001b[3m\u001b[90m<dbl>\u001b[39m\u001b[23m 0.00, 0.00, 0.00, 0.00, 0.00, 0.03, 0.00…\n",
      "$ fixture                       \u001b[3m\u001b[90m<dbl>\u001b[39m\u001b[23m 273, 281, 296, 302, 7, 14, 30, 35, 50, 5…\n",
      "$ goals_conceded                \u001b[3m\u001b[90m<dbl>\u001b[39m\u001b[23m 0, 0, 0, 0, 0, 0, 0, 0, 0, 0, 0, 0, 0, 0…\n",
      "$ goals_scored                  \u001b[3m\u001b[90m<dbl>\u001b[39m\u001b[23m 0, 0, 0, 0, 0, 0, 0, 0, 0, 0, 0, 0, 0, 0…\n",
      "$ ict_index                     \u001b[3m\u001b[90m<dbl>\u001b[39m\u001b[23m 0.0, 0.0, 0.0, 0.0, 0.0, 0.0, 0.0, 0.0, …\n",
      "$ influence                     \u001b[3m\u001b[90m<dbl>\u001b[39m\u001b[23m 0.0, 0.0, 0.0, 0.0, 0.0, 0.0, 0.0, 0.0, …\n",
      "$ kickoff_time                  \u001b[3m\u001b[90m<dttm>\u001b[39m\u001b[23m 2025-03-09 14:00:00, 2025-03-16 13:30:0…\n",
      "$ minutes                       \u001b[3m\u001b[90m<dbl>\u001b[39m\u001b[23m 0, 0, 0, 0, 0, 1, 0, 0, 17, 0, 7, 0, 1, …\n",
      "$ opponent_team                 \u001b[3m\u001b[90m<chr>\u001b[39m\u001b[23m \"Leicester\", \"Arsenal\", \"Tottenham\", \"Br…\n",
      "$ own_goals                     \u001b[3m\u001b[90m<dbl>\u001b[39m\u001b[23m 0, 0, 0, 0, 0, 0, 0, 0, 0, 0, 0, 0, 0, 0…\n",
      "$ penalties_missed              \u001b[3m\u001b[90m<dbl>\u001b[39m\u001b[23m 0, 0, 0, 0, 0, 0, 0, 0, 0, 0, 0, 0, 0, 0…\n",
      "$ penalties_saved               \u001b[3m\u001b[90m<dbl>\u001b[39m\u001b[23m 0, 0, 0, 0, 0, 0, 0, 0, 0, 0, 0, 0, 0, 0…\n",
      "$ red_cards                     \u001b[3m\u001b[90m<dbl>\u001b[39m\u001b[23m 0, 0, 0, 0, 0, 0, 0, 0, 0, 0, 0, 0, 0, 0…\n",
      "$ round                         \u001b[3m\u001b[90m<dbl>\u001b[39m\u001b[23m 28, 29, 30, 31, 1, 2, 3, 4, 5, 6, 7, 8, …\n",
      "$ saves                         \u001b[3m\u001b[90m<dbl>\u001b[39m\u001b[23m 0, 0, 0, 0, 0, 0, 0, 0, 0, 0, 0, 0, 0, 0…\n",
      "$ selected                      \u001b[3m\u001b[90m<dbl>\u001b[39m\u001b[23m 325, 436, 442, 453, 215475, 227554, 2211…\n",
      "$ starts                        \u001b[3m\u001b[90m<dbl>\u001b[39m\u001b[23m 0, 0, 0, 0, 0, 0, 0, 0, 0, 0, 0, 0, 0, 0…\n",
      "$ team_a_score                  \u001b[3m\u001b[90m<dbl>\u001b[39m\u001b[23m 0, 0, 0, 0, 2, 2, 3, 1, 3, 1, 1, 1, 1, 0…\n",
      "$ team_h_score                  \u001b[3m\u001b[90m<dbl>\u001b[39m\u001b[23m 1, 1, 1, 0, 1, 0, 1, 1, 0, 1, 4, 4, 2, 3…\n",
      "$ threat                        \u001b[3m\u001b[90m<dbl>\u001b[39m\u001b[23m 0, 0, 0, 0, 0, 0, 0, 0, 0, 0, 1, 0, 0, 0…\n",
      "$ total_points                  \u001b[3m\u001b[90m<dbl>\u001b[39m\u001b[23m 0, 0, 0, 0, 0, 1, 0, 0, 1, 0, 1, 0, 0, 0…\n",
      "$ transfers_balance             \u001b[3m\u001b[90m<dbl>\u001b[39m\u001b[23m 21, 4, 6, 6, 0, -6613, -12465, -40996, -…\n",
      "$ transfers_in                  \u001b[3m\u001b[90m<dbl>\u001b[39m\u001b[23m 52, 31, 30, 22, 0, 10331, 21013, 1264, 6…\n",
      "$ transfers_out                 \u001b[3m\u001b[90m<dbl>\u001b[39m\u001b[23m 31, 27, 24, 16, 0, 16944, 33478, 42260, …\n",
      "$ value                         \u001b[3m\u001b[90m<dbl>\u001b[39m\u001b[23m 40, 40, 40, 40, 40, 40, 40, 40, 40, 40, …\n",
      "$ was_home                      \u001b[3m\u001b[90m<lgl>\u001b[39m\u001b[23m TRUE, FALSE, TRUE, FALSE, TRUE, FALSE, T…\n",
      "$ yellow_cards                  \u001b[3m\u001b[90m<dbl>\u001b[39m\u001b[23m 0, 0, 0, 0, 0, 0, 0, 0, 0, 0, 0, 0, 1, 0…\n",
      "$ GW                            \u001b[3m\u001b[90m<dbl>\u001b[39m\u001b[23m 104, 105, 106, 107, 77, 78, 79, 80, 81, …\n",
      "$ player_id                     \u001b[3m\u001b[90m<dbl>\u001b[39m\u001b[23m 1, 1, 1, 1, 3, 3, 3, 3, 3, 3, 3, 3, 3, 3…\n",
      "$ oID                           \u001b[3m\u001b[90m<dbl>\u001b[39m\u001b[23m 13, 1, 22, 4, 2, 8, 16, 10, 7, 4, 11, 22…\n",
      "$ tID                           \u001b[3m\u001b[90m<dbl>\u001b[39m\u001b[23m 7, 7, 7, 7, 23, 23, 23, 23, 23, 23, 23, …\n",
      "$ hID                           \u001b[3m\u001b[90m<dbl>\u001b[39m\u001b[23m 1, 0, 1, 0, 1, 0, 1, 0, 1, 0, 1, 0, 1, 0…\n"
     ]
    }
   ],
   "source": [
    "\n",
    "#============================\n",
    "# 9. Generate Predictions & Invert Scaling on Validation Set\n",
    "#============================\n",
    "# Use the validation set for predictions\n",
    "pred_all <- model %>% predict(\n",
    "  list(\n",
    "    input_seq = Xnum_val,\n",
    "    input_player_id = cat_player_id_val,\n",
    "    input_tID = cat_tID_val,\n",
    "    input_oID = cat_oID_val,\n",
    "    input_hID = cat_hID_val\n",
    "  )\n",
    ")\n",
    "\n",
    "# Build a predictions table using the validation row IDs\n",
    "preds_def <- tibble(\n",
    "  row_id = val_row_ids,  # row IDs corresponding to the validation set\n",
    "  predicted_total_points_scaled = as.vector(pred_all),\n",
    "  actual_total_points_scaled = as.vector(y_val)\n",
    ") %>% \n",
    "  mutate(\n",
    "    predicted_total_points = predicted_total_points_scaled * sigma + mu,\n",
    "    actual_total_points = actual_total_points_scaled * sigma + mu\n",
    "  )\n",
    "\n",
    "preds_def <- preds_def %>%\n",
    "  left_join(unscaled_def, by = \"row_id\") # Use unscaled_def\n",
    "\n",
    "# View the predictions table\n",
    "glimpse(preds_def)"
   ]
  },
  {
   "cell_type": "markdown",
   "metadata": {
    "_cell_guid": "f5d790df-f2c0-4b8d-b0f7-3c284ae08de1",
    "_uuid": "98589b80-5ed7-4989-955b-a1073d5e30e7",
    "collapsed": false,
    "jupyter": {
     "outputs_hidden": false
    },
    "trusted": true
   },
   "source": [
    "## DEF Eval plots"
   ]
  },
  {
   "cell_type": "code",
   "execution_count": null,
   "metadata": {
    "_cell_guid": "31bcd3c2-2214-4f05-a7a3-ed879475eaab",
    "_uuid": "6053b473-1bab-452d-900a-95f19dd1d19f",
    "collapsed": false,
    "execution": {
     "iopub.execute_input": "2025-04-24T11:47:53.334259Z",
     "iopub.status.busy": "2025-04-24T11:47:53.332879Z",
     "iopub.status.idle": "2025-04-24T11:47:53.956079Z",
     "shell.execute_reply": "2025-04-24T11:47:53.953572Z"
    },
    "jupyter": {
     "outputs_hidden": false
    },
    "trusted": true,
    "vscode": {
     "languageId": "r"
    }
   },
   "outputs": [
    {
     "name": "stdout",
     "output_type": "stream",
     "text": [
      "Rows: 195\n",
      "Columns: 4\n",
      "$ epoch  \u001b[3m\u001b[90m<int>\u001b[39m\u001b[23m 1, 2, 3, 4, 5, 6, 7, 8, 9, 10, 11, 12, 13, 14, 15, 1, 2, 3, 4, …\n",
      "$ value  \u001b[3m\u001b[90m<dbl>\u001b[39m\u001b[23m 0.9401004, 0.8294955, 0.8128243, 0.8040450, 0.7938602, 0.786267…\n",
      "$ metric \u001b[3m\u001b[90m<fct>\u001b[39m\u001b[23m loss, loss, loss, loss, loss, loss, loss, loss, loss, loss, los…\n",
      "$ data   \u001b[3m\u001b[90m<fct>\u001b[39m\u001b[23m training, training, training, training, training, training, tra…\n",
      "DEF model and scaling factors stored.\n"
     ]
    },
    {
     "data": {
      "image/png": "[encoded data removed]",
      "text/plain": [
       "plot without title"
      ]
     },
     "metadata": {
      "image/png": {
       "height": 420,
       "width": 420
      }
     },
     "output_type": "display_data"
    }
   ],
   "source": [
    "plot(history)\n",
    "\n",
    "history_df_def <- as.data.frame(history)\n",
    "\n",
    "glimpse(history_df_def)\n",
    "\n",
    "\n",
    "# Store DEF model and scaling factors\n",
    "model_list$def <- model\n",
    "cat(\"DEF model and scaling factors stored.\\n\")\n",
    "\n",
    "# Clean up validation predictions (select essential columns)\n",
    "# Note: The join in cell d3115b67 uses 'def' (scaled) then 'unscaled_def'.\n",
    "# We need identifiers from unscaled_def.\n",
    "preds_def_clean <- preds_def %>%\n",
    "  select(row_id, GW, player_id, name, position, team, # Identifiers from unscaled_def join\n",
    "         actual_total_points, predicted_total_points, value)"
   ]
  },
  {
   "cell_type": "markdown",
   "metadata": {
    "_cell_guid": "69fa798a-7db0-4f5d-bb71-eb800251bac2",
    "_uuid": "b69b70b0-26e7-46cd-acf8-6c721c695cbe",
    "collapsed": false,
    "jupyter": {
     "outputs_hidden": false
    },
    "trusted": true
   },
   "source": [
    "### Eval DEF"
   ]
  },
  {
   "cell_type": "code",
   "execution_count": null,
   "metadata": {
    "_cell_guid": "26903773-dd70-462c-9b78-aba93bc7c533",
    "_uuid": "a410929e-837e-42c3-8581-00993de7fd01",
    "collapsed": false,
    "execution": {
     "iopub.execute_input": "2025-04-24T11:47:53.962401Z",
     "iopub.status.busy": "2025-04-24T11:47:53.960345Z",
     "iopub.status.idle": "2025-04-24T11:48:07.600154Z",
     "shell.execute_reply": "2025-04-24T11:48:07.598247Z"
    },
    "jupyter": {
     "outputs_hidden": false
    },
    "trusted": true,
    "vscode": {
     "languageId": "r"
    }
   },
   "outputs": [
    {
     "name": "stdout",
     "output_type": "stream",
     "text": [
      "                          loss            mean_absolute_error \n",
      "                    0.95330924                     0.67734116 \n",
      "            mean_squared_error        root_mean_squared_error \n",
      "                    0.95330924                     0.97637558 \n",
      "mean_absolute_percentage_error              cosine_similarity \n",
      "                  767.12738037                    -0.00284657 \n"
     ]
    }
   ],
   "source": [
    "# After training, evaluate the model on validation data with all metrics\n",
    "model_evaluation <- model %>% evaluate(\n",
    "  x = list(\n",
    "    input_seq = Xnum_val,\n",
    "    input_player_id = cat_player_id_val,\n",
    "    input_tID = cat_tID_val,\n",
    "    input_oID = cat_oID_val,\n",
    "    input_hID = cat_hID_val\n",
    "  ),\n",
    "  y = y_val,\n",
    "  verbose = 1\n",
    ")\n",
    "\n",
    "# Print the evaluation results (metrics specified during compilation)\n",
    "print(model_evaluation)\n",
    "\n",
    "# Combine results by position\n",
    "validation_metrics$def <- model_list$def %>% evaluate(\n",
    "  x = list(\n",
    "    input_seq = Xnum_val,\n",
    "    input_player_id = cat_player_id_val,\n",
    "    input_tID = cat_tID_val,\n",
    "    input_oID = cat_oID_val,\n",
    "    input_hID = cat_hID_val\n",
    "  ),\n",
    "  y = y_val\n",
    ")"
   ]
  },
  {
   "cell_type": "markdown",
   "metadata": {
    "_cell_guid": "fbeb22b0-cae9-4908-bc42-1fb45d2ee796",
    "_uuid": "135e539a-5b69-4806-a303-a2da13daf1c6",
    "collapsed": false,
    "jupyter": {
     "outputs_hidden": false
    },
    "trusted": true
   },
   "source": [
    "## 3: Midtbanespillere"
   ]
  },
  {
   "cell_type": "code",
   "execution_count": null,
   "metadata": {
    "_cell_guid": "eebb2fca-ee75-4f41-b1e3-746555d849bb",
    "_uuid": "5fa064f7-daf3-4b2b-b381-697aa3a6e139",
    "collapsed": false,
    "execution": {
     "iopub.execute_input": "2025-04-24T11:48:07.604463Z",
     "iopub.status.busy": "2025-04-24T11:48:07.603014Z",
     "iopub.status.idle": "2025-04-24T11:48:07.631779Z",
     "shell.execute_reply": "2025-04-24T11:48:07.630157Z"
    },
    "jupyter": {
     "outputs_hidden": false
    },
    "trusted": true,
    "vscode": {
     "languageId": "r"
    }
   },
   "outputs": [
    {
     "name": "stdout",
     "output_type": "stream",
     "text": [
      "Numeriske features: assists creativity minutes goals_conceded bonus bps expected_assists expected_goal_involvements expected_goals ict_index own_goals red_cards threat transfers_in transfers_out yellow_cards expected_goals_conceded value selected transfers_balance starts influence clean_sheets \n",
      "Kategoriske features: player_id tID oID hID \n",
      "Target variabel: total_points \n",
      "Ferdig"
     ]
    }
   ],
   "source": [
    "#----------------------------\n",
    "# Define Features, Target & Scale\n",
    "#----------------------------\n",
    "numF <- c(\"assists\", \"creativity\", \"minutes\", \"goals_conceded\",\n",
    "          \"bonus\", \"bps\", \"expected_assists\", \"expected_goal_involvements\",\n",
    "          \"expected_goals\", \"ict_index\", \"own_goals\", \"red_cards\",\n",
    "          \"threat\", \"transfers_in\", \"transfers_out\", \"yellow_cards\",\n",
    "          \"expected_goals_conceded\", \"value\",\n",
    "          \"selected\", \"transfers_balance\", \"starts\", \"influence\",\n",
    "          \"clean_sheets\")\n",
    "catF <- c(\"player_id\", \"tID\", \"oID\", \"hID\")\n",
    "tar <- \"total_points\"\n",
    "\n",
    "cat(\"Numeriske features:\", numF, \"\\n\")\n",
    "cat(\"Kategoriske features:\", catF, \"\\n\")\n",
    "cat(\"Target variabel:\", tar, \"\\n\")\n",
    "cat(\"Ferdig\")"
   ]
  },
  {
   "cell_type": "code",
   "execution_count": null,
   "metadata": {
    "_cell_guid": "b2e8db74-eacb-45b0-b4f4-616f84fec670",
    "_uuid": "9891fb43-c035-4211-895f-8b3435101d26",
    "collapsed": false,
    "execution": {
     "iopub.execute_input": "2025-04-24T11:48:07.635742Z",
     "iopub.status.busy": "2025-04-24T11:48:07.634469Z",
     "iopub.status.idle": "2025-04-24T11:48:07.677810Z",
     "shell.execute_reply": "2025-04-24T11:48:07.676078Z"
    },
    "jupyter": {
     "outputs_hidden": false
    },
    "trusted": true,
    "vscode": {
     "languageId": "r"
    }
   },
   "outputs": [
    {
     "name": "stdout",
     "output_type": "stream",
     "text": [
      "Kjørt"
     ]
    }
   ],
   "source": [
    "# Compute and store the mean and standard deviation for the target variable\n",
    "\n",
    "mu <- mean(mid[[tar]], na.rm = TRUE)\n",
    "sigma <- sd(mid[[tar]], na.rm = TRUE)\n",
    "\n",
    "# Scale numerical features and target\n",
    "mid <- mid %>%\n",
    "  mutate(across(all_of(numF), ~ (.x - mean(.x, na.rm = TRUE)) / sd(.x, na.rm = TRUE)),\n",
    "         !!tar := (.data[[tar]] - mu) / sigma)\n",
    "cat(\"Kjørt\")"
   ]
  },
  {
   "cell_type": "markdown",
   "metadata": {
    "_cell_guid": "8097e0ff-dcf1-46e1-bc18-62b2328dc349",
    "_uuid": "1ac8aba7-ed3c-43c2-aff6-5a8874e744ee",
    "collapsed": false,
    "jupyter": {
     "outputs_hidden": false
    },
    "trusted": true
   },
   "source": [
    "### 3.3 MID Building Rolling Windows"
   ]
  },
  {
   "cell_type": "code",
   "execution_count": null,
   "metadata": {
    "_cell_guid": "14cf35d2-15b7-4c79-bac9-d6db9c9602ff",
    "_uuid": "65f88da9-e4cc-40e8-b067-eb189a549690",
    "collapsed": false,
    "execution": {
     "iopub.execute_input": "2025-04-24T11:48:07.681823Z",
     "iopub.status.busy": "2025-04-24T11:48:07.680547Z"
    },
    "jupyter": {
     "outputs_hidden": false
    },
    "trusted": true,
    "vscode": {
     "languageId": "r"
    }
   },
   "outputs": [
    {
     "name": "stdout",
     "output_type": "stream",
     "text": [
      "Kjørt"
     ]
    }
   ],
   "source": [
    "#----------------------------\n",
    "# 3. Build Rolling Windows\n",
    "#----------------------------\n",
    "# Define window size (number of past gameweeks to use)\n",
    "ws <- vindu\n",
    "\n",
    "# Build numerical rolling windows\n",
    "numW <- mid %>%\n",
    "  group_by(player_id) %>%\n",
    "  filter(n() > ws) %>%  # Only players with more than ws observations\n",
    "  group_modify(~ {\n",
    "    windows <- slide(.x[, numF],\n",
    "                     .f = ~ as.matrix(.x),\n",
    "                     .before = ws, \n",
    "                     .after = -1, # prevents the model from seeing current gw data\n",
    "                     .complete = TRUE)\n",
    "    valid_windows <- windows[(ws + 1):length(windows)]\n",
    "    target <- .x[[tar]][(ws + 1):nrow(.x)]\n",
    "    # Extract row_id for each valid window\n",
    "    rid <- .x$row_id[(ws + 1):nrow(.x)]\n",
    "    tibble(window = valid_windows, target = target, row_id = rid)\n",
    "  }) %>%\n",
    "  ungroup()\n",
    "numW <- numW %>%\n",
    "  left_join(mid %>% select(row_id, GW), by = \"row_id\")\n",
    "# Build categorical rolling windows (if needed for debugging; here we use only the current values)\n",
    "catW <- mid %>%\n",
    "  group_by(player_id) %>%\n",
    "  filter(n() > ws) %>%\n",
    "  group_modify(~ {\n",
    "    df <- ungroup(.x) %>% mutate(player_id = .y$player_id)\n",
    "    windows <- slide(df %>% select(all_of(catF)),\n",
    "                     .f = ~ as.matrix(.x),\n",
    "                     .before = ws,\n",
    "                     #.after = -1,\n",
    "                     .complete = TRUE)\n",
    "    valid_windows <- windows[(ws + 1):length(windows)]\n",
    "    target <- df[[tar]][(ws + 1):nrow(df)]\n",
    "    tibble(window = valid_windows, target = target)\n",
    "  }) %>%\n",
    "  ungroup()\n",
    "\n",
    "cat(\"Kjørt\")"
   ]
  },
  {
   "cell_type": "code",
   "execution_count": null,
   "metadata": {
    "_cell_guid": "2891268f-fd57-440f-a55b-001de8d48614",
    "_uuid": "cfc827a8-ae87-402d-91f9-3b5426b0a840",
    "collapsed": false,
    "jupyter": {
     "outputs_hidden": false
    },
    "trusted": true,
    "vscode": {
     "languageId": "r"
    }
   },
   "outputs": [
    {
     "name": "stdout",
     "output_type": "stream",
     "text": [
      "Windows with NA:  0 \n",
      "Selected features:  assists creativity minutes bonus bps expected_assists expected_goals red_cards threat transfers_out expected_goals_conceded value selected starts clean_sheets \n"
     ]
    }
   ],
   "source": [
    "# Check for any NA in the windows before summary\n",
    "sumna <- sapply(numW$window, function(flatW) any(is.na(flatW)))\n",
    "cat(\"Windows with NA: \", sum(sumna), \"\\n\")\n",
    "\n",
    "#----------------------------\n",
    "# 4. Lasso regression\n",
    "#----------------------------\n",
    "# numW as data.matrix, tar as response variable\n",
    "\n",
    "aggmat <- lapply(numW$window, function(flatW){\n",
    "  colMeans(flatW, na.rm = TRUE)\n",
    "})\n",
    "x <- do.call(rbind, aggmat)\n",
    "y <- numW$target\n",
    "\n",
    "# K-fold CV\n",
    "cvfit <- cv.glmnet(x,y,alpha=1)\n",
    "minlambda <- cvfit$lambda.min\n",
    "\n",
    "lassofit <- glmnet(x,y,alpha = 1, lambda = minlambda)\n",
    "\n",
    "coef_lasso <- as.matrix(coef(lassofit))\n",
    "numF <- rownames(coef_lasso)[coef_lasso[,1] != 0]\n",
    "numF <- setdiff(numF, \"(Intercept)\")\n",
    "cat(\"Selected features: \", numF, \"\\n\")\n",
    "\n",
    "# repeat rolling window, now only containing selected features\n",
    "# Define window size (number of past gameweeks to use)\n",
    "ws <- vindu\n",
    "\n",
    "# Build numerical rolling windows\n",
    "numW <- mid %>%\n",
    "  group_by(player_id) %>%\n",
    "  filter(n() > ws) %>%  # Only players with more than ws observations\n",
    "  group_modify(~ {\n",
    "    windows <- slide(.x[, numF],\n",
    "                     .f = ~ as.matrix(.x),\n",
    "                     .before = ws, \n",
    "                     .after = -1,\n",
    "                     .complete = TRUE)\n",
    "    valid_windows <- windows[(ws + 1):length(windows)]\n",
    "    target <- .x[[tar]][(ws + 1):nrow(.x)]\n",
    "    # Extract row_id for each valid window\n",
    "    rid <- .x$row_id[(ws + 1):nrow(.x)]\n",
    "    tibble(window = valid_windows, target = target, row_id = rid)\n",
    "  }) %>%\n",
    "  ungroup()\n",
    "numW <- numW %>%\n",
    "  left_join(mid %>% select(row_id, GW), by = \"row_id\")"
   ]
  },
  {
   "cell_type": "code",
   "execution_count": null,
   "metadata": {
    "_cell_guid": "8eee3ef4-ba05-4d67-b775-0d5f06ae2126",
    "_uuid": "7ca6740e-6fa5-4785-b9ab-9299315a01c1",
    "collapsed": false,
    "jupyter": {
     "outputs_hidden": false
    },
    "trusted": true,
    "vscode": {
     "languageId": "r"
    }
   },
   "outputs": [],
   "source": [
    "#============================\n",
    "# 5. Convert Rolling Windows to Arrays & Extract Targets\n",
    "#============================\n",
    "# Number of samples is the number of rows in numW\n",
    "nSamp <- nrow(numW)\n",
    "\n",
    "# Convert numerical windows to a 3D array of shape [nSamp, ws, length(numF)]\n",
    "num_array <- array(\n",
    "  unlist(numW$window),\n",
    "  dim = c(nSamp, ws, length(numF))\n",
    ")\n",
    "\n",
    "# Targets (scaled): a matrix with one column\n",
    "targets <- matrix(as.numeric(numW$target), ncol = 1)\n",
    "\n",
    "# For categorical inputs, extract the current categorical values from the last row of each window.\n",
    "# (If your windows were built solely from historical data, the \"current\" values need to come from the original data.)\n",
    "# Here, we use the categorical rolling windows and extract the last row:\n",
    "cat_current <- do.call(rbind, lapply(catW$window, function(mat) mat[nrow(mat), ]))\n",
    "# Split into separate matrices (each of shape [nSamp, 1])\n",
    "cat_player_id <- matrix(as.integer(cat_current[, \"player_id\"]), ncol = 1)\n",
    "cat_tID <- matrix(as.integer(cat_current[, \"tID\"]), ncol = 1)\n",
    "cat_oID <- matrix(as.integer(cat_current[, \"oID\"]), ncol = 1)\n",
    "cat_hID <- matrix(as.integer(cat_current[, \"hID\"]), ncol = 1)"
   ]
  },
  {
   "cell_type": "markdown",
   "metadata": {
    "_cell_guid": "241dea11-91a3-4355-adef-377d5d85d311",
    "_uuid": "8765b15d-4d88-4952-896e-5704bee9bc9e",
    "collapsed": false,
    "jupyter": {
     "outputs_hidden": false
    },
    "trusted": true
   },
   "source": [
    "## 6. Data split MID"
   ]
  },
  {
   "cell_type": "code",
   "execution_count": null,
   "metadata": {
    "_cell_guid": "c2cf296a-348a-4cb8-a188-e1ae71c966c1",
    "_uuid": "5c99bdf3-11bc-4c41-8ed5-f44c9abb6c95",
    "collapsed": false,
    "jupyter": {
     "outputs_hidden": false
    },
    "trusted": true,
    "vscode": {
     "languageId": "r"
    }
   },
   "outputs": [],
   "source": [
    "#============================\n",
    "# 6. Split Data into Training and Validation Sets\n",
    "#============================\n",
    "idx <- which(numW$GW <= split_gw)\n",
    "\n",
    "# Training data\n",
    "Xnum_train <- num_array[idx, , , drop = FALSE]\n",
    "cat_player_id_train <- cat_player_id[idx, , drop = FALSE]\n",
    "cat_tID_train <- cat_tID[idx, , drop = FALSE]\n",
    "cat_oID_train <- cat_oID[idx, , drop = FALSE]\n",
    "cat_hID_train <- cat_hID[idx, , drop = FALSE]\n",
    "y_train <- targets[idx, , drop = FALSE]\n",
    "\n",
    "# Validation data\n",
    "Xnum_val <- num_array[-idx, , , drop = FALSE]\n",
    "cat_player_id_val <- cat_player_id[-idx, , drop = FALSE]\n",
    "cat_tID_val <- cat_tID[-idx, , drop = FALSE]\n",
    "cat_oID_val <- cat_oID[-idx, , drop = FALSE]\n",
    "cat_hID_val <- cat_hID[-idx, , drop = FALSE]\n",
    "y_val <- targets[-idx, , drop = FALSE]\n",
    "\n",
    "# Also, extract the row IDs for the validation samples (for later joining)\n",
    "val_row_ids <- numW$row_id[-idx]"
   ]
  },
  {
   "cell_type": "code",
   "execution_count": null,
   "metadata": {
    "_cell_guid": "37be30a0-533e-42a6-9d0c-e8c29146b923",
    "_uuid": "881273f8-4c27-4e2c-9b98-4c5023fa793f",
    "collapsed": false,
    "jupyter": {
     "outputs_hidden": false
    },
    "trusted": true,
    "vscode": {
     "languageId": "r"
    }
   },
   "outputs": [
    {
     "name": "stdout",
     "output_type": "stream",
     "text": [
      "Model: \"mid_lstm_model\"\n",
      "________________________________________________________________________________\n",
      " Layer (type)           Output Shape            Param   Connected to            \n",
      "                                                 #                              \n",
      "================================================================================\n",
      " input_player_id (Inpu  [(None, 1)]             0       []                      \n",
      " tLayer)                                                                        \n",
      " input_tID (InputLayer  [(None, 1)]             0       []                      \n",
      " )                                                                              \n",
      " input_oID (InputLayer  [(None, 1)]             0       []                      \n",
      " )                                                                              \n",
      " input_hID (InputLayer  [(None, 1)]             0       []                      \n",
      " )                                                                              \n",
      " embedding_6 (Embeddin  (None, 1, 20)           26700   ['input_player_id[0][0]'\n",
      " g)                                                     ]                       \n",
      " embedding_7 (Embeddin  (None, 1, 20)           500     ['input_tID[0][0]']     \n",
      " g)                                                                             \n",
      " embedding_8 (Embeddin  (None, 1, 20)           500     ['input_oID[0][0]']     \n",
      " g)                                                                             \n",
      " lambda_2 (Lambda)      (None, 1)               0       ['input_hID[0][0]']     \n",
      " input_seq (InputLayer  [(None, 3, 15)]         0       []                      \n",
      " )                                                                              \n",
      " flatten_8 (Flatten)    (None, 20)              0       ['embedding_6[0][0]']   \n",
      " flatten_9 (Flatten)    (None, 20)              0       ['embedding_7[0][0]']   \n",
      " flatten_10 (Flatten)   (None, 20)              0       ['embedding_8[0][0]']   \n",
      " flatten_11 (Flatten)   (None, 1)               0       ['lambda_2[0][0]']      \n",
      " lstm_2 (LSTM)          (None, 64)              20480   ['input_seq[0][0]']     \n",
      " concatenate_4 (Concat  (None, 61)              0       ['flatten_8[0][0]',     \n",
      " enate)                                                  'flatten_9[0][0]',     \n",
      "                                                         'flatten_10[0][0]',    \n",
      "                                                         'flatten_11[0][0]']    \n",
      " dropout_2 (Dropout)    (None, 64)              0       ['lstm_2[0][0]']        \n",
      " dense_6 (Dense)        (None, 16)              992     ['concatenate_4[0][0]'] \n",
      " concatenate_5 (Concat  (None, 80)              0       ['dropout_2[0][0]',     \n",
      " enate)                                                  'dense_6[0][0]']       \n",
      " dense_7 (Dense)        (None, 32)              2592    ['concatenate_5[0][0]'] \n",
      " dense_8 (Dense)        (None, 1)               33      ['dense_7[0][0]']       \n",
      "================================================================================\n",
      "Total params: 51797 (202.33 KB)\n",
      "Trainable params: 51797 (202.33 KB)\n",
      "Non-trainable params: 0 (0.00 Byte)\n",
      "________________________________________________________________________________\n"
     ]
    }
   ],
   "source": [
    "#============================\n",
    "# 7. Build the Model\n",
    "#============================\n",
    "# Define maximum values for categorical features\n",
    "num_players   <- max(mid$player_id)\n",
    "num_teams     <- max(mid$tID)\n",
    "num_opponents <- max(mid$oID)\n",
    "# For hID, assume it???s binary\n",
    "\n",
    "emb_dim <- 20  # Embedding dimension\n",
    "\n",
    "# Create input layers for current categorical values\n",
    "input_player_id <- layer_input(shape = c(1), dtype = \"int32\", name = \"input_player_id\")\n",
    "input_tID <- layer_input(shape = c(1), dtype = \"int32\", name = \"input_tID\")\n",
    "input_oID <- layer_input(shape = c(1), dtype = \"int32\", name = \"input_oID\")\n",
    "input_hID <- layer_input(shape = c(1), dtype = \"int32\", name = \"input_hID\")\n",
    "\n",
    "embedding_player_id <- input_player_id %>% \n",
    "  layer_embedding(input_dim = num_players + 1, output_dim = emb_dim, mask_zero = TRUE) %>% \n",
    "  layer_flatten()\n",
    "embedding_tID <- input_tID %>% \n",
    "  layer_embedding(input_dim = num_teams + 1, output_dim = emb_dim, mask_zero = TRUE) %>% \n",
    "  layer_flatten()\n",
    "embedding_oID <- input_oID %>% \n",
    "  layer_embedding(input_dim = num_opponents + 1, output_dim = emb_dim, mask_zero = TRUE) %>% \n",
    "  layer_flatten()\n",
    "# For hID, convert to float32 to match types\n",
    "input_hID_flat <- input_hID %>% \n",
    "  layer_lambda(function(x) tf$cast(x, tf$float32)) %>% \n",
    "  layer_flatten()\n",
    "\n",
    "# Merge categorical branch\n",
    "cat_merged <- layer_concatenate(list(embedding_player_id, embedding_tID, embedding_oID, input_hID_flat)) %>%\n",
    "  layer_dense(units = 16, activation = \"relu\")\n",
    "\n",
    "# Numerical branch: input for rolling window data\n",
    "input_seq <- layer_input(shape = c(ws, length(numF)), name = \"input_seq\")\n",
    "lstm_branch <- input_seq %>%\n",
    "  layer_lstm(units = 64, return_sequences = FALSE) %>%\n",
    "  layer_dropout(rate = 0.2)\n",
    "\n",
    "# Merge both branches and build the output\n",
    "merged <- layer_concatenate(list(lstm_branch, cat_merged))\n",
    "dense_layer <- merged %>% layer_dense(units = 32, activation = \"relu\")\n",
    "output <- dense_layer %>% layer_dense(units = 1, activation = \"linear\")\n",
    "\n",
    "# Build and compile the model\n",
    "model <- keras_model(\n",
    "  inputs = list(input_seq, input_player_id, input_tID, input_oID, input_hID),\n",
    "  outputs = output,\n",
    "    name = \"mid_lstm_model\"\n",
    ")\n",
    "model %>% compile(\n",
    "  optimizer = optimizer_adam(),\n",
    "  loss = \"mse\",\n",
    "  metrics = metrics_regression,\n",
    "  run_eagerly = TRUE\n",
    ")\n",
    "summary(model)"
   ]
  },
  {
   "cell_type": "markdown",
   "metadata": {
    "_cell_guid": "1c7f1a12-b201-49aa-a1be-fca2e5a7004c",
    "_uuid": "849f21b6-177c-4434-b311-2df6b98b7978",
    "collapsed": false,
    "jupyter": {
     "outputs_hidden": false
    },
    "trusted": true
   },
   "source": [
    "## Før fit av modellen MID"
   ]
  },
  {
   "cell_type": "code",
   "execution_count": null,
   "metadata": {
    "_cell_guid": "092dec0f-b13a-4d46-8ea7-0ed4a285d897",
    "_uuid": "62617b4c-bfb5-4220-b146-3dbfccc3037f",
    "collapsed": false,
    "jupyter": {
     "outputs_hidden": false
    },
    "trusted": true,
    "vscode": {
     "languageId": "r"
    }
   },
   "outputs": [
    {
     "name": "stdout",
     "output_type": "stream",
     "text": [
      "Will save best MID weights to: R Forecast/best_mid.hdf5 \n",
      "MID scaling factors stored.\n"
     ]
    }
   ],
   "source": [
    "# Filepath for saving the BEST weights (unique for each position)\n",
    "weights_filepath_mid <- \"R Forecast/best_mid.hdf5\"\n",
    "cat(\"Will save best MID weights to:\", weights_filepath_mid, \"\\n\")\n",
    "\n",
    "# 1. Early Stopping Callback\n",
    "early_stopping <- callback_early_stopping(\n",
    "    monitor = \"val_loss\",       # Monitor validation loss\n",
    "    patience = num_patience,              # Stop after 10 epochs of no improvement\n",
    "    restore_best_weights = TRUE # Optional but good: restores weights from the best epoch at the end of training\n",
    "                                # Note: Checkpoint callback is the primary saver here.\n",
    ")\n",
    "\n",
    "# 2. Model Checkpoint Callback (to save best weights)\n",
    "model_checkpoint <- callback_model_checkpoint(\n",
    "    filepath = weights_filepath_mid, # Path defined above\n",
    "    monitor = \"val_loss\",           # Monitor the same metric as early stopping\n",
    "    save_best_only = TRUE,          # IMPORTANT: Only save when val_loss improves\n",
    "    save_weights_only = TRUE,       # IMPORTANT: Save ONLY the weights, not the whole model\n",
    "    mode = \"min\",                   # We want to minimize loss\n",
    "    verbose = 1                     # Optional: print message when weights are saved\n",
    ")\n",
    "\n",
    "reduce_lr <- callback_reduce_lr_on_plateau(\n",
    "    monitor = \"val_loss\",  # Monitor validation loss (same as early stopping)\n",
    "    factor = 0.2,          # Reduce LR to 20% of its current value (lr * factor)\n",
    "    patience = 5,           # Reduce LR if val_loss doesn't improve for 5 epochs\n",
    "    min_lr = 1e-6,         # Don't reduce the LR below this value\n",
    "    verbose = 1            # Print a message when LR is reduced\n",
    ")\n",
    "\n",
    "# Store scaling factors NOW (before potential errors during training)\n",
    "# Ensure mu, sigma, and numF (Lasso selected) are correctly captured from the GK scaling steps\n",
    "scaling_factors$mid <- list(\n",
    "    mu = mu,         # Mean of GK target used for scaling\n",
    "    sigma = sigma,   # SD of GK target used for scaling\n",
    "    numF = numF      # Vector of Lasso-selected numerical feature names for GK\n",
    ")\n",
    "cat(\"MID scaling factors stored.\\n\")"
   ]
  },
  {
   "cell_type": "code",
   "execution_count": null,
   "metadata": {
    "_cell_guid": "5bd2576b-1888-4cd9-a59a-825a0f97137c",
    "_uuid": "9d085892-5279-4ee2-8335-83d6e6b85ad4",
    "collapsed": false,
    "jupyter": {
     "outputs_hidden": false
    },
    "trusted": true,
    "vscode": {
     "languageId": "r"
    }
   },
   "outputs": [
    {
     "name": "stdout",
     "output_type": "stream",
     "text": [
      "Starting MID model training...\n",
      "MID model training finished.\n"
     ]
    }
   ],
   "source": [
    "#============================\n",
    "# 8. Train the Model\n",
    "#============================\n",
    "cat(\"Starting MID model training...\\n\")\n",
    "history <- model %>% fit(\n",
    "  x = list(\n",
    "    input_seq = Xnum_train,\n",
    "    input_player_id = cat_player_id_train,\n",
    "    input_tID = cat_tID_train,\n",
    "    input_oID = cat_oID_train,\n",
    "    input_hID = cat_hID_train\n",
    "  ),\n",
    "  y = y_train,\n",
    "  epochs = epoker,          # Max epochs\n",
    "  batch_size = 64,          # Try increasing batch size (e.g., 64 or 128) for speed\n",
    "  validation_data = list(\n",
    "    list(\n",
    "      input_seq = Xnum_val,\n",
    "      input_player_id = cat_player_id_val,\n",
    "      input_tID = cat_tID_val,\n",
    "      input_oID = cat_oID_val,\n",
    "      input_hID = cat_hID_val\n",
    "    ),\n",
    "    y_val\n",
    "  ),\n",
    "  # ADD THE CALLBACKS HERE\n",
    "  callbacks = list(early_stopping, model_checkpoint, reduce_lr)\n",
    ")\n",
    "cat(\"MID model training finished.\\n\")"
   ]
  },
  {
   "cell_type": "code",
   "execution_count": null,
   "metadata": {
    "_cell_guid": "13eefc49-ba31-4520-875a-1fcd1b60ccef",
    "_uuid": "04f41db3-81ce-4a05-8ffa-2204fc280015",
    "collapsed": false,
    "jupyter": {
     "outputs_hidden": false
    },
    "trusted": true,
    "vscode": {
     "languageId": "r"
    }
   },
   "outputs": [
    {
     "name": "stdout",
     "output_type": "stream",
     "text": [
      "Rows: 9,502\n",
      "Columns: 49\n",
      "$ row_id                        \u001b[3m\u001b[90m<dbl>\u001b[39m\u001b[23m 587, 588, 589, 590, 591, 592, 593, 594, …\n",
      "$ predicted_total_points_scaled \u001b[3m\u001b[90m<dbl>\u001b[39m\u001b[23m 0.29094085, 0.12081978, 0.51503688, 0.12…\n",
      "$ actual_total_points_scaled    \u001b[3m\u001b[90m<dbl>\u001b[39m\u001b[23m 0.32314972, -0.09825256, -0.09825256, -0…\n",
      "$ predicted_total_points        \u001b[3m\u001b[90m<dbl>\u001b[39m\u001b[23m 1.923567, 1.519865, 2.455354, 1.521087, …\n",
      "$ actual_total_points           \u001b[3m\u001b[90m<dbl>\u001b[39m\u001b[23m 2, 1, 1, 0, 2, 2, 3, 3, 2, 0, 3, 3, 2, 3…\n",
      "$ name                          \u001b[3m\u001b[90m<chr>\u001b[39m\u001b[23m \"Abdoulaye Doucoure\", \"Abdoulaye Doucour…\n",
      "$ position                      \u001b[3m\u001b[90m<chr>\u001b[39m\u001b[23m \"MID\", \"MID\", \"MID\", \"MID\", \"MID\", \"MID\"…\n",
      "$ team                          \u001b[3m\u001b[90m<chr>\u001b[39m\u001b[23m \"Everton\", \"Everton\", \"Everton\", \"Everto…\n",
      "$ xP                            \u001b[3m\u001b[90m<dbl>\u001b[39m\u001b[23m 2.0, 1.5, 1.3, 1.0, 1.5, 1.3, 1.3, 2.7, …\n",
      "$ assists                       \u001b[3m\u001b[90m<dbl>\u001b[39m\u001b[23m 0, 0, 0, 0, 0, 0, 0, 0, 0, 0, 0, 0, 0, 0…\n",
      "$ bonus                         \u001b[3m\u001b[90m<dbl>\u001b[39m\u001b[23m 0, 0, 0, 0, 0, 0, 0, 0, 0, 0, 0, 0, 0, 0…\n",
      "$ bps                           \u001b[3m\u001b[90m<dbl>\u001b[39m\u001b[23m 2, 3, 4, 0, 14, 7, 11, 11, 13, 0, 16, 7,…\n",
      "$ clean_sheets                  \u001b[3m\u001b[90m<dbl>\u001b[39m\u001b[23m 0, 0, 0, 0, 0, 0, 1, 1, 0, 0, 1, 1, 0, 1…\n",
      "$ creativity                    \u001b[3m\u001b[90m<dbl>\u001b[39m\u001b[23m 3.2, 1.4, 1.9, 0.0, 2.8, 13.0, 32.2, 23.…\n",
      "$ expected_assists              \u001b[3m\u001b[90m<dbl>\u001b[39m\u001b[23m 0.01, 0.00, 0.01, 0.00, 0.01, 0.02, 0.02…\n",
      "$ expected_goal_involvements    \u001b[3m\u001b[90m<dbl>\u001b[39m\u001b[23m 0.15, 0.07, 0.01, 0.00, 0.03, 0.02, 0.02…\n",
      "$ expected_goals                \u001b[3m\u001b[90m<dbl>\u001b[39m\u001b[23m 0.14, 0.07, 0.00, 0.00, 0.02, 0.00, 0.00…\n",
      "$ expected_goals_conceded       \u001b[3m\u001b[90m<dbl>\u001b[39m\u001b[23m 1.13, 1.66, 1.54, 0.00, 0.66, 0.95, 2.05…\n",
      "$ fixture                       \u001b[3m\u001b[90m<dbl>\u001b[39m\u001b[23m 3, 19, 24, 31, 45, 55, 67, 73, 87, 98, 1…\n",
      "$ goals_conceded                \u001b[3m\u001b[90m<dbl>\u001b[39m\u001b[23m 2, 2, 3, 0, 1, 1, 0, 0, 1, 0, 0, 0, 4, 0…\n",
      "$ goals_scored                  \u001b[3m\u001b[90m<dbl>\u001b[39m\u001b[23m 0, 0, 0, 0, 0, 0, 0, 0, 0, 0, 0, 0, 0, 0…\n",
      "$ ict_index                     \u001b[3m\u001b[90m<dbl>\u001b[39m\u001b[23m 1.1, 1.0, 0.5, 0.0, 1.8, 2.3, 4.4, 3.9, …\n",
      "$ influence                     \u001b[3m\u001b[90m<dbl>\u001b[39m\u001b[23m 2.4, 1.6, 1.2, 0.0, 12.6, 10.4, 11.6, 13…\n",
      "$ kickoff_time                  \u001b[3m\u001b[90m<dttm>\u001b[39m\u001b[23m 2024-08-17 14:00:00, 2024-08-24 14:00:0…\n",
      "$ minutes                       \u001b[3m\u001b[90m<dbl>\u001b[39m\u001b[23m 62, 56, 7, 0, 90, 90, 90, 90, 79, 0, 85,…\n",
      "$ opponent_team                 \u001b[3m\u001b[90m<chr>\u001b[39m\u001b[23m \"Brighton\", \"Tottenham\", \"Bournemouth\", …\n",
      "$ own_goals                     \u001b[3m\u001b[90m<dbl>\u001b[39m\u001b[23m 0, 0, 0, 0, 0, 0, 0, 0, 0, 0, 0, 0, 0, 0…\n",
      "$ penalties_missed              \u001b[3m\u001b[90m<dbl>\u001b[39m\u001b[23m 0, 0, 0, 0, 0, 0, 0, 0, 0, 0, 0, 0, 0, 0…\n",
      "$ penalties_saved               \u001b[3m\u001b[90m<dbl>\u001b[39m\u001b[23m 0, 0, 0, 0, 0, 0, 0, 0, 0, 0, 0, 0, 0, 0…\n",
      "$ red_cards                     \u001b[3m\u001b[90m<dbl>\u001b[39m\u001b[23m 0, 0, 0, 0, 0, 0, 0, 0, 0, 0, 0, 0, 0, 0…\n",
      "$ round                         \u001b[3m\u001b[90m<dbl>\u001b[39m\u001b[23m 1, 2, 3, 4, 5, 6, 7, 8, 9, 10, 11, 12, 1…\n",
      "$ saves                         \u001b[3m\u001b[90m<dbl>\u001b[39m\u001b[23m 0, 0, 0, 0, 0, 0, 0, 0, 0, 0, 0, 0, 0, 0…\n",
      "$ selected                      \u001b[3m\u001b[90m<dbl>\u001b[39m\u001b[23m 46194, 43259, 37931, 30683, 27682, 25555…\n",
      "$ starts                        \u001b[3m\u001b[90m<dbl>\u001b[39m\u001b[23m 1, 1, 0, 0, 1, 1, 1, 1, 1, 0, 1, 1, 1, 1…\n",
      "$ team_a_score                  \u001b[3m\u001b[90m<dbl>\u001b[39m\u001b[23m 3, 0, 3, 2, 1, 1, 0, 2, 1, 0, 0, 0, 0, 0…\n",
      "$ team_h_score                  \u001b[3m\u001b[90m<dbl>\u001b[39m\u001b[23m 0, 4, 2, 3, 1, 2, 0, 0, 1, 1, 0, 0, 4, 4…\n",
      "$ threat                        \u001b[3m\u001b[90m<dbl>\u001b[39m\u001b[23m 5, 7, 2, 0, 3, 0, 0, 2, 19, 0, 9, 2, 2, …\n",
      "$ total_points                  \u001b[3m\u001b[90m<dbl>\u001b[39m\u001b[23m 2, 1, 1, 0, 2, 2, 3, 3, 2, 0, 3, 3, 2, 3…\n",
      "$ transfers_balance             \u001b[3m\u001b[90m<dbl>\u001b[39m\u001b[23m 0, -6563, -6423, -7655, -3364, -2326, -1…\n",
      "$ transfers_in                  \u001b[3m\u001b[90m<dbl>\u001b[39m\u001b[23m 0, 1812, 2669, 914, 677, 806, 729, 2939,…\n",
      "$ transfers_out                 \u001b[3m\u001b[90m<dbl>\u001b[39m\u001b[23m 0, 8375, 9092, 8569, 4041, 3132, 2549, 1…\n",
      "$ value                         \u001b[3m\u001b[90m<dbl>\u001b[39m\u001b[23m 55, 55, 54, 53, 53, 52, 52, 52, 52, 52, …\n",
      "$ was_home                      \u001b[3m\u001b[90m<lgl>\u001b[39m\u001b[23m TRUE, FALSE, TRUE, FALSE, FALSE, TRUE, T…\n",
      "$ yellow_cards                  \u001b[3m\u001b[90m<dbl>\u001b[39m\u001b[23m 0, 0, 0, 0, 0, 0, 0, 0, 0, 0, 0, 0, 0, 0…\n",
      "$ GW                            \u001b[3m\u001b[90m<dbl>\u001b[39m\u001b[23m 77, 78, 79, 80, 81, 82, 83, 84, 85, 86, …\n",
      "$ player_id                     \u001b[3m\u001b[90m<dbl>\u001b[39m\u001b[23m 8, 8, 8, 8, 8, 8, 8, 8, 8, 8, 8, 8, 8, 8…\n",
      "$ oID                           \u001b[3m\u001b[90m<dbl>\u001b[39m\u001b[23m 5, 22, 3, 2, 13, 8, 18, 11, 10, 21, 23, …\n",
      "$ tID                           \u001b[3m\u001b[90m<dbl>\u001b[39m\u001b[23m 9, 9, 9, 9, 9, 9, 9, 9, 9, 9, 9, 9, 9, 9…\n",
      "$ hID                           \u001b[3m\u001b[90m<dbl>\u001b[39m\u001b[23m 1, 0, 1, 0, 0, 1, 1, 0, 1, 0, 0, 1, 0, 1…\n"
     ]
    }
   ],
   "source": [
    "\n",
    "#============================\n",
    "# 9. Generate Predictions & Invert Scaling on Validation Set\n",
    "#============================\n",
    "# Use the validation set for predictions\n",
    "pred_all <- model %>% predict(\n",
    "  list(\n",
    "    input_seq = Xnum_val,\n",
    "    input_player_id = cat_player_id_val,\n",
    "    input_tID = cat_tID_val,\n",
    "    input_oID = cat_oID_val,\n",
    "    input_hID = cat_hID_val\n",
    "  )\n",
    ")\n",
    "\n",
    "# Build a predictions table using the validation row IDs\n",
    "preds_mid <- tibble(\n",
    "  row_id = val_row_ids,  # row IDs corresponding to the validation set\n",
    "  predicted_total_points_scaled = as.vector(pred_all),\n",
    "  actual_total_points_scaled = as.vector(y_val)\n",
    ") %>% \n",
    "  mutate(\n",
    "    predicted_total_points = predicted_total_points_scaled * sigma + mu,\n",
    "    actual_total_points = actual_total_points_scaled * sigma + mu\n",
    "  )\n",
    "\n",
    "preds_mid <- preds_mid %>%\n",
    "  left_join(unscaled_mid, by = \"row_id\") # Use unscaled_mid\n",
    "\n",
    "# View the predictions table\n",
    "glimpse(preds_mid)"
   ]
  },
  {
   "cell_type": "markdown",
   "metadata": {
    "_cell_guid": "d4d36862-00b1-4df8-badf-d3cc2d6d5dc8",
    "_uuid": "b6562db8-5e2a-4158-8a4e-e214bcd9d4c1",
    "collapsed": false,
    "jupyter": {
     "outputs_hidden": false
    },
    "trusted": true
   },
   "source": [
    "## Eval plots mid"
   ]
  },
  {
   "cell_type": "code",
   "execution_count": null,
   "metadata": {
    "_cell_guid": "36923e18-e047-486a-9843-2c4d0e4881ed",
    "_uuid": "2ba04bbb-7b24-4a83-84f7-6ef9efb3e69a",
    "collapsed": false,
    "jupyter": {
     "outputs_hidden": false
    },
    "trusted": true,
    "vscode": {
     "languageId": "r"
    }
   },
   "outputs": [
    {
     "name": "stdout",
     "output_type": "stream",
     "text": [
      "Rows: 195\n",
      "Columns: 4\n",
      "$ epoch  \u001b[3m\u001b[90m<int>\u001b[39m\u001b[23m 1, 2, 3, 4, 5, 6, 7, 8, 9, 10, 11, 12, 13, 14, 15, 1, 2, 3, 4, …\n",
      "$ value  \u001b[3m\u001b[90m<dbl>\u001b[39m\u001b[23m 0.8466167, 0.7212182, 0.7089561, 0.7014485, 0.6936108, 0.687874…\n",
      "$ metric \u001b[3m\u001b[90m<fct>\u001b[39m\u001b[23m loss, loss, loss, loss, loss, loss, loss, loss, loss, loss, los…\n",
      "$ data   \u001b[3m\u001b[90m<fct>\u001b[39m\u001b[23m training, training, training, training, training, training, tra…\n"
     ]
    },
    {
     "data": {
      "image/png": "[encoded data removed]",
      "text/plain": [
       "plot without title"
      ]
     },
     "metadata": {
      "image/png": {
       "height": 420,
       "width": 420
      }
     },
     "output_type": "display_data"
    }
   ],
   "source": [
    "plot(history)\n",
    "\n",
    "history_df_mid <- as.data.frame(history)\n",
    "\n",
    "glimpse(history_df_mid)"
   ]
  },
  {
   "cell_type": "markdown",
   "metadata": {
    "_cell_guid": "60f60ce3-9f56-49a7-b7c4-e6a4258410fa",
    "_uuid": "79525596-f023-447e-804e-9e05107ec893",
    "collapsed": false,
    "jupyter": {
     "outputs_hidden": false
    },
    "trusted": true
   },
   "source": [
    "## 3.11 Lagre modell og prediksjoner"
   ]
  },
  {
   "cell_type": "code",
   "execution_count": null,
   "metadata": {
    "_cell_guid": "01aa5c31-d6bb-4711-b2b7-010a1b77320f",
    "_uuid": "3c8e34e4-499e-409b-a800-66e85cae8bef",
    "collapsed": false,
    "jupyter": {
     "outputs_hidden": false
    },
    "trusted": true,
    "vscode": {
     "languageId": "r"
    }
   },
   "outputs": [
    {
     "name": "stdout",
     "output_type": "stream",
     "text": [
      "MID model and scaling factors stored.\n"
     ]
    }
   ],
   "source": [
    "# Store MID model and scaling factors\n",
    "model_list$mid <- model\n",
    "scaling_factors$mid <- list(mu = mu, sigma = sigma, numF = numF) # numF here is the one selected by Lasso for MID\n",
    "cat(\"MID model and scaling factors stored.\\n\")\n",
    "\n",
    "# Clean up validation predictions (select essential columns)\n",
    "# Note: The join in cell a38dc192 uses 'mid' (scaled) then 'unscaled_mid'.\n",
    "preds_mid_clean <- preds_mid %>%\n",
    "   select(row_id, GW, player_id, name, position, team, # Identifiers from unscaled_mid join\n",
    "         actual_total_points, predicted_total_points, value)\n",
    "\n",
    "#save_model_tf(model, filepath = \"/kaggle/working/midmodel_tf\")"
   ]
  },
  {
   "cell_type": "code",
   "execution_count": null,
   "metadata": {
    "_cell_guid": "580bed62-4705-4823-9d99-5a01421b9894",
    "_uuid": "5909e15f-6558-453e-938d-1e24a423993d",
    "collapsed": false,
    "jupyter": {
     "outputs_hidden": false
    },
    "trusted": true,
    "vscode": {
     "languageId": "r"
    }
   },
   "outputs": [
    {
     "name": "stdout",
     "output_type": "stream",
     "text": [
      "                          loss            mean_absolute_error \n",
      "                     0.9586085                      0.6237039 \n",
      "            mean_squared_error        root_mean_squared_error \n",
      "                     0.9586085                      0.9790856 \n",
      "mean_absolute_percentage_error              cosine_similarity \n",
      "                   153.3153992                      0.1252368 \n"
     ]
    }
   ],
   "source": [
    "# After training, evaluate the model on validation data with all metrics\n",
    "model_evaluation <- model %>% evaluate(\n",
    "  x = list(\n",
    "    input_seq = Xnum_val,\n",
    "    input_player_id = cat_player_id_val,\n",
    "    input_tID = cat_tID_val,\n",
    "    input_oID = cat_oID_val,\n",
    "    input_hID = cat_hID_val\n",
    "  ),\n",
    "  y = y_val,\n",
    "  verbose = 1\n",
    ")\n",
    "\n",
    "# Print the evaluation results (metrics specified during compilation)\n",
    "print(model_evaluation)\n",
    "\n",
    "# Combine results by position\n",
    "validation_metrics$mid <- model_list$mid %>% evaluate(\n",
    "  x = list(\n",
    "    input_seq = Xnum_val,\n",
    "    input_player_id = cat_player_id_val,\n",
    "    input_tID = cat_tID_val,\n",
    "    input_oID = cat_oID_val,\n",
    "    input_hID = cat_hID_val\n",
    "  ),\n",
    "  y = y_val\n",
    ")"
   ]
  },
  {
   "cell_type": "markdown",
   "metadata": {
    "_cell_guid": "e5cb634b-4639-4cd9-acb3-ce21477f4709",
    "_uuid": "561ef548-d565-4542-89d3-b35dcdebb496",
    "collapsed": false,
    "jupyter": {
     "outputs_hidden": false
    },
    "trusted": true
   },
   "source": [
    "## 4: Angrepsspillere"
   ]
  },
  {
   "cell_type": "code",
   "execution_count": null,
   "metadata": {
    "_cell_guid": "444ad6a6-ad3a-4ba6-8d78-0253d86917ab",
    "_uuid": "f57e9705-8a14-4611-bce3-110cfcbda3e7",
    "collapsed": false,
    "jupyter": {
     "outputs_hidden": false
    },
    "trusted": true,
    "vscode": {
     "languageId": "r"
    }
   },
   "outputs": [
    {
     "name": "stdout",
     "output_type": "stream",
     "text": [
      "Numeriske features: assists creativity minutes goals_conceded bonus bps expected_assists expected_goal_involvements expected_goals ict_index own_goals red_cards threat transfers_in transfers_out yellow_cards expected_goals_conceded value selected transfers_balance starts influence clean_sheets \n",
      "Kategoriske features: player_id tID oID hID \n",
      "Target variabel: total_points \n",
      "Ferdig"
     ]
    }
   ],
   "source": [
    "#----------------------------\n",
    "# Define Features, Target & Scale\n",
    "#----------------------------\n",
    "numF <- c(\"assists\", \"creativity\", \"minutes\", \"goals_conceded\",\n",
    "          \"bonus\", \"bps\", \"expected_assists\", \"expected_goal_involvements\",\n",
    "          \"expected_goals\", \"ict_index\", \"own_goals\", \"red_cards\",\n",
    "          \"threat\", \"transfers_in\", \"transfers_out\", \"yellow_cards\",\n",
    "          \"expected_goals_conceded\", \"value\",\n",
    "          \"selected\", \"transfers_balance\", \"starts\", \"influence\",\n",
    "          \"clean_sheets\")\n",
    "catF <- c(\"player_id\", \"tID\", \"oID\", \"hID\")\n",
    "tar <- \"total_points\"\n",
    "\n",
    "cat(\"Numeriske features:\", numF, \"\\n\")\n",
    "cat(\"Kategoriske features:\", catF, \"\\n\")\n",
    "cat(\"Target variabel:\", tar, \"\\n\")\n",
    "cat(\"Ferdig\")"
   ]
  },
  {
   "cell_type": "code",
   "execution_count": null,
   "metadata": {
    "_cell_guid": "bd90798e-abb2-4264-9901-79be7cd1cc59",
    "_uuid": "35f69209-e768-4626-a0ef-5eb01f3b18b0",
    "collapsed": false,
    "jupyter": {
     "outputs_hidden": false
    },
    "trusted": true,
    "vscode": {
     "languageId": "r"
    }
   },
   "outputs": [
    {
     "name": "stdout",
     "output_type": "stream",
     "text": [
      "Kjørt"
     ]
    }
   ],
   "source": [
    "# numF, catF og tar variablene brukes på nytt\n",
    "# Compute and store the mean and standard deviation for the target variable\n",
    "mu <- mean(fwd[[tar]], na.rm = TRUE)\n",
    "sigma <- sd(fwd[[tar]], na.rm = TRUE)\n",
    "\n",
    "# Scale numerical features and target\n",
    "fwd <- fwd %>%\n",
    "  mutate(across(all_of(numF), ~ (.x - mean(.x, na.rm = TRUE)) / sd(.x, na.rm = TRUE)),\n",
    "         !!tar := (.data[[tar]] - mu) / sigma)\n",
    "cat(\"Kjørt\")"
   ]
  },
  {
   "cell_type": "markdown",
   "metadata": {
    "_cell_guid": "4aee2fad-a5f7-4f5e-bc77-6c8d148042d8",
    "_uuid": "e6c4d36b-a2b5-46ad-80ce-c5e7b41d166d",
    "collapsed": false,
    "jupyter": {
     "outputs_hidden": false
    },
    "trusted": true
   },
   "source": [
    "### FWD Building rolling windows"
   ]
  },
  {
   "cell_type": "code",
   "execution_count": null,
   "metadata": {
    "_cell_guid": "5f4d2e80-e55d-4094-a831-227bfcd7ef2e",
    "_uuid": "63f87c8c-873a-423b-b812-f9c4c0cf3252",
    "collapsed": false,
    "jupyter": {
     "outputs_hidden": false
    },
    "trusted": true,
    "vscode": {
     "languageId": "r"
    }
   },
   "outputs": [
    {
     "name": "stdout",
     "output_type": "stream",
     "text": [
      "Kjørt"
     ]
    }
   ],
   "source": [
    "#----------------------------\n",
    "# 3. Build Rolling Windows\n",
    "#----------------------------\n",
    "# Define window size (number of past gameweeks to use)\n",
    "ws <- vindu\n",
    "\n",
    "# Build numerical rolling windows\n",
    "numW <- fwd %>%\n",
    "  group_by(player_id) %>%\n",
    "  filter(n() > ws) %>%  # Only players with more than ws observations\n",
    "  group_modify(~ {\n",
    "    windows <- slide(.x[, numF],\n",
    "                     .f = ~ as.matrix(.x),\n",
    "                     .before = ws, \n",
    "                     .after = -1, # prevents the model from seeing current gw data\n",
    "                     .complete = TRUE)\n",
    "    valid_windows <- windows[(ws + 1):length(windows)]\n",
    "    target <- .x[[tar]][(ws + 1):nrow(.x)]\n",
    "    # Extract row_id for each valid window\n",
    "    rid <- .x$row_id[(ws + 1):nrow(.x)]\n",
    "    tibble(window = valid_windows, target = target, row_id = rid)\n",
    "  }) %>%\n",
    "  ungroup()\n",
    "numW <- numW %>%\n",
    "  left_join(fwd %>% select(row_id, GW), by = \"row_id\")\n",
    "# Build categorical rolling windows (if needed for debugging; here we use only the current values)\n",
    "catW <- fwd %>%\n",
    "  group_by(player_id) %>%\n",
    "  filter(n() > ws) %>%\n",
    "  group_modify(~ {\n",
    "    df <- ungroup(.x) %>% mutate(player_id = .y$player_id)\n",
    "    windows <- slide(df %>% select(all_of(catF)),\n",
    "                     .f = ~ as.matrix(.x),\n",
    "                     .before = ws,\n",
    "                     #.after = -1,\n",
    "                     .complete = TRUE)\n",
    "    valid_windows <- windows[(ws + 1):length(windows)]\n",
    "    target <- df[[tar]][(ws + 1):nrow(df)]\n",
    "    tibble(window = valid_windows, target = target)\n",
    "  }) %>%\n",
    "  ungroup()\n",
    "\n",
    "cat(\"Kjørt\")"
   ]
  },
  {
   "cell_type": "code",
   "execution_count": null,
   "metadata": {
    "_cell_guid": "a050e168-d1d1-4f51-8c81-d22b4ab60960",
    "_uuid": "72984bff-4ac6-4bef-943f-bb01fae71326",
    "collapsed": false,
    "jupyter": {
     "outputs_hidden": false
    },
    "trusted": true,
    "vscode": {
     "languageId": "r"
    }
   },
   "outputs": [
    {
     "name": "stdout",
     "output_type": "stream",
     "text": [
      "Windows with NA:  0 \n",
      "Selected features:  assists creativity minutes bps own_goals red_cards transfers_in transfers_out yellow_cards value selected \n"
     ]
    }
   ],
   "source": [
    "# Check for any NA in the windows before summary\n",
    "sumna <- sapply(numW$window, function(flatW) any(is.na(flatW)))\n",
    "cat(\"Windows with NA: \", sum(sumna), \"\\n\")\n",
    "\n",
    "#----------------------------\n",
    "# 4. Lasso regression\n",
    "#----------------------------\n",
    "# numW as data.matrix, tar as response variable\n",
    "\n",
    "aggmat <- lapply(numW$window, function(flatW){\n",
    "  colMeans(flatW, na.rm = TRUE)\n",
    "})\n",
    "x <- do.call(rbind, aggmat)\n",
    "y <- numW$target\n",
    "\n",
    "# K-fold CV\n",
    "cvfit <- cv.glmnet(x,y,alpha=1)\n",
    "minlambda <- cvfit$lambda.min\n",
    "\n",
    "lassofit <- glmnet(x,y,alpha = 1, lambda = minlambda)\n",
    "\n",
    "coef_lasso <- as.matrix(coef(lassofit))\n",
    "numF <- rownames(coef_lasso)[coef_lasso[,1] != 0]\n",
    "numF <- setdiff(numF, \"(Intercept)\")\n",
    "cat(\"Selected features: \", numF, \"\\n\")\n",
    "\n",
    "# repeat rolling window, now only containing selected features\n",
    "# Define window size (number of past gameweeks to use)\n",
    "ws <- vindu\n",
    "\n",
    "# Build numerical rolling windows\n",
    "numW <- fwd %>%\n",
    "  group_by(player_id) %>%\n",
    "  filter(n() > ws) %>%  # Only players with more than ws observations\n",
    "  group_modify(~ {\n",
    "    windows <- slide(.x[, numF],\n",
    "                     .f = ~ as.matrix(.x),\n",
    "                     .before = ws, \n",
    "                     .after = -1,\n",
    "                     .complete = TRUE)\n",
    "    valid_windows <- windows[(ws + 1):length(windows)]\n",
    "    target <- .x[[tar]][(ws + 1):nrow(.x)]\n",
    "    # Extract row_id for each valid window\n",
    "    rid <- .x$row_id[(ws + 1):nrow(.x)]\n",
    "    tibble(window = valid_windows, target = target, row_id = rid)\n",
    "  }) %>%\n",
    "  ungroup()\n",
    "\n",
    "numW <- numW %>%\n",
    "  left_join(fwd %>% select(row_id, GW), by = \"row_id\")"
   ]
  },
  {
   "cell_type": "code",
   "execution_count": null,
   "metadata": {
    "_cell_guid": "1d9c4c99-cb0c-470c-89af-83a2a9b97c12",
    "_uuid": "3fec6bac-d1ee-4784-a60f-7abb205c3c4b",
    "collapsed": false,
    "jupyter": {
     "outputs_hidden": false
    },
    "trusted": true,
    "vscode": {
     "languageId": "r"
    }
   },
   "outputs": [],
   "source": [
    "#============================\n",
    "# 5. Convert Rolling Windows to Arrays & Extract Targets\n",
    "#============================\n",
    "# Number of samples is the number of rows in numW\n",
    "nSamp <- nrow(numW)\n",
    "\n",
    "# Convert numerical windows to a 3D array of shape [nSamp, ws, length(numF)]\n",
    "num_array <- array(\n",
    "  unlist(numW$window),\n",
    "  dim = c(nSamp, ws, length(numF))\n",
    ")\n",
    "\n",
    "# Targets (scaled): a matrix with one column\n",
    "targets <- matrix(as.numeric(numW$target), ncol = 1)\n",
    "\n",
    "# For categorical inputs, extract the current categorical values from the last row of each window.\n",
    "# (If your windows were built solely from historical data, the \"current\" values need to come from the original data.)\n",
    "# Here, we use the categorical rolling windows and extract the last row:\n",
    "cat_current <- do.call(rbind, lapply(catW$window, function(mat) mat[nrow(mat), ]))\n",
    "# Split into separate matrices (each of shape [nSamp, 1])\n",
    "cat_player_id <- matrix(as.integer(cat_current[, \"player_id\"]), ncol = 1)\n",
    "cat_tID <- matrix(as.integer(cat_current[, \"tID\"]), ncol = 1)\n",
    "cat_oID <- matrix(as.integer(cat_current[, \"oID\"]), ncol = 1)\n",
    "cat_hID <- matrix(as.integer(cat_current[, \"hID\"]), ncol = 1)"
   ]
  },
  {
   "cell_type": "markdown",
   "metadata": {
    "_cell_guid": "a8324f9e-cfc7-4f4b-89c4-c2a5f52c839a",
    "_uuid": "929b7bbd-a92c-479c-9153-6b6527d21dd0",
    "collapsed": false,
    "jupyter": {
     "outputs_hidden": false
    },
    "trusted": true
   },
   "source": [
    "## 6. Data split FWD"
   ]
  },
  {
   "cell_type": "code",
   "execution_count": null,
   "metadata": {
    "_cell_guid": "87ca731d-2367-49f2-8ee6-6fe45619fd24",
    "_uuid": "90d606af-f9c8-44a2-a904-9ab327076ab9",
    "collapsed": false,
    "jupyter": {
     "outputs_hidden": false
    },
    "trusted": true,
    "vscode": {
     "languageId": "r"
    }
   },
   "outputs": [],
   "source": [
    "#============================\n",
    "# 6. Split Data into Training and Validation Sets\n",
    "#============================\n",
    "idx <- which(numW$GW <= split_gw)\n",
    "\n",
    "# Training data\n",
    "Xnum_train <- num_array[idx, , , drop = FALSE]\n",
    "cat_player_id_train <- cat_player_id[idx, , drop = FALSE]\n",
    "cat_tID_train <- cat_tID[idx, , drop = FALSE]\n",
    "cat_oID_train <- cat_oID[idx, , drop = FALSE]\n",
    "cat_hID_train <- cat_hID[idx, , drop = FALSE]\n",
    "y_train <- targets[idx, , drop = FALSE]\n",
    "\n",
    "# Validation data\n",
    "Xnum_val <- num_array[-idx, , , drop = FALSE]\n",
    "cat_player_id_val <- cat_player_id[-idx, , drop = FALSE]\n",
    "cat_tID_val <- cat_tID[-idx, , drop = FALSE]\n",
    "cat_oID_val <- cat_oID[-idx, , drop = FALSE]\n",
    "cat_hID_val <- cat_hID[-idx, , drop = FALSE]\n",
    "y_val <- targets[-idx, , drop = FALSE]\n",
    "\n",
    "# Also, extract the row IDs for the validation samples (for later joining)\n",
    "val_row_ids <- numW$row_id[-idx]"
   ]
  },
  {
   "cell_type": "code",
   "execution_count": null,
   "metadata": {
    "_cell_guid": "d9c620f1-38aa-4e3f-adb3-cd444f05cdcd",
    "_uuid": "d5e2305a-604c-4954-a890-56a4602078a0",
    "collapsed": false,
    "jupyter": {
     "outputs_hidden": false
    },
    "trusted": true,
    "vscode": {
     "languageId": "r"
    }
   },
   "outputs": [
    {
     "name": "stdout",
     "output_type": "stream",
     "text": [
      "Model: \"fwd_lstm_model\"\n",
      "________________________________________________________________________________\n",
      " Layer (type)           Output Shape            Param   Connected to            \n",
      "                                                 #                              \n",
      "================================================================================\n",
      " input_player_id (Inpu  [(None, 1)]             0       []                      \n",
      " tLayer)                                                                        \n",
      " input_tID (InputLayer  [(None, 1)]             0       []                      \n",
      " )                                                                              \n",
      " input_oID (InputLayer  [(None, 1)]             0       []                      \n",
      " )                                                                              \n",
      " input_hID (InputLayer  [(None, 1)]             0       []                      \n",
      " )                                                                              \n",
      " embedding_9 (Embeddin  (None, 1, 20)           26680   ['input_player_id[0][0]'\n",
      " g)                                                     ]                       \n",
      " embedding_10 (Embeddi  (None, 1, 20)           500     ['input_tID[0][0]']     \n",
      " ng)                                                                            \n",
      " embedding_11 (Embeddi  (None, 1, 20)           500     ['input_oID[0][0]']     \n",
      " ng)                                                                            \n",
      " lambda_3 (Lambda)      (None, 1)               0       ['input_hID[0][0]']     \n",
      " input_seq (InputLayer  [(None, 3, 11)]         0       []                      \n",
      " )                                                                              \n",
      " flatten_12 (Flatten)   (None, 20)              0       ['embedding_9[0][0]']   \n",
      " flatten_13 (Flatten)   (None, 20)              0       ['embedding_10[0][0]']  \n",
      " flatten_14 (Flatten)   (None, 20)              0       ['embedding_11[0][0]']  \n",
      " flatten_15 (Flatten)   (None, 1)               0       ['lambda_3[0][0]']      \n",
      " lstm_3 (LSTM)          (None, 64)              19456   ['input_seq[0][0]']     \n",
      " concatenate_6 (Concat  (None, 61)              0       ['flatten_12[0][0]',    \n",
      " enate)                                                  'flatten_13[0][0]',    \n",
      "                                                         'flatten_14[0][0]',    \n",
      "                                                         'flatten_15[0][0]']    \n",
      " dropout_3 (Dropout)    (None, 64)              0       ['lstm_3[0][0]']        \n",
      " dense_9 (Dense)        (None, 16)              992     ['concatenate_6[0][0]'] \n",
      " concatenate_7 (Concat  (None, 80)              0       ['dropout_3[0][0]',     \n",
      " enate)                                                  'dense_9[0][0]']       \n",
      " dense_10 (Dense)       (None, 32)              2592    ['concatenate_7[0][0]'] \n",
      " dense_11 (Dense)       (None, 1)               33      ['dense_10[0][0]']      \n",
      "================================================================================\n",
      "Total params: 50753 (198.25 KB)\n",
      "Trainable params: 50753 (198.25 KB)\n",
      "Non-trainable params: 0 (0.00 Byte)\n",
      "________________________________________________________________________________\n"
     ]
    }
   ],
   "source": [
    "#============================\n",
    "# 7. Build the Model\n",
    "#============================\n",
    "# Define maximum values for categorical features\n",
    "num_players   <- max(fwd$player_id)\n",
    "num_teams     <- max(fwd$tID)\n",
    "num_opponents <- max(fwd$oID)\n",
    "# For hID, assume it???s binary\n",
    "\n",
    "emb_dim <- 20  # Embedding dimension\n",
    "\n",
    "# Create input layers for current categorical values\n",
    "input_player_id <- layer_input(shape = c(1), dtype = \"int32\", name = \"input_player_id\")\n",
    "input_tID <- layer_input(shape = c(1), dtype = \"int32\", name = \"input_tID\")\n",
    "input_oID <- layer_input(shape = c(1), dtype = \"int32\", name = \"input_oID\")\n",
    "input_hID <- layer_input(shape = c(1), dtype = \"int32\", name = \"input_hID\")\n",
    "\n",
    "embedding_player_id <- input_player_id %>% \n",
    "  layer_embedding(input_dim = num_players + 1, output_dim = emb_dim, mask_zero = TRUE) %>% \n",
    "  layer_flatten()\n",
    "embedding_tID <- input_tID %>% \n",
    "  layer_embedding(input_dim = num_teams + 1, output_dim = emb_dim, mask_zero = TRUE) %>% \n",
    "  layer_flatten()\n",
    "embedding_oID <- input_oID %>% \n",
    "  layer_embedding(input_dim = num_opponents + 1, output_dim = emb_dim, mask_zero = TRUE) %>% \n",
    "  layer_flatten()\n",
    "# For hID, convert to float32 to match types\n",
    "input_hID_flat <- input_hID %>% \n",
    "  layer_lambda(function(x) tf$cast(x, tf$float32)) %>% \n",
    "  layer_flatten()\n",
    "\n",
    "# Merge categorical branch\n",
    "cat_merged <- layer_concatenate(list(embedding_player_id, embedding_tID, embedding_oID, input_hID_flat)) %>%\n",
    "  layer_dense(units = 16, activation = \"relu\")\n",
    "\n",
    "# Numerical branch: input for rolling window data\n",
    "input_seq <- layer_input(shape = c(ws, length(numF)), name = \"input_seq\")\n",
    "lstm_branch <- input_seq %>%\n",
    "  layer_lstm(units = 64, return_sequences = FALSE) %>%\n",
    "  layer_dropout(rate = 0.2)\n",
    "\n",
    "# Merge both branches and build the output\n",
    "merged <- layer_concatenate(list(lstm_branch, cat_merged))\n",
    "dense_layer <- merged %>% layer_dense(units = 32, activation = \"relu\")\n",
    "output <- dense_layer %>% layer_dense(units = 1, activation = \"linear\")\n",
    "\n",
    "# Build and compile the model\n",
    "model <- keras_model(\n",
    "  inputs = list(input_seq, input_player_id, input_tID, input_oID, input_hID),\n",
    "  outputs = output,\n",
    "    name = \"fwd_lstm_model\"\n",
    ")\n",
    "model %>% compile(\n",
    "  optimizer = optimizer_adam(),\n",
    "  loss = \"mse\",\n",
    "  metrics = metrics_regression,\n",
    "  run_eagerly = TRUE\n",
    ")\n",
    "summary(model)"
   ]
  },
  {
   "cell_type": "markdown",
   "metadata": {
    "_cell_guid": "ce7ed251-fddd-4a76-82d6-4d204c74180e",
    "_uuid": "b574f73a-218f-48ef-9b76-b623af96750c",
    "collapsed": false,
    "jupyter": {
     "outputs_hidden": false
    },
    "trusted": true
   },
   "source": [
    "## Før fit av modellen FWD"
   ]
  },
  {
   "cell_type": "code",
   "execution_count": null,
   "metadata": {
    "_cell_guid": "ee420671-e3b9-4775-9c1e-7a0ca1c011c3",
    "_uuid": "c774d764-57b7-40cb-8479-b1a521993b10",
    "collapsed": false,
    "jupyter": {
     "outputs_hidden": false
    },
    "trusted": true,
    "vscode": {
     "languageId": "r"
    }
   },
   "outputs": [
    {
     "name": "stdout",
     "output_type": "stream",
     "text": [
      "Will save best FWD weights to: R Forecast/best_fwd_weights.hdf5 \n",
      "FWD scaling factors stored.\n"
     ]
    }
   ],
   "source": [
    "# Filepath for saving the BEST weights (unique for each position)\n",
    "weights_filepath_fwd <- \"R Forecast/best_fwd_weights.hdf5\"\n",
    "cat(\"Will save best FWD weights to:\", weights_filepath_fwd, \"\\n\")\n",
    "\n",
    "# 1. Early Stopping Callback\n",
    "early_stopping <- callback_early_stopping(\n",
    "    monitor = \"val_loss\",       # Monitor validation loss\n",
    "    patience = num_patience,              # Stop after 10 epochs of no improvement\n",
    "    restore_best_weights = TRUE # Optional but good: restores weights from the best epoch at the end of training\n",
    "                                # Note: Checkpoint callback is the primary saver here.\n",
    ")\n",
    "\n",
    "# 2. Model Checkpoint Callback (to save best weights)\n",
    "model_checkpoint <- callback_model_checkpoint(\n",
    "    filepath = weights_filepath_fwd, # Path defined above\n",
    "    monitor = \"val_loss\",           # Monitor the same metric as early stopping\n",
    "    save_best_only = TRUE,          # IMPORTANT: Only save when val_loss improves\n",
    "    save_weights_only = TRUE,       # IMPORTANT: Save ONLY the weights, not the whole model\n",
    "    mode = \"min\",                   # We want to minimize loss\n",
    "    verbose = 1                     # Optional: print message when weights are saved\n",
    ")\n",
    "\n",
    "reduce_lr <- callback_reduce_lr_on_plateau(\n",
    "    monitor = \"val_loss\",  # Monitor validation loss (same as early stopping)\n",
    "    factor = 0.2,          # Reduce LR to 20% of its current value (lr * factor)\n",
    "    patience = 5,           # Reduce LR if val_loss doesn't improve for 5 epochs\n",
    "    min_lr = 1e-6,         # Don't reduce the LR below this value\n",
    "    verbose = 1            # Print a message when LR is reduced\n",
    ")\n",
    "\n",
    "# Store scaling factors NOW (before potential errors during training)\n",
    "# Ensure mu, sigma, and numF (Lasso selected) are correctly captured from the FWD scaling steps\n",
    "scaling_factors$fwd <- list(\n",
    "    mu = mu,         # Mean of FWD target used for scaling\n",
    "    sigma = sigma,   # SD of FWD target used for scaling\n",
    "    numF = numF      # Vector of Lasso-selected numerical feature names for FWD\n",
    ")\n",
    "cat(\"FWD scaling factors stored.\\n\")"
   ]
  },
  {
   "cell_type": "code",
   "execution_count": null,
   "metadata": {
    "_cell_guid": "457c1e93-55f5-4e23-8833-204fc6b82c90",
    "_uuid": "dd535662-8a86-42e4-b9c7-65c9b041040e",
    "collapsed": false,
    "jupyter": {
     "outputs_hidden": false
    },
    "trusted": true,
    "vscode": {
     "languageId": "r"
    }
   },
   "outputs": [
    {
     "name": "stdout",
     "output_type": "stream",
     "text": [
      "Starting FWD model training...\n",
      "FWD model training finished.\n"
     ]
    }
   ],
   "source": [
    "#============================\n",
    "# 8. Train the Model\n",
    "#============================\n",
    "cat(\"Starting FWD model training...\\n\")\n",
    "history <- model %>% fit(\n",
    "  x = list(\n",
    "    input_seq = Xnum_train,\n",
    "    input_player_id = cat_player_id_train,\n",
    "    input_tID = cat_tID_train,\n",
    "    input_oID = cat_oID_train,\n",
    "    input_hID = cat_hID_train\n",
    "  ),\n",
    "  y = y_train,\n",
    "  epochs = epoker,          # Max epochs\n",
    "  batch_size = 64,          # Try increasing batch size (e.g., 64 or 128) for speed\n",
    "  validation_data = list(\n",
    "    list(\n",
    "      input_seq = Xnum_val,\n",
    "      input_player_id = cat_player_id_val,\n",
    "      input_tID = cat_tID_val,\n",
    "      input_oID = cat_oID_val,\n",
    "      input_hID = cat_hID_val\n",
    "    ),\n",
    "    y_val\n",
    "  ),\n",
    "  # ADD THE CALLBACKS HERE\n",
    "  callbacks = list(early_stopping, model_checkpoint, reduce_lr)\n",
    ")\n",
    "cat(\"FWD model training finished.\\n\")"
   ]
  },
  {
   "cell_type": "code",
   "execution_count": null,
   "metadata": {
    "_cell_guid": "8ce7829b-8b9f-4b7d-a59a-b94847280b32",
    "_uuid": "5c55cc66-2719-4093-b722-08755cf2e026",
    "collapsed": false,
    "jupyter": {
     "outputs_hidden": false
    },
    "trusted": true,
    "vscode": {
     "languageId": "r"
    }
   },
   "outputs": [
    {
     "name": "stdout",
     "output_type": "stream",
     "text": [
      "Rows: 2,342\n",
      "Columns: 49\n",
      "$ row_id                        \u001b[3m\u001b[90m<dbl>\u001b[39m\u001b[23m 734, 735, 736, 737, 738, 739, 740, 741, …\n",
      "$ predicted_total_points_scaled \u001b[3m\u001b[90m<dbl>\u001b[39m\u001b[23m -0.007207822, 0.056653325, -0.076495796,…\n",
      "$ actual_total_points_scaled    \u001b[3m\u001b[90m<dbl>\u001b[39m\u001b[23m 0.2527281, -0.1202728, -0.1202728, -0.49…\n",
      "$ predicted_total_points        \u001b[3m\u001b[90m<dbl>\u001b[39m\u001b[23m 1.303122, 1.474332, 1.117364, 1.758519, …\n",
      "$ actual_total_points           \u001b[3m\u001b[90m<dbl>\u001b[39m\u001b[23m 2, 1, 1, 0, 1, 0, 1, 0, 0, 7, 2, 7, 5, 1…\n",
      "$ name                          \u001b[3m\u001b[90m<chr>\u001b[39m\u001b[23m \"Adam Armstrong\", \"Adam Armstrong\", \"Ada…\n",
      "$ position                      \u001b[3m\u001b[90m<chr>\u001b[39m\u001b[23m \"FWD\", \"FWD\", \"FWD\", \"FWD\", \"FWD\", \"FWD\"…\n",
      "$ team                          \u001b[3m\u001b[90m<chr>\u001b[39m\u001b[23m \"Southampton\", \"Southampton\", \"Southampt…\n",
      "$ xP                            \u001b[3m\u001b[90m<dbl>\u001b[39m\u001b[23m 0.7, 1.0, 0.8, 0.5, 0.8, -0.2, -1.0, -0.…\n",
      "$ assists                       \u001b[3m\u001b[90m<dbl>\u001b[39m\u001b[23m 0, 0, 0, 0, 0, 0, 0, 0, 0, 0, 0, 1, 1, 0…\n",
      "$ bonus                         \u001b[3m\u001b[90m<dbl>\u001b[39m\u001b[23m 0, 0, 0, 0, 0, 0, 0, 0, 0, 1, 0, 1, 0, 0…\n",
      "$ bps                           \u001b[3m\u001b[90m<dbl>\u001b[39m\u001b[23m 5, 1, 0, 0, 3, 0, 2, 0, -1, 32, 1, 33, 1…\n",
      "$ clean_sheets                  \u001b[3m\u001b[90m<dbl>\u001b[39m\u001b[23m 0, 0, 0, 0, 0, 0, 0, 0, 0, 1, 0, 0, 0, 0…\n",
      "$ creativity                    \u001b[3m\u001b[90m<dbl>\u001b[39m\u001b[23m 12.9, 2.9, 0.9, 0.0, 0.0, 0.0, 0.8, 0.0,…\n",
      "$ expected_assists              \u001b[3m\u001b[90m<dbl>\u001b[39m\u001b[23m 0.08, 0.01, 0.05, 0.00, 0.00, 0.00, 0.01…\n",
      "$ expected_goal_involvements    \u001b[3m\u001b[90m<dbl>\u001b[39m\u001b[23m 0.79, 0.03, 0.10, 0.00, 0.00, 0.00, 0.01…\n",
      "$ expected_goals                \u001b[3m\u001b[90m<dbl>\u001b[39m\u001b[23m 0.71, 0.02, 0.05, 0.00, 0.00, 0.00, 0.00…\n",
      "$ expected_goals_conceded       \u001b[3m\u001b[90m<dbl>\u001b[39m\u001b[23m 0.25, 2.14, 0.97, 0.00, 0.55, 0.00, 0.70…\n",
      "$ fixture                       \u001b[3m\u001b[90m<dbl>\u001b[39m\u001b[23m 5, 18, 22, 38, 48, 52, 61, 78, 89, 98, 1…\n",
      "$ goals_conceded                \u001b[3m\u001b[90m<dbl>\u001b[39m\u001b[23m 1, 1, 1, 0, 1, 0, 1, 0, 0, 0, 2, 2, 1, 3…\n",
      "$ goals_scored                  \u001b[3m\u001b[90m<dbl>\u001b[39m\u001b[23m 0, 0, 0, 0, 0, 0, 0, 0, 0, 1, 0, 1, 0, 0…\n",
      "$ ict_index                     \u001b[3m\u001b[90m<dbl>\u001b[39m\u001b[23m 5.8, 1.4, 0.8, 0.0, 0.0, 0.0, 0.7, 0.0, …\n",
      "$ influence                     \u001b[3m\u001b[90m<dbl>\u001b[39m\u001b[23m 7.8, 2.2, 0.0, 0.0, 0.0, 0.0, 2.2, 0.0, …\n",
      "$ kickoff_time                  \u001b[3m\u001b[90m<dttm>\u001b[39m\u001b[23m 2024-08-17 14:00:00, 2024-08-24 14:00:0…\n",
      "$ minutes                       \u001b[3m\u001b[90m<dbl>\u001b[39m\u001b[23m 90, 70, 45, 0, 8, 0, 16, 0, 45, 90, 90, …\n",
      "$ opponent_team                 \u001b[3m\u001b[90m<chr>\u001b[39m\u001b[23m \"Newcastle\", \"Nottingham Forest\", \"Brent…\n",
      "$ own_goals                     \u001b[3m\u001b[90m<dbl>\u001b[39m\u001b[23m 0, 0, 0, 0, 0, 0, 0, 0, 0, 0, 0, 0, 0, 0…\n",
      "$ penalties_missed              \u001b[3m\u001b[90m<dbl>\u001b[39m\u001b[23m 0, 0, 0, 0, 0, 0, 0, 0, 0, 0, 0, 1, 0, 0…\n",
      "$ penalties_saved               \u001b[3m\u001b[90m<dbl>\u001b[39m\u001b[23m 0, 0, 0, 0, 0, 0, 0, 0, 0, 0, 0, 0, 0, 0…\n",
      "$ red_cards                     \u001b[3m\u001b[90m<dbl>\u001b[39m\u001b[23m 0, 0, 0, 0, 0, 0, 0, 0, 0, 0, 0, 0, 0, 0…\n",
      "$ round                         \u001b[3m\u001b[90m<dbl>\u001b[39m\u001b[23m 1, 2, 3, 4, 5, 6, 7, 8, 9, 10, 11, 12, 1…\n",
      "$ saves                         \u001b[3m\u001b[90m<dbl>\u001b[39m\u001b[23m 0, 0, 0, 0, 0, 0, 0, 0, 0, 0, 0, 0, 0, 0…\n",
      "$ selected                      \u001b[3m\u001b[90m<dbl>\u001b[39m\u001b[23m 147689, 180975, 159267, 119236, 105783, …\n",
      "$ starts                        \u001b[3m\u001b[90m<dbl>\u001b[39m\u001b[23m 1, 1, 1, 0, 0, 0, 0, 0, 0, 1, 1, 1, 1, 1…\n",
      "$ team_a_score                  \u001b[3m\u001b[90m<dbl>\u001b[39m\u001b[23m 0, 1, 1, 3, 1, 1, 1, 3, 0, 0, 0, 3, 1, 5…\n",
      "$ team_h_score                  \u001b[3m\u001b[90m<dbl>\u001b[39m\u001b[23m 1, 0, 3, 0, 1, 3, 3, 2, 1, 1, 2, 2, 1, 1…\n",
      "$ threat                        \u001b[3m\u001b[90m<dbl>\u001b[39m\u001b[23m 37, 9, 8, 0, 0, 0, 4, 0, 21, 29, 9, 38, …\n",
      "$ total_points                  \u001b[3m\u001b[90m<dbl>\u001b[39m\u001b[23m 2, 1, 1, 0, 1, 0, 1, 0, 0, 7, 2, 7, 5, 1…\n",
      "$ transfers_balance             \u001b[3m\u001b[90m<dbl>\u001b[39m\u001b[23m 0, 20284, -23029, -42287, -15022, -21356…\n",
      "$ transfers_in                  \u001b[3m\u001b[90m<dbl>\u001b[39m\u001b[23m 0, 37679, 17476, 10045, 6817, 3523, 4861…\n",
      "$ transfers_out                 \u001b[3m\u001b[90m<dbl>\u001b[39m\u001b[23m 0, 17395, 40505, 52332, 21839, 24879, 13…\n",
      "$ value                         \u001b[3m\u001b[90m<dbl>\u001b[39m\u001b[23m 55, 55, 55, 55, 54, 53, 53, 52, 52, 51, …\n",
      "$ was_home                      \u001b[3m\u001b[90m<lgl>\u001b[39m\u001b[23m FALSE, TRUE, FALSE, TRUE, TRUE, FALSE, F…\n",
      "$ yellow_cards                  \u001b[3m\u001b[90m<dbl>\u001b[39m\u001b[23m 0, 1, 0, 0, 0, 0, 0, 0, 1, 0, 0, 1, 0, 1…\n",
      "$ GW                            \u001b[3m\u001b[90m<dbl>\u001b[39m\u001b[23m 77, 78, 79, 80, 81, 82, 83, 84, 85, 86, …\n",
      "$ player_id                     \u001b[3m\u001b[90m<dbl>\u001b[39m\u001b[23m 12, 12, 12, 12, 12, 12, 12, 12, 12, 12, …\n",
      "$ oID                           \u001b[3m\u001b[90m<dbl>\u001b[39m\u001b[23m 18, 19, 4, 17, 11, 3, 1, 13, 16, 9, 24, …\n",
      "$ tID                           \u001b[3m\u001b[90m<dbl>\u001b[39m\u001b[23m 21, 21, 21, 21, 21, 21, 21, 21, 21, 21, …\n",
      "$ hID                           \u001b[3m\u001b[90m<dbl>\u001b[39m\u001b[23m 0, 1, 0, 1, 1, 0, 0, 1, 0, 1, 0, 1, 0, 1…\n"
     ]
    }
   ],
   "source": [
    "#============================\n",
    "# 9. Generate Predictions & Invert Scaling on Validation Set\n",
    "#============================\n",
    "# Use the validation set for predictions\n",
    "pred_all <- model %>% predict(\n",
    "  list(\n",
    "    input_seq = Xnum_val,\n",
    "    input_player_id = cat_player_id_val,\n",
    "    input_tID = cat_tID_val,\n",
    "    input_oID = cat_oID_val,\n",
    "    input_hID = cat_hID_val\n",
    "  )\n",
    ")\n",
    "\n",
    "# Build a predictions table using the validation row IDs\n",
    "preds_fwd <- tibble(\n",
    "  row_id = val_row_ids,  # row IDs corresponding to the validation set\n",
    "  predicted_total_points_scaled = as.vector(pred_all),\n",
    "  actual_total_points_scaled = as.vector(y_val)\n",
    ") %>% \n",
    "  mutate(\n",
    "    predicted_total_points = predicted_total_points_scaled * sigma + mu,\n",
    "    actual_total_points = actual_total_points_scaled * sigma + mu\n",
    "  )\n",
    "\n",
    "preds_fwd <- preds_fwd %>%\n",
    "  left_join(unscaled_fwd, by = \"row_id\") # Use unscaled_mid\n",
    "\n",
    "glimpse(preds_fwd)"
   ]
  },
  {
   "cell_type": "markdown",
   "metadata": {
    "_cell_guid": "41d3b0c9-6b8a-4847-9020-be2159075d91",
    "_uuid": "0a233650-20b4-4e9a-9eb2-039e6f5d8b51",
    "collapsed": false,
    "jupyter": {
     "outputs_hidden": false
    },
    "trusted": true
   },
   "source": [
    "## Eval Plots FWD"
   ]
  },
  {
   "cell_type": "code",
   "execution_count": null,
   "metadata": {
    "_cell_guid": "cb2516c1-ddbd-46a6-8dd2-4f50696373bd",
    "_uuid": "786a81ba-d07a-4b00-9792-b4efb749c016",
    "collapsed": false,
    "jupyter": {
     "outputs_hidden": false
    },
    "trusted": true,
    "vscode": {
     "languageId": "r"
    }
   },
   "outputs": [
    {
     "name": "stdout",
     "output_type": "stream",
     "text": [
      "Rows: 195\n",
      "Columns: 4\n",
      "$ epoch  \u001b[3m\u001b[90m<int>\u001b[39m\u001b[23m 1, 2, 3, 4, 5, 6, 7, 8, 9, 10, 11, 12, 13, 14, 15, 1, 2, 3, 4, …\n",
      "$ value  \u001b[3m\u001b[90m<dbl>\u001b[39m\u001b[23m 0.9516848, 0.7687301, 0.7217302, 0.7035604, 0.6967576, 0.687728…\n",
      "$ metric \u001b[3m\u001b[90m<fct>\u001b[39m\u001b[23m loss, loss, loss, loss, loss, loss, loss, loss, loss, loss, los…\n",
      "$ data   \u001b[3m\u001b[90m<fct>\u001b[39m\u001b[23m training, training, training, training, training, training, tra…\n"
     ]
    },
    {
     "data": {
      "image/png": "[encoded data removed]",
      "text/plain": [
       "plot without title"
      ]
     },
     "metadata": {
      "image/png": {
       "height": 420,
       "width": 420
      }
     },
     "output_type": "display_data"
    }
   ],
   "source": [
    "plot(history)\n",
    "\n",
    "history_df_fwd <- data.frame(history)\n",
    "\n",
    "glimpse(history_df_fwd)"
   ]
  },
  {
   "cell_type": "markdown",
   "metadata": {
    "_cell_guid": "286fd650-6eac-4cdb-abbd-a30dbf15f1ea",
    "_uuid": "8042ccf9-1024-4e35-a8ac-8fad9718d518",
    "collapsed": false,
    "jupyter": {
     "outputs_hidden": false
    },
    "trusted": true
   },
   "source": [
    "## Lagre modell og prediksjoner"
   ]
  },
  {
   "cell_type": "code",
   "execution_count": null,
   "metadata": {
    "_cell_guid": "3727a64b-a35f-483a-b104-79f296dc46c6",
    "_uuid": "382e4bbe-aa93-4bdf-a268-ae2da3c26cba",
    "collapsed": false,
    "jupyter": {
     "outputs_hidden": false
    },
    "trusted": true,
    "vscode": {
     "languageId": "r"
    }
   },
   "outputs": [
    {
     "name": "stdout",
     "output_type": "stream",
     "text": [
      "FWD model and scaling factors stored.\n"
     ]
    }
   ],
   "source": [
    "# Store FWD model and scaling factors\n",
    "model_list$fwd <- model\n",
    "cat(\"FWD model and scaling factors stored.\\n\")\n",
    "\n",
    "# Clean up validation predictions (select essential columns)\n",
    "# Note: The join in cell f2292df7 uses 'fwd' (scaled) then 'unscaled_fwd'.\n",
    "preds_fwd_clean <- preds_fwd %>%\n",
    "   select(row_id, GW , player_id , name, position, team, # Identifiers from unscaled_fwd join\n",
    "         actual_total_points, predicted_total_points, value)"
   ]
  },
  {
   "cell_type": "markdown",
   "metadata": {
    "_cell_guid": "3607799f-31e6-4809-a827-3173a98b3998",
    "_uuid": "75593754-4585-43b8-bf82-983c023dc01c",
    "collapsed": false,
    "jupyter": {
     "outputs_hidden": false
    },
    "trusted": true
   },
   "source": [
    "### Evaluate Angrep"
   ]
  },
  {
   "cell_type": "code",
   "execution_count": null,
   "metadata": {
    "_cell_guid": "451b8d59-2d9a-4e1b-87c4-0c7e7aa9d0d2",
    "_uuid": "7a14dac1-f655-4847-a83f-dd1320f55946",
    "collapsed": false,
    "jupyter": {
     "outputs_hidden": false
    },
    "trusted": true,
    "vscode": {
     "languageId": "r"
    }
   },
   "outputs": [
    {
     "name": "stdout",
     "output_type": "stream",
     "text": [
      "                          loss            mean_absolute_error \n",
      "                     0.9850546                      0.6459015 \n",
      "            mean_squared_error        root_mean_squared_error \n",
      "                     0.9850546                      0.9924992 \n",
      "mean_absolute_percentage_error              cosine_similarity \n",
      "                   139.0708466                      0.2100769 \n"
     ]
    }
   ],
   "source": [
    "# After training, evaluate the model on validation data with all metrics\n",
    "model_evaluation <- model %>% evaluate(\n",
    "  x = list(\n",
    "    input_seq = Xnum_val,\n",
    "    input_player_id = cat_player_id_val,\n",
    "    input_tID = cat_tID_val,\n",
    "    input_oID = cat_oID_val,\n",
    "    input_hID = cat_hID_val\n",
    "  ),\n",
    "  y = y_val,\n",
    "  verbose = 1\n",
    ")\n",
    "\n",
    "# Print the evaluation results (metrics specified during compilation)\n",
    "print(model_evaluation)\n",
    "\n",
    "# Combine results by position\n",
    "validation_metrics$fwd <- model_list$fwd %>% evaluate(\n",
    "  x = list(\n",
    "    input_seq = Xnum_val,\n",
    "    input_player_id = cat_player_id_val,\n",
    "    input_tID = cat_tID_val,\n",
    "    input_oID = cat_oID_val,\n",
    "    input_hID = cat_hID_val\n",
    "  ),\n",
    "  y = y_val\n",
    ")"
   ]
  },
  {
   "cell_type": "markdown",
   "metadata": {
    "_cell_guid": "05b4a7fa-8287-4a95-a621-3ec359843696",
    "_uuid": "f71c2917-4e3e-438b-88b5-0c7e77b96219",
    "collapsed": false,
    "jupyter": {
     "outputs_hidden": false
    },
    "trusted": true
   },
   "source": [
    "## Sett sammen tibbler"
   ]
  },
  {
   "cell_type": "code",
   "execution_count": null,
   "metadata": {
    "_cell_guid": "1a1ed5e7-ec49-4e29-899d-ed4b99099535",
    "_uuid": "f381c1b6-76d3-4fde-8b72-94fbad18c80b",
    "collapsed": false,
    "jupyter": {
     "outputs_hidden": false
    },
    "trusted": true,
    "vscode": {
     "languageId": "r"
    }
   },
   "outputs": [
    {
     "name": "stdout",
     "output_type": "stream",
     "text": [
      "Rows: 2,228\n",
      "Columns: 49\n",
      "$ row_id                        \u001b[3m\u001b[90m<dbl>\u001b[39m\u001b[23m 336, 337, 338, 339, 340, 341, 342, 343, …\n",
      "$ predicted_total_points_scaled \u001b[3m\u001b[90m<dbl>\u001b[39m\u001b[23m 0.6220449, 0.5485339, 0.4786783, 0.56290…\n",
      "$ actual_total_points_scaled    \u001b[3m\u001b[90m<dbl>\u001b[39m\u001b[23m -0.42194588, -0.42194588, 0.55840006, 1.…\n",
      "$ predicted_total_points        \u001b[3m\u001b[90m<dbl>\u001b[39m\u001b[23m 2.129842, 1.979872, 1.837360, 2.009196, …\n",
      "$ actual_total_points           \u001b[3m\u001b[90m<dbl>\u001b[39m\u001b[23m 0, 0, 2, 3, 3, 2, 2, 1, 4, 9, 0, 0, 0, 0…\n",
      "$ name                          \u001b[3m\u001b[90m<chr>\u001b[39m\u001b[23m \"Aaron Ramsdale\", \"Aaron Ramsdale\", \"Aar…\n",
      "$ position                      \u001b[3m\u001b[90m<chr>\u001b[39m\u001b[23m \"GK\", \"GK\", \"GK\", \"GK\", \"GK\", \"GK\", \"GK\"…\n",
      "$ team                          \u001b[3m\u001b[90m<chr>\u001b[39m\u001b[23m \"Arsenal\", \"Arsenal\", \"Southampton\", \"So…\n",
      "$ xP                            \u001b[3m\u001b[90m<dbl>\u001b[39m\u001b[23m 3.2, 1.0, 0.2, 0.7, 2.0, 2.2, 1.0, 1.2, …\n",
      "$ assists                       \u001b[3m\u001b[90m<dbl>\u001b[39m\u001b[23m 0, 0, 0, 0, 0, 0, 0, 0, 0, 0, 0, 0, 0, 0…\n",
      "$ bonus                         \u001b[3m\u001b[90m<dbl>\u001b[39m\u001b[23m 0, 0, 0, 0, 0, 0, 0, 0, 0, 2, 0, 0, 0, 0…\n",
      "$ bps                           \u001b[3m\u001b[90m<dbl>\u001b[39m\u001b[23m 0, 0, 5, 12, 15, 5, 5, -2, 24, 33, 5, 0,…\n",
      "$ clean_sheets                  \u001b[3m\u001b[90m<dbl>\u001b[39m\u001b[23m 0, 0, 0, 0, 0, 0, 0, 0, 0, 1, 0, 0, 0, 0…\n",
      "$ creativity                    \u001b[3m\u001b[90m<dbl>\u001b[39m\u001b[23m 0, 0, 0, 0, 0, 0, 0, 0, 0, 0, 0, 0, 0, 0…\n",
      "$ expected_assists              \u001b[3m\u001b[90m<dbl>\u001b[39m\u001b[23m 0.00, 0.00, 0.00, 0.00, 0.00, 0.00, 0.01…\n",
      "$ expected_goal_involvements    \u001b[3m\u001b[90m<dbl>\u001b[39m\u001b[23m 0.00, 0.00, 0.00, 0.00, 0.00, 0.00, 0.01…\n",
      "$ expected_goals                \u001b[3m\u001b[90m<dbl>\u001b[39m\u001b[23m 0, 0, 0, 0, 0, 0, 0, 0, 0, 0, 0, 0, 0, 0…\n",
      "$ expected_goals_conceded       \u001b[3m\u001b[90m<dbl>\u001b[39m\u001b[23m 0.00, 0.00, 2.78, 2.67, 1.69, 1.38, 2.83…\n",
      "$ fixture                       \u001b[3m\u001b[90m<dbl>\u001b[39m\u001b[23m 2, 11, 22, 38, 48, 52, 61, 78, 89, 98, 1…\n",
      "$ goals_conceded                \u001b[3m\u001b[90m<dbl>\u001b[39m\u001b[23m 0, 0, 3, 3, 1, 3, 3, 3, 1, 0, 2, 0, 0, 0…\n",
      "$ goals_scored                  \u001b[3m\u001b[90m<dbl>\u001b[39m\u001b[23m 0, 0, 0, 0, 0, 0, 0, 0, 0, 0, 0, 0, 0, 0…\n",
      "$ ict_index                     \u001b[3m\u001b[90m<dbl>\u001b[39m\u001b[23m 0.0, 0.0, 2.8, 4.5, 4.1, 2.3, 2.4, 1.3, …\n",
      "$ influence                     \u001b[3m\u001b[90m<dbl>\u001b[39m\u001b[23m 0.0, 0.0, 27.8, 45.4, 41.2, 22.8, 24.4, …\n",
      "$ kickoff_time                  \u001b[3m\u001b[90m<dttm>\u001b[39m\u001b[23m 2024-08-17 14:00:00, 2024-08-24 16:30:0…\n",
      "$ minutes                       \u001b[3m\u001b[90m<dbl>\u001b[39m\u001b[23m 0, 0, 90, 90, 90, 90, 90, 90, 90, 90, 90…\n",
      "$ opponent_team                 \u001b[3m\u001b[90m<chr>\u001b[39m\u001b[23m \"Wolves\", \"Aston Villa\", \"Brentford\", \"M…\n",
      "$ own_goals                     \u001b[3m\u001b[90m<dbl>\u001b[39m\u001b[23m 0, 0, 0, 0, 0, 0, 0, 0, 0, 0, 0, 0, 0, 0…\n",
      "$ penalties_missed              \u001b[3m\u001b[90m<dbl>\u001b[39m\u001b[23m 0, 0, 0, 0, 0, 0, 0, 0, 0, 0, 0, 0, 0, 0…\n",
      "$ penalties_saved               \u001b[3m\u001b[90m<dbl>\u001b[39m\u001b[23m 0, 0, 0, 0, 0, 0, 0, 0, 0, 0, 0, 0, 0, 0…\n",
      "$ red_cards                     \u001b[3m\u001b[90m<dbl>\u001b[39m\u001b[23m 0, 0, 0, 0, 0, 0, 0, 0, 0, 0, 0, 0, 0, 0…\n",
      "$ round                         \u001b[3m\u001b[90m<dbl>\u001b[39m\u001b[23m 1, 2, 3, 4, 5, 6, 7, 8, 9, 10, 11, 12, 1…\n",
      "$ saves                         \u001b[3m\u001b[90m<dbl>\u001b[39m\u001b[23m 0, 0, 4, 7, 5, 3, 3, 1, 6, 5, 2, 0, 0, 0…\n",
      "$ selected                      \u001b[3m\u001b[90m<dbl>\u001b[39m\u001b[23m 68531, 74765, 107644, 176635, 206185, 22…\n",
      "$ starts                        \u001b[3m\u001b[90m<dbl>\u001b[39m\u001b[23m 0, 0, 1, 1, 1, 1, 1, 1, 1, 1, 1, 0, 0, 0…\n",
      "$ team_a_score                  \u001b[3m\u001b[90m<dbl>\u001b[39m\u001b[23m 0, 2, 1, 3, 1, 1, 1, 3, 0, 0, 0, 3, 1, 5…\n",
      "$ team_h_score                  \u001b[3m\u001b[90m<dbl>\u001b[39m\u001b[23m 2, 0, 3, 0, 1, 3, 3, 2, 1, 1, 2, 2, 1, 1…\n",
      "$ threat                        \u001b[3m\u001b[90m<dbl>\u001b[39m\u001b[23m 0, 0, 0, 0, 0, 0, 0, 0, 0, 0, 0, 0, 0, 0…\n",
      "$ total_points                  \u001b[3m\u001b[90m<dbl>\u001b[39m\u001b[23m 0, 0, 2, 3, 3, 2, 2, 1, 4, 9, 0, 0, 0, 0…\n",
      "$ transfers_balance             \u001b[3m\u001b[90m<dbl>\u001b[39m\u001b[23m 0, -9669, 24647, 56313, 25228, 12742, -6…\n",
      "$ transfers_in                  \u001b[3m\u001b[90m<dbl>\u001b[39m\u001b[23m 0, 2378, 41306, 83072, 34765, 30311, 143…\n",
      "$ transfers_out                 \u001b[3m\u001b[90m<dbl>\u001b[39m\u001b[23m 0, 12047, 16659, 26759, 9537, 17569, 150…\n",
      "$ value                         \u001b[3m\u001b[90m<dbl>\u001b[39m\u001b[23m 45, 45, 44, 44, 44, 44, 44, 44, 44, 44, …\n",
      "$ was_home                      \u001b[3m\u001b[90m<lgl>\u001b[39m\u001b[23m TRUE, FALSE, FALSE, TRUE, TRUE, FALSE, F…\n",
      "$ yellow_cards                  \u001b[3m\u001b[90m<dbl>\u001b[39m\u001b[23m 0, 0, 0, 0, 0, 0, 0, 0, 0, 0, 1, 0, 0, 0…\n",
      "$ GW                            \u001b[3m\u001b[90m<dbl>\u001b[39m\u001b[23m 77, 78, 79, 80, 81, 82, 83, 84, 85, 86, …\n",
      "$ player_id                     \u001b[3m\u001b[90m<dbl>\u001b[39m\u001b[23m 5, 5, 5, 5, 5, 5, 5, 5, 5, 5, 5, 5, 5, 5…\n",
      "$ oID                           \u001b[3m\u001b[90m<dbl>\u001b[39m\u001b[23m 24, 2, 4, 17, 11, 3, 1, 13, 16, 9, 24, 1…\n",
      "$ tID                           \u001b[3m\u001b[90m<dbl>\u001b[39m\u001b[23m 1, 1, 21, 21, 21, 21, 21, 21, 21, 21, 21…\n",
      "$ hID                           \u001b[3m\u001b[90m<dbl>\u001b[39m\u001b[23m 1, 0, 0, 1, 1, 0, 0, 1, 0, 1, 0, 1, 0, 1…\n",
      "Rows: 7,026\n",
      "Columns: 49\n",
      "$ row_id                        \u001b[3m\u001b[90m<dbl>\u001b[39m\u001b[23m 4, 5, 6, 7, 122, 123, 124, 125, 126, 127…\n",
      "$ predicted_total_points_scaled \u001b[3m\u001b[90m<dbl>\u001b[39m\u001b[23m 0.518172979, -0.244826332, 0.185973555, …\n",
      "$ actual_total_points_scaled    \u001b[3m\u001b[90m<dbl>\u001b[39m\u001b[23m -0.46568846, -0.46568846, -0.46568846, -…\n",
      "$ predicted_total_points        \u001b[3m\u001b[90m<dbl>\u001b[39m\u001b[23m 2.1620016, 0.4853369, 1.4320048, 1.57122…\n",
      "$ actual_total_points           \u001b[3m\u001b[90m<dbl>\u001b[39m\u001b[23m 0, 0, 0, 0, 0, 1, 0, 0, 1, 0, 1, 0, 0, 0…\n",
      "$ name                          \u001b[3m\u001b[90m<chr>\u001b[39m\u001b[23m \"Aaron Anselmino\", \"Aaron Anselmino\", \"A…\n",
      "$ position                      \u001b[3m\u001b[90m<chr>\u001b[39m\u001b[23m \"DEF\", \"DEF\", \"DEF\", \"DEF\", \"DEF\", \"DEF\"…\n",
      "$ team                          \u001b[3m\u001b[90m<chr>\u001b[39m\u001b[23m \"Chelsea\", \"Chelsea\", \"Chelsea\", \"Chelse…\n",
      "$ xP                            \u001b[3m\u001b[90m<dbl>\u001b[39m\u001b[23m 0.5, 0.0, 0.5, 0.5, 1.0, 0.5, -0.2, 0.1,…\n",
      "$ assists                       \u001b[3m\u001b[90m<dbl>\u001b[39m\u001b[23m 0, 0, 0, 0, 0, 0, 0, 0, 0, 0, 0, 0, 0, 0…\n",
      "$ bonus                         \u001b[3m\u001b[90m<dbl>\u001b[39m\u001b[23m 0, 0, 0, 0, 0, 0, 0, 0, 0, 0, 0, 0, 0, 0…\n",
      "$ bps                           \u001b[3m\u001b[90m<dbl>\u001b[39m\u001b[23m 0, 0, 0, 0, 0, 3, 0, 0, 3, 0, 2, 0, 1, 0…\n",
      "$ clean_sheets                  \u001b[3m\u001b[90m<dbl>\u001b[39m\u001b[23m 0, 0, 0, 0, 0, 0, 0, 0, 0, 0, 0, 0, 0, 0…\n",
      "$ creativity                    \u001b[3m\u001b[90m<dbl>\u001b[39m\u001b[23m 0.0, 0.0, 0.0, 0.0, 0.0, 0.0, 0.0, 0.0, …\n",
      "$ expected_assists              \u001b[3m\u001b[90m<dbl>\u001b[39m\u001b[23m 0.00, 0.00, 0.00, 0.00, 0.00, 0.00, 0.00…\n",
      "$ expected_goal_involvements    \u001b[3m\u001b[90m<dbl>\u001b[39m\u001b[23m 0.00, 0.00, 0.00, 0.00, 0.00, 0.00, 0.00…\n",
      "$ expected_goals                \u001b[3m\u001b[90m<dbl>\u001b[39m\u001b[23m 0.00, 0.00, 0.00, 0.00, 0.00, 0.00, 0.00…\n",
      "$ expected_goals_conceded       \u001b[3m\u001b[90m<dbl>\u001b[39m\u001b[23m 0.00, 0.00, 0.00, 0.00, 0.00, 0.03, 0.00…\n",
      "$ fixture                       \u001b[3m\u001b[90m<dbl>\u001b[39m\u001b[23m 273, 281, 296, 302, 7, 14, 30, 35, 50, 5…\n",
      "$ goals_conceded                \u001b[3m\u001b[90m<dbl>\u001b[39m\u001b[23m 0, 0, 0, 0, 0, 0, 0, 0, 0, 0, 0, 0, 0, 0…\n",
      "$ goals_scored                  \u001b[3m\u001b[90m<dbl>\u001b[39m\u001b[23m 0, 0, 0, 0, 0, 0, 0, 0, 0, 0, 0, 0, 0, 0…\n",
      "$ ict_index                     \u001b[3m\u001b[90m<dbl>\u001b[39m\u001b[23m 0.0, 0.0, 0.0, 0.0, 0.0, 0.0, 0.0, 0.0, …\n",
      "$ influence                     \u001b[3m\u001b[90m<dbl>\u001b[39m\u001b[23m 0.0, 0.0, 0.0, 0.0, 0.0, 0.0, 0.0, 0.0, …\n",
      "$ kickoff_time                  \u001b[3m\u001b[90m<dttm>\u001b[39m\u001b[23m 2025-03-09 14:00:00, 2025-03-16 13:30:0…\n",
      "$ minutes                       \u001b[3m\u001b[90m<dbl>\u001b[39m\u001b[23m 0, 0, 0, 0, 0, 1, 0, 0, 17, 0, 7, 0, 1, …\n",
      "$ opponent_team                 \u001b[3m\u001b[90m<chr>\u001b[39m\u001b[23m \"Leicester\", \"Arsenal\", \"Tottenham\", \"Br…\n",
      "$ own_goals                     \u001b[3m\u001b[90m<dbl>\u001b[39m\u001b[23m 0, 0, 0, 0, 0, 0, 0, 0, 0, 0, 0, 0, 0, 0…\n",
      "$ penalties_missed              \u001b[3m\u001b[90m<dbl>\u001b[39m\u001b[23m 0, 0, 0, 0, 0, 0, 0, 0, 0, 0, 0, 0, 0, 0…\n",
      "$ penalties_saved               \u001b[3m\u001b[90m<dbl>\u001b[39m\u001b[23m 0, 0, 0, 0, 0, 0, 0, 0, 0, 0, 0, 0, 0, 0…\n",
      "$ red_cards                     \u001b[3m\u001b[90m<dbl>\u001b[39m\u001b[23m 0, 0, 0, 0, 0, 0, 0, 0, 0, 0, 0, 0, 0, 0…\n",
      "$ round                         \u001b[3m\u001b[90m<dbl>\u001b[39m\u001b[23m 28, 29, 30, 31, 1, 2, 3, 4, 5, 6, 7, 8, …\n",
      "$ saves                         \u001b[3m\u001b[90m<dbl>\u001b[39m\u001b[23m 0, 0, 0, 0, 0, 0, 0, 0, 0, 0, 0, 0, 0, 0…\n",
      "$ selected                      \u001b[3m\u001b[90m<dbl>\u001b[39m\u001b[23m 325, 436, 442, 453, 215475, 227554, 2211…\n",
      "$ starts                        \u001b[3m\u001b[90m<dbl>\u001b[39m\u001b[23m 0, 0, 0, 0, 0, 0, 0, 0, 0, 0, 0, 0, 0, 0…\n",
      "$ team_a_score                  \u001b[3m\u001b[90m<dbl>\u001b[39m\u001b[23m 0, 0, 0, 0, 2, 2, 3, 1, 3, 1, 1, 1, 1, 0…\n",
      "$ team_h_score                  \u001b[3m\u001b[90m<dbl>\u001b[39m\u001b[23m 1, 1, 1, 0, 1, 0, 1, 1, 0, 1, 4, 4, 2, 3…\n",
      "$ threat                        \u001b[3m\u001b[90m<dbl>\u001b[39m\u001b[23m 0, 0, 0, 0, 0, 0, 0, 0, 0, 0, 1, 0, 0, 0…\n",
      "$ total_points                  \u001b[3m\u001b[90m<dbl>\u001b[39m\u001b[23m 0, 0, 0, 0, 0, 1, 0, 0, 1, 0, 1, 0, 0, 0…\n",
      "$ transfers_balance             \u001b[3m\u001b[90m<dbl>\u001b[39m\u001b[23m 21, 4, 6, 6, 0, -6613, -12465, -40996, -…\n",
      "$ transfers_in                  \u001b[3m\u001b[90m<dbl>\u001b[39m\u001b[23m 52, 31, 30, 22, 0, 10331, 21013, 1264, 6…\n",
      "$ transfers_out                 \u001b[3m\u001b[90m<dbl>\u001b[39m\u001b[23m 31, 27, 24, 16, 0, 16944, 33478, 42260, …\n",
      "$ value                         \u001b[3m\u001b[90m<dbl>\u001b[39m\u001b[23m 40, 40, 40, 40, 40, 40, 40, 40, 40, 40, …\n",
      "$ was_home                      \u001b[3m\u001b[90m<lgl>\u001b[39m\u001b[23m TRUE, FALSE, TRUE, FALSE, TRUE, FALSE, T…\n",
      "$ yellow_cards                  \u001b[3m\u001b[90m<dbl>\u001b[39m\u001b[23m 0, 0, 0, 0, 0, 0, 0, 0, 0, 0, 0, 0, 1, 0…\n",
      "$ GW                            \u001b[3m\u001b[90m<dbl>\u001b[39m\u001b[23m 104, 105, 106, 107, 77, 78, 79, 80, 81, …\n",
      "$ player_id                     \u001b[3m\u001b[90m<dbl>\u001b[39m\u001b[23m 1, 1, 1, 1, 3, 3, 3, 3, 3, 3, 3, 3, 3, 3…\n",
      "$ oID                           \u001b[3m\u001b[90m<dbl>\u001b[39m\u001b[23m 13, 1, 22, 4, 2, 8, 16, 10, 7, 4, 11, 22…\n",
      "$ tID                           \u001b[3m\u001b[90m<dbl>\u001b[39m\u001b[23m 7, 7, 7, 7, 23, 23, 23, 23, 23, 23, 23, …\n",
      "$ hID                           \u001b[3m\u001b[90m<dbl>\u001b[39m\u001b[23m 1, 0, 1, 0, 1, 0, 1, 0, 1, 0, 1, 0, 1, 0…\n",
      "Rows: 9,502\n",
      "Columns: 49\n",
      "$ row_id                        \u001b[3m\u001b[90m<dbl>\u001b[39m\u001b[23m 587, 588, 589, 590, 591, 592, 593, 594, …\n",
      "$ predicted_total_points_scaled \u001b[3m\u001b[90m<dbl>\u001b[39m\u001b[23m 0.29094085, 0.12081978, 0.51503688, 0.12…\n",
      "$ actual_total_points_scaled    \u001b[3m\u001b[90m<dbl>\u001b[39m\u001b[23m 0.32314972, -0.09825256, -0.09825256, -0…\n",
      "$ predicted_total_points        \u001b[3m\u001b[90m<dbl>\u001b[39m\u001b[23m 1.923567, 1.519865, 2.455354, 1.521087, …\n",
      "$ actual_total_points           \u001b[3m\u001b[90m<dbl>\u001b[39m\u001b[23m 2, 1, 1, 0, 2, 2, 3, 3, 2, 0, 3, 3, 2, 3…\n",
      "$ name                          \u001b[3m\u001b[90m<chr>\u001b[39m\u001b[23m \"Abdoulaye Doucoure\", \"Abdoulaye Doucour…\n",
      "$ position                      \u001b[3m\u001b[90m<chr>\u001b[39m\u001b[23m \"MID\", \"MID\", \"MID\", \"MID\", \"MID\", \"MID\"…\n",
      "$ team                          \u001b[3m\u001b[90m<chr>\u001b[39m\u001b[23m \"Everton\", \"Everton\", \"Everton\", \"Everto…\n",
      "$ xP                            \u001b[3m\u001b[90m<dbl>\u001b[39m\u001b[23m 2.0, 1.5, 1.3, 1.0, 1.5, 1.3, 1.3, 2.7, …\n",
      "$ assists                       \u001b[3m\u001b[90m<dbl>\u001b[39m\u001b[23m 0, 0, 0, 0, 0, 0, 0, 0, 0, 0, 0, 0, 0, 0…\n",
      "$ bonus                         \u001b[3m\u001b[90m<dbl>\u001b[39m\u001b[23m 0, 0, 0, 0, 0, 0, 0, 0, 0, 0, 0, 0, 0, 0…\n",
      "$ bps                           \u001b[3m\u001b[90m<dbl>\u001b[39m\u001b[23m 2, 3, 4, 0, 14, 7, 11, 11, 13, 0, 16, 7,…\n",
      "$ clean_sheets                  \u001b[3m\u001b[90m<dbl>\u001b[39m\u001b[23m 0, 0, 0, 0, 0, 0, 1, 1, 0, 0, 1, 1, 0, 1…\n",
      "$ creativity                    \u001b[3m\u001b[90m<dbl>\u001b[39m\u001b[23m 3.2, 1.4, 1.9, 0.0, 2.8, 13.0, 32.2, 23.…\n",
      "$ expected_assists              \u001b[3m\u001b[90m<dbl>\u001b[39m\u001b[23m 0.01, 0.00, 0.01, 0.00, 0.01, 0.02, 0.02…\n",
      "$ expected_goal_involvements    \u001b[3m\u001b[90m<dbl>\u001b[39m\u001b[23m 0.15, 0.07, 0.01, 0.00, 0.03, 0.02, 0.02…\n",
      "$ expected_goals                \u001b[3m\u001b[90m<dbl>\u001b[39m\u001b[23m 0.14, 0.07, 0.00, 0.00, 0.02, 0.00, 0.00…\n",
      "$ expected_goals_conceded       \u001b[3m\u001b[90m<dbl>\u001b[39m\u001b[23m 1.13, 1.66, 1.54, 0.00, 0.66, 0.95, 2.05…\n",
      "$ fixture                       \u001b[3m\u001b[90m<dbl>\u001b[39m\u001b[23m 3, 19, 24, 31, 45, 55, 67, 73, 87, 98, 1…\n",
      "$ goals_conceded                \u001b[3m\u001b[90m<dbl>\u001b[39m\u001b[23m 2, 2, 3, 0, 1, 1, 0, 0, 1, 0, 0, 0, 4, 0…\n",
      "$ goals_scored                  \u001b[3m\u001b[90m<dbl>\u001b[39m\u001b[23m 0, 0, 0, 0, 0, 0, 0, 0, 0, 0, 0, 0, 0, 0…\n",
      "$ ict_index                     \u001b[3m\u001b[90m<dbl>\u001b[39m\u001b[23m 1.1, 1.0, 0.5, 0.0, 1.8, 2.3, 4.4, 3.9, …\n",
      "$ influence                     \u001b[3m\u001b[90m<dbl>\u001b[39m\u001b[23m 2.4, 1.6, 1.2, 0.0, 12.6, 10.4, 11.6, 13…\n",
      "$ kickoff_time                  \u001b[3m\u001b[90m<dttm>\u001b[39m\u001b[23m 2024-08-17 14:00:00, 2024-08-24 14:00:0…\n",
      "$ minutes                       \u001b[3m\u001b[90m<dbl>\u001b[39m\u001b[23m 62, 56, 7, 0, 90, 90, 90, 90, 79, 0, 85,…\n",
      "$ opponent_team                 \u001b[3m\u001b[90m<chr>\u001b[39m\u001b[23m \"Brighton\", \"Tottenham\", \"Bournemouth\", …\n",
      "$ own_goals                     \u001b[3m\u001b[90m<dbl>\u001b[39m\u001b[23m 0, 0, 0, 0, 0, 0, 0, 0, 0, 0, 0, 0, 0, 0…\n",
      "$ penalties_missed              \u001b[3m\u001b[90m<dbl>\u001b[39m\u001b[23m 0, 0, 0, 0, 0, 0, 0, 0, 0, 0, 0, 0, 0, 0…\n",
      "$ penalties_saved               \u001b[3m\u001b[90m<dbl>\u001b[39m\u001b[23m 0, 0, 0, 0, 0, 0, 0, 0, 0, 0, 0, 0, 0, 0…\n",
      "$ red_cards                     \u001b[3m\u001b[90m<dbl>\u001b[39m\u001b[23m 0, 0, 0, 0, 0, 0, 0, 0, 0, 0, 0, 0, 0, 0…\n",
      "$ round                         \u001b[3m\u001b[90m<dbl>\u001b[39m\u001b[23m 1, 2, 3, 4, 5, 6, 7, 8, 9, 10, 11, 12, 1…\n",
      "$ saves                         \u001b[3m\u001b[90m<dbl>\u001b[39m\u001b[23m 0, 0, 0, 0, 0, 0, 0, 0, 0, 0, 0, 0, 0, 0…\n",
      "$ selected                      \u001b[3m\u001b[90m<dbl>\u001b[39m\u001b[23m 46194, 43259, 37931, 30683, 27682, 25555…\n",
      "$ starts                        \u001b[3m\u001b[90m<dbl>\u001b[39m\u001b[23m 1, 1, 0, 0, 1, 1, 1, 1, 1, 0, 1, 1, 1, 1…\n",
      "$ team_a_score                  \u001b[3m\u001b[90m<dbl>\u001b[39m\u001b[23m 3, 0, 3, 2, 1, 1, 0, 2, 1, 0, 0, 0, 0, 0…\n",
      "$ team_h_score                  \u001b[3m\u001b[90m<dbl>\u001b[39m\u001b[23m 0, 4, 2, 3, 1, 2, 0, 0, 1, 1, 0, 0, 4, 4…\n",
      "$ threat                        \u001b[3m\u001b[90m<dbl>\u001b[39m\u001b[23m 5, 7, 2, 0, 3, 0, 0, 2, 19, 0, 9, 2, 2, …\n",
      "$ total_points                  \u001b[3m\u001b[90m<dbl>\u001b[39m\u001b[23m 2, 1, 1, 0, 2, 2, 3, 3, 2, 0, 3, 3, 2, 3…\n",
      "$ transfers_balance             \u001b[3m\u001b[90m<dbl>\u001b[39m\u001b[23m 0, -6563, -6423, -7655, -3364, -2326, -1…\n",
      "$ transfers_in                  \u001b[3m\u001b[90m<dbl>\u001b[39m\u001b[23m 0, 1812, 2669, 914, 677, 806, 729, 2939,…\n",
      "$ transfers_out                 \u001b[3m\u001b[90m<dbl>\u001b[39m\u001b[23m 0, 8375, 9092, 8569, 4041, 3132, 2549, 1…\n",
      "$ value                         \u001b[3m\u001b[90m<dbl>\u001b[39m\u001b[23m 55, 55, 54, 53, 53, 52, 52, 52, 52, 52, …\n",
      "$ was_home                      \u001b[3m\u001b[90m<lgl>\u001b[39m\u001b[23m TRUE, FALSE, TRUE, FALSE, FALSE, TRUE, T…\n",
      "$ yellow_cards                  \u001b[3m\u001b[90m<dbl>\u001b[39m\u001b[23m 0, 0, 0, 0, 0, 0, 0, 0, 0, 0, 0, 0, 0, 0…\n",
      "$ GW                            \u001b[3m\u001b[90m<dbl>\u001b[39m\u001b[23m 77, 78, 79, 80, 81, 82, 83, 84, 85, 86, …\n",
      "$ player_id                     \u001b[3m\u001b[90m<dbl>\u001b[39m\u001b[23m 8, 8, 8, 8, 8, 8, 8, 8, 8, 8, 8, 8, 8, 8…\n",
      "$ oID                           \u001b[3m\u001b[90m<dbl>\u001b[39m\u001b[23m 5, 22, 3, 2, 13, 8, 18, 11, 10, 21, 23, …\n",
      "$ tID                           \u001b[3m\u001b[90m<dbl>\u001b[39m\u001b[23m 9, 9, 9, 9, 9, 9, 9, 9, 9, 9, 9, 9, 9, 9…\n",
      "$ hID                           \u001b[3m\u001b[90m<dbl>\u001b[39m\u001b[23m 1, 0, 1, 0, 0, 1, 1, 0, 1, 0, 0, 1, 0, 1…\n",
      "Rows: 2,342\n",
      "Columns: 49\n",
      "$ row_id                        \u001b[3m\u001b[90m<dbl>\u001b[39m\u001b[23m 734, 735, 736, 737, 738, 739, 740, 741, …\n",
      "$ predicted_total_points_scaled \u001b[3m\u001b[90m<dbl>\u001b[39m\u001b[23m -0.007207822, 0.056653325, -0.076495796,…\n",
      "$ actual_total_points_scaled    \u001b[3m\u001b[90m<dbl>\u001b[39m\u001b[23m 0.2527281, -0.1202728, -0.1202728, -0.49…\n",
      "$ predicted_total_points        \u001b[3m\u001b[90m<dbl>\u001b[39m\u001b[23m 1.303122, 1.474332, 1.117364, 1.758519, …\n",
      "$ actual_total_points           \u001b[3m\u001b[90m<dbl>\u001b[39m\u001b[23m 2, 1, 1, 0, 1, 0, 1, 0, 0, 7, 2, 7, 5, 1…\n",
      "$ name                          \u001b[3m\u001b[90m<chr>\u001b[39m\u001b[23m \"Adam Armstrong\", \"Adam Armstrong\", \"Ada…\n",
      "$ position                      \u001b[3m\u001b[90m<chr>\u001b[39m\u001b[23m \"FWD\", \"FWD\", \"FWD\", \"FWD\", \"FWD\", \"FWD\"…\n",
      "$ team                          \u001b[3m\u001b[90m<chr>\u001b[39m\u001b[23m \"Southampton\", \"Southampton\", \"Southampt…\n",
      "$ xP                            \u001b[3m\u001b[90m<dbl>\u001b[39m\u001b[23m 0.7, 1.0, 0.8, 0.5, 0.8, -0.2, -1.0, -0.…\n",
      "$ assists                       \u001b[3m\u001b[90m<dbl>\u001b[39m\u001b[23m 0, 0, 0, 0, 0, 0, 0, 0, 0, 0, 0, 1, 1, 0…\n",
      "$ bonus                         \u001b[3m\u001b[90m<dbl>\u001b[39m\u001b[23m 0, 0, 0, 0, 0, 0, 0, 0, 0, 1, 0, 1, 0, 0…\n",
      "$ bps                           \u001b[3m\u001b[90m<dbl>\u001b[39m\u001b[23m 5, 1, 0, 0, 3, 0, 2, 0, -1, 32, 1, 33, 1…\n",
      "$ clean_sheets                  \u001b[3m\u001b[90m<dbl>\u001b[39m\u001b[23m 0, 0, 0, 0, 0, 0, 0, 0, 0, 1, 0, 0, 0, 0…\n",
      "$ creativity                    \u001b[3m\u001b[90m<dbl>\u001b[39m\u001b[23m 12.9, 2.9, 0.9, 0.0, 0.0, 0.0, 0.8, 0.0,…\n",
      "$ expected_assists              \u001b[3m\u001b[90m<dbl>\u001b[39m\u001b[23m 0.08, 0.01, 0.05, 0.00, 0.00, 0.00, 0.01…\n",
      "$ expected_goal_involvements    \u001b[3m\u001b[90m<dbl>\u001b[39m\u001b[23m 0.79, 0.03, 0.10, 0.00, 0.00, 0.00, 0.01…\n",
      "$ expected_goals                \u001b[3m\u001b[90m<dbl>\u001b[39m\u001b[23m 0.71, 0.02, 0.05, 0.00, 0.00, 0.00, 0.00…\n",
      "$ expected_goals_conceded       \u001b[3m\u001b[90m<dbl>\u001b[39m\u001b[23m 0.25, 2.14, 0.97, 0.00, 0.55, 0.00, 0.70…\n",
      "$ fixture                       \u001b[3m\u001b[90m<dbl>\u001b[39m\u001b[23m 5, 18, 22, 38, 48, 52, 61, 78, 89, 98, 1…\n",
      "$ goals_conceded                \u001b[3m\u001b[90m<dbl>\u001b[39m\u001b[23m 1, 1, 1, 0, 1, 0, 1, 0, 0, 0, 2, 2, 1, 3…\n",
      "$ goals_scored                  \u001b[3m\u001b[90m<dbl>\u001b[39m\u001b[23m 0, 0, 0, 0, 0, 0, 0, 0, 0, 1, 0, 1, 0, 0…\n",
      "$ ict_index                     \u001b[3m\u001b[90m<dbl>\u001b[39m\u001b[23m 5.8, 1.4, 0.8, 0.0, 0.0, 0.0, 0.7, 0.0, …\n",
      "$ influence                     \u001b[3m\u001b[90m<dbl>\u001b[39m\u001b[23m 7.8, 2.2, 0.0, 0.0, 0.0, 0.0, 2.2, 0.0, …\n",
      "$ kickoff_time                  \u001b[3m\u001b[90m<dttm>\u001b[39m\u001b[23m 2024-08-17 14:00:00, 2024-08-24 14:00:0…\n",
      "$ minutes                       \u001b[3m\u001b[90m<dbl>\u001b[39m\u001b[23m 90, 70, 45, 0, 8, 0, 16, 0, 45, 90, 90, …\n",
      "$ opponent_team                 \u001b[3m\u001b[90m<chr>\u001b[39m\u001b[23m \"Newcastle\", \"Nottingham Forest\", \"Brent…\n",
      "$ own_goals                     \u001b[3m\u001b[90m<dbl>\u001b[39m\u001b[23m 0, 0, 0, 0, 0, 0, 0, 0, 0, 0, 0, 0, 0, 0…\n",
      "$ penalties_missed              \u001b[3m\u001b[90m<dbl>\u001b[39m\u001b[23m 0, 0, 0, 0, 0, 0, 0, 0, 0, 0, 0, 1, 0, 0…\n",
      "$ penalties_saved               \u001b[3m\u001b[90m<dbl>\u001b[39m\u001b[23m 0, 0, 0, 0, 0, 0, 0, 0, 0, 0, 0, 0, 0, 0…\n",
      "$ red_cards                     \u001b[3m\u001b[90m<dbl>\u001b[39m\u001b[23m 0, 0, 0, 0, 0, 0, 0, 0, 0, 0, 0, 0, 0, 0…\n",
      "$ round                         \u001b[3m\u001b[90m<dbl>\u001b[39m\u001b[23m 1, 2, 3, 4, 5, 6, 7, 8, 9, 10, 11, 12, 1…\n",
      "$ saves                         \u001b[3m\u001b[90m<dbl>\u001b[39m\u001b[23m 0, 0, 0, 0, 0, 0, 0, 0, 0, 0, 0, 0, 0, 0…\n",
      "$ selected                      \u001b[3m\u001b[90m<dbl>\u001b[39m\u001b[23m 147689, 180975, 159267, 119236, 105783, …\n",
      "$ starts                        \u001b[3m\u001b[90m<dbl>\u001b[39m\u001b[23m 1, 1, 1, 0, 0, 0, 0, 0, 0, 1, 1, 1, 1, 1…\n",
      "$ team_a_score                  \u001b[3m\u001b[90m<dbl>\u001b[39m\u001b[23m 0, 1, 1, 3, 1, 1, 1, 3, 0, 0, 0, 3, 1, 5…\n",
      "$ team_h_score                  \u001b[3m\u001b[90m<dbl>\u001b[39m\u001b[23m 1, 0, 3, 0, 1, 3, 3, 2, 1, 1, 2, 2, 1, 1…\n",
      "$ threat                        \u001b[3m\u001b[90m<dbl>\u001b[39m\u001b[23m 37, 9, 8, 0, 0, 0, 4, 0, 21, 29, 9, 38, …\n",
      "$ total_points                  \u001b[3m\u001b[90m<dbl>\u001b[39m\u001b[23m 2, 1, 1, 0, 1, 0, 1, 0, 0, 7, 2, 7, 5, 1…\n",
      "$ transfers_balance             \u001b[3m\u001b[90m<dbl>\u001b[39m\u001b[23m 0, 20284, -23029, -42287, -15022, -21356…\n",
      "$ transfers_in                  \u001b[3m\u001b[90m<dbl>\u001b[39m\u001b[23m 0, 37679, 17476, 10045, 6817, 3523, 4861…\n",
      "$ transfers_out                 \u001b[3m\u001b[90m<dbl>\u001b[39m\u001b[23m 0, 17395, 40505, 52332, 21839, 24879, 13…\n",
      "$ value                         \u001b[3m\u001b[90m<dbl>\u001b[39m\u001b[23m 55, 55, 55, 55, 54, 53, 53, 52, 52, 51, …\n",
      "$ was_home                      \u001b[3m\u001b[90m<lgl>\u001b[39m\u001b[23m FALSE, TRUE, FALSE, TRUE, TRUE, FALSE, F…\n",
      "$ yellow_cards                  \u001b[3m\u001b[90m<dbl>\u001b[39m\u001b[23m 0, 1, 0, 0, 0, 0, 0, 0, 1, 0, 0, 1, 0, 1…\n",
      "$ GW                            \u001b[3m\u001b[90m<dbl>\u001b[39m\u001b[23m 77, 78, 79, 80, 81, 82, 83, 84, 85, 86, …\n",
      "$ player_id                     \u001b[3m\u001b[90m<dbl>\u001b[39m\u001b[23m 12, 12, 12, 12, 12, 12, 12, 12, 12, 12, …\n",
      "$ oID                           \u001b[3m\u001b[90m<dbl>\u001b[39m\u001b[23m 18, 19, 4, 17, 11, 3, 1, 13, 16, 9, 24, …\n",
      "$ tID                           \u001b[3m\u001b[90m<dbl>\u001b[39m\u001b[23m 21, 21, 21, 21, 21, 21, 21, 21, 21, 21, …\n",
      "$ hID                           \u001b[3m\u001b[90m<dbl>\u001b[39m\u001b[23m 0, 1, 0, 1, 1, 0, 0, 1, 0, 1, 0, 1, 0, 1…\n",
      "Rows: 21,098\n",
      "Columns: 9\n",
      "$ row_id                 \u001b[3m\u001b[90m<dbl>\u001b[39m\u001b[23m 4, 5, 6, 7, 122, 123, 124, 125, 126, 127, 128, …\n",
      "$ GW                     \u001b[3m\u001b[90m<dbl>\u001b[39m\u001b[23m 104, 105, 106, 107, 77, 78, 79, 80, 81, 82, 83,…\n",
      "$ player_id              \u001b[3m\u001b[90m<dbl>\u001b[39m\u001b[23m 1, 1, 1, 1, 3, 3, 3, 3, 3, 3, 3, 3, 3, 3, 3, 3,…\n",
      "$ name                   \u001b[3m\u001b[90m<chr>\u001b[39m\u001b[23m \"Aaron Anselmino\", \"Aaron Anselmino\", \"Aaron An…\n",
      "$ position               \u001b[3m\u001b[90m<chr>\u001b[39m\u001b[23m \"DEF\", \"DEF\", \"DEF\", \"DEF\", \"DEF\", \"DEF\", \"DEF\"…\n",
      "$ team                   \u001b[3m\u001b[90m<chr>\u001b[39m\u001b[23m \"Chelsea\", \"Chelsea\", \"Chelsea\", \"Chelsea\", \"We…\n",
      "$ actual_total_points    \u001b[3m\u001b[90m<dbl>\u001b[39m\u001b[23m 0, 0, 0, 0, 0, 1, 0, 0, 1, 0, 1, 0, 0, 0, 0, 0,…\n",
      "$ predicted_total_points \u001b[3m\u001b[90m<dbl>\u001b[39m\u001b[23m 2.1620016, 0.4853369, 1.4320048, 1.5712274, 1.2…\n",
      "$ value                  \u001b[3m\u001b[90m<dbl>\u001b[39m\u001b[23m 40, 40, 40, 40, 40, 40, 40, 40, 40, 40, 40, 40,…\n",
      "Clean and detailed validation results combined.\n"
     ]
    }
   ],
   "source": [
    "glimpse(preds_gk)\n",
    "glimpse(preds_def)\n",
    "glimpse(preds_mid)\n",
    "glimpse(preds_fwd)\n",
    "\n",
    "# filepath: c:\\Users\\peram\\Documents\\test\\R Forecast\\prognose-modell.ipynb\n",
    "# Combine the CLEANED validation predictions\n",
    "validation_results_df <- bind_rows(\n",
    "    preds_gk_clean,\n",
    "    preds_def_clean,\n",
    "    preds_mid_clean,\n",
    "    preds_fwd_clean\n",
    "  ) %>%\n",
    "  arrange(player_id, GW)\n",
    "\n",
    "glimpse(validation_results_df)\n",
    "\n",
    "# Keep the original detailed forecast df as well (optional)\n",
    "forecastdf_detailed <- bind_rows(preds_gk, preds_def, preds_mid, preds_fwd)\n",
    "cat(\"Clean and detailed validation results combined.\\n\")"
   ]
  },
  {
   "cell_type": "markdown",
   "metadata": {
    "_cell_guid": "07c0c526-15a6-4876-a7f9-166509537896",
    "_uuid": "ec599542-d3af-40b1-8620-0b95b7732e35",
    "collapsed": false,
    "jupyter": {
     "outputs_hidden": false
    },
    "trusted": true
   },
   "source": [
    "### Evaluation Tibbler"
   ]
  },
  {
   "cell_type": "code",
   "execution_count": null,
   "metadata": {
    "_cell_guid": "c71a0fa1-bf48-4d19-a08c-4231fcd5f4af",
    "_uuid": "e0e44347-b937-4200-962d-869fcdbe873d",
    "collapsed": false,
    "jupyter": {
     "outputs_hidden": false
    },
    "trusted": true,
    "vscode": {
     "languageId": "r"
    }
   },
   "outputs": [
    {
     "data": {
      "text/html": [
       "<table class=\"dataframe\">\n",
       "<caption>A data.frame: 6 × 5</caption>\n",
       "<thead>\n",
       "\t<tr><th></th><th scope=col>metric</th><th scope=col>GK</th><th scope=col>DEF</th><th scope=col>MID</th><th scope=col>FWD</th></tr>\n",
       "\t<tr><th></th><th scope=col>&lt;chr&gt;</th><th scope=col>&lt;dbl&gt;</th><th scope=col>&lt;dbl&gt;</th><th scope=col>&lt;dbl&gt;</th><th scope=col>&lt;dbl&gt;</th></tr>\n",
       "</thead>\n",
       "<tbody>\n",
       "\t<tr><th scope=row>loss</th><td>loss                          </td><td>  0.8591550</td><td>  0.95330924</td><td>  0.9586085</td><td>  0.9850546</td></tr>\n",
       "\t<tr><th scope=row>mean_absolute_error</th><td>mean_absolute_error           </td><td>  0.5962886</td><td>  0.67734116</td><td>  0.6237039</td><td>  0.6459015</td></tr>\n",
       "\t<tr><th scope=row>mean_squared_error</th><td>mean_squared_error            </td><td>  0.8591550</td><td>  0.95330924</td><td>  0.9586085</td><td>  0.9850546</td></tr>\n",
       "\t<tr><th scope=row>root_mean_squared_error</th><td>root_mean_squared_error       </td><td>  0.9269062</td><td>  0.97637558</td><td>  0.9790856</td><td>  0.9924992</td></tr>\n",
       "\t<tr><th scope=row>mean_absolute_percentage_error</th><td>mean_absolute_percentage_error</td><td>141.0629883</td><td>767.12738037</td><td>153.3153992</td><td>139.0708466</td></tr>\n",
       "\t<tr><th scope=row>cosine_similarity</th><td>cosine_similarity             </td><td>  0.3096948</td><td> -0.00284657</td><td>  0.1252368</td><td>  0.2100769</td></tr>\n",
       "</tbody>\n",
       "</table>\n"
      ],
      "text/latex": [
       "A data.frame: 6 × 5\n",
       "\\begin{tabular}{r|lllll}\n",
       "  & metric & GK & DEF & MID & FWD\\\\\n",
       "  & <chr> & <dbl> & <dbl> & <dbl> & <dbl>\\\\\n",
       "\\hline\n",
       "\tloss & loss                           &   0.8591550 &   0.95330924 &   0.9586085 &   0.9850546\\\\\n",
       "\tmean\\_absolute\\_error & mean\\_absolute\\_error            &   0.5962886 &   0.67734116 &   0.6237039 &   0.6459015\\\\\n",
       "\tmean\\_squared\\_error & mean\\_squared\\_error             &   0.8591550 &   0.95330924 &   0.9586085 &   0.9850546\\\\\n",
       "\troot\\_mean\\_squared\\_error & root\\_mean\\_squared\\_error        &   0.9269062 &   0.97637558 &   0.9790856 &   0.9924992\\\\\n",
       "\tmean\\_absolute\\_percentage\\_error & mean\\_absolute\\_percentage\\_error & 141.0629883 & 767.12738037 & 153.3153992 & 139.0708466\\\\\n",
       "\tcosine\\_similarity & cosine\\_similarity              &   0.3096948 &  -0.00284657 &   0.1252368 &   0.2100769\\\\\n",
       "\\end{tabular}\n"
      ],
      "text/markdown": [
       "\n",
       "A data.frame: 6 × 5\n",
       "\n",
       "| <!--/--> | metric &lt;chr&gt; | GK &lt;dbl&gt; | DEF &lt;dbl&gt; | MID &lt;dbl&gt; | FWD &lt;dbl&gt; |\n",
       "|---|---|---|---|---|---|\n",
       "| loss | loss                           |   0.8591550 |   0.95330924 |   0.9586085 |   0.9850546 |\n",
       "| mean_absolute_error | mean_absolute_error            |   0.5962886 |   0.67734116 |   0.6237039 |   0.6459015 |\n",
       "| mean_squared_error | mean_squared_error             |   0.8591550 |   0.95330924 |   0.9586085 |   0.9850546 |\n",
       "| root_mean_squared_error | root_mean_squared_error        |   0.9269062 |   0.97637558 |   0.9790856 |   0.9924992 |\n",
       "| mean_absolute_percentage_error | mean_absolute_percentage_error | 141.0629883 | 767.12738037 | 153.3153992 | 139.0708466 |\n",
       "| cosine_similarity | cosine_similarity              |   0.3096948 |  -0.00284657 |   0.1252368 |   0.2100769 |\n",
       "\n"
      ],
      "text/plain": [
       "                               metric                         GK         \n",
       "loss                           loss                             0.8591550\n",
       "mean_absolute_error            mean_absolute_error              0.5962886\n",
       "mean_squared_error             mean_squared_error               0.8591550\n",
       "root_mean_squared_error        root_mean_squared_error          0.9269062\n",
       "mean_absolute_percentage_error mean_absolute_percentage_error 141.0629883\n",
       "cosine_similarity              cosine_similarity                0.3096948\n",
       "                               DEF          MID         FWD        \n",
       "loss                             0.95330924   0.9586085   0.9850546\n",
       "mean_absolute_error              0.67734116   0.6237039   0.6459015\n",
       "mean_squared_error               0.95330924   0.9586085   0.9850546\n",
       "root_mean_squared_error          0.97637558   0.9790856   0.9924992\n",
       "mean_absolute_percentage_error 767.12738037 153.3153992 139.0708466\n",
       "cosine_similarity               -0.00284657   0.1252368   0.2100769"
      ]
     },
     "metadata": {},
     "output_type": "display_data"
    }
   ],
   "source": [
    "# Create metrics comparison dataframe\n",
    "metrics_df <- data.frame(\n",
    "  metric = names(validation_metrics$gk),\n",
    "  GK = unlist(validation_metrics$gk),\n",
    "  DEF = unlist(validation_metrics$def),\n",
    "  MID = unlist(validation_metrics$mid),\n",
    "  FWD = unlist(validation_metrics$fwd)\n",
    ")\n",
    "\n",
    "metrics_df"
   ]
  },
  {
   "cell_type": "markdown",
   "metadata": {
    "_cell_guid": "39b0467c-7278-4598-af70-273cb5e4b86d",
    "_uuid": "45ab14a4-18ef-48b3-bb7e-eac2ce5f42dd",
    "collapsed": false,
    "jupyter": {
     "outputs_hidden": false
    },
    "trusted": true
   },
   "source": [
    "## Eksportering av Out-of-Sample prediksjoner"
   ]
  },
  {
   "cell_type": "code",
   "execution_count": null,
   "metadata": {
    "_cell_guid": "6ec24966-603f-44ea-a575-8a1670ebbb0c",
    "_uuid": "3548e063-c15d-47bc-9e37-07e68e0243e4",
    "collapsed": false,
    "jupyter": {
     "outputs_hidden": false
    },
    "trusted": true,
    "vscode": {
     "languageId": "r"
    }
   },
   "outputs": [
    {
     "name": "stdout",
     "output_type": "stream",
     "text": [
      "Clean validation predictions saved to Validation_Predictions_Clean.csv\n",
      "Detailed validation predictions saved to Validation_Predictions_Detailed.csv\n"
     ]
    }
   ],
   "source": [
    "# Export CLEAN validation results\n",
    "write_csv(validation_results_df, \"Validation_Predictions_Clean.csv\")\n",
    "cat(\"Clean validation predictions saved to Validation_Predictions_Clean.csv\\n\")\n",
    "\n",
    "# Export DETAILED validation results (original behavior, renamed file)\n",
    "write_csv(forecastdf_detailed, \"Validation_Predictions_Detailed.csv\")\n",
    "cat(\"Detailed validation predictions saved to Validation_Predictions_Detailed.csv\\n\")"
   ]
  },
  {
   "cell_type": "markdown",
   "metadata": {
    "_cell_guid": "951b6df3-5ccb-4659-8034-eeb866e1be43",
    "_uuid": "15e3118c-589a-4d3c-a29a-9694889a8e85",
    "collapsed": false,
    "jupyter": {
     "outputs_hidden": false
    },
    "trusted": true
   },
   "source": [
    "# Lag prognoser for n in GW_n"
   ]
  },
  {
   "cell_type": "markdown",
   "metadata": {
    "_cell_guid": "d34c3356-91d4-4837-8db0-b0b9bb3c50c4",
    "_uuid": "511cb004-e5e5-4a41-9a3c-97586bade89e",
    "collapsed": false,
    "jupyter": {
     "outputs_hidden": false
    },
    "trusted": true
   },
   "source": [
    "1. Create/Obtain a Fixture Data File\n",
    "First, you need a CSV file containing future fixtures with:\n",
    "\n",
    "GW (gameweek number)\n",
    "team_id (team identifier matching your tID)\n",
    "opponent_id (opponent identifier matching your oID)\n",
    "is_home (1 for home, 0 for away)"
   ]
  },
  {
   "cell_type": "markdown",
   "metadata": {
    "_cell_guid": "6001f404-991f-42fc-88ca-ade37101022a",
    "_uuid": "ce108b01-6f08-4123-b71a-55271a5e4890",
    "collapsed": false,
    "jupyter": {
     "outputs_hidden": false
    },
    "trusted": true
   },
   "source": [
    "## Hent kampoppstilling"
   ]
  },
  {
   "cell_type": "markdown",
   "metadata": {
    "_cell_guid": "6491e93e-2f8c-4a6c-89d6-fd27776b3eb2",
    "_uuid": "7dff30ca-68c7-4c21-81ea-8d57949033cc",
    "collapsed": false,
    "jupyter": {
     "outputs_hidden": false
    },
    "trusted": true
   },
   "source": [
    "### Hente funksjon"
   ]
  },
  {
   "cell_type": "code",
   "execution_count": 64,
   "metadata": {
    "_cell_guid": "45a3f379-7c3b-4f23-a97d-d67ea56f9f42",
    "_uuid": "682bb727-6205-4252-9480-c433887287c4",
    "collapsed": false,
    "jupyter": {
     "outputs_hidden": false
    },
    "trusted": true,
    "vscode": {
     "languageId": "r"
    }
   },
   "outputs": [
    {
     "data": {
      "text/html": [
       "<table class=\"dataframe\">\n",
       "<caption>A tibble: 760 × 4</caption>\n",
       "<thead>\n",
       "\t<tr><th scope=col>GW</th><th scope=col>team_id</th><th scope=col>opponent_id</th><th scope=col>is_home</th></tr>\n",
       "\t<tr><th scope=col>&lt;int&gt;</th><th scope=col>&lt;int&gt;</th><th scope=col>&lt;int&gt;</th><th scope=col>&lt;dbl&gt;</th></tr>\n",
       "</thead>\n",
       "<tbody>\n",
       "\t<tr><td>1</td><td>14</td><td> 9</td><td>1</td></tr>\n",
       "\t<tr><td>1</td><td>10</td><td>12</td><td>1</td></tr>\n",
       "\t<tr><td>1</td><td> 1</td><td>20</td><td>1</td></tr>\n",
       "\t<tr><td>1</td><td> 8</td><td> 5</td><td>1</td></tr>\n",
       "\t<tr><td>1</td><td>15</td><td>17</td><td>1</td></tr>\n",
       "\t<tr><td>1</td><td>16</td><td> 3</td><td>1</td></tr>\n",
       "\t<tr><td>1</td><td>19</td><td> 2</td><td>1</td></tr>\n",
       "\t<tr><td>1</td><td> 4</td><td> 7</td><td>1</td></tr>\n",
       "\t<tr><td>1</td><td> 6</td><td>13</td><td>1</td></tr>\n",
       "\t<tr><td>1</td><td>11</td><td>18</td><td>1</td></tr>\n",
       "\t<tr><td>2</td><td> 5</td><td>14</td><td>1</td></tr>\n",
       "\t<tr><td>2</td><td> 7</td><td>19</td><td>1</td></tr>\n",
       "\t<tr><td>2</td><td> 9</td><td>11</td><td>1</td></tr>\n",
       "\t<tr><td>2</td><td>13</td><td>10</td><td>1</td></tr>\n",
       "\t<tr><td>2</td><td>17</td><td>16</td><td>1</td></tr>\n",
       "\t<tr><td>2</td><td>18</td><td> 8</td><td>1</td></tr>\n",
       "\t<tr><td>2</td><td> 2</td><td> 1</td><td>1</td></tr>\n",
       "\t<tr><td>2</td><td> 3</td><td>15</td><td>1</td></tr>\n",
       "\t<tr><td>2</td><td>20</td><td> 6</td><td>1</td></tr>\n",
       "\t<tr><td>2</td><td>12</td><td> 4</td><td>1</td></tr>\n",
       "\t<tr><td>3</td><td> 1</td><td> 5</td><td>1</td></tr>\n",
       "\t<tr><td>3</td><td> 4</td><td>17</td><td>1</td></tr>\n",
       "\t<tr><td>3</td><td> 8</td><td> 3</td><td>1</td></tr>\n",
       "\t<tr><td>3</td><td>10</td><td> 9</td><td>1</td></tr>\n",
       "\t<tr><td>3</td><td>11</td><td> 2</td><td>1</td></tr>\n",
       "\t<tr><td>3</td><td>16</td><td>20</td><td>1</td></tr>\n",
       "\t<tr><td>3</td><td>19</td><td>13</td><td>1</td></tr>\n",
       "\t<tr><td>3</td><td> 6</td><td> 7</td><td>1</td></tr>\n",
       "\t<tr><td>3</td><td>15</td><td>18</td><td>1</td></tr>\n",
       "\t<tr><td>3</td><td>14</td><td>12</td><td>1</td></tr>\n",
       "\t<tr><td>⋮</td><td>⋮</td><td>⋮</td><td>⋮</td></tr>\n",
       "\t<tr><td>36</td><td> 8</td><td> 9</td><td>0</td></tr>\n",
       "\t<tr><td>36</td><td> 4</td><td>10</td><td>0</td></tr>\n",
       "\t<tr><td>36</td><td>13</td><td>17</td><td>0</td></tr>\n",
       "\t<tr><td>36</td><td> 5</td><td>20</td><td>0</td></tr>\n",
       "\t<tr><td>36</td><td> 2</td><td> 3</td><td>0</td></tr>\n",
       "\t<tr><td>36</td><td> 6</td><td>15</td><td>0</td></tr>\n",
       "\t<tr><td>36</td><td>19</td><td>14</td><td>0</td></tr>\n",
       "\t<tr><td>36</td><td>11</td><td>16</td><td>0</td></tr>\n",
       "\t<tr><td>36</td><td> 7</td><td>18</td><td>0</td></tr>\n",
       "\t<tr><td>36</td><td> 1</td><td>12</td><td>0</td></tr>\n",
       "\t<tr><td>37</td><td>14</td><td> 6</td><td>0</td></tr>\n",
       "\t<tr><td>37</td><td>17</td><td> 8</td><td>0</td></tr>\n",
       "\t<tr><td>37</td><td>18</td><td> 2</td><td>0</td></tr>\n",
       "\t<tr><td>37</td><td>16</td><td>19</td><td>0</td></tr>\n",
       "\t<tr><td>37</td><td> 9</td><td> 4</td><td>0</td></tr>\n",
       "\t<tr><td>37</td><td>20</td><td> 7</td><td>0</td></tr>\n",
       "\t<tr><td>37</td><td>10</td><td>11</td><td>0</td></tr>\n",
       "\t<tr><td>37</td><td>15</td><td> 1</td><td>0</td></tr>\n",
       "\t<tr><td>37</td><td> 3</td><td>13</td><td>0</td></tr>\n",
       "\t<tr><td>37</td><td>12</td><td> 5</td><td>0</td></tr>\n",
       "\t<tr><td>38</td><td>11</td><td> 3</td><td>0</td></tr>\n",
       "\t<tr><td>38</td><td>13</td><td> 9</td><td>0</td></tr>\n",
       "\t<tr><td>38</td><td>19</td><td>10</td><td>0</td></tr>\n",
       "\t<tr><td>38</td><td> 7</td><td>12</td><td>0</td></tr>\n",
       "\t<tr><td>38</td><td> 2</td><td>14</td><td>0</td></tr>\n",
       "\t<tr><td>38</td><td> 8</td><td>15</td><td>0</td></tr>\n",
       "\t<tr><td>38</td><td> 6</td><td>16</td><td>0</td></tr>\n",
       "\t<tr><td>38</td><td> 1</td><td>17</td><td>0</td></tr>\n",
       "\t<tr><td>38</td><td> 5</td><td>18</td><td>0</td></tr>\n",
       "\t<tr><td>38</td><td> 4</td><td>20</td><td>0</td></tr>\n",
       "</tbody>\n",
       "</table>\n"
      ],
      "text/latex": [
       "A tibble: 760 × 4\n",
       "\\begin{tabular}{llll}\n",
       " GW & team\\_id & opponent\\_id & is\\_home\\\\\n",
       " <int> & <int> & <int> & <dbl>\\\\\n",
       "\\hline\n",
       "\t 1 & 14 &  9 & 1\\\\\n",
       "\t 1 & 10 & 12 & 1\\\\\n",
       "\t 1 &  1 & 20 & 1\\\\\n",
       "\t 1 &  8 &  5 & 1\\\\\n",
       "\t 1 & 15 & 17 & 1\\\\\n",
       "\t 1 & 16 &  3 & 1\\\\\n",
       "\t 1 & 19 &  2 & 1\\\\\n",
       "\t 1 &  4 &  7 & 1\\\\\n",
       "\t 1 &  6 & 13 & 1\\\\\n",
       "\t 1 & 11 & 18 & 1\\\\\n",
       "\t 2 &  5 & 14 & 1\\\\\n",
       "\t 2 &  7 & 19 & 1\\\\\n",
       "\t 2 &  9 & 11 & 1\\\\\n",
       "\t 2 & 13 & 10 & 1\\\\\n",
       "\t 2 & 17 & 16 & 1\\\\\n",
       "\t 2 & 18 &  8 & 1\\\\\n",
       "\t 2 &  2 &  1 & 1\\\\\n",
       "\t 2 &  3 & 15 & 1\\\\\n",
       "\t 2 & 20 &  6 & 1\\\\\n",
       "\t 2 & 12 &  4 & 1\\\\\n",
       "\t 3 &  1 &  5 & 1\\\\\n",
       "\t 3 &  4 & 17 & 1\\\\\n",
       "\t 3 &  8 &  3 & 1\\\\\n",
       "\t 3 & 10 &  9 & 1\\\\\n",
       "\t 3 & 11 &  2 & 1\\\\\n",
       "\t 3 & 16 & 20 & 1\\\\\n",
       "\t 3 & 19 & 13 & 1\\\\\n",
       "\t 3 &  6 &  7 & 1\\\\\n",
       "\t 3 & 15 & 18 & 1\\\\\n",
       "\t 3 & 14 & 12 & 1\\\\\n",
       "\t ⋮ & ⋮ & ⋮ & ⋮\\\\\n",
       "\t 36 &  8 &  9 & 0\\\\\n",
       "\t 36 &  4 & 10 & 0\\\\\n",
       "\t 36 & 13 & 17 & 0\\\\\n",
       "\t 36 &  5 & 20 & 0\\\\\n",
       "\t 36 &  2 &  3 & 0\\\\\n",
       "\t 36 &  6 & 15 & 0\\\\\n",
       "\t 36 & 19 & 14 & 0\\\\\n",
       "\t 36 & 11 & 16 & 0\\\\\n",
       "\t 36 &  7 & 18 & 0\\\\\n",
       "\t 36 &  1 & 12 & 0\\\\\n",
       "\t 37 & 14 &  6 & 0\\\\\n",
       "\t 37 & 17 &  8 & 0\\\\\n",
       "\t 37 & 18 &  2 & 0\\\\\n",
       "\t 37 & 16 & 19 & 0\\\\\n",
       "\t 37 &  9 &  4 & 0\\\\\n",
       "\t 37 & 20 &  7 & 0\\\\\n",
       "\t 37 & 10 & 11 & 0\\\\\n",
       "\t 37 & 15 &  1 & 0\\\\\n",
       "\t 37 &  3 & 13 & 0\\\\\n",
       "\t 37 & 12 &  5 & 0\\\\\n",
       "\t 38 & 11 &  3 & 0\\\\\n",
       "\t 38 & 13 &  9 & 0\\\\\n",
       "\t 38 & 19 & 10 & 0\\\\\n",
       "\t 38 &  7 & 12 & 0\\\\\n",
       "\t 38 &  2 & 14 & 0\\\\\n",
       "\t 38 &  8 & 15 & 0\\\\\n",
       "\t 38 &  6 & 16 & 0\\\\\n",
       "\t 38 &  1 & 17 & 0\\\\\n",
       "\t 38 &  5 & 18 & 0\\\\\n",
       "\t 38 &  4 & 20 & 0\\\\\n",
       "\\end{tabular}\n"
      ],
      "text/markdown": [
       "\n",
       "A tibble: 760 × 4\n",
       "\n",
       "| GW &lt;int&gt; | team_id &lt;int&gt; | opponent_id &lt;int&gt; | is_home &lt;dbl&gt; |\n",
       "|---|---|---|---|\n",
       "| 1 | 14 |  9 | 1 |\n",
       "| 1 | 10 | 12 | 1 |\n",
       "| 1 |  1 | 20 | 1 |\n",
       "| 1 |  8 |  5 | 1 |\n",
       "| 1 | 15 | 17 | 1 |\n",
       "| 1 | 16 |  3 | 1 |\n",
       "| 1 | 19 |  2 | 1 |\n",
       "| 1 |  4 |  7 | 1 |\n",
       "| 1 |  6 | 13 | 1 |\n",
       "| 1 | 11 | 18 | 1 |\n",
       "| 2 |  5 | 14 | 1 |\n",
       "| 2 |  7 | 19 | 1 |\n",
       "| 2 |  9 | 11 | 1 |\n",
       "| 2 | 13 | 10 | 1 |\n",
       "| 2 | 17 | 16 | 1 |\n",
       "| 2 | 18 |  8 | 1 |\n",
       "| 2 |  2 |  1 | 1 |\n",
       "| 2 |  3 | 15 | 1 |\n",
       "| 2 | 20 |  6 | 1 |\n",
       "| 2 | 12 |  4 | 1 |\n",
       "| 3 |  1 |  5 | 1 |\n",
       "| 3 |  4 | 17 | 1 |\n",
       "| 3 |  8 |  3 | 1 |\n",
       "| 3 | 10 |  9 | 1 |\n",
       "| 3 | 11 |  2 | 1 |\n",
       "| 3 | 16 | 20 | 1 |\n",
       "| 3 | 19 | 13 | 1 |\n",
       "| 3 |  6 |  7 | 1 |\n",
       "| 3 | 15 | 18 | 1 |\n",
       "| 3 | 14 | 12 | 1 |\n",
       "| ⋮ | ⋮ | ⋮ | ⋮ |\n",
       "| 36 |  8 |  9 | 0 |\n",
       "| 36 |  4 | 10 | 0 |\n",
       "| 36 | 13 | 17 | 0 |\n",
       "| 36 |  5 | 20 | 0 |\n",
       "| 36 |  2 |  3 | 0 |\n",
       "| 36 |  6 | 15 | 0 |\n",
       "| 36 | 19 | 14 | 0 |\n",
       "| 36 | 11 | 16 | 0 |\n",
       "| 36 |  7 | 18 | 0 |\n",
       "| 36 |  1 | 12 | 0 |\n",
       "| 37 | 14 |  6 | 0 |\n",
       "| 37 | 17 |  8 | 0 |\n",
       "| 37 | 18 |  2 | 0 |\n",
       "| 37 | 16 | 19 | 0 |\n",
       "| 37 |  9 |  4 | 0 |\n",
       "| 37 | 20 |  7 | 0 |\n",
       "| 37 | 10 | 11 | 0 |\n",
       "| 37 | 15 |  1 | 0 |\n",
       "| 37 |  3 | 13 | 0 |\n",
       "| 37 | 12 |  5 | 0 |\n",
       "| 38 | 11 |  3 | 0 |\n",
       "| 38 | 13 |  9 | 0 |\n",
       "| 38 | 19 | 10 | 0 |\n",
       "| 38 |  7 | 12 | 0 |\n",
       "| 38 |  2 | 14 | 0 |\n",
       "| 38 |  8 | 15 | 0 |\n",
       "| 38 |  6 | 16 | 0 |\n",
       "| 38 |  1 | 17 | 0 |\n",
       "| 38 |  5 | 18 | 0 |\n",
       "| 38 |  4 | 20 | 0 |\n",
       "\n"
      ],
      "text/plain": [
       "    GW team_id opponent_id is_home\n",
       "1   1  14       9          1      \n",
       "2   1  10      12          1      \n",
       "3   1   1      20          1      \n",
       "4   1   8       5          1      \n",
       "5   1  15      17          1      \n",
       "6   1  16       3          1      \n",
       "7   1  19       2          1      \n",
       "8   1   4       7          1      \n",
       "9   1   6      13          1      \n",
       "10  1  11      18          1      \n",
       "11  2   5      14          1      \n",
       "12  2   7      19          1      \n",
       "13  2   9      11          1      \n",
       "14  2  13      10          1      \n",
       "15  2  17      16          1      \n",
       "16  2  18       8          1      \n",
       "17  2   2       1          1      \n",
       "18  2   3      15          1      \n",
       "19  2  20       6          1      \n",
       "20  2  12       4          1      \n",
       "21  3   1       5          1      \n",
       "22  3   4      17          1      \n",
       "23  3   8       3          1      \n",
       "24  3  10       9          1      \n",
       "25  3  11       2          1      \n",
       "26  3  16      20          1      \n",
       "27  3  19      13          1      \n",
       "28  3   6       7          1      \n",
       "29  3  15      18          1      \n",
       "30  3  14      12          1      \n",
       "⋮   ⋮  ⋮       ⋮           ⋮      \n",
       "731 36  8       9          0      \n",
       "732 36  4      10          0      \n",
       "733 36 13      17          0      \n",
       "734 36  5      20          0      \n",
       "735 36  2       3          0      \n",
       "736 36  6      15          0      \n",
       "737 36 19      14          0      \n",
       "738 36 11      16          0      \n",
       "739 36  7      18          0      \n",
       "740 36  1      12          0      \n",
       "741 37 14       6          0      \n",
       "742 37 17       8          0      \n",
       "743 37 18       2          0      \n",
       "744 37 16      19          0      \n",
       "745 37  9       4          0      \n",
       "746 37 20       7          0      \n",
       "747 37 10      11          0      \n",
       "748 37 15       1          0      \n",
       "749 37  3      13          0      \n",
       "750 37 12       5          0      \n",
       "751 38 11       3          0      \n",
       "752 38 13       9          0      \n",
       "753 38 19      10          0      \n",
       "754 38  7      12          0      \n",
       "755 38  2      14          0      \n",
       "756 38  8      15          0      \n",
       "757 38  6      16          0      \n",
       "758 38  1      17          0      \n",
       "759 38  5      18          0      \n",
       "760 38  4      20          0      "
      ]
     },
     "metadata": {},
     "output_type": "display_data"
    }
   ],
   "source": [
    "# Funksjon som henter fra api\n",
    "# Function to get fixtures from FPL API\n",
    "get_fpl_fixtures <- function() {\n",
    "  # Make API request\n",
    "  response <- GET(\"https://fantasy.premierleague.com/api/fixtures/\")\n",
    "  \n",
    "  # Check if request was successful\n",
    "  if (http_status(response)$category != \"Success\") {\n",
    "    stop(\"Failed to fetch fixtures from FPL API. Status code: \", status_code(response))\n",
    "  }\n",
    "  \n",
    "  # Parse JSON response\n",
    "  fixtures_json <- content(response, \"text\", encoding = \"UTF-8\")\n",
    "  fixtures_data <- fromJSON(fixtures_json, flatten = TRUE)\n",
    "  \n",
    "  # Basic transformation to required format\n",
    "  formatted_fixtures <- tibble(\n",
    "    GW = fixtures_data$event,\n",
    "    home_team_id = fixtures_data$team_h,\n",
    "    away_team_id = fixtures_data$team_a,\n",
    "    kickoff_time = fixtures_data$kickoff_time\n",
    "  ) %>%\n",
    "    # Filter out fixtures with no scheduled gameweek (NULL or NA values)\n",
    "    filter(!is.na(GW)) %>%\n",
    "    # Create the same format as your previous code\n",
    "    transmute(\n",
    "      GW = GW,\n",
    "      # Create a row for home team\n",
    "      team_id = home_team_id,\n",
    "      opponent_id = away_team_id,\n",
    "      is_home = 1\n",
    "    ) %>%\n",
    "    # Also create corresponding away team rows\n",
    "    bind_rows(\n",
    "      tibble(\n",
    "        GW = fixtures_data$event,\n",
    "        home_team_id = fixtures_data$team_h,\n",
    "        away_team_id = fixtures_data$team_a\n",
    "      ) %>%\n",
    "        filter(!is.na(GW)) %>%\n",
    "        transmute(\n",
    "          GW = GW,\n",
    "          team_id = away_team_id,\n",
    "          opponent_id = home_team_id,\n",
    "          is_home = 0\n",
    "        )\n",
    "    )\n",
    "  \n",
    "  # Convert team IDs to match your internal team IDs if needed\n",
    "  # This depends on how your team IDs are structured compared to FPL's\n",
    "  # You might need to create a mapping table\n",
    "  \n",
    "  return(formatted_fixtures)\n",
    "}\n",
    "\n",
    "future_fixtures <- get_fpl_fixtures()\n",
    "future_fixtures"
   ]
  },
  {
   "cell_type": "markdown",
   "metadata": {
    "_cell_guid": "8f26a808-5dd2-40fb-84ab-562a8dc2b7cf",
    "_uuid": "e57097de-d885-43d6-b1e9-a387c33e0ca7",
    "collapsed": false,
    "jupyter": {
     "outputs_hidden": false
    },
    "trusted": true
   },
   "source": [
    "### Hente lag id til lag funksjon"
   ]
  },
  {
   "cell_type": "code",
   "execution_count": 65,
   "metadata": {
    "_cell_guid": "3d8dbb1b-8333-4e4a-b59a-08b5e7d2f51e",
    "_uuid": "01043afc-6890-4f2f-b79a-4610b4579a62",
    "collapsed": false,
    "jupyter": {
     "outputs_hidden": false
    },
    "trusted": true,
    "vscode": {
     "languageId": "r"
    }
   },
   "outputs": [],
   "source": [
    "# Function to get team mapping from FPL API\n",
    "get_team_mapping <- function() {\n",
    "  # Make API request to bootstrap-static endpoint which contains team data\n",
    "  response <- GET(\"https://fantasy.premierleague.com/api/bootstrap-static/\")\n",
    "  \n",
    "  # Check if request was successful\n",
    "  if (http_status(response)$category != \"Success\") {\n",
    "    stop(\"Failed to fetch bootstrap data from FPL API. Status code: \", status_code(response))\n",
    "  }\n",
    "  \n",
    "  # Parse JSON response\n",
    "  bootstrap_json <- content(response, \"text\", encoding = \"UTF-8\")\n",
    "  bootstrap_data <- fromJSON(bootstrap_json, flatten = TRUE)\n",
    "  \n",
    "  # Extract team data\n",
    "  team_mapping <- tibble(\n",
    "    team_id = bootstrap_data$teams$id,\n",
    "    team_name = bootstrap_data$teams$name,\n",
    "    team_short_name = bootstrap_data$teams$short_name\n",
    "  )\n",
    "  \n",
    "  return(team_mapping)\n",
    "}\n",
    "\n",
    "team_mapping <- get_team_mapping()"
   ]
  },
  {
   "cell_type": "markdown",
   "metadata": {
    "_cell_guid": "1ca2956c-41c7-4637-b305-a232c45f293a",
    "_uuid": "79a679cc-20b8-4df6-b24a-acce97fde355",
    "collapsed": false,
    "jupyter": {
     "outputs_hidden": false
    },
    "trusted": true
   },
   "source": [
    "## Prognosering"
   ]
  },
  {
   "cell_type": "code",
   "execution_count": 66,
   "metadata": {
    "_cell_guid": "e076e5dd-ec57-4002-9c79-815a6e48cb29",
    "_uuid": "0c21d0a1-e6f0-45de-b840-303fde80d51d",
    "collapsed": false,
    "jupyter": {
     "outputs_hidden": false
    },
    "trusted": true,
    "vscode": {
     "languageId": "r"
    }
   },
   "outputs": [
    {
     "name": "stdout",
     "output_type": "stream",
     "text": [
      "[1] \"Max GW in future_fixtures: 38\"\n",
      "[1] \"Gameweeks present in future_fixtures:\"\n",
      "\n",
      " 1  2  3  4  5  6  7  8  9 10 11 12 13 14 15 16 17 18 19 20 21 22 23 24 25 26 \n",
      "20 20 20 20 20 20 20 20 20 20 20 20 20 20 18 20 20 20 20 20 20 20 20 22 22 20 \n",
      "27 28 29 30 31 32 33 34 35 36 37 38 \n",
      "20 20 16 20 20 22 24 16 20 20 20 20 \n",
      "Rows: 760\n",
      "Columns: 4\n",
      "$ GW          \u001b[3m\u001b[90m<int>\u001b[39m\u001b[23m 1, 1, 1, 1, 1, 1, 1, 1, 1, 1, 2, 2, 2, 2, 2, 2, 2, 2, 2, 2…\n",
      "$ team_id     \u001b[3m\u001b[90m<int>\u001b[39m\u001b[23m 14, 10, 1, 8, 15, 16, 19, 4, 6, 11, 5, 7, 9, 13, 17, 18, 2…\n",
      "$ opponent_id \u001b[3m\u001b[90m<int>\u001b[39m\u001b[23m 9, 12, 20, 5, 17, 3, 2, 7, 13, 18, 14, 19, 11, 10, 16, 8, …\n",
      "$ is_home     \u001b[3m\u001b[90m<dbl>\u001b[39m\u001b[23m 1, 1, 1, 1, 1, 1, 1, 1, 1, 1, 1, 1, 1, 1, 1, 1, 1, 1, 1, 1…\n"
     ]
    }
   ],
   "source": [
    "if (exists(\"future_fixtures\")) {\n",
    "  print(paste(\"Max GW in future_fixtures:\", max(future_fixtures$GW, na.rm = TRUE)))\n",
    "  print(\"Gameweeks present in future_fixtures:\")\n",
    "  print(table(future_fixtures$GW))\n",
    "  glimpse(future_fixtures)\n",
    "} else {\n",
    "  print(\"future_fixtures data frame does not exist.\")\n",
    "}"
   ]
  },
  {
   "cell_type": "code",
   "execution_count": 67,
   "metadata": {
    "_cell_guid": "2cbc2865-bef1-45e2-bf7e-58d579a045f3",
    "_kg_hide-input": false,
    "_uuid": "582b1cee-a973-47ad-b742-67773988983e",
    "collapsed": false,
    "jupyter": {
     "outputs_hidden": false
    },
    "trusted": true,
    "vscode": {
     "languageId": "r"
    }
   },
   "outputs": [
    {
     "name": "stdout",
     "output_type": "stream",
     "text": [
      "Last Historical GW in data: 107 \n",
      "Corresponding Current API GW: 31 \n",
      "Forecasting for API GWs: 32, 33, 34, 35, 36, 37, 38 \n",
      "Fixture data loaded for target API GWs.\n",
      "\n",
      "--- Preparing base input for position: GK ---\n",
      "   Base input data prepared for 82 players based on data up to Historical GW 107 .\n",
      "\n",
      "--- Preparing base input for position: DEF ---\n",
      "   Base input data prepared for 261 players based on data up to Historical GW 107 .\n",
      "\n",
      "--- Preparing base input for position: MID ---\n",
      "   Base input data prepared for 340 players based on data up to Historical GW 107 .\n",
      "\n",
      "--- Preparing base input for position: FWD ---\n",
      "   Base input data prepared for 86 players based on data up to Historical GW 107 .\n",
      "\n",
      "--- Forecasting for API GW: 32 ---\n",
      "      Forecasting position: GK \n",
      "         Found 5 DGW players and 60 SGW players.\n",
      "         Running prediction for 70 fixtures...\n",
      "         Raw fixture forecasts stored for 70 fixtures.\n",
      "      Forecasting position: DEF \n",
      "         Found 15 DGW players and 190 SGW players.\n",
      "         Running prediction for 220 fixtures...\n",
      "         Raw fixture forecasts stored for 220 fixtures.\n",
      "      Forecasting position: MID \n",
      "         Found 21 DGW players and 249 SGW players.\n",
      "         Running prediction for 291 fixtures...\n",
      "         Raw fixture forecasts stored for 291 fixtures.\n",
      "      Forecasting position: FWD \n",
      "         Found 6 DGW players and 59 SGW players.\n",
      "         Running prediction for 71 fixtures...\n",
      "         Raw fixture forecasts stored for 71 fixtures.\n",
      "\n",
      "--- Forecasting for API GW: 33 ---\n",
      "      Forecasting position: GK \n",
      "         Found 20 DGW players and 45 SGW players.\n",
      "         Running prediction for 85 fixtures...\n",
      "         Raw fixture forecasts stored for 85 fixtures.\n",
      "      Forecasting position: DEF \n",
      "         Found 53 DGW players and 152 SGW players.\n",
      "         Running prediction for 258 fixtures...\n",
      "         Raw fixture forecasts stored for 258 fixtures.\n",
      "      Forecasting position: MID \n",
      "         Found 71 DGW players and 199 SGW players.\n",
      "         Running prediction for 341 fixtures...\n",
      "         Raw fixture forecasts stored for 341 fixtures.\n",
      "      Forecasting position: FWD \n",
      "         Found 15 DGW players and 50 SGW players.\n",
      "         Running prediction for 80 fixtures...\n",
      "         Raw fixture forecasts stored for 80 fixtures.\n",
      "\n",
      "--- Forecasting for API GW: 34 ---\n",
      "      Forecasting position: GK \n",
      "         Found 0 DGW players and 45 SGW players.\n",
      "         Running prediction for 45 fixtures...\n",
      "         Raw fixture forecasts stored for 45 fixtures.\n",
      "      Forecasting position: DEF \n",
      "         Found 0 DGW players and 152 SGW players.\n",
      "         Running prediction for 152 fixtures...\n",
      "         Raw fixture forecasts stored for 152 fixtures.\n",
      "      Forecasting position: MID \n",
      "         Found 0 DGW players and 199 SGW players.\n",
      "         Running prediction for 199 fixtures...\n",
      "         Raw fixture forecasts stored for 199 fixtures.\n",
      "      Forecasting position: FWD \n",
      "         Found 0 DGW players and 50 SGW players.\n",
      "         Running prediction for 50 fixtures...\n",
      "         Raw fixture forecasts stored for 50 fixtures.\n",
      "\n",
      "--- Forecasting for API GW: 35 ---\n",
      "      Forecasting position: GK \n",
      "         Found 0 DGW players and 65 SGW players.\n",
      "         Running prediction for 65 fixtures...\n",
      "         Raw fixture forecasts stored for 65 fixtures.\n",
      "      Forecasting position: DEF \n",
      "         Found 0 DGW players and 205 SGW players.\n",
      "         Running prediction for 205 fixtures...\n",
      "         Raw fixture forecasts stored for 205 fixtures.\n",
      "      Forecasting position: MID \n",
      "         Found 0 DGW players and 270 SGW players.\n",
      "         Running prediction for 270 fixtures...\n",
      "         Raw fixture forecasts stored for 270 fixtures.\n",
      "      Forecasting position: FWD \n",
      "         Found 0 DGW players and 65 SGW players.\n",
      "         Running prediction for 65 fixtures...\n",
      "         Raw fixture forecasts stored for 65 fixtures.\n",
      "\n",
      "--- Forecasting for API GW: 36 ---\n",
      "      Forecasting position: GK \n",
      "         Found 0 DGW players and 65 SGW players.\n",
      "         Running prediction for 65 fixtures...\n",
      "         Raw fixture forecasts stored for 65 fixtures.\n",
      "      Forecasting position: DEF \n",
      "         Found 0 DGW players and 205 SGW players.\n",
      "         Running prediction for 205 fixtures...\n",
      "         Raw fixture forecasts stored for 205 fixtures.\n",
      "      Forecasting position: MID \n",
      "         Found 0 DGW players and 270 SGW players.\n",
      "         Running prediction for 270 fixtures...\n",
      "         Raw fixture forecasts stored for 270 fixtures.\n",
      "      Forecasting position: FWD \n",
      "         Found 0 DGW players and 65 SGW players.\n",
      "         Running prediction for 65 fixtures...\n",
      "         Raw fixture forecasts stored for 65 fixtures.\n",
      "\n",
      "--- Forecasting for API GW: 37 ---\n",
      "      Forecasting position: GK \n",
      "         Found 0 DGW players and 65 SGW players.\n",
      "         Running prediction for 65 fixtures...\n",
      "         Raw fixture forecasts stored for 65 fixtures.\n",
      "      Forecasting position: DEF \n",
      "         Found 0 DGW players and 205 SGW players.\n",
      "         Running prediction for 205 fixtures...\n",
      "         Raw fixture forecasts stored for 205 fixtures.\n",
      "      Forecasting position: MID \n",
      "         Found 0 DGW players and 270 SGW players.\n",
      "         Running prediction for 270 fixtures...\n",
      "         Raw fixture forecasts stored for 270 fixtures.\n",
      "      Forecasting position: FWD \n",
      "         Found 0 DGW players and 65 SGW players.\n",
      "         Running prediction for 65 fixtures...\n",
      "         Raw fixture forecasts stored for 65 fixtures.\n",
      "\n",
      "--- Forecasting for API GW: 38 ---\n",
      "      Forecasting position: GK \n",
      "         Found 0 DGW players and 65 SGW players.\n",
      "         Running prediction for 65 fixtures...\n",
      "         Raw fixture forecasts stored for 65 fixtures.\n",
      "      Forecasting position: DEF \n",
      "         Found 0 DGW players and 205 SGW players.\n",
      "         Running prediction for 205 fixtures...\n",
      "         Raw fixture forecasts stored for 205 fixtures.\n",
      "      Forecasting position: MID \n",
      "         Found 0 DGW players and 270 SGW players.\n",
      "         Running prediction for 270 fixtures...\n",
      "         Raw fixture forecasts stored for 270 fixtures.\n",
      "      Forecasting position: FWD \n",
      "         Found 0 DGW players and 65 SGW players.\n",
      "         Running prediction for 65 fixtures...\n",
      "         Raw fixture forecasts stored for 65 fixtures.\n",
      "\n",
      "--- Aggregating, Unscaling and Finalizing Forecasts ---\n",
      "Final forecast data frame created with team names and DGW handling.\n",
      "Rows: 4,076\n",
      "Columns: 10\n",
      "$ GW               \u001b[3m\u001b[90m<int>\u001b[39m\u001b[23m 32, 32, 32, 32, 32, 32, 32, 32, 32, 32, 32, 32, 32, 3…\n",
      "$ player_id        \u001b[3m\u001b[90m<dbl>\u001b[39m\u001b[23m 247, 986, 943, 176, 866, 237, 1048, 147, 374, 173, 10…\n",
      "$ name             \u001b[3m\u001b[90m<chr>\u001b[39m\u001b[23m \"Cole Palmer\", \"Nicolas Jackson\", \"Mohamed Salah\", \"B…\n",
      "$ position         \u001b[3m\u001b[90m<chr>\u001b[39m\u001b[23m \"mid\", \"fwd\", \"mid\", \"mid\", \"mid\", \"mid\", \"mid\", \"def…\n",
      "$ team             \u001b[3m\u001b[90m<chr>\u001b[39m\u001b[23m \"Man City\", \"Chelsea\", \"Liverpool\", \"Arsenal\", \"Arsen…\n",
      "$ value            \u001b[3m\u001b[90m<dbl>\u001b[39m\u001b[23m 45, 70, 130, 80, 65, 65, 80, 45, 115, 60, 75, 65, 60,…\n",
      "$ opponent_display \u001b[3m\u001b[90m<chr>\u001b[39m\u001b[23m \"Man City (DGW)\", \"Man City (DGW)\", \"Newcastle\", \"Bre…\n",
      "$ is_home_display  \u001b[3m\u001b[90m<chr>\u001b[39m\u001b[23m \"0 (DGW)\", \"0 (DGW)\", \"0\", \"1\", \"1\", \"0 (DGW)\", \"1\", …\n",
      "$ num_fixtures     \u001b[3m\u001b[90m<int>\u001b[39m\u001b[23m 2, 2, 1, 1, 1, 2, 1, 1, 1, 1, 1, 2, 2, 1, 1, 1, 2, 1,…\n",
      "$ predicted_points \u001b[3m\u001b[90m<dbl>\u001b[39m\u001b[23m 8.71, 7.48, 5.80, 5.70, 5.53, 4.96, 4.64, 4.60, 4.55,…\n",
      "Final future forecasts saved to Future_Forecasts_API_GW32_to_GW38_Final_DGW_Summed.csv \n"
     ]
    }
   ],
   "source": [
    "num_previous_full_seasons <- 2 # Set this correctly\n",
    "# --- End User Input ---\n",
    "\n",
    "# 1. Determine Starting GWs (Historical and API)\n",
    "#--------------------------------------------\n",
    "if (!exists(\"alternativsammensatt\") || !(\"GW\" %in% names(alternativsammensatt))) {\n",
    "  stop(\"The 'alternativsammensatt' dataframe is missing or does not contain the 'GW' column.\")\n",
    "}\n",
    "last_historical_gw <- max(alternativsammensatt$GW, na.rm = TRUE)\n",
    "current_api_gw <- last_historical_gw - (num_previous_full_seasons * 38)\n",
    "target_api_gws <- (current_api_gw + 1):(current_api_gw + antall_uker)\n",
    "\n",
    "cat(\"Last Historical GW in data:\", last_historical_gw, \"\\n\")\n",
    "cat(\"Corresponding Current API GW:\", current_api_gw, \"\\n\")\n",
    "cat(\"Forecasting for API GWs:\", paste(target_api_gws, collapse = \", \"), \"\\n\")\n",
    "\n",
    "if (any(target_api_gws > 38)) {\n",
    "    cat(\"WARNING: Target API GWs exceed 38. Ensure 'future_fixtures' contains data for the next season if applicable.\\n\")\n",
    "}\n",
    "if (any(target_api_gws < 1)) {\n",
    "    stop(\"Calculated target API GWs are less than 1. Check 'num_previous_full_seasons' calculation.\")\n",
    "}\n",
    "\n",
    "# 2. Get Fixtures for Future API Gameweeks\n",
    "#--------------------------------------------\n",
    "if (!exists(\"future_fixtures\") || !all(c(\"GW\", \"team_id\", \"opponent_id\", \"is_home\") %in% names(future_fixtures))) {\n",
    "  stop(\"The 'future_fixtures' dataframe is missing or does not have the required columns (GW, team_id, opponent_id, is_home). It should use API GW numbering (1-38).\")\n",
    "}\n",
    "future_fixtures_filtered <- future_fixtures %>%\n",
    "  filter(GW %in% target_api_gws) %>%\n",
    "  mutate(across(c(team_id, opponent_id), as.integer))\n",
    "\n",
    "if (nrow(future_fixtures_filtered) == 0) {\n",
    "    stop(\"No API fixture data found for the target API gameweeks: \", paste(target_api_gws, collapse=\", \"))\n",
    "}\n",
    "cat(\"Fixture data loaded for target API GWs.\\n\")\n",
    "\n",
    "# 3. Prepare Base Input Data (Once per position)\n",
    "#--------------------------------------------\n",
    "base_input_list <- list()\n",
    "all_player_metadata <- list()\n",
    "\n",
    "for (pos in c(\"gk\", \"def\", \"mid\", \"fwd\")) {\n",
    "  cat(\"\\n--- Preparing base input for position:\", toupper(pos), \"---\\n\")\n",
    "  if (!pos %in% names(model_list)) { cat(\"   Skipping: Model not found for\", pos, \"\\n\"); next }\n",
    "  if (!pos %in% names(scaling_factors)) { cat(\"   Skipping: Scaling factors not found for\", pos, \"\\n\"); next }\n",
    "  current_model <- model_list[[pos]]\n",
    "  current_mu <- scaling_factors[[pos]]$mu\n",
    "  current_sigma <- scaling_factors[[pos]]$sigma\n",
    "  current_numF <- scaling_factors[[pos]]$numF\n",
    "  if (!exists(pos)) { cat(\"   Skipping: Scaled data frame '\", pos, \"' not found.\\n\"); next }\n",
    "  if (!exists(paste0(\"unscaled_\", pos))) { cat(\"   Skipping: Unscaled data frame 'unscaled_\", pos, \"' not found.\\n\"); next }\n",
    "  scaled_data <- get(pos)\n",
    "  unscaled_data_minimal <- get(paste0(\"unscaled_\", pos)) %>%\n",
    "                           distinct(player_id, name, position, team, value)\n",
    "  all_player_metadata[[pos]] <- unscaled_data_minimal\n",
    "  active_players_pos <- scaled_data %>%\n",
    "    filter(GW == last_historical_gw) %>%\n",
    "    distinct(player_id, tID) %>%\n",
    "    mutate(across(c(player_id, tID), as.integer))\n",
    "  if (nrow(active_players_pos) == 0) {\n",
    "    cat(\"   No active players found for\", toupper(pos), \"in Historical GW\", last_historical_gw, \". Skipping.\\n\")\n",
    "    next\n",
    "  }\n",
    "  base_input_data_pos <- scaled_data %>%\n",
    "    filter(player_id %in% active_players_pos$player_id) %>%\n",
    "    group_by(player_id) %>%\n",
    "    arrange(GW) %>%\n",
    "    slice_tail(n = vindu) %>%\n",
    "    filter(n() == vindu) %>%\n",
    "    ungroup()\n",
    "  players_with_history <- base_input_data_pos %>% distinct(player_id)\n",
    "  active_players_pos <- active_players_pos %>% filter(player_id %in% players_with_history$player_id)\n",
    "  n_forecast_pos <- nrow(active_players_pos)\n",
    "  if (n_forecast_pos == 0) {\n",
    "    cat(\"   No players with sufficient history (\\\", vindu, \\\"GWs) found for\\\", toupper(pos), \\\". Skipping.\\n\")\n",
    "    next\n",
    "  }\n",
    "  cat(\"   Base input data prepared for\", n_forecast_pos, \"players based on data up to Historical GW\", last_historical_gw, \".\\n\")\n",
    "  num_list <- base_input_data_pos %>%\n",
    "    select(player_id, all_of(current_numF)) %>%\n",
    "    arrange(match(player_id, active_players_pos$player_id)) %>%\n",
    "    group_by(player_id) %>%\n",
    "    group_split(.keep = FALSE) %>%\n",
    "    lapply(as.matrix)\n",
    "  base_num_array_pos <- array(\n",
    "    unlist(num_list),\n",
    "    dim = c(n_forecast_pos, vindu, length(current_numF))\n",
    "  )\n",
    "  base_cat_player_id_pos <- matrix(as.integer(active_players_pos$player_id), ncol = 1)\n",
    "  base_cat_tID_pos <- matrix(as.integer(active_players_pos$tID), ncol = 1)\n",
    "  base_input_list[[pos]] <- list(\n",
    "      active_players = active_players_pos,\n",
    "      num_array = base_num_array_pos,\n",
    "      cat_player_id = base_cat_player_id_pos,\n",
    "      cat_tID = base_cat_tID_pos,\n",
    "      mu = current_mu,\n",
    "      sigma = current_sigma\n",
    "  )\n",
    "}\n",
    "all_player_metadata_df <- bind_rows(all_player_metadata) %>% distinct(player_id, .keep_all = TRUE)\n",
    "\n",
    "# 4. Forecast Loop (Predicting for each fixture in target GWs)\n",
    "#--------------------------------------------\n",
    "all_fixture_forecasts_list <- list() # Store predictions PER FIXTURE\n",
    "\n",
    "for (gw_api_to_predict in target_api_gws) {\n",
    "    cat(\"\\n--- Forecasting for API GW:\", gw_api_to_predict, \"---\\n\")\n",
    "    future_fixtures_gw <- future_fixtures_filtered %>% filter(GW == gw_api_to_predict)\n",
    "    if (nrow(future_fixtures_gw) == 0) {\n",
    "        cat(\"   WARNING: No fixture data found for API GW\", gw_api_to_predict, \". Skipping this GW.\\n\")\n",
    "        next\n",
    "    }\n",
    "\n",
    "    forecasts_this_gw_list <- list()\n",
    "\n",
    "    for (pos in names(base_input_list)) {\n",
    "        cat(\"      Forecasting position:\", toupper(pos), \"\\n\")\n",
    "        base_inputs <- base_input_list[[pos]]\n",
    "        current_model <- model_list[[pos]]\n",
    "\n",
    "        # Prepare inputs for *each fixture* this GW for active players in this position\n",
    "        fixture_inputs_gw_pos <- base_inputs$active_players %>%\n",
    "          inner_join(future_fixtures_gw, by = c(\"tID\" = \"team_id\"), relationship = \"many-to-many\") %>% # Join players to ALL their fixtures this GW\n",
    "          select(player_id, tID, opponent_id = opponent_id, is_home = is_home) %>%\n",
    "          arrange(player_id) # Arrange by player_id to group fixtures\n",
    "\n",
    "        if (nrow(fixture_inputs_gw_pos) == 0) {\n",
    "            cat(\"         No players with fixtures found for this position in GW\", gw_api_to_predict, \"\\n\")\n",
    "            next\n",
    "        }\n",
    "\n",
    "        # Identify which players have DGWs *within this position's active players*\n",
    "        player_fixture_counts <- fixture_inputs_gw_pos %>% count(player_id)\n",
    "        dgw_players_pos <- player_fixture_counts %>% filter(n > 1) %>% pull(player_id)\n",
    "        sgw_players_pos <- player_fixture_counts %>% filter(n == 1) %>% pull(player_id)\n",
    "\n",
    "        cat(\"         Found\", length(dgw_players_pos), \"DGW players and\", length(sgw_players_pos), \"SGW players.\\n\")\n",
    "\n",
    "        # Prepare arrays - need to potentially duplicate base arrays for DGW players\n",
    "        # Find indices of players in the original base arrays\n",
    "        player_indices <- match(fixture_inputs_gw_pos$player_id, base_inputs$active_players$player_id)\n",
    "\n",
    "        # Replicate base arrays according to the fixture list\n",
    "        num_array_predict <- base_inputs$num_array[player_indices, , , drop = FALSE]\n",
    "        cat_player_id_predict <- base_inputs$cat_player_id[player_indices, , drop = FALSE]\n",
    "        cat_tID_predict <- base_inputs$cat_tID[player_indices, , drop = FALSE]\n",
    "\n",
    "        # Prepare dynamic categorical inputs (already ordered by player_id)\n",
    "        cat_oID_predict <- matrix(as.integer(fixture_inputs_gw_pos$opponent_id), ncol = 1)\n",
    "        cat_hID_predict <- matrix(as.integer(fixture_inputs_gw_pos$is_home), ncol = 1)\n",
    "\n",
    "        # Dimension check\n",
    "        stopifnot(\n",
    "            nrow(num_array_predict) == nrow(cat_player_id_predict),\n",
    "            nrow(num_array_predict) == nrow(cat_tID_predict),\n",
    "            nrow(num_array_predict) == nrow(cat_oID_predict),\n",
    "            nrow(num_array_predict) == nrow(cat_hID_predict),\n",
    "            nrow(num_array_predict) == nrow(fixture_inputs_gw_pos) # Ensure all dimensions match the number of fixtures to predict\n",
    "        )\n",
    "\n",
    "        # Predict for ALL fixtures at once\n",
    "        cat(\"         Running prediction for\", nrow(num_array_predict) ,\"fixtures...\\n\")\n",
    "        pred_future_scaled <- current_model %>% predict(\n",
    "          list(\n",
    "            input_seq = num_array_predict,\n",
    "            input_player_id = cat_player_id_predict,\n",
    "            input_tID = cat_tID_predict,\n",
    "            input_oID = cat_oID_predict,\n",
    "            input_hID = cat_hID_predict\n",
    "          )\n",
    "        )\n",
    "\n",
    "        # Store raw scaled predictions PER FIXTURE\n",
    "        future_preds_per_fixture <- tibble(\n",
    "          player_id = fixture_inputs_gw_pos$player_id,\n",
    "          GW = gw_api_to_predict, # API GW number\n",
    "          position = pos,\n",
    "          opponent_id = fixture_inputs_gw_pos$opponent_id,\n",
    "          is_home = fixture_inputs_gw_pos$is_home,\n",
    "          predicted_points_scaled_fixture = as.vector(pred_future_scaled)\n",
    "        )\n",
    "\n",
    "        forecasts_this_gw_list[[pos]] <- future_preds_per_fixture\n",
    "        cat(\"         Raw fixture forecasts stored for\", nrow(future_preds_per_fixture), \"fixtures.\\n\")\n",
    "    }\n",
    "    # Add all fixture forecasts for this GW to the main list\n",
    "    all_fixture_forecasts_list[[as.character(gw_api_to_predict)]] <- bind_rows(forecasts_this_gw_list)\n",
    "}\n",
    "\n",
    "# 5. Aggregate Predictions per GW, Unscale, and Finalize\n",
    "#--------------------------------------------\n",
    "future_forecast_df_raw_fixtures <- bind_rows(all_fixture_forecasts_list)\n",
    "\n",
    "if (nrow(future_forecast_df_raw_fixtures) == 0) {\n",
    "    stop(\"No future fixture forecasts were generated.\")\n",
    "}\n",
    "\n",
    "cat(\"\\n--- Aggregating, Unscaling and Finalizing Forecasts ---\\n\")\n",
    "\n",
    "# Aggregate scaled predictions by summing per player per GW\n",
    "future_forecast_df_aggregated_scaled <- future_forecast_df_raw_fixtures %>%\n",
    "  group_by(player_id, GW, position) %>%\n",
    "  summarise(\n",
    "    predicted_total_points_scaled = sum(predicted_points_scaled_fixture, na.rm = TRUE),\n",
    "    num_fixtures = n(), # Keep track of how many fixtures were summed\n",
    "    # Keep first opponent/home status for display purposes (or create a combined string)\n",
    "    first_opponent_id = first(opponent_id),\n",
    "    first_is_home = first(is_home),\n",
    "    .groups = 'drop'\n",
    "  )\n",
    "\n",
    "# Unscale the *aggregated* predictions\n",
    "future_forecast_df_unscaled <- future_forecast_df_aggregated_scaled %>%\n",
    "  mutate(\n",
    "    mu = map_dbl(position, ~ scaling_factors[[.x]]$mu),\n",
    "    sigma = map_dbl(position, ~ scaling_factors[[.x]]$sigma),\n",
    "    predicted_total_points = predicted_total_points_scaled * sigma + mu,\n",
    "    predicted_total_points = round(predicted_total_points, 2)\n",
    "  ) %>%\n",
    "  select(-predicted_total_points_scaled, -mu, -sigma)\n",
    "\n",
    "# 6. Translate IDs to Strings\n",
    "#--------------------------------------------\n",
    "if (!exists(\"team_mapping\") || !all(c(\"team_id\", \"team_name\") %in% names(team_mapping))) {\n",
    "  stop(\"The 'team_mapping' dataframe is missing or does not have 'team_id' and 'team_name' columns.\")\n",
    "}\n",
    "team_mapping <- team_mapping %>% mutate(team_id = as.integer(team_id))\n",
    "\n",
    "future_forecast_df_final <- future_forecast_df_unscaled %>%\n",
    "  left_join(all_player_metadata_df, by = \"player_id\", suffix = c(\"\", \".meta\")) %>%\n",
    "  # Join opponent team name based on the *first* opponent ID\n",
    "  left_join(team_mapping %>% select(first_opponent_id = team_id, opponent_team_name = team_name),\n",
    "            by = \"first_opponent_id\") %>%\n",
    "  # Handle NO_FIXTURE case (if opponent ID was 0)\n",
    "  mutate(opponent_display = ifelse(first_opponent_id == 0, \"NO_FIXTURE\",\n",
    "                             ifelse(num_fixtures > 1, paste0(opponent_team_name, \" (DGW)\"), opponent_team_name)),\n",
    "         is_home_display = ifelse(first_opponent_id == 0, NA_character_,\n",
    "                             ifelse(num_fixtures > 1, paste0(first_is_home, \" (DGW)\"), as.character(first_is_home)))\n",
    "         ) %>%\n",
    "  # Select and arrange final columns\n",
    "  select(\n",
    "    GW, # API GW\n",
    "    player_id,\n",
    "    name,\n",
    "    position = position,\n",
    "    team = team,\n",
    "    value = value,\n",
    "    opponent_display, # Shows first opponent, notes DGW\n",
    "    is_home_display,  # Shows first fixture home/away, notes DGW\n",
    "    num_fixtures,     # Number of fixtures in this GW\n",
    "    predicted_points = predicted_total_points\n",
    "  ) %>%\n",
    "  arrange(GW, desc(predicted_points))\n",
    "\n",
    "cat(\"Final forecast data frame created with team names and DGW handling.\\n\")\n",
    "glimpse(future_forecast_df_final)\n",
    "\n",
    "# 7. Export the Final Forecasts\n",
    "#--------------------------------------------\n",
    "future_filename <- paste0(\"Future_Forecasts_API_GW\", min(target_api_gws), \"_to_GW\", max(target_api_gws), \"_Final_DGW_Summed.csv\")\n",
    "write_csv(future_forecast_df_final, future_filename)\n",
    "cat(\"Final future forecasts saved to\", future_filename, \"\\n\")"
   ]
  }
 ],
 "metadata": {
  "kaggle": {
   "accelerator": "none",
   "dataSources": [
    {
     "datasetId": 7123461,
     "sourceId": 11504227,
     "sourceType": "datasetVersion"
    }
   ],
   "dockerImageVersionId": 30749,
   "isGpuEnabled": false,
   "isInternetEnabled": true,
   "language": "r",
   "sourceType": "notebook"
  },
  "kernelspec": {
   "display_name": "R",
   "language": "R",
   "name": "ir"
  },
  "language_info": {
   "codemirror_mode": "r",
   "file_extension": ".r",
   "mimetype": "text/x-r-source",
   "name": "R",
   "pygments_lexer": "r",
   "version": "4.4.2"
  }
 },
 "nbformat": 4,
 "nbformat_minor": 4
}
