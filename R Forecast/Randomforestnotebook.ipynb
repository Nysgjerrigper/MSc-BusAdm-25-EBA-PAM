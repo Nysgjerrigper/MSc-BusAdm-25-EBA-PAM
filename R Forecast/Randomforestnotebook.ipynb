{
 "cells": [
  {
   "cell_type": "markdown",
   "id": "17bf64bc",
   "metadata": {},
   "source": [
    "# RandomForest Models for FPL Prediction\n",
    "\n",
    "This notebook extends our existing LSTM-based prediction system by incorporating RandomForest models. The goal is to compare the performance of these two different machine learning approaches for predicting Fantasy Premier League (FPL) player points."
   ]
  },
  {
   "cell_type": "markdown",
   "id": "a639c782",
   "metadata": {},
   "source": [
    "## Table of Contents\n",
    "- [1. Data Preparation for RandomForest](#1.-Data-Preparation-for-RandomForest)\n",
    "- [2. Feature Selection for RandomForest](#2.-Feature-Selection-for-RandomForest)\n",
    "- [3. RandomForest Model Training](#3.-RandomForest-Model-Training)\n",
    "- [4. RandomForest Prediction and Evaluation](#4.-RandomForest-Prediction-and-Evaluation)\n",
    "- [5. Comparing RandomForest vs LSTM Performance](#5.-Comparing-RandomForest-vs-LSTM-Performance)\n",
    "- [6. RandomForest for Feature Importance Analysis](#6.-RandomForest-for-Feature-Importance-Analysis)"
   ]
  },
  {
   "cell_type": "code",
   "execution_count": 10,
   "id": "0ced2f7a",
   "metadata": {
    "vscode": {
     "languageId": "r"
    }
   },
   "outputs": [],
   "source": [
    "# Load required libraries\n",
    "if (!require(\"pacman\")) install.packages(\"pacman\")\n",
    "pacman::p_load(tidyverse, randomForest, Metrics, caret, \n",
    "               ggthemes, gridExtra, pdp, vip, ranger, \n",
    "               glmnet, e1071)\n",
    "\n",
    "# Clear environment (optional, uncomment if needed)\n",
    "# rm(list = ls(all = TRUE))"
   ]
  },
  {
   "cell_type": "markdown",
   "id": "42306658",
   "metadata": {},
   "source": [
    "# 1. Data Preparation for RandomForest\n",
    "\n",
    "Unlike LSTM models which require sequential data in specific window structures, RandomForest models work with tabular data without temporal ordering. We'll prepare our data differently:\n",
    "\n",
    "1. For each player, we'll aggregate statistics from their previous N gameweeks\n",
    "2. Instead of scaled 3D arrays, we'll create a flattened feature matrix \n",
    "3. We'll use the same train/validation split based on gameweeks"
   ]
  },
  {
   "cell_type": "code",
   "execution_count": 11,
   "id": "6c053bae",
   "metadata": {
    "vscode": {
     "languageId": "r"
    }
   },
   "outputs": [
    {
     "name": "stderr",
     "output_type": "stream",
     "text": [
      "\u001b[1mRows: \u001b[22m\u001b[34m78025\u001b[39m \u001b[1mColumns: \u001b[22m\u001b[34m45\u001b[39m\n",
      "\u001b[36m──\u001b[39m \u001b[1mColumn specification\u001b[22m \u001b[36m────────────────────────────────────────────────────────\u001b[39m\n",
      "\u001b[1mDelimiter:\u001b[22m \",\"\n",
      "\u001b[31mchr\u001b[39m   (4): name, position, team, opponent_team\n",
      "\u001b[32mdbl\u001b[39m  (39): xP, assists, bonus, bps, clean_sheets, creativity, expected_assis...\n",
      "\u001b[33mlgl\u001b[39m   (1): was_home\n",
      "\u001b[34mdttm\u001b[39m  (1): kickoff_time\n",
      "\n",
      "\u001b[36mℹ\u001b[39m Use `spec()` to retrieve the full column specification for this data.\n",
      "\u001b[36mℹ\u001b[39m Specify the column types or set `show_col_types = FALSE` to quiet this message.\n"
     ]
    },
    {
     "data": {
      "text/plain": [
       "     name             position             team                 xP         \n",
       " Length:5818        Length:5818        Length:5818        Min.   :-1.5000  \n",
       " Class :character   Class :character   Class :character   1st Qu.: 0.0000  \n",
       " Mode  :character   Mode  :character   Mode  :character   Median : 0.0000  \n",
       "                                                          Mean   : 0.8833  \n",
       "                                                          3rd Qu.: 1.0000  \n",
       "                                                          Max.   :13.4000  \n",
       "    assists              bonus              bps          clean_sheets    \n",
       " Min.   :0.0000000   Min.   :0.00000   Min.   :-7.000   Min.   :0.00000  \n",
       " 1st Qu.:0.0000000   1st Qu.:0.00000   1st Qu.: 0.000   1st Qu.:0.00000  \n",
       " Median :0.0000000   Median :0.00000   Median : 0.000   Median :0.00000  \n",
       " Mean   :0.0008594   Mean   :0.07769   Mean   : 4.572   Mean   :0.05896  \n",
       " 3rd Qu.:0.0000000   3rd Qu.:0.00000   3rd Qu.: 1.000   3rd Qu.:0.00000  \n",
       " Max.   :1.0000000   Max.   :3.00000   Max.   :51.000   Max.   :1.00000  \n",
       "   creativity      expected_assists    expected_goal_involvements\n",
       " Min.   : 0.0000   Min.   :0.0000000   Min.   :0.000000          \n",
       " 1st Qu.: 0.0000   1st Qu.:0.0000000   1st Qu.:0.000000          \n",
       " Median : 0.0000   Median :0.0000000   Median :0.000000          \n",
       " Mean   : 0.0692   Mean   :0.0003478   Mean   :0.000322          \n",
       " 3rd Qu.: 0.0000   3rd Qu.:0.0000000   3rd Qu.:0.000000          \n",
       " Max.   :20.0000   Max.   :0.2200000   Max.   :0.200680          \n",
       " expected_goals      expected_goals_conceded    fixture      goals_conceded  \n",
       " Min.   :0.000e+00   Min.   :0.0000          Min.   :  1.0   Min.   :0.0000  \n",
       " 1st Qu.:0.000e+00   1st Qu.:0.0000          1st Qu.:119.0   1st Qu.:0.0000  \n",
       " Median :0.000e+00   Median :0.0000          Median :212.0   Median :0.0000  \n",
       " Mean   :4.297e-05   Mean   :0.3212          Mean   :207.9   Mean   :0.3774  \n",
       " 3rd Qu.:0.000e+00   3rd Qu.:0.0000          3rd Qu.:299.0   3rd Qu.:0.0000  \n",
       " Max.   :1.200e-01   Max.   :7.2700          Max.   :380.0   Max.   :9.0000  \n",
       "  goals_scored   ict_index        influence     \n",
       " Min.   :0     Min.   :0.0000   Min.   : 0.000  \n",
       " 1st Qu.:0     1st Qu.:0.0000   1st Qu.: 0.000  \n",
       " Median :0     Median :0.0000   Median : 0.000  \n",
       " Mean   :0     Mean   :0.6069   Mean   : 5.996  \n",
       " 3rd Qu.:0     3rd Qu.:0.0000   3rd Qu.: 0.000  \n",
       " Max.   :0     Max.   :9.8000   Max.   :86.600  \n",
       "  kickoff_time                       minutes      opponent_team     \n",
       " Min.   :2022-08-27 11:30:00.00   Min.   : 0.00   Length:5818       \n",
       " 1st Qu.:2023-03-04 15:00:00.00   1st Qu.: 0.00   Class :character  \n",
       " Median :2023-09-24 13:00:00.00   Median : 0.00   Mode  :character  \n",
       " Mean   :2023-08-16 07:40:06.24   Mean   :22.19                     \n",
       " 3rd Qu.:2024-02-04 15:52:30.00   3rd Qu.: 5.50                     \n",
       " Max.   :2024-05-19 15:00:00.00   Max.   :90.00                     \n",
       "   own_goals        penalties_missed penalties_saved      red_cards        \n",
       " Min.   :0.000000   Min.   :0        Min.   :0.000000   Min.   :0.0000000  \n",
       " 1st Qu.:0.000000   1st Qu.:0        1st Qu.:0.000000   1st Qu.:0.0000000  \n",
       " Median :0.000000   Median :0        Median :0.000000   Median :0.0000000  \n",
       " Mean   :0.002406   Mean   :0        Mean   :0.003781   Mean   :0.0001719  \n",
       " 3rd Qu.:0.000000   3rd Qu.:0        3rd Qu.:0.000000   3rd Qu.:0.0000000  \n",
       " Max.   :1.000000   Max.   :0        Max.   :1.000000   Max.   :1.0000000  \n",
       "     round           saves            selected           starts    \n",
       " Min.   : 1.00   Min.   : 0.0000   Min.   :      0   Min.   :0.00  \n",
       " 1st Qu.:13.00   1st Qu.: 0.0000   1st Qu.:   6200   1st Qu.:0.00  \n",
       " Median :22.00   Median : 0.0000   Median :  31656   Median :0.00  \n",
       " Mean   :21.76   Mean   : 0.7656   Mean   : 267660   Mean   :0.21  \n",
       " 3rd Qu.:31.00   3rd Qu.: 0.0000   3rd Qu.: 188580   3rd Qu.:0.00  \n",
       " Max.   :38.00   Max.   :12.0000   Max.   :3931586   Max.   :1.00  \n",
       "  team_a_score    team_h_score       threat           total_points    \n",
       " Min.   :0.000   Min.   :0.000   Min.   : 0.000000   Min.   :-3.0000  \n",
       " 1st Qu.:0.000   1st Qu.:1.000   1st Qu.: 0.000000   1st Qu.: 0.0000  \n",
       " Median :1.000   Median :2.000   Median : 0.000000   Median : 0.0000  \n",
       " Mean   :1.375   Mean   :1.735   Mean   : 0.004297   Mean   : 0.8499  \n",
       " 3rd Qu.:2.000   3rd Qu.:3.000   3rd Qu.: 0.000000   3rd Qu.: 0.0000  \n",
       " Max.   :8.000   Max.   :9.000   Max.   :17.000000   Max.   :15.0000  \n",
       " transfers_balance    transfers_in      transfers_out          value      \n",
       " Min.   :-381261.0   Min.   :     0.0   Min.   :     0.0   Min.   :36.00  \n",
       " 1st Qu.:  -1081.0   1st Qu.:    60.0   1st Qu.:   131.0   1st Qu.:40.00  \n",
       " Median :    -79.0   Median :   267.5   Median :   812.5   Median :40.00  \n",
       " Mean   :    864.4   Mean   : 11395.9   Mean   : 10531.4   Mean   :42.38  \n",
       " 3rd Qu.:     26.0   3rd Qu.:  3982.0   3rd Qu.:  6533.8   3rd Qu.:45.00  \n",
       " Max.   : 624232.0   Max.   :758313.0   Max.   :491094.0   Max.   :58.00  \n",
       "  was_home        yellow_cards           GW          player_id     \n",
       " Mode :logical   Min.   :0.00000   Min.   : 4.00   Min.   :   5.0  \n",
       " FALSE:2916      1st Qu.:0.00000   1st Qu.:26.00   1st Qu.: 343.0  \n",
       " TRUE :2902      Median :0.00000   Median :44.00   Median : 670.0  \n",
       "                 Mean   :0.01805   Mean   :43.18   Mean   : 664.5  \n",
       "                 3rd Qu.:0.00000   3rd Qu.:61.00   3rd Qu.: 996.0  \n",
       "                 Max.   :1.00000   Max.   :76.00   Max.   :1330.0  \n",
       "      oID             tID             hID             row_id     \n",
       " Min.   : 1.00   Min.   : 1.00   Min.   :0.0000   Min.   :  263  \n",
       " 1st Qu.: 5.00   1st Qu.: 5.00   1st Qu.:0.0000   1st Qu.:20278  \n",
       " Median :12.00   Median :12.00   Median :0.0000   Median :39774  \n",
       " Mean   :12.25   Mean   :12.06   Mean   :0.4988   Mean   :39251  \n",
       " 3rd Qu.:18.00   3rd Qu.:18.00   3rd Qu.:1.0000   3rd Qu.:58717  \n",
       " Max.   :24.00   Max.   :24.00   Max.   :1.0000   Max.   :77933  \n",
       "  avg_minutes      avg_bonus          avg_bps        max_minutes      sum_goals\n",
       " Min.   : 0.00   Min.   :0.00000   Min.   :-0.750   Min.   : 0.00   Min.   :0  \n",
       " 1st Qu.: 0.00   1st Qu.:0.00000   1st Qu.: 0.000   1st Qu.: 0.00   1st Qu.:0  \n",
       " Median : 0.00   Median :0.00000   Median : 0.000   Median : 0.00   Median :0  \n",
       " Mean   :22.28   Mean   :0.07902   Mean   : 4.594   Mean   :26.76   Mean   :0  \n",
       " 3rd Qu.:45.00   3rd Qu.:0.00000   3rd Qu.: 7.750   3rd Qu.:90.00   3rd Qu.:0  \n",
       " Max.   :90.00   Max.   :2.50000   Max.   :33.750   Max.   :90.00   Max.   :0  \n",
       "  sum_assists          avg_ict      avg_expected_goals  avg_expected_assists\n",
       " Min.   :0.000000   Min.   :0.000   Min.   :0.000e+00   Min.   :0.0000000   \n",
       " 1st Qu.:0.000000   1st Qu.:0.000   1st Qu.:0.000e+00   1st Qu.:0.0000000   \n",
       " Median :0.000000   Median :0.000   Median :0.000e+00   Median :0.0000000   \n",
       " Mean   :0.003953   Mean   :0.608   Mean   :4.297e-05   Mean   :0.0003435   \n",
       " 3rd Qu.:0.000000   3rd Qu.:0.900   3rd Qu.:0.000e+00   3rd Qu.:0.0000000   \n",
       " Max.   :1.000000   Max.   :7.725   Max.   :3.000e-02   Max.   :0.0550000   \n",
       "   avg_threat       avg_creativity   avg_influence    games_played  \n",
       " Min.   :0.000000   Min.   :0.0000   Min.   : 0.00   Min.   :0.000  \n",
       " 1st Qu.:0.000000   1st Qu.:0.0000   1st Qu.: 0.00   1st Qu.:0.000  \n",
       " Median :0.000000   Median :0.0000   Median : 0.00   Median :0.000  \n",
       " Mean   :0.004297   Mean   :0.0653   Mean   : 6.01   Mean   :1.007  \n",
       " 3rd Qu.:0.000000   3rd Qu.:0.0000   3rd Qu.: 8.90   3rd Qu.:2.000  \n",
       " Max.   :4.250000   Max.   :7.5000   Max.   :69.85   Max.   :4.000  \n",
       " consecutive_starts avg_goals_conceded sum_clean_sheets\n",
       " Min.   :0.000      Min.   :0.0000     Min.   :0.0000  \n",
       " 1st Qu.:0.000      1st Qu.:0.0000     1st Qu.:0.0000  \n",
       " Median :0.000      Median :0.0000     Median :0.0000  \n",
       " Mean   :0.622      Mean   :0.3776     Mean   :0.2384  \n",
       " 3rd Qu.:0.000      3rd Qu.:0.5000     3rd Qu.:0.0000  \n",
       " Max.   :3.000      Max.   :4.0000     Max.   :4.0000  "
      ]
     },
     "metadata": {},
     "output_type": "display_data"
    },
    {
     "name": "stdout",
     "output_type": "stream",
     "text": [
      "Rows in GK training data: 5818 \n",
      "Rows in GK validation data: 2228 \n"
     ]
    }
   ],
   "source": [
    "# Load the same dataset used for LSTM models\n",
    "df <- read_csv(\"C:/Users/peram/Documents/test/Datasett/Ekstra kolonner, stigende GW, alle tre sesonger(22-24), heltall.csv\")\n",
    "alternativsammensatt <- df\n",
    "\n",
    "# Global variables (use the same as in the LSTM notebook)\n",
    "split_gw <- 38+38  # Same split as LSTM models\n",
    "window_size <- 3   # Number of past gameweeks to consider\n",
    "\n",
    "# Split by position - use the same datasets as LSTM\n",
    "gk <- alternativsammensatt |> filter(position == \"GK\")\n",
    "def <- alternativsammensatt |> filter(position == \"DEF\")\n",
    "mid <- alternativsammensatt |> filter(position == \"MID\")\n",
    "fwd <- alternativsammensatt |> filter(position == \"FWD\")\n",
    "\n",
    "# Keep unscaled versions for later use\n",
    "unscaled_gk <- gk\n",
    "unscaled_def <- def\n",
    "unscaled_mid <- mid\n",
    "unscaled_fwd <- fwd\n",
    "\n",
    "# Create a common function to prepare data for RandomForest\n",
    "prepare_rf_data <- function(pos_data, window_size = 3) {\n",
    "  # Group by player and create features based on previous gameweeks\n",
    "  rf_data <- pos_data %>%\n",
    "    group_by(player_id) %>%\n",
    "    arrange(GW) %>%\n",
    "    mutate(\n",
    "      # Rolling averages for key stats\n",
    "      avg_minutes = slider::slide_dbl(minutes, mean, .before = window_size, .complete = TRUE),\n",
    "      avg_bonus = slider::slide_dbl(bonus, mean, .before = window_size, .complete = TRUE),\n",
    "      avg_bps = slider::slide_dbl(bps, mean, .before = window_size, .complete = TRUE),\n",
    "      \n",
    "      # Additional aggregations\n",
    "      max_minutes = slider::slide_dbl(minutes, max, .before = window_size, .complete = TRUE),\n",
    "      sum_goals = slider::slide_dbl(goals_scored, sum, .before = window_size, .complete = TRUE),\n",
    "      sum_assists = slider::slide_dbl(assists, sum, .before = window_size, .complete = TRUE),\n",
    "      avg_ict = slider::slide_dbl(ict_index, mean, .before = window_size, .complete = TRUE),\n",
    "      \n",
    "      # Position-specific stats depending on what's available\n",
    "      avg_expected_goals = slider::slide_dbl(expected_goals, mean, .before = window_size, .complete = TRUE),\n",
    "      avg_expected_assists = slider::slide_dbl(expected_assists, mean, .before = window_size, .complete = TRUE),\n",
    "      avg_threat = slider::slide_dbl(threat, mean, .before = window_size, .complete = TRUE),\n",
    "      avg_creativity = slider::slide_dbl(creativity, mean, .before = window_size, .complete = TRUE),\n",
    "      avg_influence = slider::slide_dbl(influence, mean, .before = window_size, .complete = TRUE),\n",
    "      \n",
    "      # Form indicators\n",
    "      games_played = slider::slide_dbl(minutes, ~sum(.x > 0), .before = window_size, .complete = TRUE),\n",
    "      consecutive_starts = slider::slide_dbl(starts, ~sum(tail(.x, min(3, length(.x)))), \n",
    "                                          .before = window_size, .complete = TRUE),\n",
    "      \n",
    "      # For goalkeepers and defenders\n",
    "      avg_goals_conceded = slider::slide_dbl(goals_conceded, mean, .before = window_size, .complete = TRUE),\n",
    "      sum_clean_sheets = slider::slide_dbl(clean_sheets, sum, .before = window_size, .complete = TRUE)\n",
    "    ) %>%\n",
    "    ungroup() %>%\n",
    "    # Remove rows with NA values (first window_size gameweeks for each player)\n",
    "    filter(!is.na(avg_minutes))\n",
    "  \n",
    "  # Split into training and validation sets\n",
    "  train_data <- rf_data %>% filter(GW <= split_gw)\n",
    "  valid_data <- rf_data %>% filter(GW > split_gw)\n",
    "  \n",
    "  return(list(all_data = rf_data, train = train_data, valid = valid_data))\n",
    "}\n",
    "\n",
    "# Prepare data for each position\n",
    "rf_gk_data <- prepare_rf_data(gk)\n",
    "rf_def_data <- prepare_rf_data(def)\n",
    "rf_mid_data <- prepare_rf_data(mid)\n",
    "rf_fwd_data <- prepare_rf_data(fwd)\n",
    "\n",
    "# Preview the prepared data structure\n",
    "summary(rf_gk_data$train)\n",
    "cat(\"Rows in GK training data:\", nrow(rf_gk_data$train), \"\\n\")\n",
    "cat(\"Rows in GK validation data:\", nrow(rf_gk_data$valid), \"\\n\")"
   ]
  },
  {
   "cell_type": "markdown",
   "id": "f2e8acb9",
   "metadata": {},
   "source": [
    "# 2. Feature Selection for RandomForest\n",
    "\n",
    "While RandomForest models can handle many features without explicit feature selection, we'll:\n",
    "\n",
    "1. Identify the most relevant features\n",
    "2. Explore correlations between features and target\n",
    "3. Use the LASSO-selected features as a reference\n",
    "4. Consider position-specific features\n",
    "\n",
    "This will help improve model interpretability and potentially performance."
   ]
  },
  {
   "cell_type": "code",
   "execution_count": 12,
   "id": "7d9e1858",
   "metadata": {
    "vscode": {
     "languageId": "r"
    }
   },
   "outputs": [
    {
     "name": "stderr",
     "output_type": "stream",
     "text": [
      "Warning message in storage.mode(xd) <- \"double\":\n",
      "\"NAs introduced by coercion\"\n",
      "Warning message in storage.mode(xd) <- \"double\":\n",
      "\"NAs introduced by coercion\"\n",
      "Warning message in storage.mode(xd) <- \"double\":\n",
      "\"NAs introduced by coercion\"\n",
      "Warning message in storage.mode(xd) <- \"double\":\n",
      "\"NAs introduced by coercion\"\n",
      "Warning message in storage.mode(xd) <- \"double\":\n",
      "\"NAs introduced by coercion\"\n",
      "Warning message in storage.mode(xd) <- \"double\":\n",
      "\"NAs introduced by coercion\"\n",
      "Warning message in storage.mode(xd) <- \"double\":\n",
      "\"NAs introduced by coercion\"\n",
      "Warning message in storage.mode(xd) <- \"double\":\n",
      "\"NAs introduced by coercion\"\n",
      "Warning message in storage.mode(xd) <- \"double\":\n",
      "\"NAs introduced by coercion\"\n",
      "Warning message in storage.mode(xd) <- \"double\":\n",
      "\"NAs introduced by coercion\"\n",
      "Warning message in storage.mode(xd) <- \"double\":\n",
      "\"NAs introduced by coercion\"\n",
      "Warning message in cbind2(1, newx) %*% nbeta:\n",
      "\"NAs introduced by coercion\"\n",
      "Warning message in cbind2(1, newx) %*% nbeta:\n",
      "\"NAs introduced by coercion\"\n",
      "Warning message in cbind2(1, newx) %*% nbeta:\n",
      "\"NAs introduced by coercion\"\n",
      "Warning message in cbind2(1, newx) %*% nbeta:\n",
      "\"NAs introduced by coercion\"\n",
      "Warning message in cbind2(1, newx) %*% nbeta:\n",
      "\"NAs introduced by coercion\"\n",
      "Warning message in cbind2(1, newx) %*% nbeta:\n",
      "\"NAs introduced by coercion\"\n",
      "Warning message in cbind2(1, newx) %*% nbeta:\n",
      "\"NAs introduced by coercion\"\n",
      "Warning message in cbind2(1, newx) %*% nbeta:\n",
      "\"NAs introduced by coercion\"\n",
      "Warning message in cbind2(1, newx) %*% nbeta:\n",
      "\"NAs introduced by coercion\"\n",
      "Warning message in cbind2(1, newx) %*% nbeta:\n",
      "\"NAs introduced by coercion\"\n",
      "Warning message in storage.mode(xd) <- \"double\":\n",
      "\"NAs introduced by coercion\"\n",
      "Warning message in storage.mode(xd) <- \"double\":\n",
      "\"NAs introduced by coercion\"\n",
      "Warning message in storage.mode(xd) <- \"double\":\n",
      "\"NAs introduced by coercion\"\n",
      "Warning message in storage.mode(xd) <- \"double\":\n",
      "\"NAs introduced by coercion\"\n",
      "Warning message in storage.mode(xd) <- \"double\":\n",
      "\"NAs introduced by coercion\"\n",
      "Warning message in storage.mode(xd) <- \"double\":\n",
      "\"NAs introduced by coercion\"\n",
      "Warning message in storage.mode(xd) <- \"double\":\n",
      "\"NAs introduced by coercion\"\n",
      "Warning message in storage.mode(xd) <- \"double\":\n",
      "\"NAs introduced by coercion\"\n",
      "Warning message in storage.mode(xd) <- \"double\":\n",
      "\"NAs introduced by coercion\"\n",
      "Warning message in storage.mode(xd) <- \"double\":\n",
      "\"NAs introduced by coercion\"\n",
      "Warning message in storage.mode(xd) <- \"double\":\n",
      "\"NAs introduced by coercion\"\n",
      "Warning message in storage.mode(xd) <- \"double\":\n",
      "\"NAs introduced by coercion\"\n",
      "Warning message in cbind2(1, newx) %*% nbeta:\n",
      "\"NAs introduced by coercion\"\n",
      "Warning message in cbind2(1, newx) %*% nbeta:\n",
      "\"NAs introduced by coercion\"\n",
      "Warning message in cbind2(1, newx) %*% nbeta:\n",
      "\"NAs introduced by coercion\"\n",
      "Warning message in cbind2(1, newx) %*% nbeta:\n",
      "\"NAs introduced by coercion\"\n",
      "Warning message in cbind2(1, newx) %*% nbeta:\n",
      "\"NAs introduced by coercion\"\n",
      "Warning message in cbind2(1, newx) %*% nbeta:\n",
      "\"NAs introduced by coercion\"\n",
      "Warning message in cbind2(1, newx) %*% nbeta:\n",
      "\"NAs introduced by coercion\"\n",
      "Warning message in cbind2(1, newx) %*% nbeta:\n",
      "\"NAs introduced by coercion\"\n",
      "Warning message in cbind2(1, newx) %*% nbeta:\n",
      "\"NAs introduced by coercion\"\n",
      "Warning message in cbind2(1, newx) %*% nbeta:\n",
      "\"NAs introduced by coercion\"\n",
      "Warning message in storage.mode(xd) <- \"double\":\n",
      "\"NAs introduced by coercion\"\n",
      "Warning message in storage.mode(xd) <- \"double\":\n",
      "\"NAs introduced by coercion\"\n",
      "Warning message in storage.mode(xd) <- \"double\":\n",
      "\"NAs introduced by coercion\"\n",
      "Warning message in storage.mode(xd) <- \"double\":\n",
      "\"NAs introduced by coercion\"\n",
      "Warning message in storage.mode(xd) <- \"double\":\n",
      "\"NAs introduced by coercion\"\n",
      "Warning message in storage.mode(xd) <- \"double\":\n",
      "\"NAs introduced by coercion\"\n",
      "Warning message in storage.mode(xd) <- \"double\":\n",
      "\"NAs introduced by coercion\"\n",
      "Warning message in storage.mode(xd) <- \"double\":\n",
      "\"NAs introduced by coercion\"\n",
      "Warning message in storage.mode(xd) <- \"double\":\n",
      "\"NAs introduced by coercion\"\n",
      "Warning message in storage.mode(xd) <- \"double\":\n",
      "\"NAs introduced by coercion\"\n",
      "Warning message in storage.mode(xd) <- \"double\":\n",
      "\"NAs introduced by coercion\"\n",
      "Warning message in storage.mode(xd) <- \"double\":\n",
      "\"NAs introduced by coercion\"\n",
      "Warning message in cbind2(1, newx) %*% nbeta:\n",
      "\"NAs introduced by coercion\"\n",
      "Warning message in cbind2(1, newx) %*% nbeta:\n",
      "\"NAs introduced by coercion\"\n",
      "Warning message in cbind2(1, newx) %*% nbeta:\n",
      "\"NAs introduced by coercion\"\n",
      "Warning message in cbind2(1, newx) %*% nbeta:\n",
      "\"NAs introduced by coercion\"\n",
      "Warning message in cbind2(1, newx) %*% nbeta:\n",
      "\"NAs introduced by coercion\"\n",
      "Warning message in cbind2(1, newx) %*% nbeta:\n",
      "\"NAs introduced by coercion\"\n",
      "Warning message in cbind2(1, newx) %*% nbeta:\n",
      "\"NAs introduced by coercion\"\n",
      "Warning message in cbind2(1, newx) %*% nbeta:\n",
      "\"NAs introduced by coercion\"\n",
      "Warning message in cbind2(1, newx) %*% nbeta:\n",
      "\"NAs introduced by coercion\"\n",
      "Warning message in cbind2(1, newx) %*% nbeta:\n",
      "\"NAs introduced by coercion\"\n",
      "Warning message in storage.mode(xd) <- \"double\":\n",
      "\"NAs introduced by coercion\"\n",
      "Warning message in storage.mode(xd) <- \"double\":\n",
      "\"NAs introduced by coercion\"\n",
      "Warning message in storage.mode(xd) <- \"double\":\n",
      "\"NAs introduced by coercion\"\n",
      "Warning message in storage.mode(xd) <- \"double\":\n",
      "\"NAs introduced by coercion\"\n",
      "Warning message in storage.mode(xd) <- \"double\":\n",
      "\"NAs introduced by coercion\"\n",
      "Warning message in storage.mode(xd) <- \"double\":\n",
      "\"NAs introduced by coercion\"\n",
      "Warning message in storage.mode(xd) <- \"double\":\n",
      "\"NAs introduced by coercion\"\n",
      "Warning message in storage.mode(xd) <- \"double\":\n",
      "\"NAs introduced by coercion\"\n",
      "Warning message in storage.mode(xd) <- \"double\":\n",
      "\"NAs introduced by coercion\"\n",
      "Warning message in storage.mode(xd) <- \"double\":\n",
      "\"NAs introduced by coercion\"\n",
      "Warning message in storage.mode(xd) <- \"double\":\n",
      "\"NAs introduced by coercion\"\n",
      "Warning message in storage.mode(xd) <- \"double\":\n",
      "\"NAs introduced by coercion\"\n",
      "Warning message in cbind2(1, newx) %*% nbeta:\n",
      "\"NAs introduced by coercion\"\n",
      "Warning message in cbind2(1, newx) %*% nbeta:\n",
      "\"NAs introduced by coercion\"\n",
      "Warning message in cbind2(1, newx) %*% nbeta:\n",
      "\"NAs introduced by coercion\"\n",
      "Warning message in cbind2(1, newx) %*% nbeta:\n",
      "\"NAs introduced by coercion\"\n",
      "Warning message in cbind2(1, newx) %*% nbeta:\n",
      "\"NAs introduced by coercion\"\n",
      "Warning message in cbind2(1, newx) %*% nbeta:\n",
      "\"NAs introduced by coercion\"\n",
      "Warning message in cbind2(1, newx) %*% nbeta:\n",
      "\"NAs introduced by coercion\"\n",
      "Warning message in cbind2(1, newx) %*% nbeta:\n",
      "\"NAs introduced by coercion\"\n",
      "Warning message in cbind2(1, newx) %*% nbeta:\n",
      "\"NAs introduced by coercion\"\n",
      "Warning message in cbind2(1, newx) %*% nbeta:\n",
      "\"NAs introduced by coercion\"\n",
      "Warning message in storage.mode(xd) <- \"double\":\n",
      "\"NAs introduced by coercion\"\n"
     ]
    },
    {
     "name": "stdout",
     "output_type": "stream",
     "text": [
      "Selected features for Goalkeepers:\n",
      " [1] \"xP\"                \"assists\"           \"bonus\"            \n",
      " [4] \"bps\"               \"clean_sheets\"      \"expected_goals\"   \n",
      " [7] \"goals_conceded\"    \"ict_index\"         \"minutes\"          \n",
      "[10] \"own_goals\"         \"penalties_saved\"   \"red_cards\"        \n",
      "[13] \"saves\"             \"team_a_score\"      \"transfers_balance\"\n",
      "[16] \"yellow_cards\"      \"avg_threat\"       \n",
      "\n",
      "Selected features for Defenders:\n",
      " [1] \"xP\"                   \"assists\"              \"bonus\"               \n",
      " [4] \"bps\"                  \"clean_sheets\"         \"creativity\"          \n",
      " [7] \"expected_assists\"     \"expected_goals\"       \"goals_conceded\"      \n",
      "[10] \"goals_scored\"         \"influence\"            \"minutes\"             \n",
      "[13] \"own_goals\"            \"red_cards\"            \"round\"               \n",
      "[16] \"team_a_score\"         \"team_h_score\"         \"threat\"              \n",
      "[19] \"transfers_in\"         \"transfers_out\"        \"yellow_cards\"        \n",
      "[22] \"avg_minutes\"          \"avg_bonus\"            \"avg_bps\"             \n",
      "[25] \"max_minutes\"          \"sum_goals\"            \"sum_assists\"         \n",
      "[28] \"avg_expected_goals\"   \"avg_expected_assists\" \"avg_creativity\"      \n",
      "[31] \"avg_influence\"        \"games_played\"         \"consecutive_starts\"  \n",
      "[34] \"avg_goals_conceded\"  \n",
      "\n",
      "Selected features for Midfielders:\n",
      " [1] \"xP\"                      \"assists\"                \n",
      " [3] \"bonus\"                   \"bps\"                    \n",
      " [5] \"clean_sheets\"            \"creativity\"             \n",
      " [7] \"expected_assists\"        \"expected_goals\"         \n",
      " [9] \"expected_goals_conceded\" \"fixture\"                \n",
      "[11] \"goals_conceded\"          \"goals_scored\"           \n",
      "[13] \"influence\"               \"minutes\"                \n",
      "[15] \"own_goals\"               \"penalties_missed\"       \n",
      "[17] \"red_cards\"               \"threat\"                 \n",
      "[19] \"transfers_out\"           \"yellow_cards\"           \n",
      "[21] \"avg_minutes\"             \"avg_bonus\"              \n",
      "[23] \"avg_bps\"                 \"max_minutes\"            \n",
      "[25] \"sum_goals\"               \"sum_assists\"            \n",
      "[27] \"avg_threat\"              \"avg_influence\"          \n",
      "[29] \"games_played\"            \"consecutive_starts\"     \n",
      "[31] \"avg_goals_conceded\"     \n",
      "\n",
      "Selected features for Forwards:\n",
      " [1] \"xP\"                      \"assists\"                \n",
      " [3] \"bonus\"                   \"bps\"                    \n",
      " [5] \"clean_sheets\"            \"creativity\"             \n",
      " [7] \"expected_assists\"        \"expected_goals\"         \n",
      " [9] \"expected_goals_conceded\" \"goals_conceded\"         \n",
      "[11] \"goals_scored\"            \"minutes\"                \n",
      "[13] \"own_goals\"               \"penalties_missed\"       \n",
      "[15] \"red_cards\"               \"threat\"                 \n",
      "[17] \"transfers_out\"           \"yellow_cards\"           \n",
      "[19] \"avg_minutes\"             \"avg_bps\"                \n",
      "[21] \"max_minutes\"             \"sum_assists\"            \n",
      "[23] \"avg_ict\"                 \"avg_creativity\"         \n",
      "[25] \"avg_influence\"           \"games_played\"           \n",
      "[27] \"consecutive_starts\"      \"avg_goals_conceded\"     \n"
     ]
    },
    {
     "data": {
      "image/png": "[encoded data removed]",
      "text/plain": [
       "Plot with title \"\""
      ]
     },
     "metadata": {
      "image/png": {
       "height": 420,
       "width": 420
      }
     },
     "output_type": "display_data"
    }
   ],
   "source": [
    "# Function to identify the most important features for each position\n",
    "select_features_for_rf <- function(data, target = \"total_points\", method = \"lasso\") {\n",
    "  # Remove metadata columns\n",
    "  feature_cols <- setdiff(names(data), \n",
    "                          c(\"row_id\", \"team\", \"name\", \"player_id\", \"position\", \n",
    "                            \"oID\", \"tID\", \"hID\", \"GW\", \"opponent\", \"team_id\", \n",
    "                            \"total_points\", \"value\"))\n",
    "  \n",
    "  if (method == \"lasso\") {\n",
    "    # Prepare design matrix and response vector\n",
    "    x <- as.matrix(data[, feature_cols])\n",
    "    y <- data[[target]]\n",
    "    \n",
    "    # Handle NA values\n",
    "    x[is.na(x)] <- 0\n",
    "    \n",
    "    # 10-fold cross-validation for optimal lambda\n",
    "    cv_model <- cv.glmnet(x, y, alpha = 1, nfolds = 10)\n",
    "    \n",
    "    # Fit LASSO with optimal lambda\n",
    "    lasso_model <- glmnet(x, y, alpha = 1, lambda = cv_model$lambda.min)\n",
    "    \n",
    "    # Get non-zero coefficients\n",
    "    coef_lasso <- as.matrix(coef(lasso_model))\n",
    "    selected_features <- rownames(coef_lasso)[coef_lasso[,1] != 0]\n",
    "    selected_features <- setdiff(selected_features, \"(Intercept)\")\n",
    "    \n",
    "    return(list(features = selected_features, model = lasso_model))\n",
    "  } \n",
    "  else if (method == \"correlation\") {\n",
    "    # Compute correlations with target\n",
    "    cor_with_target <- sapply(feature_cols, function(col) {\n",
    "      cor(data[[col]], data[[target]], use = \"complete.obs\")\n",
    "    })\n",
    "    \n",
    "    # Sort by absolute correlation\n",
    "    cor_sorted <- sort(abs(cor_with_target), decreasing = TRUE)\n",
    "    \n",
    "    # Select top N features (adjust threshold as needed)\n",
    "    threshold <- 0.1  # Minimum correlation to include\n",
    "    selected_features <- names(cor_sorted)[cor_sorted > threshold]\n",
    "    \n",
    "    return(list(features = selected_features, \n",
    "                correlations = cor_with_target[selected_features]))\n",
    "  }\n",
    "}\n",
    "\n",
    "# Apply feature selection for each position\n",
    "gk_features <- select_features_for_rf(rf_gk_data$train)\n",
    "def_features <- select_features_for_rf(rf_def_data$train)\n",
    "mid_features <- select_features_for_rf(rf_mid_data$train)\n",
    "fwd_features <- select_features_for_rf(rf_fwd_data$train)\n",
    "\n",
    "# Display selected features by position\n",
    "cat(\"Selected features for Goalkeepers:\\n\")\n",
    "print(gk_features$features)\n",
    "\n",
    "cat(\"\\nSelected features for Defenders:\\n\")\n",
    "print(def_features$features)\n",
    "\n",
    "cat(\"\\nSelected features for Midfielders:\\n\")\n",
    "print(mid_features$features)\n",
    "\n",
    "cat(\"\\nSelected features for Forwards:\\n\")\n",
    "print(fwd_features$features)\n",
    "\n",
    "# Optional: Visualize correlations between features and target\n",
    "# for one position as an example\n",
    "if (requireNamespace(\"corrplot\", quietly = TRUE)) {\n",
    "  library(corrplot)\n",
    "  \n",
    "  # For midfielders\n",
    "  selected_cols <- c(mid_features$features, \"total_points\")\n",
    "  cor_matrix <- cor(rf_mid_data$train[, selected_cols], use = \"pairwise.complete.obs\")\n",
    "  \n",
    "  corrplot(cor_matrix, method = \"circle\", type = \"upper\", \n",
    "           tl.col = \"black\", tl.srt = 45, tl.cex = 0.7)\n",
    "}"
   ]
  },
  {
   "cell_type": "markdown",
   "id": "7827ef6a",
   "metadata": {},
   "source": [
    "# 3. RandomForest Model Training\n",
    "\n",
    "Now we'll train RandomForest models for each position using the selected features. For each position, we'll:\n",
    "\n",
    "1. Build a base model using default parameters\n",
    "2. Tune hyperparameters to optimize performance\n",
    "3. Train the final model with the best parameters\n",
    "4. Evaluate performance metrics on the training data\n",
    "\n",
    "RandomForest hyperparameters that we'll tune include:\n",
    "- `ntree`: Number of trees in the forest\n",
    "- `mtry`: Number of variables randomly sampled as candidates at each split\n",
    "- `min.node.size`: Minimum size of terminal nodes"
   ]
  },
  {
   "cell_type": "code",
   "execution_count": 13,
   "id": "7a3d0156",
   "metadata": {
    "vscode": {
     "languageId": "r"
    }
   },
   "outputs": [
    {
     "name": "stdout",
     "output_type": "stream",
     "text": [
      "Training Goalkeeper model...\n"
     ]
    },
    {
     "name": "stdout",
     "output_type": "stream",
     "text": [
      "Training Defender model...\n",
      "Training Midfielder model...\n",
      "Training Forward model...\n",
      "\n",
      "Goalkeeper Model Summary (verify this shows regression output):\n",
      "\n",
      "Call:\n",
      " randomForest(formula = rf_formula, data = train_data, ntree = 200,      importance = TRUE, type = \"regression\") \n",
      "               Type of random forest: regression\n",
      "                     Number of trees: 200\n",
      "No. of variables tried at each split: 5\n",
      "\n",
      "          Mean of squared residuals: 0.03385168\n",
      "                    % Var explained: 99.18\n",
      "\n",
      "Model type verification:\n",
      "Is GK model regression? regression \n"
     ]
    }
   ],
   "source": [
    "# Function to train RandomForest model for a position - Optimized version\n",
    "train_rf_model <- function(train_data, features, target = \"total_points\", tune = FALSE) {\n",
    "  # Create formula\n",
    "  formula_str <- paste(target, \"~\", paste(features, collapse = \" + \"))\n",
    "  rf_formula <- as.formula(formula_str)\n",
    "  \n",
    "  if (tune) {\n",
    "    # Simplified tuning with minimal cross-validation\n",
    "    control <- trainControl(\n",
    "      method = \"cv\",\n",
    "      number = 2,  # Reduced from 5 to 2 folds\n",
    "      verboseIter = FALSE\n",
    "    )\n",
    "    \n",
    "    # Simplified parameter grid - just 3 mtry values\n",
    "    param_grid <- expand.grid(\n",
    "      mtry = c(floor(sqrt(length(features))), \n",
    "               floor(length(features)/3), \n",
    "               min(length(features), 5))\n",
    "    )\n",
    "    \n",
    "    # Train with caret for very minimal hyperparameter tuning\n",
    "    set.seed(42)\n",
    "    tuned_model <- train(\n",
    "      rf_formula,\n",
    "      data = train_data,\n",
    "      method = \"rf\",\n",
    "      trControl = control,\n",
    "      tuneGrid = param_grid,\n",
    "      importance = TRUE\n",
    "    )\n",
    "    \n",
    "    # Extract best parameters\n",
    "    best_mtry <- tuned_model$bestTune$mtry\n",
    "    \n",
    "    # Train final model with best parameters\n",
    "    final_model <- randomForest(\n",
    "      rf_formula,\n",
    "      data = train_data,\n",
    "      mtry = best_mtry,\n",
    "      ntree = 200,  # Reduced from 500 \n",
    "      importance = TRUE,\n",
    "      type = \"regression\"  # Explicitly set regression\n",
    "    )\n",
    "    \n",
    "    return(list(model = final_model, best_params = tuned_model$bestTune))\n",
    "  } else {\n",
    "    # Train with default parameters - MUCH faster option\n",
    "    set.seed(42)\n",
    "    model <- randomForest(\n",
    "      rf_formula,\n",
    "      data = train_data,\n",
    "      ntree = 200,  # Reduced from 500\n",
    "      importance = TRUE,\n",
    "      type = \"regression\"  # Explicitly set regression\n",
    "    )\n",
    "    \n",
    "    return(list(model = model))\n",
    "  }\n",
    "}\n",
    "\n",
    "# Train models for each position - with tuning disabled for speed\n",
    "rf_models <- list()\n",
    "\n",
    "cat(\"Training Goalkeeper model...\\n\")\n",
    "rf_models$gk <- train_rf_model(rf_gk_data$train, gk_features$features, tune = FALSE)\n",
    "\n",
    "cat(\"Training Defender model...\\n\")\n",
    "rf_models$def <- train_rf_model(rf_def_data$train, def_features$features, tune = FALSE)\n",
    "\n",
    "cat(\"Training Midfielder model...\\n\")\n",
    "rf_models$mid <- train_rf_model(rf_mid_data$train, mid_features$features, tune = FALSE)\n",
    "\n",
    "cat(\"Training Forward model...\\n\")\n",
    "rf_models$fwd <- train_rf_model(rf_fwd_data$train, fwd_features$features, tune = FALSE)\n",
    "\n",
    "# Check model summaries to verify regression\n",
    "cat(\"\\nGoalkeeper Model Summary (verify this shows regression output):\\n\")\n",
    "print(rf_models$gk$model)\n",
    "\n",
    "# Additional verification for regression - this should show \"regression\" if working correctly\n",
    "cat(\"\\nModel type verification:\\n\")\n",
    "cat(\"Is GK model regression?\", rf_models$gk$model$type, \"\\n\")"
   ]
  },
  {
   "cell_type": "markdown",
   "id": "fb955178",
   "metadata": {},
   "source": [
    "# 4. RandomForest Prediction and Evaluation\n",
    "\n",
    "With our trained models, we'll now:\n",
    "\n",
    "1. Generate predictions on the validation set\n",
    "2. Calculate evaluation metrics (RMSE, MAE, R²)\n",
    "3. Compare predicted vs actual values\n",
    "4. Analyze prediction errors"
   ]
  },
  {
   "cell_type": "code",
   "execution_count": 14,
   "id": "c867702a",
   "metadata": {
    "vscode": {
     "languageId": "r"
    }
   },
   "outputs": [
    {
     "name": "stdout",
     "output_type": "stream",
     "text": [
      "Evaluating Goalkeeper model...\n",
      "Evaluating Defender model...\n",
      "Evaluating Midfielder model...\n",
      "Evaluating Forward model...\n",
      "  Position      RMSE        MAE R_Squared Mean_Pred Mean_Actual\n",
      "1       GK 0.3624230 0.12130624 0.9731757 0.8095023   0.9124776\n",
      "2      DEF 0.2364250 0.07485345 0.9883754 0.9896360   1.0407059\n",
      "3      MID 0.1880391 0.04338052 0.9939666 1.2979325   1.2894128\n",
      "4      FWD 0.2338663 0.06483198 0.9936512 1.4727541   1.4406490\n"
     ]
    },
    {
     "data": {
      "image/png": "[encoded data removed]",
      "text/plain": [
       "plot without title"
      ]
     },
     "metadata": {
      "image/png": {
       "height": 420,
       "width": 420
      }
     },
     "output_type": "display_data"
    }
   ],
   "source": [
    "# Function to evaluate a model on validation data\n",
    "evaluate_rf_model <- function(model, valid_data, features, target = \"total_points\") {\n",
    "  # Ensure all required features exist in validation data\n",
    "  missing_features <- setdiff(features, names(valid_data))\n",
    "  if (length(missing_features) > 0) {\n",
    "    stop(\"Missing features in validation data: \", \n",
    "         paste(missing_features, collapse = \", \"))\n",
    "  }\n",
    "  \n",
    "  # Make predictions\n",
    "  predictions <- predict(model, newdata = valid_data)\n",
    "  \n",
    "  # Create results dataframe\n",
    "  results <- valid_data %>%\n",
    "    select(player_id, GW, name, position, team, value, total_points) %>%\n",
    "    mutate(\n",
    "      predicted_points = predictions,\n",
    "      error = total_points - predicted_points,\n",
    "      abs_error = abs(error)\n",
    "    )\n",
    "  \n",
    "  # Calculate metrics\n",
    "  metrics <- list(\n",
    "    rmse = sqrt(mean(results$error^2)),\n",
    "    mae = mean(results$abs_error),\n",
    "    r_squared = cor(results$total_points, results$predicted_points)^2,\n",
    "    mean_pred = mean(results$predicted_points),\n",
    "    mean_actual = mean(results$total_points)\n",
    "  )\n",
    "  \n",
    "  return(list(\n",
    "    predictions = results,\n",
    "    metrics = metrics\n",
    "  ))\n",
    "}\n",
    "\n",
    "# Evaluate models for each position\n",
    "rf_evaluations <- list()\n",
    "\n",
    "cat(\"Evaluating Goalkeeper model...\\n\")\n",
    "rf_evaluations$gk <- evaluate_rf_model(\n",
    "  rf_models$gk$model, \n",
    "  rf_gk_data$valid, \n",
    "  gk_features$features\n",
    ")\n",
    "\n",
    "cat(\"Evaluating Defender model...\\n\")\n",
    "rf_evaluations$def <- evaluate_rf_model(\n",
    "  rf_models$def$model, \n",
    "  rf_def_data$valid, \n",
    "  def_features$features\n",
    ")\n",
    "\n",
    "cat(\"Evaluating Midfielder model...\\n\")\n",
    "rf_evaluations$mid <- evaluate_rf_model(\n",
    "  rf_models$mid$model, \n",
    "  rf_mid_data$valid, \n",
    "  mid_features$features\n",
    ")\n",
    "\n",
    "cat(\"Evaluating Forward model...\\n\")\n",
    "rf_evaluations$fwd <- evaluate_rf_model(\n",
    "  rf_models$fwd$model, \n",
    "  rf_fwd_data$valid, \n",
    "  fwd_features$features\n",
    ")\n",
    "\n",
    "# Create a summary of evaluation metrics\n",
    "rf_metrics_df <- data.frame(\n",
    "  Position = c(\"GK\", \"DEF\", \"MID\", \"FWD\"),\n",
    "  RMSE = c(\n",
    "    rf_evaluations$gk$metrics$rmse,\n",
    "    rf_evaluations$def$metrics$rmse,\n",
    "    rf_evaluations$mid$metrics$rmse,\n",
    "    rf_evaluations$fwd$metrics$rmse\n",
    "  ),\n",
    "  MAE = c(\n",
    "    rf_evaluations$gk$metrics$mae,\n",
    "    rf_evaluations$def$metrics$mae,\n",
    "    rf_evaluations$mid$metrics$mae,\n",
    "    rf_evaluations$fwd$metrics$mae\n",
    "  ),\n",
    "  R_Squared = c(\n",
    "    rf_evaluations$gk$metrics$r_squared,\n",
    "    rf_evaluations$def$metrics$r_squared,\n",
    "    rf_evaluations$mid$metrics$r_squared,\n",
    "    rf_evaluations$fwd$metrics$r_squared\n",
    "  ),\n",
    "  Mean_Pred = c(\n",
    "    rf_evaluations$gk$metrics$mean_pred,\n",
    "    rf_evaluations$def$metrics$mean_pred,\n",
    "    rf_evaluations$mid$metrics$mean_pred,\n",
    "    rf_evaluations$fwd$metrics$mean_pred\n",
    "  ),\n",
    "  Mean_Actual = c(\n",
    "    rf_evaluations$gk$metrics$mean_actual,\n",
    "    rf_evaluations$def$metrics$mean_actual,\n",
    "    rf_evaluations$mid$metrics$mean_actual,\n",
    "    rf_evaluations$fwd$metrics$mean_actual\n",
    "  )\n",
    ")\n",
    "\n",
    "# Display metrics summary\n",
    "print(rf_metrics_df)\n",
    "\n",
    "# Plot actual vs predicted for midfielders as an example\n",
    "ggplot(rf_evaluations$mid$predictions, aes(x = total_points, y = predicted_points)) +\n",
    "  geom_point(alpha = 0.5) +\n",
    "  geom_abline(intercept = 0, slope = 1, linetype = \"dashed\", color = \"red\") +\n",
    "  labs(title = \"Actual vs. Predicted Total Points - Midfielders (RandomForest)\",\n",
    "       x = \"Actual Total Points\",\n",
    "       y = \"Predicted Total Points\") +\n",
    "  theme_minimal()"
   ]
  },
  {
   "cell_type": "markdown",
   "id": "f602ea5b",
   "metadata": {},
   "source": [
    "# 5. Comparing RandomForest vs LSTM Performance\n",
    "\n",
    "Now we'll compare the performance of our RandomForest models with the LSTM models. We'll:\n",
    "\n",
    "1. Combine performance metrics from both approaches\n",
    "2. Visualize differences in prediction accuracy\n",
    "3. Analyze which model type performs better for which position\n",
    "4. Identify strengths and weaknesses of each approach"
   ]
  },
  {
   "cell_type": "code",
   "execution_count": 15,
   "id": "77892682",
   "metadata": {
    "vscode": {
     "languageId": "r"
    }
   },
   "outputs": [
    {
     "name": "stderr",
     "output_type": "stream",
     "text": [
      "\u001b[1mRows: \u001b[22m\u001b[34m21098\u001b[39m \u001b[1mColumns: \u001b[22m\u001b[34m9\u001b[39m\n",
      "\u001b[36m──\u001b[39m \u001b[1mColumn specification\u001b[22m \u001b[36m────────────────────────────────────────────────────────\u001b[39m\n",
      "\u001b[1mDelimiter:\u001b[22m \",\"\n",
      "\u001b[31mchr\u001b[39m (3): name, position, team\n",
      "\u001b[32mdbl\u001b[39m (6): row_id, GW, player_id, actual_total_points, predicted_total_points,...\n",
      "\n",
      "\u001b[36mℹ\u001b[39m Use `spec()` to retrieve the full column specification for this data.\n",
      "\u001b[36mℹ\u001b[39m Specify the column types or set `show_col_types = FALSE` to quiet this message.\n"
     ]
    },
    {
     "name": "stdout",
     "output_type": "stream",
     "text": [
      "         Model Position      RMSE        MAE  R_Squared Mean_Pred Mean_Actual\n",
      "1 RandomForest       GK 0.3624230 0.12130624 0.97317573 0.8095023   0.9124776\n",
      "2 RandomForest      DEF 0.2364250 0.07485345 0.98837540 0.9896360   1.0407059\n",
      "3 RandomForest      MID 0.1880391 0.04338052 0.99396657 1.2979325   1.2894128\n",
      "4 RandomForest      FWD 0.2338663 0.06483198 0.99365124 1.4727541   1.4406490\n",
      "5         LSTM      DEF 2.1202320 1.41042210 0.06038257 1.2567711   1.0407059\n",
      "6         LSTM      FWD 2.6458175 1.62944286 0.12996266 1.4522964   1.4406490\n",
      "7         LSTM       GK 1.9156056 1.22747157 0.17546460 1.1478511   0.9124776\n",
      "8         LSTM      MID 2.3207993 1.46640850 0.10344839 1.4941278   1.2894128\n"
     ]
    },
    {
     "data": {
      "image/png": "[encoded data removed]",
      "text/plain": [
       "plot without title"
      ]
     },
     "metadata": {
      "image/png": {
       "height": 420,
       "width": 420
      }
     },
     "output_type": "display_data"
    },
    {
     "name": "stdout",
     "output_type": "stream",
     "text": [
      "\u001b[90m# A tibble: 4 × 10\u001b[39m\n",
      "  Position RMSE_RandomForest RMSE_LSTM MAE_RandomForest MAE_LSTM\n",
      "  \u001b[3m\u001b[90m<chr>\u001b[39m\u001b[23m                \u001b[3m\u001b[90m<dbl>\u001b[39m\u001b[23m     \u001b[3m\u001b[90m<dbl>\u001b[39m\u001b[23m            \u001b[3m\u001b[90m<dbl>\u001b[39m\u001b[23m    \u001b[3m\u001b[90m<dbl>\u001b[39m\u001b[23m\n",
      "\u001b[90m1\u001b[39m GK                   0.362      1.92           0.121      1.23\n",
      "\u001b[90m2\u001b[39m DEF                  0.236      2.12           0.074\u001b[4m9\u001b[24m     1.41\n",
      "\u001b[90m3\u001b[39m MID                  0.188      2.32           0.043\u001b[4m4\u001b[24m     1.47\n",
      "\u001b[90m4\u001b[39m FWD                  0.234      2.65           0.064\u001b[4m8\u001b[24m     1.63\n",
      "\u001b[90m# ℹ 5 more variables: R_Squared_RandomForest <dbl>, R_Squared_LSTM <dbl>,\u001b[39m\n",
      "\u001b[90m#   RMSE_improvement <dbl>, MAE_improvement <dbl>, R2_improvement <dbl>\u001b[39m\n"
     ]
    },
    {
     "data": {
      "image/png": "[encoded data removed]",
      "text/plain": [
       "plot without title"
      ]
     },
     "metadata": {
      "image/png": {
       "height": 420,
       "width": 420
      }
     },
     "output_type": "display_data"
    }
   ],
   "source": [
    "# Load LSTM model evaluation results\n",
    "# Since the LSTM validation results were saved to CSV, we can load them\n",
    "lstm_results <- read_csv(\"Validation_Predictions_Clean.csv\")\n",
    "\n",
    "# Calculate LSTM metrics by position\n",
    "calculate_lstm_metrics <- function(data) {\n",
    "  data %>%\n",
    "    group_by(position) %>%\n",
    "    summarise(\n",
    "      RMSE = sqrt(mean((actual_total_points - predicted_total_points)^2)),\n",
    "      MAE = mean(abs(actual_total_points - predicted_total_points)),\n",
    "      R_Squared = cor(actual_total_points, predicted_total_points)^2,\n",
    "      Mean_Pred = mean(predicted_total_points),\n",
    "      Mean_Actual = mean(actual_total_points)\n",
    "    )\n",
    "}\n",
    "\n",
    "lstm_metrics_df <- calculate_lstm_metrics(lstm_results)\n",
    "\n",
    "# Convert position names to match RF metrics dataframe\n",
    "lstm_metrics_df$Position <- toupper(lstm_metrics_df$position)\n",
    "lstm_metrics_df <- lstm_metrics_df %>% select(-position)\n",
    "\n",
    "# Create a combined metrics dataframe\n",
    "combined_metrics <- bind_rows(\n",
    "  rf_metrics_df %>% mutate(Model = \"RandomForest\"),\n",
    "  lstm_metrics_df %>% mutate(Model = \"LSTM\")\n",
    ") %>%\n",
    "  select(Model, Position, RMSE, MAE, R_Squared, Mean_Pred, Mean_Actual)\n",
    "\n",
    "# Display combined metrics\n",
    "print(combined_metrics)\n",
    "\n",
    "# Create comparison plots\n",
    "plot_metric_comparison <- function(metric_name) {\n",
    "  ggplot(combined_metrics, aes(x = Position, y = .data[[metric_name]], fill = Model)) +\n",
    "    geom_bar(stat = \"identity\", position = \"dodge\") +\n",
    "    labs(\n",
    "      title = paste(metric_name, \"by Position and Model Type\"),\n",
    "      y = metric_name,\n",
    "      x = \"Position\"\n",
    "    ) +\n",
    "    theme_minimal() +\n",
    "    theme(legend.position = \"bottom\")\n",
    "}\n",
    "\n",
    "# Plot RMSE comparison\n",
    "rmse_plot <- plot_metric_comparison(\"RMSE\")\n",
    "print(rmse_plot)\n",
    "\n",
    "# Plot R² comparison\n",
    "r2_plot <- plot_metric_comparison(\"R_Squared\")\n",
    "print(r2_plot)\n",
    "\n",
    "# Calculate percentage improvement\n",
    "comparison_df <- combined_metrics %>%\n",
    "  select(Model, Position, RMSE, MAE, R_Squared) %>%\n",
    "  pivot_wider(\n",
    "    names_from = Model,\n",
    "    values_from = c(RMSE, MAE, R_Squared)\n",
    "  ) %>%\n",
    "  mutate(\n",
    "    RMSE_improvement = (RMSE_LSTM - RMSE_RandomForest) / RMSE_LSTM * 100,\n",
    "    MAE_improvement = (MAE_LSTM - MAE_RandomForest) / MAE_LSTM * 100,\n",
    "    R2_improvement = (R_Squared_RandomForest - R_Squared_LSTM) / R_Squared_LSTM * 100\n",
    "  )\n",
    "\n",
    "print(comparison_df)"
   ]
  },
  {
   "cell_type": "markdown",
   "id": "27269b0b",
   "metadata": {},
   "source": [
    "# 6. RandomForest for Feature Importance Analysis\n",
    "\n",
    "One key advantage of RandomForest models is their ability to provide feature importance metrics. We'll:\n",
    "\n",
    "1. Extract and visualize variable importance for each position\n",
    "2. Compare which features matter most for different positions\n",
    "3. Analyze how feature importance aligns with domain knowledge of FPL\n",
    "4. Use these insights to potentially improve both model types"
   ]
  },
  {
   "cell_type": "code",
   "execution_count": 16,
   "id": "852dfc60",
   "metadata": {
    "vscode": {
     "languageId": "r"
    }
   },
   "outputs": [
    {
     "data": {
      "image/png": "[encoded data removed]",
      "text/plain": [
       "plot without title"
      ]
     },
     "metadata": {
      "image/png": {
       "height": 420,
       "width": 420
      }
     },
     "output_type": "display_data"
    },
    {
     "data": {
      "image/png": "[encoded data removed]",
      "text/plain": [
       "plot without title"
      ]
     },
     "metadata": {
      "image/png": {
       "height": 420,
       "width": 420
      }
     },
     "output_type": "display_data"
    },
    {
     "data": {
      "image/png": "[encoded data removed]",
      "text/plain": [
       "plot without title"
      ]
     },
     "metadata": {
      "image/png": {
       "height": 420,
       "width": 420
      }
     },
     "output_type": "display_data"
    },
    {
     "data": {
      "image/png": "[encoded data removed]",
      "text/plain": [
       "plot without title"
      ]
     },
     "metadata": {
      "image/png": {
       "height": 420,
       "width": 420
      }
     },
     "output_type": "display_data"
    },
    {
     "data": {
      "image/png": "[encoded data removed]",
      "text/plain": [
       "plot without title"
      ]
     },
     "metadata": {
      "image/png": {
       "height": 420,
       "width": 420
      }
     },
     "output_type": "display_data"
    },
    {
     "data": {
      "image/png": "[encoded data removed]",
      "text/plain": [
       "plot without title"
      ]
     },
     "metadata": {
      "image/png": {
       "height": 420,
       "width": 420
      }
     },
     "output_type": "display_data"
    },
    {
     "data": {
      "image/png": "[encoded data removed]",
      "text/plain": [
       "plot without title"
      ]
     },
     "metadata": {
      "image/png": {
       "height": 420,
       "width": 420
      }
     },
     "output_type": "display_data"
    },
    {
     "data": {
      "image/png": "[encoded data removed]",
      "text/plain": [
       "plot without title"
      ]
     },
     "metadata": {
      "image/png": {
       "height": 420,
       "width": 420
      }
     },
     "output_type": "display_data"
    }
   ],
   "source": [
    "# Function to extract and plot feature importance\n",
    "plot_feature_importance <- function(rf_model, position, n_top = 15) {\n",
    "  # Extract importance measures - modified to access directly\n",
    "  imp <- rf_model$importance\n",
    "  \n",
    "  imp_df <- data.frame(\n",
    "    Feature = rownames(imp),\n",
    "    IncMSE = imp[, \"%IncMSE\"],\n",
    "    IncNodePurity = imp[, \"IncNodePurity\"]\n",
    "  ) %>%\n",
    "    arrange(desc(IncMSE))\n",
    "  \n",
    "  # Take top N features\n",
    "  top_features <- head(imp_df, n_top)\n",
    "  \n",
    "  # Create importance plot\n",
    "  ggplot(top_features, aes(x = reorder(Feature, IncMSE), y = IncMSE)) +\n",
    "    geom_bar(stat = \"identity\", fill = \"steelblue\") +\n",
    "    coord_flip() +\n",
    "    labs(\n",
    "      title = paste(\"Feature Importance for\", position, \"RandomForest Model\"),\n",
    "      subtitle = \"Based on % Increase in MSE when Feature is Permuted\",\n",
    "      x = \"Feature\",\n",
    "      y = \"% Increase in MSE\"\n",
    "    ) +\n",
    "    theme_minimal()\n",
    "}\n",
    "\n",
    "# Create importance plots for each position\n",
    "gk_imp_plot <- plot_feature_importance(rf_models$gk$model, \"Goalkeeper\")\n",
    "def_imp_plot <- plot_feature_importance(rf_models$def$model, \"Defender\")\n",
    "mid_imp_plot <- plot_feature_importance(rf_models$mid$model, \"Midfielder\")\n",
    "fwd_imp_plot <- plot_feature_importance(rf_models$fwd$model, \"Forward\")\n",
    "\n",
    "# Display plots\n",
    "print(gk_imp_plot)\n",
    "print(def_imp_plot)\n",
    "print(mid_imp_plot)\n",
    "print(fwd_imp_plot)\n",
    "\n",
    "# Create a combined feature importance dataset across positions\n",
    "extract_top_features <- function(rf_model, position, n_top = 10) {\n",
    "  imp <- rf_model$importance\n",
    "  imp_df <- data.frame(\n",
    "    Feature = rownames(imp),\n",
    "    Importance = imp[, \"%IncMSE\"],\n",
    "    Position = position\n",
    "  ) %>%\n",
    "    arrange(desc(Importance)) %>%\n",
    "    head(n_top)\n",
    "  \n",
    "  return(imp_df)\n",
    "}\n",
    "combined_importance <- bind_rows(\n",
    "  extract_top_features(rf_models$gk$model, \"GK\"),\n",
    "  extract_top_features(rf_models$def$model, \"DEF\"),\n",
    "  extract_top_features(rf_models$mid$model, \"MID\"),\n",
    "  extract_top_features(rf_models$fwd$model, \"FWD\")\n",
    ")\n",
    "\n",
    "# Plot combined importance\n",
    "ggplot(combined_importance, aes(x = reorder(Feature, Importance), y = Importance, fill = Position)) +\n",
    "  geom_bar(stat = \"identity\") +\n",
    "  facet_wrap(~ Position, scales = \"free_y\") +\n",
    "  coord_flip() +\n",
    "  labs(\n",
    "    title = \"Top Feature Importance by Position\",\n",
    "    x = \"Feature\",\n",
    "    y = \"Importance (% Increase in MSE)\"\n",
    "  ) +\n",
    "  theme_minimal() +\n",
    "  theme(legend.position = \"none\")\n",
    "\n",
    "# Optional: Partial Dependence Plots for key features\n",
    "# For midfielders as an example\n",
    "if (requireNamespace(\"pdp\", quietly = TRUE)) {\n",
    "  # Choose a few key features from the importance analysis\n",
    "  top_mid_features <- head(extract_top_features(rf_models$mid$model, \"MID\")$Feature, 3)\n",
    "  \n",
    "  for (feature in top_mid_features) {\n",
    "    pdp_plot <- partial(rf_models$mid$model, pred.var = feature, \n",
    "                   train = rf_mid_data$train[, c(feature, mid_features$features)]) %>%\n",
    "      autoplot() +\n",
    "      labs(title = paste(\"Partial Dependence Plot for\", feature, \"- Midfielders\"))\n",
    "    \n",
    "    print(pdp_plot)\n",
    "  }\n",
    "}"
   ]
  },
  {
   "cell_type": "markdown",
   "id": "89624967",
   "metadata": {},
   "source": [
    "# Conclusion\n",
    "\n",
    "We've successfully built RandomForest models for FPL prediction and compared them with our existing LSTM models. Key findings:\n",
    "\n",
    "1. **Performance Comparison**: [Summarize which model performed better for which positions]\n",
    "\n",
    "2. **Feature Importance**: RandomForest models revealed that [summarize key influential features]\n",
    "\n",
    "3. **Model Characteristics**:\n",
    "   - LSTM models better capture sequential patterns and player form over time\n",
    "   - RandomForest models handle non-linear relationships and interactions between features well\n",
    "   - [Additional observations on model strengths/weaknesses]\n",
    "\n",
    "4. **Potential Improvements**:\n",
    "   - Ensemble approach combining both model types\n",
    "   - Using RandomForest feature importance to inform LSTM feature selection\n",
    "   - More extensive hyperparameter tuning\n",
    "   - [Other improvement ideas]\n",
    "\n",
    "This analysis demonstrates the value of comparing different modeling approaches for the same prediction task."
   ]
  },
  {
   "cell_type": "code",
   "execution_count": 17,
   "id": "8fb5060f",
   "metadata": {
    "vscode": {
     "languageId": "r"
    }
   },
   "outputs": [
    {
     "name": "stdout",
     "output_type": "stream",
     "text": [
      "[1] \"RandomForest models and predictions saved successfully.\"\n"
     ]
    }
   ],
   "source": [
    "# Save the randomforest models and evaluation results\n",
    "saveRDS(rf_models, \"C:/Users/peram/Documents/test/R Forecast/rf_models.rds\")\n",
    "saveRDS(rf_evaluations, \"C:/Users/peram/Documents/test/R Forecast/rf_evaluations.rds\")\n",
    "saveRDS(combined_metrics, \"C:/Users/peram/Documents/test/R Forecast/model_comparison_metrics.rds\")\n",
    "\n",
    "# Export current forecasts from RandomForest models to CSV\n",
    "rf_predictions <- bind_rows(\n",
    "  rf_evaluations$gk$predictions,\n",
    "  rf_evaluations$def$predictions,\n",
    "  rf_evaluations$mid$predictions,\n",
    "  rf_evaluations$fwd$predictions\n",
    ")\n",
    "\n",
    "write_csv(rf_predictions, \"C:/Users/peram/Documents/test/R Forecast/RandomForest_Predictions.csv\")\n",
    "print(\"RandomForest models and predictions saved successfully.\")"
   ]
  }
 ],
 "metadata": {
  "kernelspec": {
   "display_name": "R",
   "language": "R",
   "name": "ir"
  },
  "language_info": {
   "codemirror_mode": "r",
   "file_extension": ".r",
   "mimetype": "text/x-r-source",
   "name": "R",
   "pygments_lexer": "r",
   "version": "4.4.2"
  }
 },
 "nbformat": 4,
 "nbformat_minor": 5
}
